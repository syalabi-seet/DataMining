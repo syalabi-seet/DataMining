{
 "cells": [
  {
   "cell_type": "markdown",
   "id": "c5b30ef8-32e8-4422-a8c2-ba4daa1c1466",
   "metadata": {},
   "source": [
    "----\n",
    "<img src=\"../../files/refinitiv.png\" width=\"20%\" style=\"vertical-align: top;\">\n",
    "\n",
    "# Data Library for Python\n",
    "\n",
    "----"
   ]
  },
  {
   "cell_type": "markdown",
   "id": "78d803d1-5a48-4083-9454-d2991a919b13",
   "metadata": {
    "tags": []
   },
   "source": [
    "## Access layer - Search templates examples - Equity Search\n",
    "\n",
    "This notebook illustrates the Search Template functionality of the Refinitiv Data Library. The \"Equity\" template shown here are template examples that you can modify and adapt to your needs. They are defined in the \"search-templates.config.json\" configuration file. Below is a brief description of the parameters you can use for each template definition."
   ]
  },
  {
   "cell_type": "markdown",
   "id": "0682dd27-3c59-437a-ac42-ea32a20da1f6",
   "metadata": {
    "jp-MarkdownHeadingCollapsed": true,
    "tags": []
   },
   "source": [
    "**Search templates are defined using the following JSON structure:**\n",
    "\n",
    "- **description** (string): Description of the template.\n",
    "- **parameters** (object): Parameters of the template. These parameters can be used as placeholders in the request_body of the template and as named parameters of the search() method of the template. Each parameter has a name, a description, and an optional default value.\n",
    "- **request_body** (object): Body of the request sent to the Search REST API. This request body can include template parameters surrounded by '#{' and '}' (for example:  “#{my_param}”). More details on the structure of the request body can be found in the [Search API reference guide](https://apidocs.refinitiv.com/Apps/ApiDocs#/details/L2Rpc2NvdmVyeS9zZWFyY2gvdjE=/Lw==/POST/README) (access to this guide requires a Refinitiv Workspace account or RDP account to log in).\n",
    "  \n",
    "**Template example:**\n",
    "  \n",
    "```json\n",
    "\"MyTemplate\": {\n",
    "    \"description\": \"Search template example.\",\n",
    "    \"parameters\": {\n",
    "        \"name\": {\n",
    "            \"description\": \"Name of the person to search for.\",\n",
    "            \"default\": \"Edison\"\n",
    "        }\n",
    "    },\n",
    "    \"request_body\": {\n",
    "       \"Query\": \"#{name}\",\n",
    "       \"View\":\"People\",\n",
    "       \"Top\":10\n",
    "    }\n",
    "} \n",
    "```  \n",
    "\n",
    "**Example of usage:**\n",
    "\n",
    "```  \n",
    "rd.discovery.search_templates[\"MyTemplate\"].search(name=\"Pasteur\")\n",
    "```  \n",
    "  "
   ]
  },
  {
   "cell_type": "markdown",
   "id": "4732b81b-3f76-4e90-a087-65cd04979208",
   "metadata": {},
   "source": [
    "#### Learn more\n",
    "\n",
    "To learn more about the Refinitiv Data Library for Python please join the Refinitiv Developer Community. By [registering](https://developers.refinitiv.com/iam/register) and [logging](https://developers.refinitiv.com/content/devportal/en_us/initCookie.html) into the Refinitiv Developer Community portal you will have free access to a number of learning materials like \n",
    " [Quick Start guides](https://developers.refinitiv.com/en/api-catalog/refinitiv-data-platform/refinitiv-data-library-for-python/quick-start), \n",
    " [Tutorials](https://developers.refinitiv.com/en/api-catalog/refinitiv-data-platform/refinitiv-data-library-for-python/learning), \n",
    " [Documentation](https://developers.refinitiv.com/en/api-catalog/refinitiv-data-platform/refinitiv-data-library-for-python/docs)\n",
    " and much more.\n",
    "\n",
    "#### Getting Help and Support\n",
    "\n",
    "If you have any questions regarding using the API, please post them on \n",
    "the [Refinitiv Data Q&A Forum](https://community.developers.refinitiv.com/spaces/321/index.html). \n",
    "The Refinitiv Developer Community will be happy to help. "
   ]
  },
  {
   "cell_type": "markdown",
   "id": "4ab0a65a-f510-4171-879b-06026af5cd4c",
   "metadata": {},
   "source": [
    "#### Learn more\n",
    "\n",
    "To learn more about the Refinitiv Data Library for Python please join the Refinitiv Developer Community. By [registering](https://developers.refinitiv.com/iam/register) and [logging](https://developers.refinitiv.com/content/devportal/en_us/initCookie.html) into the Refinitiv Developer Community portal you will have free access to a number of learning materials like \n",
    " [Quick Start guides](https://developers.refinitiv.com/en/api-catalog/refinitiv-data-platform/refinitiv-data-library-for-python/quick-start), \n",
    " [Tutorials](https://developers.refinitiv.com/en/api-catalog/refinitiv-data-platform/refinitiv-data-library-for-python/learning), \n",
    " [Documentation](https://developers.refinitiv.com/en/api-catalog/refinitiv-data-platform/refinitiv-data-library-for-python/docs)\n",
    " and much more.\n",
    "\n",
    "#### Getting Help and Support\n",
    "\n",
    "If you have any questions regarding using the API, please post them on \n",
    "the [Refinitiv Data Q&A Forum](https://community.developers.refinitiv.com/spaces/321/index.html). \n",
    "The Refinitiv Developer Community will be happy to help. "
   ]
  },
  {
   "cell_type": "markdown",
   "id": "aed98a52-aa48-40e6-b24a-cac10621063c",
   "metadata": {},
   "source": [
    "## Set the configuration file location\n",
    "For a better ease of use, you have the option to set initialization parameters of the Refinitiv Data Library in the _refinitiv-data.config.json_ configuration file. This file must be located beside your notebook, in your user folder or in a folder defined by the _RD_LIB_CONFIG_PATH_ environment variable. The _RD_LIB_CONFIG_PATH_ environment variable is the option used by this series of examples. The following code sets this environment variable.      "
   ]
  },
  {
   "cell_type": "code",
   "execution_count": null,
   "id": "87b64fb5-c161-4551-8424-1284b1154d15",
   "metadata": {},
   "outputs": [],
   "source": [
    "import os\n",
    "os.environ[\"RD_LIB_CONFIG_PATH\"] = \"../../../Configuration\""
   ]
  },
  {
   "cell_type": "markdown",
   "id": "018d3917-d879-4651-961f-067e47ec1f2f",
   "metadata": {},
   "source": [
    "## Some Imports to start with"
   ]
  },
  {
   "cell_type": "code",
   "execution_count": 1,
   "id": "72e9936a-da3c-439f-a4c7-4a86c017581a",
   "metadata": {},
   "outputs": [
    {
     "data": {
      "text/html": [
       "        <script type=\"text/javascript\">\n",
       "        window.PlotlyConfig = {MathJaxConfig: 'local'};\n",
       "        if (window.MathJax) {MathJax.Hub.Config({SVG: {font: \"STIX-Web\"}});}\n",
       "        if (typeof require !== 'undefined') {\n",
       "        require.undef(\"plotly\");\n",
       "        requirejs.config({\n",
       "            paths: {\n",
       "                'plotly': ['https://cdn.plot.ly/plotly-2.9.0.min']\n",
       "            }\n",
       "        });\n",
       "        require(['plotly'], function(Plotly) {\n",
       "            window._Plotly = Plotly;\n",
       "        });\n",
       "        }\n",
       "        </script>\n",
       "        "
      ]
     },
     "metadata": {},
     "output_type": "display_data"
    }
   ],
   "source": [
    "import refinitiv.data as rd\n",
    "import cufflinks"
   ]
  },
  {
   "cell_type": "markdown",
   "id": "9a4038d0-89fa-46e2-93aa-513e04a8643e",
   "metadata": {},
   "source": [
    "## Open the data session\n",
    "\n",
    "The open_session() function creates and open sessions based on the information contained in the refinitiv-data.config.json configuration file. Please edit this file to set the session type and other parameters required for the session you want to open."
   ]
  },
  {
   "cell_type": "code",
   "execution_count": 2,
   "id": "9807577a-b58e-449a-863d-cff7b55050c5",
   "metadata": {},
   "outputs": [
    {
     "data": {
      "text/plain": [
       "<refinitiv.data.session.Definition object at 0x7f7f0cd87460 {name='workspace'}>"
      ]
     },
     "execution_count": 2,
     "metadata": {},
     "output_type": "execute_result"
    }
   ],
   "source": [
    "rd.open_session()"
   ]
  },
  {
   "cell_type": "markdown",
   "id": "8483d5d5-c4d2-41e0-831d-8141788ac740",
   "metadata": {},
   "source": [
    "## Load the search templates configuration file"
   ]
  },
  {
   "cell_type": "code",
   "execution_count": 7,
   "id": "5cd7d982-ac37-43e5-a420-09246c0e74df",
   "metadata": {
    "tags": []
   },
   "outputs": [
    {
     "data": {
      "text/plain": [
       "<ConfigurationSet: 0x7f7f0a688850>"
      ]
     },
     "execution_count": 7,
     "metadata": {},
     "output_type": "execute_result"
    }
   ],
   "source": [
    "rd.load_config(\"search-templates.config.json\")"
   ]
  },
  {
   "cell_type": "markdown",
   "id": "9e4763b3-8258-4b30-bb35-2169c0beac6d",
   "metadata": {},
   "source": [
    "## Equities Search Template example"
   ]
  },
  {
   "cell_type": "markdown",
   "id": "3304dcdd-c4c9-4c5f-b8fe-ebd5312a7ee3",
   "metadata": {},
   "source": [
    "### Access the template"
   ]
  },
  {
   "cell_type": "code",
   "execution_count": 8,
   "id": "4213c4fd",
   "metadata": {},
   "outputs": [],
   "source": [
    "equity = rd.discovery.search_templates[\"Equity\"]"
   ]
  },
  {
   "cell_type": "markdown",
   "id": "932cbe35-96b4-47f4-a311-f5e5399dbea8",
   "metadata": {
    "tags": []
   },
   "source": [
    "### Get help about this template"
   ]
  },
  {
   "cell_type": "code",
   "execution_count": 9,
   "id": "ff38bf27",
   "metadata": {},
   "outputs": [
    {
     "name": "stdout",
     "output_type": "stream",
     "text": [
      "Help on SearchTemplate in module refinitiv.data.discovery._search_templates:\n",
      "\n",
      "<SearchTemplate 'Equity'>\n",
      "    Search for Ordinary Shares of a particular exchange.\n",
      "    \n",
      "    Methods\n",
      "    -------\n",
      "    search\n",
      "        exchange_name\n",
      "            Name of the exchange where this equity is traded. For example: 'London Stock Exchange', 'Euronext Paris', 'Shanghai Stock Exchange', 'The Toronto Stock Exchange', 'NYSE Consolidated', etc.\n",
      "    \n",
      "        what\n",
      "            What to search for\n",
      "            default: ''\n",
      "\n"
     ]
    }
   ],
   "source": [
    "help(equity)"
   ]
  },
  {
   "cell_type": "markdown",
   "id": "87454a87-707e-463e-92b8-6bb630f4fbbe",
   "metadata": {
    "tags": []
   },
   "source": [
    "### Use the predefined parameters of the template to search for Equities of the London Stock Exchange"
   ]
  },
  {
   "cell_type": "code",
   "execution_count": 10,
   "id": "528123c4-6c04-4f01-b7d4-ef3608d89b5e",
   "metadata": {},
   "outputs": [
    {
     "data": {
      "text/html": [
       "<div>\n",
       "<style scoped>\n",
       "    .dataframe tbody tr th:only-of-type {\n",
       "        vertical-align: middle;\n",
       "    }\n",
       "\n",
       "    .dataframe tbody tr th {\n",
       "        vertical-align: top;\n",
       "    }\n",
       "\n",
       "    .dataframe thead th {\n",
       "        text-align: right;\n",
       "    }\n",
       "</style>\n",
       "<table border=\"1\" class=\"dataframe\">\n",
       "  <thead>\n",
       "    <tr style=\"text-align: right;\">\n",
       "      <th></th>\n",
       "      <th>DTSubjectName</th>\n",
       "      <th>ExchangeName</th>\n",
       "      <th>RIC</th>\n",
       "      <th>MktCapCompanyUsd</th>\n",
       "      <th>ShareholdersEquityUsd</th>\n",
       "      <th>Pe</th>\n",
       "      <th>DebtToAssets</th>\n",
       "      <th>Beta</th>\n",
       "      <th>Eps</th>\n",
       "      <th>Gics</th>\n",
       "      <th>...</th>\n",
       "      <th>RCSAssetCategory</th>\n",
       "      <th>RCSCurrencyLeaf</th>\n",
       "      <th>AssetState</th>\n",
       "      <th>BusinessEntity</th>\n",
       "      <th>PI</th>\n",
       "      <th>IssueISIN</th>\n",
       "      <th>CinCUSIP</th>\n",
       "      <th>SEDOL</th>\n",
       "      <th>CUSIP</th>\n",
       "      <th>SolvencyMargin</th>\n",
       "    </tr>\n",
       "  </thead>\n",
       "  <tbody>\n",
       "    <tr>\n",
       "      <th>0</th>\n",
       "      <td>Shell PLC</td>\n",
       "      <td>London Stock Exchange</td>\n",
       "      <td>SHEL.L</td>\n",
       "      <td>184798835503.0</td>\n",
       "      <td>171966000000.0</td>\n",
       "      <td>5.87878</td>\n",
       "      <td>0.566431</td>\n",
       "      <td>1.328381</td>\n",
       "      <td>4.78817</td>\n",
       "      <td>Energy/Energy/Oil, Gas &amp; Consumable Fuels/Inte...</td>\n",
       "      <td>...</td>\n",
       "      <td>A:1L</td>\n",
       "      <td>British Penny</td>\n",
       "      <td>AC</td>\n",
       "      <td>QUOTExEQUITY</td>\n",
       "      <td>21264014</td>\n",
       "      <td>GB00BP6MXD84</td>\n",
       "      <td>G80827101</td>\n",
       "      <td>BP6MXD8</td>\n",
       "      <td>&lt;NA&gt;</td>\n",
       "      <td>NaN</td>\n",
       "    </tr>\n",
       "    <tr>\n",
       "      <th>1</th>\n",
       "      <td>BP PLC</td>\n",
       "      <td>London Stock Exchange</td>\n",
       "      <td>BP.L</td>\n",
       "      <td>95339653075.0</td>\n",
       "      <td>75442000000.0</td>\n",
       "      <td>&lt;NA&gt;</td>\n",
       "      <td>0.68518</td>\n",
       "      <td>1.263862</td>\n",
       "      <td>-0.57601</td>\n",
       "      <td>Energy/Energy/Oil, Gas &amp; Consumable Fuels/Inte...</td>\n",
       "      <td>...</td>\n",
       "      <td>A:1L</td>\n",
       "      <td>British Penny</td>\n",
       "      <td>AC</td>\n",
       "      <td>QUOTExEQUITY</td>\n",
       "      <td>829400</td>\n",
       "      <td>GB0007980591</td>\n",
       "      <td>G12793108</td>\n",
       "      <td>0798059</td>\n",
       "      <td>&lt;NA&gt;</td>\n",
       "      <td>NaN</td>\n",
       "    </tr>\n",
       "    <tr>\n",
       "      <th>2</th>\n",
       "      <td>Glencore PLC</td>\n",
       "      <td>London Stock Exchange</td>\n",
       "      <td>GLEN.L</td>\n",
       "      <td>71482438695.0</td>\n",
       "      <td>39931000000.0</td>\n",
       "      <td>5.010718</td>\n",
       "      <td>0.710478</td>\n",
       "      <td>1.903945</td>\n",
       "      <td>1.20056</td>\n",
       "      <td>Materials/Materials/Metals &amp; Mining/Diversifie...</td>\n",
       "      <td>...</td>\n",
       "      <td>A:1L</td>\n",
       "      <td>British Penny</td>\n",
       "      <td>AC</td>\n",
       "      <td>QUOTExEQUITY</td>\n",
       "      <td>86386483</td>\n",
       "      <td>JE00B4T3BW64</td>\n",
       "      <td>G39420107</td>\n",
       "      <td>B4T3BW6</td>\n",
       "      <td>&lt;NA&gt;</td>\n",
       "      <td>NaN</td>\n",
       "    </tr>\n",
       "    <tr>\n",
       "      <th>3</th>\n",
       "      <td>AstraZeneca PLC</td>\n",
       "      <td>London Stock Exchange</td>\n",
       "      <td>AZN.L</td>\n",
       "      <td>170093321802.0</td>\n",
       "      <td>39268000000.0</td>\n",
       "      <td>&lt;NA&gt;</td>\n",
       "      <td>0.627127</td>\n",
       "      <td>0.364302</td>\n",
       "      <td>-0.84387</td>\n",
       "      <td>Health Care/Pharmaceuticals, Biotechnology &amp; L...</td>\n",
       "      <td>...</td>\n",
       "      <td>A:1L</td>\n",
       "      <td>British Penny</td>\n",
       "      <td>AC</td>\n",
       "      <td>QUOTExEQUITY</td>\n",
       "      <td>1049533</td>\n",
       "      <td>GB0009895292</td>\n",
       "      <td>G0593M107</td>\n",
       "      <td>0989529</td>\n",
       "      <td>&lt;NA&gt;</td>\n",
       "      <td>NaN</td>\n",
       "    </tr>\n",
       "    <tr>\n",
       "      <th>4</th>\n",
       "      <td>HSBC Holdings PLC</td>\n",
       "      <td>London Stock Exchange</td>\n",
       "      <td>HSBA.L</td>\n",
       "      <td>105008457539.0</td>\n",
       "      <td>175836000000.0</td>\n",
       "      <td>8.387408</td>\n",
       "      <td>0.930094</td>\n",
       "      <td>0.924488</td>\n",
       "      <td>0.68413</td>\n",
       "      <td>Financials/Banks/Banks/Diversified Banks</td>\n",
       "      <td>...</td>\n",
       "      <td>A:1L</td>\n",
       "      <td>British Penny</td>\n",
       "      <td>AC</td>\n",
       "      <td>QUOTExEQUITY</td>\n",
       "      <td>1049324</td>\n",
       "      <td>GB0005405286</td>\n",
       "      <td>G4634U169</td>\n",
       "      <td>0540528</td>\n",
       "      <td>&lt;NA&gt;</td>\n",
       "      <td>NaN</td>\n",
       "    </tr>\n",
       "    <tr>\n",
       "      <th>...</th>\n",
       "      <td>...</td>\n",
       "      <td>...</td>\n",
       "      <td>...</td>\n",
       "      <td>...</td>\n",
       "      <td>...</td>\n",
       "      <td>...</td>\n",
       "      <td>...</td>\n",
       "      <td>...</td>\n",
       "      <td>...</td>\n",
       "      <td>...</td>\n",
       "      <td>...</td>\n",
       "      <td>...</td>\n",
       "      <td>...</td>\n",
       "      <td>...</td>\n",
       "      <td>...</td>\n",
       "      <td>...</td>\n",
       "      <td>...</td>\n",
       "      <td>...</td>\n",
       "      <td>...</td>\n",
       "      <td>...</td>\n",
       "      <td>...</td>\n",
       "    </tr>\n",
       "    <tr>\n",
       "      <th>4995</th>\n",
       "      <td>IWG Plc</td>\n",
       "      <td>London Stock Exchange</td>\n",
       "      <td>IWGl.TRE</td>\n",
       "      <td>1475369189.0</td>\n",
       "      <td>&lt;NA&gt;</td>\n",
       "      <td>NaN</td>\n",
       "      <td>&lt;NA&gt;</td>\n",
       "      <td>NaN</td>\n",
       "      <td>-0.16891</td>\n",
       "      <td>Real Estate/Real Estate/Real Estate Management...</td>\n",
       "      <td>...</td>\n",
       "      <td>A:1L</td>\n",
       "      <td>British Penny</td>\n",
       "      <td>AC</td>\n",
       "      <td>QUOTExEQUITY</td>\n",
       "      <td>279328150</td>\n",
       "      <td>JE00BYVQYS01</td>\n",
       "      <td>G4969N103</td>\n",
       "      <td>&lt;NA&gt;</td>\n",
       "      <td>&lt;NA&gt;</td>\n",
       "      <td>NaN</td>\n",
       "    </tr>\n",
       "    <tr>\n",
       "      <th>4996</th>\n",
       "      <td>Synthomer PLC</td>\n",
       "      <td>London Stock Exchange</td>\n",
       "      <td>SYNTl.TRE</td>\n",
       "      <td>538140068.0</td>\n",
       "      <td>1137334940.0</td>\n",
       "      <td>NaN</td>\n",
       "      <td>0.578522</td>\n",
       "      <td>NaN</td>\n",
       "      <td>0.2021</td>\n",
       "      <td>Materials/Materials/Chemicals/Specialty Chemicals</td>\n",
       "      <td>...</td>\n",
       "      <td>A:1L</td>\n",
       "      <td>British Penny</td>\n",
       "      <td>AC</td>\n",
       "      <td>QUOTExEQUITY</td>\n",
       "      <td>279328163</td>\n",
       "      <td>GB0009887422</td>\n",
       "      <td>G8650C102</td>\n",
       "      <td>&lt;NA&gt;</td>\n",
       "      <td>&lt;NA&gt;</td>\n",
       "      <td>NaN</td>\n",
       "    </tr>\n",
       "    <tr>\n",
       "      <th>4997</th>\n",
       "      <td>Pennon Group PLC</td>\n",
       "      <td>London Stock Exchange</td>\n",
       "      <td>PNNl.TRE</td>\n",
       "      <td>2269013800.0</td>\n",
       "      <td>1422087100.0</td>\n",
       "      <td>NaN</td>\n",
       "      <td>0.760939</td>\n",
       "      <td>NaN</td>\n",
       "      <td>0.05779</td>\n",
       "      <td>Utilities/Utilities/Water Utilities/Water Util...</td>\n",
       "      <td>...</td>\n",
       "      <td>A:1L</td>\n",
       "      <td>British Penny</td>\n",
       "      <td>AC</td>\n",
       "      <td>QUOTExEQUITY</td>\n",
       "      <td>279328173</td>\n",
       "      <td>GB00BNNTLN49</td>\n",
       "      <td>G8295T239</td>\n",
       "      <td>&lt;NA&gt;</td>\n",
       "      <td>&lt;NA&gt;</td>\n",
       "      <td>NaN</td>\n",
       "    </tr>\n",
       "    <tr>\n",
       "      <th>4998</th>\n",
       "      <td>Shaftesbury PLC</td>\n",
       "      <td>London Stock Exchange</td>\n",
       "      <td>SHBl.TRE</td>\n",
       "      <td>1559409668.0</td>\n",
       "      <td>2647458660.0</td>\n",
       "      <td>NaN</td>\n",
       "      <td>0.293124</td>\n",
       "      <td>NaN</td>\n",
       "      <td>1.01592</td>\n",
       "      <td>Real Estate/Real Estate/Equity Real Estate Inv...</td>\n",
       "      <td>...</td>\n",
       "      <td>A:1L</td>\n",
       "      <td>British Penny</td>\n",
       "      <td>AC</td>\n",
       "      <td>QUOTExEQUITY</td>\n",
       "      <td>279328175</td>\n",
       "      <td>GB0007990962</td>\n",
       "      <td>G80603106</td>\n",
       "      <td>&lt;NA&gt;</td>\n",
       "      <td>&lt;NA&gt;</td>\n",
       "      <td>NaN</td>\n",
       "    </tr>\n",
       "    <tr>\n",
       "      <th>4999</th>\n",
       "      <td>FirstGroup PLC</td>\n",
       "      <td>London Stock Exchange</td>\n",
       "      <td>FGPl.TRE</td>\n",
       "      <td>908239153.0</td>\n",
       "      <td>978110280.0</td>\n",
       "      <td>NaN</td>\n",
       "      <td>0.769138</td>\n",
       "      <td>NaN</td>\n",
       "      <td>-0.00186</td>\n",
       "      <td>Industrials/Transportation/Road &amp; Rail/Trucking</td>\n",
       "      <td>...</td>\n",
       "      <td>A:1L</td>\n",
       "      <td>British Penny</td>\n",
       "      <td>AC</td>\n",
       "      <td>QUOTExEQUITY</td>\n",
       "      <td>279328178</td>\n",
       "      <td>GB0003452173</td>\n",
       "      <td>G34604101</td>\n",
       "      <td>&lt;NA&gt;</td>\n",
       "      <td>&lt;NA&gt;</td>\n",
       "      <td>NaN</td>\n",
       "    </tr>\n",
       "  </tbody>\n",
       "</table>\n",
       "<p>5000 rows × 45 columns</p>\n",
       "</div>"
      ],
      "text/plain": [
       "          DTSubjectName           ExchangeName        RIC MktCapCompanyUsd  \\\n",
       "0             Shell PLC  London Stock Exchange     SHEL.L   184798835503.0   \n",
       "1                BP PLC  London Stock Exchange       BP.L    95339653075.0   \n",
       "2          Glencore PLC  London Stock Exchange     GLEN.L    71482438695.0   \n",
       "3       AstraZeneca PLC  London Stock Exchange      AZN.L   170093321802.0   \n",
       "4     HSBC Holdings PLC  London Stock Exchange     HSBA.L   105008457539.0   \n",
       "...                 ...                    ...        ...              ...   \n",
       "4995            IWG Plc  London Stock Exchange   IWGl.TRE     1475369189.0   \n",
       "4996      Synthomer PLC  London Stock Exchange  SYNTl.TRE      538140068.0   \n",
       "4997   Pennon Group PLC  London Stock Exchange   PNNl.TRE     2269013800.0   \n",
       "4998    Shaftesbury PLC  London Stock Exchange   SHBl.TRE     1559409668.0   \n",
       "4999     FirstGroup PLC  London Stock Exchange   FGPl.TRE      908239153.0   \n",
       "\n",
       "     ShareholdersEquityUsd        Pe DebtToAssets      Beta      Eps  \\\n",
       "0           171966000000.0   5.87878     0.566431  1.328381  4.78817   \n",
       "1            75442000000.0      <NA>      0.68518  1.263862 -0.57601   \n",
       "2            39931000000.0  5.010718     0.710478  1.903945  1.20056   \n",
       "3            39268000000.0      <NA>     0.627127  0.364302 -0.84387   \n",
       "4           175836000000.0  8.387408     0.930094  0.924488  0.68413   \n",
       "...                    ...       ...          ...       ...      ...   \n",
       "4995                  <NA>       NaN         <NA>       NaN -0.16891   \n",
       "4996          1137334940.0       NaN     0.578522       NaN   0.2021   \n",
       "4997          1422087100.0       NaN     0.760939       NaN  0.05779   \n",
       "4998          2647458660.0       NaN     0.293124       NaN  1.01592   \n",
       "4999           978110280.0       NaN     0.769138       NaN -0.00186   \n",
       "\n",
       "                                                   Gics  ... RCSAssetCategory  \\\n",
       "0     Energy/Energy/Oil, Gas & Consumable Fuels/Inte...  ...             A:1L   \n",
       "1     Energy/Energy/Oil, Gas & Consumable Fuels/Inte...  ...             A:1L   \n",
       "2     Materials/Materials/Metals & Mining/Diversifie...  ...             A:1L   \n",
       "3     Health Care/Pharmaceuticals, Biotechnology & L...  ...             A:1L   \n",
       "4              Financials/Banks/Banks/Diversified Banks  ...             A:1L   \n",
       "...                                                 ...  ...              ...   \n",
       "4995  Real Estate/Real Estate/Real Estate Management...  ...             A:1L   \n",
       "4996  Materials/Materials/Chemicals/Specialty Chemicals  ...             A:1L   \n",
       "4997  Utilities/Utilities/Water Utilities/Water Util...  ...             A:1L   \n",
       "4998  Real Estate/Real Estate/Equity Real Estate Inv...  ...             A:1L   \n",
       "4999    Industrials/Transportation/Road & Rail/Trucking  ...             A:1L   \n",
       "\n",
       "     RCSCurrencyLeaf AssetState BusinessEntity         PI     IssueISIN  \\\n",
       "0      British Penny         AC   QUOTExEQUITY   21264014  GB00BP6MXD84   \n",
       "1      British Penny         AC   QUOTExEQUITY     829400  GB0007980591   \n",
       "2      British Penny         AC   QUOTExEQUITY   86386483  JE00B4T3BW64   \n",
       "3      British Penny         AC   QUOTExEQUITY    1049533  GB0009895292   \n",
       "4      British Penny         AC   QUOTExEQUITY    1049324  GB0005405286   \n",
       "...              ...        ...            ...        ...           ...   \n",
       "4995   British Penny         AC   QUOTExEQUITY  279328150  JE00BYVQYS01   \n",
       "4996   British Penny         AC   QUOTExEQUITY  279328163  GB0009887422   \n",
       "4997   British Penny         AC   QUOTExEQUITY  279328173  GB00BNNTLN49   \n",
       "4998   British Penny         AC   QUOTExEQUITY  279328175  GB0007990962   \n",
       "4999   British Penny         AC   QUOTExEQUITY  279328178  GB0003452173   \n",
       "\n",
       "       CinCUSIP    SEDOL CUSIP SolvencyMargin  \n",
       "0     G80827101  BP6MXD8  <NA>            NaN  \n",
       "1     G12793108  0798059  <NA>            NaN  \n",
       "2     G39420107  B4T3BW6  <NA>            NaN  \n",
       "3     G0593M107  0989529  <NA>            NaN  \n",
       "4     G4634U169  0540528  <NA>            NaN  \n",
       "...         ...      ...   ...            ...  \n",
       "4995  G4969N103     <NA>  <NA>            NaN  \n",
       "4996  G8650C102     <NA>  <NA>            NaN  \n",
       "4997  G8295T239     <NA>  <NA>            NaN  \n",
       "4998  G80603106     <NA>  <NA>            NaN  \n",
       "4999  G34604101     <NA>  <NA>            NaN  \n",
       "\n",
       "[5000 rows x 45 columns]"
      ]
     },
     "metadata": {},
     "output_type": "display_data"
    }
   ],
   "source": [
    "lse_equities = equity.search(exchange_name=\"London Stock Exchange\")\n",
    "display(lse_equities)"
   ]
  },
  {
   "cell_type": "markdown",
   "id": "8d74665e-3960-45f0-9fc6-dafc93ec04dc",
   "metadata": {
    "tags": []
   },
   "source": [
    "### Experiment with the returned DataFrame "
   ]
  },
  {
   "cell_type": "markdown",
   "id": "14c677c5-8074-4a6a-90a4-22c42e718a99",
   "metadata": {
    "tags": []
   },
   "source": [
    "#### Define a function to plot and display data"
   ]
  },
  {
   "cell_type": "code",
   "execution_count": 11,
   "id": "d4616194-4a5d-41ce-bf70-77d6fcfea695",
   "metadata": {},
   "outputs": [],
   "source": [
    "def plot_and_display(df, column_name):\n",
    "    df = df.sort_values(column_name,ascending = False)\n",
    "    df[['DTSubjectName', column_name]].iplot(x='DTSubjectName')\n",
    "    display(df)"
   ]
  },
  {
   "cell_type": "markdown",
   "id": "3e818e9a-4365-4db0-9b3c-3a1f7942f0d8",
   "metadata": {
    "tags": []
   },
   "source": [
    "#### Get the Equities by Market Cap"
   ]
  },
  {
   "cell_type": "code",
   "execution_count": 12,
   "id": "823fe324-21fd-442f-9028-202d9732a4b3",
   "metadata": {
    "tags": []
   },
   "outputs": [
    {
     "data": {
      "application/vnd.plotly.v1+json": {
       "config": {
        "linkText": "Export to plot.ly",
        "plotlyServerURL": "https://plot.ly",
        "showLink": true
       },
       "data": [
        {
         "line": {
          "color": "rgba(255, 153, 51, 1.0)",
          "dash": "solid",
          "shape": "linear",
          "width": 1.3
         },
         "mode": "lines",
         "name": "MktCapCompanyUsd",
         "text": "",
         "type": "scatter",
         "x": [
          "Apple Inc",
          "Apple Inc",
          "Microsoft Corp",
          "Microsoft Corp",
          "Alphabet Inc",
          "Alphabet Inc",
          "Alphabet Inc",
          "Alphabet Inc",
          "Amazon.com Inc",
          "Amazon.com Inc",
          "Tesla Inc",
          "Tesla Inc",
          "Berkshire Hathaway Inc",
          "Berkshire Hathaway Inc",
          "Berkshire Hathaway Inc",
          "UnitedHealth Group Inc",
          "UnitedHealth Group Inc",
          "Johnson & Johnson",
          "Johnson & Johnson",
          "Exxon Mobil Corp",
          "Exxon Mobil Corp",
          "Visa Inc",
          "Visa Inc",
          "Meta Platforms Inc",
          "Meta Platforms Inc",
          "Walmart Inc",
          "Walmart Inc",
          "Tencent Holdings Ltd",
          "Tencent Holdings Ltd",
          "NVIDIA Corp",
          "NVIDIA Corp",
          "JPMorgan Chase & Co",
          "JPMorgan Chase & Co",
          "Eli Lilly and Co",
          "Eli Lilly and Co",
          "LVMH Moet Hennessy Louis Vuitton SE",
          "LVMH Moet Hennessy Louis Vuitton SE",
          "Chevron Corp",
          "Chevron Corp",
          "Procter & Gamble Co",
          "Procter & Gamble Co",
          "Home Depot Inc",
          "Home Depot Inc",
          "Nestle SA",
          "Nestle SA",
          "Nestle SA",
          "Nestle SA",
          "Mastercard Inc",
          "Mastercard Inc",
          "Roche Holding AG",
          "Bank of America Corp",
          "Bank of America Corp",
          "Abbvie Inc",
          "Abbvie Inc",
          "Pfizer Inc",
          "Pfizer Inc",
          "Coca-Cola Co",
          "Coca-Cola Co",
          "PepsiCo Inc",
          "PepsiCo Inc",
          "Toyota Motor Corp",
          "Toyota Motor Corp",
          "Merck & Co Inc",
          "Merck & Co Inc",
          "Thermo Fisher Scientific Inc",
          "Costco Wholesale Corp",
          "Costco Wholesale Corp",
          "Broadcom Inc",
          "Broadcom Inc",
          "Danaher Corp",
          "Danaher Corp",
          "ASML Holding NV",
          "ASML Holding NV",
          "Shell PLC",
          "Shell PLC",
          "Walt Disney Co",
          "Walt Disney Co",
          "Novo Nordisk A/S",
          "Novo Nordisk A/S",
          "Novartis AG",
          "Novartis AG",
          "Abbott Laboratories",
          "Abbott Laboratories",
          "Oracle Corp",
          "T-Mobile US Inc",
          "McDonald's Corp",
          "McDonald's Corp",
          "L'Oreal SA",
          "L'Oreal SA",
          "Accenture PLC",
          "Accenture PLC",
          "Cisco Systems Inc",
          "Cisco Systems Inc",
          "AstraZeneca PLC",
          "AstraZeneca PLC",
          "Verizon Communications Inc",
          "Wells Fargo & Co",
          "Wells Fargo & Co",
          "Nextera Energy Inc",
          "Salesforce Inc",
          "Salesforce Inc",
          "Texas Instruments Inc",
          "Bristol-Myers Squibb Co",
          "Bristol-Myers Squibb Co",
          "Conocophillips",
          "United Parcel Service Inc",
          "United Parcel Service Inc",
          "Charles Schwab Corp",
          "Charles Schwab Corp",
          "Nike Inc",
          "Nike Inc",
          "Morgan Stanley",
          "Morgan Stanley",
          "Linde PLC",
          "Linde PLC",
          "Qualcomm Inc",
          "Qualcomm Inc",
          "Adobe Inc",
          "Adobe Inc",
          "Comcast Corp",
          "Comcast Corp",
          "Philip Morris International Inc",
          "Hermes International SCA",
          "Hermes International SCA",
          "BHP Group Ltd",
          "BHP Group Ltd",
          "CVS Health Corp",
          "CVS Health Corp",
          "TotalEnergies SE",
          "TotalEnergies SE",
          "Royal Bank of Canada",
          "Royal Bank of Canada",
          "Raytheon Technologies Corp",
          "Union Pacific Corp",
          "Amgen Inc",
          "Lowe's Companies Inc",
          "Honeywell International Inc",
          "Toronto-Dominion Bank",
          "Toronto-Dominion Bank",
          "Intuit Inc",
          "Elevance Health Inc",
          "Elevance Health Inc",
          "International Business Machines Corp",
          "International Business Machines Corp",
          "AT&T Inc",
          "AT&T Inc",
          "Intel Corp",
          "Intel Corp",
          "Medtronic PLC",
          "Medtronic PLC",
          "Equinor ASA",
          "Equinor ASA",
          "Prosus NV",
          "Prosus NV",
          "Blackstone Inc",
          "Unilever PLC",
          "Unilever PLC",
          "Christian Dior SE",
          "Christian Dior SE",
          "Advanced Micro Devices Inc",
          "Advanced Micro Devices Inc",
          "PayPal Holdings Inc",
          "PayPal Holdings Inc",
          "American Express Co",
          "American Express Co",
          "Deere & Co",
          "Deere & Co",
          "S&P Global Inc",
          "S&P Global Inc",
          "Lockheed Martin Corp",
          "Lockheed Martin Corp",
          "SAP SE",
          "SAP SE",
          "Goldman Sachs Group Inc",
          "Goldman Sachs Group Inc",
          "Netflix Inc",
          "Netflix Inc",
          "HSBC Holdings PLC",
          "HSBC Holdings PLC",
          "Starbucks Corp",
          "Starbucks Corp",
          "American Tower Corp",
          "Automatic Data Processing Inc",
          "Sanofi SA",
          "Sanofi SA",
          "Prologis Inc",
          "BP PLC",
          "BP PLC",
          "BP PLC",
          "BP PLC",
          "Diageo PLC",
          "Diageo PLC",
          "Caterpillar Inc",
          "Caterpillar Inc",
          "BYD Co Ltd",
          "BYD Co Ltd",
          "Cigna Corp",
          "Cigna Corp",
          "BlackRock Inc",
          "BlackRock Inc",
          "Siemens AG",
          "Siemens AG",
          "Deutsche Telekom AG",
          "Deutsche Telekom AG",
          "ServiceNow Inc",
          "ServiceNow Inc",
          "Citigroup Inc",
          "Citigroup Inc",
          "Gazprom PAO",
          "JD.Com Inc",
          "Gilead Sciences Inc",
          "Gilead Sciences Inc",
          "British American Tobacco PLC",
          "British American Tobacco PLC",
          "Stryker Corp",
          "Stryker Corp",
          "Regeneron Pharmaceuticals Inc",
          "Regeneron Pharmaceuticals Inc",
          "Estee Lauder Companies Inc",
          "Estee Lauder Companies Inc",
          "Anheuser-Busch Inbev SA",
          "Anheuser-Busch Inbev SA",
          "Marsh & McLennan Companies Inc",
          "Enbridge Inc",
          "Enbridge Inc",
          "Mondelez International Inc",
          "Boeing Co",
          "Boeing Co",
          "Analog Devices Inc",
          "Vertex Pharmaceuticals Inc",
          "Volkswagen AG",
          "Volkswagen AG",
          "Altria Group Inc",
          "Altria Group Inc",
          "Applied Materials Inc",
          "Applied Materials Inc",
          "TJX Companies Inc",
          "TJX Companies Inc",
          "Northrop Grumman Corp",
          "General Electric Co",
          "General Electric Co",
          "EOG Resources Inc",
          "Southern Co",
          "Duke Energy Corp",
          "Zoetis Inc",
          "Target Corp",
          "Target Corp",
          "Intuitive Surgical Inc",
          "Intuitive Surgical Inc",
          "Airbus SE",
          "Airbus SE",
          "Progressive Corp",
          "Glencore PLC",
          "Glencore PLC",
          "Airbnb Inc",
          "Airbnb Inc",
          "Brookfield Asset Management Inc",
          "Brookfield Asset Management Inc",
          "Rio Tinto PLC",
          "Rio Tinto PLC",
          "Waste Management Inc",
          "Booking Holdings Inc",
          "Booking Holdings Inc",
          "Schneider Electric SE",
          "Schneider Electric SE",
          "Becton Dickinson and Co",
          "EssilorLuxottica SA",
          "EssilorLuxottica SA",
          "Industria de Diseno Textil SA",
          "Industria de Diseno Textil SA",
          "Allianz SE",
          "Allianz SE",
          "3M Co",
          "3M Co",
          "SoftBank Group Corp",
          "SoftBank Group Corp",
          "PNC Financial Services Group Inc",
          "CME Group Inc",
          "Fiserv Inc",
          "Humana Inc",
          "Crown Castle Inc",
          "Occidental Petroleum Corp",
          "Occidental Petroleum Corp",
          "US Bancorp",
          "General Dynamics Corp",
          "Bank of Montreal",
          "Bank of Montreal",
          "L'Air Liquide Societe Anonyme pour l'Etude et l'Exploitation des Procedes George",
          "L'Air Liquide Societe Anonyme pour l'Etude et l'Exploitation des Procedes George",
          "Zurich Insurance Group AG",
          "Zurich Insurance Group AG",
          "Micron Technology Inc",
          "Micron Technology Inc",
          "Iberdrola SA",
          "Iberdrola SA",
          "GSK plc",
          "GSK plc",
          "Pioneer Natural Resources Co",
          "Canadian Natural Resources Ltd",
          "Illinois Tool Works Inc",
          "Aon PLC",
          "CSX Corp",
          "Colgate-Palmolive Co",
          "Snowflake Inc.",
          "Snowflake Inc.",
          "Boston Scientific Corp",
          "Schlumberger NV",
          "Schlumberger NV",
          "Bank of Nova Scotia",
          "Bank of Nova Scotia",
          "HCA Healthcare Inc",
          "HCA Healthcare Inc",
          "Activision Blizzard Inc",
          "Activision Blizzard Inc",
          "Uber Technologies Inc",
          "Uber Technologies Inc",
          "Eaton Corporation PLC",
          "Dominion Energy Inc",
          "Mercedes Benz Group AG",
          "Mercedes Benz Group AG",
          "Sherwin-Williams Co",
          "Kering SA",
          "Kering SA",
          "Dollar General Corp",
          "Lam Research Corp",
          "Nintendo Co Ltd",
          "Nintendo Co Ltd",
          "Edwards Lifesciences Corp",
          "Edwards Lifesciences Corp",
          "Air Products and Chemicals Inc",
          "Marathon Petroleum Corp",
          "Keurig Dr Pepper Inc",
          "AXA SA",
          "Charter Communications Inc",
          "BNP Paribas SA",
          "BNP Paribas SA",
          "Equinix Inc",
          "Equinix Inc",
          "Compagnie Financiere Richemont SA",
          "Compagnie Financiere Richemont SA",
          "UBS Group AG",
          "UBS Group AG",
          "Intercontinental Exchange Inc",
          "Intercontinental Exchange Inc",
          "MetLife Inc",
          "MetLife Inc",
          "Norfolk Southern Corp",
          "Public Storage",
          "Thomson Reuters Corp",
          "Thomson Reuters Corp",
          "Mckesson Corp",
          "General Motors Co",
          "General Motors Co",
          "Abb Ltd",
          "Abb Ltd",
          "Heineken NV",
          "Heineken NV",
          "Ford Motor Co",
          "Ford Motor Co",
          "Siemens Healthineers AG",
          "Siemens Healthineers AG",
          "Westpac Banking Corp",
          "Moderna Inc",
          "Moderna Inc",
          "Synopsys Inc",
          "Monster Beverage Corp",
          "Atlas Copco AB",
          "Atlas Copco AB",
          "Atlas Copco AB",
          "Atlas Copco AB",
          "Relx PLC",
          "Relx PLC",
          "Fidelity National Information Services Inc",
          "Investor AB",
          "Investor AB",
          "Archer-Daniels-Midland Co",
          "Archer-Daniels-Midland Co",
          "Sempra Energy",
          "Dassault Systemes SE",
          "Dassault Systemes SE",
          "Moody's Corp",
          "Marriott International Inc",
          "Vinci SA",
          "Vinci SA",
          "London Stock Exchange Group PLC",
          "London Stock Exchange Group PLC",
          "Reckitt Benckiser Group PLC",
          "Reckitt Benckiser Group PLC",
          "Emerson Electric Co",
          "MercadoLibre Inc",
          "Pernod Ricard SA",
          "Pernod Ricard SA",
          "KLA Corp",
          "Valero Energy Corp",
          "Valero Energy Corp",
          "Cadence Design Systems Inc",
          "Devon Energy Corp",
          "Devon Energy Corp",
          "Bayerische Motoren Werke AG",
          "Bayerische Motoren Werke AG",
          "O'Reilly Automotive Inc",
          "Centene Corp",
          "Hershey Co",
          "General Mills Inc",
          "General Mills Inc",
          "Bayer AG",
          "Bayer AG",
          "Electricite de France SA",
          "Electricite de France SA",
          "American Electric Power Company Inc",
          "Nutrien Ltd",
          "Nutrien Ltd",
          "Republic Services Inc",
          "Phillips 66",
          "Phillips 66",
          "Corteva Inc",
          "Autodesk Inc",
          "Autozone Inc",
          "Mitsubishi Corp",
          "Mitsubishi Corp",
          "Freeport-McMoRan Inc",
          "Freeport-McMoRan Inc",
          "Cheniere Energy Inc",
          "Cheniere Energy Inc",
          "Woodside Energy Group Ltd",
          "Woodside Energy Group Ltd",
          "Woodside Energy Group Ltd",
          "Amphenol Corp",
          "Adyen NV",
          "Adyen NV",
          "L3harris Technologies Inc",
          "Fortinet Inc",
          "Fortinet Inc",
          "Chipotle Mexican Grill Inc",
          "Cintas Corp",
          "Takeda Pharmaceutical Co Ltd",
          "Takeda Pharmaceutical Co Ltd",
          "Banco Santander SA",
          "Banco Santander SA",
          "Safran SA",
          "Safran SA",
          "Kraft Heinz Co",
          "Anglo American PLC",
          "Anglo American PLC",
          "Enel SpA",
          "Paychex Inc",
          "CrowdStrike Holdings Inc",
          "CrowdStrike Holdings Inc",
          "Eni SpA",
          "Eni SpA",
          "Canadian Imperial Bank of Commerce",
          "Canadian Imperial Bank of Commerce",
          "FedEx Corp",
          "FedEx Corp",
          "Workday Inc",
          "Roper Technologies Inc",
          "Kinder Morgan Inc",
          "Lululemon Athletica Inc",
          "Lululemon Athletica Inc",
          "Motorola Solutions Inc",
          "Hess Corp",
          "Agilent Technologies Inc",
          "Twitter Inc",
          "Twitter Inc",
          "American International Group Inc",
          "Shopify Inc",
          "Shopify Inc",
          "Deutsche Post AG",
          "Deutsche Post AG",
          "Kimberly-Clark Corp",
          "Stellantis NV",
          "Stellantis NV",
          "Exelon Corp",
          "Biogen Inc",
          "Arthur J. Gallagher & Co.",
          "Sysco Corp",
          "Lonza Group AG",
          "Lonza Group AG",
          "Travelers Companies Inc",
          "Capital One Financial Corp",
          "Aflac Inc",
          "Southern Copper Corp",
          "Microchip Technology Inc",
          "National Grid PLC",
          "Williams Companies Inc",
          "BASF SE",
          "BASF SE",
          "Arista Networks Inc",
          "Arista Networks Inc",
          "Ferrari NV",
          "Ferrari NV",
          "Realty Income Corp",
          "Johnson Controls International PLC",
          "Block Inc",
          "Block Inc",
          "PG&E Corp",
          "MSCI Inc",
          "MSCI Inc",
          "Allstate Corp",
          "IQVIA Holdings Inc",
          "Compass Group PLC",
          "Compass Group PLC",
          "Trane Technologies PLC",
          "Enphase Energy Inc",
          "Enphase Energy Inc",
          "Xcel Energy Inc",
          "Neste Oyj",
          "Neste Oyj",
          "Prudential Financial Inc",
          "Newmont Corporation",
          "Newmont Corporation",
          "AP Moeller - Maersk A/S",
          "AP Moeller - Maersk A/S",
          "AP Moeller - Maersk A/S",
          "Hilton Worldwide Holdings Inc",
          "Muenchener Rueckversicherungs Gesellschaft in Muenchen AG",
          "Muenchener Rueckversicherungs Gesellschaft in Muenchen AG",
          "Illumina Inc",
          "Illumina Inc",
          "Electronic Arts Inc",
          "Electronic Arts Inc",
          "Orsted A/S",
          "Orsted A/S",
          "Resmed Inc",
          "Parker-Hannifin Corp",
          "ING Groep NV",
          "ING Groep NV",
          "Universal Music Group NV",
          "Universal Music Group NV",
          "Bank of New York Mellon Corp",
          "Bank of New York Mellon Corp",
          "Infineon Technologies AG",
          "Infineon Technologies AG",
          "M&T Bank Corp",
          "Las Vegas Sands Corp",
          "Las Vegas Sands Corp",
          "Nordea Bank Abp",
          "Nordea Bank Abp",
          "Global Payments Inc",
          "Sika AG",
          "Sika AG",
          "Albemarle Corp",
          "Albemarle Corp",
          "Brown-Forman Corp",
          "Intesa Sanpaolo SpA",
          "Intesa Sanpaolo SpA",
          "Dollar Tree Inc",
          "Yum! Brands Inc",
          "Lloyds Banking Group PLC",
          "Lloyds Banking Group PLC",
          "Kroger Co",
          "Deutsche Boerse AG",
          "Deutsche Boerse AG",
          "Sartorius Stedim Biotech SA",
          "Sartorius Stedim Biotech SA",
          "STMicroelectronics NV",
          "STMicroelectronics NV",
          "Danone SA",
          "Danone SA",
          "Cummins Inc",
          "Paccar Inc",
          "Hapag Lloyd AG",
          "Cognizant Technology Solutions Corp",
          "Simon Property Group Inc",
          "Vodafone Group PLC",
          "Vodafone Group PLC",
          "Ross Stores Inc",
          "SunTrust Banks Inc",
          "Manulife Financial Corp",
          "Manulife Financial Corp",
          "Volvo AB",
          "Nucor Corp",
          "Kuaishou Technology",
          "Consolidated Edison Inc",
          "SBA Communications Corp",
          "Alcon AG",
          "Alcon AG",
          "Trade Desk Inc",
          "Datadog Inc",
          "Datadog Inc"
         ],
         "y": [
          2352758092800,
          2352758092800,
          1858506654502,
          1858506654502,
          1327921690000,
          1327921690000,
          1327921690000,
          1327921690000,
          1232184755237,
          1232184755237,
          754570921536,
          754570921536,
          615851188993,
          615851188993,
          615851188993,
          493012164959,
          493012164959,
          434103892463,
          434103892463,
          413096109560,
          413096109560,
          388257466289,
          388257466289,
          373515486638,
          373515486638,
          360776506586,
          360776506586,
          339595002788,
          339595002788,
          328904100000,
          328904100000,
          324221000941,
          324221000941,
          315249000784,
          315249000784,
          312842818795,
          312842818795,
          310312141063,
          310312141063,
          308206531265,
          308206531265,
          296727109503,
          296727109503,
          295239777889,
          295239777889,
          295239777889,
          295239777889,
          293971601710,
          293971601710,
          273309302963,
          256484829678,
          256484829678,
          253421270628,
          253421270628,
          247616961813,
          247616961813,
          243217144745,
          243217144745,
          229094084104,
          229094084104,
          225610004286,
          225610004286,
          223916605499,
          223916605499,
          214022556271,
          212591622926,
          212591622926,
          205785514420,
          205785514420,
          205350549262,
          205350549262,
          189578962086,
          189578962086,
          184798835503,
          184798835503,
          183764223921,
          183764223921,
          183391575661,
          183391575661,
          183318630364,
          183318630364,
          181041097031,
          181041097031,
          179672523231,
          177108243760,
          175902642323,
          175902642323,
          175598312314,
          175598312314,
          173533138487,
          173533138487,
          172530366572,
          172530366572,
          170093321802,
          170093321802,
          165468758234,
          164276974234,
          164276974234,
          160659993793,
          156230000000,
          156230000000,
          153320095847,
          152563981039,
          152563981039,
          147582758004,
          145875422781,
          145875422781,
          144045878628,
          144045878628,
          142895442945,
          142895442945,
          142685434374,
          142685434374,
          141431170218,
          141431170218,
          140251470000,
          140251470000,
          138251962000,
          138251962000,
          135662947032,
          135662947032,
          134817704636,
          134020748583,
          134020748583,
          133924773826,
          133924773826,
          131873653663,
          131873653663,
          131436064329,
          131436064329,
          131073556717,
          131073556717,
          125813761859,
          125282895528,
          125077531347,
          123538033850,
          119789230885,
          116589875386,
          116589875386,
          116575744556,
          114912332287,
          114912332287,
          113565897586,
          113565897586,
          113517180000,
          113517180000,
          113489840000,
          113489840000,
          113044487229,
          113044487229,
          113027558687,
          113027558687,
          111874651574,
          111874651574,
          111643050673,
          111494728820,
          111494728820,
          109983771021,
          109983771021,
          109676961946,
          109676961946,
          108512131257,
          108512131257,
          108241088297,
          108241088297,
          107378369765,
          107378369765,
          107270275000,
          107270275000,
          106726418864,
          106726418864,
          105936720915,
          105936720915,
          105478982370,
          105478982370,
          105275154557,
          105275154557,
          105008457539,
          105008457539,
          103403688000,
          103403688000,
          99700780479,
          99275474191,
          98426605093,
          98426605093,
          97347431497,
          95339653075,
          95339653075,
          95339653075,
          95339653075,
          94760269200,
          94760269200,
          94168432928,
          94168432928,
          92908836886,
          92908836886,
          89713316874,
          89713316874,
          87920790147,
          87920790147,
          87474377200,
          87474377200,
          86125638159,
          86125638159,
          84957160000,
          84957160000,
          84905349872,
          84905349872,
          84337137337,
          83230791389,
          82032895937,
          82032895937,
          81805647818,
          81805647818,
          81762670980,
          81762670980,
          81285325548,
          81285325548,
          80787656087,
          80787656087,
          79644971380,
          79644971380,
          79458582320,
          78856487493,
          78856487493,
          78451204308,
          78448393536,
          78448393536,
          78123335143,
          77455892753,
          77264705225,
          77264705225,
          77255323130,
          77255323130,
          76756802615,
          76756802615,
          76397284833,
          76397284833,
          74949888800,
          73951541198,
          73951541198,
          73888493333,
          73060080723,
          72392459430,
          72369541227,
          71989677958,
          71989677958,
          71915051844,
          71915051844,
          71850777056,
          71850777056,
          71581134000,
          71482438695,
          71482438695,
          71470363312,
          71470363312,
          71248768997,
          71248768997,
          70540557872,
          70540557872,
          68874130190,
          68561175484,
          68561175484,
          68531653081,
          68531653081,
          67542758374,
          66674732180,
          66674732180,
          66319586973,
          66319586973,
          65942775491,
          65942775491,
          65601284387,
          65601284387,
          65449130834,
          65449130834,
          65304045156,
          65010700428,
          64310206191,
          63872916917,
          63124133513,
          63099264489,
          63099264489,
          62700085981,
          62166133149,
          62050015338,
          62050015338,
          61519436401,
          61519436401,
          60761299141,
          60761299141,
          60375131760,
          60375131760,
          60291920872,
          60291920872,
          60024613640,
          60024613640,
          59948365505,
          59945126235,
          59698161712,
          59645529008,
          59569328403,
          59314285430,
          59312000000,
          59312000000,
          59125671126,
          58796120134,
          58796120134,
          58245002853,
          58245002853,
          58134002992,
          58134002992,
          57976741533,
          57976741533,
          57774012317,
          57774012317,
          57554350000,
          57451018020,
          56378927125,
          56378927125,
          56338620230,
          55700449022,
          55700449022,
          54746258628,
          54721496092,
          54379220355,
          54379220355,
          54207821865,
          54207821865,
          53852792829,
          53641975836,
          53019220512,
          52981751687,
          52900394762,
          52718228072,
          52718228072,
          52678797755,
          52678797755,
          52563634528,
          52563634528,
          52291289182,
          52291289182,
          52165582797,
          52165582797,
          52052310457,
          52052310457,
          51911774344,
          51595266430,
          51505709118,
          51505709118,
          50933761338,
          50798425696,
          50798425696,
          50601359781,
          50601359781,
          50459326505,
          50459326505,
          50293171350,
          50293171350,
          50224890336,
          50224890336,
          49822041405,
          49142486717,
          49142486717,
          49141118621,
          48568304929,
          48519242348,
          48519242348,
          48519242348,
          48519242348,
          48422328997,
          48422328997,
          48395093057,
          48369392321,
          48369392321,
          48359646557,
          48359646557,
          48256065118,
          48088523011,
          48088523011,
          48051310000,
          47767468870,
          47737883486,
          47737883486,
          47580536293,
          47580536293,
          47433487498,
          47433487498,
          47168001000,
          47003867664,
          46670719318,
          46670719318,
          46661861854,
          46523957686,
          46523957686,
          46475739000,
          46412224000,
          46412224000,
          46366761578,
          46366761578,
          46354689122,
          46189447922,
          46139720033,
          46111784648,
          46111784648,
          45872970166,
          45872970166,
          45460017501,
          45460017501,
          45054470396,
          44841033127,
          44841033127,
          44600305231,
          44550142093,
          44550142093,
          44208272000,
          44149651087,
          43758429174,
          43624020620,
          43624020620,
          43607037280,
          43607037280,
          42822751574,
          42822751574,
          42795636276,
          42795636276,
          42795636276,
          42756247206,
          42558233481,
          42558233481,
          42258431191,
          42256827849,
          42256827849,
          42196155217,
          42036101342,
          41933614309,
          41933614309,
          41917818689,
          41917818689,
          41588488332,
          41588488332,
          41530153025,
          41498112649,
          41498112649,
          41496280200,
          41298236000,
          41238335056,
          41238335056,
          41005410626,
          41005410626,
          40830814460,
          40830814460,
          40820678771,
          40820678771,
          40819200000,
          40331368298,
          40064581624,
          39533348158,
          39533348158,
          39528411181,
          39293227720,
          39266821204,
          39257127597,
          39257127597,
          39009348135,
          38934125483,
          38934125483,
          38851770882,
          38851770882,
          38684761759,
          38572107056,
          38572107056,
          38446593561,
          38325027281,
          38230671360,
          38211330896,
          38192959127,
          38192959127,
          38098248124,
          37973172000,
          37706456242,
          37595486767,
          37231909698,
          37148194738,
          37116427516,
          37102016648,
          37102016648,
          36924433578,
          36924433578,
          36899515167,
          36899515167,
          36758210121,
          36741141241,
          36680535223,
          36680535223,
          36364824197,
          36023455591,
          36023455591,
          35949313204,
          35900911445,
          35690972196,
          35690972196,
          35617275866,
          35435623140,
          35435623140,
          35187952258,
          35002496898,
          35002496898,
          34875000000,
          34842573291,
          34842573291,
          34617713558,
          34617713558,
          34617713558,
          34538268274,
          34460475899,
          34460475899,
          34329492000,
          34329492000,
          34107820017,
          34107820017,
          33972647395,
          33972647395,
          33943348964,
          33809603478,
          33559207921,
          33559207921,
          33459999224,
          33459999224,
          33423149303,
          33423149303,
          32703658053,
          32703658053,
          32630838454,
          32568332172,
          32568332172,
          32524442960,
          32524442960,
          32486262102,
          32423206393,
          32423206393,
          32421241598,
          32421241598,
          32389549566,
          32290056393,
          32290056393,
          31969241123,
          31962656104,
          31941945998,
          31941945998,
          31924961827,
          31754719000,
          31754719000,
          31723451042,
          31723451042,
          31709275524,
          31709275524,
          31699567242,
          31699567242,
          31633037588,
          31611110835,
          31568271073,
          31393300124,
          31351240097,
          31350482110,
          31350482110,
          31173180965,
          31140520361,
          31068039940,
          31068039940,
          31008926958,
          30851412807,
          30626445118,
          30600434021,
          30542516470,
          30279650681,
          30279650681,
          30174195832,
          30097149290,
          30097149290
         ]
        }
       ],
       "layout": {
        "autosize": true,
        "legend": {
         "bgcolor": "#151516",
         "font": {
          "color": "#D9D9D9"
         }
        },
        "paper_bgcolor": "#151516",
        "plot_bgcolor": "#151516",
        "template": {
         "data": {
          "bar": [
           {
            "error_x": {
             "color": "#2a3f5f"
            },
            "error_y": {
             "color": "#2a3f5f"
            },
            "marker": {
             "line": {
              "color": "#E5ECF6",
              "width": 0.5
             },
             "pattern": {
              "fillmode": "overlay",
              "size": 10,
              "solidity": 0.2
             }
            },
            "type": "bar"
           }
          ],
          "barpolar": [
           {
            "marker": {
             "line": {
              "color": "#E5ECF6",
              "width": 0.5
             },
             "pattern": {
              "fillmode": "overlay",
              "size": 10,
              "solidity": 0.2
             }
            },
            "type": "barpolar"
           }
          ],
          "carpet": [
           {
            "aaxis": {
             "endlinecolor": "#2a3f5f",
             "gridcolor": "white",
             "linecolor": "white",
             "minorgridcolor": "white",
             "startlinecolor": "#2a3f5f"
            },
            "baxis": {
             "endlinecolor": "#2a3f5f",
             "gridcolor": "white",
             "linecolor": "white",
             "minorgridcolor": "white",
             "startlinecolor": "#2a3f5f"
            },
            "type": "carpet"
           }
          ],
          "choropleth": [
           {
            "colorbar": {
             "outlinewidth": 0,
             "ticks": ""
            },
            "type": "choropleth"
           }
          ],
          "contour": [
           {
            "colorbar": {
             "outlinewidth": 0,
             "ticks": ""
            },
            "colorscale": [
             [
              0,
              "#0d0887"
             ],
             [
              0.1111111111111111,
              "#46039f"
             ],
             [
              0.2222222222222222,
              "#7201a8"
             ],
             [
              0.3333333333333333,
              "#9c179e"
             ],
             [
              0.4444444444444444,
              "#bd3786"
             ],
             [
              0.5555555555555556,
              "#d8576b"
             ],
             [
              0.6666666666666666,
              "#ed7953"
             ],
             [
              0.7777777777777778,
              "#fb9f3a"
             ],
             [
              0.8888888888888888,
              "#fdca26"
             ],
             [
              1,
              "#f0f921"
             ]
            ],
            "type": "contour"
           }
          ],
          "contourcarpet": [
           {
            "colorbar": {
             "outlinewidth": 0,
             "ticks": ""
            },
            "type": "contourcarpet"
           }
          ],
          "heatmap": [
           {
            "colorbar": {
             "outlinewidth": 0,
             "ticks": ""
            },
            "colorscale": [
             [
              0,
              "#0d0887"
             ],
             [
              0.1111111111111111,
              "#46039f"
             ],
             [
              0.2222222222222222,
              "#7201a8"
             ],
             [
              0.3333333333333333,
              "#9c179e"
             ],
             [
              0.4444444444444444,
              "#bd3786"
             ],
             [
              0.5555555555555556,
              "#d8576b"
             ],
             [
              0.6666666666666666,
              "#ed7953"
             ],
             [
              0.7777777777777778,
              "#fb9f3a"
             ],
             [
              0.8888888888888888,
              "#fdca26"
             ],
             [
              1,
              "#f0f921"
             ]
            ],
            "type": "heatmap"
           }
          ],
          "heatmapgl": [
           {
            "colorbar": {
             "outlinewidth": 0,
             "ticks": ""
            },
            "colorscale": [
             [
              0,
              "#0d0887"
             ],
             [
              0.1111111111111111,
              "#46039f"
             ],
             [
              0.2222222222222222,
              "#7201a8"
             ],
             [
              0.3333333333333333,
              "#9c179e"
             ],
             [
              0.4444444444444444,
              "#bd3786"
             ],
             [
              0.5555555555555556,
              "#d8576b"
             ],
             [
              0.6666666666666666,
              "#ed7953"
             ],
             [
              0.7777777777777778,
              "#fb9f3a"
             ],
             [
              0.8888888888888888,
              "#fdca26"
             ],
             [
              1,
              "#f0f921"
             ]
            ],
            "type": "heatmapgl"
           }
          ],
          "histogram": [
           {
            "marker": {
             "pattern": {
              "fillmode": "overlay",
              "size": 10,
              "solidity": 0.2
             }
            },
            "type": "histogram"
           }
          ],
          "histogram2d": [
           {
            "colorbar": {
             "outlinewidth": 0,
             "ticks": ""
            },
            "colorscale": [
             [
              0,
              "#0d0887"
             ],
             [
              0.1111111111111111,
              "#46039f"
             ],
             [
              0.2222222222222222,
              "#7201a8"
             ],
             [
              0.3333333333333333,
              "#9c179e"
             ],
             [
              0.4444444444444444,
              "#bd3786"
             ],
             [
              0.5555555555555556,
              "#d8576b"
             ],
             [
              0.6666666666666666,
              "#ed7953"
             ],
             [
              0.7777777777777778,
              "#fb9f3a"
             ],
             [
              0.8888888888888888,
              "#fdca26"
             ],
             [
              1,
              "#f0f921"
             ]
            ],
            "type": "histogram2d"
           }
          ],
          "histogram2dcontour": [
           {
            "colorbar": {
             "outlinewidth": 0,
             "ticks": ""
            },
            "colorscale": [
             [
              0,
              "#0d0887"
             ],
             [
              0.1111111111111111,
              "#46039f"
             ],
             [
              0.2222222222222222,
              "#7201a8"
             ],
             [
              0.3333333333333333,
              "#9c179e"
             ],
             [
              0.4444444444444444,
              "#bd3786"
             ],
             [
              0.5555555555555556,
              "#d8576b"
             ],
             [
              0.6666666666666666,
              "#ed7953"
             ],
             [
              0.7777777777777778,
              "#fb9f3a"
             ],
             [
              0.8888888888888888,
              "#fdca26"
             ],
             [
              1,
              "#f0f921"
             ]
            ],
            "type": "histogram2dcontour"
           }
          ],
          "mesh3d": [
           {
            "colorbar": {
             "outlinewidth": 0,
             "ticks": ""
            },
            "type": "mesh3d"
           }
          ],
          "parcoords": [
           {
            "line": {
             "colorbar": {
              "outlinewidth": 0,
              "ticks": ""
             }
            },
            "type": "parcoords"
           }
          ],
          "pie": [
           {
            "automargin": true,
            "type": "pie"
           }
          ],
          "scatter": [
           {
            "marker": {
             "colorbar": {
              "outlinewidth": 0,
              "ticks": ""
             }
            },
            "type": "scatter"
           }
          ],
          "scatter3d": [
           {
            "line": {
             "colorbar": {
              "outlinewidth": 0,
              "ticks": ""
             }
            },
            "marker": {
             "colorbar": {
              "outlinewidth": 0,
              "ticks": ""
             }
            },
            "type": "scatter3d"
           }
          ],
          "scattercarpet": [
           {
            "marker": {
             "colorbar": {
              "outlinewidth": 0,
              "ticks": ""
             }
            },
            "type": "scattercarpet"
           }
          ],
          "scattergeo": [
           {
            "marker": {
             "colorbar": {
              "outlinewidth": 0,
              "ticks": ""
             }
            },
            "type": "scattergeo"
           }
          ],
          "scattergl": [
           {
            "marker": {
             "colorbar": {
              "outlinewidth": 0,
              "ticks": ""
             }
            },
            "type": "scattergl"
           }
          ],
          "scattermapbox": [
           {
            "marker": {
             "colorbar": {
              "outlinewidth": 0,
              "ticks": ""
             }
            },
            "type": "scattermapbox"
           }
          ],
          "scatterpolar": [
           {
            "marker": {
             "colorbar": {
              "outlinewidth": 0,
              "ticks": ""
             }
            },
            "type": "scatterpolar"
           }
          ],
          "scatterpolargl": [
           {
            "marker": {
             "colorbar": {
              "outlinewidth": 0,
              "ticks": ""
             }
            },
            "type": "scatterpolargl"
           }
          ],
          "scatterternary": [
           {
            "marker": {
             "colorbar": {
              "outlinewidth": 0,
              "ticks": ""
             }
            },
            "type": "scatterternary"
           }
          ],
          "surface": [
           {
            "colorbar": {
             "outlinewidth": 0,
             "ticks": ""
            },
            "colorscale": [
             [
              0,
              "#0d0887"
             ],
             [
              0.1111111111111111,
              "#46039f"
             ],
             [
              0.2222222222222222,
              "#7201a8"
             ],
             [
              0.3333333333333333,
              "#9c179e"
             ],
             [
              0.4444444444444444,
              "#bd3786"
             ],
             [
              0.5555555555555556,
              "#d8576b"
             ],
             [
              0.6666666666666666,
              "#ed7953"
             ],
             [
              0.7777777777777778,
              "#fb9f3a"
             ],
             [
              0.8888888888888888,
              "#fdca26"
             ],
             [
              1,
              "#f0f921"
             ]
            ],
            "type": "surface"
           }
          ],
          "table": [
           {
            "cells": {
             "fill": {
              "color": "#EBF0F8"
             },
             "line": {
              "color": "white"
             }
            },
            "header": {
             "fill": {
              "color": "#C8D4E3"
             },
             "line": {
              "color": "white"
             }
            },
            "type": "table"
           }
          ]
         },
         "layout": {
          "annotationdefaults": {
           "arrowcolor": "#2a3f5f",
           "arrowhead": 0,
           "arrowwidth": 1
          },
          "autotypenumbers": "strict",
          "coloraxis": {
           "colorbar": {
            "outlinewidth": 0,
            "ticks": ""
           }
          },
          "colorscale": {
           "diverging": [
            [
             0,
             "#8e0152"
            ],
            [
             0.1,
             "#c51b7d"
            ],
            [
             0.2,
             "#de77ae"
            ],
            [
             0.3,
             "#f1b6da"
            ],
            [
             0.4,
             "#fde0ef"
            ],
            [
             0.5,
             "#f7f7f7"
            ],
            [
             0.6,
             "#e6f5d0"
            ],
            [
             0.7,
             "#b8e186"
            ],
            [
             0.8,
             "#7fbc41"
            ],
            [
             0.9,
             "#4d9221"
            ],
            [
             1,
             "#276419"
            ]
           ],
           "sequential": [
            [
             0,
             "#0d0887"
            ],
            [
             0.1111111111111111,
             "#46039f"
            ],
            [
             0.2222222222222222,
             "#7201a8"
            ],
            [
             0.3333333333333333,
             "#9c179e"
            ],
            [
             0.4444444444444444,
             "#bd3786"
            ],
            [
             0.5555555555555556,
             "#d8576b"
            ],
            [
             0.6666666666666666,
             "#ed7953"
            ],
            [
             0.7777777777777778,
             "#fb9f3a"
            ],
            [
             0.8888888888888888,
             "#fdca26"
            ],
            [
             1,
             "#f0f921"
            ]
           ],
           "sequentialminus": [
            [
             0,
             "#0d0887"
            ],
            [
             0.1111111111111111,
             "#46039f"
            ],
            [
             0.2222222222222222,
             "#7201a8"
            ],
            [
             0.3333333333333333,
             "#9c179e"
            ],
            [
             0.4444444444444444,
             "#bd3786"
            ],
            [
             0.5555555555555556,
             "#d8576b"
            ],
            [
             0.6666666666666666,
             "#ed7953"
            ],
            [
             0.7777777777777778,
             "#fb9f3a"
            ],
            [
             0.8888888888888888,
             "#fdca26"
            ],
            [
             1,
             "#f0f921"
            ]
           ]
          },
          "colorway": [
           "#636efa",
           "#EF553B",
           "#00cc96",
           "#ab63fa",
           "#FFA15A",
           "#19d3f3",
           "#FF6692",
           "#B6E880",
           "#FF97FF",
           "#FECB52"
          ],
          "font": {
           "color": "#2a3f5f"
          },
          "geo": {
           "bgcolor": "white",
           "lakecolor": "white",
           "landcolor": "#E5ECF6",
           "showlakes": true,
           "showland": true,
           "subunitcolor": "white"
          },
          "hoverlabel": {
           "align": "left"
          },
          "hovermode": "closest",
          "mapbox": {
           "style": "light"
          },
          "paper_bgcolor": "white",
          "plot_bgcolor": "#E5ECF6",
          "polar": {
           "angularaxis": {
            "gridcolor": "white",
            "linecolor": "white",
            "ticks": ""
           },
           "bgcolor": "#E5ECF6",
           "radialaxis": {
            "gridcolor": "white",
            "linecolor": "white",
            "ticks": ""
           }
          },
          "scene": {
           "xaxis": {
            "backgroundcolor": "#E5ECF6",
            "gridcolor": "white",
            "gridwidth": 2,
            "linecolor": "white",
            "showbackground": true,
            "ticks": "",
            "zerolinecolor": "white"
           },
           "yaxis": {
            "backgroundcolor": "#E5ECF6",
            "gridcolor": "white",
            "gridwidth": 2,
            "linecolor": "white",
            "showbackground": true,
            "ticks": "",
            "zerolinecolor": "white"
           },
           "zaxis": {
            "backgroundcolor": "#E5ECF6",
            "gridcolor": "white",
            "gridwidth": 2,
            "linecolor": "white",
            "showbackground": true,
            "ticks": "",
            "zerolinecolor": "white"
           }
          },
          "shapedefaults": {
           "line": {
            "color": "#2a3f5f"
           }
          },
          "ternary": {
           "aaxis": {
            "gridcolor": "white",
            "linecolor": "white",
            "ticks": ""
           },
           "baxis": {
            "gridcolor": "white",
            "linecolor": "white",
            "ticks": ""
           },
           "bgcolor": "#E5ECF6",
           "caxis": {
            "gridcolor": "white",
            "linecolor": "white",
            "ticks": ""
           }
          },
          "title": {
           "x": 0.05
          },
          "xaxis": {
           "automargin": true,
           "gridcolor": "white",
           "linecolor": "white",
           "ticks": "",
           "title": {
            "standoff": 15
           },
           "zerolinecolor": "white",
           "zerolinewidth": 2
          },
          "yaxis": {
           "automargin": true,
           "gridcolor": "white",
           "linecolor": "white",
           "ticks": "",
           "title": {
            "standoff": 15
           },
           "zerolinecolor": "white",
           "zerolinewidth": 2
          }
         }
        },
        "title": {
         "font": {
          "color": "#D9D9D9"
         }
        },
        "xaxis": {
         "autorange": true,
         "gridcolor": "#434343",
         "range": [
          0,
          351
         ],
         "showgrid": true,
         "tickfont": {
          "color": "#C2C2C2"
         },
         "title": {
          "font": {
           "color": "#D9D9D9"
          },
          "text": ""
         },
         "type": "category",
         "zerolinecolor": "#666570"
        },
        "yaxis": {
         "autorange": true,
         "gridcolor": "#434343",
         "range": [
          -98939569793.8889,
          2481794811883.8887
         ],
         "showgrid": true,
         "tickfont": {
          "color": "#C2C2C2"
         },
         "title": {
          "font": {
           "color": "#D9D9D9"
          },
          "text": ""
         },
         "type": "linear",
         "zerolinecolor": "#666570"
        }
       }
      },
      "image/png": "[encoded data removed]",
      "text/html": [
       "<div>                            <div id=\"168ea855-a205-48bc-b8b8-db4820d846d3\" class=\"plotly-graph-div\" style=\"height:525px; width:100%;\"></div>            <script type=\"text/javascript\">                require([\"plotly\"], function(Plotly) {                    window.PLOTLYENV=window.PLOTLYENV || {};\n",
       "                    window.PLOTLYENV.BASE_URL='https://plot.ly';                                    if (document.getElementById(\"168ea855-a205-48bc-b8b8-db4820d846d3\")) {                    Plotly.newPlot(                        \"168ea855-a205-48bc-b8b8-db4820d846d3\",                        [{\"line\":{\"color\":\"rgba(255, 153, 51, 1.0)\",\"dash\":\"solid\",\"shape\":\"linear\",\"width\":1.3},\"mode\":\"lines\",\"name\":\"MktCapCompanyUsd\",\"text\":\"\",\"x\":[\"Apple Inc\",\"Apple Inc\",\"Microsoft Corp\",\"Microsoft Corp\",\"Alphabet Inc\",\"Alphabet Inc\",\"Alphabet Inc\",\"Alphabet Inc\",\"Amazon.com Inc\",\"Amazon.com Inc\",\"Tesla Inc\",\"Tesla Inc\",\"Berkshire Hathaway Inc\",\"Berkshire Hathaway Inc\",\"Berkshire Hathaway Inc\",\"UnitedHealth Group Inc\",\"UnitedHealth Group Inc\",\"Johnson & Johnson\",\"Johnson & Johnson\",\"Exxon Mobil Corp\",\"Exxon Mobil Corp\",\"Visa Inc\",\"Visa Inc\",\"Meta Platforms Inc\",\"Meta Platforms Inc\",\"Walmart Inc\",\"Walmart Inc\",\"Tencent Holdings Ltd\",\"Tencent Holdings Ltd\",\"NVIDIA Corp\",\"NVIDIA Corp\",\"JPMorgan Chase & Co\",\"JPMorgan Chase & Co\",\"Eli Lilly and Co\",\"Eli Lilly and Co\",\"LVMH Moet Hennessy Louis Vuitton SE\",\"LVMH Moet Hennessy Louis Vuitton SE\",\"Chevron Corp\",\"Chevron Corp\",\"Procter & Gamble Co\",\"Procter & Gamble Co\",\"Home Depot Inc\",\"Home Depot Inc\",\"Nestle SA\",\"Nestle SA\",\"Nestle SA\",\"Nestle SA\",\"Mastercard Inc\",\"Mastercard Inc\",\"Roche Holding AG\",\"Bank of America Corp\",\"Bank of America Corp\",\"Abbvie Inc\",\"Abbvie Inc\",\"Pfizer Inc\",\"Pfizer Inc\",\"Coca-Cola Co\",\"Coca-Cola Co\",\"PepsiCo Inc\",\"PepsiCo Inc\",\"Toyota Motor Corp\",\"Toyota Motor Corp\",\"Merck & Co Inc\",\"Merck & Co Inc\",\"Thermo Fisher Scientific Inc\",\"Costco Wholesale Corp\",\"Costco Wholesale Corp\",\"Broadcom Inc\",\"Broadcom Inc\",\"Danaher Corp\",\"Danaher Corp\",\"ASML Holding NV\",\"ASML Holding NV\",\"Shell PLC\",\"Shell PLC\",\"Walt Disney Co\",\"Walt Disney Co\",\"Novo Nordisk A/S\",\"Novo Nordisk A/S\",\"Novartis AG\",\"Novartis AG\",\"Abbott Laboratories\",\"Abbott Laboratories\",\"Oracle Corp\",\"T-Mobile US Inc\",\"McDonald's Corp\",\"McDonald's Corp\",\"L'Oreal SA\",\"L'Oreal SA\",\"Accenture PLC\",\"Accenture PLC\",\"Cisco Systems Inc\",\"Cisco Systems Inc\",\"AstraZeneca PLC\",\"AstraZeneca PLC\",\"Verizon Communications Inc\",\"Wells Fargo & Co\",\"Wells Fargo & Co\",\"Nextera Energy Inc\",\"Salesforce Inc\",\"Salesforce Inc\",\"Texas Instruments Inc\",\"Bristol-Myers Squibb Co\",\"Bristol-Myers Squibb Co\",\"Conocophillips\",\"United Parcel Service Inc\",\"United Parcel Service Inc\",\"Charles Schwab Corp\",\"Charles Schwab Corp\",\"Nike Inc\",\"Nike Inc\",\"Morgan Stanley\",\"Morgan Stanley\",\"Linde PLC\",\"Linde PLC\",\"Qualcomm Inc\",\"Qualcomm Inc\",\"Adobe Inc\",\"Adobe Inc\",\"Comcast Corp\",\"Comcast Corp\",\"Philip Morris International Inc\",\"Hermes International SCA\",\"Hermes International SCA\",\"BHP Group Ltd\",\"BHP Group Ltd\",\"CVS Health Corp\",\"CVS Health Corp\",\"TotalEnergies SE\",\"TotalEnergies SE\",\"Royal Bank of Canada\",\"Royal Bank of Canada\",\"Raytheon Technologies Corp\",\"Union Pacific Corp\",\"Amgen Inc\",\"Lowe's Companies Inc\",\"Honeywell International Inc\",\"Toronto-Dominion Bank\",\"Toronto-Dominion Bank\",\"Intuit Inc\",\"Elevance Health Inc\",\"Elevance Health Inc\",\"International Business Machines Corp\",\"International Business Machines Corp\",\"AT&T Inc\",\"AT&T Inc\",\"Intel Corp\",\"Intel Corp\",\"Medtronic PLC\",\"Medtronic PLC\",\"Equinor ASA\",\"Equinor ASA\",\"Prosus NV\",\"Prosus NV\",\"Blackstone Inc\",\"Unilever PLC\",\"Unilever PLC\",\"Christian Dior SE\",\"Christian Dior SE\",\"Advanced Micro Devices Inc\",\"Advanced Micro Devices Inc\",\"PayPal Holdings Inc\",\"PayPal Holdings Inc\",\"American Express Co\",\"American Express Co\",\"Deere & Co\",\"Deere & Co\",\"S&P Global Inc\",\"S&P Global Inc\",\"Lockheed Martin Corp\",\"Lockheed Martin Corp\",\"SAP SE\",\"SAP SE\",\"Goldman Sachs Group Inc\",\"Goldman Sachs Group Inc\",\"Netflix Inc\",\"Netflix Inc\",\"HSBC Holdings PLC\",\"HSBC Holdings PLC\",\"Starbucks Corp\",\"Starbucks Corp\",\"American Tower Corp\",\"Automatic Data Processing Inc\",\"Sanofi SA\",\"Sanofi SA\",\"Prologis Inc\",\"BP PLC\",\"BP PLC\",\"BP PLC\",\"BP PLC\",\"Diageo PLC\",\"Diageo PLC\",\"Caterpillar Inc\",\"Caterpillar Inc\",\"BYD Co Ltd\",\"BYD Co Ltd\",\"Cigna Corp\",\"Cigna Corp\",\"BlackRock Inc\",\"BlackRock Inc\",\"Siemens AG\",\"Siemens AG\",\"Deutsche Telekom AG\",\"Deutsche Telekom AG\",\"ServiceNow Inc\",\"ServiceNow Inc\",\"Citigroup Inc\",\"Citigroup Inc\",\"Gazprom PAO\",\"JD.Com Inc\",\"Gilead Sciences Inc\",\"Gilead Sciences Inc\",\"British American Tobacco PLC\",\"British American Tobacco PLC\",\"Stryker Corp\",\"Stryker Corp\",\"Regeneron Pharmaceuticals Inc\",\"Regeneron Pharmaceuticals Inc\",\"Estee Lauder Companies Inc\",\"Estee Lauder Companies Inc\",\"Anheuser-Busch Inbev SA\",\"Anheuser-Busch Inbev SA\",\"Marsh & McLennan Companies Inc\",\"Enbridge Inc\",\"Enbridge Inc\",\"Mondelez International Inc\",\"Boeing Co\",\"Boeing Co\",\"Analog Devices Inc\",\"Vertex Pharmaceuticals Inc\",\"Volkswagen AG\",\"Volkswagen AG\",\"Altria Group Inc\",\"Altria Group Inc\",\"Applied Materials Inc\",\"Applied Materials Inc\",\"TJX Companies Inc\",\"TJX Companies Inc\",\"Northrop Grumman Corp\",\"General Electric Co\",\"General Electric Co\",\"EOG Resources Inc\",\"Southern Co\",\"Duke Energy Corp\",\"Zoetis Inc\",\"Target Corp\",\"Target Corp\",\"Intuitive Surgical Inc\",\"Intuitive Surgical Inc\",\"Airbus SE\",\"Airbus SE\",\"Progressive Corp\",\"Glencore PLC\",\"Glencore PLC\",\"Airbnb Inc\",\"Airbnb Inc\",\"Brookfield Asset Management Inc\",\"Brookfield Asset Management Inc\",\"Rio Tinto PLC\",\"Rio Tinto PLC\",\"Waste Management Inc\",\"Booking Holdings Inc\",\"Booking Holdings Inc\",\"Schneider Electric SE\",\"Schneider Electric SE\",\"Becton Dickinson and Co\",\"EssilorLuxottica SA\",\"EssilorLuxottica SA\",\"Industria de Diseno Textil SA\",\"Industria de Diseno Textil SA\",\"Allianz SE\",\"Allianz SE\",\"3M Co\",\"3M Co\",\"SoftBank Group Corp\",\"SoftBank Group Corp\",\"PNC Financial Services Group Inc\",\"CME Group Inc\",\"Fiserv Inc\",\"Humana Inc\",\"Crown Castle Inc\",\"Occidental Petroleum Corp\",\"Occidental Petroleum Corp\",\"US Bancorp\",\"General Dynamics Corp\",\"Bank of Montreal\",\"Bank of Montreal\",\"L'Air Liquide Societe Anonyme pour l'Etude et l'Exploitation des Procedes George\",\"L'Air Liquide Societe Anonyme pour l'Etude et l'Exploitation des Procedes George\",\"Zurich Insurance Group AG\",\"Zurich Insurance Group AG\",\"Micron Technology Inc\",\"Micron Technology Inc\",\"Iberdrola SA\",\"Iberdrola SA\",\"GSK plc\",\"GSK plc\",\"Pioneer Natural Resources Co\",\"Canadian Natural Resources Ltd\",\"Illinois Tool Works Inc\",\"Aon PLC\",\"CSX Corp\",\"Colgate-Palmolive Co\",\"Snowflake Inc.\",\"Snowflake Inc.\",\"Boston Scientific Corp\",\"Schlumberger NV\",\"Schlumberger NV\",\"Bank of Nova Scotia\",\"Bank of Nova Scotia\",\"HCA Healthcare Inc\",\"HCA Healthcare Inc\",\"Activision Blizzard Inc\",\"Activision Blizzard Inc\",\"Uber Technologies Inc\",\"Uber Technologies Inc\",\"Eaton Corporation PLC\",\"Dominion Energy Inc\",\"Mercedes Benz Group AG\",\"Mercedes Benz Group AG\",\"Sherwin-Williams Co\",\"Kering SA\",\"Kering SA\",\"Dollar General Corp\",\"Lam Research Corp\",\"Nintendo Co Ltd\",\"Nintendo Co Ltd\",\"Edwards Lifesciences Corp\",\"Edwards Lifesciences Corp\",\"Air Products and Chemicals Inc\",\"Marathon Petroleum Corp\",\"Keurig Dr Pepper Inc\",\"AXA SA\",\"Charter Communications Inc\",\"BNP Paribas SA\",\"BNP Paribas SA\",\"Equinix Inc\",\"Equinix Inc\",\"Compagnie Financiere Richemont SA\",\"Compagnie Financiere Richemont SA\",\"UBS Group AG\",\"UBS Group AG\",\"Intercontinental Exchange Inc\",\"Intercontinental Exchange Inc\",\"MetLife Inc\",\"MetLife Inc\",\"Norfolk Southern Corp\",\"Public Storage\",\"Thomson Reuters Corp\",\"Thomson Reuters Corp\",\"Mckesson Corp\",\"General Motors Co\",\"General Motors Co\",\"Abb Ltd\",\"Abb Ltd\",\"Heineken NV\",\"Heineken NV\",\"Ford Motor Co\",\"Ford Motor Co\",\"Siemens Healthineers AG\",\"Siemens Healthineers AG\",\"Westpac Banking Corp\",\"Moderna Inc\",\"Moderna Inc\",\"Synopsys Inc\",\"Monster Beverage Corp\",\"Atlas Copco AB\",\"Atlas Copco AB\",\"Atlas Copco AB\",\"Atlas Copco AB\",\"Relx PLC\",\"Relx PLC\",\"Fidelity National Information Services Inc\",\"Investor AB\",\"Investor AB\",\"Archer-Daniels-Midland Co\",\"Archer-Daniels-Midland Co\",\"Sempra Energy\",\"Dassault Systemes SE\",\"Dassault Systemes SE\",\"Moody's Corp\",\"Marriott International Inc\",\"Vinci SA\",\"Vinci SA\",\"London Stock Exchange Group PLC\",\"London Stock Exchange Group PLC\",\"Reckitt Benckiser Group PLC\",\"Reckitt Benckiser Group PLC\",\"Emerson Electric Co\",\"MercadoLibre Inc\",\"Pernod Ricard SA\",\"Pernod Ricard SA\",\"KLA Corp\",\"Valero Energy Corp\",\"Valero Energy Corp\",\"Cadence Design Systems Inc\",\"Devon Energy Corp\",\"Devon Energy Corp\",\"Bayerische Motoren Werke AG\",\"Bayerische Motoren Werke AG\",\"O'Reilly Automotive Inc\",\"Centene Corp\",\"Hershey Co\",\"General Mills Inc\",\"General Mills Inc\",\"Bayer AG\",\"Bayer AG\",\"Electricite de France SA\",\"Electricite de France SA\",\"American Electric Power Company Inc\",\"Nutrien Ltd\",\"Nutrien Ltd\",\"Republic Services Inc\",\"Phillips 66\",\"Phillips 66\",\"Corteva Inc\",\"Autodesk Inc\",\"Autozone Inc\",\"Mitsubishi Corp\",\"Mitsubishi Corp\",\"Freeport-McMoRan Inc\",\"Freeport-McMoRan Inc\",\"Cheniere Energy Inc\",\"Cheniere Energy Inc\",\"Woodside Energy Group Ltd\",\"Woodside Energy Group Ltd\",\"Woodside Energy Group Ltd\",\"Amphenol Corp\",\"Adyen NV\",\"Adyen NV\",\"L3harris Technologies Inc\",\"Fortinet Inc\",\"Fortinet Inc\",\"Chipotle Mexican Grill Inc\",\"Cintas Corp\",\"Takeda Pharmaceutical Co Ltd\",\"Takeda Pharmaceutical Co Ltd\",\"Banco Santander SA\",\"Banco Santander SA\",\"Safran SA\",\"Safran SA\",\"Kraft Heinz Co\",\"Anglo American PLC\",\"Anglo American PLC\",\"Enel SpA\",\"Paychex Inc\",\"CrowdStrike Holdings Inc\",\"CrowdStrike Holdings Inc\",\"Eni SpA\",\"Eni SpA\",\"Canadian Imperial Bank of Commerce\",\"Canadian Imperial Bank of Commerce\",\"FedEx Corp\",\"FedEx Corp\",\"Workday Inc\",\"Roper Technologies Inc\",\"Kinder Morgan Inc\",\"Lululemon Athletica Inc\",\"Lululemon Athletica Inc\",\"Motorola Solutions Inc\",\"Hess Corp\",\"Agilent Technologies Inc\",\"Twitter Inc\",\"Twitter Inc\",\"American International Group Inc\",\"Shopify Inc\",\"Shopify Inc\",\"Deutsche Post AG\",\"Deutsche Post AG\",\"Kimberly-Clark Corp\",\"Stellantis NV\",\"Stellantis NV\",\"Exelon Corp\",\"Biogen Inc\",\"Arthur J. Gallagher & Co.\",\"Sysco Corp\",\"Lonza Group AG\",\"Lonza Group AG\",\"Travelers Companies Inc\",\"Capital One Financial Corp\",\"Aflac Inc\",\"Southern Copper Corp\",\"Microchip Technology Inc\",\"National Grid PLC\",\"Williams Companies Inc\",\"BASF SE\",\"BASF SE\",\"Arista Networks Inc\",\"Arista Networks Inc\",\"Ferrari NV\",\"Ferrari NV\",\"Realty Income Corp\",\"Johnson Controls International PLC\",\"Block Inc\",\"Block Inc\",\"PG&E Corp\",\"MSCI Inc\",\"MSCI Inc\",\"Allstate Corp\",\"IQVIA Holdings Inc\",\"Compass Group PLC\",\"Compass Group PLC\",\"Trane Technologies PLC\",\"Enphase Energy Inc\",\"Enphase Energy Inc\",\"Xcel Energy Inc\",\"Neste Oyj\",\"Neste Oyj\",\"Prudential Financial Inc\",\"Newmont Corporation\",\"Newmont Corporation\",\"AP Moeller - Maersk A/S\",\"AP Moeller - Maersk A/S\",\"AP Moeller - Maersk A/S\",\"Hilton Worldwide Holdings Inc\",\"Muenchener Rueckversicherungs Gesellschaft in Muenchen AG\",\"Muenchener Rueckversicherungs Gesellschaft in Muenchen AG\",\"Illumina Inc\",\"Illumina Inc\",\"Electronic Arts Inc\",\"Electronic Arts Inc\",\"Orsted A/S\",\"Orsted A/S\",\"Resmed Inc\",\"Parker-Hannifin Corp\",\"ING Groep NV\",\"ING Groep NV\",\"Universal Music Group NV\",\"Universal Music Group NV\",\"Bank of New York Mellon Corp\",\"Bank of New York Mellon Corp\",\"Infineon Technologies AG\",\"Infineon Technologies AG\",\"M&T Bank Corp\",\"Las Vegas Sands Corp\",\"Las Vegas Sands Corp\",\"Nordea Bank Abp\",\"Nordea Bank Abp\",\"Global Payments Inc\",\"Sika AG\",\"Sika AG\",\"Albemarle Corp\",\"Albemarle Corp\",\"Brown-Forman Corp\",\"Intesa Sanpaolo SpA\",\"Intesa Sanpaolo SpA\",\"Dollar Tree Inc\",\"Yum! Brands Inc\",\"Lloyds Banking Group PLC\",\"Lloyds Banking Group PLC\",\"Kroger Co\",\"Deutsche Boerse AG\",\"Deutsche Boerse AG\",\"Sartorius Stedim Biotech SA\",\"Sartorius Stedim Biotech SA\",\"STMicroelectronics NV\",\"STMicroelectronics NV\",\"Danone SA\",\"Danone SA\",\"Cummins Inc\",\"Paccar Inc\",\"Hapag Lloyd AG\",\"Cognizant Technology Solutions Corp\",\"Simon Property Group Inc\",\"Vodafone Group PLC\",\"Vodafone Group PLC\",\"Ross Stores Inc\",\"SunTrust Banks Inc\",\"Manulife Financial Corp\",\"Manulife Financial Corp\",\"Volvo AB\",\"Nucor Corp\",\"Kuaishou Technology\",\"Consolidated Edison Inc\",\"SBA Communications Corp\",\"Alcon AG\",\"Alcon AG\",\"Trade Desk Inc\",\"Datadog Inc\",\"Datadog Inc\"],\"y\":[2352758092800.0,2352758092800.0,1858506654502.0,1858506654502.0,1327921690000.0,1327921690000.0,1327921690000.0,1327921690000.0,1232184755237.0,1232184755237.0,754570921536.0,754570921536.0,615851188993.0,615851188993.0,615851188993.0,493012164959.0,493012164959.0,434103892463.0,434103892463.0,413096109560.0,413096109560.0,388257466289.0,388257466289.0,373515486638.0,373515486638.0,360776506586.0,360776506586.0,339595002788.0,339595002788.0,328904100000.0,328904100000.0,324221000941.0,324221000941.0,315249000784.0,315249000784.0,312842818795.0,312842818795.0,310312141063.0,310312141063.0,308206531265.0,308206531265.0,296727109503.0,296727109503.0,295239777889.0,295239777889.0,295239777889.0,295239777889.0,293971601710.0,293971601710.0,273309302963.0,256484829678.0,256484829678.0,253421270628.0,253421270628.0,247616961813.0,247616961813.0,243217144745.0,243217144745.0,229094084104.0,229094084104.0,225610004286.0,225610004286.0,223916605499.0,223916605499.0,214022556271.0,212591622926.0,212591622926.0,205785514420.0,205785514420.0,205350549262.0,205350549262.0,189578962086.0,189578962086.0,184798835503.0,184798835503.0,183764223921.0,183764223921.0,183391575661.0,183391575661.0,183318630364.0,183318630364.0,181041097031.0,181041097031.0,179672523231.0,177108243760.0,175902642323.0,175902642323.0,175598312314.0,175598312314.0,173533138487.0,173533138487.0,172530366572.0,172530366572.0,170093321802.0,170093321802.0,165468758234.0,164276974234.0,164276974234.0,160659993793.0,156230000000.0,156230000000.0,153320095847.0,152563981039.0,152563981039.0,147582758004.0,145875422781.0,145875422781.0,144045878628.0,144045878628.0,142895442945.0,142895442945.0,142685434374.0,142685434374.0,141431170218.0,141431170218.0,140251470000.0,140251470000.0,138251962000.0,138251962000.0,135662947032.0,135662947032.0,134817704636.0,134020748583.0,134020748583.0,133924773826.0,133924773826.0,131873653663.0,131873653663.0,131436064329.0,131436064329.0,131073556717.0,131073556717.0,125813761859.0,125282895528.0,125077531347.0,123538033850.0,119789230885.0,116589875386.0,116589875386.0,116575744556.0,114912332287.0,114912332287.0,113565897586.0,113565897586.0,113517180000.0,113517180000.0,113489840000.0,113489840000.0,113044487229.0,113044487229.0,113027558687.0,113027558687.0,111874651574.0,111874651574.0,111643050673.0,111494728820.0,111494728820.0,109983771021.0,109983771021.0,109676961946.0,109676961946.0,108512131257.0,108512131257.0,108241088297.0,108241088297.0,107378369765.0,107378369765.0,107270275000.0,107270275000.0,106726418864.0,106726418864.0,105936720915.0,105936720915.0,105478982370.0,105478982370.0,105275154557.0,105275154557.0,105008457539.0,105008457539.0,103403688000.0,103403688000.0,99700780479.0,99275474191.0,98426605093.0,98426605093.0,97347431497.0,95339653075.0,95339653075.0,95339653075.0,95339653075.0,94760269200.0,94760269200.0,94168432928.0,94168432928.0,92908836886.0,92908836886.0,89713316874.0,89713316874.0,87920790147.0,87920790147.0,87474377200.0,87474377200.0,86125638159.0,86125638159.0,84957160000.0,84957160000.0,84905349872.0,84905349872.0,84337137337.0,83230791389.0,82032895937.0,82032895937.0,81805647818.0,81805647818.0,81762670980.0,81762670980.0,81285325548.0,81285325548.0,80787656087.0,80787656087.0,79644971380.0,79644971380.0,79458582320.0,78856487493.0,78856487493.0,78451204308.0,78448393536.0,78448393536.0,78123335143.0,77455892753.0,77264705225.0,77264705225.0,77255323130.0,77255323130.0,76756802615.0,76756802615.0,76397284833.0,76397284833.0,74949888800.0,73951541198.0,73951541198.0,73888493333.0,73060080723.0,72392459430.0,72369541227.0,71989677958.0,71989677958.0,71915051844.0,71915051844.0,71850777056.0,71850777056.0,71581134000.0,71482438695.0,71482438695.0,71470363312.0,71470363312.0,71248768997.0,71248768997.0,70540557872.0,70540557872.0,68874130190.0,68561175484.0,68561175484.0,68531653081.0,68531653081.0,67542758374.0,66674732180.0,66674732180.0,66319586973.0,66319586973.0,65942775491.0,65942775491.0,65601284387.0,65601284387.0,65449130834.0,65449130834.0,65304045156.0,65010700428.0,64310206191.0,63872916917.0,63124133513.0,63099264489.0,63099264489.0,62700085981.0,62166133149.0,62050015338.0,62050015338.0,61519436401.0,61519436401.0,60761299141.0,60761299141.0,60375131760.0,60375131760.0,60291920872.0,60291920872.0,60024613640.0,60024613640.0,59948365505.0,59945126235.0,59698161712.0,59645529008.0,59569328403.0,59314285430.0,59312000000.0,59312000000.0,59125671126.0,58796120134.0,58796120134.0,58245002853.0,58245002853.0,58134002992.0,58134002992.0,57976741533.0,57976741533.0,57774012317.0,57774012317.0,57554350000.0,57451018020.0,56378927125.0,56378927125.0,56338620230.0,55700449022.0,55700449022.0,54746258628.0,54721496092.0,54379220355.0,54379220355.0,54207821865.0,54207821865.0,53852792829.0,53641975836.0,53019220512.0,52981751687.0,52900394762.0,52718228072.0,52718228072.0,52678797755.0,52678797755.0,52563634528.0,52563634528.0,52291289182.0,52291289182.0,52165582797.0,52165582797.0,52052310457.0,52052310457.0,51911774344.0,51595266430.0,51505709118.0,51505709118.0,50933761338.0,50798425696.0,50798425696.0,50601359781.0,50601359781.0,50459326505.0,50459326505.0,50293171350.0,50293171350.0,50224890336.0,50224890336.0,49822041405.0,49142486717.0,49142486717.0,49141118621.0,48568304929.0,48519242348.0,48519242348.0,48519242348.0,48519242348.0,48422328997.0,48422328997.0,48395093057.0,48369392321.0,48369392321.0,48359646557.0,48359646557.0,48256065118.0,48088523011.0,48088523011.0,48051310000.0,47767468870.0,47737883486.0,47737883486.0,47580536293.0,47580536293.0,47433487498.0,47433487498.0,47168001000.0,47003867664.0,46670719318.0,46670719318.0,46661861854.0,46523957686.0,46523957686.0,46475739000.0,46412224000.0,46412224000.0,46366761578.0,46366761578.0,46354689122.0,46189447922.0,46139720033.0,46111784648.0,46111784648.0,45872970166.0,45872970166.0,45460017501.0,45460017501.0,45054470396.0,44841033127.0,44841033127.0,44600305231.0,44550142093.0,44550142093.0,44208272000.0,44149651087.0,43758429174.0,43624020620.0,43624020620.0,43607037280.0,43607037280.0,42822751574.0,42822751574.0,42795636276.0,42795636276.0,42795636276.0,42756247206.0,42558233481.0,42558233481.0,42258431191.0,42256827849.0,42256827849.0,42196155217.0,42036101342.0,41933614309.0,41933614309.0,41917818689.0,41917818689.0,41588488332.0,41588488332.0,41530153025.0,41498112649.0,41498112649.0,41496280200.0,41298236000.0,41238335056.0,41238335056.0,41005410626.0,41005410626.0,40830814460.0,40830814460.0,40820678771.0,40820678771.0,40819200000.0,40331368298.0,40064581624.0,39533348158.0,39533348158.0,39528411181.0,39293227720.0,39266821204.0,39257127597.0,39257127597.0,39009348135.0,38934125483.0,38934125483.0,38851770882.0,38851770882.0,38684761759.0,38572107056.0,38572107056.0,38446593561.0,38325027281.0,38230671360.0,38211330896.0,38192959127.0,38192959127.0,38098248124.0,37973172000.0,37706456242.0,37595486767.0,37231909698.0,37148194738.0,37116427516.0,37102016648.0,37102016648.0,36924433578.0,36924433578.0,36899515167.0,36899515167.0,36758210121.0,36741141241.0,36680535223.0,36680535223.0,36364824197.0,36023455591.0,36023455591.0,35949313204.0,35900911445.0,35690972196.0,35690972196.0,35617275866.0,35435623140.0,35435623140.0,35187952258.0,35002496898.0,35002496898.0,34875000000.0,34842573291.0,34842573291.0,34617713558.0,34617713558.0,34617713558.0,34538268274.0,34460475899.0,34460475899.0,34329492000.0,34329492000.0,34107820017.0,34107820017.0,33972647395.0,33972647395.0,33943348964.0,33809603478.0,33559207921.0,33559207921.0,33459999224.0,33459999224.0,33423149303.0,33423149303.0,32703658053.0,32703658053.0,32630838454.0,32568332172.0,32568332172.0,32524442960.0,32524442960.0,32486262102.0,32423206393.0,32423206393.0,32421241598.0,32421241598.0,32389549566.0,32290056393.0,32290056393.0,31969241123.0,31962656104.0,31941945998.0,31941945998.0,31924961827.0,31754719000.0,31754719000.0,31723451042.0,31723451042.0,31709275524.0,31709275524.0,31699567242.0,31699567242.0,31633037588.0,31611110835.0,31568271073.0,31393300124.0,31351240097.0,31350482110.0,31350482110.0,31173180965.0,31140520361.0,31068039940.0,31068039940.0,31008926958.0,30851412807.0,30626445118.0,30600434021.0,30542516470.0,30279650681.0,30279650681.0,30174195832.0,30097149290.0,30097149290.0],\"type\":\"scatter\"}],                        {\"legend\":{\"bgcolor\":\"#151516\",\"font\":{\"color\":\"#D9D9D9\"}},\"paper_bgcolor\":\"#151516\",\"plot_bgcolor\":\"#151516\",\"template\":{\"data\":{\"barpolar\":[{\"marker\":{\"line\":{\"color\":\"#E5ECF6\",\"width\":0.5},\"pattern\":{\"fillmode\":\"overlay\",\"size\":10,\"solidity\":0.2}},\"type\":\"barpolar\"}],\"bar\":[{\"error_x\":{\"color\":\"#2a3f5f\"},\"error_y\":{\"color\":\"#2a3f5f\"},\"marker\":{\"line\":{\"color\":\"#E5ECF6\",\"width\":0.5},\"pattern\":{\"fillmode\":\"overlay\",\"size\":10,\"solidity\":0.2}},\"type\":\"bar\"}],\"carpet\":[{\"aaxis\":{\"endlinecolor\":\"#2a3f5f\",\"gridcolor\":\"white\",\"linecolor\":\"white\",\"minorgridcolor\":\"white\",\"startlinecolor\":\"#2a3f5f\"},\"baxis\":{\"endlinecolor\":\"#2a3f5f\",\"gridcolor\":\"white\",\"linecolor\":\"white\",\"minorgridcolor\":\"white\",\"startlinecolor\":\"#2a3f5f\"},\"type\":\"carpet\"}],\"choropleth\":[{\"colorbar\":{\"outlinewidth\":0,\"ticks\":\"\"},\"type\":\"choropleth\"}],\"contourcarpet\":[{\"colorbar\":{\"outlinewidth\":0,\"ticks\":\"\"},\"type\":\"contourcarpet\"}],\"contour\":[{\"colorbar\":{\"outlinewidth\":0,\"ticks\":\"\"},\"colorscale\":[[0.0,\"#0d0887\"],[0.1111111111111111,\"#46039f\"],[0.2222222222222222,\"#7201a8\"],[0.3333333333333333,\"#9c179e\"],[0.4444444444444444,\"#bd3786\"],[0.5555555555555556,\"#d8576b\"],[0.6666666666666666,\"#ed7953\"],[0.7777777777777778,\"#fb9f3a\"],[0.8888888888888888,\"#fdca26\"],[1.0,\"#f0f921\"]],\"type\":\"contour\"}],\"heatmapgl\":[{\"colorbar\":{\"outlinewidth\":0,\"ticks\":\"\"},\"colorscale\":[[0.0,\"#0d0887\"],[0.1111111111111111,\"#46039f\"],[0.2222222222222222,\"#7201a8\"],[0.3333333333333333,\"#9c179e\"],[0.4444444444444444,\"#bd3786\"],[0.5555555555555556,\"#d8576b\"],[0.6666666666666666,\"#ed7953\"],[0.7777777777777778,\"#fb9f3a\"],[0.8888888888888888,\"#fdca26\"],[1.0,\"#f0f921\"]],\"type\":\"heatmapgl\"}],\"heatmap\":[{\"colorbar\":{\"outlinewidth\":0,\"ticks\":\"\"},\"colorscale\":[[0.0,\"#0d0887\"],[0.1111111111111111,\"#46039f\"],[0.2222222222222222,\"#7201a8\"],[0.3333333333333333,\"#9c179e\"],[0.4444444444444444,\"#bd3786\"],[0.5555555555555556,\"#d8576b\"],[0.6666666666666666,\"#ed7953\"],[0.7777777777777778,\"#fb9f3a\"],[0.8888888888888888,\"#fdca26\"],[1.0,\"#f0f921\"]],\"type\":\"heatmap\"}],\"histogram2dcontour\":[{\"colorbar\":{\"outlinewidth\":0,\"ticks\":\"\"},\"colorscale\":[[0.0,\"#0d0887\"],[0.1111111111111111,\"#46039f\"],[0.2222222222222222,\"#7201a8\"],[0.3333333333333333,\"#9c179e\"],[0.4444444444444444,\"#bd3786\"],[0.5555555555555556,\"#d8576b\"],[0.6666666666666666,\"#ed7953\"],[0.7777777777777778,\"#fb9f3a\"],[0.8888888888888888,\"#fdca26\"],[1.0,\"#f0f921\"]],\"type\":\"histogram2dcontour\"}],\"histogram2d\":[{\"colorbar\":{\"outlinewidth\":0,\"ticks\":\"\"},\"colorscale\":[[0.0,\"#0d0887\"],[0.1111111111111111,\"#46039f\"],[0.2222222222222222,\"#7201a8\"],[0.3333333333333333,\"#9c179e\"],[0.4444444444444444,\"#bd3786\"],[0.5555555555555556,\"#d8576b\"],[0.6666666666666666,\"#ed7953\"],[0.7777777777777778,\"#fb9f3a\"],[0.8888888888888888,\"#fdca26\"],[1.0,\"#f0f921\"]],\"type\":\"histogram2d\"}],\"histogram\":[{\"marker\":{\"pattern\":{\"fillmode\":\"overlay\",\"size\":10,\"solidity\":0.2}},\"type\":\"histogram\"}],\"mesh3d\":[{\"colorbar\":{\"outlinewidth\":0,\"ticks\":\"\"},\"type\":\"mesh3d\"}],\"parcoords\":[{\"line\":{\"colorbar\":{\"outlinewidth\":0,\"ticks\":\"\"}},\"type\":\"parcoords\"}],\"pie\":[{\"automargin\":true,\"type\":\"pie\"}],\"scatter3d\":[{\"line\":{\"colorbar\":{\"outlinewidth\":0,\"ticks\":\"\"}},\"marker\":{\"colorbar\":{\"outlinewidth\":0,\"ticks\":\"\"}},\"type\":\"scatter3d\"}],\"scattercarpet\":[{\"marker\":{\"colorbar\":{\"outlinewidth\":0,\"ticks\":\"\"}},\"type\":\"scattercarpet\"}],\"scattergeo\":[{\"marker\":{\"colorbar\":{\"outlinewidth\":0,\"ticks\":\"\"}},\"type\":\"scattergeo\"}],\"scattergl\":[{\"marker\":{\"colorbar\":{\"outlinewidth\":0,\"ticks\":\"\"}},\"type\":\"scattergl\"}],\"scattermapbox\":[{\"marker\":{\"colorbar\":{\"outlinewidth\":0,\"ticks\":\"\"}},\"type\":\"scattermapbox\"}],\"scatterpolargl\":[{\"marker\":{\"colorbar\":{\"outlinewidth\":0,\"ticks\":\"\"}},\"type\":\"scatterpolargl\"}],\"scatterpolar\":[{\"marker\":{\"colorbar\":{\"outlinewidth\":0,\"ticks\":\"\"}},\"type\":\"scatterpolar\"}],\"scatter\":[{\"marker\":{\"colorbar\":{\"outlinewidth\":0,\"ticks\":\"\"}},\"type\":\"scatter\"}],\"scatterternary\":[{\"marker\":{\"colorbar\":{\"outlinewidth\":0,\"ticks\":\"\"}},\"type\":\"scatterternary\"}],\"surface\":[{\"colorbar\":{\"outlinewidth\":0,\"ticks\":\"\"},\"colorscale\":[[0.0,\"#0d0887\"],[0.1111111111111111,\"#46039f\"],[0.2222222222222222,\"#7201a8\"],[0.3333333333333333,\"#9c179e\"],[0.4444444444444444,\"#bd3786\"],[0.5555555555555556,\"#d8576b\"],[0.6666666666666666,\"#ed7953\"],[0.7777777777777778,\"#fb9f3a\"],[0.8888888888888888,\"#fdca26\"],[1.0,\"#f0f921\"]],\"type\":\"surface\"}],\"table\":[{\"cells\":{\"fill\":{\"color\":\"#EBF0F8\"},\"line\":{\"color\":\"white\"}},\"header\":{\"fill\":{\"color\":\"#C8D4E3\"},\"line\":{\"color\":\"white\"}},\"type\":\"table\"}]},\"layout\":{\"annotationdefaults\":{\"arrowcolor\":\"#2a3f5f\",\"arrowhead\":0,\"arrowwidth\":1},\"autotypenumbers\":\"strict\",\"coloraxis\":{\"colorbar\":{\"outlinewidth\":0,\"ticks\":\"\"}},\"colorscale\":{\"diverging\":[[0,\"#8e0152\"],[0.1,\"#c51b7d\"],[0.2,\"#de77ae\"],[0.3,\"#f1b6da\"],[0.4,\"#fde0ef\"],[0.5,\"#f7f7f7\"],[0.6,\"#e6f5d0\"],[0.7,\"#b8e186\"],[0.8,\"#7fbc41\"],[0.9,\"#4d9221\"],[1,\"#276419\"]],\"sequential\":[[0.0,\"#0d0887\"],[0.1111111111111111,\"#46039f\"],[0.2222222222222222,\"#7201a8\"],[0.3333333333333333,\"#9c179e\"],[0.4444444444444444,\"#bd3786\"],[0.5555555555555556,\"#d8576b\"],[0.6666666666666666,\"#ed7953\"],[0.7777777777777778,\"#fb9f3a\"],[0.8888888888888888,\"#fdca26\"],[1.0,\"#f0f921\"]],\"sequentialminus\":[[0.0,\"#0d0887\"],[0.1111111111111111,\"#46039f\"],[0.2222222222222222,\"#7201a8\"],[0.3333333333333333,\"#9c179e\"],[0.4444444444444444,\"#bd3786\"],[0.5555555555555556,\"#d8576b\"],[0.6666666666666666,\"#ed7953\"],[0.7777777777777778,\"#fb9f3a\"],[0.8888888888888888,\"#fdca26\"],[1.0,\"#f0f921\"]]},\"colorway\":[\"#636efa\",\"#EF553B\",\"#00cc96\",\"#ab63fa\",\"#FFA15A\",\"#19d3f3\",\"#FF6692\",\"#B6E880\",\"#FF97FF\",\"#FECB52\"],\"font\":{\"color\":\"#2a3f5f\"},\"geo\":{\"bgcolor\":\"white\",\"lakecolor\":\"white\",\"landcolor\":\"#E5ECF6\",\"showlakes\":true,\"showland\":true,\"subunitcolor\":\"white\"},\"hoverlabel\":{\"align\":\"left\"},\"hovermode\":\"closest\",\"mapbox\":{\"style\":\"light\"},\"paper_bgcolor\":\"white\",\"plot_bgcolor\":\"#E5ECF6\",\"polar\":{\"angularaxis\":{\"gridcolor\":\"white\",\"linecolor\":\"white\",\"ticks\":\"\"},\"bgcolor\":\"#E5ECF6\",\"radialaxis\":{\"gridcolor\":\"white\",\"linecolor\":\"white\",\"ticks\":\"\"}},\"scene\":{\"xaxis\":{\"backgroundcolor\":\"#E5ECF6\",\"gridcolor\":\"white\",\"gridwidth\":2,\"linecolor\":\"white\",\"showbackground\":true,\"ticks\":\"\",\"zerolinecolor\":\"white\"},\"yaxis\":{\"backgroundcolor\":\"#E5ECF6\",\"gridcolor\":\"white\",\"gridwidth\":2,\"linecolor\":\"white\",\"showbackground\":true,\"ticks\":\"\",\"zerolinecolor\":\"white\"},\"zaxis\":{\"backgroundcolor\":\"#E5ECF6\",\"gridcolor\":\"white\",\"gridwidth\":2,\"linecolor\":\"white\",\"showbackground\":true,\"ticks\":\"\",\"zerolinecolor\":\"white\"}},\"shapedefaults\":{\"line\":{\"color\":\"#2a3f5f\"}},\"ternary\":{\"aaxis\":{\"gridcolor\":\"white\",\"linecolor\":\"white\",\"ticks\":\"\"},\"baxis\":{\"gridcolor\":\"white\",\"linecolor\":\"white\",\"ticks\":\"\"},\"bgcolor\":\"#E5ECF6\",\"caxis\":{\"gridcolor\":\"white\",\"linecolor\":\"white\",\"ticks\":\"\"}},\"title\":{\"x\":0.05},\"xaxis\":{\"automargin\":true,\"gridcolor\":\"white\",\"linecolor\":\"white\",\"ticks\":\"\",\"title\":{\"standoff\":15},\"zerolinecolor\":\"white\",\"zerolinewidth\":2},\"yaxis\":{\"automargin\":true,\"gridcolor\":\"white\",\"linecolor\":\"white\",\"ticks\":\"\",\"title\":{\"standoff\":15},\"zerolinecolor\":\"white\",\"zerolinewidth\":2}}},\"title\":{\"font\":{\"color\":\"#D9D9D9\"}},\"xaxis\":{\"gridcolor\":\"#434343\",\"showgrid\":true,\"tickfont\":{\"color\":\"#C2C2C2\"},\"title\":{\"font\":{\"color\":\"#D9D9D9\"},\"text\":\"\"},\"zerolinecolor\":\"#666570\"},\"yaxis\":{\"gridcolor\":\"#434343\",\"showgrid\":true,\"tickfont\":{\"color\":\"#C2C2C2\"},\"title\":{\"font\":{\"color\":\"#D9D9D9\"},\"text\":\"\"},\"zerolinecolor\":\"#666570\"}},                        {\"showLink\": true, \"linkText\": \"Export to plot.ly\", \"plotlyServerURL\": \"https://plot.ly\", \"responsive\": true}                    ).then(function(){\n",
       "                            \n",
       "var gd = document.getElementById('168ea855-a205-48bc-b8b8-db4820d846d3');\n",
       "var x = new MutationObserver(function (mutations, observer) {{\n",
       "        var display = window.getComputedStyle(gd).display;\n",
       "        if (!display || display === 'none') {{\n",
       "            console.log([gd, 'removed!']);\n",
       "            Plotly.purge(gd);\n",
       "            observer.disconnect();\n",
       "        }}\n",
       "}});\n",
       "\n",
       "// Listen for the removal of the full notebook cells\n",
       "var notebookContainer = gd.closest('#notebook-container');\n",
       "if (notebookContainer) {{\n",
       "    x.observe(notebookContainer, {childList: true});\n",
       "}}\n",
       "\n",
       "// Listen for the clearing of the current output cell\n",
       "var outputEl = gd.closest('.output');\n",
       "if (outputEl) {{\n",
       "    x.observe(outputEl, {childList: true});\n",
       "}}\n",
       "\n",
       "                        })                };                });            </script>        </div>"
      ]
     },
     "metadata": {},
     "output_type": "display_data"
    },
    {
     "data": {
      "text/html": [
       "<div>\n",
       "<style scoped>\n",
       "    .dataframe tbody tr th:only-of-type {\n",
       "        vertical-align: middle;\n",
       "    }\n",
       "\n",
       "    .dataframe tbody tr th {\n",
       "        vertical-align: top;\n",
       "    }\n",
       "\n",
       "    .dataframe thead th {\n",
       "        text-align: right;\n",
       "    }\n",
       "</style>\n",
       "<table border=\"1\" class=\"dataframe\">\n",
       "  <thead>\n",
       "    <tr style=\"text-align: right;\">\n",
       "      <th></th>\n",
       "      <th>DTSubjectName</th>\n",
       "      <th>ExchangeName</th>\n",
       "      <th>RIC</th>\n",
       "      <th>MktCapCompanyUsd</th>\n",
       "      <th>ShareholdersEquityUsd</th>\n",
       "      <th>Pe</th>\n",
       "      <th>DebtToAssets</th>\n",
       "      <th>Beta</th>\n",
       "      <th>Eps</th>\n",
       "      <th>Gics</th>\n",
       "      <th>...</th>\n",
       "      <th>RCSAssetCategory</th>\n",
       "      <th>RCSCurrencyLeaf</th>\n",
       "      <th>AssetState</th>\n",
       "      <th>BusinessEntity</th>\n",
       "      <th>PI</th>\n",
       "      <th>IssueISIN</th>\n",
       "      <th>CinCUSIP</th>\n",
       "      <th>SEDOL</th>\n",
       "      <th>CUSIP</th>\n",
       "      <th>SolvencyMargin</th>\n",
       "    </tr>\n",
       "  </thead>\n",
       "  <tbody>\n",
       "    <tr>\n",
       "      <th>1870</th>\n",
       "      <td>Apple Inc</td>\n",
       "      <td>London Stock Exchange</td>\n",
       "      <td>0R2V.L</td>\n",
       "      <td>2352758092800.0</td>\n",
       "      <td>63090000000.0</td>\n",
       "      <td>24.205381</td>\n",
       "      <td>0.820257</td>\n",
       "      <td>0.990305</td>\n",
       "      <td>6.05196</td>\n",
       "      <td>Information Technology/Technology Hardware &amp; E...</td>\n",
       "      <td>...</td>\n",
       "      <td>A:1L</td>\n",
       "      <td>US Dollar</td>\n",
       "      <td>AC</td>\n",
       "      <td>QUOTExEQUITY</td>\n",
       "      <td>285518846</td>\n",
       "      <td>US0378331005</td>\n",
       "      <td>&lt;NA&gt;</td>\n",
       "      <td>B0YQ5W0</td>\n",
       "      <td>037833100</td>\n",
       "      <td>NaN</td>\n",
       "    </tr>\n",
       "    <tr>\n",
       "      <th>3056</th>\n",
       "      <td>Apple Inc</td>\n",
       "      <td>London Stock Exchange</td>\n",
       "      <td>APCde.TRE</td>\n",
       "      <td>2352758092800.0</td>\n",
       "      <td>63090000000.0</td>\n",
       "      <td>&lt;NA&gt;</td>\n",
       "      <td>0.820257</td>\n",
       "      <td>&lt;NA&gt;</td>\n",
       "      <td>6.05196</td>\n",
       "      <td>Information Technology/Technology Hardware &amp; E...</td>\n",
       "      <td>...</td>\n",
       "      <td>A:1L</td>\n",
       "      <td>US Dollar</td>\n",
       "      <td>AC</td>\n",
       "      <td>QUOTExEQUITY</td>\n",
       "      <td>285519007</td>\n",
       "      <td>US0378331005</td>\n",
       "      <td>&lt;NA&gt;</td>\n",
       "      <td>&lt;NA&gt;</td>\n",
       "      <td>037833100</td>\n",
       "      <td>NaN</td>\n",
       "    </tr>\n",
       "    <tr>\n",
       "      <th>1871</th>\n",
       "      <td>Microsoft Corp</td>\n",
       "      <td>London Stock Exchange</td>\n",
       "      <td>0QYP.L</td>\n",
       "      <td>1858506654502.0</td>\n",
       "      <td>166542000000.0</td>\n",
       "      <td>25.853524</td>\n",
       "      <td>0.54352</td>\n",
       "      <td>0.633312</td>\n",
       "      <td>9.64472</td>\n",
       "      <td>Information Technology/Software &amp; Services/Sof...</td>\n",
       "      <td>...</td>\n",
       "      <td>A:1L</td>\n",
       "      <td>US Dollar</td>\n",
       "      <td>AC</td>\n",
       "      <td>QUOTExEQUITY</td>\n",
       "      <td>285518884</td>\n",
       "      <td>US5949181045</td>\n",
       "      <td>&lt;NA&gt;</td>\n",
       "      <td>B10RVH1</td>\n",
       "      <td>594918104</td>\n",
       "      <td>NaN</td>\n",
       "    </tr>\n",
       "    <tr>\n",
       "      <th>3064</th>\n",
       "      <td>Microsoft Corp</td>\n",
       "      <td>London Stock Exchange</td>\n",
       "      <td>MSFde.TRE</td>\n",
       "      <td>1858506654502.0</td>\n",
       "      <td>166542000000.0</td>\n",
       "      <td>&lt;NA&gt;</td>\n",
       "      <td>0.54352</td>\n",
       "      <td>&lt;NA&gt;</td>\n",
       "      <td>9.64472</td>\n",
       "      <td>Information Technology/Software &amp; Services/Sof...</td>\n",
       "      <td>...</td>\n",
       "      <td>A:1L</td>\n",
       "      <td>US Dollar</td>\n",
       "      <td>AC</td>\n",
       "      <td>QUOTExEQUITY</td>\n",
       "      <td>285519023</td>\n",
       "      <td>US5949181045</td>\n",
       "      <td>&lt;NA&gt;</td>\n",
       "      <td>&lt;NA&gt;</td>\n",
       "      <td>594918104</td>\n",
       "      <td>NaN</td>\n",
       "    </tr>\n",
       "    <tr>\n",
       "      <th>3152</th>\n",
       "      <td>Alphabet Inc</td>\n",
       "      <td>London Stock Exchange</td>\n",
       "      <td>ABECde.TRE</td>\n",
       "      <td>1327921690000.0</td>\n",
       "      <td>&lt;NA&gt;</td>\n",
       "      <td>&lt;NA&gt;</td>\n",
       "      <td>&lt;NA&gt;</td>\n",
       "      <td>&lt;NA&gt;</td>\n",
       "      <td>5.376038</td>\n",
       "      <td>Communication Services/Media &amp; Entertainment/I...</td>\n",
       "      <td>...</td>\n",
       "      <td>A:1L</td>\n",
       "      <td>US Dollar</td>\n",
       "      <td>AC</td>\n",
       "      <td>QUOTExEQUITY</td>\n",
       "      <td>285519045</td>\n",
       "      <td>US02079K1079</td>\n",
       "      <td>&lt;NA&gt;</td>\n",
       "      <td>&lt;NA&gt;</td>\n",
       "      <td>02079K107</td>\n",
       "      <td>NaN</td>\n",
       "    </tr>\n",
       "    <tr>\n",
       "      <th>...</th>\n",
       "      <td>...</td>\n",
       "      <td>...</td>\n",
       "      <td>...</td>\n",
       "      <td>...</td>\n",
       "      <td>...</td>\n",
       "      <td>...</td>\n",
       "      <td>...</td>\n",
       "      <td>...</td>\n",
       "      <td>...</td>\n",
       "      <td>...</td>\n",
       "      <td>...</td>\n",
       "      <td>...</td>\n",
       "      <td>...</td>\n",
       "      <td>...</td>\n",
       "      <td>...</td>\n",
       "      <td>...</td>\n",
       "      <td>...</td>\n",
       "      <td>...</td>\n",
       "      <td>...</td>\n",
       "      <td>...</td>\n",
       "      <td>...</td>\n",
       "    </tr>\n",
       "    <tr>\n",
       "      <th>3790</th>\n",
       "      <td>Alcon AG</td>\n",
       "      <td>London Stock Exchange</td>\n",
       "      <td>0A0D.L</td>\n",
       "      <td>30279650681.0</td>\n",
       "      <td>19256000000.0</td>\n",
       "      <td>&lt;NA&gt;</td>\n",
       "      <td>0.312261</td>\n",
       "      <td>&lt;NA&gt;</td>\n",
       "      <td>0.92492</td>\n",
       "      <td>Health Care/Health Care Equipment &amp; Services/H...</td>\n",
       "      <td>...</td>\n",
       "      <td>A:1L</td>\n",
       "      <td>Swiss Franc</td>\n",
       "      <td>AC</td>\n",
       "      <td>QUOTExEQUITY</td>\n",
       "      <td>360893944</td>\n",
       "      <td>CH0432492467</td>\n",
       "      <td>H01301128</td>\n",
       "      <td>BK8Y5Z3</td>\n",
       "      <td>&lt;NA&gt;</td>\n",
       "      <td>NaN</td>\n",
       "    </tr>\n",
       "    <tr>\n",
       "      <th>4689</th>\n",
       "      <td>Alcon AG</td>\n",
       "      <td>London Stock Exchange</td>\n",
       "      <td>2U3sg.TRE</td>\n",
       "      <td>30279650681.0</td>\n",
       "      <td>19256000000.0</td>\n",
       "      <td>&lt;NA&gt;</td>\n",
       "      <td>0.312261</td>\n",
       "      <td>&lt;NA&gt;</td>\n",
       "      <td>0.92492</td>\n",
       "      <td>Health Care/Health Care Equipment &amp; Services/H...</td>\n",
       "      <td>...</td>\n",
       "      <td>A:1L</td>\n",
       "      <td>Swiss Franc</td>\n",
       "      <td>AC</td>\n",
       "      <td>QUOTExEQUITY</td>\n",
       "      <td>360893948</td>\n",
       "      <td>CH0432492467</td>\n",
       "      <td>H01301128</td>\n",
       "      <td>&lt;NA&gt;</td>\n",
       "      <td>&lt;NA&gt;</td>\n",
       "      <td>NaN</td>\n",
       "    </tr>\n",
       "    <tr>\n",
       "      <th>4113</th>\n",
       "      <td>Trade Desk Inc</td>\n",
       "      <td>London Stock Exchange</td>\n",
       "      <td>0LF5.L</td>\n",
       "      <td>30174195832.0</td>\n",
       "      <td>1527306000.0</td>\n",
       "      <td>&lt;NA&gt;</td>\n",
       "      <td>0.573061</td>\n",
       "      <td>&lt;NA&gt;</td>\n",
       "      <td>0.06588</td>\n",
       "      <td>Communication Services/Media &amp; Entertainment/M...</td>\n",
       "      <td>...</td>\n",
       "      <td>A:1L</td>\n",
       "      <td>US Dollar</td>\n",
       "      <td>AC</td>\n",
       "      <td>QUOTExEQUITY</td>\n",
       "      <td>288061431</td>\n",
       "      <td>US88339J1051</td>\n",
       "      <td>&lt;NA&gt;</td>\n",
       "      <td>BG060N2</td>\n",
       "      <td>88339J105</td>\n",
       "      <td>NaN</td>\n",
       "    </tr>\n",
       "    <tr>\n",
       "      <th>4240</th>\n",
       "      <td>Datadog Inc</td>\n",
       "      <td>London Stock Exchange</td>\n",
       "      <td>3QDtg1.TRE</td>\n",
       "      <td>30097149290.0</td>\n",
       "      <td>1041203000.0</td>\n",
       "      <td>&lt;NA&gt;</td>\n",
       "      <td>0.562666</td>\n",
       "      <td>&lt;NA&gt;</td>\n",
       "      <td>0.01798</td>\n",
       "      <td>Information Technology/Software &amp; Services/Sof...</td>\n",
       "      <td>...</td>\n",
       "      <td>A:1L</td>\n",
       "      <td>US Dollar</td>\n",
       "      <td>AC</td>\n",
       "      <td>QUOTExEQUITY</td>\n",
       "      <td>514648095</td>\n",
       "      <td>US23804L1035</td>\n",
       "      <td>&lt;NA&gt;</td>\n",
       "      <td>&lt;NA&gt;</td>\n",
       "      <td>23804L103</td>\n",
       "      <td>NaN</td>\n",
       "    </tr>\n",
       "    <tr>\n",
       "      <th>3509</th>\n",
       "      <td>Datadog Inc</td>\n",
       "      <td>London Stock Exchange</td>\n",
       "      <td>0A3Oa.L</td>\n",
       "      <td>30097149290.0</td>\n",
       "      <td>1041203000.0</td>\n",
       "      <td>&lt;NA&gt;</td>\n",
       "      <td>0.562666</td>\n",
       "      <td>&lt;NA&gt;</td>\n",
       "      <td>0.01798</td>\n",
       "      <td>Information Technology/Software &amp; Services/Sof...</td>\n",
       "      <td>...</td>\n",
       "      <td>A:1L</td>\n",
       "      <td>US Dollar</td>\n",
       "      <td>AC</td>\n",
       "      <td>QUOTExEQUITY</td>\n",
       "      <td>514648087</td>\n",
       "      <td>US23804L1035</td>\n",
       "      <td>&lt;NA&gt;</td>\n",
       "      <td>BMX6LV6</td>\n",
       "      <td>23804L103</td>\n",
       "      <td>NaN</td>\n",
       "    </tr>\n",
       "  </tbody>\n",
       "</table>\n",
       "<p>580 rows × 45 columns</p>\n",
       "</div>"
      ],
      "text/plain": [
       "       DTSubjectName           ExchangeName         RIC MktCapCompanyUsd  \\\n",
       "1870       Apple Inc  London Stock Exchange      0R2V.L  2352758092800.0   \n",
       "3056       Apple Inc  London Stock Exchange   APCde.TRE  2352758092800.0   \n",
       "1871  Microsoft Corp  London Stock Exchange      0QYP.L  1858506654502.0   \n",
       "3064  Microsoft Corp  London Stock Exchange   MSFde.TRE  1858506654502.0   \n",
       "3152    Alphabet Inc  London Stock Exchange  ABECde.TRE  1327921690000.0   \n",
       "...              ...                    ...         ...              ...   \n",
       "3790        Alcon AG  London Stock Exchange      0A0D.L    30279650681.0   \n",
       "4689        Alcon AG  London Stock Exchange   2U3sg.TRE    30279650681.0   \n",
       "4113  Trade Desk Inc  London Stock Exchange      0LF5.L    30174195832.0   \n",
       "4240     Datadog Inc  London Stock Exchange  3QDtg1.TRE    30097149290.0   \n",
       "3509     Datadog Inc  London Stock Exchange     0A3Oa.L    30097149290.0   \n",
       "\n",
       "     ShareholdersEquityUsd         Pe DebtToAssets      Beta       Eps  \\\n",
       "1870         63090000000.0  24.205381     0.820257  0.990305   6.05196   \n",
       "3056         63090000000.0       <NA>     0.820257      <NA>   6.05196   \n",
       "1871        166542000000.0  25.853524      0.54352  0.633312   9.64472   \n",
       "3064        166542000000.0       <NA>      0.54352      <NA>   9.64472   \n",
       "3152                  <NA>       <NA>         <NA>      <NA>  5.376038   \n",
       "...                    ...        ...          ...       ...       ...   \n",
       "3790         19256000000.0       <NA>     0.312261      <NA>   0.92492   \n",
       "4689         19256000000.0       <NA>     0.312261      <NA>   0.92492   \n",
       "4113          1527306000.0       <NA>     0.573061      <NA>   0.06588   \n",
       "4240          1041203000.0       <NA>     0.562666      <NA>   0.01798   \n",
       "3509          1041203000.0       <NA>     0.562666      <NA>   0.01798   \n",
       "\n",
       "                                                   Gics  ... RCSAssetCategory  \\\n",
       "1870  Information Technology/Technology Hardware & E...  ...             A:1L   \n",
       "3056  Information Technology/Technology Hardware & E...  ...             A:1L   \n",
       "1871  Information Technology/Software & Services/Sof...  ...             A:1L   \n",
       "3064  Information Technology/Software & Services/Sof...  ...             A:1L   \n",
       "3152  Communication Services/Media & Entertainment/I...  ...             A:1L   \n",
       "...                                                 ...  ...              ...   \n",
       "3790  Health Care/Health Care Equipment & Services/H...  ...             A:1L   \n",
       "4689  Health Care/Health Care Equipment & Services/H...  ...             A:1L   \n",
       "4113  Communication Services/Media & Entertainment/M...  ...             A:1L   \n",
       "4240  Information Technology/Software & Services/Sof...  ...             A:1L   \n",
       "3509  Information Technology/Software & Services/Sof...  ...             A:1L   \n",
       "\n",
       "     RCSCurrencyLeaf AssetState BusinessEntity         PI     IssueISIN  \\\n",
       "1870       US Dollar         AC   QUOTExEQUITY  285518846  US0378331005   \n",
       "3056       US Dollar         AC   QUOTExEQUITY  285519007  US0378331005   \n",
       "1871       US Dollar         AC   QUOTExEQUITY  285518884  US5949181045   \n",
       "3064       US Dollar         AC   QUOTExEQUITY  285519023  US5949181045   \n",
       "3152       US Dollar         AC   QUOTExEQUITY  285519045  US02079K1079   \n",
       "...              ...        ...            ...        ...           ...   \n",
       "3790     Swiss Franc         AC   QUOTExEQUITY  360893944  CH0432492467   \n",
       "4689     Swiss Franc         AC   QUOTExEQUITY  360893948  CH0432492467   \n",
       "4113       US Dollar         AC   QUOTExEQUITY  288061431  US88339J1051   \n",
       "4240       US Dollar         AC   QUOTExEQUITY  514648095  US23804L1035   \n",
       "3509       US Dollar         AC   QUOTExEQUITY  514648087  US23804L1035   \n",
       "\n",
       "       CinCUSIP    SEDOL      CUSIP SolvencyMargin  \n",
       "1870       <NA>  B0YQ5W0  037833100            NaN  \n",
       "3056       <NA>     <NA>  037833100            NaN  \n",
       "1871       <NA>  B10RVH1  594918104            NaN  \n",
       "3064       <NA>     <NA>  594918104            NaN  \n",
       "3152       <NA>     <NA>  02079K107            NaN  \n",
       "...         ...      ...        ...            ...  \n",
       "3790  H01301128  BK8Y5Z3       <NA>            NaN  \n",
       "4689  H01301128     <NA>       <NA>            NaN  \n",
       "4113       <NA>  BG060N2  88339J105            NaN  \n",
       "4240       <NA>     <NA>  23804L103            NaN  \n",
       "3509       <NA>  BMX6LV6  23804L103            NaN  \n",
       "\n",
       "[580 rows x 45 columns]"
      ]
     },
     "metadata": {},
     "output_type": "display_data"
    }
   ],
   "source": [
    "equities = lse_equities.query(\"MktCapCompanyUsd >= 30_000_000_000\")\n",
    "plot_and_display(equities, \"MktCapCompanyUsd\")"
   ]
  },
  {
   "cell_type": "code",
   "execution_count": 13,
   "id": "24464f9f-4d1f-4b12-b8d9-7d8e284d1b94",
   "metadata": {
    "tags": []
   },
   "outputs": [
    {
     "data": {
      "application/vnd.plotly.v1+json": {
       "config": {
        "linkText": "Export to plot.ly",
        "plotlyServerURL": "https://plot.ly",
        "showLink": true
       },
       "data": [
        {
         "line": {
          "color": "rgba(255, 153, 51, 1.0)",
          "dash": "solid",
          "shape": "linear",
          "width": 1.3
         },
         "mode": "lines",
         "name": "Beta",
         "text": "",
         "type": "scatter",
         "x": [
          "One Heritage Group PLC",
          "Tirupati Graphite PLC",
          "Harbour Energy PLC",
          "Cineworld Group PLC",
          "Kosmos Energy Ltd",
          "Revolution Bars Group PLC",
          "Hyve Group PLC",
          "Costain Group PLC",
          "XP Factory PLC",
          "Capita PLC",
          "Ageas SA",
          "Tullow Oil PLC",
          "Immotion Group PLC",
          "4D Pharma PLC",
          "Restaurant Group PLC",
          "N Brown Group PLC",
          "Petra Diamonds Ltd",
          "Tekmar Group PLC",
          "I-nexus Global PLC",
          "Superdry PLC",
          "Echo Energy PLC",
          "SIG PLC",
          "Gulf Marine Services PLC",
          "Micro Focus International PLC",
          "Carnival PLC",
          "Predator Oil & Gas Holdings PLC",
          "Iconic Labs PLC",
          "Inspirit Energy Holdings PLC",
          "Pharos Energy PLC",
          "Gran Tierra Energy Inc",
          "Card Factory PLC",
          "Mosman Oil and Gas Ltd",
          "Hammerson PLC",
          "TransGlobe Energy Corp",
          "Helium One Global Ltd",
          "EnQuest PLC",
          "RPS Group PLC",
          "Sosandar PLC",
          "Global Ports Holding PLC",
          "Ted Baker PLC",
          "Jadestone Energy PLC",
          "ASOS PLC"
         ],
         "y": [
          5.163173,
          4.742009,
          4.659199,
          4.181223,
          4.090578,
          3.984417,
          3.831279,
          3.793154,
          3.712753,
          3.708807,
          3.660706,
          3.648886,
          3.647167,
          3.561013,
          3.558517,
          3.555524,
          3.526154,
          3.441146,
          3.405843,
          3.388474,
          3.384812,
          3.373529,
          3.338237,
          3.297618,
          3.29689,
          3.289157,
          3.285231,
          3.277743,
          3.212507,
          3.209598,
          3.199335,
          3.189585,
          3.156862,
          3.156582,
          3.12539,
          3.080913,
          3.05666,
          3.054952,
          3.046462,
          3.013379,
          3.011667,
          3.007857
         ]
        }
       ],
       "layout": {
        "autosize": true,
        "legend": {
         "bgcolor": "#151516",
         "font": {
          "color": "#D9D9D9"
         }
        },
        "paper_bgcolor": "#151516",
        "plot_bgcolor": "#151516",
        "template": {
         "data": {
          "bar": [
           {
            "error_x": {
             "color": "#2a3f5f"
            },
            "error_y": {
             "color": "#2a3f5f"
            },
            "marker": {
             "line": {
              "color": "#E5ECF6",
              "width": 0.5
             },
             "pattern": {
              "fillmode": "overlay",
              "size": 10,
              "solidity": 0.2
             }
            },
            "type": "bar"
           }
          ],
          "barpolar": [
           {
            "marker": {
             "line": {
              "color": "#E5ECF6",
              "width": 0.5
             },
             "pattern": {
              "fillmode": "overlay",
              "size": 10,
              "solidity": 0.2
             }
            },
            "type": "barpolar"
           }
          ],
          "carpet": [
           {
            "aaxis": {
             "endlinecolor": "#2a3f5f",
             "gridcolor": "white",
             "linecolor": "white",
             "minorgridcolor": "white",
             "startlinecolor": "#2a3f5f"
            },
            "baxis": {
             "endlinecolor": "#2a3f5f",
             "gridcolor": "white",
             "linecolor": "white",
             "minorgridcolor": "white",
             "startlinecolor": "#2a3f5f"
            },
            "type": "carpet"
           }
          ],
          "choropleth": [
           {
            "colorbar": {
             "outlinewidth": 0,
             "ticks": ""
            },
            "type": "choropleth"
           }
          ],
          "contour": [
           {
            "colorbar": {
             "outlinewidth": 0,
             "ticks": ""
            },
            "colorscale": [
             [
              0,
              "#0d0887"
             ],
             [
              0.1111111111111111,
              "#46039f"
             ],
             [
              0.2222222222222222,
              "#7201a8"
             ],
             [
              0.3333333333333333,
              "#9c179e"
             ],
             [
              0.4444444444444444,
              "#bd3786"
             ],
             [
              0.5555555555555556,
              "#d8576b"
             ],
             [
              0.6666666666666666,
              "#ed7953"
             ],
             [
              0.7777777777777778,
              "#fb9f3a"
             ],
             [
              0.8888888888888888,
              "#fdca26"
             ],
             [
              1,
              "#f0f921"
             ]
            ],
            "type": "contour"
           }
          ],
          "contourcarpet": [
           {
            "colorbar": {
             "outlinewidth": 0,
             "ticks": ""
            },
            "type": "contourcarpet"
           }
          ],
          "heatmap": [
           {
            "colorbar": {
             "outlinewidth": 0,
             "ticks": ""
            },
            "colorscale": [
             [
              0,
              "#0d0887"
             ],
             [
              0.1111111111111111,
              "#46039f"
             ],
             [
              0.2222222222222222,
              "#7201a8"
             ],
             [
              0.3333333333333333,
              "#9c179e"
             ],
             [
              0.4444444444444444,
              "#bd3786"
             ],
             [
              0.5555555555555556,
              "#d8576b"
             ],
             [
              0.6666666666666666,
              "#ed7953"
             ],
             [
              0.7777777777777778,
              "#fb9f3a"
             ],
             [
              0.8888888888888888,
              "#fdca26"
             ],
             [
              1,
              "#f0f921"
             ]
            ],
            "type": "heatmap"
           }
          ],
          "heatmapgl": [
           {
            "colorbar": {
             "outlinewidth": 0,
             "ticks": ""
            },
            "colorscale": [
             [
              0,
              "#0d0887"
             ],
             [
              0.1111111111111111,
              "#46039f"
             ],
             [
              0.2222222222222222,
              "#7201a8"
             ],
             [
              0.3333333333333333,
              "#9c179e"
             ],
             [
              0.4444444444444444,
              "#bd3786"
             ],
             [
              0.5555555555555556,
              "#d8576b"
             ],
             [
              0.6666666666666666,
              "#ed7953"
             ],
             [
              0.7777777777777778,
              "#fb9f3a"
             ],
             [
              0.8888888888888888,
              "#fdca26"
             ],
             [
              1,
              "#f0f921"
             ]
            ],
            "type": "heatmapgl"
           }
          ],
          "histogram": [
           {
            "marker": {
             "pattern": {
              "fillmode": "overlay",
              "size": 10,
              "solidity": 0.2
             }
            },
            "type": "histogram"
           }
          ],
          "histogram2d": [
           {
            "colorbar": {
             "outlinewidth": 0,
             "ticks": ""
            },
            "colorscale": [
             [
              0,
              "#0d0887"
             ],
             [
              0.1111111111111111,
              "#46039f"
             ],
             [
              0.2222222222222222,
              "#7201a8"
             ],
             [
              0.3333333333333333,
              "#9c179e"
             ],
             [
              0.4444444444444444,
              "#bd3786"
             ],
             [
              0.5555555555555556,
              "#d8576b"
             ],
             [
              0.6666666666666666,
              "#ed7953"
             ],
             [
              0.7777777777777778,
              "#fb9f3a"
             ],
             [
              0.8888888888888888,
              "#fdca26"
             ],
             [
              1,
              "#f0f921"
             ]
            ],
            "type": "histogram2d"
           }
          ],
          "histogram2dcontour": [
           {
            "colorbar": {
             "outlinewidth": 0,
             "ticks": ""
            },
            "colorscale": [
             [
              0,
              "#0d0887"
             ],
             [
              0.1111111111111111,
              "#46039f"
             ],
             [
              0.2222222222222222,
              "#7201a8"
             ],
             [
              0.3333333333333333,
              "#9c179e"
             ],
             [
              0.4444444444444444,
              "#bd3786"
             ],
             [
              0.5555555555555556,
              "#d8576b"
             ],
             [
              0.6666666666666666,
              "#ed7953"
             ],
             [
              0.7777777777777778,
              "#fb9f3a"
             ],
             [
              0.8888888888888888,
              "#fdca26"
             ],
             [
              1,
              "#f0f921"
             ]
            ],
            "type": "histogram2dcontour"
           }
          ],
          "mesh3d": [
           {
            "colorbar": {
             "outlinewidth": 0,
             "ticks": ""
            },
            "type": "mesh3d"
           }
          ],
          "parcoords": [
           {
            "line": {
             "colorbar": {
              "outlinewidth": 0,
              "ticks": ""
             }
            },
            "type": "parcoords"
           }
          ],
          "pie": [
           {
            "automargin": true,
            "type": "pie"
           }
          ],
          "scatter": [
           {
            "marker": {
             "colorbar": {
              "outlinewidth": 0,
              "ticks": ""
             }
            },
            "type": "scatter"
           }
          ],
          "scatter3d": [
           {
            "line": {
             "colorbar": {
              "outlinewidth": 0,
              "ticks": ""
             }
            },
            "marker": {
             "colorbar": {
              "outlinewidth": 0,
              "ticks": ""
             }
            },
            "type": "scatter3d"
           }
          ],
          "scattercarpet": [
           {
            "marker": {
             "colorbar": {
              "outlinewidth": 0,
              "ticks": ""
             }
            },
            "type": "scattercarpet"
           }
          ],
          "scattergeo": [
           {
            "marker": {
             "colorbar": {
              "outlinewidth": 0,
              "ticks": ""
             }
            },
            "type": "scattergeo"
           }
          ],
          "scattergl": [
           {
            "marker": {
             "colorbar": {
              "outlinewidth": 0,
              "ticks": ""
             }
            },
            "type": "scattergl"
           }
          ],
          "scattermapbox": [
           {
            "marker": {
             "colorbar": {
              "outlinewidth": 0,
              "ticks": ""
             }
            },
            "type": "scattermapbox"
           }
          ],
          "scatterpolar": [
           {
            "marker": {
             "colorbar": {
              "outlinewidth": 0,
              "ticks": ""
             }
            },
            "type": "scatterpolar"
           }
          ],
          "scatterpolargl": [
           {
            "marker": {
             "colorbar": {
              "outlinewidth": 0,
              "ticks": ""
             }
            },
            "type": "scatterpolargl"
           }
          ],
          "scatterternary": [
           {
            "marker": {
             "colorbar": {
              "outlinewidth": 0,
              "ticks": ""
             }
            },
            "type": "scatterternary"
           }
          ],
          "surface": [
           {
            "colorbar": {
             "outlinewidth": 0,
             "ticks": ""
            },
            "colorscale": [
             [
              0,
              "#0d0887"
             ],
             [
              0.1111111111111111,
              "#46039f"
             ],
             [
              0.2222222222222222,
              "#7201a8"
             ],
             [
              0.3333333333333333,
              "#9c179e"
             ],
             [
              0.4444444444444444,
              "#bd3786"
             ],
             [
              0.5555555555555556,
              "#d8576b"
             ],
             [
              0.6666666666666666,
              "#ed7953"
             ],
             [
              0.7777777777777778,
              "#fb9f3a"
             ],
             [
              0.8888888888888888,
              "#fdca26"
             ],
             [
              1,
              "#f0f921"
             ]
            ],
            "type": "surface"
           }
          ],
          "table": [
           {
            "cells": {
             "fill": {
              "color": "#EBF0F8"
             },
             "line": {
              "color": "white"
             }
            },
            "header": {
             "fill": {
              "color": "#C8D4E3"
             },
             "line": {
              "color": "white"
             }
            },
            "type": "table"
           }
          ]
         },
         "layout": {
          "annotationdefaults": {
           "arrowcolor": "#2a3f5f",
           "arrowhead": 0,
           "arrowwidth": 1
          },
          "autotypenumbers": "strict",
          "coloraxis": {
           "colorbar": {
            "outlinewidth": 0,
            "ticks": ""
           }
          },
          "colorscale": {
           "diverging": [
            [
             0,
             "#8e0152"
            ],
            [
             0.1,
             "#c51b7d"
            ],
            [
             0.2,
             "#de77ae"
            ],
            [
             0.3,
             "#f1b6da"
            ],
            [
             0.4,
             "#fde0ef"
            ],
            [
             0.5,
             "#f7f7f7"
            ],
            [
             0.6,
             "#e6f5d0"
            ],
            [
             0.7,
             "#b8e186"
            ],
            [
             0.8,
             "#7fbc41"
            ],
            [
             0.9,
             "#4d9221"
            ],
            [
             1,
             "#276419"
            ]
           ],
           "sequential": [
            [
             0,
             "#0d0887"
            ],
            [
             0.1111111111111111,
             "#46039f"
            ],
            [
             0.2222222222222222,
             "#7201a8"
            ],
            [
             0.3333333333333333,
             "#9c179e"
            ],
            [
             0.4444444444444444,
             "#bd3786"
            ],
            [
             0.5555555555555556,
             "#d8576b"
            ],
            [
             0.6666666666666666,
             "#ed7953"
            ],
            [
             0.7777777777777778,
             "#fb9f3a"
            ],
            [
             0.8888888888888888,
             "#fdca26"
            ],
            [
             1,
             "#f0f921"
            ]
           ],
           "sequentialminus": [
            [
             0,
             "#0d0887"
            ],
            [
             0.1111111111111111,
             "#46039f"
            ],
            [
             0.2222222222222222,
             "#7201a8"
            ],
            [
             0.3333333333333333,
             "#9c179e"
            ],
            [
             0.4444444444444444,
             "#bd3786"
            ],
            [
             0.5555555555555556,
             "#d8576b"
            ],
            [
             0.6666666666666666,
             "#ed7953"
            ],
            [
             0.7777777777777778,
             "#fb9f3a"
            ],
            [
             0.8888888888888888,
             "#fdca26"
            ],
            [
             1,
             "#f0f921"
            ]
           ]
          },
          "colorway": [
           "#636efa",
           "#EF553B",
           "#00cc96",
           "#ab63fa",
           "#FFA15A",
           "#19d3f3",
           "#FF6692",
           "#B6E880",
           "#FF97FF",
           "#FECB52"
          ],
          "font": {
           "color": "#2a3f5f"
          },
          "geo": {
           "bgcolor": "white",
           "lakecolor": "white",
           "landcolor": "#E5ECF6",
           "showlakes": true,
           "showland": true,
           "subunitcolor": "white"
          },
          "hoverlabel": {
           "align": "left"
          },
          "hovermode": "closest",
          "mapbox": {
           "style": "light"
          },
          "paper_bgcolor": "white",
          "plot_bgcolor": "#E5ECF6",
          "polar": {
           "angularaxis": {
            "gridcolor": "white",
            "linecolor": "white",
            "ticks": ""
           },
           "bgcolor": "#E5ECF6",
           "radialaxis": {
            "gridcolor": "white",
            "linecolor": "white",
            "ticks": ""
           }
          },
          "scene": {
           "xaxis": {
            "backgroundcolor": "#E5ECF6",
            "gridcolor": "white",
            "gridwidth": 2,
            "linecolor": "white",
            "showbackground": true,
            "ticks": "",
            "zerolinecolor": "white"
           },
           "yaxis": {
            "backgroundcolor": "#E5ECF6",
            "gridcolor": "white",
            "gridwidth": 2,
            "linecolor": "white",
            "showbackground": true,
            "ticks": "",
            "zerolinecolor": "white"
           },
           "zaxis": {
            "backgroundcolor": "#E5ECF6",
            "gridcolor": "white",
            "gridwidth": 2,
            "linecolor": "white",
            "showbackground": true,
            "ticks": "",
            "zerolinecolor": "white"
           }
          },
          "shapedefaults": {
           "line": {
            "color": "#2a3f5f"
           }
          },
          "ternary": {
           "aaxis": {
            "gridcolor": "white",
            "linecolor": "white",
            "ticks": ""
           },
           "baxis": {
            "gridcolor": "white",
            "linecolor": "white",
            "ticks": ""
           },
           "bgcolor": "#E5ECF6",
           "caxis": {
            "gridcolor": "white",
            "linecolor": "white",
            "ticks": ""
           }
          },
          "title": {
           "x": 0.05
          },
          "xaxis": {
           "automargin": true,
           "gridcolor": "white",
           "linecolor": "white",
           "ticks": "",
           "title": {
            "standoff": 15
           },
           "zerolinecolor": "white",
           "zerolinewidth": 2
          },
          "yaxis": {
           "automargin": true,
           "gridcolor": "white",
           "linecolor": "white",
           "ticks": "",
           "title": {
            "standoff": 15
           },
           "zerolinecolor": "white",
           "zerolinewidth": 2
          }
         }
        },
        "title": {
         "font": {
          "color": "#D9D9D9"
         }
        },
        "xaxis": {
         "autorange": true,
         "gridcolor": "#434343",
         "range": [
          0,
          41
         ],
         "showgrid": true,
         "tickfont": {
          "color": "#C2C2C2"
         },
         "title": {
          "font": {
           "color": "#D9D9D9"
          },
          "text": ""
         },
         "type": "category",
         "zerolinecolor": "#666570"
        },
        "yaxis": {
         "autorange": true,
         "gridcolor": "#434343",
         "range": [
          2.8881172222222222,
          5.282912777777777
         ],
         "showgrid": true,
         "tickfont": {
          "color": "#C2C2C2"
         },
         "title": {
          "font": {
           "color": "#D9D9D9"
          },
          "text": ""
         },
         "type": "linear",
         "zerolinecolor": "#666570"
        }
       }
      },
      "image/png": "[encoded data removed]",
      "text/html": [
       "<div>                            <div id=\"c001629b-51b5-4dc2-9eed-282abcb8ffb8\" class=\"plotly-graph-div\" style=\"height:525px; width:100%;\"></div>            <script type=\"text/javascript\">                require([\"plotly\"], function(Plotly) {                    window.PLOTLYENV=window.PLOTLYENV || {};\n",
       "                    window.PLOTLYENV.BASE_URL='https://plot.ly';                                    if (document.getElementById(\"c001629b-51b5-4dc2-9eed-282abcb8ffb8\")) {                    Plotly.newPlot(                        \"c001629b-51b5-4dc2-9eed-282abcb8ffb8\",                        [{\"line\":{\"color\":\"rgba(255, 153, 51, 1.0)\",\"dash\":\"solid\",\"shape\":\"linear\",\"width\":1.3},\"mode\":\"lines\",\"name\":\"Beta\",\"text\":\"\",\"x\":[\"One Heritage Group PLC\",\"Tirupati Graphite PLC\",\"Harbour Energy PLC\",\"Cineworld Group PLC\",\"Kosmos Energy Ltd\",\"Revolution Bars Group PLC\",\"Hyve Group PLC\",\"Costain Group PLC\",\"XP Factory PLC\",\"Capita PLC\",\"Ageas SA\",\"Tullow Oil PLC\",\"Immotion Group PLC\",\"4D Pharma PLC\",\"Restaurant Group PLC\",\"N Brown Group PLC\",\"Petra Diamonds Ltd\",\"Tekmar Group PLC\",\"I-nexus Global PLC\",\"Superdry PLC\",\"Echo Energy PLC\",\"SIG PLC\",\"Gulf Marine Services PLC\",\"Micro Focus International PLC\",\"Carnival PLC\",\"Predator Oil & Gas Holdings PLC\",\"Iconic Labs PLC\",\"Inspirit Energy Holdings PLC\",\"Pharos Energy PLC\",\"Gran Tierra Energy Inc\",\"Card Factory PLC\",\"Mosman Oil and Gas Ltd\",\"Hammerson PLC\",\"TransGlobe Energy Corp\",\"Helium One Global Ltd\",\"EnQuest PLC\",\"RPS Group PLC\",\"Sosandar PLC\",\"Global Ports Holding PLC\",\"Ted Baker PLC\",\"Jadestone Energy PLC\",\"ASOS PLC\"],\"y\":[5.163173,4.742009,4.659199,4.181223,4.090578,3.984417,3.831279,3.793154,3.712753,3.708807,3.660706,3.648886,3.647167,3.561013,3.558517,3.555524,3.526154,3.441146,3.405843,3.388474,3.384812,3.373529,3.338237,3.297618,3.29689,3.289157,3.285231,3.277743,3.212507,3.209598,3.199335,3.189585,3.156862,3.156582,3.12539,3.080913,3.05666,3.054952,3.046462,3.013379,3.011667,3.007857],\"type\":\"scatter\"}],                        {\"legend\":{\"bgcolor\":\"#151516\",\"font\":{\"color\":\"#D9D9D9\"}},\"paper_bgcolor\":\"#151516\",\"plot_bgcolor\":\"#151516\",\"template\":{\"data\":{\"barpolar\":[{\"marker\":{\"line\":{\"color\":\"#E5ECF6\",\"width\":0.5},\"pattern\":{\"fillmode\":\"overlay\",\"size\":10,\"solidity\":0.2}},\"type\":\"barpolar\"}],\"bar\":[{\"error_x\":{\"color\":\"#2a3f5f\"},\"error_y\":{\"color\":\"#2a3f5f\"},\"marker\":{\"line\":{\"color\":\"#E5ECF6\",\"width\":0.5},\"pattern\":{\"fillmode\":\"overlay\",\"size\":10,\"solidity\":0.2}},\"type\":\"bar\"}],\"carpet\":[{\"aaxis\":{\"endlinecolor\":\"#2a3f5f\",\"gridcolor\":\"white\",\"linecolor\":\"white\",\"minorgridcolor\":\"white\",\"startlinecolor\":\"#2a3f5f\"},\"baxis\":{\"endlinecolor\":\"#2a3f5f\",\"gridcolor\":\"white\",\"linecolor\":\"white\",\"minorgridcolor\":\"white\",\"startlinecolor\":\"#2a3f5f\"},\"type\":\"carpet\"}],\"choropleth\":[{\"colorbar\":{\"outlinewidth\":0,\"ticks\":\"\"},\"type\":\"choropleth\"}],\"contourcarpet\":[{\"colorbar\":{\"outlinewidth\":0,\"ticks\":\"\"},\"type\":\"contourcarpet\"}],\"contour\":[{\"colorbar\":{\"outlinewidth\":0,\"ticks\":\"\"},\"colorscale\":[[0.0,\"#0d0887\"],[0.1111111111111111,\"#46039f\"],[0.2222222222222222,\"#7201a8\"],[0.3333333333333333,\"#9c179e\"],[0.4444444444444444,\"#bd3786\"],[0.5555555555555556,\"#d8576b\"],[0.6666666666666666,\"#ed7953\"],[0.7777777777777778,\"#fb9f3a\"],[0.8888888888888888,\"#fdca26\"],[1.0,\"#f0f921\"]],\"type\":\"contour\"}],\"heatmapgl\":[{\"colorbar\":{\"outlinewidth\":0,\"ticks\":\"\"},\"colorscale\":[[0.0,\"#0d0887\"],[0.1111111111111111,\"#46039f\"],[0.2222222222222222,\"#7201a8\"],[0.3333333333333333,\"#9c179e\"],[0.4444444444444444,\"#bd3786\"],[0.5555555555555556,\"#d8576b\"],[0.6666666666666666,\"#ed7953\"],[0.7777777777777778,\"#fb9f3a\"],[0.8888888888888888,\"#fdca26\"],[1.0,\"#f0f921\"]],\"type\":\"heatmapgl\"}],\"heatmap\":[{\"colorbar\":{\"outlinewidth\":0,\"ticks\":\"\"},\"colorscale\":[[0.0,\"#0d0887\"],[0.1111111111111111,\"#46039f\"],[0.2222222222222222,\"#7201a8\"],[0.3333333333333333,\"#9c179e\"],[0.4444444444444444,\"#bd3786\"],[0.5555555555555556,\"#d8576b\"],[0.6666666666666666,\"#ed7953\"],[0.7777777777777778,\"#fb9f3a\"],[0.8888888888888888,\"#fdca26\"],[1.0,\"#f0f921\"]],\"type\":\"heatmap\"}],\"histogram2dcontour\":[{\"colorbar\":{\"outlinewidth\":0,\"ticks\":\"\"},\"colorscale\":[[0.0,\"#0d0887\"],[0.1111111111111111,\"#46039f\"],[0.2222222222222222,\"#7201a8\"],[0.3333333333333333,\"#9c179e\"],[0.4444444444444444,\"#bd3786\"],[0.5555555555555556,\"#d8576b\"],[0.6666666666666666,\"#ed7953\"],[0.7777777777777778,\"#fb9f3a\"],[0.8888888888888888,\"#fdca26\"],[1.0,\"#f0f921\"]],\"type\":\"histogram2dcontour\"}],\"histogram2d\":[{\"colorbar\":{\"outlinewidth\":0,\"ticks\":\"\"},\"colorscale\":[[0.0,\"#0d0887\"],[0.1111111111111111,\"#46039f\"],[0.2222222222222222,\"#7201a8\"],[0.3333333333333333,\"#9c179e\"],[0.4444444444444444,\"#bd3786\"],[0.5555555555555556,\"#d8576b\"],[0.6666666666666666,\"#ed7953\"],[0.7777777777777778,\"#fb9f3a\"],[0.8888888888888888,\"#fdca26\"],[1.0,\"#f0f921\"]],\"type\":\"histogram2d\"}],\"histogram\":[{\"marker\":{\"pattern\":{\"fillmode\":\"overlay\",\"size\":10,\"solidity\":0.2}},\"type\":\"histogram\"}],\"mesh3d\":[{\"colorbar\":{\"outlinewidth\":0,\"ticks\":\"\"},\"type\":\"mesh3d\"}],\"parcoords\":[{\"line\":{\"colorbar\":{\"outlinewidth\":0,\"ticks\":\"\"}},\"type\":\"parcoords\"}],\"pie\":[{\"automargin\":true,\"type\":\"pie\"}],\"scatter3d\":[{\"line\":{\"colorbar\":{\"outlinewidth\":0,\"ticks\":\"\"}},\"marker\":{\"colorbar\":{\"outlinewidth\":0,\"ticks\":\"\"}},\"type\":\"scatter3d\"}],\"scattercarpet\":[{\"marker\":{\"colorbar\":{\"outlinewidth\":0,\"ticks\":\"\"}},\"type\":\"scattercarpet\"}],\"scattergeo\":[{\"marker\":{\"colorbar\":{\"outlinewidth\":0,\"ticks\":\"\"}},\"type\":\"scattergeo\"}],\"scattergl\":[{\"marker\":{\"colorbar\":{\"outlinewidth\":0,\"ticks\":\"\"}},\"type\":\"scattergl\"}],\"scattermapbox\":[{\"marker\":{\"colorbar\":{\"outlinewidth\":0,\"ticks\":\"\"}},\"type\":\"scattermapbox\"}],\"scatterpolargl\":[{\"marker\":{\"colorbar\":{\"outlinewidth\":0,\"ticks\":\"\"}},\"type\":\"scatterpolargl\"}],\"scatterpolar\":[{\"marker\":{\"colorbar\":{\"outlinewidth\":0,\"ticks\":\"\"}},\"type\":\"scatterpolar\"}],\"scatter\":[{\"marker\":{\"colorbar\":{\"outlinewidth\":0,\"ticks\":\"\"}},\"type\":\"scatter\"}],\"scatterternary\":[{\"marker\":{\"colorbar\":{\"outlinewidth\":0,\"ticks\":\"\"}},\"type\":\"scatterternary\"}],\"surface\":[{\"colorbar\":{\"outlinewidth\":0,\"ticks\":\"\"},\"colorscale\":[[0.0,\"#0d0887\"],[0.1111111111111111,\"#46039f\"],[0.2222222222222222,\"#7201a8\"],[0.3333333333333333,\"#9c179e\"],[0.4444444444444444,\"#bd3786\"],[0.5555555555555556,\"#d8576b\"],[0.6666666666666666,\"#ed7953\"],[0.7777777777777778,\"#fb9f3a\"],[0.8888888888888888,\"#fdca26\"],[1.0,\"#f0f921\"]],\"type\":\"surface\"}],\"table\":[{\"cells\":{\"fill\":{\"color\":\"#EBF0F8\"},\"line\":{\"color\":\"white\"}},\"header\":{\"fill\":{\"color\":\"#C8D4E3\"},\"line\":{\"color\":\"white\"}},\"type\":\"table\"}]},\"layout\":{\"annotationdefaults\":{\"arrowcolor\":\"#2a3f5f\",\"arrowhead\":0,\"arrowwidth\":1},\"autotypenumbers\":\"strict\",\"coloraxis\":{\"colorbar\":{\"outlinewidth\":0,\"ticks\":\"\"}},\"colorscale\":{\"diverging\":[[0,\"#8e0152\"],[0.1,\"#c51b7d\"],[0.2,\"#de77ae\"],[0.3,\"#f1b6da\"],[0.4,\"#fde0ef\"],[0.5,\"#f7f7f7\"],[0.6,\"#e6f5d0\"],[0.7,\"#b8e186\"],[0.8,\"#7fbc41\"],[0.9,\"#4d9221\"],[1,\"#276419\"]],\"sequential\":[[0.0,\"#0d0887\"],[0.1111111111111111,\"#46039f\"],[0.2222222222222222,\"#7201a8\"],[0.3333333333333333,\"#9c179e\"],[0.4444444444444444,\"#bd3786\"],[0.5555555555555556,\"#d8576b\"],[0.6666666666666666,\"#ed7953\"],[0.7777777777777778,\"#fb9f3a\"],[0.8888888888888888,\"#fdca26\"],[1.0,\"#f0f921\"]],\"sequentialminus\":[[0.0,\"#0d0887\"],[0.1111111111111111,\"#46039f\"],[0.2222222222222222,\"#7201a8\"],[0.3333333333333333,\"#9c179e\"],[0.4444444444444444,\"#bd3786\"],[0.5555555555555556,\"#d8576b\"],[0.6666666666666666,\"#ed7953\"],[0.7777777777777778,\"#fb9f3a\"],[0.8888888888888888,\"#fdca26\"],[1.0,\"#f0f921\"]]},\"colorway\":[\"#636efa\",\"#EF553B\",\"#00cc96\",\"#ab63fa\",\"#FFA15A\",\"#19d3f3\",\"#FF6692\",\"#B6E880\",\"#FF97FF\",\"#FECB52\"],\"font\":{\"color\":\"#2a3f5f\"},\"geo\":{\"bgcolor\":\"white\",\"lakecolor\":\"white\",\"landcolor\":\"#E5ECF6\",\"showlakes\":true,\"showland\":true,\"subunitcolor\":\"white\"},\"hoverlabel\":{\"align\":\"left\"},\"hovermode\":\"closest\",\"mapbox\":{\"style\":\"light\"},\"paper_bgcolor\":\"white\",\"plot_bgcolor\":\"#E5ECF6\",\"polar\":{\"angularaxis\":{\"gridcolor\":\"white\",\"linecolor\":\"white\",\"ticks\":\"\"},\"bgcolor\":\"#E5ECF6\",\"radialaxis\":{\"gridcolor\":\"white\",\"linecolor\":\"white\",\"ticks\":\"\"}},\"scene\":{\"xaxis\":{\"backgroundcolor\":\"#E5ECF6\",\"gridcolor\":\"white\",\"gridwidth\":2,\"linecolor\":\"white\",\"showbackground\":true,\"ticks\":\"\",\"zerolinecolor\":\"white\"},\"yaxis\":{\"backgroundcolor\":\"#E5ECF6\",\"gridcolor\":\"white\",\"gridwidth\":2,\"linecolor\":\"white\",\"showbackground\":true,\"ticks\":\"\",\"zerolinecolor\":\"white\"},\"zaxis\":{\"backgroundcolor\":\"#E5ECF6\",\"gridcolor\":\"white\",\"gridwidth\":2,\"linecolor\":\"white\",\"showbackground\":true,\"ticks\":\"\",\"zerolinecolor\":\"white\"}},\"shapedefaults\":{\"line\":{\"color\":\"#2a3f5f\"}},\"ternary\":{\"aaxis\":{\"gridcolor\":\"white\",\"linecolor\":\"white\",\"ticks\":\"\"},\"baxis\":{\"gridcolor\":\"white\",\"linecolor\":\"white\",\"ticks\":\"\"},\"bgcolor\":\"#E5ECF6\",\"caxis\":{\"gridcolor\":\"white\",\"linecolor\":\"white\",\"ticks\":\"\"}},\"title\":{\"x\":0.05},\"xaxis\":{\"automargin\":true,\"gridcolor\":\"white\",\"linecolor\":\"white\",\"ticks\":\"\",\"title\":{\"standoff\":15},\"zerolinecolor\":\"white\",\"zerolinewidth\":2},\"yaxis\":{\"automargin\":true,\"gridcolor\":\"white\",\"linecolor\":\"white\",\"ticks\":\"\",\"title\":{\"standoff\":15},\"zerolinecolor\":\"white\",\"zerolinewidth\":2}}},\"title\":{\"font\":{\"color\":\"#D9D9D9\"}},\"xaxis\":{\"gridcolor\":\"#434343\",\"showgrid\":true,\"tickfont\":{\"color\":\"#C2C2C2\"},\"title\":{\"font\":{\"color\":\"#D9D9D9\"},\"text\":\"\"},\"zerolinecolor\":\"#666570\"},\"yaxis\":{\"gridcolor\":\"#434343\",\"showgrid\":true,\"tickfont\":{\"color\":\"#C2C2C2\"},\"title\":{\"font\":{\"color\":\"#D9D9D9\"},\"text\":\"\"},\"zerolinecolor\":\"#666570\"}},                        {\"showLink\": true, \"linkText\": \"Export to plot.ly\", \"plotlyServerURL\": \"https://plot.ly\", \"responsive\": true}                    ).then(function(){\n",
       "                            \n",
       "var gd = document.getElementById('c001629b-51b5-4dc2-9eed-282abcb8ffb8');\n",
       "var x = new MutationObserver(function (mutations, observer) {{\n",
       "        var display = window.getComputedStyle(gd).display;\n",
       "        if (!display || display === 'none') {{\n",
       "            console.log([gd, 'removed!']);\n",
       "            Plotly.purge(gd);\n",
       "            observer.disconnect();\n",
       "        }}\n",
       "}});\n",
       "\n",
       "// Listen for the removal of the full notebook cells\n",
       "var notebookContainer = gd.closest('#notebook-container');\n",
       "if (notebookContainer) {{\n",
       "    x.observe(notebookContainer, {childList: true});\n",
       "}}\n",
       "\n",
       "// Listen for the clearing of the current output cell\n",
       "var outputEl = gd.closest('.output');\n",
       "if (outputEl) {{\n",
       "    x.observe(outputEl, {childList: true});\n",
       "}}\n",
       "\n",
       "                        })                };                });            </script>        </div>"
      ]
     },
     "metadata": {},
     "output_type": "display_data"
    },
    {
     "data": {
      "text/html": [
       "<div>\n",
       "<style scoped>\n",
       "    .dataframe tbody tr th:only-of-type {\n",
       "        vertical-align: middle;\n",
       "    }\n",
       "\n",
       "    .dataframe tbody tr th {\n",
       "        vertical-align: top;\n",
       "    }\n",
       "\n",
       "    .dataframe thead th {\n",
       "        text-align: right;\n",
       "    }\n",
       "</style>\n",
       "<table border=\"1\" class=\"dataframe\">\n",
       "  <thead>\n",
       "    <tr style=\"text-align: right;\">\n",
       "      <th></th>\n",
       "      <th>DTSubjectName</th>\n",
       "      <th>ExchangeName</th>\n",
       "      <th>RIC</th>\n",
       "      <th>MktCapCompanyUsd</th>\n",
       "      <th>ShareholdersEquityUsd</th>\n",
       "      <th>Pe</th>\n",
       "      <th>DebtToAssets</th>\n",
       "      <th>Beta</th>\n",
       "      <th>Eps</th>\n",
       "      <th>Gics</th>\n",
       "      <th>...</th>\n",
       "      <th>RCSAssetCategory</th>\n",
       "      <th>RCSCurrencyLeaf</th>\n",
       "      <th>AssetState</th>\n",
       "      <th>BusinessEntity</th>\n",
       "      <th>PI</th>\n",
       "      <th>IssueISIN</th>\n",
       "      <th>CinCUSIP</th>\n",
       "      <th>SEDOL</th>\n",
       "      <th>CUSIP</th>\n",
       "      <th>SolvencyMargin</th>\n",
       "    </tr>\n",
       "  </thead>\n",
       "  <tbody>\n",
       "    <tr>\n",
       "      <th>1683</th>\n",
       "      <td>One Heritage Group PLC</td>\n",
       "      <td>London Stock Exchange</td>\n",
       "      <td>OHG.L</td>\n",
       "      <td>9710388.0</td>\n",
       "      <td>&lt;NA&gt;</td>\n",
       "      <td>&lt;NA&gt;</td>\n",
       "      <td>&lt;NA&gt;</td>\n",
       "      <td>5.163173</td>\n",
       "      <td>&lt;NA&gt;</td>\n",
       "      <td>&lt;NA&gt;</td>\n",
       "      <td>...</td>\n",
       "      <td>A:1L</td>\n",
       "      <td>British Penny</td>\n",
       "      <td>AC</td>\n",
       "      <td>QUOTExEQUITY</td>\n",
       "      <td>483172709</td>\n",
       "      <td>GB00BLF79495</td>\n",
       "      <td>G67514102</td>\n",
       "      <td>BLF7949</td>\n",
       "      <td>&lt;NA&gt;</td>\n",
       "      <td>&lt;NA&gt;</td>\n",
       "    </tr>\n",
       "    <tr>\n",
       "      <th>838</th>\n",
       "      <td>Tirupati Graphite PLC</td>\n",
       "      <td>London Stock Exchange</td>\n",
       "      <td>TGRT.L</td>\n",
       "      <td>35498228.0</td>\n",
       "      <td>9128984.0</td>\n",
       "      <td>&lt;NA&gt;</td>\n",
       "      <td>0.176383</td>\n",
       "      <td>4.742009</td>\n",
       "      <td>-0.0266</td>\n",
       "      <td>Materials/Materials/Metals &amp; Mining/Diversifie...</td>\n",
       "      <td>...</td>\n",
       "      <td>A:1L</td>\n",
       "      <td>British Penny</td>\n",
       "      <td>AC</td>\n",
       "      <td>QUOTExEQUITY</td>\n",
       "      <td>464325981</td>\n",
       "      <td>GB00BFYMWJ95</td>\n",
       "      <td>G8T09D107</td>\n",
       "      <td>BFYMWJ9</td>\n",
       "      <td>&lt;NA&gt;</td>\n",
       "      <td>&lt;NA&gt;</td>\n",
       "    </tr>\n",
       "    <tr>\n",
       "      <th>82</th>\n",
       "      <td>Harbour Energy PLC</td>\n",
       "      <td>London Stock Exchange</td>\n",
       "      <td>HBR.L</td>\n",
       "      <td>4366451804.0</td>\n",
       "      <td>473500000.0</td>\n",
       "      <td>5.112381</td>\n",
       "      <td>0.967355</td>\n",
       "      <td>4.659199</td>\n",
       "      <td>1.07976</td>\n",
       "      <td>Energy/Energy/Oil, Gas &amp; Consumable Fuels/Oil ...</td>\n",
       "      <td>...</td>\n",
       "      <td>A:1L</td>\n",
       "      <td>British Penny</td>\n",
       "      <td>AC</td>\n",
       "      <td>QUOTExEQUITY</td>\n",
       "      <td>1080131</td>\n",
       "      <td>GB00BMBVGQ36</td>\n",
       "      <td>G4289T111</td>\n",
       "      <td>BMBVGQ3</td>\n",
       "      <td>&lt;NA&gt;</td>\n",
       "      <td>&lt;NA&gt;</td>\n",
       "    </tr>\n",
       "    <tr>\n",
       "      <th>519</th>\n",
       "      <td>Cineworld Group PLC</td>\n",
       "      <td>London Stock Exchange</td>\n",
       "      <td>CINE.L</td>\n",
       "      <td>37346335.0</td>\n",
       "      <td>-345000000.0</td>\n",
       "      <td>&lt;NA&gt;</td>\n",
       "      <td>1.033267</td>\n",
       "      <td>4.181223</td>\n",
       "      <td>-0.25085</td>\n",
       "      <td>Communication Services/Media &amp; Entertainment/E...</td>\n",
       "      <td>...</td>\n",
       "      <td>A:1L</td>\n",
       "      <td>British Penny</td>\n",
       "      <td>AC</td>\n",
       "      <td>QUOTExEQUITY</td>\n",
       "      <td>33010318</td>\n",
       "      <td>GB00B15FWH70</td>\n",
       "      <td>G219AH100</td>\n",
       "      <td>B15FWH7</td>\n",
       "      <td>&lt;NA&gt;</td>\n",
       "      <td>&lt;NA&gt;</td>\n",
       "    </tr>\n",
       "    <tr>\n",
       "      <th>2787</th>\n",
       "      <td>Kosmos Energy Ltd</td>\n",
       "      <td>London Stock Exchange</td>\n",
       "      <td>KOS.L</td>\n",
       "      <td>2785190068.0</td>\n",
       "      <td>&lt;NA&gt;</td>\n",
       "      <td>16.817554</td>\n",
       "      <td>&lt;NA&gt;</td>\n",
       "      <td>4.090578</td>\n",
       "      <td>0.40179</td>\n",
       "      <td>Energy/Energy/Oil, Gas &amp; Consumable Fuels/Oil ...</td>\n",
       "      <td>...</td>\n",
       "      <td>A:1L</td>\n",
       "      <td>British Penny</td>\n",
       "      <td>AC</td>\n",
       "      <td>QUOTExEQUITY</td>\n",
       "      <td>269548375</td>\n",
       "      <td>US5006881065</td>\n",
       "      <td>&lt;NA&gt;</td>\n",
       "      <td>BJ1MZF7</td>\n",
       "      <td>500688106</td>\n",
       "      <td>&lt;NA&gt;</td>\n",
       "    </tr>\n",
       "    <tr>\n",
       "      <th>1034</th>\n",
       "      <td>Revolution Bars Group PLC</td>\n",
       "      <td>London Stock Exchange</td>\n",
       "      <td>RBG.L</td>\n",
       "      <td>27337286.0</td>\n",
       "      <td>-28151634.0</td>\n",
       "      <td>&lt;NA&gt;</td>\n",
       "      <td>1.213262</td>\n",
       "      <td>3.984417</td>\n",
       "      <td>-0.037006</td>\n",
       "      <td>Consumer Discretionary/Consumer Services/Hotel...</td>\n",
       "      <td>...</td>\n",
       "      <td>A:1L</td>\n",
       "      <td>British Penny</td>\n",
       "      <td>AC</td>\n",
       "      <td>QUOTExEQUITY</td>\n",
       "      <td>181974050</td>\n",
       "      <td>GB00BVDPPV41</td>\n",
       "      <td>G7546B104</td>\n",
       "      <td>BVDPPV4</td>\n",
       "      <td>&lt;NA&gt;</td>\n",
       "      <td>&lt;NA&gt;</td>\n",
       "    </tr>\n",
       "    <tr>\n",
       "      <th>584</th>\n",
       "      <td>Hyve Group PLC</td>\n",
       "      <td>London Stock Exchange</td>\n",
       "      <td>HYVE.L</td>\n",
       "      <td>182231237.0</td>\n",
       "      <td>152938242.0</td>\n",
       "      <td>&lt;NA&gt;</td>\n",
       "      <td>0.627912</td>\n",
       "      <td>3.831279</td>\n",
       "      <td>-0.15787</td>\n",
       "      <td>Communication Services/Media &amp; Entertainment/M...</td>\n",
       "      <td>...</td>\n",
       "      <td>A:1L</td>\n",
       "      <td>British Penny</td>\n",
       "      <td>AC</td>\n",
       "      <td>QUOTExEQUITY</td>\n",
       "      <td>1082258</td>\n",
       "      <td>GB00BKP36R26</td>\n",
       "      <td>G4690X123</td>\n",
       "      <td>BKP36R2</td>\n",
       "      <td>&lt;NA&gt;</td>\n",
       "      <td>&lt;NA&gt;</td>\n",
       "    </tr>\n",
       "    <tr>\n",
       "      <th>982</th>\n",
       "      <td>Costain Group PLC</td>\n",
       "      <td>London Stock Exchange</td>\n",
       "      <td>COSG.L</td>\n",
       "      <td>121855002.0</td>\n",
       "      <td>222044200.0</td>\n",
       "      <td>&lt;NA&gt;</td>\n",
       "      <td>0.626221</td>\n",
       "      <td>3.793154</td>\n",
       "      <td>-0.02266</td>\n",
       "      <td>Industrials/Capital Goods/Construction &amp; Engin...</td>\n",
       "      <td>...</td>\n",
       "      <td>A:1L</td>\n",
       "      <td>British Penny</td>\n",
       "      <td>AC</td>\n",
       "      <td>QUOTExEQUITY</td>\n",
       "      <td>1079935</td>\n",
       "      <td>GB00B64NSP76</td>\n",
       "      <td>G24472204</td>\n",
       "      <td>B64NSP7</td>\n",
       "      <td>&lt;NA&gt;</td>\n",
       "      <td>&lt;NA&gt;</td>\n",
       "    </tr>\n",
       "    <tr>\n",
       "      <th>1201</th>\n",
       "      <td>XP Factory PLC</td>\n",
       "      <td>London Stock Exchange</td>\n",
       "      <td>XPF.L</td>\n",
       "      <td>22233175.0</td>\n",
       "      <td>24343408.0</td>\n",
       "      <td>&lt;NA&gt;</td>\n",
       "      <td>0.554473</td>\n",
       "      <td>3.712753</td>\n",
       "      <td>-0.00765</td>\n",
       "      <td>Consumer Discretionary/Consumer Services/Hotel...</td>\n",
       "      <td>...</td>\n",
       "      <td>A:1L</td>\n",
       "      <td>British Penny</td>\n",
       "      <td>AC</td>\n",
       "      <td>QUOTExEQUITY</td>\n",
       "      <td>229781424</td>\n",
       "      <td>GB00BDB79J29</td>\n",
       "      <td>G2816A100</td>\n",
       "      <td>BDB79J2</td>\n",
       "      <td>&lt;NA&gt;</td>\n",
       "      <td>&lt;NA&gt;</td>\n",
       "    </tr>\n",
       "    <tr>\n",
       "      <th>347</th>\n",
       "      <td>Capita PLC</td>\n",
       "      <td>London Stock Exchange</td>\n",
       "      <td>CPI.L</td>\n",
       "      <td>510797109.0</td>\n",
       "      <td>306287100.0</td>\n",
       "      <td>&lt;NA&gt;</td>\n",
       "      <td>0.905645</td>\n",
       "      <td>3.708807</td>\n",
       "      <td>-0.01717</td>\n",
       "      <td>Information Technology/Software &amp; Services/IT ...</td>\n",
       "      <td>...</td>\n",
       "      <td>A:1L</td>\n",
       "      <td>British Penny</td>\n",
       "      <td>AC</td>\n",
       "      <td>QUOTExEQUITY</td>\n",
       "      <td>1049459</td>\n",
       "      <td>GB00B23K0M20</td>\n",
       "      <td>G1846J115</td>\n",
       "      <td>B23K0M2</td>\n",
       "      <td>&lt;NA&gt;</td>\n",
       "      <td>&lt;NA&gt;</td>\n",
       "    </tr>\n",
       "    <tr>\n",
       "      <th>2002</th>\n",
       "      <td>Ageas SA</td>\n",
       "      <td>London Stock Exchange</td>\n",
       "      <td>0Q99.L</td>\n",
       "      <td>7209218948.0</td>\n",
       "      <td>11661423200.0</td>\n",
       "      <td>&lt;NA&gt;</td>\n",
       "      <td>0.872484</td>\n",
       "      <td>3.660706</td>\n",
       "      <td>5.39767</td>\n",
       "      <td>Financials/Insurance/Insurance/Multi-line Insu...</td>\n",
       "      <td>...</td>\n",
       "      <td>A:1L</td>\n",
       "      <td>Euro</td>\n",
       "      <td>AC</td>\n",
       "      <td>QUOTExEQUITY</td>\n",
       "      <td>16693373</td>\n",
       "      <td>BE0974264930</td>\n",
       "      <td>B0148L138</td>\n",
       "      <td>B83F4Z0</td>\n",
       "      <td>&lt;NA&gt;</td>\n",
       "      <td>130.383333</td>\n",
       "    </tr>\n",
       "    <tr>\n",
       "      <th>211</th>\n",
       "      <td>Tullow Oil PLC</td>\n",
       "      <td>London Stock Exchange</td>\n",
       "      <td>TLW.L</td>\n",
       "      <td>714774978.0</td>\n",
       "      <td>-466100000.0</td>\n",
       "      <td>8.813512</td>\n",
       "      <td>1.084124</td>\n",
       "      <td>3.648886</td>\n",
       "      <td>0.0615</td>\n",
       "      <td>Energy/Energy/Oil, Gas &amp; Consumable Fuels/Oil ...</td>\n",
       "      <td>...</td>\n",
       "      <td>A:1L</td>\n",
       "      <td>British Penny</td>\n",
       "      <td>AC</td>\n",
       "      <td>QUOTExEQUITY</td>\n",
       "      <td>1080192</td>\n",
       "      <td>GB0001500809</td>\n",
       "      <td>G91235104</td>\n",
       "      <td>0150080</td>\n",
       "      <td>&lt;NA&gt;</td>\n",
       "      <td>&lt;NA&gt;</td>\n",
       "    </tr>\n",
       "    <tr>\n",
       "      <th>1128</th>\n",
       "      <td>Immotion Group PLC</td>\n",
       "      <td>London Stock Exchange</td>\n",
       "      <td>IMMOI.L</td>\n",
       "      <td>11939177.0</td>\n",
       "      <td>6382376.0</td>\n",
       "      <td>&lt;NA&gt;</td>\n",
       "      <td>0.243486</td>\n",
       "      <td>3.647167</td>\n",
       "      <td>-0.00247</td>\n",
       "      <td>Communication Services/Media &amp; Entertainment/E...</td>\n",
       "      <td>...</td>\n",
       "      <td>A:1L</td>\n",
       "      <td>British Penny</td>\n",
       "      <td>AC</td>\n",
       "      <td>QUOTExEQUITY</td>\n",
       "      <td>314002711</td>\n",
       "      <td>GB00BD5JRP64</td>\n",
       "      <td>G471AD106</td>\n",
       "      <td>BD5JRP6</td>\n",
       "      <td>&lt;NA&gt;</td>\n",
       "      <td>&lt;NA&gt;</td>\n",
       "    </tr>\n",
       "    <tr>\n",
       "      <th>395</th>\n",
       "      <td>4D Pharma PLC</td>\n",
       "      <td>London Stock Exchange</td>\n",
       "      <td>DDDD.L</td>\n",
       "      <td>33523363.0</td>\n",
       "      <td>25884328.0</td>\n",
       "      <td>&lt;NA&gt;</td>\n",
       "      <td>0.459758</td>\n",
       "      <td>3.561013</td>\n",
       "      <td>-0.33807</td>\n",
       "      <td>Health Care/Pharmaceuticals, Biotechnology &amp; L...</td>\n",
       "      <td>...</td>\n",
       "      <td>A:1L</td>\n",
       "      <td>British Penny</td>\n",
       "      <td>AC</td>\n",
       "      <td>QUOTExEQUITY</td>\n",
       "      <td>152873333</td>\n",
       "      <td>GB00BJL5BR07</td>\n",
       "      <td>G3654S104</td>\n",
       "      <td>BJL5BR0</td>\n",
       "      <td>&lt;NA&gt;</td>\n",
       "      <td>&lt;NA&gt;</td>\n",
       "    </tr>\n",
       "    <tr>\n",
       "      <th>432</th>\n",
       "      <td>Restaurant Group PLC</td>\n",
       "      <td>London Stock Exchange</td>\n",
       "      <td>RTN.L</td>\n",
       "      <td>274706701.0</td>\n",
       "      <td>490617260.0</td>\n",
       "      <td>&lt;NA&gt;</td>\n",
       "      <td>0.675187</td>\n",
       "      <td>3.558517</td>\n",
       "      <td>-0.01026</td>\n",
       "      <td>Consumer Discretionary/Consumer Services/Hotel...</td>\n",
       "      <td>...</td>\n",
       "      <td>A:1L</td>\n",
       "      <td>British Penny</td>\n",
       "      <td>AC</td>\n",
       "      <td>QUOTExEQUITY</td>\n",
       "      <td>1079943</td>\n",
       "      <td>GB00B0YG1K06</td>\n",
       "      <td>G7535J118</td>\n",
       "      <td>B0YG1K0</td>\n",
       "      <td>&lt;NA&gt;</td>\n",
       "      <td>&lt;NA&gt;</td>\n",
       "    </tr>\n",
       "    <tr>\n",
       "      <th>381</th>\n",
       "      <td>N Brown Group PLC</td>\n",
       "      <td>London Stock Exchange</td>\n",
       "      <td>BWNG.L</td>\n",
       "      <td>110468545.0</td>\n",
       "      <td>493518340.0</td>\n",
       "      <td>&lt;NA&gt;</td>\n",
       "      <td>0.504592</td>\n",
       "      <td>3.555524</td>\n",
       "      <td>-0.00348</td>\n",
       "      <td>Consumer Discretionary/Retailing/Internet &amp; Di...</td>\n",
       "      <td>...</td>\n",
       "      <td>A:1L</td>\n",
       "      <td>British Penny</td>\n",
       "      <td>AC</td>\n",
       "      <td>QUOTExEQUITY</td>\n",
       "      <td>1080637</td>\n",
       "      <td>GB00B1P6ZR11</td>\n",
       "      <td>G64036125</td>\n",
       "      <td>B1P6ZR1</td>\n",
       "      <td>&lt;NA&gt;</td>\n",
       "      <td>&lt;NA&gt;</td>\n",
       "    </tr>\n",
       "    <tr>\n",
       "      <th>735</th>\n",
       "      <td>Petra Diamonds Ltd</td>\n",
       "      <td>London Stock Exchange</td>\n",
       "      <td>PDL.L</td>\n",
       "      <td>236192483.0</td>\n",
       "      <td>450800000.0</td>\n",
       "      <td>3.730358</td>\n",
       "      <td>0.591786</td>\n",
       "      <td>3.526154</td>\n",
       "      <td>0.35575</td>\n",
       "      <td>Materials/Materials/Metals &amp; Mining/Precious M...</td>\n",
       "      <td>...</td>\n",
       "      <td>A:1L</td>\n",
       "      <td>British Penny</td>\n",
       "      <td>AC</td>\n",
       "      <td>QUOTExEQUITY</td>\n",
       "      <td>1079451</td>\n",
       "      <td>BMG702782084</td>\n",
       "      <td>G70278208</td>\n",
       "      <td>BNYNCZ4</td>\n",
       "      <td>&lt;NA&gt;</td>\n",
       "      <td>&lt;NA&gt;</td>\n",
       "    </tr>\n",
       "    <tr>\n",
       "      <th>1426</th>\n",
       "      <td>Tekmar Group PLC</td>\n",
       "      <td>London Stock Exchange</td>\n",
       "      <td>TGPT.L</td>\n",
       "      <td>5611602.0</td>\n",
       "      <td>44880823.0</td>\n",
       "      <td>&lt;NA&gt;</td>\n",
       "      <td>0.287104</td>\n",
       "      <td>3.441146</td>\n",
       "      <td>-0.12135</td>\n",
       "      <td>Energy/Energy/Energy Equipment &amp; Services/Oil ...</td>\n",
       "      <td>...</td>\n",
       "      <td>A:1L</td>\n",
       "      <td>British Penny</td>\n",
       "      <td>AC</td>\n",
       "      <td>QUOTExEQUITY</td>\n",
       "      <td>309639361</td>\n",
       "      <td>GB00BDFGGK53</td>\n",
       "      <td>G8738Y100</td>\n",
       "      <td>BDFGGK5</td>\n",
       "      <td>&lt;NA&gt;</td>\n",
       "      <td>&lt;NA&gt;</td>\n",
       "    </tr>\n",
       "    <tr>\n",
       "      <th>1560</th>\n",
       "      <td>I-nexus Global PLC</td>\n",
       "      <td>London Stock Exchange</td>\n",
       "      <td>INX.L</td>\n",
       "      <td>1121863.0</td>\n",
       "      <td>-1292319.0</td>\n",
       "      <td>&lt;NA&gt;</td>\n",
       "      <td>1.412379</td>\n",
       "      <td>3.405843</td>\n",
       "      <td>-0.02711</td>\n",
       "      <td>Information Technology/Software &amp; Services/Sof...</td>\n",
       "      <td>...</td>\n",
       "      <td>A:1L</td>\n",
       "      <td>British Penny</td>\n",
       "      <td>AC</td>\n",
       "      <td>QUOTExEQUITY</td>\n",
       "      <td>310073200</td>\n",
       "      <td>GB00BDFDLT01</td>\n",
       "      <td>G4768Y102</td>\n",
       "      <td>BDFDLT0</td>\n",
       "      <td>&lt;NA&gt;</td>\n",
       "      <td>&lt;NA&gt;</td>\n",
       "    </tr>\n",
       "    <tr>\n",
       "      <th>727</th>\n",
       "      <td>Superdry PLC</td>\n",
       "      <td>London Stock Exchange</td>\n",
       "      <td>SDRY.L</td>\n",
       "      <td>93878256.0</td>\n",
       "      <td>100868320.0</td>\n",
       "      <td>&lt;NA&gt;</td>\n",
       "      <td>0.823506</td>\n",
       "      <td>3.388474</td>\n",
       "      <td>-0.22233</td>\n",
       "      <td>Consumer Discretionary/Retailing/Specialty Ret...</td>\n",
       "      <td>...</td>\n",
       "      <td>A:1L</td>\n",
       "      <td>British Penny</td>\n",
       "      <td>AC</td>\n",
       "      <td>QUOTExEQUITY</td>\n",
       "      <td>69789026</td>\n",
       "      <td>GB00B60BD277</td>\n",
       "      <td>G8585P103</td>\n",
       "      <td>B60BD27</td>\n",
       "      <td>&lt;NA&gt;</td>\n",
       "      <td>&lt;NA&gt;</td>\n",
       "    </tr>\n",
       "    <tr>\n",
       "      <th>1345</th>\n",
       "      <td>Echo Energy PLC</td>\n",
       "      <td>London Stock Exchange</td>\n",
       "      <td>ECHOE.L</td>\n",
       "      <td>5458106.0</td>\n",
       "      <td>-33809480.0</td>\n",
       "      <td>&lt;NA&gt;</td>\n",
       "      <td>3.411121</td>\n",
       "      <td>3.384812</td>\n",
       "      <td>-0.00944</td>\n",
       "      <td>Energy/Energy/Oil, Gas &amp; Consumable Fuels/Inte...</td>\n",
       "      <td>...</td>\n",
       "      <td>A:1L</td>\n",
       "      <td>British Penny</td>\n",
       "      <td>AC</td>\n",
       "      <td>QUOTExEQUITY</td>\n",
       "      <td>23694123</td>\n",
       "      <td>GB00BF0YPG76</td>\n",
       "      <td>G28933102</td>\n",
       "      <td>BF0YPG7</td>\n",
       "      <td>&lt;NA&gt;</td>\n",
       "      <td>&lt;NA&gt;</td>\n",
       "    </tr>\n",
       "    <tr>\n",
       "      <th>686</th>\n",
       "      <td>SIG PLC</td>\n",
       "      <td>London Stock Exchange</td>\n",
       "      <td>SHI.L</td>\n",
       "      <td>402106288.0</td>\n",
       "      <td>295352260.0</td>\n",
       "      <td>&lt;NA&gt;</td>\n",
       "      <td>0.779729</td>\n",
       "      <td>3.373529</td>\n",
       "      <td>-0.0032</td>\n",
       "      <td>Industrials/Capital Goods/Trading Companies &amp; ...</td>\n",
       "      <td>...</td>\n",
       "      <td>A:1L</td>\n",
       "      <td>British Penny</td>\n",
       "      <td>AC</td>\n",
       "      <td>QUOTExEQUITY</td>\n",
       "      <td>1080901</td>\n",
       "      <td>GB0008025412</td>\n",
       "      <td>G80797106</td>\n",
       "      <td>0802541</td>\n",
       "      <td>&lt;NA&gt;</td>\n",
       "      <td>&lt;NA&gt;</td>\n",
       "    </tr>\n",
       "    <tr>\n",
       "      <th>1198</th>\n",
       "      <td>Gulf Marine Services PLC</td>\n",
       "      <td>London Stock Exchange</td>\n",
       "      <td>GMS.L</td>\n",
       "      <td>66345750.0</td>\n",
       "      <td>260796000.0</td>\n",
       "      <td>0.772073</td>\n",
       "      <td>0.610455</td>\n",
       "      <td>3.338237</td>\n",
       "      <td>0.09225</td>\n",
       "      <td>Energy/Energy/Energy Equipment &amp; Services/Oil ...</td>\n",
       "      <td>...</td>\n",
       "      <td>A:1L</td>\n",
       "      <td>British Penny</td>\n",
       "      <td>AC</td>\n",
       "      <td>QUOTExEQUITY</td>\n",
       "      <td>136760491</td>\n",
       "      <td>GB00BJVWTM27</td>\n",
       "      <td>G4R77L107</td>\n",
       "      <td>BJVWTM2</td>\n",
       "      <td>&lt;NA&gt;</td>\n",
       "      <td>&lt;NA&gt;</td>\n",
       "    </tr>\n",
       "    <tr>\n",
       "      <th>117</th>\n",
       "      <td>Micro Focus International PLC</td>\n",
       "      <td>London Stock Exchange</td>\n",
       "      <td>MCRO.L</td>\n",
       "      <td>1949981484.0</td>\n",
       "      <td>2821000000.0</td>\n",
       "      <td>&lt;NA&gt;</td>\n",
       "      <td>0.72735</td>\n",
       "      <td>3.297618</td>\n",
       "      <td>-0.72741</td>\n",
       "      <td>Information Technology/Software &amp; Services/Sof...</td>\n",
       "      <td>...</td>\n",
       "      <td>A:1L</td>\n",
       "      <td>British Penny</td>\n",
       "      <td>AC</td>\n",
       "      <td>QUOTExEQUITY</td>\n",
       "      <td>20538910</td>\n",
       "      <td>GB00BJ1F4N75</td>\n",
       "      <td>G6117L194</td>\n",
       "      <td>BJ1F4N7</td>\n",
       "      <td>&lt;NA&gt;</td>\n",
       "      <td>&lt;NA&gt;</td>\n",
       "    </tr>\n",
       "    <tr>\n",
       "      <th>87</th>\n",
       "      <td>Carnival PLC</td>\n",
       "      <td>London Stock Exchange</td>\n",
       "      <td>CCL.L</td>\n",
       "      <td>909334134.0</td>\n",
       "      <td>12145000000.0</td>\n",
       "      <td>&lt;NA&gt;</td>\n",
       "      <td>0.772327</td>\n",
       "      <td>3.29689</td>\n",
       "      <td>-6.23449</td>\n",
       "      <td>Consumer Discretionary/Consumer Services/Hotel...</td>\n",
       "      <td>...</td>\n",
       "      <td>A:1L</td>\n",
       "      <td>British Penny</td>\n",
       "      <td>AC</td>\n",
       "      <td>QUOTExEQUITY</td>\n",
       "      <td>1281424</td>\n",
       "      <td>GB0031215220</td>\n",
       "      <td>G19081101</td>\n",
       "      <td>3121522</td>\n",
       "      <td>&lt;NA&gt;</td>\n",
       "      <td>&lt;NA&gt;</td>\n",
       "    </tr>\n",
       "    <tr>\n",
       "      <th>712</th>\n",
       "      <td>Predator Oil &amp; Gas Holdings PLC</td>\n",
       "      <td>London Stock Exchange</td>\n",
       "      <td>PRDP.L</td>\n",
       "      <td>31652732.0</td>\n",
       "      <td>6369187.0</td>\n",
       "      <td>&lt;NA&gt;</td>\n",
       "      <td>0.041158</td>\n",
       "      <td>3.289157</td>\n",
       "      <td>-0.00363</td>\n",
       "      <td>Energy/Energy/Oil, Gas &amp; Consumable Fuels/Oil ...</td>\n",
       "      <td>...</td>\n",
       "      <td>A:1L</td>\n",
       "      <td>British Penny</td>\n",
       "      <td>AC</td>\n",
       "      <td>QUOTExEQUITY</td>\n",
       "      <td>307717532</td>\n",
       "      <td>JE00BFZ1D698</td>\n",
       "      <td>G72090106</td>\n",
       "      <td>BFZ1D69</td>\n",
       "      <td>&lt;NA&gt;</td>\n",
       "      <td>&lt;NA&gt;</td>\n",
       "    </tr>\n",
       "    <tr>\n",
       "      <th>750</th>\n",
       "      <td>Iconic Labs PLC</td>\n",
       "      <td>London Stock Exchange</td>\n",
       "      <td>ICONI.L</td>\n",
       "      <td>6677884.0</td>\n",
       "      <td>-3473117.0</td>\n",
       "      <td>&lt;NA&gt;</td>\n",
       "      <td>9.629047</td>\n",
       "      <td>3.285231</td>\n",
       "      <td>&lt;NA&gt;</td>\n",
       "      <td>Health Care/Health Care Equipment &amp; Services/H...</td>\n",
       "      <td>...</td>\n",
       "      <td>A:1L</td>\n",
       "      <td>British Penny</td>\n",
       "      <td>AC</td>\n",
       "      <td>QUOTExEQUITY</td>\n",
       "      <td>233143146</td>\n",
       "      <td>GB00BD060S65</td>\n",
       "      <td>G4711X102</td>\n",
       "      <td>BD060S6</td>\n",
       "      <td>&lt;NA&gt;</td>\n",
       "      <td>&lt;NA&gt;</td>\n",
       "    </tr>\n",
       "    <tr>\n",
       "      <th>1308</th>\n",
       "      <td>Inspirit Energy Holdings PLC</td>\n",
       "      <td>London Stock Exchange</td>\n",
       "      <td>INSP.L</td>\n",
       "      <td>1501383.0</td>\n",
       "      <td>3224662.0</td>\n",
       "      <td>&lt;NA&gt;</td>\n",
       "      <td>0.15025</td>\n",
       "      <td>3.277743</td>\n",
       "      <td>-0.00009</td>\n",
       "      <td>Industrials/Capital Goods/Machinery/Industrial...</td>\n",
       "      <td>...</td>\n",
       "      <td>A:1L</td>\n",
       "      <td>British Penny</td>\n",
       "      <td>AC</td>\n",
       "      <td>QUOTExEQUITY</td>\n",
       "      <td>25240262</td>\n",
       "      <td>GB00B44W9L31</td>\n",
       "      <td>G52837120</td>\n",
       "      <td>B44W9L3</td>\n",
       "      <td>&lt;NA&gt;</td>\n",
       "      <td>&lt;NA&gt;</td>\n",
       "    </tr>\n",
       "    <tr>\n",
       "      <th>765</th>\n",
       "      <td>Pharos Energy PLC</td>\n",
       "      <td>London Stock Exchange</td>\n",
       "      <td>PHARP.L</td>\n",
       "      <td>113800366.0</td>\n",
       "      <td>304400000.0</td>\n",
       "      <td>2.912144</td>\n",
       "      <td>0.483805</td>\n",
       "      <td>3.212507</td>\n",
       "      <td>0.09783</td>\n",
       "      <td>Energy/Energy/Oil, Gas &amp; Consumable Fuels/Oil ...</td>\n",
       "      <td>...</td>\n",
       "      <td>A:1L</td>\n",
       "      <td>British Penny</td>\n",
       "      <td>AC</td>\n",
       "      <td>QUOTExEQUITY</td>\n",
       "      <td>1081414</td>\n",
       "      <td>GB00B572ZV91</td>\n",
       "      <td>M7S90R102</td>\n",
       "      <td>B572ZV9</td>\n",
       "      <td>&lt;NA&gt;</td>\n",
       "      <td>&lt;NA&gt;</td>\n",
       "    </tr>\n",
       "    <tr>\n",
       "      <th>2770</th>\n",
       "      <td>Gran Tierra Energy Inc</td>\n",
       "      <td>London Stock Exchange</td>\n",
       "      <td>GTE.L</td>\n",
       "      <td>512314215.0</td>\n",
       "      <td>&lt;NA&gt;</td>\n",
       "      <td>3.285952</td>\n",
       "      <td>&lt;NA&gt;</td>\n",
       "      <td>3.209598</td>\n",
       "      <td>0.44462</td>\n",
       "      <td>Energy/Energy/Oil, Gas &amp; Consumable Fuels/Oil ...</td>\n",
       "      <td>...</td>\n",
       "      <td>A:1L</td>\n",
       "      <td>British Penny</td>\n",
       "      <td>AC</td>\n",
       "      <td>QUOTExEQUITY</td>\n",
       "      <td>329864567</td>\n",
       "      <td>US38500T1016</td>\n",
       "      <td>&lt;NA&gt;</td>\n",
       "      <td>BZ0WN45</td>\n",
       "      <td>38500T101</td>\n",
       "      <td>&lt;NA&gt;</td>\n",
       "    </tr>\n",
       "    <tr>\n",
       "      <th>679</th>\n",
       "      <td>Card Factory PLC</td>\n",
       "      <td>London Stock Exchange</td>\n",
       "      <td>CARDC.L</td>\n",
       "      <td>172890916.0</td>\n",
       "      <td>245029680.0</td>\n",
       "      <td>6.185919</td>\n",
       "      <td>0.590299</td>\n",
       "      <td>3.199335</td>\n",
       "      <td>0.07315</td>\n",
       "      <td>Consumer Discretionary/Retailing/Specialty Ret...</td>\n",
       "      <td>...</td>\n",
       "      <td>A:1L</td>\n",
       "      <td>British Penny</td>\n",
       "      <td>AC</td>\n",
       "      <td>QUOTExEQUITY</td>\n",
       "      <td>157786753</td>\n",
       "      <td>GB00BLY2F708</td>\n",
       "      <td>G1895H101</td>\n",
       "      <td>BLY2F70</td>\n",
       "      <td>&lt;NA&gt;</td>\n",
       "      <td>&lt;NA&gt;</td>\n",
       "    </tr>\n",
       "    <tr>\n",
       "      <th>1249</th>\n",
       "      <td>Mosman Oil and Gas Ltd</td>\n",
       "      <td>London Stock Exchange</td>\n",
       "      <td>MSMN.L</td>\n",
       "      <td>3786009.0</td>\n",
       "      <td>4689112.0</td>\n",
       "      <td>&lt;NA&gt;</td>\n",
       "      <td>0.051802</td>\n",
       "      <td>3.189585</td>\n",
       "      <td>-0.00029</td>\n",
       "      <td>Energy/Energy/Oil, Gas &amp; Consumable Fuels/Oil ...</td>\n",
       "      <td>...</td>\n",
       "      <td>A:1L</td>\n",
       "      <td>British Penny</td>\n",
       "      <td>AC</td>\n",
       "      <td>QUOTExEQUITY</td>\n",
       "      <td>154441871</td>\n",
       "      <td>AU0000XINET1</td>\n",
       "      <td>Q6371A107</td>\n",
       "      <td>BJ365T1</td>\n",
       "      <td>&lt;NA&gt;</td>\n",
       "      <td>&lt;NA&gt;</td>\n",
       "    </tr>\n",
       "    <tr>\n",
       "      <th>265</th>\n",
       "      <td>Hammerson PLC</td>\n",
       "      <td>London Stock Exchange</td>\n",
       "      <td>HMSO.L</td>\n",
       "      <td>942386986.0</td>\n",
       "      <td>3063875220.0</td>\n",
       "      <td>&lt;NA&gt;</td>\n",
       "      <td>0.441177</td>\n",
       "      <td>3.156862</td>\n",
       "      <td>-0.00062</td>\n",
       "      <td>Real Estate/Real Estate/Equity Real Estate Inv...</td>\n",
       "      <td>...</td>\n",
       "      <td>A:1L</td>\n",
       "      <td>British Penny</td>\n",
       "      <td>AC</td>\n",
       "      <td>QUOTExEQUITY</td>\n",
       "      <td>1081314</td>\n",
       "      <td>GB00BK7YQK64</td>\n",
       "      <td>G4273Q164</td>\n",
       "      <td>BK7YQK6</td>\n",
       "      <td>&lt;NA&gt;</td>\n",
       "      <td>&lt;NA&gt;</td>\n",
       "    </tr>\n",
       "    <tr>\n",
       "      <th>2795</th>\n",
       "      <td>TransGlobe Energy Corp</td>\n",
       "      <td>London Stock Exchange</td>\n",
       "      <td>TGLT.L</td>\n",
       "      <td>246267256.0</td>\n",
       "      <td>178574000.0</td>\n",
       "      <td>2.086275</td>\n",
       "      <td>0.253125</td>\n",
       "      <td>3.156582</td>\n",
       "      <td>1.69237</td>\n",
       "      <td>Energy/Energy/Oil, Gas &amp; Consumable Fuels/Oil ...</td>\n",
       "      <td>...</td>\n",
       "      <td>A:1L</td>\n",
       "      <td>British Penny</td>\n",
       "      <td>AC</td>\n",
       "      <td>QUOTExEQUITY</td>\n",
       "      <td>313506090</td>\n",
       "      <td>CA8936621066</td>\n",
       "      <td>&lt;NA&gt;</td>\n",
       "      <td>BFZPF21</td>\n",
       "      <td>893662106</td>\n",
       "      <td>&lt;NA&gt;</td>\n",
       "    </tr>\n",
       "    <tr>\n",
       "      <th>809</th>\n",
       "      <td>Helium One Global Ltd</td>\n",
       "      <td>London Stock Exchange</td>\n",
       "      <td>HE1H.L</td>\n",
       "      <td>41600902.0</td>\n",
       "      <td>28536260.0</td>\n",
       "      <td>&lt;NA&gt;</td>\n",
       "      <td>0.040556</td>\n",
       "      <td>3.12539</td>\n",
       "      <td>-0.00975</td>\n",
       "      <td>Materials/Materials/Chemicals/Industrial Gases</td>\n",
       "      <td>...</td>\n",
       "      <td>A:1L</td>\n",
       "      <td>British Penny</td>\n",
       "      <td>AC</td>\n",
       "      <td>QUOTExEQUITY</td>\n",
       "      <td>478909326</td>\n",
       "      <td>VGG4392T1075</td>\n",
       "      <td>G4392T107</td>\n",
       "      <td>BKPS321</td>\n",
       "      <td>&lt;NA&gt;</td>\n",
       "      <td>&lt;NA&gt;</td>\n",
       "    </tr>\n",
       "    <tr>\n",
       "      <th>259</th>\n",
       "      <td>EnQuest PLC</td>\n",
       "      <td>London Stock Exchange</td>\n",
       "      <td>ENQ.L</td>\n",
       "      <td>626033527.0</td>\n",
       "      <td>520756000.0</td>\n",
       "      <td>1.189004</td>\n",
       "      <td>0.880715</td>\n",
       "      <td>3.080913</td>\n",
       "      <td>0.30463</td>\n",
       "      <td>Energy/Energy/Oil, Gas &amp; Consumable Fuels/Oil ...</td>\n",
       "      <td>...</td>\n",
       "      <td>A:1L</td>\n",
       "      <td>British Penny</td>\n",
       "      <td>AC</td>\n",
       "      <td>QUOTExEQUITY</td>\n",
       "      <td>70163255</td>\n",
       "      <td>GB00B635TG28</td>\n",
       "      <td>G3159S104</td>\n",
       "      <td>B635TG2</td>\n",
       "      <td>&lt;NA&gt;</td>\n",
       "      <td>&lt;NA&gt;</td>\n",
       "    </tr>\n",
       "    <tr>\n",
       "      <th>354</th>\n",
       "      <td>RPS Group PLC</td>\n",
       "      <td>London Stock Exchange</td>\n",
       "      <td>RPS.L</td>\n",
       "      <td>740055589.0</td>\n",
       "      <td>388967880.0</td>\n",
       "      <td>75.945345</td>\n",
       "      <td>0.428712</td>\n",
       "      <td>3.05666</td>\n",
       "      <td>0.03147</td>\n",
       "      <td>Industrials/Commercial &amp; Professional Services...</td>\n",
       "      <td>...</td>\n",
       "      <td>A:1L</td>\n",
       "      <td>British Penny</td>\n",
       "      <td>AC</td>\n",
       "      <td>QUOTExEQUITY</td>\n",
       "      <td>1080879</td>\n",
       "      <td>GB0007594764</td>\n",
       "      <td>G7701P104</td>\n",
       "      <td>0759476</td>\n",
       "      <td>&lt;NA&gt;</td>\n",
       "      <td>&lt;NA&gt;</td>\n",
       "    </tr>\n",
       "    <tr>\n",
       "      <th>680</th>\n",
       "      <td>Sosandar PLC</td>\n",
       "      <td>London Stock Exchange</td>\n",
       "      <td>SOSS.L</td>\n",
       "      <td>35821875.0</td>\n",
       "      <td>5557799.0</td>\n",
       "      <td>&lt;NA&gt;</td>\n",
       "      <td>0.368294</td>\n",
       "      <td>3.054952</td>\n",
       "      <td>-0.00087</td>\n",
       "      <td>Consumer Discretionary/Consumer Durables &amp; App...</td>\n",
       "      <td>...</td>\n",
       "      <td>A:1L</td>\n",
       "      <td>British Penny</td>\n",
       "      <td>AC</td>\n",
       "      <td>QUOTExEQUITY</td>\n",
       "      <td>20125647</td>\n",
       "      <td>GB00BDGS8G04</td>\n",
       "      <td>G67783103</td>\n",
       "      <td>BDGS8G0</td>\n",
       "      <td>&lt;NA&gt;</td>\n",
       "      <td>&lt;NA&gt;</td>\n",
       "    </tr>\n",
       "    <tr>\n",
       "      <th>1409</th>\n",
       "      <td>Global Ports Holding PLC</td>\n",
       "      <td>London Stock Exchange</td>\n",
       "      <td>GPH.L</td>\n",
       "      <td>56782883.0</td>\n",
       "      <td>-37866000.0</td>\n",
       "      <td>&lt;NA&gt;</td>\n",
       "      <td>0.937925</td>\n",
       "      <td>3.046462</td>\n",
       "      <td>-0.57284</td>\n",
       "      <td>Industrials/Transportation/Transportation Infr...</td>\n",
       "      <td>...</td>\n",
       "      <td>A:1L</td>\n",
       "      <td>British Penny</td>\n",
       "      <td>AC</td>\n",
       "      <td>QUOTExEQUITY</td>\n",
       "      <td>260108579</td>\n",
       "      <td>GB00BD2ZT390</td>\n",
       "      <td>G392A4104</td>\n",
       "      <td>BD2ZT39</td>\n",
       "      <td>&lt;NA&gt;</td>\n",
       "      <td>&lt;NA&gt;</td>\n",
       "    </tr>\n",
       "    <tr>\n",
       "      <th>250</th>\n",
       "      <td>Ted Baker PLC</td>\n",
       "      <td>London Stock Exchange</td>\n",
       "      <td>TED.L</td>\n",
       "      <td>225770201.0</td>\n",
       "      <td>134328930.0</td>\n",
       "      <td>&lt;NA&gt;</td>\n",
       "      <td>0.645788</td>\n",
       "      <td>3.013379</td>\n",
       "      <td>-0.193</td>\n",
       "      <td>Consumer Discretionary/Consumer Durables &amp; App...</td>\n",
       "      <td>...</td>\n",
       "      <td>A:1L</td>\n",
       "      <td>British Penny</td>\n",
       "      <td>AC</td>\n",
       "      <td>QUOTExEQUITY</td>\n",
       "      <td>1082059</td>\n",
       "      <td>GB0001048619</td>\n",
       "      <td>G8725V101</td>\n",
       "      <td>0104861</td>\n",
       "      <td>&lt;NA&gt;</td>\n",
       "      <td>&lt;NA&gt;</td>\n",
       "    </tr>\n",
       "    <tr>\n",
       "      <th>478</th>\n",
       "      <td>Jadestone Energy PLC</td>\n",
       "      <td>London Stock Exchange</td>\n",
       "      <td>JSE.L</td>\n",
       "      <td>359858492.0</td>\n",
       "      <td>141073000.0</td>\n",
       "      <td>&lt;NA&gt;</td>\n",
       "      <td>0.807253</td>\n",
       "      <td>3.011667</td>\n",
       "      <td>&lt;NA&gt;</td>\n",
       "      <td>Energy/Energy/Oil, Gas &amp; Consumable Fuels/Oil ...</td>\n",
       "      <td>...</td>\n",
       "      <td>A:1L</td>\n",
       "      <td>British Penny</td>\n",
       "      <td>AC</td>\n",
       "      <td>QUOTExEQUITY</td>\n",
       "      <td>319378212</td>\n",
       "      <td>GB00BLR71299</td>\n",
       "      <td>G5004U101</td>\n",
       "      <td>BLR7129</td>\n",
       "      <td>&lt;NA&gt;</td>\n",
       "      <td>&lt;NA&gt;</td>\n",
       "    </tr>\n",
       "    <tr>\n",
       "      <th>154</th>\n",
       "      <td>ASOS PLC</td>\n",
       "      <td>London Stock Exchange</td>\n",
       "      <td>ASOS.L</td>\n",
       "      <td>614995927.0</td>\n",
       "      <td>1153737200.0</td>\n",
       "      <td>16.569523</td>\n",
       "      <td>0.641532</td>\n",
       "      <td>3.007857</td>\n",
       "      <td>0.33284</td>\n",
       "      <td>Consumer Discretionary/Retailing/Internet &amp; Di...</td>\n",
       "      <td>...</td>\n",
       "      <td>A:1L</td>\n",
       "      <td>British Penny</td>\n",
       "      <td>AC</td>\n",
       "      <td>QUOTExEQUITY</td>\n",
       "      <td>5440783</td>\n",
       "      <td>GB0030927254</td>\n",
       "      <td>G0536Q108</td>\n",
       "      <td>3092725</td>\n",
       "      <td>&lt;NA&gt;</td>\n",
       "      <td>&lt;NA&gt;</td>\n",
       "    </tr>\n",
       "  </tbody>\n",
       "</table>\n",
       "<p>42 rows × 45 columns</p>\n",
       "</div>"
      ],
      "text/plain": [
       "                        DTSubjectName           ExchangeName      RIC  \\\n",
       "1683           One Heritage Group PLC  London Stock Exchange    OHG.L   \n",
       "838             Tirupati Graphite PLC  London Stock Exchange   TGRT.L   \n",
       "82                 Harbour Energy PLC  London Stock Exchange    HBR.L   \n",
       "519               Cineworld Group PLC  London Stock Exchange   CINE.L   \n",
       "2787                Kosmos Energy Ltd  London Stock Exchange    KOS.L   \n",
       "1034        Revolution Bars Group PLC  London Stock Exchange    RBG.L   \n",
       "584                    Hyve Group PLC  London Stock Exchange   HYVE.L   \n",
       "982                 Costain Group PLC  London Stock Exchange   COSG.L   \n",
       "1201                   XP Factory PLC  London Stock Exchange    XPF.L   \n",
       "347                        Capita PLC  London Stock Exchange    CPI.L   \n",
       "2002                         Ageas SA  London Stock Exchange   0Q99.L   \n",
       "211                    Tullow Oil PLC  London Stock Exchange    TLW.L   \n",
       "1128               Immotion Group PLC  London Stock Exchange  IMMOI.L   \n",
       "395                     4D Pharma PLC  London Stock Exchange   DDDD.L   \n",
       "432              Restaurant Group PLC  London Stock Exchange    RTN.L   \n",
       "381                 N Brown Group PLC  London Stock Exchange   BWNG.L   \n",
       "735                Petra Diamonds Ltd  London Stock Exchange    PDL.L   \n",
       "1426                 Tekmar Group PLC  London Stock Exchange   TGPT.L   \n",
       "1560               I-nexus Global PLC  London Stock Exchange    INX.L   \n",
       "727                      Superdry PLC  London Stock Exchange   SDRY.L   \n",
       "1345                  Echo Energy PLC  London Stock Exchange  ECHOE.L   \n",
       "686                           SIG PLC  London Stock Exchange    SHI.L   \n",
       "1198         Gulf Marine Services PLC  London Stock Exchange    GMS.L   \n",
       "117     Micro Focus International PLC  London Stock Exchange   MCRO.L   \n",
       "87                       Carnival PLC  London Stock Exchange    CCL.L   \n",
       "712   Predator Oil & Gas Holdings PLC  London Stock Exchange   PRDP.L   \n",
       "750                   Iconic Labs PLC  London Stock Exchange  ICONI.L   \n",
       "1308     Inspirit Energy Holdings PLC  London Stock Exchange   INSP.L   \n",
       "765                 Pharos Energy PLC  London Stock Exchange  PHARP.L   \n",
       "2770           Gran Tierra Energy Inc  London Stock Exchange    GTE.L   \n",
       "679                  Card Factory PLC  London Stock Exchange  CARDC.L   \n",
       "1249           Mosman Oil and Gas Ltd  London Stock Exchange   MSMN.L   \n",
       "265                     Hammerson PLC  London Stock Exchange   HMSO.L   \n",
       "2795           TransGlobe Energy Corp  London Stock Exchange   TGLT.L   \n",
       "809             Helium One Global Ltd  London Stock Exchange   HE1H.L   \n",
       "259                       EnQuest PLC  London Stock Exchange    ENQ.L   \n",
       "354                     RPS Group PLC  London Stock Exchange    RPS.L   \n",
       "680                      Sosandar PLC  London Stock Exchange   SOSS.L   \n",
       "1409         Global Ports Holding PLC  London Stock Exchange    GPH.L   \n",
       "250                     Ted Baker PLC  London Stock Exchange    TED.L   \n",
       "478              Jadestone Energy PLC  London Stock Exchange    JSE.L   \n",
       "154                          ASOS PLC  London Stock Exchange   ASOS.L   \n",
       "\n",
       "     MktCapCompanyUsd ShareholdersEquityUsd         Pe DebtToAssets      Beta  \\\n",
       "1683        9710388.0                  <NA>       <NA>         <NA>  5.163173   \n",
       "838        35498228.0             9128984.0       <NA>     0.176383  4.742009   \n",
       "82       4366451804.0           473500000.0   5.112381     0.967355  4.659199   \n",
       "519        37346335.0          -345000000.0       <NA>     1.033267  4.181223   \n",
       "2787     2785190068.0                  <NA>  16.817554         <NA>  4.090578   \n",
       "1034       27337286.0           -28151634.0       <NA>     1.213262  3.984417   \n",
       "584       182231237.0           152938242.0       <NA>     0.627912  3.831279   \n",
       "982       121855002.0           222044200.0       <NA>     0.626221  3.793154   \n",
       "1201       22233175.0            24343408.0       <NA>     0.554473  3.712753   \n",
       "347       510797109.0           306287100.0       <NA>     0.905645  3.708807   \n",
       "2002     7209218948.0         11661423200.0       <NA>     0.872484  3.660706   \n",
       "211       714774978.0          -466100000.0   8.813512     1.084124  3.648886   \n",
       "1128       11939177.0             6382376.0       <NA>     0.243486  3.647167   \n",
       "395        33523363.0            25884328.0       <NA>     0.459758  3.561013   \n",
       "432       274706701.0           490617260.0       <NA>     0.675187  3.558517   \n",
       "381       110468545.0           493518340.0       <NA>     0.504592  3.555524   \n",
       "735       236192483.0           450800000.0   3.730358     0.591786  3.526154   \n",
       "1426        5611602.0            44880823.0       <NA>     0.287104  3.441146   \n",
       "1560        1121863.0            -1292319.0       <NA>     1.412379  3.405843   \n",
       "727        93878256.0           100868320.0       <NA>     0.823506  3.388474   \n",
       "1345        5458106.0           -33809480.0       <NA>     3.411121  3.384812   \n",
       "686       402106288.0           295352260.0       <NA>     0.779729  3.373529   \n",
       "1198       66345750.0           260796000.0   0.772073     0.610455  3.338237   \n",
       "117      1949981484.0          2821000000.0       <NA>      0.72735  3.297618   \n",
       "87        909334134.0         12145000000.0       <NA>     0.772327   3.29689   \n",
       "712        31652732.0             6369187.0       <NA>     0.041158  3.289157   \n",
       "750         6677884.0            -3473117.0       <NA>     9.629047  3.285231   \n",
       "1308        1501383.0             3224662.0       <NA>      0.15025  3.277743   \n",
       "765       113800366.0           304400000.0   2.912144     0.483805  3.212507   \n",
       "2770      512314215.0                  <NA>   3.285952         <NA>  3.209598   \n",
       "679       172890916.0           245029680.0   6.185919     0.590299  3.199335   \n",
       "1249        3786009.0             4689112.0       <NA>     0.051802  3.189585   \n",
       "265       942386986.0          3063875220.0       <NA>     0.441177  3.156862   \n",
       "2795      246267256.0           178574000.0   2.086275     0.253125  3.156582   \n",
       "809        41600902.0            28536260.0       <NA>     0.040556   3.12539   \n",
       "259       626033527.0           520756000.0   1.189004     0.880715  3.080913   \n",
       "354       740055589.0           388967880.0  75.945345     0.428712   3.05666   \n",
       "680        35821875.0             5557799.0       <NA>     0.368294  3.054952   \n",
       "1409       56782883.0           -37866000.0       <NA>     0.937925  3.046462   \n",
       "250       225770201.0           134328930.0       <NA>     0.645788  3.013379   \n",
       "478       359858492.0           141073000.0       <NA>     0.807253  3.011667   \n",
       "154       614995927.0          1153737200.0  16.569523     0.641532  3.007857   \n",
       "\n",
       "           Eps                                               Gics  ...  \\\n",
       "1683      <NA>                                               <NA>  ...   \n",
       "838    -0.0266  Materials/Materials/Metals & Mining/Diversifie...  ...   \n",
       "82     1.07976  Energy/Energy/Oil, Gas & Consumable Fuels/Oil ...  ...   \n",
       "519   -0.25085  Communication Services/Media & Entertainment/E...  ...   \n",
       "2787   0.40179  Energy/Energy/Oil, Gas & Consumable Fuels/Oil ...  ...   \n",
       "1034 -0.037006  Consumer Discretionary/Consumer Services/Hotel...  ...   \n",
       "584   -0.15787  Communication Services/Media & Entertainment/M...  ...   \n",
       "982   -0.02266  Industrials/Capital Goods/Construction & Engin...  ...   \n",
       "1201  -0.00765  Consumer Discretionary/Consumer Services/Hotel...  ...   \n",
       "347   -0.01717  Information Technology/Software & Services/IT ...  ...   \n",
       "2002   5.39767  Financials/Insurance/Insurance/Multi-line Insu...  ...   \n",
       "211     0.0615  Energy/Energy/Oil, Gas & Consumable Fuels/Oil ...  ...   \n",
       "1128  -0.00247  Communication Services/Media & Entertainment/E...  ...   \n",
       "395   -0.33807  Health Care/Pharmaceuticals, Biotechnology & L...  ...   \n",
       "432   -0.01026  Consumer Discretionary/Consumer Services/Hotel...  ...   \n",
       "381   -0.00348  Consumer Discretionary/Retailing/Internet & Di...  ...   \n",
       "735    0.35575  Materials/Materials/Metals & Mining/Precious M...  ...   \n",
       "1426  -0.12135  Energy/Energy/Energy Equipment & Services/Oil ...  ...   \n",
       "1560  -0.02711  Information Technology/Software & Services/Sof...  ...   \n",
       "727   -0.22233  Consumer Discretionary/Retailing/Specialty Ret...  ...   \n",
       "1345  -0.00944  Energy/Energy/Oil, Gas & Consumable Fuels/Inte...  ...   \n",
       "686    -0.0032  Industrials/Capital Goods/Trading Companies & ...  ...   \n",
       "1198   0.09225  Energy/Energy/Energy Equipment & Services/Oil ...  ...   \n",
       "117   -0.72741  Information Technology/Software & Services/Sof...  ...   \n",
       "87    -6.23449  Consumer Discretionary/Consumer Services/Hotel...  ...   \n",
       "712   -0.00363  Energy/Energy/Oil, Gas & Consumable Fuels/Oil ...  ...   \n",
       "750       <NA>  Health Care/Health Care Equipment & Services/H...  ...   \n",
       "1308  -0.00009  Industrials/Capital Goods/Machinery/Industrial...  ...   \n",
       "765    0.09783  Energy/Energy/Oil, Gas & Consumable Fuels/Oil ...  ...   \n",
       "2770   0.44462  Energy/Energy/Oil, Gas & Consumable Fuels/Oil ...  ...   \n",
       "679    0.07315  Consumer Discretionary/Retailing/Specialty Ret...  ...   \n",
       "1249  -0.00029  Energy/Energy/Oil, Gas & Consumable Fuels/Oil ...  ...   \n",
       "265   -0.00062  Real Estate/Real Estate/Equity Real Estate Inv...  ...   \n",
       "2795   1.69237  Energy/Energy/Oil, Gas & Consumable Fuels/Oil ...  ...   \n",
       "809   -0.00975     Materials/Materials/Chemicals/Industrial Gases  ...   \n",
       "259    0.30463  Energy/Energy/Oil, Gas & Consumable Fuels/Oil ...  ...   \n",
       "354    0.03147  Industrials/Commercial & Professional Services...  ...   \n",
       "680   -0.00087  Consumer Discretionary/Consumer Durables & App...  ...   \n",
       "1409  -0.57284  Industrials/Transportation/Transportation Infr...  ...   \n",
       "250     -0.193  Consumer Discretionary/Consumer Durables & App...  ...   \n",
       "478       <NA>  Energy/Energy/Oil, Gas & Consumable Fuels/Oil ...  ...   \n",
       "154    0.33284  Consumer Discretionary/Retailing/Internet & Di...  ...   \n",
       "\n",
       "     RCSAssetCategory RCSCurrencyLeaf AssetState BusinessEntity         PI  \\\n",
       "1683             A:1L   British Penny         AC   QUOTExEQUITY  483172709   \n",
       "838              A:1L   British Penny         AC   QUOTExEQUITY  464325981   \n",
       "82               A:1L   British Penny         AC   QUOTExEQUITY    1080131   \n",
       "519              A:1L   British Penny         AC   QUOTExEQUITY   33010318   \n",
       "2787             A:1L   British Penny         AC   QUOTExEQUITY  269548375   \n",
       "1034             A:1L   British Penny         AC   QUOTExEQUITY  181974050   \n",
       "584              A:1L   British Penny         AC   QUOTExEQUITY    1082258   \n",
       "982              A:1L   British Penny         AC   QUOTExEQUITY    1079935   \n",
       "1201             A:1L   British Penny         AC   QUOTExEQUITY  229781424   \n",
       "347              A:1L   British Penny         AC   QUOTExEQUITY    1049459   \n",
       "2002             A:1L            Euro         AC   QUOTExEQUITY   16693373   \n",
       "211              A:1L   British Penny         AC   QUOTExEQUITY    1080192   \n",
       "1128             A:1L   British Penny         AC   QUOTExEQUITY  314002711   \n",
       "395              A:1L   British Penny         AC   QUOTExEQUITY  152873333   \n",
       "432              A:1L   British Penny         AC   QUOTExEQUITY    1079943   \n",
       "381              A:1L   British Penny         AC   QUOTExEQUITY    1080637   \n",
       "735              A:1L   British Penny         AC   QUOTExEQUITY    1079451   \n",
       "1426             A:1L   British Penny         AC   QUOTExEQUITY  309639361   \n",
       "1560             A:1L   British Penny         AC   QUOTExEQUITY  310073200   \n",
       "727              A:1L   British Penny         AC   QUOTExEQUITY   69789026   \n",
       "1345             A:1L   British Penny         AC   QUOTExEQUITY   23694123   \n",
       "686              A:1L   British Penny         AC   QUOTExEQUITY    1080901   \n",
       "1198             A:1L   British Penny         AC   QUOTExEQUITY  136760491   \n",
       "117              A:1L   British Penny         AC   QUOTExEQUITY   20538910   \n",
       "87               A:1L   British Penny         AC   QUOTExEQUITY    1281424   \n",
       "712              A:1L   British Penny         AC   QUOTExEQUITY  307717532   \n",
       "750              A:1L   British Penny         AC   QUOTExEQUITY  233143146   \n",
       "1308             A:1L   British Penny         AC   QUOTExEQUITY   25240262   \n",
       "765              A:1L   British Penny         AC   QUOTExEQUITY    1081414   \n",
       "2770             A:1L   British Penny         AC   QUOTExEQUITY  329864567   \n",
       "679              A:1L   British Penny         AC   QUOTExEQUITY  157786753   \n",
       "1249             A:1L   British Penny         AC   QUOTExEQUITY  154441871   \n",
       "265              A:1L   British Penny         AC   QUOTExEQUITY    1081314   \n",
       "2795             A:1L   British Penny         AC   QUOTExEQUITY  313506090   \n",
       "809              A:1L   British Penny         AC   QUOTExEQUITY  478909326   \n",
       "259              A:1L   British Penny         AC   QUOTExEQUITY   70163255   \n",
       "354              A:1L   British Penny         AC   QUOTExEQUITY    1080879   \n",
       "680              A:1L   British Penny         AC   QUOTExEQUITY   20125647   \n",
       "1409             A:1L   British Penny         AC   QUOTExEQUITY  260108579   \n",
       "250              A:1L   British Penny         AC   QUOTExEQUITY    1082059   \n",
       "478              A:1L   British Penny         AC   QUOTExEQUITY  319378212   \n",
       "154              A:1L   British Penny         AC   QUOTExEQUITY    5440783   \n",
       "\n",
       "         IssueISIN   CinCUSIP    SEDOL      CUSIP SolvencyMargin  \n",
       "1683  GB00BLF79495  G67514102  BLF7949       <NA>           <NA>  \n",
       "838   GB00BFYMWJ95  G8T09D107  BFYMWJ9       <NA>           <NA>  \n",
       "82    GB00BMBVGQ36  G4289T111  BMBVGQ3       <NA>           <NA>  \n",
       "519   GB00B15FWH70  G219AH100  B15FWH7       <NA>           <NA>  \n",
       "2787  US5006881065       <NA>  BJ1MZF7  500688106           <NA>  \n",
       "1034  GB00BVDPPV41  G7546B104  BVDPPV4       <NA>           <NA>  \n",
       "584   GB00BKP36R26  G4690X123  BKP36R2       <NA>           <NA>  \n",
       "982   GB00B64NSP76  G24472204  B64NSP7       <NA>           <NA>  \n",
       "1201  GB00BDB79J29  G2816A100  BDB79J2       <NA>           <NA>  \n",
       "347   GB00B23K0M20  G1846J115  B23K0M2       <NA>           <NA>  \n",
       "2002  BE0974264930  B0148L138  B83F4Z0       <NA>     130.383333  \n",
       "211   GB0001500809  G91235104  0150080       <NA>           <NA>  \n",
       "1128  GB00BD5JRP64  G471AD106  BD5JRP6       <NA>           <NA>  \n",
       "395   GB00BJL5BR07  G3654S104  BJL5BR0       <NA>           <NA>  \n",
       "432   GB00B0YG1K06  G7535J118  B0YG1K0       <NA>           <NA>  \n",
       "381   GB00B1P6ZR11  G64036125  B1P6ZR1       <NA>           <NA>  \n",
       "735   BMG702782084  G70278208  BNYNCZ4       <NA>           <NA>  \n",
       "1426  GB00BDFGGK53  G8738Y100  BDFGGK5       <NA>           <NA>  \n",
       "1560  GB00BDFDLT01  G4768Y102  BDFDLT0       <NA>           <NA>  \n",
       "727   GB00B60BD277  G8585P103  B60BD27       <NA>           <NA>  \n",
       "1345  GB00BF0YPG76  G28933102  BF0YPG7       <NA>           <NA>  \n",
       "686   GB0008025412  G80797106  0802541       <NA>           <NA>  \n",
       "1198  GB00BJVWTM27  G4R77L107  BJVWTM2       <NA>           <NA>  \n",
       "117   GB00BJ1F4N75  G6117L194  BJ1F4N7       <NA>           <NA>  \n",
       "87    GB0031215220  G19081101  3121522       <NA>           <NA>  \n",
       "712   JE00BFZ1D698  G72090106  BFZ1D69       <NA>           <NA>  \n",
       "750   GB00BD060S65  G4711X102  BD060S6       <NA>           <NA>  \n",
       "1308  GB00B44W9L31  G52837120  B44W9L3       <NA>           <NA>  \n",
       "765   GB00B572ZV91  M7S90R102  B572ZV9       <NA>           <NA>  \n",
       "2770  US38500T1016       <NA>  BZ0WN45  38500T101           <NA>  \n",
       "679   GB00BLY2F708  G1895H101  BLY2F70       <NA>           <NA>  \n",
       "1249  AU0000XINET1  Q6371A107  BJ365T1       <NA>           <NA>  \n",
       "265   GB00BK7YQK64  G4273Q164  BK7YQK6       <NA>           <NA>  \n",
       "2795  CA8936621066       <NA>  BFZPF21  893662106           <NA>  \n",
       "809   VGG4392T1075  G4392T107  BKPS321       <NA>           <NA>  \n",
       "259   GB00B635TG28  G3159S104  B635TG2       <NA>           <NA>  \n",
       "354   GB0007594764  G7701P104  0759476       <NA>           <NA>  \n",
       "680   GB00BDGS8G04  G67783103  BDGS8G0       <NA>           <NA>  \n",
       "1409  GB00BD2ZT390  G392A4104  BD2ZT39       <NA>           <NA>  \n",
       "250   GB0001048619  G8725V101  0104861       <NA>           <NA>  \n",
       "478   GB00BLR71299  G5004U101  BLR7129       <NA>           <NA>  \n",
       "154   GB0030927254  G0536Q108  3092725       <NA>           <NA>  \n",
       "\n",
       "[42 rows x 45 columns]"
      ]
     },
     "metadata": {},
     "output_type": "display_data"
    }
   ],
   "source": [
    "equities = lse_equities.query(\"Beta >= 3\")\n",
    "plot_and_display(equities, \"Beta\")"
   ]
  },
  {
   "cell_type": "markdown",
   "id": "48c2aa5e-0800-48e8-a34e-4f37dd8fc377",
   "metadata": {
    "tags": []
   },
   "source": [
    "#### Get the Equities by Share Holders Equity"
   ]
  },
  {
   "cell_type": "code",
   "execution_count": 14,
   "id": "556a52d9-4321-4bcf-aef2-fc00ee287629",
   "metadata": {
    "tags": []
   },
   "outputs": [
    {
     "data": {
      "application/vnd.plotly.v1+json": {
       "config": {
        "linkText": "Export to plot.ly",
        "plotlyServerURL": "https://plot.ly",
        "showLink": true
       },
       "data": [
        {
         "line": {
          "color": "rgba(255, 153, 51, 1.0)",
          "dash": "solid",
          "shape": "linear",
          "width": 1.3
         },
         "mode": "lines",
         "name": "ShareholdersEquityUsd",
         "text": "",
         "type": "scatter",
         "x": [
          "Berkshire Hathaway Inc",
          "Berkshire Hathaway Inc",
          "Berkshire Hathaway Inc",
          "Gazprom PAO",
          "JPMorgan Chase & Co",
          "JPMorgan Chase & Co",
          "Bank of America Corp",
          "Bank of America Corp",
          "Schweizerische Nationalbank",
          "Citigroup Inc",
          "Citigroup Inc",
          "Toyota Motor Corp",
          "Toyota Motor Corp",
          "HSBC Holdings PLC",
          "HSBC Holdings PLC",
          "Shell PLC",
          "Shell PLC",
          "Exxon Mobil Corp",
          "Exxon Mobil Corp",
          "Wells Fargo & Co",
          "Wells Fargo & Co",
          "Microsoft Corp",
          "Microsoft Corp",
          "AT&T Inc",
          "AT&T Inc",
          "Volkswagen AG",
          "Volkswagen AG",
          "Chevron Corp",
          "Chevron Corp",
          "Amazon.com Inc",
          "Amazon.com Inc",
          "Meta Platforms Inc",
          "Meta Platforms Inc",
          "BNP Paribas SA",
          "BNP Paribas SA",
          "Tencent Holdings Ltd",
          "Tencent Holdings Ltd",
          "TotalEnergies SE",
          "TotalEnergies SE",
          "Goldman Sachs Group Inc",
          "Goldman Sachs Group Inc",
          "Morgan Stanley",
          "Morgan Stanley",
          "Comcast Corp",
          "Comcast Corp",
          "Intel Corp",
          "Intel Corp",
          "Walt Disney Co",
          "Walt Disney Co",
          "Banco Santander SA",
          "Banco Santander SA",
          "Walmart Inc",
          "Walmart Inc",
          "Verizon Communications Inc",
          "Allianz SE",
          "Allianz SE",
          "Barclays PLC",
          "Barclays PLC",
          "Pfizer Inc",
          "Pfizer Inc",
          "BP PLC",
          "BP PLC",
          "BP PLC",
          "BP PLC",
          "CVS Health Corp",
          "CVS Health Corp",
          "British American Tobacco PLC",
          "British American Tobacco PLC",
          "Johnson & Johnson",
          "Johnson & Johnson",
          "Raytheon Technologies Corp",
          "Bayerische Motoren Werke AG",
          "Bayerische Motoren Werke AG",
          "UnitedHealth Group Inc",
          "UnitedHealth Group Inc",
          "Mercedes Benz Group AG",
          "Mercedes Benz Group AG",
          "AXA SA",
          "Toronto-Dominion Bank",
          "Toronto-Dominion Bank",
          "T-Mobile US Inc",
          "SoftBank Group Corp",
          "SoftBank Group Corp",
          "Anheuser-Busch Inbev SA",
          "Anheuser-Busch Inbev SA",
          "Novartis AG",
          "Novartis AG",
          "Royal Bank of Canada",
          "Royal Bank of Canada",
          "MetLife Inc",
          "MetLife Inc",
          "Sanofi SA",
          "Sanofi SA",
          "Credit Agricole SA",
          "Credit Agricole SA",
          "American International Group Inc",
          "Deutsche Bank AG",
          "Deutsche Bank AG",
          "Societe Generale SA",
          "Societe Generale SA",
          "Apple Inc",
          "Apple Inc",
          "Intesa Sanpaolo SpA",
          "Intesa Sanpaolo SpA",
          "Investor AB",
          "Investor AB",
          "Prudential Financial Inc",
          "UniCredit SpA",
          "UBS Group AG",
          "UBS Group AG",
          "General Motors Co",
          "General Motors Co",
          "Lloyds Banking Group PLC",
          "Lloyds Banking Group PLC",
          "Salesforce Inc",
          "Salesforce Inc",
          "Capital One Financial Corp",
          "PNC Financial Services Group Inc",
          "Stellantis NV",
          "Stellantis NV",
          "Nestle SA",
          "Nestle SA",
          "Nestle SA",
          "Nestle SA",
          "Vodafone Group PLC",
          "Vodafone Group PLC",
          "ING Groep NV",
          "ING Groep NV",
          "Medtronic PLC",
          "Medtronic PLC",
          "Standard Chartered PLC",
          "Standard Chartered PLC",
          "Rio Tinto PLC",
          "Rio Tinto PLC",
          "Prosus NV",
          "Prosus NV",
          "Kraft Heinz Co",
          "Electricite de France SA",
          "Electricite de France SA",
          "ArcelorMittal SA",
          "ArcelorMittal SA",
          "US Bancorp",
          "Ford Motor Co",
          "Ford Motor Co",
          "Mitsubishi Corp",
          "Mitsubishi Corp",
          "Bank of Nova Scotia",
          "Bank of Nova Scotia",
          "Fidelity National Information Services Inc",
          "Duke Energy Corp",
          "Westpac Banking Corp",
          "Natwest Group PLC",
          "Natwest Group PLC",
          "Charles Schwab Corp",
          "Charles Schwab Corp",
          "LVMH Moet Hennessy Louis Vuitton SE",
          "LVMH Moet Hennessy Louis Vuitton SE",
          "Procter & Gamble Co",
          "Procter & Gamble Co",
          "Conocophillips",
          "BHP Group Ltd",
          "BHP Group Ltd",
          "AP Moeller - Maersk A/S",
          "AP Moeller - Maersk A/S",
          "AP Moeller - Maersk A/S",
          "Credit Suisse Group AG",
          "Credit Suisse Group AG",
          "Micron Technology Inc",
          "Micron Technology Inc",
          "Eni SpA",
          "Eni SpA",
          "Siemens AG",
          "Siemens AG",
          "Banco Bilbao Vizcaya Argentaria SA",
          "Brookfield Asset Management Inc",
          "Brookfield Asset Management Inc",
          "Danaher Corp",
          "Danaher Corp",
          "Deutsche Telekom AG",
          "Deutsche Telekom AG",
          "Thermo Fisher Scientific Inc",
          "General Electric Co",
          "General Electric Co",
          "Glencore PLC",
          "Glencore PLC",
          "BASF SE",
          "BASF SE",
          "Cisco Systems Inc",
          "Cisco Systems Inc",
          "Iberdrola SA",
          "Iberdrola SA",
          "Bank of Montreal",
          "Bank of Montreal",
          "Takeda Pharmaceutical Co Ltd",
          "Takeda Pharmaceutical Co Ltd",
          "AstraZeneca PLC",
          "AstraZeneca PLC",
          "Equinor ASA",
          "Equinor ASA",
          "Enbridge Inc",
          "Enbridge Inc",
          "Bank of New York Mellon Corp",
          "Bank of New York Mellon Corp",
          "Merck & Co Inc",
          "Merck & Co Inc",
          "SAP SE",
          "SAP SE",
          "Analog Devices Inc",
          "Zurich Insurance Group AG",
          "Zurich Insurance Group AG",
          "BlackRock Inc",
          "BlackRock Inc",
          "Manulife Financial Corp",
          "Manulife Financial Corp",
          "Nextera Energy Inc",
          "Engie SA",
          "Engie SA",
          "Elevance Health Inc",
          "Elevance Health Inc",
          "Bristol-Myers Squibb Co",
          "Bristol-Myers Squibb Co",
          "Abbott Laboratories",
          "Abbott Laboratories",
          "Caixabank SA",
          "Caixabank SA",
          "Hongkong Land Holdings Ltd",
          "Hongkong Land Holdings Ltd",
          "Hongkong Land Holdings Ltd",
          "Visa Inc",
          "Visa Inc",
          "EssilorLuxottica SA",
          "EssilorLuxottica SA",
          "Exelon Corp",
          "NN Group NV",
          "Prologis Inc",
          "Aflac Inc",
          "Bayer AG",
          "Bayer AG",
          "Orange SA",
          "Orange SA",
          "Fiserv Inc",
          "Kinder Morgan Inc",
          "Canadian Imperial Bank of Commerce",
          "Canadian Imperial Bank of Commerce",
          "Tesla Inc",
          "Tesla Inc",
          "Muenchener Rueckversicherungs Gesellschaft in Muenchen AG",
          "Muenchener Rueckversicherungs Gesellschaft in Muenchen AG"
         ],
         "y": [
          506199000000,
          506199000000,
          506199000000,
          271991949790,
          259289000000,
          259289000000,
          245358000000,
          245358000000,
          206208076728,
          182977000000,
          182977000000,
          181469743483,
          181469743483,
          175836000000,
          175836000000,
          171966000000,
          171966000000,
          168577000000,
          168577000000,
          167549000000,
          167549000000,
          166542000000,
          166542000000,
          166332000000,
          166332000000,
          141386681200,
          141386681200,
          139067000000,
          139067000000,
          138245000000,
          138245000000,
          124879000000,
          124879000000,
          115386816800,
          115386816800,
          113347719125,
          113347719125,
          111736000000,
          111736000000,
          99223000000,
          99223000000,
          97691000000,
          97691000000,
          96092000000,
          96092000000,
          95391000000,
          95391000000,
          88553000000,
          88553000000,
          85087084000,
          85087084000,
          83253000000,
          83253000000,
          81790000000,
          78257017600,
          78257017600,
          77237907599,
          77237907599,
          77200000000,
          77200000000,
          75442000000,
          75442000000,
          75442000000,
          75442000000,
          75075000000,
          75075000000,
          74871295799,
          74871295799,
          74023000000,
          74023000000,
          73068000000,
          72789440800,
          72789440800,
          71760000000,
          71760000000,
          70425638800,
          70425638800,
          69626938000,
          69140590568,
          69140590568,
          69102000000,
          68973753716,
          68973753716,
          68669000000,
          68669000000,
          67655000000,
          67655000000,
          67565006610,
          67565006610,
          67482000000,
          67482000000,
          67224962800,
          67224962800,
          66770799600,
          66770799600,
          65471000000,
          64925761600,
          64925761600,
          63687579600,
          63687579600,
          63090000000,
          63090000000,
          62422970000,
          62422970000,
          62258441108,
          62258441108,
          61876000000,
          60866678000,
          60662000000,
          60662000000,
          59744000000,
          59744000000,
          59044788599,
          59044788599,
          58131000000,
          58131000000,
          56184000000,
          55695000000,
          54721771600,
          54721771600,
          53649671882,
          53649671882,
          53649671882,
          53649671882,
          53527635600,
          53527635600,
          52774938400,
          52774938400,
          52551000000,
          52551000000,
          52265000000,
          52265000000,
          51432000000,
          51432000000,
          50421000000,
          50421000000,
          49298000000,
          49146526800,
          49146526800,
          49106000000,
          49106000000,
          48547000000,
          48519000000,
          48519000000,
          47571264606,
          47571264606,
          47561333920,
          47561333920,
          47347000000,
          47334000000,
          46721901000,
          46635976799,
          46635976799,
          46307000000,
          46307000000,
          46120077200,
          46120077200,
          45746000000,
          45746000000,
          45406000000,
          44957000000,
          44957000000,
          44508000000,
          44508000000,
          44508000000,
          44375567895,
          44375567895,
          43933000000,
          43933000000,
          43494935600,
          43494935600,
          43223808000,
          43223808000,
          42976171600,
          42210000000,
          42210000000,
          41899000000,
          41899000000,
          41774205200,
          41774205200,
          40793000000,
          40304000000,
          40304000000,
          39931000000,
          39931000000,
          39927209600,
          39927209600,
          39773000000,
          39773000000,
          39620845200,
          39620845200,
          39571764360,
          39571764360,
          39293500656,
          39293500656,
          39268000000,
          39268000000,
          39010000000,
          39010000000,
          38988541207,
          38988541207,
          38196000000,
          38196000000,
          38184000000,
          38184000000,
          38029316400,
          38029316400,
          37992542000,
          37881000000,
          37881000000,
          37693000000,
          37693000000,
          37310121933,
          37310121933,
          37202000000,
          36209727200,
          36209727200,
          36060000000,
          36060000000,
          35946000000,
          35946000000,
          35802000000,
          35802000000,
          34643647200,
          34643647200,
          34583800000,
          34583800000,
          34583800000,
          34509001000,
          34509001000,
          34440056800,
          34440056800,
          34393000000,
          33917377600,
          33362925000,
          33253000000,
          32319976000,
          32319976000,
          31655370800,
          31655370800,
          30952000000,
          30823000000,
          30353312766,
          30353312766,
          30189000000,
          30189000000,
          30175425200,
          30175425200
         ]
        }
       ],
       "layout": {
        "autosize": true,
        "legend": {
         "bgcolor": "#151516",
         "font": {
          "color": "#D9D9D9"
         }
        },
        "paper_bgcolor": "#151516",
        "plot_bgcolor": "#151516",
        "template": {
         "data": {
          "bar": [
           {
            "error_x": {
             "color": "#2a3f5f"
            },
            "error_y": {
             "color": "#2a3f5f"
            },
            "marker": {
             "line": {
              "color": "#E5ECF6",
              "width": 0.5
             },
             "pattern": {
              "fillmode": "overlay",
              "size": 10,
              "solidity": 0.2
             }
            },
            "type": "bar"
           }
          ],
          "barpolar": [
           {
            "marker": {
             "line": {
              "color": "#E5ECF6",
              "width": 0.5
             },
             "pattern": {
              "fillmode": "overlay",
              "size": 10,
              "solidity": 0.2
             }
            },
            "type": "barpolar"
           }
          ],
          "carpet": [
           {
            "aaxis": {
             "endlinecolor": "#2a3f5f",
             "gridcolor": "white",
             "linecolor": "white",
             "minorgridcolor": "white",
             "startlinecolor": "#2a3f5f"
            },
            "baxis": {
             "endlinecolor": "#2a3f5f",
             "gridcolor": "white",
             "linecolor": "white",
             "minorgridcolor": "white",
             "startlinecolor": "#2a3f5f"
            },
            "type": "carpet"
           }
          ],
          "choropleth": [
           {
            "colorbar": {
             "outlinewidth": 0,
             "ticks": ""
            },
            "type": "choropleth"
           }
          ],
          "contour": [
           {
            "colorbar": {
             "outlinewidth": 0,
             "ticks": ""
            },
            "colorscale": [
             [
              0,
              "#0d0887"
             ],
             [
              0.1111111111111111,
              "#46039f"
             ],
             [
              0.2222222222222222,
              "#7201a8"
             ],
             [
              0.3333333333333333,
              "#9c179e"
             ],
             [
              0.4444444444444444,
              "#bd3786"
             ],
             [
              0.5555555555555556,
              "#d8576b"
             ],
             [
              0.6666666666666666,
              "#ed7953"
             ],
             [
              0.7777777777777778,
              "#fb9f3a"
             ],
             [
              0.8888888888888888,
              "#fdca26"
             ],
             [
              1,
              "#f0f921"
             ]
            ],
            "type": "contour"
           }
          ],
          "contourcarpet": [
           {
            "colorbar": {
             "outlinewidth": 0,
             "ticks": ""
            },
            "type": "contourcarpet"
           }
          ],
          "heatmap": [
           {
            "colorbar": {
             "outlinewidth": 0,
             "ticks": ""
            },
            "colorscale": [
             [
              0,
              "#0d0887"
             ],
             [
              0.1111111111111111,
              "#46039f"
             ],
             [
              0.2222222222222222,
              "#7201a8"
             ],
             [
              0.3333333333333333,
              "#9c179e"
             ],
             [
              0.4444444444444444,
              "#bd3786"
             ],
             [
              0.5555555555555556,
              "#d8576b"
             ],
             [
              0.6666666666666666,
              "#ed7953"
             ],
             [
              0.7777777777777778,
              "#fb9f3a"
             ],
             [
              0.8888888888888888,
              "#fdca26"
             ],
             [
              1,
              "#f0f921"
             ]
            ],
            "type": "heatmap"
           }
          ],
          "heatmapgl": [
           {
            "colorbar": {
             "outlinewidth": 0,
             "ticks": ""
            },
            "colorscale": [
             [
              0,
              "#0d0887"
             ],
             [
              0.1111111111111111,
              "#46039f"
             ],
             [
              0.2222222222222222,
              "#7201a8"
             ],
             [
              0.3333333333333333,
              "#9c179e"
             ],
             [
              0.4444444444444444,
              "#bd3786"
             ],
             [
              0.5555555555555556,
              "#d8576b"
             ],
             [
              0.6666666666666666,
              "#ed7953"
             ],
             [
              0.7777777777777778,
              "#fb9f3a"
             ],
             [
              0.8888888888888888,
              "#fdca26"
             ],
             [
              1,
              "#f0f921"
             ]
            ],
            "type": "heatmapgl"
           }
          ],
          "histogram": [
           {
            "marker": {
             "pattern": {
              "fillmode": "overlay",
              "size": 10,
              "solidity": 0.2
             }
            },
            "type": "histogram"
           }
          ],
          "histogram2d": [
           {
            "colorbar": {
             "outlinewidth": 0,
             "ticks": ""
            },
            "colorscale": [
             [
              0,
              "#0d0887"
             ],
             [
              0.1111111111111111,
              "#46039f"
             ],
             [
              0.2222222222222222,
              "#7201a8"
             ],
             [
              0.3333333333333333,
              "#9c179e"
             ],
             [
              0.4444444444444444,
              "#bd3786"
             ],
             [
              0.5555555555555556,
              "#d8576b"
             ],
             [
              0.6666666666666666,
              "#ed7953"
             ],
             [
              0.7777777777777778,
              "#fb9f3a"
             ],
             [
              0.8888888888888888,
              "#fdca26"
             ],
             [
              1,
              "#f0f921"
             ]
            ],
            "type": "histogram2d"
           }
          ],
          "histogram2dcontour": [
           {
            "colorbar": {
             "outlinewidth": 0,
             "ticks": ""
            },
            "colorscale": [
             [
              0,
              "#0d0887"
             ],
             [
              0.1111111111111111,
              "#46039f"
             ],
             [
              0.2222222222222222,
              "#7201a8"
             ],
             [
              0.3333333333333333,
              "#9c179e"
             ],
             [
              0.4444444444444444,
              "#bd3786"
             ],
             [
              0.5555555555555556,
              "#d8576b"
             ],
             [
              0.6666666666666666,
              "#ed7953"
             ],
             [
              0.7777777777777778,
              "#fb9f3a"
             ],
             [
              0.8888888888888888,
              "#fdca26"
             ],
             [
              1,
              "#f0f921"
             ]
            ],
            "type": "histogram2dcontour"
           }
          ],
          "mesh3d": [
           {
            "colorbar": {
             "outlinewidth": 0,
             "ticks": ""
            },
            "type": "mesh3d"
           }
          ],
          "parcoords": [
           {
            "line": {
             "colorbar": {
              "outlinewidth": 0,
              "ticks": ""
             }
            },
            "type": "parcoords"
           }
          ],
          "pie": [
           {
            "automargin": true,
            "type": "pie"
           }
          ],
          "scatter": [
           {
            "marker": {
             "colorbar": {
              "outlinewidth": 0,
              "ticks": ""
             }
            },
            "type": "scatter"
           }
          ],
          "scatter3d": [
           {
            "line": {
             "colorbar": {
              "outlinewidth": 0,
              "ticks": ""
             }
            },
            "marker": {
             "colorbar": {
              "outlinewidth": 0,
              "ticks": ""
             }
            },
            "type": "scatter3d"
           }
          ],
          "scattercarpet": [
           {
            "marker": {
             "colorbar": {
              "outlinewidth": 0,
              "ticks": ""
             }
            },
            "type": "scattercarpet"
           }
          ],
          "scattergeo": [
           {
            "marker": {
             "colorbar": {
              "outlinewidth": 0,
              "ticks": ""
             }
            },
            "type": "scattergeo"
           }
          ],
          "scattergl": [
           {
            "marker": {
             "colorbar": {
              "outlinewidth": 0,
              "ticks": ""
             }
            },
            "type": "scattergl"
           }
          ],
          "scattermapbox": [
           {
            "marker": {
             "colorbar": {
              "outlinewidth": 0,
              "ticks": ""
             }
            },
            "type": "scattermapbox"
           }
          ],
          "scatterpolar": [
           {
            "marker": {
             "colorbar": {
              "outlinewidth": 0,
              "ticks": ""
             }
            },
            "type": "scatterpolar"
           }
          ],
          "scatterpolargl": [
           {
            "marker": {
             "colorbar": {
              "outlinewidth": 0,
              "ticks": ""
             }
            },
            "type": "scatterpolargl"
           }
          ],
          "scatterternary": [
           {
            "marker": {
             "colorbar": {
              "outlinewidth": 0,
              "ticks": ""
             }
            },
            "type": "scatterternary"
           }
          ],
          "surface": [
           {
            "colorbar": {
             "outlinewidth": 0,
             "ticks": ""
            },
            "colorscale": [
             [
              0,
              "#0d0887"
             ],
             [
              0.1111111111111111,
              "#46039f"
             ],
             [
              0.2222222222222222,
              "#7201a8"
             ],
             [
              0.3333333333333333,
              "#9c179e"
             ],
             [
              0.4444444444444444,
              "#bd3786"
             ],
             [
              0.5555555555555556,
              "#d8576b"
             ],
             [
              0.6666666666666666,
              "#ed7953"
             ],
             [
              0.7777777777777778,
              "#fb9f3a"
             ],
             [
              0.8888888888888888,
              "#fdca26"
             ],
             [
              1,
              "#f0f921"
             ]
            ],
            "type": "surface"
           }
          ],
          "table": [
           {
            "cells": {
             "fill": {
              "color": "#EBF0F8"
             },
             "line": {
              "color": "white"
             }
            },
            "header": {
             "fill": {
              "color": "#C8D4E3"
             },
             "line": {
              "color": "white"
             }
            },
            "type": "table"
           }
          ]
         },
         "layout": {
          "annotationdefaults": {
           "arrowcolor": "#2a3f5f",
           "arrowhead": 0,
           "arrowwidth": 1
          },
          "autotypenumbers": "strict",
          "coloraxis": {
           "colorbar": {
            "outlinewidth": 0,
            "ticks": ""
           }
          },
          "colorscale": {
           "diverging": [
            [
             0,
             "#8e0152"
            ],
            [
             0.1,
             "#c51b7d"
            ],
            [
             0.2,
             "#de77ae"
            ],
            [
             0.3,
             "#f1b6da"
            ],
            [
             0.4,
             "#fde0ef"
            ],
            [
             0.5,
             "#f7f7f7"
            ],
            [
             0.6,
             "#e6f5d0"
            ],
            [
             0.7,
             "#b8e186"
            ],
            [
             0.8,
             "#7fbc41"
            ],
            [
             0.9,
             "#4d9221"
            ],
            [
             1,
             "#276419"
            ]
           ],
           "sequential": [
            [
             0,
             "#0d0887"
            ],
            [
             0.1111111111111111,
             "#46039f"
            ],
            [
             0.2222222222222222,
             "#7201a8"
            ],
            [
             0.3333333333333333,
             "#9c179e"
            ],
            [
             0.4444444444444444,
             "#bd3786"
            ],
            [
             0.5555555555555556,
             "#d8576b"
            ],
            [
             0.6666666666666666,
             "#ed7953"
            ],
            [
             0.7777777777777778,
             "#fb9f3a"
            ],
            [
             0.8888888888888888,
             "#fdca26"
            ],
            [
             1,
             "#f0f921"
            ]
           ],
           "sequentialminus": [
            [
             0,
             "#0d0887"
            ],
            [
             0.1111111111111111,
             "#46039f"
            ],
            [
             0.2222222222222222,
             "#7201a8"
            ],
            [
             0.3333333333333333,
             "#9c179e"
            ],
            [
             0.4444444444444444,
             "#bd3786"
            ],
            [
             0.5555555555555556,
             "#d8576b"
            ],
            [
             0.6666666666666666,
             "#ed7953"
            ],
            [
             0.7777777777777778,
             "#fb9f3a"
            ],
            [
             0.8888888888888888,
             "#fdca26"
            ],
            [
             1,
             "#f0f921"
            ]
           ]
          },
          "colorway": [
           "#636efa",
           "#EF553B",
           "#00cc96",
           "#ab63fa",
           "#FFA15A",
           "#19d3f3",
           "#FF6692",
           "#B6E880",
           "#FF97FF",
           "#FECB52"
          ],
          "font": {
           "color": "#2a3f5f"
          },
          "geo": {
           "bgcolor": "white",
           "lakecolor": "white",
           "landcolor": "#E5ECF6",
           "showlakes": true,
           "showland": true,
           "subunitcolor": "white"
          },
          "hoverlabel": {
           "align": "left"
          },
          "hovermode": "closest",
          "mapbox": {
           "style": "light"
          },
          "paper_bgcolor": "white",
          "plot_bgcolor": "#E5ECF6",
          "polar": {
           "angularaxis": {
            "gridcolor": "white",
            "linecolor": "white",
            "ticks": ""
           },
           "bgcolor": "#E5ECF6",
           "radialaxis": {
            "gridcolor": "white",
            "linecolor": "white",
            "ticks": ""
           }
          },
          "scene": {
           "xaxis": {
            "backgroundcolor": "#E5ECF6",
            "gridcolor": "white",
            "gridwidth": 2,
            "linecolor": "white",
            "showbackground": true,
            "ticks": "",
            "zerolinecolor": "white"
           },
           "yaxis": {
            "backgroundcolor": "#E5ECF6",
            "gridcolor": "white",
            "gridwidth": 2,
            "linecolor": "white",
            "showbackground": true,
            "ticks": "",
            "zerolinecolor": "white"
           },
           "zaxis": {
            "backgroundcolor": "#E5ECF6",
            "gridcolor": "white",
            "gridwidth": 2,
            "linecolor": "white",
            "showbackground": true,
            "ticks": "",
            "zerolinecolor": "white"
           }
          },
          "shapedefaults": {
           "line": {
            "color": "#2a3f5f"
           }
          },
          "ternary": {
           "aaxis": {
            "gridcolor": "white",
            "linecolor": "white",
            "ticks": ""
           },
           "baxis": {
            "gridcolor": "white",
            "linecolor": "white",
            "ticks": ""
           },
           "bgcolor": "#E5ECF6",
           "caxis": {
            "gridcolor": "white",
            "linecolor": "white",
            "ticks": ""
           }
          },
          "title": {
           "x": 0.05
          },
          "xaxis": {
           "automargin": true,
           "gridcolor": "white",
           "linecolor": "white",
           "ticks": "",
           "title": {
            "standoff": 15
           },
           "zerolinecolor": "white",
           "zerolinewidth": 2
          },
          "yaxis": {
           "automargin": true,
           "gridcolor": "white",
           "linecolor": "white",
           "ticks": "",
           "title": {
            "standoff": 15
           },
           "zerolinecolor": "white",
           "zerolinewidth": 2
          }
         }
        },
        "title": {
         "font": {
          "color": "#D9D9D9"
         }
        },
        "xaxis": {
         "autorange": true,
         "gridcolor": "#434343",
         "range": [
          0,
          133
         ],
         "showgrid": true,
         "tickfont": {
          "color": "#C2C2C2"
         },
         "title": {
          "font": {
           "color": "#D9D9D9"
          },
          "text": ""
         },
         "type": "category",
         "zerolinecolor": "#666570"
        },
        "yaxis": {
         "autorange": true,
         "gridcolor": "#434343",
         "range": [
          3729671044.4444427,
          532644754155.55554
         ],
         "showgrid": true,
         "tickfont": {
          "color": "#C2C2C2"
         },
         "title": {
          "font": {
           "color": "#D9D9D9"
          },
          "text": ""
         },
         "type": "linear",
         "zerolinecolor": "#666570"
        }
       }
      },
      "image/png": "[encoded data removed]",
      "text/html": [
       "<div>                            <div id=\"f3c0d70e-37db-4b79-8ef4-e228fc72e545\" class=\"plotly-graph-div\" style=\"height:525px; width:100%;\"></div>            <script type=\"text/javascript\">                require([\"plotly\"], function(Plotly) {                    window.PLOTLYENV=window.PLOTLYENV || {};\n",
       "                    window.PLOTLYENV.BASE_URL='https://plot.ly';                                    if (document.getElementById(\"f3c0d70e-37db-4b79-8ef4-e228fc72e545\")) {                    Plotly.newPlot(                        \"f3c0d70e-37db-4b79-8ef4-e228fc72e545\",                        [{\"line\":{\"color\":\"rgba(255, 153, 51, 1.0)\",\"dash\":\"solid\",\"shape\":\"linear\",\"width\":1.3},\"mode\":\"lines\",\"name\":\"ShareholdersEquityUsd\",\"text\":\"\",\"x\":[\"Berkshire Hathaway Inc\",\"Berkshire Hathaway Inc\",\"Berkshire Hathaway Inc\",\"Gazprom PAO\",\"JPMorgan Chase & Co\",\"JPMorgan Chase & Co\",\"Bank of America Corp\",\"Bank of America Corp\",\"Schweizerische Nationalbank\",\"Citigroup Inc\",\"Citigroup Inc\",\"Toyota Motor Corp\",\"Toyota Motor Corp\",\"HSBC Holdings PLC\",\"HSBC Holdings PLC\",\"Shell PLC\",\"Shell PLC\",\"Exxon Mobil Corp\",\"Exxon Mobil Corp\",\"Wells Fargo & Co\",\"Wells Fargo & Co\",\"Microsoft Corp\",\"Microsoft Corp\",\"AT&T Inc\",\"AT&T Inc\",\"Volkswagen AG\",\"Volkswagen AG\",\"Chevron Corp\",\"Chevron Corp\",\"Amazon.com Inc\",\"Amazon.com Inc\",\"Meta Platforms Inc\",\"Meta Platforms Inc\",\"BNP Paribas SA\",\"BNP Paribas SA\",\"Tencent Holdings Ltd\",\"Tencent Holdings Ltd\",\"TotalEnergies SE\",\"TotalEnergies SE\",\"Goldman Sachs Group Inc\",\"Goldman Sachs Group Inc\",\"Morgan Stanley\",\"Morgan Stanley\",\"Comcast Corp\",\"Comcast Corp\",\"Intel Corp\",\"Intel Corp\",\"Walt Disney Co\",\"Walt Disney Co\",\"Banco Santander SA\",\"Banco Santander SA\",\"Walmart Inc\",\"Walmart Inc\",\"Verizon Communications Inc\",\"Allianz SE\",\"Allianz SE\",\"Barclays PLC\",\"Barclays PLC\",\"Pfizer Inc\",\"Pfizer Inc\",\"BP PLC\",\"BP PLC\",\"BP PLC\",\"BP PLC\",\"CVS Health Corp\",\"CVS Health Corp\",\"British American Tobacco PLC\",\"British American Tobacco PLC\",\"Johnson & Johnson\",\"Johnson & Johnson\",\"Raytheon Technologies Corp\",\"Bayerische Motoren Werke AG\",\"Bayerische Motoren Werke AG\",\"UnitedHealth Group Inc\",\"UnitedHealth Group Inc\",\"Mercedes Benz Group AG\",\"Mercedes Benz Group AG\",\"AXA SA\",\"Toronto-Dominion Bank\",\"Toronto-Dominion Bank\",\"T-Mobile US Inc\",\"SoftBank Group Corp\",\"SoftBank Group Corp\",\"Anheuser-Busch Inbev SA\",\"Anheuser-Busch Inbev SA\",\"Novartis AG\",\"Novartis AG\",\"Royal Bank of Canada\",\"Royal Bank of Canada\",\"MetLife Inc\",\"MetLife Inc\",\"Sanofi SA\",\"Sanofi SA\",\"Credit Agricole SA\",\"Credit Agricole SA\",\"American International Group Inc\",\"Deutsche Bank AG\",\"Deutsche Bank AG\",\"Societe Generale SA\",\"Societe Generale SA\",\"Apple Inc\",\"Apple Inc\",\"Intesa Sanpaolo SpA\",\"Intesa Sanpaolo SpA\",\"Investor AB\",\"Investor AB\",\"Prudential Financial Inc\",\"UniCredit SpA\",\"UBS Group AG\",\"UBS Group AG\",\"General Motors Co\",\"General Motors Co\",\"Lloyds Banking Group PLC\",\"Lloyds Banking Group PLC\",\"Salesforce Inc\",\"Salesforce Inc\",\"Capital One Financial Corp\",\"PNC Financial Services Group Inc\",\"Stellantis NV\",\"Stellantis NV\",\"Nestle SA\",\"Nestle SA\",\"Nestle SA\",\"Nestle SA\",\"Vodafone Group PLC\",\"Vodafone Group PLC\",\"ING Groep NV\",\"ING Groep NV\",\"Medtronic PLC\",\"Medtronic PLC\",\"Standard Chartered PLC\",\"Standard Chartered PLC\",\"Rio Tinto PLC\",\"Rio Tinto PLC\",\"Prosus NV\",\"Prosus NV\",\"Kraft Heinz Co\",\"Electricite de France SA\",\"Electricite de France SA\",\"ArcelorMittal SA\",\"ArcelorMittal SA\",\"US Bancorp\",\"Ford Motor Co\",\"Ford Motor Co\",\"Mitsubishi Corp\",\"Mitsubishi Corp\",\"Bank of Nova Scotia\",\"Bank of Nova Scotia\",\"Fidelity National Information Services Inc\",\"Duke Energy Corp\",\"Westpac Banking Corp\",\"Natwest Group PLC\",\"Natwest Group PLC\",\"Charles Schwab Corp\",\"Charles Schwab Corp\",\"LVMH Moet Hennessy Louis Vuitton SE\",\"LVMH Moet Hennessy Louis Vuitton SE\",\"Procter & Gamble Co\",\"Procter & Gamble Co\",\"Conocophillips\",\"BHP Group Ltd\",\"BHP Group Ltd\",\"AP Moeller - Maersk A/S\",\"AP Moeller - Maersk A/S\",\"AP Moeller - Maersk A/S\",\"Credit Suisse Group AG\",\"Credit Suisse Group AG\",\"Micron Technology Inc\",\"Micron Technology Inc\",\"Eni SpA\",\"Eni SpA\",\"Siemens AG\",\"Siemens AG\",\"Banco Bilbao Vizcaya Argentaria SA\",\"Brookfield Asset Management Inc\",\"Brookfield Asset Management Inc\",\"Danaher Corp\",\"Danaher Corp\",\"Deutsche Telekom AG\",\"Deutsche Telekom AG\",\"Thermo Fisher Scientific Inc\",\"General Electric Co\",\"General Electric Co\",\"Glencore PLC\",\"Glencore PLC\",\"BASF SE\",\"BASF SE\",\"Cisco Systems Inc\",\"Cisco Systems Inc\",\"Iberdrola SA\",\"Iberdrola SA\",\"Bank of Montreal\",\"Bank of Montreal\",\"Takeda Pharmaceutical Co Ltd\",\"Takeda Pharmaceutical Co Ltd\",\"AstraZeneca PLC\",\"AstraZeneca PLC\",\"Equinor ASA\",\"Equinor ASA\",\"Enbridge Inc\",\"Enbridge Inc\",\"Bank of New York Mellon Corp\",\"Bank of New York Mellon Corp\",\"Merck & Co Inc\",\"Merck & Co Inc\",\"SAP SE\",\"SAP SE\",\"Analog Devices Inc\",\"Zurich Insurance Group AG\",\"Zurich Insurance Group AG\",\"BlackRock Inc\",\"BlackRock Inc\",\"Manulife Financial Corp\",\"Manulife Financial Corp\",\"Nextera Energy Inc\",\"Engie SA\",\"Engie SA\",\"Elevance Health Inc\",\"Elevance Health Inc\",\"Bristol-Myers Squibb Co\",\"Bristol-Myers Squibb Co\",\"Abbott Laboratories\",\"Abbott Laboratories\",\"Caixabank SA\",\"Caixabank SA\",\"Hongkong Land Holdings Ltd\",\"Hongkong Land Holdings Ltd\",\"Hongkong Land Holdings Ltd\",\"Visa Inc\",\"Visa Inc\",\"EssilorLuxottica SA\",\"EssilorLuxottica SA\",\"Exelon Corp\",\"NN Group NV\",\"Prologis Inc\",\"Aflac Inc\",\"Bayer AG\",\"Bayer AG\",\"Orange SA\",\"Orange SA\",\"Fiserv Inc\",\"Kinder Morgan Inc\",\"Canadian Imperial Bank of Commerce\",\"Canadian Imperial Bank of Commerce\",\"Tesla Inc\",\"Tesla Inc\",\"Muenchener Rueckversicherungs Gesellschaft in Muenchen AG\",\"Muenchener Rueckversicherungs Gesellschaft in Muenchen AG\"],\"y\":[506199000000.0,506199000000.0,506199000000.0,271991949790.0,259289000000.0,259289000000.0,245358000000.0,245358000000.0,206208076728.0,182977000000.0,182977000000.0,181469743483.0,181469743483.0,175836000000.0,175836000000.0,171966000000.0,171966000000.0,168577000000.0,168577000000.0,167549000000.0,167549000000.0,166542000000.0,166542000000.0,166332000000.0,166332000000.0,141386681200.0,141386681200.0,139067000000.0,139067000000.0,138245000000.0,138245000000.0,124879000000.0,124879000000.0,115386816800.0,115386816800.0,113347719125.0,113347719125.0,111736000000.0,111736000000.0,99223000000.0,99223000000.0,97691000000.0,97691000000.0,96092000000.0,96092000000.0,95391000000.0,95391000000.0,88553000000.0,88553000000.0,85087084000.0,85087084000.0,83253000000.0,83253000000.0,81790000000.0,78257017600.0,78257017600.0,77237907599.0,77237907599.0,77200000000.0,77200000000.0,75442000000.0,75442000000.0,75442000000.0,75442000000.0,75075000000.0,75075000000.0,74871295799.0,74871295799.0,74023000000.0,74023000000.0,73068000000.0,72789440800.0,72789440800.0,71760000000.0,71760000000.0,70425638800.0,70425638800.0,69626938000.0,69140590568.0,69140590568.0,69102000000.0,68973753716.0,68973753716.0,68669000000.0,68669000000.0,67655000000.0,67655000000.0,67565006610.0,67565006610.0,67482000000.0,67482000000.0,67224962800.0,67224962800.0,66770799600.0,66770799600.0,65471000000.0,64925761600.0,64925761600.0,63687579600.0,63687579600.0,63090000000.0,63090000000.0,62422970000.0,62422970000.0,62258441108.0,62258441108.0,61876000000.0,60866678000.0,60662000000.0,60662000000.0,59744000000.0,59744000000.0,59044788599.0,59044788599.0,58131000000.0,58131000000.0,56184000000.0,55695000000.0,54721771600.0,54721771600.0,53649671882.0,53649671882.0,53649671882.0,53649671882.0,53527635600.0,53527635600.0,52774938400.0,52774938400.0,52551000000.0,52551000000.0,52265000000.0,52265000000.0,51432000000.0,51432000000.0,50421000000.0,50421000000.0,49298000000.0,49146526800.0,49146526800.0,49106000000.0,49106000000.0,48547000000.0,48519000000.0,48519000000.0,47571264606.0,47571264606.0,47561333920.0,47561333920.0,47347000000.0,47334000000.0,46721901000.0,46635976799.0,46635976799.0,46307000000.0,46307000000.0,46120077200.0,46120077200.0,45746000000.0,45746000000.0,45406000000.0,44957000000.0,44957000000.0,44508000000.0,44508000000.0,44508000000.0,44375567895.0,44375567895.0,43933000000.0,43933000000.0,43494935600.0,43494935600.0,43223808000.0,43223808000.0,42976171600.0,42210000000.0,42210000000.0,41899000000.0,41899000000.0,41774205200.0,41774205200.0,40793000000.0,40304000000.0,40304000000.0,39931000000.0,39931000000.0,39927209600.0,39927209600.0,39773000000.0,39773000000.0,39620845200.0,39620845200.0,39571764360.0,39571764360.0,39293500656.0,39293500656.0,39268000000.0,39268000000.0,39010000000.0,39010000000.0,38988541207.0,38988541207.0,38196000000.0,38196000000.0,38184000000.0,38184000000.0,38029316400.0,38029316400.0,37992542000.0,37881000000.0,37881000000.0,37693000000.0,37693000000.0,37310121933.0,37310121933.0,37202000000.0,36209727200.0,36209727200.0,36060000000.0,36060000000.0,35946000000.0,35946000000.0,35802000000.0,35802000000.0,34643647200.0,34643647200.0,34583800000.0,34583800000.0,34583800000.0,34509001000.0,34509001000.0,34440056800.0,34440056800.0,34393000000.0,33917377600.0,33362925000.0,33253000000.0,32319976000.0,32319976000.0,31655370800.0,31655370800.0,30952000000.0,30823000000.0,30353312766.0,30353312766.0,30189000000.0,30189000000.0,30175425200.0,30175425200.0],\"type\":\"scatter\"}],                        {\"legend\":{\"bgcolor\":\"#151516\",\"font\":{\"color\":\"#D9D9D9\"}},\"paper_bgcolor\":\"#151516\",\"plot_bgcolor\":\"#151516\",\"template\":{\"data\":{\"barpolar\":[{\"marker\":{\"line\":{\"color\":\"#E5ECF6\",\"width\":0.5},\"pattern\":{\"fillmode\":\"overlay\",\"size\":10,\"solidity\":0.2}},\"type\":\"barpolar\"}],\"bar\":[{\"error_x\":{\"color\":\"#2a3f5f\"},\"error_y\":{\"color\":\"#2a3f5f\"},\"marker\":{\"line\":{\"color\":\"#E5ECF6\",\"width\":0.5},\"pattern\":{\"fillmode\":\"overlay\",\"size\":10,\"solidity\":0.2}},\"type\":\"bar\"}],\"carpet\":[{\"aaxis\":{\"endlinecolor\":\"#2a3f5f\",\"gridcolor\":\"white\",\"linecolor\":\"white\",\"minorgridcolor\":\"white\",\"startlinecolor\":\"#2a3f5f\"},\"baxis\":{\"endlinecolor\":\"#2a3f5f\",\"gridcolor\":\"white\",\"linecolor\":\"white\",\"minorgridcolor\":\"white\",\"startlinecolor\":\"#2a3f5f\"},\"type\":\"carpet\"}],\"choropleth\":[{\"colorbar\":{\"outlinewidth\":0,\"ticks\":\"\"},\"type\":\"choropleth\"}],\"contourcarpet\":[{\"colorbar\":{\"outlinewidth\":0,\"ticks\":\"\"},\"type\":\"contourcarpet\"}],\"contour\":[{\"colorbar\":{\"outlinewidth\":0,\"ticks\":\"\"},\"colorscale\":[[0.0,\"#0d0887\"],[0.1111111111111111,\"#46039f\"],[0.2222222222222222,\"#7201a8\"],[0.3333333333333333,\"#9c179e\"],[0.4444444444444444,\"#bd3786\"],[0.5555555555555556,\"#d8576b\"],[0.6666666666666666,\"#ed7953\"],[0.7777777777777778,\"#fb9f3a\"],[0.8888888888888888,\"#fdca26\"],[1.0,\"#f0f921\"]],\"type\":\"contour\"}],\"heatmapgl\":[{\"colorbar\":{\"outlinewidth\":0,\"ticks\":\"\"},\"colorscale\":[[0.0,\"#0d0887\"],[0.1111111111111111,\"#46039f\"],[0.2222222222222222,\"#7201a8\"],[0.3333333333333333,\"#9c179e\"],[0.4444444444444444,\"#bd3786\"],[0.5555555555555556,\"#d8576b\"],[0.6666666666666666,\"#ed7953\"],[0.7777777777777778,\"#fb9f3a\"],[0.8888888888888888,\"#fdca26\"],[1.0,\"#f0f921\"]],\"type\":\"heatmapgl\"}],\"heatmap\":[{\"colorbar\":{\"outlinewidth\":0,\"ticks\":\"\"},\"colorscale\":[[0.0,\"#0d0887\"],[0.1111111111111111,\"#46039f\"],[0.2222222222222222,\"#7201a8\"],[0.3333333333333333,\"#9c179e\"],[0.4444444444444444,\"#bd3786\"],[0.5555555555555556,\"#d8576b\"],[0.6666666666666666,\"#ed7953\"],[0.7777777777777778,\"#fb9f3a\"],[0.8888888888888888,\"#fdca26\"],[1.0,\"#f0f921\"]],\"type\":\"heatmap\"}],\"histogram2dcontour\":[{\"colorbar\":{\"outlinewidth\":0,\"ticks\":\"\"},\"colorscale\":[[0.0,\"#0d0887\"],[0.1111111111111111,\"#46039f\"],[0.2222222222222222,\"#7201a8\"],[0.3333333333333333,\"#9c179e\"],[0.4444444444444444,\"#bd3786\"],[0.5555555555555556,\"#d8576b\"],[0.6666666666666666,\"#ed7953\"],[0.7777777777777778,\"#fb9f3a\"],[0.8888888888888888,\"#fdca26\"],[1.0,\"#f0f921\"]],\"type\":\"histogram2dcontour\"}],\"histogram2d\":[{\"colorbar\":{\"outlinewidth\":0,\"ticks\":\"\"},\"colorscale\":[[0.0,\"#0d0887\"],[0.1111111111111111,\"#46039f\"],[0.2222222222222222,\"#7201a8\"],[0.3333333333333333,\"#9c179e\"],[0.4444444444444444,\"#bd3786\"],[0.5555555555555556,\"#d8576b\"],[0.6666666666666666,\"#ed7953\"],[0.7777777777777778,\"#fb9f3a\"],[0.8888888888888888,\"#fdca26\"],[1.0,\"#f0f921\"]],\"type\":\"histogram2d\"}],\"histogram\":[{\"marker\":{\"pattern\":{\"fillmode\":\"overlay\",\"size\":10,\"solidity\":0.2}},\"type\":\"histogram\"}],\"mesh3d\":[{\"colorbar\":{\"outlinewidth\":0,\"ticks\":\"\"},\"type\":\"mesh3d\"}],\"parcoords\":[{\"line\":{\"colorbar\":{\"outlinewidth\":0,\"ticks\":\"\"}},\"type\":\"parcoords\"}],\"pie\":[{\"automargin\":true,\"type\":\"pie\"}],\"scatter3d\":[{\"line\":{\"colorbar\":{\"outlinewidth\":0,\"ticks\":\"\"}},\"marker\":{\"colorbar\":{\"outlinewidth\":0,\"ticks\":\"\"}},\"type\":\"scatter3d\"}],\"scattercarpet\":[{\"marker\":{\"colorbar\":{\"outlinewidth\":0,\"ticks\":\"\"}},\"type\":\"scattercarpet\"}],\"scattergeo\":[{\"marker\":{\"colorbar\":{\"outlinewidth\":0,\"ticks\":\"\"}},\"type\":\"scattergeo\"}],\"scattergl\":[{\"marker\":{\"colorbar\":{\"outlinewidth\":0,\"ticks\":\"\"}},\"type\":\"scattergl\"}],\"scattermapbox\":[{\"marker\":{\"colorbar\":{\"outlinewidth\":0,\"ticks\":\"\"}},\"type\":\"scattermapbox\"}],\"scatterpolargl\":[{\"marker\":{\"colorbar\":{\"outlinewidth\":0,\"ticks\":\"\"}},\"type\":\"scatterpolargl\"}],\"scatterpolar\":[{\"marker\":{\"colorbar\":{\"outlinewidth\":0,\"ticks\":\"\"}},\"type\":\"scatterpolar\"}],\"scatter\":[{\"marker\":{\"colorbar\":{\"outlinewidth\":0,\"ticks\":\"\"}},\"type\":\"scatter\"}],\"scatterternary\":[{\"marker\":{\"colorbar\":{\"outlinewidth\":0,\"ticks\":\"\"}},\"type\":\"scatterternary\"}],\"surface\":[{\"colorbar\":{\"outlinewidth\":0,\"ticks\":\"\"},\"colorscale\":[[0.0,\"#0d0887\"],[0.1111111111111111,\"#46039f\"],[0.2222222222222222,\"#7201a8\"],[0.3333333333333333,\"#9c179e\"],[0.4444444444444444,\"#bd3786\"],[0.5555555555555556,\"#d8576b\"],[0.6666666666666666,\"#ed7953\"],[0.7777777777777778,\"#fb9f3a\"],[0.8888888888888888,\"#fdca26\"],[1.0,\"#f0f921\"]],\"type\":\"surface\"}],\"table\":[{\"cells\":{\"fill\":{\"color\":\"#EBF0F8\"},\"line\":{\"color\":\"white\"}},\"header\":{\"fill\":{\"color\":\"#C8D4E3\"},\"line\":{\"color\":\"white\"}},\"type\":\"table\"}]},\"layout\":{\"annotationdefaults\":{\"arrowcolor\":\"#2a3f5f\",\"arrowhead\":0,\"arrowwidth\":1},\"autotypenumbers\":\"strict\",\"coloraxis\":{\"colorbar\":{\"outlinewidth\":0,\"ticks\":\"\"}},\"colorscale\":{\"diverging\":[[0,\"#8e0152\"],[0.1,\"#c51b7d\"],[0.2,\"#de77ae\"],[0.3,\"#f1b6da\"],[0.4,\"#fde0ef\"],[0.5,\"#f7f7f7\"],[0.6,\"#e6f5d0\"],[0.7,\"#b8e186\"],[0.8,\"#7fbc41\"],[0.9,\"#4d9221\"],[1,\"#276419\"]],\"sequential\":[[0.0,\"#0d0887\"],[0.1111111111111111,\"#46039f\"],[0.2222222222222222,\"#7201a8\"],[0.3333333333333333,\"#9c179e\"],[0.4444444444444444,\"#bd3786\"],[0.5555555555555556,\"#d8576b\"],[0.6666666666666666,\"#ed7953\"],[0.7777777777777778,\"#fb9f3a\"],[0.8888888888888888,\"#fdca26\"],[1.0,\"#f0f921\"]],\"sequentialminus\":[[0.0,\"#0d0887\"],[0.1111111111111111,\"#46039f\"],[0.2222222222222222,\"#7201a8\"],[0.3333333333333333,\"#9c179e\"],[0.4444444444444444,\"#bd3786\"],[0.5555555555555556,\"#d8576b\"],[0.6666666666666666,\"#ed7953\"],[0.7777777777777778,\"#fb9f3a\"],[0.8888888888888888,\"#fdca26\"],[1.0,\"#f0f921\"]]},\"colorway\":[\"#636efa\",\"#EF553B\",\"#00cc96\",\"#ab63fa\",\"#FFA15A\",\"#19d3f3\",\"#FF6692\",\"#B6E880\",\"#FF97FF\",\"#FECB52\"],\"font\":{\"color\":\"#2a3f5f\"},\"geo\":{\"bgcolor\":\"white\",\"lakecolor\":\"white\",\"landcolor\":\"#E5ECF6\",\"showlakes\":true,\"showland\":true,\"subunitcolor\":\"white\"},\"hoverlabel\":{\"align\":\"left\"},\"hovermode\":\"closest\",\"mapbox\":{\"style\":\"light\"},\"paper_bgcolor\":\"white\",\"plot_bgcolor\":\"#E5ECF6\",\"polar\":{\"angularaxis\":{\"gridcolor\":\"white\",\"linecolor\":\"white\",\"ticks\":\"\"},\"bgcolor\":\"#E5ECF6\",\"radialaxis\":{\"gridcolor\":\"white\",\"linecolor\":\"white\",\"ticks\":\"\"}},\"scene\":{\"xaxis\":{\"backgroundcolor\":\"#E5ECF6\",\"gridcolor\":\"white\",\"gridwidth\":2,\"linecolor\":\"white\",\"showbackground\":true,\"ticks\":\"\",\"zerolinecolor\":\"white\"},\"yaxis\":{\"backgroundcolor\":\"#E5ECF6\",\"gridcolor\":\"white\",\"gridwidth\":2,\"linecolor\":\"white\",\"showbackground\":true,\"ticks\":\"\",\"zerolinecolor\":\"white\"},\"zaxis\":{\"backgroundcolor\":\"#E5ECF6\",\"gridcolor\":\"white\",\"gridwidth\":2,\"linecolor\":\"white\",\"showbackground\":true,\"ticks\":\"\",\"zerolinecolor\":\"white\"}},\"shapedefaults\":{\"line\":{\"color\":\"#2a3f5f\"}},\"ternary\":{\"aaxis\":{\"gridcolor\":\"white\",\"linecolor\":\"white\",\"ticks\":\"\"},\"baxis\":{\"gridcolor\":\"white\",\"linecolor\":\"white\",\"ticks\":\"\"},\"bgcolor\":\"#E5ECF6\",\"caxis\":{\"gridcolor\":\"white\",\"linecolor\":\"white\",\"ticks\":\"\"}},\"title\":{\"x\":0.05},\"xaxis\":{\"automargin\":true,\"gridcolor\":\"white\",\"linecolor\":\"white\",\"ticks\":\"\",\"title\":{\"standoff\":15},\"zerolinecolor\":\"white\",\"zerolinewidth\":2},\"yaxis\":{\"automargin\":true,\"gridcolor\":\"white\",\"linecolor\":\"white\",\"ticks\":\"\",\"title\":{\"standoff\":15},\"zerolinecolor\":\"white\",\"zerolinewidth\":2}}},\"title\":{\"font\":{\"color\":\"#D9D9D9\"}},\"xaxis\":{\"gridcolor\":\"#434343\",\"showgrid\":true,\"tickfont\":{\"color\":\"#C2C2C2\"},\"title\":{\"font\":{\"color\":\"#D9D9D9\"},\"text\":\"\"},\"zerolinecolor\":\"#666570\"},\"yaxis\":{\"gridcolor\":\"#434343\",\"showgrid\":true,\"tickfont\":{\"color\":\"#C2C2C2\"},\"title\":{\"font\":{\"color\":\"#D9D9D9\"},\"text\":\"\"},\"zerolinecolor\":\"#666570\"}},                        {\"showLink\": true, \"linkText\": \"Export to plot.ly\", \"plotlyServerURL\": \"https://plot.ly\", \"responsive\": true}                    ).then(function(){\n",
       "                            \n",
       "var gd = document.getElementById('f3c0d70e-37db-4b79-8ef4-e228fc72e545');\n",
       "var x = new MutationObserver(function (mutations, observer) {{\n",
       "        var display = window.getComputedStyle(gd).display;\n",
       "        if (!display || display === 'none') {{\n",
       "            console.log([gd, 'removed!']);\n",
       "            Plotly.purge(gd);\n",
       "            observer.disconnect();\n",
       "        }}\n",
       "}});\n",
       "\n",
       "// Listen for the removal of the full notebook cells\n",
       "var notebookContainer = gd.closest('#notebook-container');\n",
       "if (notebookContainer) {{\n",
       "    x.observe(notebookContainer, {childList: true});\n",
       "}}\n",
       "\n",
       "// Listen for the clearing of the current output cell\n",
       "var outputEl = gd.closest('.output');\n",
       "if (outputEl) {{\n",
       "    x.observe(outputEl, {childList: true});\n",
       "}}\n",
       "\n",
       "                        })                };                });            </script>        </div>"
      ]
     },
     "metadata": {},
     "output_type": "display_data"
    },
    {
     "data": {
      "text/html": [
       "<div>\n",
       "<style scoped>\n",
       "    .dataframe tbody tr th:only-of-type {\n",
       "        vertical-align: middle;\n",
       "    }\n",
       "\n",
       "    .dataframe tbody tr th {\n",
       "        vertical-align: top;\n",
       "    }\n",
       "\n",
       "    .dataframe thead th {\n",
       "        text-align: right;\n",
       "    }\n",
       "</style>\n",
       "<table border=\"1\" class=\"dataframe\">\n",
       "  <thead>\n",
       "    <tr style=\"text-align: right;\">\n",
       "      <th></th>\n",
       "      <th>DTSubjectName</th>\n",
       "      <th>ExchangeName</th>\n",
       "      <th>RIC</th>\n",
       "      <th>MktCapCompanyUsd</th>\n",
       "      <th>ShareholdersEquityUsd</th>\n",
       "      <th>Pe</th>\n",
       "      <th>DebtToAssets</th>\n",
       "      <th>Beta</th>\n",
       "      <th>Eps</th>\n",
       "      <th>Gics</th>\n",
       "      <th>...</th>\n",
       "      <th>RCSAssetCategory</th>\n",
       "      <th>RCSCurrencyLeaf</th>\n",
       "      <th>AssetState</th>\n",
       "      <th>BusinessEntity</th>\n",
       "      <th>PI</th>\n",
       "      <th>IssueISIN</th>\n",
       "      <th>CinCUSIP</th>\n",
       "      <th>SEDOL</th>\n",
       "      <th>CUSIP</th>\n",
       "      <th>SolvencyMargin</th>\n",
       "    </tr>\n",
       "  </thead>\n",
       "  <tbody>\n",
       "    <tr>\n",
       "      <th>3202</th>\n",
       "      <td>Berkshire Hathaway Inc</td>\n",
       "      <td>London Stock Exchange</td>\n",
       "      <td>BRYNde.TRE</td>\n",
       "      <td>615851188993.0</td>\n",
       "      <td>506199000000.0</td>\n",
       "      <td>&lt;NA&gt;</td>\n",
       "      <td>0.462934</td>\n",
       "      <td>&lt;NA&gt;</td>\n",
       "      <td>39.8</td>\n",
       "      <td>Financials/Diversified Financials/Diversified ...</td>\n",
       "      <td>...</td>\n",
       "      <td>A:1L</td>\n",
       "      <td>US Dollar</td>\n",
       "      <td>AC</td>\n",
       "      <td>QUOTExEQUITY</td>\n",
       "      <td>286567046</td>\n",
       "      <td>US0846707026</td>\n",
       "      <td>&lt;NA&gt;</td>\n",
       "      <td>&lt;NA&gt;</td>\n",
       "      <td>084670702</td>\n",
       "      <td>NaN</td>\n",
       "    </tr>\n",
       "    <tr>\n",
       "      <th>2214</th>\n",
       "      <td>Berkshire Hathaway Inc</td>\n",
       "      <td>London Stock Exchange</td>\n",
       "      <td>0HN0.L</td>\n",
       "      <td>615851188993.0</td>\n",
       "      <td>506199000000.0</td>\n",
       "      <td>57.122179</td>\n",
       "      <td>0.462934</td>\n",
       "      <td>0.885787</td>\n",
       "      <td>7525.37854</td>\n",
       "      <td>Financials/Diversified Financials/Diversified ...</td>\n",
       "      <td>...</td>\n",
       "      <td>A:1L</td>\n",
       "      <td>US Dollar</td>\n",
       "      <td>AC</td>\n",
       "      <td>QUOTExEQUITY</td>\n",
       "      <td>288061676</td>\n",
       "      <td>US0846701086</td>\n",
       "      <td>&lt;NA&gt;</td>\n",
       "      <td>BG05R83</td>\n",
       "      <td>084670108</td>\n",
       "      <td>NaN</td>\n",
       "    </tr>\n",
       "    <tr>\n",
       "      <th>1881</th>\n",
       "      <td>Berkshire Hathaway Inc</td>\n",
       "      <td>London Stock Exchange</td>\n",
       "      <td>0R37.L</td>\n",
       "      <td>615851188993.0</td>\n",
       "      <td>506199000000.0</td>\n",
       "      <td>7.001256</td>\n",
       "      <td>0.462934</td>\n",
       "      <td>0.855168</td>\n",
       "      <td>39.8</td>\n",
       "      <td>Financials/Diversified Financials/Diversified ...</td>\n",
       "      <td>...</td>\n",
       "      <td>A:1L</td>\n",
       "      <td>US Dollar</td>\n",
       "      <td>AC</td>\n",
       "      <td>QUOTExEQUITY</td>\n",
       "      <td>286489815</td>\n",
       "      <td>US0846707026</td>\n",
       "      <td>&lt;NA&gt;</td>\n",
       "      <td>BSJC6M6</td>\n",
       "      <td>084670702</td>\n",
       "      <td>NaN</td>\n",
       "    </tr>\n",
       "    <tr>\n",
       "      <th>4682</th>\n",
       "      <td>Gazprom PAO</td>\n",
       "      <td>London Stock Exchange</td>\n",
       "      <td>RU0007661625.TRE</td>\n",
       "      <td>84337137337.0</td>\n",
       "      <td>271991949790.0</td>\n",
       "      <td>&lt;NA&gt;</td>\n",
       "      <td>0.376403</td>\n",
       "      <td>&lt;NA&gt;</td>\n",
       "      <td>88.52066</td>\n",
       "      <td>Energy/Energy/Oil, Gas &amp; Consumable Fuels/Inte...</td>\n",
       "      <td>...</td>\n",
       "      <td>A:1L</td>\n",
       "      <td>Euro</td>\n",
       "      <td>AC</td>\n",
       "      <td>QUOTExEQUITY</td>\n",
       "      <td>330811067</td>\n",
       "      <td>RU0007661625</td>\n",
       "      <td>X3123F106</td>\n",
       "      <td>&lt;NA&gt;</td>\n",
       "      <td>&lt;NA&gt;</td>\n",
       "      <td>NaN</td>\n",
       "    </tr>\n",
       "    <tr>\n",
       "      <th>1963</th>\n",
       "      <td>JPMorgan Chase &amp; Co</td>\n",
       "      <td>London Stock Exchange</td>\n",
       "      <td>0Q1F.L</td>\n",
       "      <td>324221000941.0</td>\n",
       "      <td>259289000000.0</td>\n",
       "      <td>8.778316</td>\n",
       "      <td>0.921431</td>\n",
       "      <td>1.207057</td>\n",
       "      <td>12.45911</td>\n",
       "      <td>Financials/Banks/Banks/Diversified Banks</td>\n",
       "      <td>...</td>\n",
       "      <td>A:1L</td>\n",
       "      <td>US Dollar</td>\n",
       "      <td>AC</td>\n",
       "      <td>QUOTExEQUITY</td>\n",
       "      <td>291218221</td>\n",
       "      <td>US46625H1005</td>\n",
       "      <td>&lt;NA&gt;</td>\n",
       "      <td>BD39H69</td>\n",
       "      <td>46625H100</td>\n",
       "      <td>NaN</td>\n",
       "    </tr>\n",
       "    <tr>\n",
       "      <th>...</th>\n",
       "      <td>...</td>\n",
       "      <td>...</td>\n",
       "      <td>...</td>\n",
       "      <td>...</td>\n",
       "      <td>...</td>\n",
       "      <td>...</td>\n",
       "      <td>...</td>\n",
       "      <td>...</td>\n",
       "      <td>...</td>\n",
       "      <td>...</td>\n",
       "      <td>...</td>\n",
       "      <td>...</td>\n",
       "      <td>...</td>\n",
       "      <td>...</td>\n",
       "      <td>...</td>\n",
       "      <td>...</td>\n",
       "      <td>...</td>\n",
       "      <td>...</td>\n",
       "      <td>...</td>\n",
       "      <td>...</td>\n",
       "      <td>...</td>\n",
       "    </tr>\n",
       "    <tr>\n",
       "      <th>3609</th>\n",
       "      <td>Canadian Imperial Bank of Commerce</td>\n",
       "      <td>London Stock Exchange</td>\n",
       "      <td>0UNI.L</td>\n",
       "      <td>40830814460.0</td>\n",
       "      <td>30353312766.0</td>\n",
       "      <td>&lt;NA&gt;</td>\n",
       "      <td>0.94529</td>\n",
       "      <td>&lt;NA&gt;</td>\n",
       "      <td>6.962285</td>\n",
       "      <td>Financials/Banks/Banks/Diversified Banks</td>\n",
       "      <td>...</td>\n",
       "      <td>A:1L</td>\n",
       "      <td>Canadian Dollar</td>\n",
       "      <td>AC</td>\n",
       "      <td>QUOTExEQUITY</td>\n",
       "      <td>288201907</td>\n",
       "      <td>CA1360691010</td>\n",
       "      <td>&lt;NA&gt;</td>\n",
       "      <td>BD6T9C6</td>\n",
       "      <td>136069101</td>\n",
       "      <td>&lt;NA&gt;</td>\n",
       "    </tr>\n",
       "    <tr>\n",
       "      <th>3062</th>\n",
       "      <td>Tesla Inc</td>\n",
       "      <td>London Stock Exchange</td>\n",
       "      <td>TL0de.TRE</td>\n",
       "      <td>754570921536.0</td>\n",
       "      <td>30189000000.0</td>\n",
       "      <td>&lt;NA&gt;</td>\n",
       "      <td>0.491671</td>\n",
       "      <td>&lt;NA&gt;</td>\n",
       "      <td>2.777057</td>\n",
       "      <td>Consumer Discretionary/Automobiles &amp; Component...</td>\n",
       "      <td>...</td>\n",
       "      <td>A:1L</td>\n",
       "      <td>US Dollar</td>\n",
       "      <td>AC</td>\n",
       "      <td>QUOTExEQUITY</td>\n",
       "      <td>285519033</td>\n",
       "      <td>US88160R1014</td>\n",
       "      <td>&lt;NA&gt;</td>\n",
       "      <td>&lt;NA&gt;</td>\n",
       "      <td>88160R101</td>\n",
       "      <td>&lt;NA&gt;</td>\n",
       "    </tr>\n",
       "    <tr>\n",
       "      <th>1874</th>\n",
       "      <td>Tesla Inc</td>\n",
       "      <td>London Stock Exchange</td>\n",
       "      <td>0R0X.L</td>\n",
       "      <td>754570921536.0</td>\n",
       "      <td>30189000000.0</td>\n",
       "      <td>86.017313</td>\n",
       "      <td>0.491671</td>\n",
       "      <td>1.192191</td>\n",
       "      <td>2.777057</td>\n",
       "      <td>Consumer Discretionary/Automobiles &amp; Component...</td>\n",
       "      <td>...</td>\n",
       "      <td>A:1L</td>\n",
       "      <td>US Dollar</td>\n",
       "      <td>AC</td>\n",
       "      <td>QUOTExEQUITY</td>\n",
       "      <td>285518916</td>\n",
       "      <td>US88160R1014</td>\n",
       "      <td>&lt;NA&gt;</td>\n",
       "      <td>BSJC712</td>\n",
       "      <td>88160R101</td>\n",
       "      <td>&lt;NA&gt;</td>\n",
       "    </tr>\n",
       "    <tr>\n",
       "      <th>4004</th>\n",
       "      <td>Muenchener Rueckversicherungs Gesellschaft in ...</td>\n",
       "      <td>London Stock Exchange</td>\n",
       "      <td>MUV2de.TRE</td>\n",
       "      <td>34460475899.0</td>\n",
       "      <td>30175425200.0</td>\n",
       "      <td>&lt;NA&gt;</td>\n",
       "      <td>0.900946</td>\n",
       "      <td>&lt;NA&gt;</td>\n",
       "      <td>18.663</td>\n",
       "      <td>Financials/Insurance/Insurance/Reinsurance</td>\n",
       "      <td>...</td>\n",
       "      <td>A:1L</td>\n",
       "      <td>Euro</td>\n",
       "      <td>AC</td>\n",
       "      <td>QUOTExEQUITY</td>\n",
       "      <td>279341076</td>\n",
       "      <td>DE0008430026</td>\n",
       "      <td>D55535104</td>\n",
       "      <td>&lt;NA&gt;</td>\n",
       "      <td>&lt;NA&gt;</td>\n",
       "      <td>49.784377</td>\n",
       "    </tr>\n",
       "    <tr>\n",
       "      <th>3091</th>\n",
       "      <td>Muenchener Rueckversicherungs Gesellschaft in ...</td>\n",
       "      <td>London Stock Exchange</td>\n",
       "      <td>0KFE.L</td>\n",
       "      <td>34460475899.0</td>\n",
       "      <td>30175425200.0</td>\n",
       "      <td>&lt;NA&gt;</td>\n",
       "      <td>0.900946</td>\n",
       "      <td>&lt;NA&gt;</td>\n",
       "      <td>18.663</td>\n",
       "      <td>Financials/Insurance/Insurance/Reinsurance</td>\n",
       "      <td>...</td>\n",
       "      <td>A:1L</td>\n",
       "      <td>Euro</td>\n",
       "      <td>AC</td>\n",
       "      <td>QUOTExEQUITY</td>\n",
       "      <td>40633577</td>\n",
       "      <td>DE0008430026</td>\n",
       "      <td>D55535104</td>\n",
       "      <td>B10RVR1</td>\n",
       "      <td>&lt;NA&gt;</td>\n",
       "      <td>49.784377</td>\n",
       "    </tr>\n",
       "  </tbody>\n",
       "</table>\n",
       "<p>248 rows × 45 columns</p>\n",
       "</div>"
      ],
      "text/plain": [
       "                                          DTSubjectName  \\\n",
       "3202                             Berkshire Hathaway Inc   \n",
       "2214                             Berkshire Hathaway Inc   \n",
       "1881                             Berkshire Hathaway Inc   \n",
       "4682                                        Gazprom PAO   \n",
       "1963                                JPMorgan Chase & Co   \n",
       "...                                                 ...   \n",
       "3609                 Canadian Imperial Bank of Commerce   \n",
       "3062                                          Tesla Inc   \n",
       "1874                                          Tesla Inc   \n",
       "4004  Muenchener Rueckversicherungs Gesellschaft in ...   \n",
       "3091  Muenchener Rueckversicherungs Gesellschaft in ...   \n",
       "\n",
       "               ExchangeName               RIC MktCapCompanyUsd  \\\n",
       "3202  London Stock Exchange        BRYNde.TRE   615851188993.0   \n",
       "2214  London Stock Exchange            0HN0.L   615851188993.0   \n",
       "1881  London Stock Exchange            0R37.L   615851188993.0   \n",
       "4682  London Stock Exchange  RU0007661625.TRE    84337137337.0   \n",
       "1963  London Stock Exchange            0Q1F.L   324221000941.0   \n",
       "...                     ...               ...              ...   \n",
       "3609  London Stock Exchange            0UNI.L    40830814460.0   \n",
       "3062  London Stock Exchange         TL0de.TRE   754570921536.0   \n",
       "1874  London Stock Exchange            0R0X.L   754570921536.0   \n",
       "4004  London Stock Exchange        MUV2de.TRE    34460475899.0   \n",
       "3091  London Stock Exchange            0KFE.L    34460475899.0   \n",
       "\n",
       "     ShareholdersEquityUsd         Pe DebtToAssets      Beta         Eps  \\\n",
       "3202        506199000000.0       <NA>     0.462934      <NA>        39.8   \n",
       "2214        506199000000.0  57.122179     0.462934  0.885787  7525.37854   \n",
       "1881        506199000000.0   7.001256     0.462934  0.855168        39.8   \n",
       "4682        271991949790.0       <NA>     0.376403      <NA>    88.52066   \n",
       "1963        259289000000.0   8.778316     0.921431  1.207057    12.45911   \n",
       "...                    ...        ...          ...       ...         ...   \n",
       "3609         30353312766.0       <NA>      0.94529      <NA>    6.962285   \n",
       "3062         30189000000.0       <NA>     0.491671      <NA>    2.777057   \n",
       "1874         30189000000.0  86.017313     0.491671  1.192191    2.777057   \n",
       "4004         30175425200.0       <NA>     0.900946      <NA>      18.663   \n",
       "3091         30175425200.0       <NA>     0.900946      <NA>      18.663   \n",
       "\n",
       "                                                   Gics  ... RCSAssetCategory  \\\n",
       "3202  Financials/Diversified Financials/Diversified ...  ...             A:1L   \n",
       "2214  Financials/Diversified Financials/Diversified ...  ...             A:1L   \n",
       "1881  Financials/Diversified Financials/Diversified ...  ...             A:1L   \n",
       "4682  Energy/Energy/Oil, Gas & Consumable Fuels/Inte...  ...             A:1L   \n",
       "1963           Financials/Banks/Banks/Diversified Banks  ...             A:1L   \n",
       "...                                                 ...  ...              ...   \n",
       "3609           Financials/Banks/Banks/Diversified Banks  ...             A:1L   \n",
       "3062  Consumer Discretionary/Automobiles & Component...  ...             A:1L   \n",
       "1874  Consumer Discretionary/Automobiles & Component...  ...             A:1L   \n",
       "4004         Financials/Insurance/Insurance/Reinsurance  ...             A:1L   \n",
       "3091         Financials/Insurance/Insurance/Reinsurance  ...             A:1L   \n",
       "\n",
       "      RCSCurrencyLeaf AssetState BusinessEntity         PI     IssueISIN  \\\n",
       "3202        US Dollar         AC   QUOTExEQUITY  286567046  US0846707026   \n",
       "2214        US Dollar         AC   QUOTExEQUITY  288061676  US0846701086   \n",
       "1881        US Dollar         AC   QUOTExEQUITY  286489815  US0846707026   \n",
       "4682             Euro         AC   QUOTExEQUITY  330811067  RU0007661625   \n",
       "1963        US Dollar         AC   QUOTExEQUITY  291218221  US46625H1005   \n",
       "...               ...        ...            ...        ...           ...   \n",
       "3609  Canadian Dollar         AC   QUOTExEQUITY  288201907  CA1360691010   \n",
       "3062        US Dollar         AC   QUOTExEQUITY  285519033  US88160R1014   \n",
       "1874        US Dollar         AC   QUOTExEQUITY  285518916  US88160R1014   \n",
       "4004             Euro         AC   QUOTExEQUITY  279341076  DE0008430026   \n",
       "3091             Euro         AC   QUOTExEQUITY   40633577  DE0008430026   \n",
       "\n",
       "       CinCUSIP    SEDOL      CUSIP SolvencyMargin  \n",
       "3202       <NA>     <NA>  084670702            NaN  \n",
       "2214       <NA>  BG05R83  084670108            NaN  \n",
       "1881       <NA>  BSJC6M6  084670702            NaN  \n",
       "4682  X3123F106     <NA>       <NA>            NaN  \n",
       "1963       <NA>  BD39H69  46625H100            NaN  \n",
       "...         ...      ...        ...            ...  \n",
       "3609       <NA>  BD6T9C6  136069101           <NA>  \n",
       "3062       <NA>     <NA>  88160R101           <NA>  \n",
       "1874       <NA>  BSJC712  88160R101           <NA>  \n",
       "4004  D55535104     <NA>       <NA>      49.784377  \n",
       "3091  D55535104  B10RVR1       <NA>      49.784377  \n",
       "\n",
       "[248 rows x 45 columns]"
      ]
     },
     "metadata": {},
     "output_type": "display_data"
    }
   ],
   "source": [
    "equities = lse_equities.query(\"ShareholdersEquityUsd >= 30_000_000_000\")\n",
    "plot_and_display(equities, \"ShareholdersEquityUsd\")"
   ]
  },
  {
   "cell_type": "markdown",
   "id": "599205d6-daa6-4920-b3e5-e7b5cfea7f16",
   "metadata": {
    "tags": []
   },
   "source": [
    "#### Get Equities by PE"
   ]
  },
  {
   "cell_type": "code",
   "execution_count": 15,
   "id": "4d36d696-b4d2-45fa-bfcd-8353f5cbb020",
   "metadata": {
    "tags": []
   },
   "outputs": [
    {
     "data": {
      "application/vnd.plotly.v1+json": {
       "config": {
        "linkText": "Export to plot.ly",
        "plotlyServerURL": "https://plot.ly",
        "showLink": true
       },
       "data": [
        {
         "line": {
          "color": "rgba(255, 153, 51, 1.0)",
          "dash": "solid",
          "shape": "linear",
          "width": 1.3
         },
         "mode": "lines",
         "name": "Pe",
         "text": "",
         "type": "scatter",
         "x": [
          "va Q tec AG",
          "Darktrace PLC",
          "MercadoLibre Inc",
          "Spaceandpeople PLC",
          "Elica SpA",
          "Marlowe PLC",
          "Tubacex SA",
          "Triple Point VCT 2011 PLC",
          "Smiths Group PLC",
          "Equinix Inc",
          "LMS Capital PLC",
          "Essentra PLC",
          "Diaceutics PLC",
          "Onthemarket PLC",
          "Abcam PLC",
          "Virgin Wines UK PLC",
          "Net Insight AB",
          "Riber SA",
          "DFI Retail Group Holdings Ltd",
          "DFI Retail Group Holdings Ltd",
          "Skillcast Group PLC",
          "Bango PLC",
          "Webis Holding PLC",
          "Xvivo Perfusion AB",
          "Baltic Classifieds Group PLC",
          "Salesforce Inc",
          "Recylex SA",
          "Eagle Eye Solutions Group PLC",
          "Jpmorgan European Discovery Trust PLC",
          "WH Ireland Group PLC",
          "Torm PLC",
          "TwentyFour Select Monthly Income Fund Ltd",
          "Analog Devices Inc",
          "Zumtobel Group AG",
          "High Co SA",
          "Wise PLC",
          "Micropole SA",
          "Heiq PLC",
          "Euromoney Institutional Investor PLC",
          "TI Fluid Systems PLC",
          "Welltower Inc",
          "EOG Resources Inc",
          "JPMorgan American Investment Trust PLC",
          "Altitude Group PLC",
          "Eenergy Group PLC",
          "Vertex Pharmaceuticals Inc",
          "Solar A/S",
          "Facilities By ADF PLC",
          "Pioneer Natural Resources Co",
          "Neometals Ltd",
          "Smart Metering Systems PLC",
          "Greenyard NV",
          "SBA Communications Corp",
          "Syncona Ltd",
          "CentralNic Group Plc",
          "Eurasia Mining PLC",
          "AT & S Austria Technologie & Systemtechnik AG",
          "Gas Plus SpA",
          "Pennon Group PLC",
          "Artmarket.com SA",
          "UDR Inc",
          "Halliburton Co",
          "Crealogix Holding AG",
          "Spire Healthcare Group PLC",
          "CPD SA",
          "Charter Communications Inc",
          "Egdon Resources PLC",
          "Bankers Investment Trust PLC",
          "Etablissements Maurel et Prom SA",
          "Whitbread PLC",
          "Digitalbox PLC",
          "Tracsis PLC",
          "Atari SA",
          "Amazon.com Inc",
          "SL Green Realty Corp",
          "American International Group Inc",
          "Tripadvisor Inc",
          "Netcall PLC",
          "Aurea SA",
          "Gresham Technologies PLC",
          "Tate & Lyle PLC",
          "Bristol-Myers Squibb Co",
          "Tristel PLC",
          "Hellenic Exchanges Athens Stock Exchange SA",
          "Digital Realty Trust Inc",
          "BioArctic AB",
          "Jtc PLC",
          "Momentum Multi-Asset Value Trust PLC",
          "Cadence Design Systems Inc",
          "Crown Castle Inc",
          "Northern 2 VCT PLC",
          "Pininfarina SpA",
          "Cambridge Cognition Holdings PLC",
          "Becton Dickinson and Co",
          "ID Logistics SAS",
          "Axway Software SA",
          "Wallenius Wilhelmsen ASA",
          "Perrigo Company PLC",
          "Mersen SA",
          "Beeks Financial Cloud Group PLC",
          "Tesla Inc",
          "Williams Companies Inc",
          "Ab Dynamics PLC",
          "Vianet Group PLC",
          "Canada Goose Holdings Inc",
          "Mips AB",
          "Munters Group AB",
          "Southern Co",
          "Sandstorm Gold Ltd",
          "1Spatial PLC",
          "Sealed Air Corp",
          "Craneware PLC",
          "Alexandria Real Estate Equities Inc",
          "Synopsys Inc",
          "Aptitude Software Group PLC",
          "Itim Group PLC",
          "Unieuro SpA",
          "RPS Group PLC",
          "YouGov PLC",
          "Mattioli Woods PLC",
          "Geox SpA",
          "Animalcare Group PLC",
          "WAG Payment Solutions PLC",
          "Balta Group NV",
          "Qorvo Inc",
          "Regency Centers Corp",
          "Fair Oaks Income Ltd",
          "Fincantieri SpA",
          "James Cropper PLC"
         ],
         "y": [
          2325,
          1580.244856,
          1186.971062,
          1055.555556,
          826.642336,
          782.953419,
          750,
          714.285714,
          710.980036,
          657.177115,
          656.25,
          565.162907,
          515.72327,
          506.535948,
          482.653061,
          476.190476,
          445,
          444.831591,
          432.343234,
          432.343234,
          421.568627,
          371.141129,
          354.533333,
          353.372918,
          348.039047,
          308.411215,
          292.324744,
          264.581373,
          230.389129,
          224.637681,
          221.833034,
          211.343284,
          209.703718,
          203.82843,
          189.74359,
          187.040673,
          185.654008,
          177.090909,
          173.735432,
          169.539518,
          164.810011,
          162.965654,
          162.822252,
          161.971831,
          161.627907,
          153.990942,
          152.115385,
          151.465798,
          150.070693,
          148.497341,
          147.389057,
          146.585758,
          145.573519,
          142.834891,
          140.169138,
          138.888889,
          136.265016,
          134.844193,
          134.711888,
          133.945797,
          131.223876,
          130.797053,
          126.944543,
          126.179245,
          125.192934,
          123.634263,
          122.826087,
          121.498771,
          118.181818,
          117.962085,
          115.853659,
          115.056291,
          110.099338,
          108.819594,
          107.969239,
          107.766345,
          107.294897,
          106.914213,
          105.865886,
          105.322339,
          105.319334,
          104.272427,
          103.386275,
          103.249019,
          102.640402,
          101.63644,
          100.528345,
          99.671053,
          98.796081,
          97.522419,
          92.651757,
          92.263136,
          90.425532,
          89.711551,
          89.600656,
          88.75129,
          88.716054,
          88.410816,
          87.690074,
          87.337479,
          86.017313,
          85.405737,
          85.01824,
          85.007728,
          84.514774,
          81.522643,
          80.579355,
          79.792503,
          79.642734,
          79.48244,
          79.251874,
          78.289253,
          77.515924,
          77.048599,
          76.955513,
          76.704545,
          76.273885,
          75.945345,
          75.4982,
          74.875208,
          74.806105,
          74.564041,
          74.531242,
          74.176818,
          73.462233,
          72.656048,
          71.299153,
          70.636215,
          70.422535
         ]
        }
       ],
       "layout": {
        "autosize": true,
        "legend": {
         "bgcolor": "#151516",
         "font": {
          "color": "#D9D9D9"
         }
        },
        "paper_bgcolor": "#151516",
        "plot_bgcolor": "#151516",
        "template": {
         "data": {
          "bar": [
           {
            "error_x": {
             "color": "#2a3f5f"
            },
            "error_y": {
             "color": "#2a3f5f"
            },
            "marker": {
             "line": {
              "color": "#E5ECF6",
              "width": 0.5
             },
             "pattern": {
              "fillmode": "overlay",
              "size": 10,
              "solidity": 0.2
             }
            },
            "type": "bar"
           }
          ],
          "barpolar": [
           {
            "marker": {
             "line": {
              "color": "#E5ECF6",
              "width": 0.5
             },
             "pattern": {
              "fillmode": "overlay",
              "size": 10,
              "solidity": 0.2
             }
            },
            "type": "barpolar"
           }
          ],
          "carpet": [
           {
            "aaxis": {
             "endlinecolor": "#2a3f5f",
             "gridcolor": "white",
             "linecolor": "white",
             "minorgridcolor": "white",
             "startlinecolor": "#2a3f5f"
            },
            "baxis": {
             "endlinecolor": "#2a3f5f",
             "gridcolor": "white",
             "linecolor": "white",
             "minorgridcolor": "white",
             "startlinecolor": "#2a3f5f"
            },
            "type": "carpet"
           }
          ],
          "choropleth": [
           {
            "colorbar": {
             "outlinewidth": 0,
             "ticks": ""
            },
            "type": "choropleth"
           }
          ],
          "contour": [
           {
            "colorbar": {
             "outlinewidth": 0,
             "ticks": ""
            },
            "colorscale": [
             [
              0,
              "#0d0887"
             ],
             [
              0.1111111111111111,
              "#46039f"
             ],
             [
              0.2222222222222222,
              "#7201a8"
             ],
             [
              0.3333333333333333,
              "#9c179e"
             ],
             [
              0.4444444444444444,
              "#bd3786"
             ],
             [
              0.5555555555555556,
              "#d8576b"
             ],
             [
              0.6666666666666666,
              "#ed7953"
             ],
             [
              0.7777777777777778,
              "#fb9f3a"
             ],
             [
              0.8888888888888888,
              "#fdca26"
             ],
             [
              1,
              "#f0f921"
             ]
            ],
            "type": "contour"
           }
          ],
          "contourcarpet": [
           {
            "colorbar": {
             "outlinewidth": 0,
             "ticks": ""
            },
            "type": "contourcarpet"
           }
          ],
          "heatmap": [
           {
            "colorbar": {
             "outlinewidth": 0,
             "ticks": ""
            },
            "colorscale": [
             [
              0,
              "#0d0887"
             ],
             [
              0.1111111111111111,
              "#46039f"
             ],
             [
              0.2222222222222222,
              "#7201a8"
             ],
             [
              0.3333333333333333,
              "#9c179e"
             ],
             [
              0.4444444444444444,
              "#bd3786"
             ],
             [
              0.5555555555555556,
              "#d8576b"
             ],
             [
              0.6666666666666666,
              "#ed7953"
             ],
             [
              0.7777777777777778,
              "#fb9f3a"
             ],
             [
              0.8888888888888888,
              "#fdca26"
             ],
             [
              1,
              "#f0f921"
             ]
            ],
            "type": "heatmap"
           }
          ],
          "heatmapgl": [
           {
            "colorbar": {
             "outlinewidth": 0,
             "ticks": ""
            },
            "colorscale": [
             [
              0,
              "#0d0887"
             ],
             [
              0.1111111111111111,
              "#46039f"
             ],
             [
              0.2222222222222222,
              "#7201a8"
             ],
             [
              0.3333333333333333,
              "#9c179e"
             ],
             [
              0.4444444444444444,
              "#bd3786"
             ],
             [
              0.5555555555555556,
              "#d8576b"
             ],
             [
              0.6666666666666666,
              "#ed7953"
             ],
             [
              0.7777777777777778,
              "#fb9f3a"
             ],
             [
              0.8888888888888888,
              "#fdca26"
             ],
             [
              1,
              "#f0f921"
             ]
            ],
            "type": "heatmapgl"
           }
          ],
          "histogram": [
           {
            "marker": {
             "pattern": {
              "fillmode": "overlay",
              "size": 10,
              "solidity": 0.2
             }
            },
            "type": "histogram"
           }
          ],
          "histogram2d": [
           {
            "colorbar": {
             "outlinewidth": 0,
             "ticks": ""
            },
            "colorscale": [
             [
              0,
              "#0d0887"
             ],
             [
              0.1111111111111111,
              "#46039f"
             ],
             [
              0.2222222222222222,
              "#7201a8"
             ],
             [
              0.3333333333333333,
              "#9c179e"
             ],
             [
              0.4444444444444444,
              "#bd3786"
             ],
             [
              0.5555555555555556,
              "#d8576b"
             ],
             [
              0.6666666666666666,
              "#ed7953"
             ],
             [
              0.7777777777777778,
              "#fb9f3a"
             ],
             [
              0.8888888888888888,
              "#fdca26"
             ],
             [
              1,
              "#f0f921"
             ]
            ],
            "type": "histogram2d"
           }
          ],
          "histogram2dcontour": [
           {
            "colorbar": {
             "outlinewidth": 0,
             "ticks": ""
            },
            "colorscale": [
             [
              0,
              "#0d0887"
             ],
             [
              0.1111111111111111,
              "#46039f"
             ],
             [
              0.2222222222222222,
              "#7201a8"
             ],
             [
              0.3333333333333333,
              "#9c179e"
             ],
             [
              0.4444444444444444,
              "#bd3786"
             ],
             [
              0.5555555555555556,
              "#d8576b"
             ],
             [
              0.6666666666666666,
              "#ed7953"
             ],
             [
              0.7777777777777778,
              "#fb9f3a"
             ],
             [
              0.8888888888888888,
              "#fdca26"
             ],
             [
              1,
              "#f0f921"
             ]
            ],
            "type": "histogram2dcontour"
           }
          ],
          "mesh3d": [
           {
            "colorbar": {
             "outlinewidth": 0,
             "ticks": ""
            },
            "type": "mesh3d"
           }
          ],
          "parcoords": [
           {
            "line": {
             "colorbar": {
              "outlinewidth": 0,
              "ticks": ""
             }
            },
            "type": "parcoords"
           }
          ],
          "pie": [
           {
            "automargin": true,
            "type": "pie"
           }
          ],
          "scatter": [
           {
            "marker": {
             "colorbar": {
              "outlinewidth": 0,
              "ticks": ""
             }
            },
            "type": "scatter"
           }
          ],
          "scatter3d": [
           {
            "line": {
             "colorbar": {
              "outlinewidth": 0,
              "ticks": ""
             }
            },
            "marker": {
             "colorbar": {
              "outlinewidth": 0,
              "ticks": ""
             }
            },
            "type": "scatter3d"
           }
          ],
          "scattercarpet": [
           {
            "marker": {
             "colorbar": {
              "outlinewidth": 0,
              "ticks": ""
             }
            },
            "type": "scattercarpet"
           }
          ],
          "scattergeo": [
           {
            "marker": {
             "colorbar": {
              "outlinewidth": 0,
              "ticks": ""
             }
            },
            "type": "scattergeo"
           }
          ],
          "scattergl": [
           {
            "marker": {
             "colorbar": {
              "outlinewidth": 0,
              "ticks": ""
             }
            },
            "type": "scattergl"
           }
          ],
          "scattermapbox": [
           {
            "marker": {
             "colorbar": {
              "outlinewidth": 0,
              "ticks": ""
             }
            },
            "type": "scattermapbox"
           }
          ],
          "scatterpolar": [
           {
            "marker": {
             "colorbar": {
              "outlinewidth": 0,
              "ticks": ""
             }
            },
            "type": "scatterpolar"
           }
          ],
          "scatterpolargl": [
           {
            "marker": {
             "colorbar": {
              "outlinewidth": 0,
              "ticks": ""
             }
            },
            "type": "scatterpolargl"
           }
          ],
          "scatterternary": [
           {
            "marker": {
             "colorbar": {
              "outlinewidth": 0,
              "ticks": ""
             }
            },
            "type": "scatterternary"
           }
          ],
          "surface": [
           {
            "colorbar": {
             "outlinewidth": 0,
             "ticks": ""
            },
            "colorscale": [
             [
              0,
              "#0d0887"
             ],
             [
              0.1111111111111111,
              "#46039f"
             ],
             [
              0.2222222222222222,
              "#7201a8"
             ],
             [
              0.3333333333333333,
              "#9c179e"
             ],
             [
              0.4444444444444444,
              "#bd3786"
             ],
             [
              0.5555555555555556,
              "#d8576b"
             ],
             [
              0.6666666666666666,
              "#ed7953"
             ],
             [
              0.7777777777777778,
              "#fb9f3a"
             ],
             [
              0.8888888888888888,
              "#fdca26"
             ],
             [
              1,
              "#f0f921"
             ]
            ],
            "type": "surface"
           }
          ],
          "table": [
           {
            "cells": {
             "fill": {
              "color": "#EBF0F8"
             },
             "line": {
              "color": "white"
             }
            },
            "header": {
             "fill": {
              "color": "#C8D4E3"
             },
             "line": {
              "color": "white"
             }
            },
            "type": "table"
           }
          ]
         },
         "layout": {
          "annotationdefaults": {
           "arrowcolor": "#2a3f5f",
           "arrowhead": 0,
           "arrowwidth": 1
          },
          "autotypenumbers": "strict",
          "coloraxis": {
           "colorbar": {
            "outlinewidth": 0,
            "ticks": ""
           }
          },
          "colorscale": {
           "diverging": [
            [
             0,
             "#8e0152"
            ],
            [
             0.1,
             "#c51b7d"
            ],
            [
             0.2,
             "#de77ae"
            ],
            [
             0.3,
             "#f1b6da"
            ],
            [
             0.4,
             "#fde0ef"
            ],
            [
             0.5,
             "#f7f7f7"
            ],
            [
             0.6,
             "#e6f5d0"
            ],
            [
             0.7,
             "#b8e186"
            ],
            [
             0.8,
             "#7fbc41"
            ],
            [
             0.9,
             "#4d9221"
            ],
            [
             1,
             "#276419"
            ]
           ],
           "sequential": [
            [
             0,
             "#0d0887"
            ],
            [
             0.1111111111111111,
             "#46039f"
            ],
            [
             0.2222222222222222,
             "#7201a8"
            ],
            [
             0.3333333333333333,
             "#9c179e"
            ],
            [
             0.4444444444444444,
             "#bd3786"
            ],
            [
             0.5555555555555556,
             "#d8576b"
            ],
            [
             0.6666666666666666,
             "#ed7953"
            ],
            [
             0.7777777777777778,
             "#fb9f3a"
            ],
            [
             0.8888888888888888,
             "#fdca26"
            ],
            [
             1,
             "#f0f921"
            ]
           ],
           "sequentialminus": [
            [
             0,
             "#0d0887"
            ],
            [
             0.1111111111111111,
             "#46039f"
            ],
            [
             0.2222222222222222,
             "#7201a8"
            ],
            [
             0.3333333333333333,
             "#9c179e"
            ],
            [
             0.4444444444444444,
             "#bd3786"
            ],
            [
             0.5555555555555556,
             "#d8576b"
            ],
            [
             0.6666666666666666,
             "#ed7953"
            ],
            [
             0.7777777777777778,
             "#fb9f3a"
            ],
            [
             0.8888888888888888,
             "#fdca26"
            ],
            [
             1,
             "#f0f921"
            ]
           ]
          },
          "colorway": [
           "#636efa",
           "#EF553B",
           "#00cc96",
           "#ab63fa",
           "#FFA15A",
           "#19d3f3",
           "#FF6692",
           "#B6E880",
           "#FF97FF",
           "#FECB52"
          ],
          "font": {
           "color": "#2a3f5f"
          },
          "geo": {
           "bgcolor": "white",
           "lakecolor": "white",
           "landcolor": "#E5ECF6",
           "showlakes": true,
           "showland": true,
           "subunitcolor": "white"
          },
          "hoverlabel": {
           "align": "left"
          },
          "hovermode": "closest",
          "mapbox": {
           "style": "light"
          },
          "paper_bgcolor": "white",
          "plot_bgcolor": "#E5ECF6",
          "polar": {
           "angularaxis": {
            "gridcolor": "white",
            "linecolor": "white",
            "ticks": ""
           },
           "bgcolor": "#E5ECF6",
           "radialaxis": {
            "gridcolor": "white",
            "linecolor": "white",
            "ticks": ""
           }
          },
          "scene": {
           "xaxis": {
            "backgroundcolor": "#E5ECF6",
            "gridcolor": "white",
            "gridwidth": 2,
            "linecolor": "white",
            "showbackground": true,
            "ticks": "",
            "zerolinecolor": "white"
           },
           "yaxis": {
            "backgroundcolor": "#E5ECF6",
            "gridcolor": "white",
            "gridwidth": 2,
            "linecolor": "white",
            "showbackground": true,
            "ticks": "",
            "zerolinecolor": "white"
           },
           "zaxis": {
            "backgroundcolor": "#E5ECF6",
            "gridcolor": "white",
            "gridwidth": 2,
            "linecolor": "white",
            "showbackground": true,
            "ticks": "",
            "zerolinecolor": "white"
           }
          },
          "shapedefaults": {
           "line": {
            "color": "#2a3f5f"
           }
          },
          "ternary": {
           "aaxis": {
            "gridcolor": "white",
            "linecolor": "white",
            "ticks": ""
           },
           "baxis": {
            "gridcolor": "white",
            "linecolor": "white",
            "ticks": ""
           },
           "bgcolor": "#E5ECF6",
           "caxis": {
            "gridcolor": "white",
            "linecolor": "white",
            "ticks": ""
           }
          },
          "title": {
           "x": 0.05
          },
          "xaxis": {
           "automargin": true,
           "gridcolor": "white",
           "linecolor": "white",
           "ticks": "",
           "title": {
            "standoff": 15
           },
           "zerolinecolor": "white",
           "zerolinewidth": 2
          },
          "yaxis": {
           "automargin": true,
           "gridcolor": "white",
           "linecolor": "white",
           "ticks": "",
           "title": {
            "standoff": 15
           },
           "zerolinecolor": "white",
           "zerolinewidth": 2
          }
         }
        },
        "title": {
         "font": {
          "color": "#D9D9D9"
         }
        },
        "xaxis": {
         "autorange": true,
         "gridcolor": "#434343",
         "range": [
          0,
          127
         ],
         "showgrid": true,
         "tickfont": {
          "color": "#C2C2C2"
         },
         "title": {
          "font": {
           "color": "#D9D9D9"
          },
          "text": ""
         },
         "type": "category",
         "zerolinecolor": "#666570"
        },
        "yaxis": {
         "autorange": true,
         "gridcolor": "#434343",
         "range": [
          -54.83176861111113,
          2450.254303611111
         ],
         "showgrid": true,
         "tickfont": {
          "color": "#C2C2C2"
         },
         "title": {
          "font": {
           "color": "#D9D9D9"
          },
          "text": ""
         },
         "type": "linear",
         "zerolinecolor": "#666570"
        }
       }
      },
      "image/png": "[encoded data removed]",
      "text/html": [
       "<div>                            <div id=\"c4f5dbd2-373b-4585-9fda-f558cc15e342\" class=\"plotly-graph-div\" style=\"height:525px; width:100%;\"></div>            <script type=\"text/javascript\">                require([\"plotly\"], function(Plotly) {                    window.PLOTLYENV=window.PLOTLYENV || {};\n",
       "                    window.PLOTLYENV.BASE_URL='https://plot.ly';                                    if (document.getElementById(\"c4f5dbd2-373b-4585-9fda-f558cc15e342\")) {                    Plotly.newPlot(                        \"c4f5dbd2-373b-4585-9fda-f558cc15e342\",                        [{\"line\":{\"color\":\"rgba(255, 153, 51, 1.0)\",\"dash\":\"solid\",\"shape\":\"linear\",\"width\":1.3},\"mode\":\"lines\",\"name\":\"Pe\",\"text\":\"\",\"x\":[\"va Q tec AG\",\"Darktrace PLC\",\"MercadoLibre Inc\",\"Spaceandpeople PLC\",\"Elica SpA\",\"Marlowe PLC\",\"Tubacex SA\",\"Triple Point VCT 2011 PLC\",\"Smiths Group PLC\",\"Equinix Inc\",\"LMS Capital PLC\",\"Essentra PLC\",\"Diaceutics PLC\",\"Onthemarket PLC\",\"Abcam PLC\",\"Virgin Wines UK PLC\",\"Net Insight AB\",\"Riber SA\",\"DFI Retail Group Holdings Ltd\",\"DFI Retail Group Holdings Ltd\",\"Skillcast Group PLC\",\"Bango PLC\",\"Webis Holding PLC\",\"Xvivo Perfusion AB\",\"Baltic Classifieds Group PLC\",\"Salesforce Inc\",\"Recylex SA\",\"Eagle Eye Solutions Group PLC\",\"Jpmorgan European Discovery Trust PLC\",\"WH Ireland Group PLC\",\"Torm PLC\",\"TwentyFour Select Monthly Income Fund Ltd\",\"Analog Devices Inc\",\"Zumtobel Group AG\",\"High Co SA\",\"Wise PLC\",\"Micropole SA\",\"Heiq PLC\",\"Euromoney Institutional Investor PLC\",\"TI Fluid Systems PLC\",\"Welltower Inc\",\"EOG Resources Inc\",\"JPMorgan American Investment Trust PLC\",\"Altitude Group PLC\",\"Eenergy Group PLC\",\"Vertex Pharmaceuticals Inc\",\"Solar A/S\",\"Facilities By ADF PLC\",\"Pioneer Natural Resources Co\",\"Neometals Ltd\",\"Smart Metering Systems PLC\",\"Greenyard NV\",\"SBA Communications Corp\",\"Syncona Ltd\",\"CentralNic Group Plc\",\"Eurasia Mining PLC\",\"AT & S Austria Technologie & Systemtechnik AG\",\"Gas Plus SpA\",\"Pennon Group PLC\",\"Artmarket.com SA\",\"UDR Inc\",\"Halliburton Co\",\"Crealogix Holding AG\",\"Spire Healthcare Group PLC\",\"CPD SA\",\"Charter Communications Inc\",\"Egdon Resources PLC\",\"Bankers Investment Trust PLC\",\"Etablissements Maurel et Prom SA\",\"Whitbread PLC\",\"Digitalbox PLC\",\"Tracsis PLC\",\"Atari SA\",\"Amazon.com Inc\",\"SL Green Realty Corp\",\"American International Group Inc\",\"Tripadvisor Inc\",\"Netcall PLC\",\"Aurea SA\",\"Gresham Technologies PLC\",\"Tate & Lyle PLC\",\"Bristol-Myers Squibb Co\",\"Tristel PLC\",\"Hellenic Exchanges Athens Stock Exchange SA\",\"Digital Realty Trust Inc\",\"BioArctic AB\",\"Jtc PLC\",\"Momentum Multi-Asset Value Trust PLC\",\"Cadence Design Systems Inc\",\"Crown Castle Inc\",\"Northern 2 VCT PLC\",\"Pininfarina SpA\",\"Cambridge Cognition Holdings PLC\",\"Becton Dickinson and Co\",\"ID Logistics SAS\",\"Axway Software SA\",\"Wallenius Wilhelmsen ASA\",\"Perrigo Company PLC\",\"Mersen SA\",\"Beeks Financial Cloud Group PLC\",\"Tesla Inc\",\"Williams Companies Inc\",\"Ab Dynamics PLC\",\"Vianet Group PLC\",\"Canada Goose Holdings Inc\",\"Mips AB\",\"Munters Group AB\",\"Southern Co\",\"Sandstorm Gold Ltd\",\"1Spatial PLC\",\"Sealed Air Corp\",\"Craneware PLC\",\"Alexandria Real Estate Equities Inc\",\"Synopsys Inc\",\"Aptitude Software Group PLC\",\"Itim Group PLC\",\"Unieuro SpA\",\"RPS Group PLC\",\"YouGov PLC\",\"Mattioli Woods PLC\",\"Geox SpA\",\"Animalcare Group PLC\",\"WAG Payment Solutions PLC\",\"Balta Group NV\",\"Qorvo Inc\",\"Regency Centers Corp\",\"Fair Oaks Income Ltd\",\"Fincantieri SpA\",\"James Cropper PLC\"],\"y\":[2325.0,1580.244856,1186.971062,1055.555556,826.642336,782.953419,750.0,714.285714,710.980036,657.177115,656.25,565.162907,515.72327,506.535948,482.653061,476.190476,445.0,444.831591,432.343234,432.343234,421.568627,371.141129,354.533333,353.372918,348.039047,308.411215,292.324744,264.581373,230.389129,224.637681,221.833034,211.343284,209.703718,203.82843,189.74359,187.040673,185.654008,177.090909,173.735432,169.539518,164.810011,162.965654,162.822252,161.971831,161.627907,153.990942,152.115385,151.465798,150.070693,148.497341,147.389057,146.585758,145.573519,142.834891,140.169138,138.888889,136.265016,134.844193,134.711888,133.945797,131.223876,130.797053,126.944543,126.179245,125.192934,123.634263,122.826087,121.498771,118.181818,117.962085,115.853659,115.056291,110.099338,108.819594,107.969239,107.766345,107.294897,106.914213,105.865886,105.322339,105.319334,104.272427,103.386275,103.249019,102.640402,101.63644,100.528345,99.671053,98.796081,97.522419,92.651757,92.263136,90.425532,89.711551,89.600656,88.75129,88.716054,88.410816,87.690074,87.337479,86.017313,85.405737,85.01824,85.007728,84.514774,81.522643,80.579355,79.792503,79.642734,79.48244,79.251874,78.289253,77.515924,77.048599,76.955513,76.704545,76.273885,75.945345,75.4982,74.875208,74.806105,74.564041,74.531242,74.176818,73.462233,72.656048,71.299153,70.636215,70.422535],\"type\":\"scatter\"}],                        {\"legend\":{\"bgcolor\":\"#151516\",\"font\":{\"color\":\"#D9D9D9\"}},\"paper_bgcolor\":\"#151516\",\"plot_bgcolor\":\"#151516\",\"template\":{\"data\":{\"barpolar\":[{\"marker\":{\"line\":{\"color\":\"#E5ECF6\",\"width\":0.5},\"pattern\":{\"fillmode\":\"overlay\",\"size\":10,\"solidity\":0.2}},\"type\":\"barpolar\"}],\"bar\":[{\"error_x\":{\"color\":\"#2a3f5f\"},\"error_y\":{\"color\":\"#2a3f5f\"},\"marker\":{\"line\":{\"color\":\"#E5ECF6\",\"width\":0.5},\"pattern\":{\"fillmode\":\"overlay\",\"size\":10,\"solidity\":0.2}},\"type\":\"bar\"}],\"carpet\":[{\"aaxis\":{\"endlinecolor\":\"#2a3f5f\",\"gridcolor\":\"white\",\"linecolor\":\"white\",\"minorgridcolor\":\"white\",\"startlinecolor\":\"#2a3f5f\"},\"baxis\":{\"endlinecolor\":\"#2a3f5f\",\"gridcolor\":\"white\",\"linecolor\":\"white\",\"minorgridcolor\":\"white\",\"startlinecolor\":\"#2a3f5f\"},\"type\":\"carpet\"}],\"choropleth\":[{\"colorbar\":{\"outlinewidth\":0,\"ticks\":\"\"},\"type\":\"choropleth\"}],\"contourcarpet\":[{\"colorbar\":{\"outlinewidth\":0,\"ticks\":\"\"},\"type\":\"contourcarpet\"}],\"contour\":[{\"colorbar\":{\"outlinewidth\":0,\"ticks\":\"\"},\"colorscale\":[[0.0,\"#0d0887\"],[0.1111111111111111,\"#46039f\"],[0.2222222222222222,\"#7201a8\"],[0.3333333333333333,\"#9c179e\"],[0.4444444444444444,\"#bd3786\"],[0.5555555555555556,\"#d8576b\"],[0.6666666666666666,\"#ed7953\"],[0.7777777777777778,\"#fb9f3a\"],[0.8888888888888888,\"#fdca26\"],[1.0,\"#f0f921\"]],\"type\":\"contour\"}],\"heatmapgl\":[{\"colorbar\":{\"outlinewidth\":0,\"ticks\":\"\"},\"colorscale\":[[0.0,\"#0d0887\"],[0.1111111111111111,\"#46039f\"],[0.2222222222222222,\"#7201a8\"],[0.3333333333333333,\"#9c179e\"],[0.4444444444444444,\"#bd3786\"],[0.5555555555555556,\"#d8576b\"],[0.6666666666666666,\"#ed7953\"],[0.7777777777777778,\"#fb9f3a\"],[0.8888888888888888,\"#fdca26\"],[1.0,\"#f0f921\"]],\"type\":\"heatmapgl\"}],\"heatmap\":[{\"colorbar\":{\"outlinewidth\":0,\"ticks\":\"\"},\"colorscale\":[[0.0,\"#0d0887\"],[0.1111111111111111,\"#46039f\"],[0.2222222222222222,\"#7201a8\"],[0.3333333333333333,\"#9c179e\"],[0.4444444444444444,\"#bd3786\"],[0.5555555555555556,\"#d8576b\"],[0.6666666666666666,\"#ed7953\"],[0.7777777777777778,\"#fb9f3a\"],[0.8888888888888888,\"#fdca26\"],[1.0,\"#f0f921\"]],\"type\":\"heatmap\"}],\"histogram2dcontour\":[{\"colorbar\":{\"outlinewidth\":0,\"ticks\":\"\"},\"colorscale\":[[0.0,\"#0d0887\"],[0.1111111111111111,\"#46039f\"],[0.2222222222222222,\"#7201a8\"],[0.3333333333333333,\"#9c179e\"],[0.4444444444444444,\"#bd3786\"],[0.5555555555555556,\"#d8576b\"],[0.6666666666666666,\"#ed7953\"],[0.7777777777777778,\"#fb9f3a\"],[0.8888888888888888,\"#fdca26\"],[1.0,\"#f0f921\"]],\"type\":\"histogram2dcontour\"}],\"histogram2d\":[{\"colorbar\":{\"outlinewidth\":0,\"ticks\":\"\"},\"colorscale\":[[0.0,\"#0d0887\"],[0.1111111111111111,\"#46039f\"],[0.2222222222222222,\"#7201a8\"],[0.3333333333333333,\"#9c179e\"],[0.4444444444444444,\"#bd3786\"],[0.5555555555555556,\"#d8576b\"],[0.6666666666666666,\"#ed7953\"],[0.7777777777777778,\"#fb9f3a\"],[0.8888888888888888,\"#fdca26\"],[1.0,\"#f0f921\"]],\"type\":\"histogram2d\"}],\"histogram\":[{\"marker\":{\"pattern\":{\"fillmode\":\"overlay\",\"size\":10,\"solidity\":0.2}},\"type\":\"histogram\"}],\"mesh3d\":[{\"colorbar\":{\"outlinewidth\":0,\"ticks\":\"\"},\"type\":\"mesh3d\"}],\"parcoords\":[{\"line\":{\"colorbar\":{\"outlinewidth\":0,\"ticks\":\"\"}},\"type\":\"parcoords\"}],\"pie\":[{\"automargin\":true,\"type\":\"pie\"}],\"scatter3d\":[{\"line\":{\"colorbar\":{\"outlinewidth\":0,\"ticks\":\"\"}},\"marker\":{\"colorbar\":{\"outlinewidth\":0,\"ticks\":\"\"}},\"type\":\"scatter3d\"}],\"scattercarpet\":[{\"marker\":{\"colorbar\":{\"outlinewidth\":0,\"ticks\":\"\"}},\"type\":\"scattercarpet\"}],\"scattergeo\":[{\"marker\":{\"colorbar\":{\"outlinewidth\":0,\"ticks\":\"\"}},\"type\":\"scattergeo\"}],\"scattergl\":[{\"marker\":{\"colorbar\":{\"outlinewidth\":0,\"ticks\":\"\"}},\"type\":\"scattergl\"}],\"scattermapbox\":[{\"marker\":{\"colorbar\":{\"outlinewidth\":0,\"ticks\":\"\"}},\"type\":\"scattermapbox\"}],\"scatterpolargl\":[{\"marker\":{\"colorbar\":{\"outlinewidth\":0,\"ticks\":\"\"}},\"type\":\"scatterpolargl\"}],\"scatterpolar\":[{\"marker\":{\"colorbar\":{\"outlinewidth\":0,\"ticks\":\"\"}},\"type\":\"scatterpolar\"}],\"scatter\":[{\"marker\":{\"colorbar\":{\"outlinewidth\":0,\"ticks\":\"\"}},\"type\":\"scatter\"}],\"scatterternary\":[{\"marker\":{\"colorbar\":{\"outlinewidth\":0,\"ticks\":\"\"}},\"type\":\"scatterternary\"}],\"surface\":[{\"colorbar\":{\"outlinewidth\":0,\"ticks\":\"\"},\"colorscale\":[[0.0,\"#0d0887\"],[0.1111111111111111,\"#46039f\"],[0.2222222222222222,\"#7201a8\"],[0.3333333333333333,\"#9c179e\"],[0.4444444444444444,\"#bd3786\"],[0.5555555555555556,\"#d8576b\"],[0.6666666666666666,\"#ed7953\"],[0.7777777777777778,\"#fb9f3a\"],[0.8888888888888888,\"#fdca26\"],[1.0,\"#f0f921\"]],\"type\":\"surface\"}],\"table\":[{\"cells\":{\"fill\":{\"color\":\"#EBF0F8\"},\"line\":{\"color\":\"white\"}},\"header\":{\"fill\":{\"color\":\"#C8D4E3\"},\"line\":{\"color\":\"white\"}},\"type\":\"table\"}]},\"layout\":{\"annotationdefaults\":{\"arrowcolor\":\"#2a3f5f\",\"arrowhead\":0,\"arrowwidth\":1},\"autotypenumbers\":\"strict\",\"coloraxis\":{\"colorbar\":{\"outlinewidth\":0,\"ticks\":\"\"}},\"colorscale\":{\"diverging\":[[0,\"#8e0152\"],[0.1,\"#c51b7d\"],[0.2,\"#de77ae\"],[0.3,\"#f1b6da\"],[0.4,\"#fde0ef\"],[0.5,\"#f7f7f7\"],[0.6,\"#e6f5d0\"],[0.7,\"#b8e186\"],[0.8,\"#7fbc41\"],[0.9,\"#4d9221\"],[1,\"#276419\"]],\"sequential\":[[0.0,\"#0d0887\"],[0.1111111111111111,\"#46039f\"],[0.2222222222222222,\"#7201a8\"],[0.3333333333333333,\"#9c179e\"],[0.4444444444444444,\"#bd3786\"],[0.5555555555555556,\"#d8576b\"],[0.6666666666666666,\"#ed7953\"],[0.7777777777777778,\"#fb9f3a\"],[0.8888888888888888,\"#fdca26\"],[1.0,\"#f0f921\"]],\"sequentialminus\":[[0.0,\"#0d0887\"],[0.1111111111111111,\"#46039f\"],[0.2222222222222222,\"#7201a8\"],[0.3333333333333333,\"#9c179e\"],[0.4444444444444444,\"#bd3786\"],[0.5555555555555556,\"#d8576b\"],[0.6666666666666666,\"#ed7953\"],[0.7777777777777778,\"#fb9f3a\"],[0.8888888888888888,\"#fdca26\"],[1.0,\"#f0f921\"]]},\"colorway\":[\"#636efa\",\"#EF553B\",\"#00cc96\",\"#ab63fa\",\"#FFA15A\",\"#19d3f3\",\"#FF6692\",\"#B6E880\",\"#FF97FF\",\"#FECB52\"],\"font\":{\"color\":\"#2a3f5f\"},\"geo\":{\"bgcolor\":\"white\",\"lakecolor\":\"white\",\"landcolor\":\"#E5ECF6\",\"showlakes\":true,\"showland\":true,\"subunitcolor\":\"white\"},\"hoverlabel\":{\"align\":\"left\"},\"hovermode\":\"closest\",\"mapbox\":{\"style\":\"light\"},\"paper_bgcolor\":\"white\",\"plot_bgcolor\":\"#E5ECF6\",\"polar\":{\"angularaxis\":{\"gridcolor\":\"white\",\"linecolor\":\"white\",\"ticks\":\"\"},\"bgcolor\":\"#E5ECF6\",\"radialaxis\":{\"gridcolor\":\"white\",\"linecolor\":\"white\",\"ticks\":\"\"}},\"scene\":{\"xaxis\":{\"backgroundcolor\":\"#E5ECF6\",\"gridcolor\":\"white\",\"gridwidth\":2,\"linecolor\":\"white\",\"showbackground\":true,\"ticks\":\"\",\"zerolinecolor\":\"white\"},\"yaxis\":{\"backgroundcolor\":\"#E5ECF6\",\"gridcolor\":\"white\",\"gridwidth\":2,\"linecolor\":\"white\",\"showbackground\":true,\"ticks\":\"\",\"zerolinecolor\":\"white\"},\"zaxis\":{\"backgroundcolor\":\"#E5ECF6\",\"gridcolor\":\"white\",\"gridwidth\":2,\"linecolor\":\"white\",\"showbackground\":true,\"ticks\":\"\",\"zerolinecolor\":\"white\"}},\"shapedefaults\":{\"line\":{\"color\":\"#2a3f5f\"}},\"ternary\":{\"aaxis\":{\"gridcolor\":\"white\",\"linecolor\":\"white\",\"ticks\":\"\"},\"baxis\":{\"gridcolor\":\"white\",\"linecolor\":\"white\",\"ticks\":\"\"},\"bgcolor\":\"#E5ECF6\",\"caxis\":{\"gridcolor\":\"white\",\"linecolor\":\"white\",\"ticks\":\"\"}},\"title\":{\"x\":0.05},\"xaxis\":{\"automargin\":true,\"gridcolor\":\"white\",\"linecolor\":\"white\",\"ticks\":\"\",\"title\":{\"standoff\":15},\"zerolinecolor\":\"white\",\"zerolinewidth\":2},\"yaxis\":{\"automargin\":true,\"gridcolor\":\"white\",\"linecolor\":\"white\",\"ticks\":\"\",\"title\":{\"standoff\":15},\"zerolinecolor\":\"white\",\"zerolinewidth\":2}}},\"title\":{\"font\":{\"color\":\"#D9D9D9\"}},\"xaxis\":{\"gridcolor\":\"#434343\",\"showgrid\":true,\"tickfont\":{\"color\":\"#C2C2C2\"},\"title\":{\"font\":{\"color\":\"#D9D9D9\"},\"text\":\"\"},\"zerolinecolor\":\"#666570\"},\"yaxis\":{\"gridcolor\":\"#434343\",\"showgrid\":true,\"tickfont\":{\"color\":\"#C2C2C2\"},\"title\":{\"font\":{\"color\":\"#D9D9D9\"},\"text\":\"\"},\"zerolinecolor\":\"#666570\"}},                        {\"showLink\": true, \"linkText\": \"Export to plot.ly\", \"plotlyServerURL\": \"https://plot.ly\", \"responsive\": true}                    ).then(function(){\n",
       "                            \n",
       "var gd = document.getElementById('c4f5dbd2-373b-4585-9fda-f558cc15e342');\n",
       "var x = new MutationObserver(function (mutations, observer) {{\n",
       "        var display = window.getComputedStyle(gd).display;\n",
       "        if (!display || display === 'none') {{\n",
       "            console.log([gd, 'removed!']);\n",
       "            Plotly.purge(gd);\n",
       "            observer.disconnect();\n",
       "        }}\n",
       "}});\n",
       "\n",
       "// Listen for the removal of the full notebook cells\n",
       "var notebookContainer = gd.closest('#notebook-container');\n",
       "if (notebookContainer) {{\n",
       "    x.observe(notebookContainer, {childList: true});\n",
       "}}\n",
       "\n",
       "// Listen for the clearing of the current output cell\n",
       "var outputEl = gd.closest('.output');\n",
       "if (outputEl) {{\n",
       "    x.observe(outputEl, {childList: true});\n",
       "}}\n",
       "\n",
       "                        })                };                });            </script>        </div>"
      ]
     },
     "metadata": {},
     "output_type": "display_data"
    },
    {
     "data": {
      "text/html": [
       "<div>\n",
       "<style scoped>\n",
       "    .dataframe tbody tr th:only-of-type {\n",
       "        vertical-align: middle;\n",
       "    }\n",
       "\n",
       "    .dataframe tbody tr th {\n",
       "        vertical-align: top;\n",
       "    }\n",
       "\n",
       "    .dataframe thead th {\n",
       "        text-align: right;\n",
       "    }\n",
       "</style>\n",
       "<table border=\"1\" class=\"dataframe\">\n",
       "  <thead>\n",
       "    <tr style=\"text-align: right;\">\n",
       "      <th></th>\n",
       "      <th>DTSubjectName</th>\n",
       "      <th>ExchangeName</th>\n",
       "      <th>RIC</th>\n",
       "      <th>MktCapCompanyUsd</th>\n",
       "      <th>ShareholdersEquityUsd</th>\n",
       "      <th>Pe</th>\n",
       "      <th>DebtToAssets</th>\n",
       "      <th>Beta</th>\n",
       "      <th>Eps</th>\n",
       "      <th>Gics</th>\n",
       "      <th>...</th>\n",
       "      <th>RCSAssetCategory</th>\n",
       "      <th>RCSCurrencyLeaf</th>\n",
       "      <th>AssetState</th>\n",
       "      <th>BusinessEntity</th>\n",
       "      <th>PI</th>\n",
       "      <th>IssueISIN</th>\n",
       "      <th>CinCUSIP</th>\n",
       "      <th>SEDOL</th>\n",
       "      <th>CUSIP</th>\n",
       "      <th>SolvencyMargin</th>\n",
       "    </tr>\n",
       "  </thead>\n",
       "  <tbody>\n",
       "    <tr>\n",
       "      <th>2448</th>\n",
       "      <td>va Q tec AG</td>\n",
       "      <td>London Stock Exchange</td>\n",
       "      <td>0RJD.L</td>\n",
       "      <td>134719976.0</td>\n",
       "      <td>50552083.0</td>\n",
       "      <td>2325.0</td>\n",
       "      <td>0.644219</td>\n",
       "      <td>&lt;NA&gt;</td>\n",
       "      <td>0.02576</td>\n",
       "      <td>Industrials/Capital Goods/Machinery/Industrial...</td>\n",
       "      <td>...</td>\n",
       "      <td>A:1L</td>\n",
       "      <td>Euro</td>\n",
       "      <td>AC</td>\n",
       "      <td>QUOTExEQUITY</td>\n",
       "      <td>281899196</td>\n",
       "      <td>DE0006636681</td>\n",
       "      <td>D8T66F105</td>\n",
       "      <td>BYT3WK1</td>\n",
       "      <td>&lt;NA&gt;</td>\n",
       "      <td>NaN</td>\n",
       "    </tr>\n",
       "    <tr>\n",
       "      <th>164</th>\n",
       "      <td>Darktrace PLC</td>\n",
       "      <td>London Stock Exchange</td>\n",
       "      <td>DARK.L</td>\n",
       "      <td>2527456290.0</td>\n",
       "      <td>314688000.0</td>\n",
       "      <td>1580.244856</td>\n",
       "      <td>0.568543</td>\n",
       "      <td>&lt;NA&gt;</td>\n",
       "      <td>0.00243</td>\n",
       "      <td>Information Technology/Software &amp; Services/Sof...</td>\n",
       "      <td>...</td>\n",
       "      <td>A:1L</td>\n",
       "      <td>British Penny</td>\n",
       "      <td>AC</td>\n",
       "      <td>QUOTExEQUITY</td>\n",
       "      <td>507473311</td>\n",
       "      <td>GB00BNYK8G86</td>\n",
       "      <td>G2658M105</td>\n",
       "      <td>BNYK8G8</td>\n",
       "      <td>&lt;NA&gt;</td>\n",
       "      <td>NaN</td>\n",
       "    </tr>\n",
       "    <tr>\n",
       "      <th>2391</th>\n",
       "      <td>MercadoLibre Inc</td>\n",
       "      <td>London Stock Exchange</td>\n",
       "      <td>0K0E.L</td>\n",
       "      <td>47003867664.0</td>\n",
       "      <td>1531691000.0</td>\n",
       "      <td>1186.971062</td>\n",
       "      <td>0.848365</td>\n",
       "      <td>&lt;NA&gt;</td>\n",
       "      <td>4.72821</td>\n",
       "      <td>Consumer Discretionary/Retailing/Internet &amp; Di...</td>\n",
       "      <td>...</td>\n",
       "      <td>A:1L</td>\n",
       "      <td>US Dollar</td>\n",
       "      <td>AC</td>\n",
       "      <td>QUOTExEQUITY</td>\n",
       "      <td>286489892</td>\n",
       "      <td>US58733R1023</td>\n",
       "      <td>&lt;NA&gt;</td>\n",
       "      <td>BDDXSP7</td>\n",
       "      <td>58733R102</td>\n",
       "      <td>NaN</td>\n",
       "    </tr>\n",
       "    <tr>\n",
       "      <th>1502</th>\n",
       "      <td>Spaceandpeople PLC</td>\n",
       "      <td>London Stock Exchange</td>\n",
       "      <td>SAL.L</td>\n",
       "      <td>2069093.0</td>\n",
       "      <td>5396008.0</td>\n",
       "      <td>1055.555556</td>\n",
       "      <td>0.577642</td>\n",
       "      <td>1.834441</td>\n",
       "      <td>0.0009</td>\n",
       "      <td>Communication Services/Media &amp; Entertainment/M...</td>\n",
       "      <td>...</td>\n",
       "      <td>A:1L</td>\n",
       "      <td>British Penny</td>\n",
       "      <td>AC</td>\n",
       "      <td>QUOTExEQUITY</td>\n",
       "      <td>19111879</td>\n",
       "      <td>GB00BPQDJM21</td>\n",
       "      <td>G8306B110</td>\n",
       "      <td>BPQDJM2</td>\n",
       "      <td>&lt;NA&gt;</td>\n",
       "      <td>NaN</td>\n",
       "    </tr>\n",
       "    <tr>\n",
       "      <th>2847</th>\n",
       "      <td>Elica SpA</td>\n",
       "      <td>London Stock Exchange</td>\n",
       "      <td>0EA2.L</td>\n",
       "      <td>141315213.0</td>\n",
       "      <td>114744724.0</td>\n",
       "      <td>826.642336</td>\n",
       "      <td>0.75643</td>\n",
       "      <td>&lt;NA&gt;</td>\n",
       "      <td>0.29603</td>\n",
       "      <td>Consumer Discretionary/Consumer Durables &amp; App...</td>\n",
       "      <td>...</td>\n",
       "      <td>A:1L</td>\n",
       "      <td>Euro</td>\n",
       "      <td>AC</td>\n",
       "      <td>QUOTExEQUITY</td>\n",
       "      <td>281899903</td>\n",
       "      <td>IT0003404214</td>\n",
       "      <td>T36140100</td>\n",
       "      <td>B28GYT0</td>\n",
       "      <td>&lt;NA&gt;</td>\n",
       "      <td>NaN</td>\n",
       "    </tr>\n",
       "    <tr>\n",
       "      <th>...</th>\n",
       "      <td>...</td>\n",
       "      <td>...</td>\n",
       "      <td>...</td>\n",
       "      <td>...</td>\n",
       "      <td>...</td>\n",
       "      <td>...</td>\n",
       "      <td>...</td>\n",
       "      <td>...</td>\n",
       "      <td>...</td>\n",
       "      <td>...</td>\n",
       "      <td>...</td>\n",
       "      <td>...</td>\n",
       "      <td>...</td>\n",
       "      <td>...</td>\n",
       "      <td>...</td>\n",
       "      <td>...</td>\n",
       "      <td>...</td>\n",
       "      <td>...</td>\n",
       "      <td>...</td>\n",
       "      <td>...</td>\n",
       "      <td>...</td>\n",
       "    </tr>\n",
       "    <tr>\n",
       "      <th>2369</th>\n",
       "      <td>Qorvo Inc</td>\n",
       "      <td>London Stock Exchange</td>\n",
       "      <td>0KSJ.L</td>\n",
       "      <td>9014871147.0</td>\n",
       "      <td>4553218000.0</td>\n",
       "      <td>73.462233</td>\n",
       "      <td>0.393638</td>\n",
       "      <td>&lt;NA&gt;</td>\n",
       "      <td>7.38907</td>\n",
       "      <td>Information Technology/Semiconductors &amp; Semico...</td>\n",
       "      <td>...</td>\n",
       "      <td>A:1L</td>\n",
       "      <td>US Dollar</td>\n",
       "      <td>AC</td>\n",
       "      <td>QUOTExEQUITY</td>\n",
       "      <td>287071330</td>\n",
       "      <td>US74736K1016</td>\n",
       "      <td>&lt;NA&gt;</td>\n",
       "      <td>BYZHC30</td>\n",
       "      <td>74736K101</td>\n",
       "      <td>NaN</td>\n",
       "    </tr>\n",
       "    <tr>\n",
       "      <th>2166</th>\n",
       "      <td>Regency Centers Corp</td>\n",
       "      <td>London Stock Exchange</td>\n",
       "      <td>0KUT.L</td>\n",
       "      <td>9531162202.0</td>\n",
       "      <td>6037371000.0</td>\n",
       "      <td>72.656048</td>\n",
       "      <td>0.433876</td>\n",
       "      <td>&lt;NA&gt;</td>\n",
       "      <td>2.82815</td>\n",
       "      <td>Real Estate/Real Estate/Equity Real Estate Inv...</td>\n",
       "      <td>...</td>\n",
       "      <td>A:1L</td>\n",
       "      <td>US Dollar</td>\n",
       "      <td>AC</td>\n",
       "      <td>QUOTExEQUITY</td>\n",
       "      <td>287071340</td>\n",
       "      <td>US7588491032</td>\n",
       "      <td>&lt;NA&gt;</td>\n",
       "      <td>BYZHCD0</td>\n",
       "      <td>758849103</td>\n",
       "      <td>NaN</td>\n",
       "    </tr>\n",
       "    <tr>\n",
       "      <th>1491</th>\n",
       "      <td>Fair Oaks Income Ltd</td>\n",
       "      <td>London Stock Exchange</td>\n",
       "      <td>FA17.L</td>\n",
       "      <td>262098778.0</td>\n",
       "      <td>&lt;NA&gt;</td>\n",
       "      <td>71.299153</td>\n",
       "      <td>&lt;NA&gt;</td>\n",
       "      <td>&lt;NA&gt;</td>\n",
       "      <td>0.007924</td>\n",
       "      <td>&lt;NA&gt;</td>\n",
       "      <td>...</td>\n",
       "      <td>A:1L</td>\n",
       "      <td>US Dollar</td>\n",
       "      <td>AC</td>\n",
       "      <td>QUOTExEQUITY</td>\n",
       "      <td>159409848</td>\n",
       "      <td>GG00BPLGZM85</td>\n",
       "      <td>G3247H151</td>\n",
       "      <td>BPLGZM8</td>\n",
       "      <td>&lt;NA&gt;</td>\n",
       "      <td>NaN</td>\n",
       "    </tr>\n",
       "    <tr>\n",
       "      <th>1976</th>\n",
       "      <td>Fincantieri SpA</td>\n",
       "      <td>London Stock Exchange</td>\n",
       "      <td>0QWN.L</td>\n",
       "      <td>788222564.0</td>\n",
       "      <td>801228061.0</td>\n",
       "      <td>70.636215</td>\n",
       "      <td>0.908139</td>\n",
       "      <td>&lt;NA&gt;</td>\n",
       "      <td>-0.12604</td>\n",
       "      <td>Industrials/Capital Goods/Machinery/Constructi...</td>\n",
       "      <td>...</td>\n",
       "      <td>A:1L</td>\n",
       "      <td>Euro</td>\n",
       "      <td>AC</td>\n",
       "      <td>QUOTExEQUITY</td>\n",
       "      <td>281905295</td>\n",
       "      <td>IT0001415246</td>\n",
       "      <td>T4R92D102</td>\n",
       "      <td>BPXR7S9</td>\n",
       "      <td>&lt;NA&gt;</td>\n",
       "      <td>NaN</td>\n",
       "    </tr>\n",
       "    <tr>\n",
       "      <th>1210</th>\n",
       "      <td>James Cropper PLC</td>\n",
       "      <td>London Stock Exchange</td>\n",
       "      <td>CRPR.L</td>\n",
       "      <td>106612491.0</td>\n",
       "      <td>38845461.0</td>\n",
       "      <td>70.422535</td>\n",
       "      <td>0.625168</td>\n",
       "      <td>1.662955</td>\n",
       "      <td>0.142</td>\n",
       "      <td>Materials/Materials/Paper &amp; Forest Products/Pa...</td>\n",
       "      <td>...</td>\n",
       "      <td>A:1L</td>\n",
       "      <td>British Penny</td>\n",
       "      <td>AC</td>\n",
       "      <td>QUOTExEQUITY</td>\n",
       "      <td>1079181</td>\n",
       "      <td>GB0002346053</td>\n",
       "      <td>G25592109</td>\n",
       "      <td>0234605</td>\n",
       "      <td>&lt;NA&gt;</td>\n",
       "      <td>NaN</td>\n",
       "    </tr>\n",
       "  </tbody>\n",
       "</table>\n",
       "<p>129 rows × 45 columns</p>\n",
       "</div>"
      ],
      "text/plain": [
       "             DTSubjectName           ExchangeName     RIC MktCapCompanyUsd  \\\n",
       "2448           va Q tec AG  London Stock Exchange  0RJD.L      134719976.0   \n",
       "164          Darktrace PLC  London Stock Exchange  DARK.L     2527456290.0   \n",
       "2391      MercadoLibre Inc  London Stock Exchange  0K0E.L    47003867664.0   \n",
       "1502    Spaceandpeople PLC  London Stock Exchange   SAL.L        2069093.0   \n",
       "2847             Elica SpA  London Stock Exchange  0EA2.L      141315213.0   \n",
       "...                    ...                    ...     ...              ...   \n",
       "2369             Qorvo Inc  London Stock Exchange  0KSJ.L     9014871147.0   \n",
       "2166  Regency Centers Corp  London Stock Exchange  0KUT.L     9531162202.0   \n",
       "1491  Fair Oaks Income Ltd  London Stock Exchange  FA17.L      262098778.0   \n",
       "1976       Fincantieri SpA  London Stock Exchange  0QWN.L      788222564.0   \n",
       "1210     James Cropper PLC  London Stock Exchange  CRPR.L      106612491.0   \n",
       "\n",
       "     ShareholdersEquityUsd           Pe DebtToAssets      Beta       Eps  \\\n",
       "2448            50552083.0       2325.0     0.644219      <NA>   0.02576   \n",
       "164            314688000.0  1580.244856     0.568543      <NA>   0.00243   \n",
       "2391          1531691000.0  1186.971062     0.848365      <NA>   4.72821   \n",
       "1502             5396008.0  1055.555556     0.577642  1.834441    0.0009   \n",
       "2847           114744724.0   826.642336      0.75643      <NA>   0.29603   \n",
       "...                    ...          ...          ...       ...       ...   \n",
       "2369          4553218000.0    73.462233     0.393638      <NA>   7.38907   \n",
       "2166          6037371000.0    72.656048     0.433876      <NA>   2.82815   \n",
       "1491                  <NA>    71.299153         <NA>      <NA>  0.007924   \n",
       "1976           801228061.0    70.636215     0.908139      <NA>  -0.12604   \n",
       "1210            38845461.0    70.422535     0.625168  1.662955     0.142   \n",
       "\n",
       "                                                   Gics  ... RCSAssetCategory  \\\n",
       "2448  Industrials/Capital Goods/Machinery/Industrial...  ...             A:1L   \n",
       "164   Information Technology/Software & Services/Sof...  ...             A:1L   \n",
       "2391  Consumer Discretionary/Retailing/Internet & Di...  ...             A:1L   \n",
       "1502  Communication Services/Media & Entertainment/M...  ...             A:1L   \n",
       "2847  Consumer Discretionary/Consumer Durables & App...  ...             A:1L   \n",
       "...                                                 ...  ...              ...   \n",
       "2369  Information Technology/Semiconductors & Semico...  ...             A:1L   \n",
       "2166  Real Estate/Real Estate/Equity Real Estate Inv...  ...             A:1L   \n",
       "1491                                               <NA>  ...             A:1L   \n",
       "1976  Industrials/Capital Goods/Machinery/Constructi...  ...             A:1L   \n",
       "1210  Materials/Materials/Paper & Forest Products/Pa...  ...             A:1L   \n",
       "\n",
       "     RCSCurrencyLeaf AssetState BusinessEntity         PI     IssueISIN  \\\n",
       "2448            Euro         AC   QUOTExEQUITY  281899196  DE0006636681   \n",
       "164    British Penny         AC   QUOTExEQUITY  507473311  GB00BNYK8G86   \n",
       "2391       US Dollar         AC   QUOTExEQUITY  286489892  US58733R1023   \n",
       "1502   British Penny         AC   QUOTExEQUITY   19111879  GB00BPQDJM21   \n",
       "2847            Euro         AC   QUOTExEQUITY  281899903  IT0003404214   \n",
       "...              ...        ...            ...        ...           ...   \n",
       "2369       US Dollar         AC   QUOTExEQUITY  287071330  US74736K1016   \n",
       "2166       US Dollar         AC   QUOTExEQUITY  287071340  US7588491032   \n",
       "1491       US Dollar         AC   QUOTExEQUITY  159409848  GG00BPLGZM85   \n",
       "1976            Euro         AC   QUOTExEQUITY  281905295  IT0001415246   \n",
       "1210   British Penny         AC   QUOTExEQUITY    1079181  GB0002346053   \n",
       "\n",
       "       CinCUSIP    SEDOL      CUSIP SolvencyMargin  \n",
       "2448  D8T66F105  BYT3WK1       <NA>            NaN  \n",
       "164   G2658M105  BNYK8G8       <NA>            NaN  \n",
       "2391       <NA>  BDDXSP7  58733R102            NaN  \n",
       "1502  G8306B110  BPQDJM2       <NA>            NaN  \n",
       "2847  T36140100  B28GYT0       <NA>            NaN  \n",
       "...         ...      ...        ...            ...  \n",
       "2369       <NA>  BYZHC30  74736K101            NaN  \n",
       "2166       <NA>  BYZHCD0  758849103            NaN  \n",
       "1491  G3247H151  BPLGZM8       <NA>            NaN  \n",
       "1976  T4R92D102  BPXR7S9       <NA>            NaN  \n",
       "1210  G25592109  0234605       <NA>            NaN  \n",
       "\n",
       "[129 rows x 45 columns]"
      ]
     },
     "metadata": {},
     "output_type": "display_data"
    }
   ],
   "source": [
    "equities = lse_equities.query(\"Pe >= 70\")\n",
    "plot_and_display(equities, \"Pe\")"
   ]
  },
  {
   "cell_type": "markdown",
   "id": "47c3585e-1195-4f7c-b072-06f42f40f26c",
   "metadata": {
    "tags": []
   },
   "source": [
    "#### Get Equities by Debt Ratio"
   ]
  },
  {
   "cell_type": "code",
   "execution_count": 16,
   "id": "8879bf2b-c482-4f83-a68d-7b12ca41c30d",
   "metadata": {
    "tags": []
   },
   "outputs": [
    {
     "data": {
      "application/vnd.plotly.v1+json": {
       "config": {
        "linkText": "Export to plot.ly",
        "plotlyServerURL": "https://plot.ly",
        "showLink": true
       },
       "data": [
        {
         "line": {
          "color": "rgba(255, 153, 51, 1.0)",
          "dash": "solid",
          "shape": "linear",
          "width": 1.3
         },
         "mode": "lines",
         "name": "DebtToAssets",
         "text": "",
         "type": "scatter",
         "x": [
          "Hamak Gold Ltd",
          "Zinc One Resources Inc",
          "Highway Capital PLC",
          "Ross Group PLC",
          "Stranger Holdings PLC",
          "Grand Vision Media Holdings PLC",
          "Financials Acquisition Corp",
          "Curzon Energy PLC",
          "Plaza Centers NV",
          "Proton Motor Power Systems PLC",
          "Iconic Labs PLC",
          "Mobile Tornado Group PLC",
          "Sealand Capital Galaxy Ltd",
          "7digital Group plc",
          "Boston International Holdings PLC",
          "Abacus Mining and Exploration Corp",
          "Echo Energy PLC",
          "Orege SA",
          "Abengoa SA",
          "Trafalgar Property Group PLC",
          "Fragrant Prosperity Holdings Ltd",
          "Nostrum Oil & Gas PLC",
          "Nostrum Oil & Gas PLC",
          "OLIDATA SpA",
          "Yum! Brands Inc",
          "Ensurge Micropower ASA",
          "Ensurge Micropower ASA",
          "Recylex SA",
          "Dukemount Capital PLC",
          "Fandango Holdings PLC"
         ],
         "y": [
          188.042105,
          100.230481,
          52.450062,
          19.545685,
          19.462963,
          17.177232,
          17.008436,
          14.876564,
          12.421443,
          11.990579,
          9.629047,
          7.955307,
          6.467781,
          4.37306,
          4.036869,
          3.855592,
          3.411121,
          3.37736,
          2.844705,
          2.826177,
          2.458945,
          2.456291,
          2.456291,
          2.427196,
          2.403453,
          2.195018,
          2.195018,
          2.081927,
          2.028071,
          2.012953
         ]
        }
       ],
       "layout": {
        "autosize": true,
        "legend": {
         "bgcolor": "#151516",
         "font": {
          "color": "#D9D9D9"
         }
        },
        "paper_bgcolor": "#151516",
        "plot_bgcolor": "#151516",
        "template": {
         "data": {
          "bar": [
           {
            "error_x": {
             "color": "#2a3f5f"
            },
            "error_y": {
             "color": "#2a3f5f"
            },
            "marker": {
             "line": {
              "color": "#E5ECF6",
              "width": 0.5
             },
             "pattern": {
              "fillmode": "overlay",
              "size": 10,
              "solidity": 0.2
             }
            },
            "type": "bar"
           }
          ],
          "barpolar": [
           {
            "marker": {
             "line": {
              "color": "#E5ECF6",
              "width": 0.5
             },
             "pattern": {
              "fillmode": "overlay",
              "size": 10,
              "solidity": 0.2
             }
            },
            "type": "barpolar"
           }
          ],
          "carpet": [
           {
            "aaxis": {
             "endlinecolor": "#2a3f5f",
             "gridcolor": "white",
             "linecolor": "white",
             "minorgridcolor": "white",
             "startlinecolor": "#2a3f5f"
            },
            "baxis": {
             "endlinecolor": "#2a3f5f",
             "gridcolor": "white",
             "linecolor": "white",
             "minorgridcolor": "white",
             "startlinecolor": "#2a3f5f"
            },
            "type": "carpet"
           }
          ],
          "choropleth": [
           {
            "colorbar": {
             "outlinewidth": 0,
             "ticks": ""
            },
            "type": "choropleth"
           }
          ],
          "contour": [
           {
            "colorbar": {
             "outlinewidth": 0,
             "ticks": ""
            },
            "colorscale": [
             [
              0,
              "#0d0887"
             ],
             [
              0.1111111111111111,
              "#46039f"
             ],
             [
              0.2222222222222222,
              "#7201a8"
             ],
             [
              0.3333333333333333,
              "#9c179e"
             ],
             [
              0.4444444444444444,
              "#bd3786"
             ],
             [
              0.5555555555555556,
              "#d8576b"
             ],
             [
              0.6666666666666666,
              "#ed7953"
             ],
             [
              0.7777777777777778,
              "#fb9f3a"
             ],
             [
              0.8888888888888888,
              "#fdca26"
             ],
             [
              1,
              "#f0f921"
             ]
            ],
            "type": "contour"
           }
          ],
          "contourcarpet": [
           {
            "colorbar": {
             "outlinewidth": 0,
             "ticks": ""
            },
            "type": "contourcarpet"
           }
          ],
          "heatmap": [
           {
            "colorbar": {
             "outlinewidth": 0,
             "ticks": ""
            },
            "colorscale": [
             [
              0,
              "#0d0887"
             ],
             [
              0.1111111111111111,
              "#46039f"
             ],
             [
              0.2222222222222222,
              "#7201a8"
             ],
             [
              0.3333333333333333,
              "#9c179e"
             ],
             [
              0.4444444444444444,
              "#bd3786"
             ],
             [
              0.5555555555555556,
              "#d8576b"
             ],
             [
              0.6666666666666666,
              "#ed7953"
             ],
             [
              0.7777777777777778,
              "#fb9f3a"
             ],
             [
              0.8888888888888888,
              "#fdca26"
             ],
             [
              1,
              "#f0f921"
             ]
            ],
            "type": "heatmap"
           }
          ],
          "heatmapgl": [
           {
            "colorbar": {
             "outlinewidth": 0,
             "ticks": ""
            },
            "colorscale": [
             [
              0,
              "#0d0887"
             ],
             [
              0.1111111111111111,
              "#46039f"
             ],
             [
              0.2222222222222222,
              "#7201a8"
             ],
             [
              0.3333333333333333,
              "#9c179e"
             ],
             [
              0.4444444444444444,
              "#bd3786"
             ],
             [
              0.5555555555555556,
              "#d8576b"
             ],
             [
              0.6666666666666666,
              "#ed7953"
             ],
             [
              0.7777777777777778,
              "#fb9f3a"
             ],
             [
              0.8888888888888888,
              "#fdca26"
             ],
             [
              1,
              "#f0f921"
             ]
            ],
            "type": "heatmapgl"
           }
          ],
          "histogram": [
           {
            "marker": {
             "pattern": {
              "fillmode": "overlay",
              "size": 10,
              "solidity": 0.2
             }
            },
            "type": "histogram"
           }
          ],
          "histogram2d": [
           {
            "colorbar": {
             "outlinewidth": 0,
             "ticks": ""
            },
            "colorscale": [
             [
              0,
              "#0d0887"
             ],
             [
              0.1111111111111111,
              "#46039f"
             ],
             [
              0.2222222222222222,
              "#7201a8"
             ],
             [
              0.3333333333333333,
              "#9c179e"
             ],
             [
              0.4444444444444444,
              "#bd3786"
             ],
             [
              0.5555555555555556,
              "#d8576b"
             ],
             [
              0.6666666666666666,
              "#ed7953"
             ],
             [
              0.7777777777777778,
              "#fb9f3a"
             ],
             [
              0.8888888888888888,
              "#fdca26"
             ],
             [
              1,
              "#f0f921"
             ]
            ],
            "type": "histogram2d"
           }
          ],
          "histogram2dcontour": [
           {
            "colorbar": {
             "outlinewidth": 0,
             "ticks": ""
            },
            "colorscale": [
             [
              0,
              "#0d0887"
             ],
             [
              0.1111111111111111,
              "#46039f"
             ],
             [
              0.2222222222222222,
              "#7201a8"
             ],
             [
              0.3333333333333333,
              "#9c179e"
             ],
             [
              0.4444444444444444,
              "#bd3786"
             ],
             [
              0.5555555555555556,
              "#d8576b"
             ],
             [
              0.6666666666666666,
              "#ed7953"
             ],
             [
              0.7777777777777778,
              "#fb9f3a"
             ],
             [
              0.8888888888888888,
              "#fdca26"
             ],
             [
              1,
              "#f0f921"
             ]
            ],
            "type": "histogram2dcontour"
           }
          ],
          "mesh3d": [
           {
            "colorbar": {
             "outlinewidth": 0,
             "ticks": ""
            },
            "type": "mesh3d"
           }
          ],
          "parcoords": [
           {
            "line": {
             "colorbar": {
              "outlinewidth": 0,
              "ticks": ""
             }
            },
            "type": "parcoords"
           }
          ],
          "pie": [
           {
            "automargin": true,
            "type": "pie"
           }
          ],
          "scatter": [
           {
            "marker": {
             "colorbar": {
              "outlinewidth": 0,
              "ticks": ""
             }
            },
            "type": "scatter"
           }
          ],
          "scatter3d": [
           {
            "line": {
             "colorbar": {
              "outlinewidth": 0,
              "ticks": ""
             }
            },
            "marker": {
             "colorbar": {
              "outlinewidth": 0,
              "ticks": ""
             }
            },
            "type": "scatter3d"
           }
          ],
          "scattercarpet": [
           {
            "marker": {
             "colorbar": {
              "outlinewidth": 0,
              "ticks": ""
             }
            },
            "type": "scattercarpet"
           }
          ],
          "scattergeo": [
           {
            "marker": {
             "colorbar": {
              "outlinewidth": 0,
              "ticks": ""
             }
            },
            "type": "scattergeo"
           }
          ],
          "scattergl": [
           {
            "marker": {
             "colorbar": {
              "outlinewidth": 0,
              "ticks": ""
             }
            },
            "type": "scattergl"
           }
          ],
          "scattermapbox": [
           {
            "marker": {
             "colorbar": {
              "outlinewidth": 0,
              "ticks": ""
             }
            },
            "type": "scattermapbox"
           }
          ],
          "scatterpolar": [
           {
            "marker": {
             "colorbar": {
              "outlinewidth": 0,
              "ticks": ""
             }
            },
            "type": "scatterpolar"
           }
          ],
          "scatterpolargl": [
           {
            "marker": {
             "colorbar": {
              "outlinewidth": 0,
              "ticks": ""
             }
            },
            "type": "scatterpolargl"
           }
          ],
          "scatterternary": [
           {
            "marker": {
             "colorbar": {
              "outlinewidth": 0,
              "ticks": ""
             }
            },
            "type": "scatterternary"
           }
          ],
          "surface": [
           {
            "colorbar": {
             "outlinewidth": 0,
             "ticks": ""
            },
            "colorscale": [
             [
              0,
              "#0d0887"
             ],
             [
              0.1111111111111111,
              "#46039f"
             ],
             [
              0.2222222222222222,
              "#7201a8"
             ],
             [
              0.3333333333333333,
              "#9c179e"
             ],
             [
              0.4444444444444444,
              "#bd3786"
             ],
             [
              0.5555555555555556,
              "#d8576b"
             ],
             [
              0.6666666666666666,
              "#ed7953"
             ],
             [
              0.7777777777777778,
              "#fb9f3a"
             ],
             [
              0.8888888888888888,
              "#fdca26"
             ],
             [
              1,
              "#f0f921"
             ]
            ],
            "type": "surface"
           }
          ],
          "table": [
           {
            "cells": {
             "fill": {
              "color": "#EBF0F8"
             },
             "line": {
              "color": "white"
             }
            },
            "header": {
             "fill": {
              "color": "#C8D4E3"
             },
             "line": {
              "color": "white"
             }
            },
            "type": "table"
           }
          ]
         },
         "layout": {
          "annotationdefaults": {
           "arrowcolor": "#2a3f5f",
           "arrowhead": 0,
           "arrowwidth": 1
          },
          "autotypenumbers": "strict",
          "coloraxis": {
           "colorbar": {
            "outlinewidth": 0,
            "ticks": ""
           }
          },
          "colorscale": {
           "diverging": [
            [
             0,
             "#8e0152"
            ],
            [
             0.1,
             "#c51b7d"
            ],
            [
             0.2,
             "#de77ae"
            ],
            [
             0.3,
             "#f1b6da"
            ],
            [
             0.4,
             "#fde0ef"
            ],
            [
             0.5,
             "#f7f7f7"
            ],
            [
             0.6,
             "#e6f5d0"
            ],
            [
             0.7,
             "#b8e186"
            ],
            [
             0.8,
             "#7fbc41"
            ],
            [
             0.9,
             "#4d9221"
            ],
            [
             1,
             "#276419"
            ]
           ],
           "sequential": [
            [
             0,
             "#0d0887"
            ],
            [
             0.1111111111111111,
             "#46039f"
            ],
            [
             0.2222222222222222,
             "#7201a8"
            ],
            [
             0.3333333333333333,
             "#9c179e"
            ],
            [
             0.4444444444444444,
             "#bd3786"
            ],
            [
             0.5555555555555556,
             "#d8576b"
            ],
            [
             0.6666666666666666,
             "#ed7953"
            ],
            [
             0.7777777777777778,
             "#fb9f3a"
            ],
            [
             0.8888888888888888,
             "#fdca26"
            ],
            [
             1,
             "#f0f921"
            ]
           ],
           "sequentialminus": [
            [
             0,
             "#0d0887"
            ],
            [
             0.1111111111111111,
             "#46039f"
            ],
            [
             0.2222222222222222,
             "#7201a8"
            ],
            [
             0.3333333333333333,
             "#9c179e"
            ],
            [
             0.4444444444444444,
             "#bd3786"
            ],
            [
             0.5555555555555556,
             "#d8576b"
            ],
            [
             0.6666666666666666,
             "#ed7953"
            ],
            [
             0.7777777777777778,
             "#fb9f3a"
            ],
            [
             0.8888888888888888,
             "#fdca26"
            ],
            [
             1,
             "#f0f921"
            ]
           ]
          },
          "colorway": [
           "#636efa",
           "#EF553B",
           "#00cc96",
           "#ab63fa",
           "#FFA15A",
           "#19d3f3",
           "#FF6692",
           "#B6E880",
           "#FF97FF",
           "#FECB52"
          ],
          "font": {
           "color": "#2a3f5f"
          },
          "geo": {
           "bgcolor": "white",
           "lakecolor": "white",
           "landcolor": "#E5ECF6",
           "showlakes": true,
           "showland": true,
           "subunitcolor": "white"
          },
          "hoverlabel": {
           "align": "left"
          },
          "hovermode": "closest",
          "mapbox": {
           "style": "light"
          },
          "paper_bgcolor": "white",
          "plot_bgcolor": "#E5ECF6",
          "polar": {
           "angularaxis": {
            "gridcolor": "white",
            "linecolor": "white",
            "ticks": ""
           },
           "bgcolor": "#E5ECF6",
           "radialaxis": {
            "gridcolor": "white",
            "linecolor": "white",
            "ticks": ""
           }
          },
          "scene": {
           "xaxis": {
            "backgroundcolor": "#E5ECF6",
            "gridcolor": "white",
            "gridwidth": 2,
            "linecolor": "white",
            "showbackground": true,
            "ticks": "",
            "zerolinecolor": "white"
           },
           "yaxis": {
            "backgroundcolor": "#E5ECF6",
            "gridcolor": "white",
            "gridwidth": 2,
            "linecolor": "white",
            "showbackground": true,
            "ticks": "",
            "zerolinecolor": "white"
           },
           "zaxis": {
            "backgroundcolor": "#E5ECF6",
            "gridcolor": "white",
            "gridwidth": 2,
            "linecolor": "white",
            "showbackground": true,
            "ticks": "",
            "zerolinecolor": "white"
           }
          },
          "shapedefaults": {
           "line": {
            "color": "#2a3f5f"
           }
          },
          "ternary": {
           "aaxis": {
            "gridcolor": "white",
            "linecolor": "white",
            "ticks": ""
           },
           "baxis": {
            "gridcolor": "white",
            "linecolor": "white",
            "ticks": ""
           },
           "bgcolor": "#E5ECF6",
           "caxis": {
            "gridcolor": "white",
            "linecolor": "white",
            "ticks": ""
           }
          },
          "title": {
           "x": 0.05
          },
          "xaxis": {
           "automargin": true,
           "gridcolor": "white",
           "linecolor": "white",
           "ticks": "",
           "title": {
            "standoff": 15
           },
           "zerolinecolor": "white",
           "zerolinewidth": 2
          },
          "yaxis": {
           "automargin": true,
           "gridcolor": "white",
           "linecolor": "white",
           "ticks": "",
           "title": {
            "standoff": 15
           },
           "zerolinecolor": "white",
           "zerolinewidth": 2
          }
         }
        },
        "title": {
         "font": {
          "color": "#D9D9D9"
         }
        },
        "xaxis": {
         "autorange": true,
         "gridcolor": "#434343",
         "range": [
          0,
          27
         ],
         "showgrid": true,
         "tickfont": {
          "color": "#C2C2C2"
         },
         "title": {
          "font": {
           "color": "#D9D9D9"
          },
          "text": ""
         },
         "type": "category",
         "zerolinecolor": "#666570"
        },
        "yaxis": {
         "autorange": true,
         "gridcolor": "#434343",
         "range": [
          -8.32199988888889,
          198.37705788888888
         ],
         "showgrid": true,
         "tickfont": {
          "color": "#C2C2C2"
         },
         "title": {
          "font": {
           "color": "#D9D9D9"
          },
          "text": ""
         },
         "type": "linear",
         "zerolinecolor": "#666570"
        }
       }
      },
      "image/png": "[encoded data removed]",
      "text/html": [
       "<div>                            <div id=\"dacd9fba-b358-4fdf-bae8-ac0c7124eed5\" class=\"plotly-graph-div\" style=\"height:525px; width:100%;\"></div>            <script type=\"text/javascript\">                require([\"plotly\"], function(Plotly) {                    window.PLOTLYENV=window.PLOTLYENV || {};\n",
       "                    window.PLOTLYENV.BASE_URL='https://plot.ly';                                    if (document.getElementById(\"dacd9fba-b358-4fdf-bae8-ac0c7124eed5\")) {                    Plotly.newPlot(                        \"dacd9fba-b358-4fdf-bae8-ac0c7124eed5\",                        [{\"line\":{\"color\":\"rgba(255, 153, 51, 1.0)\",\"dash\":\"solid\",\"shape\":\"linear\",\"width\":1.3},\"mode\":\"lines\",\"name\":\"DebtToAssets\",\"text\":\"\",\"x\":[\"Hamak Gold Ltd\",\"Zinc One Resources Inc\",\"Highway Capital PLC\",\"Ross Group PLC\",\"Stranger Holdings PLC\",\"Grand Vision Media Holdings PLC\",\"Financials Acquisition Corp\",\"Curzon Energy PLC\",\"Plaza Centers NV\",\"Proton Motor Power Systems PLC\",\"Iconic Labs PLC\",\"Mobile Tornado Group PLC\",\"Sealand Capital Galaxy Ltd\",\"7digital Group plc\",\"Boston International Holdings PLC\",\"Abacus Mining and Exploration Corp\",\"Echo Energy PLC\",\"Orege SA\",\"Abengoa SA\",\"Trafalgar Property Group PLC\",\"Fragrant Prosperity Holdings Ltd\",\"Nostrum Oil & Gas PLC\",\"Nostrum Oil & Gas PLC\",\"OLIDATA SpA\",\"Yum! Brands Inc\",\"Ensurge Micropower ASA\",\"Ensurge Micropower ASA\",\"Recylex SA\",\"Dukemount Capital PLC\",\"Fandango Holdings PLC\"],\"y\":[188.042105,100.230481,52.450062,19.545685,19.462963,17.177232,17.008436,14.876564,12.421443,11.990579,9.629047,7.955307,6.467781,4.37306,4.036869,3.855592,3.411121,3.37736,2.844705,2.826177,2.458945,2.456291,2.456291,2.427196,2.403453,2.195018,2.195018,2.081927,2.028071,2.012953],\"type\":\"scatter\"}],                        {\"legend\":{\"bgcolor\":\"#151516\",\"font\":{\"color\":\"#D9D9D9\"}},\"paper_bgcolor\":\"#151516\",\"plot_bgcolor\":\"#151516\",\"template\":{\"data\":{\"barpolar\":[{\"marker\":{\"line\":{\"color\":\"#E5ECF6\",\"width\":0.5},\"pattern\":{\"fillmode\":\"overlay\",\"size\":10,\"solidity\":0.2}},\"type\":\"barpolar\"}],\"bar\":[{\"error_x\":{\"color\":\"#2a3f5f\"},\"error_y\":{\"color\":\"#2a3f5f\"},\"marker\":{\"line\":{\"color\":\"#E5ECF6\",\"width\":0.5},\"pattern\":{\"fillmode\":\"overlay\",\"size\":10,\"solidity\":0.2}},\"type\":\"bar\"}],\"carpet\":[{\"aaxis\":{\"endlinecolor\":\"#2a3f5f\",\"gridcolor\":\"white\",\"linecolor\":\"white\",\"minorgridcolor\":\"white\",\"startlinecolor\":\"#2a3f5f\"},\"baxis\":{\"endlinecolor\":\"#2a3f5f\",\"gridcolor\":\"white\",\"linecolor\":\"white\",\"minorgridcolor\":\"white\",\"startlinecolor\":\"#2a3f5f\"},\"type\":\"carpet\"}],\"choropleth\":[{\"colorbar\":{\"outlinewidth\":0,\"ticks\":\"\"},\"type\":\"choropleth\"}],\"contourcarpet\":[{\"colorbar\":{\"outlinewidth\":0,\"ticks\":\"\"},\"type\":\"contourcarpet\"}],\"contour\":[{\"colorbar\":{\"outlinewidth\":0,\"ticks\":\"\"},\"colorscale\":[[0.0,\"#0d0887\"],[0.1111111111111111,\"#46039f\"],[0.2222222222222222,\"#7201a8\"],[0.3333333333333333,\"#9c179e\"],[0.4444444444444444,\"#bd3786\"],[0.5555555555555556,\"#d8576b\"],[0.6666666666666666,\"#ed7953\"],[0.7777777777777778,\"#fb9f3a\"],[0.8888888888888888,\"#fdca26\"],[1.0,\"#f0f921\"]],\"type\":\"contour\"}],\"heatmapgl\":[{\"colorbar\":{\"outlinewidth\":0,\"ticks\":\"\"},\"colorscale\":[[0.0,\"#0d0887\"],[0.1111111111111111,\"#46039f\"],[0.2222222222222222,\"#7201a8\"],[0.3333333333333333,\"#9c179e\"],[0.4444444444444444,\"#bd3786\"],[0.5555555555555556,\"#d8576b\"],[0.6666666666666666,\"#ed7953\"],[0.7777777777777778,\"#fb9f3a\"],[0.8888888888888888,\"#fdca26\"],[1.0,\"#f0f921\"]],\"type\":\"heatmapgl\"}],\"heatmap\":[{\"colorbar\":{\"outlinewidth\":0,\"ticks\":\"\"},\"colorscale\":[[0.0,\"#0d0887\"],[0.1111111111111111,\"#46039f\"],[0.2222222222222222,\"#7201a8\"],[0.3333333333333333,\"#9c179e\"],[0.4444444444444444,\"#bd3786\"],[0.5555555555555556,\"#d8576b\"],[0.6666666666666666,\"#ed7953\"],[0.7777777777777778,\"#fb9f3a\"],[0.8888888888888888,\"#fdca26\"],[1.0,\"#f0f921\"]],\"type\":\"heatmap\"}],\"histogram2dcontour\":[{\"colorbar\":{\"outlinewidth\":0,\"ticks\":\"\"},\"colorscale\":[[0.0,\"#0d0887\"],[0.1111111111111111,\"#46039f\"],[0.2222222222222222,\"#7201a8\"],[0.3333333333333333,\"#9c179e\"],[0.4444444444444444,\"#bd3786\"],[0.5555555555555556,\"#d8576b\"],[0.6666666666666666,\"#ed7953\"],[0.7777777777777778,\"#fb9f3a\"],[0.8888888888888888,\"#fdca26\"],[1.0,\"#f0f921\"]],\"type\":\"histogram2dcontour\"}],\"histogram2d\":[{\"colorbar\":{\"outlinewidth\":0,\"ticks\":\"\"},\"colorscale\":[[0.0,\"#0d0887\"],[0.1111111111111111,\"#46039f\"],[0.2222222222222222,\"#7201a8\"],[0.3333333333333333,\"#9c179e\"],[0.4444444444444444,\"#bd3786\"],[0.5555555555555556,\"#d8576b\"],[0.6666666666666666,\"#ed7953\"],[0.7777777777777778,\"#fb9f3a\"],[0.8888888888888888,\"#fdca26\"],[1.0,\"#f0f921\"]],\"type\":\"histogram2d\"}],\"histogram\":[{\"marker\":{\"pattern\":{\"fillmode\":\"overlay\",\"size\":10,\"solidity\":0.2}},\"type\":\"histogram\"}],\"mesh3d\":[{\"colorbar\":{\"outlinewidth\":0,\"ticks\":\"\"},\"type\":\"mesh3d\"}],\"parcoords\":[{\"line\":{\"colorbar\":{\"outlinewidth\":0,\"ticks\":\"\"}},\"type\":\"parcoords\"}],\"pie\":[{\"automargin\":true,\"type\":\"pie\"}],\"scatter3d\":[{\"line\":{\"colorbar\":{\"outlinewidth\":0,\"ticks\":\"\"}},\"marker\":{\"colorbar\":{\"outlinewidth\":0,\"ticks\":\"\"}},\"type\":\"scatter3d\"}],\"scattercarpet\":[{\"marker\":{\"colorbar\":{\"outlinewidth\":0,\"ticks\":\"\"}},\"type\":\"scattercarpet\"}],\"scattergeo\":[{\"marker\":{\"colorbar\":{\"outlinewidth\":0,\"ticks\":\"\"}},\"type\":\"scattergeo\"}],\"scattergl\":[{\"marker\":{\"colorbar\":{\"outlinewidth\":0,\"ticks\":\"\"}},\"type\":\"scattergl\"}],\"scattermapbox\":[{\"marker\":{\"colorbar\":{\"outlinewidth\":0,\"ticks\":\"\"}},\"type\":\"scattermapbox\"}],\"scatterpolargl\":[{\"marker\":{\"colorbar\":{\"outlinewidth\":0,\"ticks\":\"\"}},\"type\":\"scatterpolargl\"}],\"scatterpolar\":[{\"marker\":{\"colorbar\":{\"outlinewidth\":0,\"ticks\":\"\"}},\"type\":\"scatterpolar\"}],\"scatter\":[{\"marker\":{\"colorbar\":{\"outlinewidth\":0,\"ticks\":\"\"}},\"type\":\"scatter\"}],\"scatterternary\":[{\"marker\":{\"colorbar\":{\"outlinewidth\":0,\"ticks\":\"\"}},\"type\":\"scatterternary\"}],\"surface\":[{\"colorbar\":{\"outlinewidth\":0,\"ticks\":\"\"},\"colorscale\":[[0.0,\"#0d0887\"],[0.1111111111111111,\"#46039f\"],[0.2222222222222222,\"#7201a8\"],[0.3333333333333333,\"#9c179e\"],[0.4444444444444444,\"#bd3786\"],[0.5555555555555556,\"#d8576b\"],[0.6666666666666666,\"#ed7953\"],[0.7777777777777778,\"#fb9f3a\"],[0.8888888888888888,\"#fdca26\"],[1.0,\"#f0f921\"]],\"type\":\"surface\"}],\"table\":[{\"cells\":{\"fill\":{\"color\":\"#EBF0F8\"},\"line\":{\"color\":\"white\"}},\"header\":{\"fill\":{\"color\":\"#C8D4E3\"},\"line\":{\"color\":\"white\"}},\"type\":\"table\"}]},\"layout\":{\"annotationdefaults\":{\"arrowcolor\":\"#2a3f5f\",\"arrowhead\":0,\"arrowwidth\":1},\"autotypenumbers\":\"strict\",\"coloraxis\":{\"colorbar\":{\"outlinewidth\":0,\"ticks\":\"\"}},\"colorscale\":{\"diverging\":[[0,\"#8e0152\"],[0.1,\"#c51b7d\"],[0.2,\"#de77ae\"],[0.3,\"#f1b6da\"],[0.4,\"#fde0ef\"],[0.5,\"#f7f7f7\"],[0.6,\"#e6f5d0\"],[0.7,\"#b8e186\"],[0.8,\"#7fbc41\"],[0.9,\"#4d9221\"],[1,\"#276419\"]],\"sequential\":[[0.0,\"#0d0887\"],[0.1111111111111111,\"#46039f\"],[0.2222222222222222,\"#7201a8\"],[0.3333333333333333,\"#9c179e\"],[0.4444444444444444,\"#bd3786\"],[0.5555555555555556,\"#d8576b\"],[0.6666666666666666,\"#ed7953\"],[0.7777777777777778,\"#fb9f3a\"],[0.8888888888888888,\"#fdca26\"],[1.0,\"#f0f921\"]],\"sequentialminus\":[[0.0,\"#0d0887\"],[0.1111111111111111,\"#46039f\"],[0.2222222222222222,\"#7201a8\"],[0.3333333333333333,\"#9c179e\"],[0.4444444444444444,\"#bd3786\"],[0.5555555555555556,\"#d8576b\"],[0.6666666666666666,\"#ed7953\"],[0.7777777777777778,\"#fb9f3a\"],[0.8888888888888888,\"#fdca26\"],[1.0,\"#f0f921\"]]},\"colorway\":[\"#636efa\",\"#EF553B\",\"#00cc96\",\"#ab63fa\",\"#FFA15A\",\"#19d3f3\",\"#FF6692\",\"#B6E880\",\"#FF97FF\",\"#FECB52\"],\"font\":{\"color\":\"#2a3f5f\"},\"geo\":{\"bgcolor\":\"white\",\"lakecolor\":\"white\",\"landcolor\":\"#E5ECF6\",\"showlakes\":true,\"showland\":true,\"subunitcolor\":\"white\"},\"hoverlabel\":{\"align\":\"left\"},\"hovermode\":\"closest\",\"mapbox\":{\"style\":\"light\"},\"paper_bgcolor\":\"white\",\"plot_bgcolor\":\"#E5ECF6\",\"polar\":{\"angularaxis\":{\"gridcolor\":\"white\",\"linecolor\":\"white\",\"ticks\":\"\"},\"bgcolor\":\"#E5ECF6\",\"radialaxis\":{\"gridcolor\":\"white\",\"linecolor\":\"white\",\"ticks\":\"\"}},\"scene\":{\"xaxis\":{\"backgroundcolor\":\"#E5ECF6\",\"gridcolor\":\"white\",\"gridwidth\":2,\"linecolor\":\"white\",\"showbackground\":true,\"ticks\":\"\",\"zerolinecolor\":\"white\"},\"yaxis\":{\"backgroundcolor\":\"#E5ECF6\",\"gridcolor\":\"white\",\"gridwidth\":2,\"linecolor\":\"white\",\"showbackground\":true,\"ticks\":\"\",\"zerolinecolor\":\"white\"},\"zaxis\":{\"backgroundcolor\":\"#E5ECF6\",\"gridcolor\":\"white\",\"gridwidth\":2,\"linecolor\":\"white\",\"showbackground\":true,\"ticks\":\"\",\"zerolinecolor\":\"white\"}},\"shapedefaults\":{\"line\":{\"color\":\"#2a3f5f\"}},\"ternary\":{\"aaxis\":{\"gridcolor\":\"white\",\"linecolor\":\"white\",\"ticks\":\"\"},\"baxis\":{\"gridcolor\":\"white\",\"linecolor\":\"white\",\"ticks\":\"\"},\"bgcolor\":\"#E5ECF6\",\"caxis\":{\"gridcolor\":\"white\",\"linecolor\":\"white\",\"ticks\":\"\"}},\"title\":{\"x\":0.05},\"xaxis\":{\"automargin\":true,\"gridcolor\":\"white\",\"linecolor\":\"white\",\"ticks\":\"\",\"title\":{\"standoff\":15},\"zerolinecolor\":\"white\",\"zerolinewidth\":2},\"yaxis\":{\"automargin\":true,\"gridcolor\":\"white\",\"linecolor\":\"white\",\"ticks\":\"\",\"title\":{\"standoff\":15},\"zerolinecolor\":\"white\",\"zerolinewidth\":2}}},\"title\":{\"font\":{\"color\":\"#D9D9D9\"}},\"xaxis\":{\"gridcolor\":\"#434343\",\"showgrid\":true,\"tickfont\":{\"color\":\"#C2C2C2\"},\"title\":{\"font\":{\"color\":\"#D9D9D9\"},\"text\":\"\"},\"zerolinecolor\":\"#666570\"},\"yaxis\":{\"gridcolor\":\"#434343\",\"showgrid\":true,\"tickfont\":{\"color\":\"#C2C2C2\"},\"title\":{\"font\":{\"color\":\"#D9D9D9\"},\"text\":\"\"},\"zerolinecolor\":\"#666570\"}},                        {\"showLink\": true, \"linkText\": \"Export to plot.ly\", \"plotlyServerURL\": \"https://plot.ly\", \"responsive\": true}                    ).then(function(){\n",
       "                            \n",
       "var gd = document.getElementById('dacd9fba-b358-4fdf-bae8-ac0c7124eed5');\n",
       "var x = new MutationObserver(function (mutations, observer) {{\n",
       "        var display = window.getComputedStyle(gd).display;\n",
       "        if (!display || display === 'none') {{\n",
       "            console.log([gd, 'removed!']);\n",
       "            Plotly.purge(gd);\n",
       "            observer.disconnect();\n",
       "        }}\n",
       "}});\n",
       "\n",
       "// Listen for the removal of the full notebook cells\n",
       "var notebookContainer = gd.closest('#notebook-container');\n",
       "if (notebookContainer) {{\n",
       "    x.observe(notebookContainer, {childList: true});\n",
       "}}\n",
       "\n",
       "// Listen for the clearing of the current output cell\n",
       "var outputEl = gd.closest('.output');\n",
       "if (outputEl) {{\n",
       "    x.observe(outputEl, {childList: true});\n",
       "}}\n",
       "\n",
       "                        })                };                });            </script>        </div>"
      ]
     },
     "metadata": {},
     "output_type": "display_data"
    },
    {
     "data": {
      "text/html": [
       "<div>\n",
       "<style scoped>\n",
       "    .dataframe tbody tr th:only-of-type {\n",
       "        vertical-align: middle;\n",
       "    }\n",
       "\n",
       "    .dataframe tbody tr th {\n",
       "        vertical-align: top;\n",
       "    }\n",
       "\n",
       "    .dataframe thead th {\n",
       "        text-align: right;\n",
       "    }\n",
       "</style>\n",
       "<table border=\"1\" class=\"dataframe\">\n",
       "  <thead>\n",
       "    <tr style=\"text-align: right;\">\n",
       "      <th></th>\n",
       "      <th>DTSubjectName</th>\n",
       "      <th>ExchangeName</th>\n",
       "      <th>RIC</th>\n",
       "      <th>MktCapCompanyUsd</th>\n",
       "      <th>ShareholdersEquityUsd</th>\n",
       "      <th>Pe</th>\n",
       "      <th>DebtToAssets</th>\n",
       "      <th>Beta</th>\n",
       "      <th>Eps</th>\n",
       "      <th>Gics</th>\n",
       "      <th>...</th>\n",
       "      <th>RCSAssetCategory</th>\n",
       "      <th>RCSCurrencyLeaf</th>\n",
       "      <th>AssetState</th>\n",
       "      <th>BusinessEntity</th>\n",
       "      <th>PI</th>\n",
       "      <th>IssueISIN</th>\n",
       "      <th>CinCUSIP</th>\n",
       "      <th>SEDOL</th>\n",
       "      <th>CUSIP</th>\n",
       "      <th>SolvencyMargin</th>\n",
       "    </tr>\n",
       "  </thead>\n",
       "  <tbody>\n",
       "    <tr>\n",
       "      <th>1658</th>\n",
       "      <td>Hamak Gold Ltd</td>\n",
       "      <td>London Stock Exchange</td>\n",
       "      <td>HAMA.L</td>\n",
       "      <td>1871480.0</td>\n",
       "      <td>-355380.0</td>\n",
       "      <td>&lt;NA&gt;</td>\n",
       "      <td>188.042105</td>\n",
       "      <td>&lt;NA&gt;</td>\n",
       "      <td>-7.11</td>\n",
       "      <td>Materials/Materials/Metals &amp; Mining/Gold</td>\n",
       "      <td>...</td>\n",
       "      <td>A:1L</td>\n",
       "      <td>British Penny</td>\n",
       "      <td>AC</td>\n",
       "      <td>QUOTExEQUITY</td>\n",
       "      <td>588525851</td>\n",
       "      <td>VGG4256S1048</td>\n",
       "      <td>G4256S104</td>\n",
       "      <td>BMDHNP7</td>\n",
       "      <td>&lt;NA&gt;</td>\n",
       "      <td>&lt;NA&gt;</td>\n",
       "    </tr>\n",
       "    <tr>\n",
       "      <th>4626</th>\n",
       "      <td>Zinc One Resources Inc</td>\n",
       "      <td>London Stock Exchange</td>\n",
       "      <td>0VPH.L</td>\n",
       "      <td>740839.0</td>\n",
       "      <td>-1166945.0</td>\n",
       "      <td>&lt;NA&gt;</td>\n",
       "      <td>100.230481</td>\n",
       "      <td>&lt;NA&gt;</td>\n",
       "      <td>-0.2024</td>\n",
       "      <td>Materials/Materials/Metals &amp; Mining/Diversifie...</td>\n",
       "      <td>...</td>\n",
       "      <td>A:1L</td>\n",
       "      <td>Canadian Dollar</td>\n",
       "      <td>AC</td>\n",
       "      <td>QUOTExEQUITY</td>\n",
       "      <td>288061531</td>\n",
       "      <td>CA98959W2031</td>\n",
       "      <td>&lt;NA&gt;</td>\n",
       "      <td>BM8ZS17</td>\n",
       "      <td>98959W203</td>\n",
       "      <td>&lt;NA&gt;</td>\n",
       "    </tr>\n",
       "    <tr>\n",
       "      <th>1704</th>\n",
       "      <td>Highway Capital PLC</td>\n",
       "      <td>London Stock Exchange</td>\n",
       "      <td>HWC.L</td>\n",
       "      <td>&lt;NA&gt;</td>\n",
       "      <td>-1862314.0</td>\n",
       "      <td>&lt;NA&gt;</td>\n",
       "      <td>52.450062</td>\n",
       "      <td>&lt;NA&gt;</td>\n",
       "      <td>-0.04733</td>\n",
       "      <td>&lt;NA&gt;</td>\n",
       "      <td>...</td>\n",
       "      <td>A:1L</td>\n",
       "      <td>British Penny</td>\n",
       "      <td>AC</td>\n",
       "      <td>QUOTExEQUITY</td>\n",
       "      <td>1411914</td>\n",
       "      <td>GB0008579384</td>\n",
       "      <td>G8583F107</td>\n",
       "      <td>0857938</td>\n",
       "      <td>&lt;NA&gt;</td>\n",
       "      <td>&lt;NA&gt;</td>\n",
       "    </tr>\n",
       "    <tr>\n",
       "      <th>1614</th>\n",
       "      <td>Ross Group PLC</td>\n",
       "      <td>London Stock Exchange</td>\n",
       "      <td>RGP.L</td>\n",
       "      <td>3646629.0</td>\n",
       "      <td>-8153150.0</td>\n",
       "      <td>&lt;NA&gt;</td>\n",
       "      <td>19.545685</td>\n",
       "      <td>0.542996</td>\n",
       "      <td>-0.01214</td>\n",
       "      <td>Consumer Discretionary/Retailing/Distributors/...</td>\n",
       "      <td>...</td>\n",
       "      <td>A:1L</td>\n",
       "      <td>British Penny</td>\n",
       "      <td>AC</td>\n",
       "      <td>QUOTExEQUITY</td>\n",
       "      <td>1080152</td>\n",
       "      <td>GB0002192606</td>\n",
       "      <td>G7643P170</td>\n",
       "      <td>0219260</td>\n",
       "      <td>&lt;NA&gt;</td>\n",
       "      <td>&lt;NA&gt;</td>\n",
       "    </tr>\n",
       "    <tr>\n",
       "      <th>1711</th>\n",
       "      <td>Stranger Holdings PLC</td>\n",
       "      <td>London Stock Exchange</td>\n",
       "      <td>STHP.L</td>\n",
       "      <td>&lt;NA&gt;</td>\n",
       "      <td>-1112452.0</td>\n",
       "      <td>&lt;NA&gt;</td>\n",
       "      <td>19.462963</td>\n",
       "      <td>&lt;NA&gt;</td>\n",
       "      <td>-0.00444</td>\n",
       "      <td>Financials/Diversified Financials/Capital Mark...</td>\n",
       "      <td>...</td>\n",
       "      <td>A:1L</td>\n",
       "      <td>British Penny</td>\n",
       "      <td>AC</td>\n",
       "      <td>QUOTExEQUITY</td>\n",
       "      <td>248767921</td>\n",
       "      <td>GB00BYWLRL80</td>\n",
       "      <td>G8525C105</td>\n",
       "      <td>BYWLRL8</td>\n",
       "      <td>&lt;NA&gt;</td>\n",
       "      <td>&lt;NA&gt;</td>\n",
       "    </tr>\n",
       "    <tr>\n",
       "      <th>1710</th>\n",
       "      <td>Grand Vision Media Holdings PLC</td>\n",
       "      <td>London Stock Exchange</td>\n",
       "      <td>GVMH.L</td>\n",
       "      <td>913215.0</td>\n",
       "      <td>-4718591.0</td>\n",
       "      <td>&lt;NA&gt;</td>\n",
       "      <td>17.177232</td>\n",
       "      <td>-0.219072</td>\n",
       "      <td>-0.04726</td>\n",
       "      <td>Communication Services/Media &amp; Entertainment/M...</td>\n",
       "      <td>...</td>\n",
       "      <td>A:1L</td>\n",
       "      <td>British Penny</td>\n",
       "      <td>AC</td>\n",
       "      <td>QUOTExEQUITY</td>\n",
       "      <td>248333098</td>\n",
       "      <td>GB00BDHBGL97</td>\n",
       "      <td>G816C2104</td>\n",
       "      <td>BDHBGL9</td>\n",
       "      <td>&lt;NA&gt;</td>\n",
       "      <td>&lt;NA&gt;</td>\n",
       "    </tr>\n",
       "    <tr>\n",
       "      <th>566</th>\n",
       "      <td>Financials Acquisition Corp</td>\n",
       "      <td>London Stock Exchange</td>\n",
       "      <td>FINSF.L</td>\n",
       "      <td>171529144.0</td>\n",
       "      <td>-910437.0</td>\n",
       "      <td>&lt;NA&gt;</td>\n",
       "      <td>17.008436</td>\n",
       "      <td>&lt;NA&gt;</td>\n",
       "      <td>-0.04354</td>\n",
       "      <td>&lt;NA&gt;</td>\n",
       "      <td>...</td>\n",
       "      <td>A:1L</td>\n",
       "      <td>British Penny</td>\n",
       "      <td>AC</td>\n",
       "      <td>QUOTExEQUITY</td>\n",
       "      <td>599469237</td>\n",
       "      <td>KYG3439B1032</td>\n",
       "      <td>G3439B103</td>\n",
       "      <td>BPSPGW5</td>\n",
       "      <td>&lt;NA&gt;</td>\n",
       "      <td>&lt;NA&gt;</td>\n",
       "    </tr>\n",
       "    <tr>\n",
       "      <th>1714</th>\n",
       "      <td>Curzon Energy PLC</td>\n",
       "      <td>London Stock Exchange</td>\n",
       "      <td>CZN.L</td>\n",
       "      <td>&lt;NA&gt;</td>\n",
       "      <td>-2528310.0</td>\n",
       "      <td>&lt;NA&gt;</td>\n",
       "      <td>14.876564</td>\n",
       "      <td>1.040802</td>\n",
       "      <td>-0.00916</td>\n",
       "      <td>Energy/Energy/Oil, Gas &amp; Consumable Fuels/Oil ...</td>\n",
       "      <td>...</td>\n",
       "      <td>A:1L</td>\n",
       "      <td>British Penny</td>\n",
       "      <td>AC</td>\n",
       "      <td>QUOTExEQUITY</td>\n",
       "      <td>274259345</td>\n",
       "      <td>GB00BD97ND60</td>\n",
       "      <td>G2R16E101</td>\n",
       "      <td>BD97ND6</td>\n",
       "      <td>&lt;NA&gt;</td>\n",
       "      <td>&lt;NA&gt;</td>\n",
       "    </tr>\n",
       "    <tr>\n",
       "      <th>1691</th>\n",
       "      <td>Plaza Centers NV</td>\n",
       "      <td>London Stock Exchange</td>\n",
       "      <td>PLAZ.L</td>\n",
       "      <td>4972163.0</td>\n",
       "      <td>-110004395.0</td>\n",
       "      <td>&lt;NA&gt;</td>\n",
       "      <td>12.421443</td>\n",
       "      <td>-0.269585</td>\n",
       "      <td>-3.55665</td>\n",
       "      <td>Real Estate/Real Estate/Real Estate Management...</td>\n",
       "      <td>...</td>\n",
       "      <td>A:1L</td>\n",
       "      <td>British Penny</td>\n",
       "      <td>AC</td>\n",
       "      <td>QUOTExEQUITY</td>\n",
       "      <td>28667842</td>\n",
       "      <td>NL0011882741</td>\n",
       "      <td>N7112H107</td>\n",
       "      <td>BD6SDV0</td>\n",
       "      <td>&lt;NA&gt;</td>\n",
       "      <td>&lt;NA&gt;</td>\n",
       "    </tr>\n",
       "    <tr>\n",
       "      <th>1375</th>\n",
       "      <td>Proton Motor Power Systems PLC</td>\n",
       "      <td>London Stock Exchange</td>\n",
       "      <td>PPS.L</td>\n",
       "      <td>155856718.0</td>\n",
       "      <td>-91116228.0</td>\n",
       "      <td>0.362188</td>\n",
       "      <td>11.990579</td>\n",
       "      <td>1.056521</td>\n",
       "      <td>0.24849</td>\n",
       "      <td>Industrials/Capital Goods/Electrical Equipment...</td>\n",
       "      <td>...</td>\n",
       "      <td>A:1L</td>\n",
       "      <td>British Penny</td>\n",
       "      <td>AC</td>\n",
       "      <td>QUOTExEQUITY</td>\n",
       "      <td>28749190</td>\n",
       "      <td>GB00BP83GZ24</td>\n",
       "      <td>G7275Z116</td>\n",
       "      <td>BP83GZ2</td>\n",
       "      <td>&lt;NA&gt;</td>\n",
       "      <td>&lt;NA&gt;</td>\n",
       "    </tr>\n",
       "    <tr>\n",
       "      <th>750</th>\n",
       "      <td>Iconic Labs PLC</td>\n",
       "      <td>London Stock Exchange</td>\n",
       "      <td>ICONI.L</td>\n",
       "      <td>6677884.0</td>\n",
       "      <td>-3473117.0</td>\n",
       "      <td>&lt;NA&gt;</td>\n",
       "      <td>9.629047</td>\n",
       "      <td>3.285231</td>\n",
       "      <td>&lt;NA&gt;</td>\n",
       "      <td>Health Care/Health Care Equipment &amp; Services/H...</td>\n",
       "      <td>...</td>\n",
       "      <td>A:1L</td>\n",
       "      <td>British Penny</td>\n",
       "      <td>AC</td>\n",
       "      <td>QUOTExEQUITY</td>\n",
       "      <td>233143146</td>\n",
       "      <td>GB00BD060S65</td>\n",
       "      <td>G4711X102</td>\n",
       "      <td>BD060S6</td>\n",
       "      <td>&lt;NA&gt;</td>\n",
       "      <td>&lt;NA&gt;</td>\n",
       "    </tr>\n",
       "    <tr>\n",
       "      <th>1512</th>\n",
       "      <td>Mobile Tornado Group PLC</td>\n",
       "      <td>London Stock Exchange</td>\n",
       "      <td>MBLT.L</td>\n",
       "      <td>3601614.0</td>\n",
       "      <td>-15280881.0</td>\n",
       "      <td>&lt;NA&gt;</td>\n",
       "      <td>7.955307</td>\n",
       "      <td>0.764691</td>\n",
       "      <td>-0.00162</td>\n",
       "      <td>Information Technology/Software &amp; Services/Sof...</td>\n",
       "      <td>...</td>\n",
       "      <td>A:1L</td>\n",
       "      <td>British Penny</td>\n",
       "      <td>AC</td>\n",
       "      <td>QUOTExEQUITY</td>\n",
       "      <td>17502397</td>\n",
       "      <td>GB00B01RQV23</td>\n",
       "      <td>G8922C104</td>\n",
       "      <td>B01RQV2</td>\n",
       "      <td>&lt;NA&gt;</td>\n",
       "      <td>&lt;NA&gt;</td>\n",
       "    </tr>\n",
       "    <tr>\n",
       "      <th>1600</th>\n",
       "      <td>Sealand Capital Galaxy Ltd</td>\n",
       "      <td>London Stock Exchange</td>\n",
       "      <td>SCGL.L</td>\n",
       "      <td>2177998.0</td>\n",
       "      <td>-730056.0</td>\n",
       "      <td>&lt;NA&gt;</td>\n",
       "      <td>6.467781</td>\n",
       "      <td>0.794266</td>\n",
       "      <td>-0.00165</td>\n",
       "      <td>Information Technology/Software &amp; Services/IT ...</td>\n",
       "      <td>...</td>\n",
       "      <td>A:1L</td>\n",
       "      <td>British Penny</td>\n",
       "      <td>AC</td>\n",
       "      <td>QUOTExEQUITY</td>\n",
       "      <td>209677423</td>\n",
       "      <td>KYG7948E1026</td>\n",
       "      <td>G7948E102</td>\n",
       "      <td>BYM2LM0</td>\n",
       "      <td>&lt;NA&gt;</td>\n",
       "      <td>&lt;NA&gt;</td>\n",
       "    </tr>\n",
       "    <tr>\n",
       "      <th>1474</th>\n",
       "      <td>7digital Group plc</td>\n",
       "      <td>London Stock Exchange</td>\n",
       "      <td>7DIG.L</td>\n",
       "      <td>7137663.0</td>\n",
       "      <td>-6789643.0</td>\n",
       "      <td>&lt;NA&gt;</td>\n",
       "      <td>4.37306</td>\n",
       "      <td>0.368635</td>\n",
       "      <td>-0.00084</td>\n",
       "      <td>Information Technology/Software &amp; Services/Sof...</td>\n",
       "      <td>...</td>\n",
       "      <td>A:1L</td>\n",
       "      <td>British Penny</td>\n",
       "      <td>AC</td>\n",
       "      <td>QUOTExEQUITY</td>\n",
       "      <td>1082414</td>\n",
       "      <td>GB00BMH46555</td>\n",
       "      <td>G80686101</td>\n",
       "      <td>BMH4655</td>\n",
       "      <td>&lt;NA&gt;</td>\n",
       "      <td>&lt;NA&gt;</td>\n",
       "    </tr>\n",
       "    <tr>\n",
       "      <th>1545</th>\n",
       "      <td>Boston International Holdings PLC</td>\n",
       "      <td>London Stock Exchange</td>\n",
       "      <td>BIH.L</td>\n",
       "      <td>688681.0</td>\n",
       "      <td>-328112.0</td>\n",
       "      <td>&lt;NA&gt;</td>\n",
       "      <td>4.036869</td>\n",
       "      <td>-0.843303</td>\n",
       "      <td>-0.0071</td>\n",
       "      <td>&lt;NA&gt;</td>\n",
       "      <td>...</td>\n",
       "      <td>A:1L</td>\n",
       "      <td>British Penny</td>\n",
       "      <td>AC</td>\n",
       "      <td>QUOTExEQUITY</td>\n",
       "      <td>239743083</td>\n",
       "      <td>GB00BD70S874</td>\n",
       "      <td>G12619105</td>\n",
       "      <td>BD70S87</td>\n",
       "      <td>&lt;NA&gt;</td>\n",
       "      <td>&lt;NA&gt;</td>\n",
       "    </tr>\n",
       "    <tr>\n",
       "      <th>4601</th>\n",
       "      <td>Abacus Mining and Exploration Corp</td>\n",
       "      <td>London Stock Exchange</td>\n",
       "      <td>0UFP.L</td>\n",
       "      <td>3322311.0</td>\n",
       "      <td>-12097620.0</td>\n",
       "      <td>&lt;NA&gt;</td>\n",
       "      <td>3.855592</td>\n",
       "      <td>&lt;NA&gt;</td>\n",
       "      <td>-0.04537</td>\n",
       "      <td>Materials/Materials/Metals &amp; Mining/Diversifie...</td>\n",
       "      <td>...</td>\n",
       "      <td>A:1L</td>\n",
       "      <td>Canadian Dollar</td>\n",
       "      <td>AC</td>\n",
       "      <td>QUOTExEQUITY</td>\n",
       "      <td>288061354</td>\n",
       "      <td>CA0025555065</td>\n",
       "      <td>&lt;NA&gt;</td>\n",
       "      <td>BG05LS1</td>\n",
       "      <td>002555506</td>\n",
       "      <td>&lt;NA&gt;</td>\n",
       "    </tr>\n",
       "    <tr>\n",
       "      <th>1345</th>\n",
       "      <td>Echo Energy PLC</td>\n",
       "      <td>London Stock Exchange</td>\n",
       "      <td>ECHOE.L</td>\n",
       "      <td>5458106.0</td>\n",
       "      <td>-33809480.0</td>\n",
       "      <td>&lt;NA&gt;</td>\n",
       "      <td>3.411121</td>\n",
       "      <td>3.384812</td>\n",
       "      <td>-0.00944</td>\n",
       "      <td>Energy/Energy/Oil, Gas &amp; Consumable Fuels/Inte...</td>\n",
       "      <td>...</td>\n",
       "      <td>A:1L</td>\n",
       "      <td>British Penny</td>\n",
       "      <td>AC</td>\n",
       "      <td>QUOTExEQUITY</td>\n",
       "      <td>23694123</td>\n",
       "      <td>GB00BF0YPG76</td>\n",
       "      <td>G28933102</td>\n",
       "      <td>BF0YPG7</td>\n",
       "      <td>&lt;NA&gt;</td>\n",
       "      <td>&lt;NA&gt;</td>\n",
       "    </tr>\n",
       "    <tr>\n",
       "      <th>2871</th>\n",
       "      <td>Orege SA</td>\n",
       "      <td>London Stock Exchange</td>\n",
       "      <td>0QSU.L</td>\n",
       "      <td>32686891.0</td>\n",
       "      <td>-23537203.0</td>\n",
       "      <td>&lt;NA&gt;</td>\n",
       "      <td>3.37736</td>\n",
       "      <td>&lt;NA&gt;</td>\n",
       "      <td>-0.091</td>\n",
       "      <td>Industrials/Commercial &amp; Professional Services...</td>\n",
       "      <td>...</td>\n",
       "      <td>A:1L</td>\n",
       "      <td>Euro</td>\n",
       "      <td>AC</td>\n",
       "      <td>QUOTExEQUITY</td>\n",
       "      <td>281903466</td>\n",
       "      <td>FR0010609206</td>\n",
       "      <td>F6775A101</td>\n",
       "      <td>B2R9HN5</td>\n",
       "      <td>&lt;NA&gt;</td>\n",
       "      <td>&lt;NA&gt;</td>\n",
       "    </tr>\n",
       "    <tr>\n",
       "      <th>4313</th>\n",
       "      <td>Abengoa SA</td>\n",
       "      <td>London Stock Exchange</td>\n",
       "      <td>0QD0.L</td>\n",
       "      <td>&lt;NA&gt;</td>\n",
       "      <td>-4856688894.0</td>\n",
       "      <td>&lt;NA&gt;</td>\n",
       "      <td>2.844705</td>\n",
       "      <td>&lt;NA&gt;</td>\n",
       "      <td>&lt;NA&gt;</td>\n",
       "      <td>Industrials/Capital Goods/Construction &amp; Engin...</td>\n",
       "      <td>...</td>\n",
       "      <td>A:1L</td>\n",
       "      <td>Euro</td>\n",
       "      <td>AC</td>\n",
       "      <td>QUOTExEQUITY</td>\n",
       "      <td>130089419</td>\n",
       "      <td>ES0105200002</td>\n",
       "      <td>E0002V203</td>\n",
       "      <td>B9J6788</td>\n",
       "      <td>&lt;NA&gt;</td>\n",
       "      <td>&lt;NA&gt;</td>\n",
       "    </tr>\n",
       "    <tr>\n",
       "      <th>1496</th>\n",
       "      <td>Trafalgar Property Group PLC</td>\n",
       "      <td>London Stock Exchange</td>\n",
       "      <td>TRAF.L</td>\n",
       "      <td>569422.0</td>\n",
       "      <td>-3651578.0</td>\n",
       "      <td>&lt;NA&gt;</td>\n",
       "      <td>2.826177</td>\n",
       "      <td>0.033143</td>\n",
       "      <td>-0.00766</td>\n",
       "      <td>Consumer Discretionary/Consumer Durables &amp; App...</td>\n",
       "      <td>...</td>\n",
       "      <td>A:1L</td>\n",
       "      <td>British Penny</td>\n",
       "      <td>AC</td>\n",
       "      <td>QUOTExEQUITY</td>\n",
       "      <td>136766642</td>\n",
       "      <td>GB00BMGS6031</td>\n",
       "      <td>G9007U100</td>\n",
       "      <td>BMGS603</td>\n",
       "      <td>&lt;NA&gt;</td>\n",
       "      <td>&lt;NA&gt;</td>\n",
       "    </tr>\n",
       "    <tr>\n",
       "      <th>1510</th>\n",
       "      <td>Fragrant Prosperity Holdings Ltd</td>\n",
       "      <td>London Stock Exchange</td>\n",
       "      <td>FPP.L</td>\n",
       "      <td>614445.0</td>\n",
       "      <td>-458180.0</td>\n",
       "      <td>&lt;NA&gt;</td>\n",
       "      <td>2.458945</td>\n",
       "      <td>0.14678</td>\n",
       "      <td>-0.01176</td>\n",
       "      <td>&lt;NA&gt;</td>\n",
       "      <td>...</td>\n",
       "      <td>A:1L</td>\n",
       "      <td>British Penny</td>\n",
       "      <td>AC</td>\n",
       "      <td>QUOTExEQUITY</td>\n",
       "      <td>236389295</td>\n",
       "      <td>VGG368811037</td>\n",
       "      <td>G36881103</td>\n",
       "      <td>BD2C6Q2</td>\n",
       "      <td>&lt;NA&gt;</td>\n",
       "      <td>&lt;NA&gt;</td>\n",
       "    </tr>\n",
       "    <tr>\n",
       "      <th>1511</th>\n",
       "      <td>Nostrum Oil &amp; Gas PLC</td>\n",
       "      <td>London Stock Exchange</td>\n",
       "      <td>NOGN.L</td>\n",
       "      <td>6299236.0</td>\n",
       "      <td>-823253000.0</td>\n",
       "      <td>&lt;NA&gt;</td>\n",
       "      <td>2.456291</td>\n",
       "      <td>2.3338</td>\n",
       "      <td>-0.1044</td>\n",
       "      <td>Energy/Energy/Oil, Gas &amp; Consumable Fuels/Oil ...</td>\n",
       "      <td>...</td>\n",
       "      <td>A:1L</td>\n",
       "      <td>British Penny</td>\n",
       "      <td>AC</td>\n",
       "      <td>QUOTExEQUITY</td>\n",
       "      <td>162245366</td>\n",
       "      <td>GB00BGP6Q951</td>\n",
       "      <td>G66737100</td>\n",
       "      <td>BGP6Q95</td>\n",
       "      <td>&lt;NA&gt;</td>\n",
       "      <td>&lt;NA&gt;</td>\n",
       "    </tr>\n",
       "    <tr>\n",
       "      <th>3694</th>\n",
       "      <td>Nostrum Oil &amp; Gas PLC</td>\n",
       "      <td>London Stock Exchange</td>\n",
       "      <td>NOGl.TRE</td>\n",
       "      <td>6299236.0</td>\n",
       "      <td>-823253000.0</td>\n",
       "      <td>&lt;NA&gt;</td>\n",
       "      <td>2.456291</td>\n",
       "      <td>&lt;NA&gt;</td>\n",
       "      <td>-0.1044</td>\n",
       "      <td>Energy/Energy/Oil, Gas &amp; Consumable Fuels/Oil ...</td>\n",
       "      <td>...</td>\n",
       "      <td>A:1L</td>\n",
       "      <td>British Penny</td>\n",
       "      <td>AC</td>\n",
       "      <td>QUOTExEQUITY</td>\n",
       "      <td>279328311</td>\n",
       "      <td>GB00BGP6Q951</td>\n",
       "      <td>G66737100</td>\n",
       "      <td>&lt;NA&gt;</td>\n",
       "      <td>&lt;NA&gt;</td>\n",
       "      <td>&lt;NA&gt;</td>\n",
       "    </tr>\n",
       "    <tr>\n",
       "      <th>4492</th>\n",
       "      <td>OLIDATA SpA</td>\n",
       "      <td>London Stock Exchange</td>\n",
       "      <td>0FHJO.L</td>\n",
       "      <td>&lt;NA&gt;</td>\n",
       "      <td>-7860997.0</td>\n",
       "      <td>&lt;NA&gt;</td>\n",
       "      <td>2.427196</td>\n",
       "      <td>&lt;NA&gt;</td>\n",
       "      <td>-0.25172</td>\n",
       "      <td>Information Technology/Technology Hardware &amp; E...</td>\n",
       "      <td>...</td>\n",
       "      <td>A:1L</td>\n",
       "      <td>Euro</td>\n",
       "      <td>AC</td>\n",
       "      <td>QUOTExEQUITY</td>\n",
       "      <td>281899912</td>\n",
       "      <td>IT0001350625</td>\n",
       "      <td>T7862U104</td>\n",
       "      <td>B28L3H6</td>\n",
       "      <td>&lt;NA&gt;</td>\n",
       "      <td>&lt;NA&gt;</td>\n",
       "    </tr>\n",
       "    <tr>\n",
       "      <th>2410</th>\n",
       "      <td>Yum! Brands Inc</td>\n",
       "      <td>London Stock Exchange</td>\n",
       "      <td>0QYD.L</td>\n",
       "      <td>31962656104.0</td>\n",
       "      <td>-8373000000.0</td>\n",
       "      <td>17.125659</td>\n",
       "      <td>2.403453</td>\n",
       "      <td>&lt;NA&gt;</td>\n",
       "      <td>4.99275</td>\n",
       "      <td>Consumer Discretionary/Consumer Services/Hotel...</td>\n",
       "      <td>...</td>\n",
       "      <td>A:1L</td>\n",
       "      <td>US Dollar</td>\n",
       "      <td>AC</td>\n",
       "      <td>QUOTExEQUITY</td>\n",
       "      <td>287071645</td>\n",
       "      <td>US9884981013</td>\n",
       "      <td>&lt;NA&gt;</td>\n",
       "      <td>BSJC9S3</td>\n",
       "      <td>988498101</td>\n",
       "      <td>&lt;NA&gt;</td>\n",
       "    </tr>\n",
       "    <tr>\n",
       "      <th>4789</th>\n",
       "      <td>Ensurge Micropower ASA</td>\n",
       "      <td>London Stock Exchange</td>\n",
       "      <td>0JI9ol.TRE</td>\n",
       "      <td>43193903.0</td>\n",
       "      <td>-13481000.0</td>\n",
       "      <td>&lt;NA&gt;</td>\n",
       "      <td>2.195018</td>\n",
       "      <td>&lt;NA&gt;</td>\n",
       "      <td>-0.60108</td>\n",
       "      <td>Information Technology/Technology Hardware &amp; E...</td>\n",
       "      <td>...</td>\n",
       "      <td>A:1L</td>\n",
       "      <td>Norwegian Krone</td>\n",
       "      <td>AC</td>\n",
       "      <td>QUOTExEQUITY</td>\n",
       "      <td>47258505</td>\n",
       "      <td>NO0012450008</td>\n",
       "      <td>R2R95P165</td>\n",
       "      <td>&lt;NA&gt;</td>\n",
       "      <td>&lt;NA&gt;</td>\n",
       "      <td>&lt;NA&gt;</td>\n",
       "    </tr>\n",
       "    <tr>\n",
       "      <th>2848</th>\n",
       "      <td>Ensurge Micropower ASA</td>\n",
       "      <td>London Stock Exchange</td>\n",
       "      <td>0JI9.L</td>\n",
       "      <td>43193903.0</td>\n",
       "      <td>-13481000.0</td>\n",
       "      <td>&lt;NA&gt;</td>\n",
       "      <td>2.195018</td>\n",
       "      <td>&lt;NA&gt;</td>\n",
       "      <td>-0.60108</td>\n",
       "      <td>Information Technology/Technology Hardware &amp; E...</td>\n",
       "      <td>...</td>\n",
       "      <td>A:1L</td>\n",
       "      <td>Norwegian Krone</td>\n",
       "      <td>AC</td>\n",
       "      <td>QUOTExEQUITY</td>\n",
       "      <td>281901386</td>\n",
       "      <td>NO0012450008</td>\n",
       "      <td>R2R95P165</td>\n",
       "      <td>BJLTLH2</td>\n",
       "      <td>&lt;NA&gt;</td>\n",
       "      <td>&lt;NA&gt;</td>\n",
       "    </tr>\n",
       "    <tr>\n",
       "      <th>3011</th>\n",
       "      <td>Recylex SA</td>\n",
       "      <td>London Stock Exchange</td>\n",
       "      <td>0FV0.L</td>\n",
       "      <td>&lt;NA&gt;</td>\n",
       "      <td>-39165703.0</td>\n",
       "      <td>292.324744</td>\n",
       "      <td>2.081927</td>\n",
       "      <td>&lt;NA&gt;</td>\n",
       "      <td>&lt;NA&gt;</td>\n",
       "      <td>Materials/Materials/Metals &amp; Mining/Diversifie...</td>\n",
       "      <td>...</td>\n",
       "      <td>A:1L</td>\n",
       "      <td>Euro</td>\n",
       "      <td>AC</td>\n",
       "      <td>QUOTExEQUITY</td>\n",
       "      <td>281898796</td>\n",
       "      <td>FR0000120388</td>\n",
       "      <td>F7699L157</td>\n",
       "      <td>B28K6J6</td>\n",
       "      <td>&lt;NA&gt;</td>\n",
       "      <td>&lt;NA&gt;</td>\n",
       "    </tr>\n",
       "    <tr>\n",
       "      <th>1254</th>\n",
       "      <td>Dukemount Capital PLC</td>\n",
       "      <td>London Stock Exchange</td>\n",
       "      <td>DKE.L</td>\n",
       "      <td>272176.0</td>\n",
       "      <td>-689385.0</td>\n",
       "      <td>&lt;NA&gt;</td>\n",
       "      <td>2.028071</td>\n",
       "      <td>1.535915</td>\n",
       "      <td>-0.0021</td>\n",
       "      <td>Real Estate/Real Estate/Real Estate Management...</td>\n",
       "      <td>...</td>\n",
       "      <td>A:1L</td>\n",
       "      <td>British Penny</td>\n",
       "      <td>AC</td>\n",
       "      <td>QUOTExEQUITY</td>\n",
       "      <td>255923136</td>\n",
       "      <td>GB00B6WZDF03</td>\n",
       "      <td>G2861J105</td>\n",
       "      <td>B6WZDF0</td>\n",
       "      <td>&lt;NA&gt;</td>\n",
       "      <td>&lt;NA&gt;</td>\n",
       "    </tr>\n",
       "    <tr>\n",
       "      <th>1712</th>\n",
       "      <td>Fandango Holdings PLC</td>\n",
       "      <td>London Stock Exchange</td>\n",
       "      <td>FHP.L</td>\n",
       "      <td>&lt;NA&gt;</td>\n",
       "      <td>-436277.0</td>\n",
       "      <td>&lt;NA&gt;</td>\n",
       "      <td>2.012953</td>\n",
       "      <td>&lt;NA&gt;</td>\n",
       "      <td>-0.00271</td>\n",
       "      <td>&lt;NA&gt;</td>\n",
       "      <td>...</td>\n",
       "      <td>A:1L</td>\n",
       "      <td>British Penny</td>\n",
       "      <td>AC</td>\n",
       "      <td>QUOTExEQUITY</td>\n",
       "      <td>265779074</td>\n",
       "      <td>GB00BF2P0G38</td>\n",
       "      <td>G330AM104</td>\n",
       "      <td>BF2P0G3</td>\n",
       "      <td>&lt;NA&gt;</td>\n",
       "      <td>&lt;NA&gt;</td>\n",
       "    </tr>\n",
       "  </tbody>\n",
       "</table>\n",
       "<p>30 rows × 45 columns</p>\n",
       "</div>"
      ],
      "text/plain": [
       "                           DTSubjectName           ExchangeName         RIC  \\\n",
       "1658                      Hamak Gold Ltd  London Stock Exchange      HAMA.L   \n",
       "4626              Zinc One Resources Inc  London Stock Exchange      0VPH.L   \n",
       "1704                 Highway Capital PLC  London Stock Exchange       HWC.L   \n",
       "1614                      Ross Group PLC  London Stock Exchange       RGP.L   \n",
       "1711               Stranger Holdings PLC  London Stock Exchange      STHP.L   \n",
       "1710     Grand Vision Media Holdings PLC  London Stock Exchange      GVMH.L   \n",
       "566          Financials Acquisition Corp  London Stock Exchange     FINSF.L   \n",
       "1714                   Curzon Energy PLC  London Stock Exchange       CZN.L   \n",
       "1691                    Plaza Centers NV  London Stock Exchange      PLAZ.L   \n",
       "1375      Proton Motor Power Systems PLC  London Stock Exchange       PPS.L   \n",
       "750                      Iconic Labs PLC  London Stock Exchange     ICONI.L   \n",
       "1512            Mobile Tornado Group PLC  London Stock Exchange      MBLT.L   \n",
       "1600          Sealand Capital Galaxy Ltd  London Stock Exchange      SCGL.L   \n",
       "1474                  7digital Group plc  London Stock Exchange      7DIG.L   \n",
       "1545   Boston International Holdings PLC  London Stock Exchange       BIH.L   \n",
       "4601  Abacus Mining and Exploration Corp  London Stock Exchange      0UFP.L   \n",
       "1345                     Echo Energy PLC  London Stock Exchange     ECHOE.L   \n",
       "2871                            Orege SA  London Stock Exchange      0QSU.L   \n",
       "4313                          Abengoa SA  London Stock Exchange      0QD0.L   \n",
       "1496        Trafalgar Property Group PLC  London Stock Exchange      TRAF.L   \n",
       "1510    Fragrant Prosperity Holdings Ltd  London Stock Exchange       FPP.L   \n",
       "1511               Nostrum Oil & Gas PLC  London Stock Exchange      NOGN.L   \n",
       "3694               Nostrum Oil & Gas PLC  London Stock Exchange    NOGl.TRE   \n",
       "4492                         OLIDATA SpA  London Stock Exchange     0FHJO.L   \n",
       "2410                     Yum! Brands Inc  London Stock Exchange      0QYD.L   \n",
       "4789              Ensurge Micropower ASA  London Stock Exchange  0JI9ol.TRE   \n",
       "2848              Ensurge Micropower ASA  London Stock Exchange      0JI9.L   \n",
       "3011                          Recylex SA  London Stock Exchange      0FV0.L   \n",
       "1254               Dukemount Capital PLC  London Stock Exchange       DKE.L   \n",
       "1712               Fandango Holdings PLC  London Stock Exchange       FHP.L   \n",
       "\n",
       "     MktCapCompanyUsd ShareholdersEquityUsd          Pe DebtToAssets  \\\n",
       "1658        1871480.0             -355380.0        <NA>   188.042105   \n",
       "4626         740839.0            -1166945.0        <NA>   100.230481   \n",
       "1704             <NA>            -1862314.0        <NA>    52.450062   \n",
       "1614        3646629.0            -8153150.0        <NA>    19.545685   \n",
       "1711             <NA>            -1112452.0        <NA>    19.462963   \n",
       "1710         913215.0            -4718591.0        <NA>    17.177232   \n",
       "566       171529144.0             -910437.0        <NA>    17.008436   \n",
       "1714             <NA>            -2528310.0        <NA>    14.876564   \n",
       "1691        4972163.0          -110004395.0        <NA>    12.421443   \n",
       "1375      155856718.0           -91116228.0    0.362188    11.990579   \n",
       "750         6677884.0            -3473117.0        <NA>     9.629047   \n",
       "1512        3601614.0           -15280881.0        <NA>     7.955307   \n",
       "1600        2177998.0             -730056.0        <NA>     6.467781   \n",
       "1474        7137663.0            -6789643.0        <NA>      4.37306   \n",
       "1545         688681.0             -328112.0        <NA>     4.036869   \n",
       "4601        3322311.0           -12097620.0        <NA>     3.855592   \n",
       "1345        5458106.0           -33809480.0        <NA>     3.411121   \n",
       "2871       32686891.0           -23537203.0        <NA>      3.37736   \n",
       "4313             <NA>         -4856688894.0        <NA>     2.844705   \n",
       "1496         569422.0            -3651578.0        <NA>     2.826177   \n",
       "1510         614445.0             -458180.0        <NA>     2.458945   \n",
       "1511        6299236.0          -823253000.0        <NA>     2.456291   \n",
       "3694        6299236.0          -823253000.0        <NA>     2.456291   \n",
       "4492             <NA>            -7860997.0        <NA>     2.427196   \n",
       "2410    31962656104.0         -8373000000.0   17.125659     2.403453   \n",
       "4789       43193903.0           -13481000.0        <NA>     2.195018   \n",
       "2848       43193903.0           -13481000.0        <NA>     2.195018   \n",
       "3011             <NA>           -39165703.0  292.324744     2.081927   \n",
       "1254         272176.0             -689385.0        <NA>     2.028071   \n",
       "1712             <NA>             -436277.0        <NA>     2.012953   \n",
       "\n",
       "          Beta      Eps                                               Gics  \\\n",
       "1658      <NA>    -7.11           Materials/Materials/Metals & Mining/Gold   \n",
       "4626      <NA>  -0.2024  Materials/Materials/Metals & Mining/Diversifie...   \n",
       "1704      <NA> -0.04733                                               <NA>   \n",
       "1614  0.542996 -0.01214  Consumer Discretionary/Retailing/Distributors/...   \n",
       "1711      <NA> -0.00444  Financials/Diversified Financials/Capital Mark...   \n",
       "1710 -0.219072 -0.04726  Communication Services/Media & Entertainment/M...   \n",
       "566       <NA> -0.04354                                               <NA>   \n",
       "1714  1.040802 -0.00916  Energy/Energy/Oil, Gas & Consumable Fuels/Oil ...   \n",
       "1691 -0.269585 -3.55665  Real Estate/Real Estate/Real Estate Management...   \n",
       "1375  1.056521  0.24849  Industrials/Capital Goods/Electrical Equipment...   \n",
       "750   3.285231     <NA>  Health Care/Health Care Equipment & Services/H...   \n",
       "1512  0.764691 -0.00162  Information Technology/Software & Services/Sof...   \n",
       "1600  0.794266 -0.00165  Information Technology/Software & Services/IT ...   \n",
       "1474  0.368635 -0.00084  Information Technology/Software & Services/Sof...   \n",
       "1545 -0.843303  -0.0071                                               <NA>   \n",
       "4601      <NA> -0.04537  Materials/Materials/Metals & Mining/Diversifie...   \n",
       "1345  3.384812 -0.00944  Energy/Energy/Oil, Gas & Consumable Fuels/Inte...   \n",
       "2871      <NA>   -0.091  Industrials/Commercial & Professional Services...   \n",
       "4313      <NA>     <NA>  Industrials/Capital Goods/Construction & Engin...   \n",
       "1496  0.033143 -0.00766  Consumer Discretionary/Consumer Durables & App...   \n",
       "1510   0.14678 -0.01176                                               <NA>   \n",
       "1511    2.3338  -0.1044  Energy/Energy/Oil, Gas & Consumable Fuels/Oil ...   \n",
       "3694      <NA>  -0.1044  Energy/Energy/Oil, Gas & Consumable Fuels/Oil ...   \n",
       "4492      <NA> -0.25172  Information Technology/Technology Hardware & E...   \n",
       "2410      <NA>  4.99275  Consumer Discretionary/Consumer Services/Hotel...   \n",
       "4789      <NA> -0.60108  Information Technology/Technology Hardware & E...   \n",
       "2848      <NA> -0.60108  Information Technology/Technology Hardware & E...   \n",
       "3011      <NA>     <NA>  Materials/Materials/Metals & Mining/Diversifie...   \n",
       "1254  1.535915  -0.0021  Real Estate/Real Estate/Real Estate Management...   \n",
       "1712      <NA> -0.00271                                               <NA>   \n",
       "\n",
       "      ... RCSAssetCategory  RCSCurrencyLeaf AssetState BusinessEntity  \\\n",
       "1658  ...             A:1L    British Penny         AC   QUOTExEQUITY   \n",
       "4626  ...             A:1L  Canadian Dollar         AC   QUOTExEQUITY   \n",
       "1704  ...             A:1L    British Penny         AC   QUOTExEQUITY   \n",
       "1614  ...             A:1L    British Penny         AC   QUOTExEQUITY   \n",
       "1711  ...             A:1L    British Penny         AC   QUOTExEQUITY   \n",
       "1710  ...             A:1L    British Penny         AC   QUOTExEQUITY   \n",
       "566   ...             A:1L    British Penny         AC   QUOTExEQUITY   \n",
       "1714  ...             A:1L    British Penny         AC   QUOTExEQUITY   \n",
       "1691  ...             A:1L    British Penny         AC   QUOTExEQUITY   \n",
       "1375  ...             A:1L    British Penny         AC   QUOTExEQUITY   \n",
       "750   ...             A:1L    British Penny         AC   QUOTExEQUITY   \n",
       "1512  ...             A:1L    British Penny         AC   QUOTExEQUITY   \n",
       "1600  ...             A:1L    British Penny         AC   QUOTExEQUITY   \n",
       "1474  ...             A:1L    British Penny         AC   QUOTExEQUITY   \n",
       "1545  ...             A:1L    British Penny         AC   QUOTExEQUITY   \n",
       "4601  ...             A:1L  Canadian Dollar         AC   QUOTExEQUITY   \n",
       "1345  ...             A:1L    British Penny         AC   QUOTExEQUITY   \n",
       "2871  ...             A:1L             Euro         AC   QUOTExEQUITY   \n",
       "4313  ...             A:1L             Euro         AC   QUOTExEQUITY   \n",
       "1496  ...             A:1L    British Penny         AC   QUOTExEQUITY   \n",
       "1510  ...             A:1L    British Penny         AC   QUOTExEQUITY   \n",
       "1511  ...             A:1L    British Penny         AC   QUOTExEQUITY   \n",
       "3694  ...             A:1L    British Penny         AC   QUOTExEQUITY   \n",
       "4492  ...             A:1L             Euro         AC   QUOTExEQUITY   \n",
       "2410  ...             A:1L        US Dollar         AC   QUOTExEQUITY   \n",
       "4789  ...             A:1L  Norwegian Krone         AC   QUOTExEQUITY   \n",
       "2848  ...             A:1L  Norwegian Krone         AC   QUOTExEQUITY   \n",
       "3011  ...             A:1L             Euro         AC   QUOTExEQUITY   \n",
       "1254  ...             A:1L    British Penny         AC   QUOTExEQUITY   \n",
       "1712  ...             A:1L    British Penny         AC   QUOTExEQUITY   \n",
       "\n",
       "             PI     IssueISIN   CinCUSIP    SEDOL      CUSIP SolvencyMargin  \n",
       "1658  588525851  VGG4256S1048  G4256S104  BMDHNP7       <NA>           <NA>  \n",
       "4626  288061531  CA98959W2031       <NA>  BM8ZS17  98959W203           <NA>  \n",
       "1704    1411914  GB0008579384  G8583F107  0857938       <NA>           <NA>  \n",
       "1614    1080152  GB0002192606  G7643P170  0219260       <NA>           <NA>  \n",
       "1711  248767921  GB00BYWLRL80  G8525C105  BYWLRL8       <NA>           <NA>  \n",
       "1710  248333098  GB00BDHBGL97  G816C2104  BDHBGL9       <NA>           <NA>  \n",
       "566   599469237  KYG3439B1032  G3439B103  BPSPGW5       <NA>           <NA>  \n",
       "1714  274259345  GB00BD97ND60  G2R16E101  BD97ND6       <NA>           <NA>  \n",
       "1691   28667842  NL0011882741  N7112H107  BD6SDV0       <NA>           <NA>  \n",
       "1375   28749190  GB00BP83GZ24  G7275Z116  BP83GZ2       <NA>           <NA>  \n",
       "750   233143146  GB00BD060S65  G4711X102  BD060S6       <NA>           <NA>  \n",
       "1512   17502397  GB00B01RQV23  G8922C104  B01RQV2       <NA>           <NA>  \n",
       "1600  209677423  KYG7948E1026  G7948E102  BYM2LM0       <NA>           <NA>  \n",
       "1474    1082414  GB00BMH46555  G80686101  BMH4655       <NA>           <NA>  \n",
       "1545  239743083  GB00BD70S874  G12619105  BD70S87       <NA>           <NA>  \n",
       "4601  288061354  CA0025555065       <NA>  BG05LS1  002555506           <NA>  \n",
       "1345   23694123  GB00BF0YPG76  G28933102  BF0YPG7       <NA>           <NA>  \n",
       "2871  281903466  FR0010609206  F6775A101  B2R9HN5       <NA>           <NA>  \n",
       "4313  130089419  ES0105200002  E0002V203  B9J6788       <NA>           <NA>  \n",
       "1496  136766642  GB00BMGS6031  G9007U100  BMGS603       <NA>           <NA>  \n",
       "1510  236389295  VGG368811037  G36881103  BD2C6Q2       <NA>           <NA>  \n",
       "1511  162245366  GB00BGP6Q951  G66737100  BGP6Q95       <NA>           <NA>  \n",
       "3694  279328311  GB00BGP6Q951  G66737100     <NA>       <NA>           <NA>  \n",
       "4492  281899912  IT0001350625  T7862U104  B28L3H6       <NA>           <NA>  \n",
       "2410  287071645  US9884981013       <NA>  BSJC9S3  988498101           <NA>  \n",
       "4789   47258505  NO0012450008  R2R95P165     <NA>       <NA>           <NA>  \n",
       "2848  281901386  NO0012450008  R2R95P165  BJLTLH2       <NA>           <NA>  \n",
       "3011  281898796  FR0000120388  F7699L157  B28K6J6       <NA>           <NA>  \n",
       "1254  255923136  GB00B6WZDF03  G2861J105  B6WZDF0       <NA>           <NA>  \n",
       "1712  265779074  GB00BF2P0G38  G330AM104  BF2P0G3       <NA>           <NA>  \n",
       "\n",
       "[30 rows x 45 columns]"
      ]
     },
     "metadata": {},
     "output_type": "display_data"
    }
   ],
   "source": [
    "equities = lse_equities.query(\"DebtToAssets >= 2\")\n",
    "plot_and_display(equities, \"DebtToAssets\")"
   ]
  },
  {
   "cell_type": "markdown",
   "id": "f6702f8c-639b-4685-a0a1-44bad576c2fb",
   "metadata": {
    "tags": []
   },
   "source": [
    "### Get Vodafone related equities and use get_data() to retrieve additional information "
   ]
  },
  {
   "cell_type": "code",
   "execution_count": 17,
   "id": "bb1abf71-d36d-4c1c-aae7-fa3be88f8dbf",
   "metadata": {},
   "outputs": [
    {
     "data": {
      "text/html": [
       "<div>\n",
       "<style scoped>\n",
       "    .dataframe tbody tr th:only-of-type {\n",
       "        vertical-align: middle;\n",
       "    }\n",
       "\n",
       "    .dataframe tbody tr th {\n",
       "        vertical-align: top;\n",
       "    }\n",
       "\n",
       "    .dataframe thead th {\n",
       "        text-align: right;\n",
       "    }\n",
       "</style>\n",
       "<table border=\"1\" class=\"dataframe\">\n",
       "  <thead>\n",
       "    <tr style=\"text-align: right;\">\n",
       "      <th></th>\n",
       "      <th>Instrument</th>\n",
       "      <th>Country of Headquarters</th>\n",
       "      <th>Shares O/S Date</th>\n",
       "      <th>Revenue</th>\n",
       "    </tr>\n",
       "  </thead>\n",
       "  <tbody>\n",
       "    <tr>\n",
       "      <th>0</th>\n",
       "      <td>VOD.L</td>\n",
       "      <td>United Kingdom</td>\n",
       "      <td>2022-10-06</td>\n",
       "      <td>45580000000</td>\n",
       "    </tr>\n",
       "    <tr>\n",
       "      <th>1</th>\n",
       "      <td>VODl.TRE</td>\n",
       "      <td>United Kingdom</td>\n",
       "      <td>2022-10-06</td>\n",
       "      <td>45580000000</td>\n",
       "    </tr>\n",
       "    <tr>\n",
       "      <th>2</th>\n",
       "      <td>0QBL.L</td>\n",
       "      <td>Iceland</td>\n",
       "      <td>2022-10-06</td>\n",
       "      <td>21765000000</td>\n",
       "    </tr>\n",
       "    <tr>\n",
       "      <th>3</th>\n",
       "      <td>0QBLic.TRE</td>\n",
       "      <td>Iceland</td>\n",
       "      <td>2022-10-06</td>\n",
       "      <td>21765000000</td>\n",
       "    </tr>\n",
       "    <tr>\n",
       "      <th>4</th>\n",
       "      <td>AU0000090128.TRE</td>\n",
       "      <td>Australia</td>\n",
       "      <td>2022-10-07</td>\n",
       "      <td>5338000000</td>\n",
       "    </tr>\n",
       "  </tbody>\n",
       "</table>\n",
       "</div>"
      ],
      "text/plain": [
       "         Instrument Country of Headquarters Shares O/S Date      Revenue\n",
       "0             VOD.L          United Kingdom      2022-10-06  45580000000\n",
       "1          VODl.TRE          United Kingdom      2022-10-06  45580000000\n",
       "2            0QBL.L                 Iceland      2022-10-06  21765000000\n",
       "3        0QBLic.TRE                 Iceland      2022-10-06  21765000000\n",
       "4  AU0000090128.TRE               Australia      2022-10-07   5338000000"
      ]
     },
     "execution_count": 17,
     "metadata": {},
     "output_type": "execute_result"
    }
   ],
   "source": [
    "vod_equities = equity.search(what=\"vodafone\", exchange_name=\"London Stock Exchange\")\n",
    "\n",
    "rd.get_data(\n",
    "    universe=vod_equities['RIC'].to_list(),\n",
    "    fields=['TR.HeadquartersCountry', 'TR.CompanySharesOutDate', 'TR.Revenue']\n",
    ")"
   ]
  },
  {
   "cell_type": "markdown",
   "id": "3374548d-a4dd-4210-9635-3e4aa4a884a7",
   "metadata": {},
   "source": [
    "## Close the session"
   ]
  },
  {
   "cell_type": "code",
   "execution_count": 18,
   "id": "1dc09a74-816f-4229-8d47-4a49573a2668",
   "metadata": {
    "tags": []
   },
   "outputs": [],
   "source": [
    "rd.close_session()"
   ]
  },
  {
   "cell_type": "code",
   "execution_count": null,
   "id": "102081d1-bef1-4630-a9db-1e134b06a205",
   "metadata": {},
   "outputs": [],
   "source": []
  }
 ],
 "metadata": {
  "kernelspec": {
   "display_name": "Python 3 (ipykernel)",
   "language": "python",
   "name": "python3"
  },
  "language_info": {
   "codemirror_mode": {
    "name": "ipython",
    "version": 3
   },
   "file_extension": ".py",
   "mimetype": "text/x-python",
   "name": "python",
   "nbconvert_exporter": "python",
   "pygments_lexer": "ipython3",
   "version": "3.9.7"
  }
 },
 "nbformat": 4,
 "nbformat_minor": 5
}
