{
 "cells": [
  {
   "cell_type": "markdown",
   "metadata": {},
   "source": [
    "----\n",
    "<img src=\"../../../files/refinitiv.png\" width=\"20%\" style=\"vertical-align: top;\">\n",
    "\n",
    "# Data Library for Python\n",
    "\n",
    "----"
   ]
  },
  {
   "cell_type": "markdown",
   "metadata": {},
   "source": [
    "## Delivery layer - OMM Stream - Level 1 data subscription\n",
    "This notebook demonstrates how to use an OMM stream of the low level Delivery layer to subscribe to retrieve level 1 streaming data (such as trades and quotes)."
   ]
  },
  {
   "cell_type": "markdown",
   "metadata": {},
   "source": [
    "#### Learn more\n",
    "\n",
    "To learn more about the Refinitiv Data Library for Python please join the Refinitiv Developer Community. By [registering](https://developers.refinitiv.com/iam/register) and [logging](https://developers.refinitiv.com/content/devportal/en_us/initCookie.html) into the Refinitiv Developer Community portal you will have free access to a number of learning materials like \n",
    " [Quick Start guides](https://developers.refinitiv.com/en/api-catalog/refinitiv-data-platform/refinitiv-data-library-for-python/quick-start), \n",
    " [Tutorials](https://developers.refinitiv.com/en/api-catalog/refinitiv-data-platform/refinitiv-data-library-for-python/learning), \n",
    " [Documentation](https://developers.refinitiv.com/en/api-catalog/refinitiv-data-platform/refinitiv-data-library-for-python/docs)\n",
    " and much more.\n",
    "\n",
    "#### Getting Help and Support\n",
    "\n",
    "If you have any questions regarding using the API, please post them on \n",
    "the [Refinitiv Data Q&A Forum](https://community.developers.refinitiv.com/spaces/321/index.html). \n",
    "The Refinitiv Developer Community will be happy to help. "
   ]
  },
  {
   "cell_type": "markdown",
   "metadata": {},
   "source": [
    "## Set the configuration file location\n",
    "For a better ease of use, you have the option to set initialization parameters of the Refinitiv Data Library in the _refinitiv-data.config.json_ configuration file. This file must be located beside your notebook, in your user folder or in a folder defined by the _RD_LIB_CONFIG_PATH_ environment variable. The _RD_LIB_CONFIG_PATH_ environment variable is the option used by this series of examples. The following code sets this environment variable.      "
   ]
  },
  {
   "cell_type": "code",
   "execution_count": 1,
   "metadata": {},
   "outputs": [],
   "source": [
    "import os\n",
    "os.environ[\"RD_LIB_CONFIG_PATH\"] = \"../../../Configuration\""
   ]
  },
  {
   "cell_type": "markdown",
   "metadata": {},
   "source": [
    "## Some Imports to start with"
   ]
  },
  {
   "cell_type": "code",
   "execution_count": 1,
   "metadata": {},
   "outputs": [],
   "source": [
    "import refinitiv.data as rd\n",
    "from refinitiv.data.delivery import omm_stream\n",
    "import datetime\n",
    "import json"
   ]
  },
  {
   "cell_type": "markdown",
   "metadata": {},
   "source": [
    "## Open the data session\n",
    "\n",
    "The open_session() function creates and open sessions based on the information contained in the refinitiv-data.config.json configuration file. Please edit this file to set the session type and other parameters required for the session you want to open."
   ]
  },
  {
   "cell_type": "code",
   "execution_count": 2,
   "metadata": {},
   "outputs": [
    {
     "data": {
      "text/plain": [
       "<refinitiv.data.session.Definition object at 0x7faa8e2242b0 {name='workspace'}>"
      ]
     },
     "execution_count": 2,
     "metadata": {},
     "output_type": "execute_result"
    }
   ],
   "source": [
    "rd.open_session()"
   ]
  },
  {
   "cell_type": "markdown",
   "metadata": {},
   "source": [
    "## Retrieve data"
   ]
  },
  {
   "cell_type": "markdown",
   "metadata": {},
   "source": [
    "### Define a calback to display received events"
   ]
  },
  {
   "cell_type": "code",
   "execution_count": 3,
   "metadata": {},
   "outputs": [],
   "source": [
    "# Callback function to display data or status events\n",
    "def display_event(eventType, event):\n",
    "    currentTime = datetime.datetime.now().time()\n",
    "    print(\"----------------------------------------------------------\")\n",
    "    print(\">>> {} event received at {}\".format(eventType, currentTime))\n",
    "    print(json.dumps(event, indent=2))\n",
    "    return"
   ]
  },
  {
   "cell_type": "markdown",
   "metadata": {},
   "source": [
    "### Create an OMM stream and register event callbacks"
   ]
  },
  {
   "cell_type": "code",
   "execution_count": 4,
   "metadata": {},
   "outputs": [
    {
     "data": {
      "text/plain": [
       "<refinitiv.data.delivery.omm_stream.OMMStream object at 0x7faa8e264130>"
      ]
     },
     "execution_count": 4,
     "metadata": {},
     "output_type": "execute_result"
    }
   ],
   "source": [
    "stream = omm_stream.Definition(\n",
    "    name=\"EUR=\", \n",
    "    fields=['BID', 'ASK','OPEN_PRC','HST_CLOSE','TIMACT'], \n",
    "    domain='MarketPrice').get_stream()\n",
    "\n",
    "# Refresh - the first full image we get back from the server\n",
    "stream.on_refresh(lambda event, item_stream  : display_event(\"Refresh\", event))\n",
    "\n",
    "# Update - as and when field values change, we receive updates from the server\n",
    "stream.on_update(lambda event, item_stream : display_event(\"Update\", event))\n",
    "\n",
    "# Status - if data goes stale or item closes, we get a status message\n",
    "stream.on_status(lambda event, item_stream : display_event(\"Status\", event))\n",
    "\n",
    "# Other errors\n",
    "stream.on_error(lambda event, item_stream : display_event(\"Error\", event))"
   ]
  },
  {
   "cell_type": "markdown",
   "metadata": {},
   "source": [
    "### Open the stream\n",
    "This example uses the open() synchronous call to open the stream. Because it is a synchronous call, the first notification (either via on_refresh(), on_status() or on_error()) happens before the open() method returns. If the open_async() asynchronous method is used instead, the first notification happens after open_async() returns."
   ]
  },
  {
   "cell_type": "code",
   "execution_count": 5,
   "metadata": {
    "scrolled": true,
    "tags": []
   },
   "outputs": [
    {
     "name": "stdout",
     "output_type": "stream",
     "text": [
      "----------------------------------------------------------\n",
      ">>> Refresh event received at 15:54:48.630131\n",
      "{\n",
      "  \"ID\": 5,\n",
      "  \"Type\": \"Refresh\",\n",
      "  \"Key\": {\n",
      "    \"Service\": \"IDN_RDFNTS_CF\",\n",
      "    \"Name\": \"EUR=\"\n",
      "  },\n",
      "  \"State\": {\n",
      "    \"Stream\": \"Open\",\n",
      "    \"Data\": \"Ok\",\n",
      "    \"Text\": \"New Session Mounted\"\n",
      "  },\n",
      "  \"Qos\": {\n",
      "    \"Timeliness\": \"Realtime\",\n",
      "    \"Rate\": \"JitConflated\"\n",
      "  },\n",
      "  \"PermData\": \"AwD+Umw=\",\n",
      "  \"SeqNumber\": 4478,\n",
      "  \"Fields\": {\n",
      "    \"BID\": 1.0566,\n",
      "    \"ASK\": 1.057,\n",
      "    \"OPEN_PRC\": 1.0525,\n",
      "    \"HST_CLOSE\": 1.0525,\n",
      "    \"TIMACT\": \"13:54:00\"\n",
      "  }\n",
      "}\n"
     ]
    },
    {
     "data": {
      "text/plain": [
       "<OpenState.Opened: 'Opened'>"
      ]
     },
     "execution_count": 5,
     "metadata": {},
     "output_type": "execute_result"
    },
    {
     "name": "stdout",
     "output_type": "stream",
     "text": [
      "----------------------------------------------------------\n",
      ">>> Update event received at 15:54:48.796412\n",
      "{\n",
      "  \"ID\": 5,\n",
      "  \"Type\": \"Update\",\n",
      "  \"UpdateType\": \"Unspecified\",\n",
      "  \"Key\": {\n",
      "    \"Service\": \"IDN_RDFNTS_CF\",\n",
      "    \"Name\": \"EUR=\"\n",
      "  },\n",
      "  \"SeqNumber\": 4542,\n",
      "  \"Fields\": {\n",
      "    \"BID\": 1.0567,\n",
      "    \"ASK\": 1.0568,\n",
      "    \"TIMACT\": \"13:54:00\"\n",
      "  }\n",
      "}\n",
      "----------------------------------------------------------\n",
      ">>> Update event received at 15:54:49.230649\n",
      "{\n",
      "  \"ID\": 5,\n",
      "  \"Type\": \"Update\",\n",
      "  \"UpdateType\": \"Unspecified\",\n",
      "  \"Key\": {\n",
      "    \"Service\": \"IDN_RDFNTS_CF\",\n",
      "    \"Name\": \"EUR=\"\n",
      "  },\n",
      "  \"SeqNumber\": 4558,\n",
      "  \"Fields\": {\n",
      "    \"BID\": 1.0565,\n",
      "    \"ASK\": 1.0569,\n",
      "    \"TIMACT\": \"13:54:00\"\n",
      "  }\n",
      "}\n",
      "----------------------------------------------------------\n",
      ">>> Update event received at 15:54:50.077639\n",
      "{\n",
      "  \"ID\": 5,\n",
      "  \"Type\": \"Update\",\n",
      "  \"UpdateType\": \"Unspecified\",\n",
      "  \"Key\": {\n",
      "    \"Service\": \"IDN_RDFNTS_CF\",\n",
      "    \"Name\": \"EUR=\"\n",
      "  },\n",
      "  \"SeqNumber\": 4622,\n",
      "  \"Fields\": {\n",
      "    \"BID\": 1.0567,\n",
      "    \"ASK\": 1.0569,\n",
      "    \"TIMACT\": \"13:54:00\"\n",
      "  }\n",
      "}\n",
      "----------------------------------------------------------\n",
      ">>> Update event received at 15:54:50.362833\n",
      "{\n",
      "  \"ID\": 5,\n",
      "  \"Type\": \"Update\",\n",
      "  \"UpdateType\": \"Unspecified\",\n",
      "  \"Key\": {\n",
      "    \"Service\": \"IDN_RDFNTS_CF\",\n",
      "    \"Name\": \"EUR=\"\n",
      "  },\n",
      "  \"SeqNumber\": 4734,\n",
      "  \"Fields\": {\n",
      "    \"BID\": 1.0566,\n",
      "    \"ASK\": 1.057,\n",
      "    \"TIMACT\": \"13:54:00\"\n",
      "  }\n",
      "}\n",
      "----------------------------------------------------------\n",
      ">>> Update event received at 15:54:51.413238\n",
      "{\n",
      "  \"ID\": 5,\n",
      "  \"Type\": \"Update\",\n",
      "  \"UpdateType\": \"Unspecified\",\n",
      "  \"Key\": {\n",
      "    \"Service\": \"IDN_RDFNTS_CF\",\n",
      "    \"Name\": \"EUR=\"\n",
      "  },\n",
      "  \"SeqNumber\": 4750,\n",
      "  \"Fields\": {\n",
      "    \"BID\": 1.0567,\n",
      "    \"ASK\": 1.0571,\n",
      "    \"TIMACT\": \"13:54:00\"\n",
      "  }\n",
      "}\n",
      "----------------------------------------------------------\n",
      ">>> Update event received at 15:54:52.030931\n",
      "{\n",
      "  \"ID\": 5,\n",
      "  \"Type\": \"Update\",\n",
      "  \"UpdateType\": \"Unspecified\",\n",
      "  \"Key\": {\n",
      "    \"Service\": \"IDN_RDFNTS_CF\",\n",
      "    \"Name\": \"EUR=\"\n",
      "  },\n",
      "  \"SeqNumber\": 4814,\n",
      "  \"Fields\": {\n",
      "    \"BID\": 1.0568,\n",
      "    \"ASK\": 1.057,\n",
      "    \"TIMACT\": \"13:54:00\"\n",
      "  }\n",
      "}\n",
      "----------------------------------------------------------\n",
      ">>> Update event received at 15:54:52.313042\n",
      "{\n",
      "  \"ID\": 5,\n",
      "  \"Type\": \"Update\",\n",
      "  \"UpdateType\": \"Unspecified\",\n",
      "  \"Key\": {\n",
      "    \"Service\": \"IDN_RDFNTS_CF\",\n",
      "    \"Name\": \"EUR=\"\n",
      "  },\n",
      "  \"SeqNumber\": 4926,\n",
      "  \"Fields\": {\n",
      "    \"BID\": 1.0566,\n",
      "    \"ASK\": 1.0568,\n",
      "    \"TIMACT\": \"13:54:00\"\n",
      "  }\n",
      "}\n",
      "----------------------------------------------------------\n",
      ">>> Update event received at 15:54:52.674279\n",
      "{\n",
      "  \"ID\": 5,\n",
      "  \"Type\": \"Update\",\n",
      "  \"UpdateType\": \"Unspecified\",\n",
      "  \"Key\": {\n",
      "    \"Service\": \"IDN_RDFNTS_CF\",\n",
      "    \"Name\": \"EUR=\"\n",
      "  },\n",
      "  \"SeqNumber\": 4990,\n",
      "  \"Fields\": {\n",
      "    \"BID\": 1.0568,\n",
      "    \"ASK\": 1.0569,\n",
      "    \"TIMACT\": \"13:54:00\"\n",
      "  }\n",
      "}\n",
      "----------------------------------------------------------\n",
      ">>> Update event received at 15:54:52.913356\n",
      "{\n",
      "  \"ID\": 5,\n",
      "  \"Type\": \"Update\",\n",
      "  \"UpdateType\": \"Unspecified\",\n",
      "  \"Key\": {\n",
      "    \"Service\": \"IDN_RDFNTS_CF\",\n",
      "    \"Name\": \"EUR=\"\n",
      "  },\n",
      "  \"SeqNumber\": 5054,\n",
      "  \"Fields\": {\n",
      "    \"BID\": 1.0566,\n",
      "    \"ASK\": 1.057,\n",
      "    \"TIMACT\": \"13:54:00\"\n",
      "  }\n",
      "}\n",
      "----------------------------------------------------------\n",
      ">>> Update event received at 15:54:53.351787\n",
      "{\n",
      "  \"ID\": 5,\n",
      "  \"Type\": \"Update\",\n",
      "  \"UpdateType\": \"Unspecified\",\n",
      "  \"Key\": {\n",
      "    \"Service\": \"IDN_RDFNTS_CF\",\n",
      "    \"Name\": \"EUR=\"\n",
      "  },\n",
      "  \"SeqNumber\": 5070,\n",
      "  \"Fields\": {\n",
      "    \"BID\": 1.0567,\n",
      "    \"ASK\": 1.0571,\n",
      "    \"TIMACT\": \"13:54:00\"\n",
      "  }\n",
      "}\n",
      "----------------------------------------------------------\n",
      ">>> Update event received at 15:54:53.596081\n",
      "{\n",
      "  \"ID\": 5,\n",
      "  \"Type\": \"Update\",\n",
      "  \"UpdateType\": \"Unspecified\",\n",
      "  \"Key\": {\n",
      "    \"Service\": \"IDN_RDFNTS_CF\",\n",
      "    \"Name\": \"EUR=\"\n",
      "  },\n",
      "  \"SeqNumber\": 5182,\n",
      "  \"Fields\": {\n",
      "    \"BID\": 1.0568,\n",
      "    \"ASK\": 1.057,\n",
      "    \"TIMACT\": \"13:54:00\"\n",
      "  }\n",
      "}\n",
      "----------------------------------------------------------\n",
      ">>> Update event received at 15:54:53.865179\n",
      "{\n",
      "  \"ID\": 5,\n",
      "  \"Type\": \"Update\",\n",
      "  \"UpdateType\": \"Unspecified\",\n",
      "  \"Key\": {\n",
      "    \"Service\": \"IDN_RDFNTS_CF\",\n",
      "    \"Name\": \"EUR=\"\n",
      "  },\n",
      "  \"SeqNumber\": 5310,\n",
      "  \"Fields\": {\n",
      "    \"BID\": 1.0567,\n",
      "    \"ASK\": 1.0569,\n",
      "    \"TIMACT\": \"13:54:00\"\n",
      "  }\n",
      "}\n",
      "----------------------------------------------------------\n",
      ">>> Update event received at 15:54:54.702335\n",
      "{\n",
      "  \"ID\": 5,\n",
      "  \"Type\": \"Update\",\n",
      "  \"UpdateType\": \"Unspecified\",\n",
      "  \"Key\": {\n",
      "    \"Service\": \"IDN_RDFNTS_CF\",\n",
      "    \"Name\": \"EUR=\"\n",
      "  },\n",
      "  \"SeqNumber\": 5326,\n",
      "  \"Fields\": {\n",
      "    \"BID\": 1.0566,\n",
      "    \"ASK\": 1.057,\n",
      "    \"TIMACT\": \"13:54:00\"\n",
      "  }\n",
      "}\n"
     ]
    }
   ],
   "source": [
    "# Send request to server and open stream\n",
    "stream.open()\n",
    "# We should receive the initial Refresh for the current field values\n",
    "# followed by updates for the fields as and when they occur"
   ]
  },
  {
   "cell_type": "markdown",
   "metadata": {},
   "source": [
    "### Close the stream"
   ]
  },
  {
   "cell_type": "code",
   "execution_count": 6,
   "metadata": {},
   "outputs": [
    {
     "name": "stdout",
     "output_type": "stream",
     "text": [
      "----------------------------------------------------------\n",
      ">>> Update event received at 15:54:55.271527\n",
      "{\n",
      "  \"ID\": 5,\n",
      "  \"Type\": \"Update\",\n",
      "  \"UpdateType\": \"Unspecified\",\n",
      "  \"Key\": {\n",
      "    \"Service\": \"IDN_RDFNTS_CF\",\n",
      "    \"Name\": \"EUR=\"\n",
      "  },\n",
      "  \"SeqNumber\": 5438,\n",
      "  \"Fields\": {\n",
      "    \"BID\": 1.0568,\n",
      "    \"ASK\": 1.0569,\n",
      "    \"TIMACT\": \"13:54:00\"\n",
      "  }\n",
      "}\n"
     ]
    },
    {
     "data": {
      "text/plain": [
       "<OpenState.Closed: 'Closed'>"
      ]
     },
     "execution_count": 6,
     "metadata": {},
     "output_type": "execute_result"
    }
   ],
   "source": [
    "stream.close()"
   ]
  },
  {
   "cell_type": "markdown",
   "metadata": {},
   "source": [
    "## Close the session"
   ]
  },
  {
   "cell_type": "code",
   "execution_count": 7,
   "metadata": {},
   "outputs": [],
   "source": [
    "rd.close_session()"
   ]
  },
  {
   "cell_type": "code",
   "execution_count": null,
   "metadata": {},
   "outputs": [],
   "source": []
  }
 ],
 "metadata": {
  "kernelspec": {
   "display_name": "Python 3 (ipykernel)",
   "language": "python",
   "name": "python3"
  },
  "language_info": {
   "codemirror_mode": {
    "name": "ipython",
    "version": 3
   },
   "file_extension": ".py",
   "mimetype": "text/x-python",
   "name": "python",
   "nbconvert_exporter": "python",
   "pygments_lexer": "ipython3",
   "version": "3.9.7"
  }
 },
 "nbformat": 4,
 "nbformat_minor": 4
}
