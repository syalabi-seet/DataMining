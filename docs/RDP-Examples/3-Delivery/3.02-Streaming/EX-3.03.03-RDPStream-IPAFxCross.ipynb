{
 "cells": [
  {
   "cell_type": "markdown",
   "metadata": {},
   "source": [
    "----\n",
    "<img src=\"../../../files/refinitiv.png\" width=\"20%\" style=\"vertical-align: top;\">\n",
    "\n",
    "# Data Library for Python\n",
    "\n",
    "----"
   ]
  },
  {
   "cell_type": "markdown",
   "metadata": {},
   "source": [
    "## Delivery layer - RDP Stream - IPA FX Cross\n",
    "This notebook demonstrates how to use an RDP stream to subscribe to an FX Cross Intrument Pricing Analytic."
   ]
  },
  {
   "cell_type": "markdown",
   "metadata": {},
   "source": [
    "#### Learn more\n",
    "\n",
    "To learn more about the Refinitiv Data Library for Python please join the Refinitiv Developer Community. By [registering](https://developers.refinitiv.com/iam/register) and [logging](https://developers.refinitiv.com/content/devportal/en_us/initCookie.html) into the Refinitiv Developer Community portal you will have free access to a number of learning materials like \n",
    " [Quick Start guides](https://developers.refinitiv.com/en/api-catalog/refinitiv-data-platform/refinitiv-data-library-for-python/quick-start), \n",
    " [Tutorials](https://developers.refinitiv.com/en/api-catalog/refinitiv-data-platform/refinitiv-data-library-for-python/learning), \n",
    " [Documentation](https://developers.refinitiv.com/en/api-catalog/refinitiv-data-platform/refinitiv-data-library-for-python/docs)\n",
    " and much more.\n",
    "\n",
    "#### Getting Help and Support\n",
    "\n",
    "If you have any questions regarding using the API, please post them on \n",
    "the [Refinitiv Data Q&A Forum](https://community.developers.refinitiv.com/spaces/321/index.html). \n",
    "The Refinitiv Developer Community will be happy to help. "
   ]
  },
  {
   "cell_type": "markdown",
   "metadata": {},
   "source": [
    "## Set the configuration file location\n",
    "For a better ease of use, you have the option to set initialization parameters of the Refinitiv Data Library in the _refinitiv-data.config.json_ configuration file. This file must be located beside your notebook, in your user folder or in a folder defined by the _RD_LIB_CONFIG_PATH_ environment variable. The _RD_LIB_CONFIG_PATH_ environment variable is the option used by this series of examples. The following code sets this environment variable.      "
   ]
  },
  {
   "cell_type": "code",
   "execution_count": 1,
   "metadata": {},
   "outputs": [],
   "source": [
    "import os\n",
    "os.environ[\"RD_LIB_CONFIG_PATH\"] = \"../../../Configuration\""
   ]
  },
  {
   "cell_type": "markdown",
   "metadata": {},
   "source": [
    "## Some Imports to start with"
   ]
  },
  {
   "cell_type": "code",
   "execution_count": 2,
   "metadata": {},
   "outputs": [],
   "source": [
    "import refinitiv.data as rd\n",
    "from refinitiv.data.delivery import rdp_stream\n",
    "import datetime"
   ]
  },
  {
   "cell_type": "markdown",
   "metadata": {},
   "source": [
    "## Open the data session\n",
    "\n",
    "The open_session() function creates and open sessions based on the information contained in the refinitiv-data.config.json configuration file. Please edit this file to set the session type and other parameters required for the session you want to open."
   ]
  },
  {
   "cell_type": "code",
   "execution_count": 3,
   "metadata": {},
   "outputs": [
    {
     "data": {
      "text/plain": [
       "<refinitiv.data.session.Definition object at 0x7fcf6d2142b0 {name='workspace'}>"
      ]
     },
     "execution_count": 3,
     "metadata": {},
     "output_type": "execute_result"
    }
   ],
   "source": [
    "rd.open_session()"
   ]
  },
  {
   "cell_type": "markdown",
   "metadata": {},
   "source": [
    "## Retrieve data"
   ]
  },
  {
   "cell_type": "markdown",
   "metadata": {},
   "source": [
    "### Define a calback to display received events"
   ]
  },
  {
   "cell_type": "code",
   "execution_count": 4,
   "metadata": {
    "tags": []
   },
   "outputs": [],
   "source": [
    "def display_event(event, eventType):\n",
    "    currentTime = datetime.datetime.now().time()\n",
    "    print(\"----------------------------------------------------------\")\n",
    "    print(\">>> {} event received at {}\".format(eventType, currentTime))\n",
    "    print(event)"
   ]
  },
  {
   "cell_type": "markdown",
   "metadata": {},
   "source": [
    "### Create an RDP stream and register event callbacks"
   ]
  },
  {
   "cell_type": "code",
   "execution_count": 5,
   "metadata": {},
   "outputs": [],
   "source": [
    "stream = rdp_stream.Definition(\n",
    "    service = None,\n",
    "    api = \"streaming/quantitative-analytics/financial-contracts\",\n",
    "    universe = {\n",
    "        \"instrumentType\": \"FxCross\", \n",
    "        \"instrumentDefinition\": {\n",
    "            \"instrumentTag\": \"USDAUD\", \n",
    "            \"fxCrossType\": \"FxSpot\", \n",
    "            \"fxCrossCode\": \"USDAUD\"\n",
    "        }\n",
    "    }, \n",
    "    parameters = None,\n",
    "    extended_params = {\n",
    "        \"marketData\": {\n",
    "            \"fxSpots\": [\n",
    "                {\n",
    "                    \"spotDefinition\": {\n",
    "                        \"fxCrossCode\": \"AUDUSD\", \n",
    "                        \"Source\": \"Composite\"\n",
    "                    }\n",
    "                }\n",
    "            ]\n",
    "        }\n",
    "    },\n",
    "    view = [\"InstrumentTag\", \"FxSpot_BidMidAsk\", \"ErrorCode\", \"Ccy1SpotDate\", \"Ccy2SpotDate\"],\n",
    ").get_stream()"
   ]
  },
  {
   "cell_type": "code",
   "execution_count": 6,
   "metadata": {},
   "outputs": [
    {
     "data": {
      "text/plain": [
       "<refinitiv.data.delivery.rdp_stream.RDPStream object at 0x7fcf6d2546d0>"
      ]
     },
     "execution_count": 6,
     "metadata": {},
     "output_type": "execute_result"
    }
   ],
   "source": [
    "stream.on_response(lambda event, stream: display_event(event, 'response'))\n",
    "stream.on_update(lambda event, stream: display_event(event, 'update'))\n",
    "stream.on_alarm(lambda event, stream: display_event(event, 'alarm'))"
   ]
  },
  {
   "cell_type": "markdown",
   "metadata": {},
   "source": [
    "### Open the stream\n",
    "This example uses the open() synchronous call to open the stream. Because it is a synchronous call, the first notification (either via on_refresh(), on_status() or on_error()) happens before the open() method returns. If the open_async() asynchronous method is used instead, the first notification happens after open_async() returns."
   ]
  },
  {
   "cell_type": "code",
   "execution_count": 7,
   "metadata": {},
   "outputs": [
    {
     "name": "stdout",
     "output_type": "stream",
     "text": [
      "----------------------------------------------------------\n",
      ">>> response event received at 16:01:20.027907\n",
      "{'data': [['USDAUD', {'bid': 1.443001443001443, 'ask': 1.443418013856813, 'mid': 1.443209728429128, 'processingInformation': ''}, '', '2022-06-24', '2022-06-24']], 'type': 'Response', 'streamID': '5'}\n"
     ]
    },
    {
     "data": {
      "text/plain": [
       "<OpenState.Opened: 'Opened'>"
      ]
     },
     "execution_count": 7,
     "metadata": {},
     "output_type": "execute_result"
    },
    {
     "name": "stdout",
     "output_type": "stream",
     "text": [
      "----------------------------------------------------------\n",
      ">>> update event received at 16:01:20.954244\n",
      "{'data': [['USDAUD', {'bid': 1.443001443001443, 'ask': 1.4432096983691731, 'mid': 1.443105570685308, 'processingInformation': ''}, '', '2022-06-24', '2022-06-24']], 'type': 'Update', 'streamID': '5'}\n",
      "----------------------------------------------------------\n",
      ">>> update event received at 16:01:21.960001\n",
      "{'data': [['USDAUD', {'bid': 1.4427932477276004, 'ask': 1.443001443001443, 'mid': 1.4428973453645217, 'processingInformation': ''}, '', '2022-06-24', '2022-06-24']], 'type': 'Update', 'streamID': '5'}\n",
      "----------------------------------------------------------\n",
      ">>> update event received at 16:01:22.957102\n",
      "{'data': [['USDAUD', {'bid': 1.4432096983691731, 'ask': 1.443418013856813, 'mid': 1.443313856112993, 'processingInformation': ''}, '', '2022-06-24', '2022-06-24']], 'type': 'Update', 'streamID': '5'}\n",
      "----------------------------------------------------------\n",
      ">>> update event received at 16:01:23.964424\n",
      "{'data': [['USDAUD', {'bid': 1.4432096983691731, 'ask': 1.443418013856813, 'mid': 1.443313856112993, 'processingInformation': ''}, '', '2022-06-24', '2022-06-24']], 'type': 'Update', 'streamID': '5'}\n"
     ]
    }
   ],
   "source": [
    "stream.open()"
   ]
  },
  {
   "cell_type": "markdown",
   "metadata": {},
   "source": [
    "### Close the stream"
   ]
  },
  {
   "cell_type": "code",
   "execution_count": 8,
   "metadata": {},
   "outputs": [
    {
     "data": {
      "text/plain": [
       "<OpenState.Closed: 'Closed'>"
      ]
     },
     "execution_count": 8,
     "metadata": {},
     "output_type": "execute_result"
    }
   ],
   "source": [
    "stream.close()"
   ]
  },
  {
   "cell_type": "markdown",
   "metadata": {},
   "source": [
    "## Close the session"
   ]
  },
  {
   "cell_type": "code",
   "execution_count": 9,
   "metadata": {},
   "outputs": [],
   "source": [
    "rd.close_session()"
   ]
  },
  {
   "cell_type": "code",
   "execution_count": null,
   "metadata": {},
   "outputs": [],
   "source": []
  }
 ],
 "metadata": {
  "kernelspec": {
   "display_name": "Python 3 (ipykernel)",
   "language": "python",
   "name": "python3"
  },
  "language_info": {
   "codemirror_mode": {
    "name": "ipython",
    "version": 3
   },
   "file_extension": ".py",
   "mimetype": "text/x-python",
   "name": "python",
   "nbconvert_exporter": "python",
   "pygments_lexer": "ipython3",
   "version": "3.9.7"
  }
 },
 "nbformat": 4,
 "nbformat_minor": 4
}
