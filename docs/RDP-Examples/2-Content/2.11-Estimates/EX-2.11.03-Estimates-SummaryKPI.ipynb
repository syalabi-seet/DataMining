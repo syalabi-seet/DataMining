{
 "cells": [
  {
   "cell_type": "markdown",
   "metadata": {},
   "source": [
    "----\n",
    "<img src=\"../../../files/refinitiv.png\" width=\"20%\" style=\"vertical-align: top;\">\n",
    "\n",
    "# Data Library for Python\n",
    "\n",
    "----"
   ]
  },
  {
   "cell_type": "markdown",
   "metadata": {
    "tags": []
   },
   "source": [
    "## Content layer - Estimates - Summary KPI\n",
    "This notebook demonstrates how to retrieve Estimates.\n",
    "\n",
    "I/B/E/S (Institutional Brokers' Estimate System) delivers a complete suite of Estimates content with a global view and is the largest contributor base in the industry. RDP I/B/E/S Estimates API provides information about consensus and aggregates data(26 generic measures, 23 KPI measures), company guidance data and advanced analytics. With over 40 years of collection experience and extensive quality controls that include thousands of automated error checks and stringent manual analysis, RDP I/B/E/S gives the clients the content they need for superior insight, research and investment decision making.\n",
    "\n",
    "The I/B/E/S database currently covers over 56,000 companies in 100 markets.\n",
    "More than 900 firms contribute data to I/B/E/S, from the largest global houses to regional and local brokers, with US data back to 1976 and international data back to 1987."
   ]
  },
  {
   "cell_type": "markdown",
   "metadata": {},
   "source": [
    "#### Learn more\n",
    "\n",
    "To learn more about the Refinitiv Data Library for Python please join the Refinitiv Developer Community. By [registering](https://developers.refinitiv.com/iam/register) and [logging](https://developers.refinitiv.com/content/devportal/en_us/initCookie.html) into the Refinitiv Developer Community portal you will have free access to a number of learning materials like \n",
    " [Quick Start guides](https://developers.refinitiv.com/en/api-catalog/refinitiv-data-platform/refinitiv-data-library-for-python/quick-start), \n",
    " [Tutorials](https://developers.refinitiv.com/en/api-catalog/refinitiv-data-platform/refinitiv-data-library-for-python/learning), \n",
    " [Documentation](https://developers.refinitiv.com/en/api-catalog/refinitiv-data-platform/refinitiv-data-library-for-python/docs)\n",
    " and much more.\n",
    "\n",
    "#### Getting Help and Support\n",
    "\n",
    "If you have any questions regarding using the API, please post them on \n",
    "the [Refinitiv Data Q&A Forum](https://community.developers.refinitiv.com/spaces/321/index.html). \n",
    "The Refinitiv Developer Community will be happy to help. \n",
    "\n",
    "----"
   ]
  },
  {
   "cell_type": "markdown",
   "metadata": {
    "tags": []
   },
   "source": [
    "## Set the configuration file location\n",
    "For a better ease of use, you have the option to set initialization parameters of the Refinitiv Data Library in the _refinitiv-data.config.json_ configuration file. This file must be located beside your notebook, in your user folder or in a folder defined by the _RD_LIB_CONFIG_PATH_ environment variable. The _RD_LIB_CONFIG_PATH_ environment variable is the option used by this series of examples. The following code sets this environment variable.      "
   ]
  },
  {
   "cell_type": "code",
   "execution_count": 1,
   "metadata": {},
   "outputs": [],
   "source": [
    "import os\n",
    "os.environ[\"RD_LIB_CONFIG_PATH\"] = \"../../../Configuration\""
   ]
  },
  {
   "cell_type": "markdown",
   "metadata": {},
   "source": [
    "## Some Imports to start with"
   ]
  },
  {
   "cell_type": "code",
   "execution_count": 1,
   "metadata": {
    "collapsed": false,
    "jupyter": {
     "outputs_hidden": false
    },
    "pycharm": {
     "name": "#%%\n"
    }
   },
   "outputs": [],
   "source": [
    "import refinitiv.data as rd\n",
    "from refinitiv.data.content import estimates"
   ]
  },
  {
   "cell_type": "markdown",
   "metadata": {},
   "source": [
    "## Open the data session\n",
    "\n",
    "The open_session() function creates and open sessions based on the information contained in the refinitiv-data.config.json configuration file. Please edit this file to set the session type and other parameters required for the session you want to open."
   ]
  },
  {
   "cell_type": "code",
   "execution_count": 2,
   "metadata": {
    "collapsed": false,
    "jupyter": {
     "outputs_hidden": false
    },
    "pycharm": {
     "name": "#%%\n"
    }
   },
   "outputs": [
    {
     "data": {
      "text/plain": [
       "<refinitiv.data.session.platform.Definition object at 0x7fb5751ed130 {session_name='rdp'}>"
      ]
     },
     "execution_count": 2,
     "metadata": {},
     "output_type": "execute_result"
    }
   ],
   "source": [
    "rd.open_session(\"platform.rdp\")"
   ]
  },
  {
   "cell_type": "markdown",
   "metadata": {},
   "source": [
    "## Retrieve Data"
   ]
  },
  {
   "cell_type": "markdown",
   "metadata": {},
   "source": [
    "### Summary KPI - Annual"
   ]
  },
  {
   "cell_type": "code",
   "execution_count": 3,
   "metadata": {
    "collapsed": false,
    "jupyter": {
     "outputs_hidden": false
    },
    "pycharm": {
     "name": "#%%\n"
    }
   },
   "outputs": [
    {
     "data": {
      "text/html": [
       "<div>\n",
       "<style scoped>\n",
       "    .dataframe tbody tr th:only-of-type {\n",
       "        vertical-align: middle;\n",
       "    }\n",
       "\n",
       "    .dataframe tbody tr th {\n",
       "        vertical-align: top;\n",
       "    }\n",
       "\n",
       "    .dataframe thead th {\n",
       "        text-align: right;\n",
       "    }\n",
       "</style>\n",
       "<table border=\"1\" class=\"dataframe\">\n",
       "  <thead>\n",
       "    <tr style=\"text-align: right;\">\n",
       "      <th></th>\n",
       "      <th>Instrument</th>\n",
       "      <th>Period End Date</th>\n",
       "      <th>Financial Period Absolute</th>\n",
       "      <th>Financial Period Relative</th>\n",
       "      <th>Non Performing Loan - High</th>\n",
       "      <th>Non Performing Loan - Low</th>\n",
       "      <th>Non Performing Loan - Mean</th>\n",
       "      <th>Non Performing Loan - Median</th>\n",
       "      <th>Non Performing Loan - Num Inc Est</th>\n",
       "      <th>Non Performing Loan - Num of Est</th>\n",
       "      <th>Non Performing Loan - Std Dev</th>\n",
       "      <th>Core Tier 1 Capital Ratio - High</th>\n",
       "      <th>Core Tier 1 Capital Ratio - Low</th>\n",
       "      <th>Core Tier 1 Capital Ratio - Mean</th>\n",
       "      <th>Core Tier 1 Capital Ratio - Median</th>\n",
       "      <th>Core Tier 1 Capital Ratio - Num Inc Est</th>\n",
       "      <th>Core Tier 1 Capital Ratio - Num of Est</th>\n",
       "      <th>Core Tier 1 Capital Ratio - StdDev</th>\n",
       "    </tr>\n",
       "  </thead>\n",
       "  <tbody>\n",
       "    <tr>\n",
       "      <th>0</th>\n",
       "      <td>BNPP.PA</td>\n",
       "      <td>2023-12-31</td>\n",
       "      <td>FY2023</td>\n",
       "      <td>FY2</td>\n",
       "      <td>30000000000</td>\n",
       "      <td>0</td>\n",
       "      <td>20408600000</td>\n",
       "      <td>25817200000</td>\n",
       "      <td>4</td>\n",
       "      <td>4</td>\n",
       "      <td>12042915020</td>\n",
       "      <td>112687000000</td>\n",
       "      <td>98974000000</td>\n",
       "      <td>105880250000</td>\n",
       "      <td>106720500000</td>\n",
       "      <td>8</td>\n",
       "      <td>8</td>\n",
       "      <td>4322333850</td>\n",
       "    </tr>\n",
       "    <tr>\n",
       "      <th>1</th>\n",
       "      <td>BNPP.PA</td>\n",
       "      <td>2022-12-31</td>\n",
       "      <td>FY2022</td>\n",
       "      <td>FY1</td>\n",
       "      <td>29000000000</td>\n",
       "      <td>0</td>\n",
       "      <td>20207000000</td>\n",
       "      <td>25914000000</td>\n",
       "      <td>4</td>\n",
       "      <td>4</td>\n",
       "      <td>11835438040</td>\n",
       "      <td>105882000000</td>\n",
       "      <td>95378000000</td>\n",
       "      <td>102052125000</td>\n",
       "      <td>103331000000</td>\n",
       "      <td>8</td>\n",
       "      <td>8</td>\n",
       "      <td>3222233020</td>\n",
       "    </tr>\n",
       "    <tr>\n",
       "      <th>2</th>\n",
       "      <td>BNPP.PA</td>\n",
       "      <td>2021-12-31</td>\n",
       "      <td>FY2021</td>\n",
       "      <td>FY0</td>\n",
       "      <td>30372000000</td>\n",
       "      <td>24465000000</td>\n",
       "      <td>28279000000</td>\n",
       "      <td>30000000000</td>\n",
       "      <td>3</td>\n",
       "      <td>4</td>\n",
       "      <td>2701177890</td>\n",
       "      <td>102522000000</td>\n",
       "      <td>92509000000</td>\n",
       "      <td>97418714290</td>\n",
       "      <td>99287000000</td>\n",
       "      <td>7</td>\n",
       "      <td>8</td>\n",
       "      <td>4072981070</td>\n",
       "    </tr>\n",
       "    <tr>\n",
       "      <th>3</th>\n",
       "      <td>BNPP.PA</td>\n",
       "      <td>2020-12-31</td>\n",
       "      <td>FY2020</td>\n",
       "      <td>FY-1</td>\n",
       "      <td>30086000000</td>\n",
       "      <td>23331000000</td>\n",
       "      <td>27805666670</td>\n",
       "      <td>30000000000</td>\n",
       "      <td>3</td>\n",
       "      <td>4</td>\n",
       "      <td>3164261930</td>\n",
       "      <td>99033000000</td>\n",
       "      <td>87630000000</td>\n",
       "      <td>94676833330</td>\n",
       "      <td>96721500000</td>\n",
       "      <td>6</td>\n",
       "      <td>6</td>\n",
       "      <td>4288460460</td>\n",
       "    </tr>\n",
       "  </tbody>\n",
       "</table>\n",
       "</div>"
      ],
      "text/plain": [
       "  Instrument Period End Date Financial Period Absolute  \\\n",
       "0    BNPP.PA      2023-12-31                    FY2023   \n",
       "1    BNPP.PA      2022-12-31                    FY2022   \n",
       "2    BNPP.PA      2021-12-31                    FY2021   \n",
       "3    BNPP.PA      2020-12-31                    FY2020   \n",
       "\n",
       "  Financial Period Relative Non Performing Loan - High  \\\n",
       "0                       FY2                30000000000   \n",
       "1                       FY1                29000000000   \n",
       "2                       FY0                30372000000   \n",
       "3                      FY-1                30086000000   \n",
       "\n",
       "  Non Performing Loan - Low Non Performing Loan - Mean  \\\n",
       "0                         0                20408600000   \n",
       "1                         0                20207000000   \n",
       "2               24465000000                28279000000   \n",
       "3               23331000000                27805666670   \n",
       "\n",
       "  Non Performing Loan - Median Non Performing Loan - Num Inc Est  \\\n",
       "0                  25817200000                                 4   \n",
       "1                  25914000000                                 4   \n",
       "2                  30000000000                                 3   \n",
       "3                  30000000000                                 3   \n",
       "\n",
       "  Non Performing Loan - Num of Est Non Performing Loan - Std Dev  \\\n",
       "0                                4                   12042915020   \n",
       "1                                4                   11835438040   \n",
       "2                                4                    2701177890   \n",
       "3                                4                    3164261930   \n",
       "\n",
       "  Core Tier 1 Capital Ratio - High Core Tier 1 Capital Ratio - Low  \\\n",
       "0                     112687000000                     98974000000   \n",
       "1                     105882000000                     95378000000   \n",
       "2                     102522000000                     92509000000   \n",
       "3                      99033000000                     87630000000   \n",
       "\n",
       "  Core Tier 1 Capital Ratio - Mean Core Tier 1 Capital Ratio - Median  \\\n",
       "0                     105880250000                       106720500000   \n",
       "1                     102052125000                       103331000000   \n",
       "2                      97418714290                        99287000000   \n",
       "3                      94676833330                        96721500000   \n",
       "\n",
       "  Core Tier 1 Capital Ratio - Num Inc Est  \\\n",
       "0                                       8   \n",
       "1                                       8   \n",
       "2                                       7   \n",
       "3                                       6   \n",
       "\n",
       "  Core Tier 1 Capital Ratio - Num of Est Core Tier 1 Capital Ratio - StdDev  \n",
       "0                                      8                         4322333850  \n",
       "1                                      8                         3222233020  \n",
       "2                                      8                         4072981070  \n",
       "3                                      6                         4288460460  "
      ]
     },
     "execution_count": 3,
     "metadata": {},
     "output_type": "execute_result"
    }
   ],
   "source": [
    "response = estimates.view_summary_kpi.annual.Definition(\"BNPP.PA\").get_data()\n",
    "response.data.df"
   ]
  },
  {
   "cell_type": "markdown",
   "metadata": {},
   "source": [
    "### Summary KPI - Historical snapshots KPI"
   ]
  },
  {
   "cell_type": "code",
   "execution_count": 4,
   "metadata": {
    "collapsed": false,
    "jupyter": {
     "outputs_hidden": false
    },
    "pycharm": {
     "name": "#%%\n"
    }
   },
   "outputs": [
    {
     "data": {
      "text/html": [
       "<div>\n",
       "<style scoped>\n",
       "    .dataframe tbody tr th:only-of-type {\n",
       "        vertical-align: middle;\n",
       "    }\n",
       "\n",
       "    .dataframe tbody tr th {\n",
       "        vertical-align: top;\n",
       "    }\n",
       "\n",
       "    .dataframe thead th {\n",
       "        text-align: right;\n",
       "    }\n",
       "</style>\n",
       "<table border=\"1\" class=\"dataframe\">\n",
       "  <thead>\n",
       "    <tr style=\"text-align: right;\">\n",
       "      <th></th>\n",
       "      <th>Instrument</th>\n",
       "      <th>Period End Date</th>\n",
       "      <th>Financial Period Absolute</th>\n",
       "      <th>Financial Period Relative</th>\n",
       "      <th>Tier 1 Capital Ratio -Current</th>\n",
       "      <th>Tier 1 Capital Ratio - 1 Week Ago</th>\n",
       "      <th>Tier 1 Capital Ratio - 1 Month Ago</th>\n",
       "      <th>Tier 1 Capital Ratio - 2 Months Ago</th>\n",
       "      <th>Tier 1 Capital Ratio - 3 Months Ago</th>\n",
       "      <th>Tier 1 Capital Ratio - 4 Months Ago</th>\n",
       "      <th>...</th>\n",
       "      <th>Non-Performing Loans - 3 Months Ago</th>\n",
       "      <th>Non-Performing Loans - 4 Months Ago</th>\n",
       "      <th>Non-Performing Loans - 5 Months Ago</th>\n",
       "      <th>Non-Performing Loans - 6 Months Ago</th>\n",
       "      <th>Non-Performing Loans - 7 Months Ago</th>\n",
       "      <th>Non-Performing Loans - 8 Months Ago</th>\n",
       "      <th>Non-Performing Loans - 9 Months Ago</th>\n",
       "      <th>Non-Performing Loans - 10 Months Ago</th>\n",
       "      <th>Non-Performing Loans - 11 Months Ago</th>\n",
       "      <th>Non-Performing Loans - 12 Months Ago</th>\n",
       "    </tr>\n",
       "  </thead>\n",
       "  <tbody>\n",
       "    <tr>\n",
       "      <th>0</th>\n",
       "      <td>BNPP.PA</td>\n",
       "      <td>2022-12-31</td>\n",
       "      <td>FY2022</td>\n",
       "      <td>FY1</td>\n",
       "      <td>13.74</td>\n",
       "      <td>13.74</td>\n",
       "      <td>13.59455</td>\n",
       "      <td>13.10333</td>\n",
       "      <td>13.18546</td>\n",
       "      <td>13.18546</td>\n",
       "      <td>...</td>\n",
       "      <td>21351500000</td>\n",
       "      <td>21351500000</td>\n",
       "      <td>21351500000</td>\n",
       "      <td>21351500000</td>\n",
       "      <td>21351500000</td>\n",
       "      <td>21351500000</td>\n",
       "      <td>21101500000</td>\n",
       "      <td>21101500000</td>\n",
       "      <td>21101500000</td>\n",
       "      <td>21368750000</td>\n",
       "    </tr>\n",
       "    <tr>\n",
       "      <th>1</th>\n",
       "      <td>BNPP.PA</td>\n",
       "      <td>2023-12-31</td>\n",
       "      <td>FY2023</td>\n",
       "      <td>FY2</td>\n",
       "      <td>13.97</td>\n",
       "      <td>13.97</td>\n",
       "      <td>13.81</td>\n",
       "      <td>13.18182</td>\n",
       "      <td>13.22</td>\n",
       "      <td>13.22</td>\n",
       "      <td>...</td>\n",
       "      <td>21559600000</td>\n",
       "      <td>21559600000</td>\n",
       "      <td>21559600000</td>\n",
       "      <td>21309600000</td>\n",
       "      <td>21309600000</td>\n",
       "      <td>21309600000</td>\n",
       "      <td>21309600000</td>\n",
       "      <td>21309600000</td>\n",
       "      <td>21309600000</td>\n",
       "      <td>30982000000</td>\n",
       "    </tr>\n",
       "  </tbody>\n",
       "</table>\n",
       "<p>2 rows × 32 columns</p>\n",
       "</div>"
      ],
      "text/plain": [
       "  Instrument Period End Date Financial Period Absolute  \\\n",
       "0    BNPP.PA      2022-12-31                    FY2022   \n",
       "1    BNPP.PA      2023-12-31                    FY2023   \n",
       "\n",
       "  Financial Period Relative Tier 1 Capital Ratio -Current  \\\n",
       "0                       FY1                         13.74   \n",
       "1                       FY2                         13.97   \n",
       "\n",
       "  Tier 1 Capital Ratio - 1 Week Ago Tier 1 Capital Ratio - 1 Month Ago  \\\n",
       "0                             13.74                           13.59455   \n",
       "1                             13.97                              13.81   \n",
       "\n",
       "  Tier 1 Capital Ratio - 2 Months Ago Tier 1 Capital Ratio - 3 Months Ago  \\\n",
       "0                            13.10333                            13.18546   \n",
       "1                            13.18182                               13.22   \n",
       "\n",
       "  Tier 1 Capital Ratio - 4 Months Ago  ...  \\\n",
       "0                            13.18546  ...   \n",
       "1                               13.22  ...   \n",
       "\n",
       "  Non-Performing Loans - 3 Months Ago Non-Performing Loans - 4 Months Ago  \\\n",
       "0                         21351500000                         21351500000   \n",
       "1                         21559600000                         21559600000   \n",
       "\n",
       "  Non-Performing Loans - 5 Months Ago Non-Performing Loans - 6 Months Ago  \\\n",
       "0                         21351500000                         21351500000   \n",
       "1                         21559600000                         21309600000   \n",
       "\n",
       "  Non-Performing Loans - 7 Months Ago Non-Performing Loans - 8 Months Ago  \\\n",
       "0                         21351500000                         21351500000   \n",
       "1                         21309600000                         21309600000   \n",
       "\n",
       "  Non-Performing Loans - 9 Months Ago Non-Performing Loans - 10 Months Ago  \\\n",
       "0                         21101500000                          21101500000   \n",
       "1                         21309600000                          21309600000   \n",
       "\n",
       "  Non-Performing Loans - 11 Months Ago Non-Performing Loans - 12 Months Ago  \n",
       "0                          21101500000                          21368750000  \n",
       "1                          21309600000                          30982000000  \n",
       "\n",
       "[2 rows x 32 columns]"
      ]
     },
     "execution_count": 4,
     "metadata": {},
     "output_type": "execute_result"
    }
   ],
   "source": [
    "response = estimates.view_summary_kpi.historical_snapshots_kpi.Definition(\"BNPP.PA\").get_data()\n",
    "response.data.df"
   ]
  },
  {
   "cell_type": "markdown",
   "metadata": {},
   "source": [
    "### Summary KPI - Interim"
   ]
  },
  {
   "cell_type": "code",
   "execution_count": 5,
   "metadata": {
    "collapsed": false,
    "jupyter": {
     "outputs_hidden": false
    },
    "pycharm": {
     "name": "#%%\n"
    }
   },
   "outputs": [
    {
     "data": {
      "text/html": [
       "<div>\n",
       "<style scoped>\n",
       "    .dataframe tbody tr th:only-of-type {\n",
       "        vertical-align: middle;\n",
       "    }\n",
       "\n",
       "    .dataframe tbody tr th {\n",
       "        vertical-align: top;\n",
       "    }\n",
       "\n",
       "    .dataframe thead th {\n",
       "        text-align: right;\n",
       "    }\n",
       "</style>\n",
       "<table border=\"1\" class=\"dataframe\">\n",
       "  <thead>\n",
       "    <tr style=\"text-align: right;\">\n",
       "      <th></th>\n",
       "      <th>Instrument</th>\n",
       "      <th>Period End Date</th>\n",
       "      <th>Financial Period Absolute</th>\n",
       "      <th>Financial Period Relative</th>\n",
       "      <th>Advertisement Revenue - High</th>\n",
       "    </tr>\n",
       "  </thead>\n",
       "  <tbody>\n",
       "    <tr>\n",
       "      <th>0</th>\n",
       "      <td>BNPP.PA</td>\n",
       "      <td>2022-12-31</td>\n",
       "      <td>FY2022Q4</td>\n",
       "      <td>FQ4</td>\n",
       "      <td>&lt;NA&gt;</td>\n",
       "    </tr>\n",
       "    <tr>\n",
       "      <th>1</th>\n",
       "      <td>BNPP.PA</td>\n",
       "      <td>2022-09-30</td>\n",
       "      <td>FY2022Q3</td>\n",
       "      <td>FQ3</td>\n",
       "      <td>&lt;NA&gt;</td>\n",
       "    </tr>\n",
       "    <tr>\n",
       "      <th>2</th>\n",
       "      <td>BNPP.PA</td>\n",
       "      <td>2022-06-30</td>\n",
       "      <td>FY2022Q2</td>\n",
       "      <td>FQ2</td>\n",
       "      <td>&lt;NA&gt;</td>\n",
       "    </tr>\n",
       "    <tr>\n",
       "      <th>3</th>\n",
       "      <td>BNPP.PA</td>\n",
       "      <td>2022-03-31</td>\n",
       "      <td>FY2022Q1</td>\n",
       "      <td>FQ1</td>\n",
       "      <td>&lt;NA&gt;</td>\n",
       "    </tr>\n",
       "    <tr>\n",
       "      <th>4</th>\n",
       "      <td>BNPP.PA</td>\n",
       "      <td>2021-12-31</td>\n",
       "      <td>FY2021Q4</td>\n",
       "      <td>FQ0</td>\n",
       "      <td>&lt;NA&gt;</td>\n",
       "    </tr>\n",
       "    <tr>\n",
       "      <th>5</th>\n",
       "      <td>BNPP.PA</td>\n",
       "      <td>2021-09-30</td>\n",
       "      <td>FY2021Q3</td>\n",
       "      <td>FQ-1</td>\n",
       "      <td>&lt;NA&gt;</td>\n",
       "    </tr>\n",
       "    <tr>\n",
       "      <th>6</th>\n",
       "      <td>BNPP.PA</td>\n",
       "      <td>2021-06-30</td>\n",
       "      <td>FY2021Q2</td>\n",
       "      <td>FQ-2</td>\n",
       "      <td>&lt;NA&gt;</td>\n",
       "    </tr>\n",
       "  </tbody>\n",
       "</table>\n",
       "</div>"
      ],
      "text/plain": [
       "  Instrument Period End Date Financial Period Absolute  \\\n",
       "0    BNPP.PA      2022-12-31                  FY2022Q4   \n",
       "1    BNPP.PA      2022-09-30                  FY2022Q3   \n",
       "2    BNPP.PA      2022-06-30                  FY2022Q2   \n",
       "3    BNPP.PA      2022-03-31                  FY2022Q1   \n",
       "4    BNPP.PA      2021-12-31                  FY2021Q4   \n",
       "5    BNPP.PA      2021-09-30                  FY2021Q3   \n",
       "6    BNPP.PA      2021-06-30                  FY2021Q2   \n",
       "\n",
       "  Financial Period Relative Advertisement Revenue - High  \n",
       "0                       FQ4                         <NA>  \n",
       "1                       FQ3                         <NA>  \n",
       "2                       FQ2                         <NA>  \n",
       "3                       FQ1                         <NA>  \n",
       "4                       FQ0                         <NA>  \n",
       "5                      FQ-1                         <NA>  \n",
       "6                      FQ-2                         <NA>  "
      ]
     },
     "execution_count": 5,
     "metadata": {},
     "output_type": "execute_result"
    }
   ],
   "source": [
    "response = estimates.view_summary_kpi.interim.Definition(\"BNPP.PA\").get_data()\n",
    "response.data.df"
   ]
  },
  {
   "cell_type": "markdown",
   "metadata": {
    "pycharm": {
     "name": "#%% md\n"
    }
   },
   "source": [
    "### Close the session"
   ]
  },
  {
   "cell_type": "code",
   "execution_count": 6,
   "metadata": {
    "collapsed": false,
    "jupyter": {
     "outputs_hidden": false
    },
    "pycharm": {
     "name": "#%%\n"
    }
   },
   "outputs": [],
   "source": [
    "rd.close_session()"
   ]
  },
  {
   "cell_type": "code",
   "execution_count": null,
   "metadata": {},
   "outputs": [],
   "source": []
  }
 ],
 "metadata": {
  "kernelspec": {
   "display_name": "Python 3 (ipykernel)",
   "language": "python",
   "name": "python3"
  },
  "language_info": {
   "codemirror_mode": {
    "name": "ipython",
    "version": 3
   },
   "file_extension": ".py",
   "mimetype": "text/x-python",
   "name": "python",
   "nbconvert_exporter": "python",
   "pygments_lexer": "ipython3",
   "version": "3.9.7"
  }
 },
 "nbformat": 4,
 "nbformat_minor": 4
}
