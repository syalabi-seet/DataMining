{
 "cells": [
  {
   "cell_type": "markdown",
   "metadata": {},
   "source": [
    "----\n",
    "<img src=\"../../../files/refinitiv.png\" width=\"20%\" style=\"vertical-align: top;\">\n",
    "\n",
    "# Data Library for Python\n",
    "\n",
    "----"
   ]
  },
  {
   "cell_type": "markdown",
   "metadata": {},
   "source": [
    "## Content layer - Ownership - Consolidated\n",
    "This notebook demonstrates how to retrieve Ownership consolidated data."
   ]
  },
  {
   "cell_type": "markdown",
   "metadata": {},
   "source": [
    "#### Learn more\n",
    "\n",
    "To learn more about the Refinitiv Data Library for Python please join the Refinitiv Developer Community. By [registering](https://developers.refinitiv.com/iam/register) and [logging](https://developers.refinitiv.com/content/devportal/en_us/initCookie.html) into the Refinitiv Developer Community portal you will have free access to a number of learning materials like \n",
    " [Quick Start guides](https://developers.refinitiv.com/en/api-catalog/refinitiv-data-platform/refinitiv-data-library-for-python/quick-start), \n",
    " [Tutorials](https://developers.refinitiv.com/en/api-catalog/refinitiv-data-platform/refinitiv-data-library-for-python/learning), \n",
    " [Documentation](https://developers.refinitiv.com/en/api-catalog/refinitiv-data-platform/refinitiv-data-library-for-python/docs)\n",
    " and much more.\n",
    "\n",
    "#### Getting Help and Support\n",
    "\n",
    "If you have any questions regarding using the API, please post them on \n",
    "the [Refinitiv Data Q&A Forum](https://community.developers.refinitiv.com/spaces/321/index.html). \n",
    "The Refinitiv Developer Community will be happy to help. "
   ]
  },
  {
   "cell_type": "markdown",
   "metadata": {},
   "source": [
    "## Set the configuration file location\n",
    "For a better ease of use, you have the option to set initialization parameters of the Refinitiv Data Library in the _refinitiv-data.config.json_ configuration file. This file must be located beside your notebook, in your user folder or in a folder defined by the _RD_LIB_CONFIG_PATH_ environment variable. The _RD_LIB_CONFIG_PATH_ environment variable is the option used by this series of examples. The following code sets this environment variable.      "
   ]
  },
  {
   "cell_type": "code",
   "execution_count": 1,
   "metadata": {},
   "outputs": [],
   "source": [
    "import os\n",
    "os.environ[\"RD_LIB_CONFIG_PATH\"] = \"../../../Configuration\""
   ]
  },
  {
   "cell_type": "markdown",
   "metadata": {},
   "source": [
    "## Some Imports to start with"
   ]
  },
  {
   "cell_type": "code",
   "execution_count": 2,
   "metadata": {
    "pycharm": {
     "name": "#%%\n"
    }
   },
   "outputs": [],
   "source": [
    "import refinitiv.data as rd\n",
    "from refinitiv.data.content import ownership\n",
    "import datetime"
   ]
  },
  {
   "cell_type": "markdown",
   "metadata": {},
   "source": [
    "## Open the data session\n",
    "\n",
    "The open_session() function creates and open sessions based on the information contained in the refinitiv-data.config.json configuration file. Please edit this file to set the session type and other parameters required for the session you want to open."
   ]
  },
  {
   "cell_type": "code",
   "execution_count": 3,
   "metadata": {},
   "outputs": [
    {
     "data": {
      "text/plain": [
       "<refinitiv.data.session.platform.Definition object at 0x7fcc3330d310 {session_name='rdp'}>"
      ]
     },
     "execution_count": 3,
     "metadata": {},
     "output_type": "execute_result"
    }
   ],
   "source": [
    "rd.open_session(\"platform.rdp\")"
   ]
  },
  {
   "cell_type": "markdown",
   "metadata": {},
   "source": [
    "## Retrieve data"
   ]
  },
  {
   "cell_type": "markdown",
   "metadata": {
    "pycharm": {
     "name": "#%% md\n"
    }
   },
   "source": [
    "### Consolidated - Breakdown"
   ]
  },
  {
   "cell_type": "code",
   "execution_count": 4,
   "metadata": {
    "pycharm": {
     "name": "#%%\n"
    }
   },
   "outputs": [
    {
     "data": {
      "text/html": [
       "<div>\n",
       "<style scoped>\n",
       "    .dataframe tbody tr th:only-of-type {\n",
       "        vertical-align: middle;\n",
       "    }\n",
       "\n",
       "    .dataframe tbody tr th {\n",
       "        vertical-align: top;\n",
       "    }\n",
       "\n",
       "    .dataframe thead th {\n",
       "        text-align: right;\n",
       "    }\n",
       "</style>\n",
       "<table border=\"1\" class=\"dataframe\">\n",
       "  <thead>\n",
       "    <tr style=\"text-align: right;\">\n",
       "      <th></th>\n",
       "      <th>instrument</th>\n",
       "      <th>categoryvalue</th>\n",
       "      <th>TR.CategoryInvestorCount</th>\n",
       "      <th>TR.CategoryOwnershipPct</th>\n",
       "      <th>TR.InstrStatCatSharesHeld</th>\n",
       "      <th>TR.InstrStatCatShrsHldVal</th>\n",
       "    </tr>\n",
       "  </thead>\n",
       "  <tbody>\n",
       "    <tr>\n",
       "      <th>0</th>\n",
       "      <td>LSEG.L</td>\n",
       "      <td>Corporation</td>\n",
       "      <td>6</td>\n",
       "      <td>28.364</td>\n",
       "      <td>143588934</td>\n",
       "      <td>14681799736.46</td>\n",
       "    </tr>\n",
       "    <tr>\n",
       "      <th>1</th>\n",
       "      <td>LSEG.L</td>\n",
       "      <td>Investment Advisor/Hedge Fund</td>\n",
       "      <td>145</td>\n",
       "      <td>17.3752</td>\n",
       "      <td>87962325</td>\n",
       "      <td>8608939179.17</td>\n",
       "    </tr>\n",
       "    <tr>\n",
       "      <th>2</th>\n",
       "      <td>LSEG.L</td>\n",
       "      <td>Investment Advisor</td>\n",
       "      <td>249</td>\n",
       "      <td>16.3954</td>\n",
       "      <td>82998734</td>\n",
       "      <td>8331853171.18</td>\n",
       "    </tr>\n",
       "    <tr>\n",
       "      <th>3</th>\n",
       "      <td>LSEG.L</td>\n",
       "      <td>Sovereign Wealth Fund</td>\n",
       "      <td>7</td>\n",
       "      <td>8.9434</td>\n",
       "      <td>45274805</td>\n",
       "      <td>4573996033.92</td>\n",
       "    </tr>\n",
       "    <tr>\n",
       "      <th>4</th>\n",
       "      <td>LSEG.L</td>\n",
       "      <td>Bank and Trust</td>\n",
       "      <td>29</td>\n",
       "      <td>1.4892</td>\n",
       "      <td>7538058</td>\n",
       "      <td>758283940.02</td>\n",
       "    </tr>\n",
       "    <tr>\n",
       "      <th>5</th>\n",
       "      <td>LSEG.L</td>\n",
       "      <td>Pension Fund</td>\n",
       "      <td>22</td>\n",
       "      <td>1.2596</td>\n",
       "      <td>6378715</td>\n",
       "      <td>675690087.02</td>\n",
       "    </tr>\n",
       "    <tr>\n",
       "      <th>6</th>\n",
       "      <td>LSEG.L</td>\n",
       "      <td>Individual Investor</td>\n",
       "      <td>26</td>\n",
       "      <td>0.2785</td>\n",
       "      <td>1409813</td>\n",
       "      <td>129623694.44</td>\n",
       "    </tr>\n",
       "    <tr>\n",
       "      <th>7</th>\n",
       "      <td>LSEG.L</td>\n",
       "      <td>Hedge Fund</td>\n",
       "      <td>2</td>\n",
       "      <td>0.2015</td>\n",
       "      <td>1020095</td>\n",
       "      <td>112349885.31</td>\n",
       "    </tr>\n",
       "    <tr>\n",
       "      <th>8</th>\n",
       "      <td>LSEG.L</td>\n",
       "      <td>Insurance Company</td>\n",
       "      <td>7</td>\n",
       "      <td>0.1628</td>\n",
       "      <td>824623</td>\n",
       "      <td>87452464.19</td>\n",
       "    </tr>\n",
       "    <tr>\n",
       "      <th>9</th>\n",
       "      <td>LSEG.L</td>\n",
       "      <td>Venture Capital</td>\n",
       "      <td>1</td>\n",
       "      <td>0.0018</td>\n",
       "      <td>8997</td>\n",
       "      <td>874559.49</td>\n",
       "    </tr>\n",
       "    <tr>\n",
       "      <th>10</th>\n",
       "      <td>LSEG.L</td>\n",
       "      <td>Foundation</td>\n",
       "      <td>1</td>\n",
       "      <td>0.0016</td>\n",
       "      <td>8030</td>\n",
       "      <td>780561.6</td>\n",
       "    </tr>\n",
       "    <tr>\n",
       "      <th>11</th>\n",
       "      <td>LSEG.L</td>\n",
       "      <td>Private Equity</td>\n",
       "      <td>1</td>\n",
       "      <td>0.0008</td>\n",
       "      <td>4080</td>\n",
       "      <td>396599.17</td>\n",
       "    </tr>\n",
       "  </tbody>\n",
       "</table>\n",
       "</div>"
      ],
      "text/plain": [
       "   instrument                  categoryvalue TR.CategoryInvestorCount  \\\n",
       "0      LSEG.L                    Corporation                        6   \n",
       "1      LSEG.L  Investment Advisor/Hedge Fund                      145   \n",
       "2      LSEG.L             Investment Advisor                      249   \n",
       "3      LSEG.L          Sovereign Wealth Fund                        7   \n",
       "4      LSEG.L                 Bank and Trust                       29   \n",
       "5      LSEG.L                   Pension Fund                       22   \n",
       "6      LSEG.L            Individual Investor                       26   \n",
       "7      LSEG.L                     Hedge Fund                        2   \n",
       "8      LSEG.L              Insurance Company                        7   \n",
       "9      LSEG.L                Venture Capital                        1   \n",
       "10     LSEG.L                     Foundation                        1   \n",
       "11     LSEG.L                 Private Equity                        1   \n",
       "\n",
       "   TR.CategoryOwnershipPct TR.InstrStatCatSharesHeld TR.InstrStatCatShrsHldVal  \n",
       "0                   28.364                 143588934            14681799736.46  \n",
       "1                  17.3752                  87962325             8608939179.17  \n",
       "2                  16.3954                  82998734             8331853171.18  \n",
       "3                   8.9434                  45274805             4573996033.92  \n",
       "4                   1.4892                   7538058              758283940.02  \n",
       "5                   1.2596                   6378715              675690087.02  \n",
       "6                   0.2785                   1409813              129623694.44  \n",
       "7                   0.2015                   1020095              112349885.31  \n",
       "8                   0.1628                    824623               87452464.19  \n",
       "9                   0.0018                      8997                 874559.49  \n",
       "10                  0.0016                      8030                  780561.6  \n",
       "11                  0.0008                      4080                 396599.17  "
      ]
     },
     "execution_count": 4,
     "metadata": {},
     "output_type": "execute_result"
    }
   ],
   "source": [
    "response = ownership.consolidated.breakdown.Definition(\"LSEG.L\", ownership.StatTypes.INVESTOR_TYPE).get_data()\n",
    "response.data.df"
   ]
  },
  {
   "cell_type": "markdown",
   "metadata": {},
   "source": [
    "### Consolidated - Concentration"
   ]
  },
  {
   "cell_type": "code",
   "execution_count": 5,
   "metadata": {
    "pycharm": {
     "name": "#%%\n"
    }
   },
   "outputs": [
    {
     "data": {
      "text/html": [
       "<div>\n",
       "<style scoped>\n",
       "    .dataframe tbody tr th:only-of-type {\n",
       "        vertical-align: middle;\n",
       "    }\n",
       "\n",
       "    .dataframe tbody tr th {\n",
       "        vertical-align: top;\n",
       "    }\n",
       "\n",
       "    .dataframe thead th {\n",
       "        text-align: right;\n",
       "    }\n",
       "</style>\n",
       "<table border=\"1\" class=\"dataframe\">\n",
       "  <thead>\n",
       "    <tr style=\"text-align: right;\">\n",
       "      <th></th>\n",
       "      <th>instrument</th>\n",
       "      <th>Investors Total</th>\n",
       "      <th>% SharesOutstandingAll</th>\n",
       "      <th>SharesHeldAll</th>\n",
       "      <th>SharesHeld ValueAll</th>\n",
       "    </tr>\n",
       "  </thead>\n",
       "  <tbody>\n",
       "    <tr>\n",
       "      <th>0</th>\n",
       "      <td>LSEG.L</td>\n",
       "      <td>668</td>\n",
       "      <td>74.4738000000001</td>\n",
       "      <td>377017209</td>\n",
       "      <td>37962039911.97</td>\n",
       "    </tr>\n",
       "  </tbody>\n",
       "</table>\n",
       "</div>"
      ],
      "text/plain": [
       "  instrument Investors Total % SharesOutstandingAll SharesHeldAll  \\\n",
       "0     LSEG.L             668       74.4738000000001     377017209   \n",
       "\n",
       "  SharesHeld ValueAll  \n",
       "0      37962039911.97  "
      ]
     },
     "execution_count": 5,
     "metadata": {},
     "output_type": "execute_result"
    }
   ],
   "source": [
    "response = ownership.consolidated.concentration.Definition(\"LSEG.L\").get_data()\n",
    "response.data.df"
   ]
  },
  {
   "cell_type": "markdown",
   "metadata": {},
   "source": [
    "### Consolidated - Investors"
   ]
  },
  {
   "cell_type": "code",
   "execution_count": 6,
   "metadata": {
    "pycharm": {
     "name": "#%%\n"
    }
   },
   "outputs": [
    {
     "data": {
      "text/html": [
       "<div>\n",
       "<style scoped>\n",
       "    .dataframe tbody tr th:only-of-type {\n",
       "        vertical-align: middle;\n",
       "    }\n",
       "\n",
       "    .dataframe tbody tr th {\n",
       "        vertical-align: top;\n",
       "    }\n",
       "\n",
       "    .dataframe thead th {\n",
       "        text-align: right;\n",
       "    }\n",
       "</style>\n",
       "<table border=\"1\" class=\"dataframe\">\n",
       "  <thead>\n",
       "    <tr style=\"text-align: right;\">\n",
       "      <th></th>\n",
       "      <th>instrument</th>\n",
       "      <th>investorid</th>\n",
       "      <th>investorpermid</th>\n",
       "      <th>TR.InvestorFullName</th>\n",
       "      <th>TR.InvestorType</th>\n",
       "      <th>TR.PctOfSharesOutHeld</th>\n",
       "      <th>TR.SharesHeld</th>\n",
       "      <th>TR.SharesHeldChange</th>\n",
       "      <th>TR.HoldingsDate</th>\n",
       "      <th>TR.OwnTrnverRating</th>\n",
       "    </tr>\n",
       "  </thead>\n",
       "  <tbody>\n",
       "    <tr>\n",
       "      <th>0</th>\n",
       "      <td>LSEG.L</td>\n",
       "      <td>10387484</td>\n",
       "      <td>5079704830</td>\n",
       "      <td>York Holdings II, Ltd.</td>\n",
       "      <td>Corporation</td>\n",
       "      <td>16.9901</td>\n",
       "      <td>86010276</td>\n",
       "      <td>16231149</td>\n",
       "      <td>2021-04-16</td>\n",
       "      <td>MED</td>\n",
       "    </tr>\n",
       "    <tr>\n",
       "      <th>1</th>\n",
       "      <td>LSEG.L</td>\n",
       "      <td>3878115</td>\n",
       "      <td>5000009556</td>\n",
       "      <td>Qatar Investment Authority</td>\n",
       "      <td>Sovereign Wealth Fund</td>\n",
       "      <td>7.0596</td>\n",
       "      <td>35738460</td>\n",
       "      <td>-1335468</td>\n",
       "      <td>2021-05-04</td>\n",
       "      <td>LOW</td>\n",
       "    </tr>\n",
       "    <tr>\n",
       "      <th>2</th>\n",
       "      <td>LSEG.L</td>\n",
       "      <td>10387485</td>\n",
       "      <td>5079704841</td>\n",
       "      <td>York Holdings III, Ltd.</td>\n",
       "      <td>Corporation</td>\n",
       "      <td>6.3316</td>\n",
       "      <td>32052786</td>\n",
       "      <td>0</td>\n",
       "      <td>2021-04-16</td>\n",
       "      <td>LOW</td>\n",
       "    </tr>\n",
       "    <tr>\n",
       "      <th>3</th>\n",
       "      <td>VOD.L</td>\n",
       "      <td>2003356</td>\n",
       "      <td>4296477482</td>\n",
       "      <td>BlackRock Institutional Trust Company, N.A.</td>\n",
       "      <td>Investment Advisor</td>\n",
       "      <td>7.1002</td>\n",
       "      <td>1932953728</td>\n",
       "      <td>-14515584</td>\n",
       "      <td>2021-05-17</td>\n",
       "      <td>LOW</td>\n",
       "    </tr>\n",
       "    <tr>\n",
       "      <th>4</th>\n",
       "      <td>VOD.L</td>\n",
       "      <td>2004260</td>\n",
       "      <td>4297651992</td>\n",
       "      <td>The Vanguard Group, Inc.</td>\n",
       "      <td>Investment Advisor/Hedge Fund</td>\n",
       "      <td>3.2486</td>\n",
       "      <td>884412843</td>\n",
       "      <td>-15915558</td>\n",
       "      <td>2021-07-30</td>\n",
       "      <td>LOW</td>\n",
       "    </tr>\n",
       "    <tr>\n",
       "      <th>5</th>\n",
       "      <td>VOD.L</td>\n",
       "      <td>2005965</td>\n",
       "      <td>5000667881</td>\n",
       "      <td>Norges Bank Investment Management (NBIM)</td>\n",
       "      <td>Sovereign Wealth Fund</td>\n",
       "      <td>3.087</td>\n",
       "      <td>840414592</td>\n",
       "      <td>-6311168</td>\n",
       "      <td>2021-05-17</td>\n",
       "      <td>LOW</td>\n",
       "    </tr>\n",
       "  </tbody>\n",
       "</table>\n",
       "</div>"
      ],
      "text/plain": [
       "  instrument investorid investorpermid  \\\n",
       "0     LSEG.L   10387484     5079704830   \n",
       "1     LSEG.L    3878115     5000009556   \n",
       "2     LSEG.L   10387485     5079704841   \n",
       "3      VOD.L    2003356     4296477482   \n",
       "4      VOD.L    2004260     4297651992   \n",
       "5      VOD.L    2005965     5000667881   \n",
       "\n",
       "                           TR.InvestorFullName                TR.InvestorType  \\\n",
       "0                       York Holdings II, Ltd.                    Corporation   \n",
       "1                   Qatar Investment Authority          Sovereign Wealth Fund   \n",
       "2                      York Holdings III, Ltd.                    Corporation   \n",
       "3  BlackRock Institutional Trust Company, N.A.             Investment Advisor   \n",
       "4                     The Vanguard Group, Inc.  Investment Advisor/Hedge Fund   \n",
       "5     Norges Bank Investment Management (NBIM)          Sovereign Wealth Fund   \n",
       "\n",
       "  TR.PctOfSharesOutHeld TR.SharesHeld TR.SharesHeldChange TR.HoldingsDate  \\\n",
       "0               16.9901      86010276            16231149      2021-04-16   \n",
       "1                7.0596      35738460            -1335468      2021-05-04   \n",
       "2                6.3316      32052786                   0      2021-04-16   \n",
       "3                7.1002    1932953728           -14515584      2021-05-17   \n",
       "4                3.2486     884412843           -15915558      2021-07-30   \n",
       "5                 3.087     840414592            -6311168      2021-05-17   \n",
       "\n",
       "  TR.OwnTrnverRating  \n",
       "0                MED  \n",
       "1                LOW  \n",
       "2                LOW  \n",
       "3                LOW  \n",
       "4                LOW  \n",
       "5                LOW  "
      ]
     },
     "execution_count": 6,
     "metadata": {},
     "output_type": "execute_result"
    }
   ],
   "source": [
    "response = ownership.consolidated.investors.Definition([\"LSEG.L\", \"VOD.L\"], limit=3).get_data()\n",
    "response.data.df"
   ]
  },
  {
   "cell_type": "markdown",
   "metadata": {},
   "source": [
    "### Consolidated - Recent activity"
   ]
  },
  {
   "cell_type": "code",
   "execution_count": 7,
   "metadata": {
    "pycharm": {
     "name": "#%%\n"
    }
   },
   "outputs": [
    {
     "data": {
      "text/html": [
       "<div>\n",
       "<style scoped>\n",
       "    .dataframe tbody tr th:only-of-type {\n",
       "        vertical-align: middle;\n",
       "    }\n",
       "\n",
       "    .dataframe tbody tr th {\n",
       "        vertical-align: top;\n",
       "    }\n",
       "\n",
       "    .dataframe thead th {\n",
       "        text-align: right;\n",
       "    }\n",
       "</style>\n",
       "<table border=\"1\" class=\"dataframe\">\n",
       "  <thead>\n",
       "    <tr style=\"text-align: right;\">\n",
       "      <th></th>\n",
       "      <th>instrument</th>\n",
       "      <th>investorid</th>\n",
       "      <th>investorname</th>\n",
       "      <th>TR.NetSharesHeldChange</th>\n",
       "      <th>TR.NetSharesHeldValChg</th>\n",
       "    </tr>\n",
       "  </thead>\n",
       "  <tbody>\n",
       "    <tr>\n",
       "      <th>0</th>\n",
       "      <td>LSEG.L</td>\n",
       "      <td>5029935</td>\n",
       "      <td>SAFE Investment Company Limited</td>\n",
       "      <td>-1488450</td>\n",
       "      <td>-164029569.15</td>\n",
       "    </tr>\n",
       "    <tr>\n",
       "      <th>1</th>\n",
       "      <td>LSEG.L</td>\n",
       "      <td>4960562</td>\n",
       "      <td>Capital Research Global Investors</td>\n",
       "      <td>-852873</td>\n",
       "      <td>-88800183.08</td>\n",
       "    </tr>\n",
       "    <tr>\n",
       "      <th>2</th>\n",
       "      <td>LSEG.L</td>\n",
       "      <td>2003354</td>\n",
       "      <td>Wellington Management Company, LLP</td>\n",
       "      <td>-758565</td>\n",
       "      <td>-78980939.57</td>\n",
       "    </tr>\n",
       "    <tr>\n",
       "      <th>3</th>\n",
       "      <td>LSEG.L</td>\n",
       "      <td>2003762</td>\n",
       "      <td>Aegon Asset Management Ltd</td>\n",
       "      <td>-474835</td>\n",
       "      <td>-41046814.11</td>\n",
       "    </tr>\n",
       "    <tr>\n",
       "      <th>4</th>\n",
       "      <td>LSEG.L</td>\n",
       "      <td>2002562</td>\n",
       "      <td>California Public Employees' Retirement System</td>\n",
       "      <td>-458176</td>\n",
       "      <td>-47704772.79</td>\n",
       "    </tr>\n",
       "  </tbody>\n",
       "</table>\n",
       "</div>"
      ],
      "text/plain": [
       "  instrument investorid                                    investorname  \\\n",
       "0     LSEG.L    5029935                 SAFE Investment Company Limited   \n",
       "1     LSEG.L    4960562               Capital Research Global Investors   \n",
       "2     LSEG.L    2003354              Wellington Management Company, LLP   \n",
       "3     LSEG.L    2003762                      Aegon Asset Management Ltd   \n",
       "4     LSEG.L    2002562  California Public Employees' Retirement System   \n",
       "\n",
       "  TR.NetSharesHeldChange TR.NetSharesHeldValChg  \n",
       "0               -1488450          -164029569.15  \n",
       "1                -852873           -88800183.08  \n",
       "2                -758565           -78980939.57  \n",
       "3                -474835           -41046814.11  \n",
       "4                -458176           -47704772.79  "
      ]
     },
     "execution_count": 7,
     "metadata": {},
     "output_type": "execute_result"
    }
   ],
   "source": [
    "response = ownership.consolidated.recent_activity.Definition(\"LSEG.L\", \"asc\").get_data()\n",
    "response.data.df"
   ]
  },
  {
   "cell_type": "markdown",
   "metadata": {},
   "source": [
    "### Consolidated - Shareholders history report"
   ]
  },
  {
   "cell_type": "code",
   "execution_count": 8,
   "metadata": {
    "pycharm": {
     "name": "#%%\n"
    }
   },
   "outputs": [
    {
     "data": {
      "text/html": [
       "<div>\n",
       "<style scoped>\n",
       "    .dataframe tbody tr th:only-of-type {\n",
       "        vertical-align: middle;\n",
       "    }\n",
       "\n",
       "    .dataframe tbody tr th {\n",
       "        vertical-align: top;\n",
       "    }\n",
       "\n",
       "    .dataframe thead th {\n",
       "        text-align: right;\n",
       "    }\n",
       "</style>\n",
       "<table border=\"1\" class=\"dataframe\">\n",
       "  <thead>\n",
       "    <tr style=\"text-align: right;\">\n",
       "      <th></th>\n",
       "      <th>calcdate</th>\n",
       "      <th>investorid</th>\n",
       "      <th>TR.InvestorFullName</th>\n",
       "      <th>TR.InvParentType</th>\n",
       "      <th>TR.InvestorType</th>\n",
       "      <th>TR.InvestorRegion</th>\n",
       "      <th>TR.InvInvestmentStyleCode</th>\n",
       "      <th>TR.InvInvmtOrientation</th>\n",
       "      <th>TR.OwnTrnverRating</th>\n",
       "      <th>TR.OwnTurnover</th>\n",
       "      <th>...</th>\n",
       "      <th>TR.PctOfSharesOutHeld</th>\n",
       "      <th>TR.HoldingsDate</th>\n",
       "      <th>TR.FilingType</th>\n",
       "      <th>TR.SharesHeldChange</th>\n",
       "      <th>TR.SharesHeldValChg</th>\n",
       "      <th>TR.PrevSharesHeld</th>\n",
       "      <th>TR.PrevSharesHeldValue</th>\n",
       "      <th>TR.PrevPctOfSharesOutHeld</th>\n",
       "      <th>TR.PrevHoldingsDate</th>\n",
       "      <th>TR.PrevFilingType</th>\n",
       "    </tr>\n",
       "  </thead>\n",
       "  <tbody>\n",
       "    <tr>\n",
       "      <th>0</th>\n",
       "      <td>2021-12-16</td>\n",
       "      <td>10387484</td>\n",
       "      <td>York Holdings II, Ltd.</td>\n",
       "      <td>Strategic Entities</td>\n",
       "      <td>Corporation</td>\n",
       "      <td>North America</td>\n",
       "      <td></td>\n",
       "      <td>Passive</td>\n",
       "      <td></td>\n",
       "      <td>&lt;NA&gt;</td>\n",
       "      <td>...</td>\n",
       "      <td>16.9901</td>\n",
       "      <td>2021-04-16</td>\n",
       "      <td>Regulatory News Service</td>\n",
       "      <td>0</td>\n",
       "      <td>0</td>\n",
       "      <td>69779127</td>\n",
       "      <td>6672735985.05</td>\n",
       "      <td>13.7839</td>\n",
       "      <td>2021-03-23</td>\n",
       "      <td>Regulatory News Service</td>\n",
       "    </tr>\n",
       "    <tr>\n",
       "      <th>1</th>\n",
       "      <td>2021-12-16</td>\n",
       "      <td>3878115</td>\n",
       "      <td>Qatar Investment Authority</td>\n",
       "      <td>Investment Managers</td>\n",
       "      <td>Sovereign Wealth Fund</td>\n",
       "      <td>Middle East</td>\n",
       "      <td></td>\n",
       "      <td>Active</td>\n",
       "      <td>LOW</td>\n",
       "      <td>5.1917</td>\n",
       "      <td>...</td>\n",
       "      <td>7.0596</td>\n",
       "      <td>2021-05-04</td>\n",
       "      <td>Regulatory News Service</td>\n",
       "      <td>0</td>\n",
       "      <td>0</td>\n",
       "      <td>37073928</td>\n",
       "      <td>3545251196.29</td>\n",
       "      <td>7.3234</td>\n",
       "      <td>2021-03-05</td>\n",
       "      <td>Regulatory News Service</td>\n",
       "    </tr>\n",
       "    <tr>\n",
       "      <th>2</th>\n",
       "      <td>2021-12-16</td>\n",
       "      <td>10387485</td>\n",
       "      <td>York Holdings III, Ltd.</td>\n",
       "      <td>Strategic Entities</td>\n",
       "      <td>Corporation</td>\n",
       "      <td>North America</td>\n",
       "      <td></td>\n",
       "      <td>Passive</td>\n",
       "      <td></td>\n",
       "      <td>&lt;NA&gt;</td>\n",
       "      <td>...</td>\n",
       "      <td>6.3316</td>\n",
       "      <td>2021-04-16</td>\n",
       "      <td>Regulatory News Service</td>\n",
       "      <td>0</td>\n",
       "      <td>0</td>\n",
       "      <td>32052786</td>\n",
       "      <td>3065096795.54</td>\n",
       "      <td>6.3316</td>\n",
       "      <td>2021-03-23</td>\n",
       "      <td>Regulatory News Service</td>\n",
       "    </tr>\n",
       "  </tbody>\n",
       "</table>\n",
       "<p>3 rows × 23 columns</p>\n",
       "</div>"
      ],
      "text/plain": [
       "     calcdate investorid         TR.InvestorFullName     TR.InvParentType  \\\n",
       "0  2021-12-16   10387484      York Holdings II, Ltd.   Strategic Entities   \n",
       "1  2021-12-16    3878115  Qatar Investment Authority  Investment Managers   \n",
       "2  2021-12-16   10387485     York Holdings III, Ltd.   Strategic Entities   \n",
       "\n",
       "         TR.InvestorType TR.InvestorRegion TR.InvInvestmentStyleCode  \\\n",
       "0            Corporation     North America                             \n",
       "1  Sovereign Wealth Fund       Middle East                             \n",
       "2            Corporation     North America                             \n",
       "\n",
       "  TR.InvInvmtOrientation TR.OwnTrnverRating  TR.OwnTurnover  ...  \\\n",
       "0                Passive                               <NA>  ...   \n",
       "1                 Active                LOW          5.1917  ...   \n",
       "2                Passive                               <NA>  ...   \n",
       "\n",
       "   TR.PctOfSharesOutHeld  TR.HoldingsDate            TR.FilingType  \\\n",
       "0                16.9901       2021-04-16  Regulatory News Service   \n",
       "1                 7.0596       2021-05-04  Regulatory News Service   \n",
       "2                 6.3316       2021-04-16  Regulatory News Service   \n",
       "\n",
       "   TR.SharesHeldChange TR.SharesHeldValChg TR.PrevSharesHeld  \\\n",
       "0                    0                   0          69779127   \n",
       "1                    0                   0          37073928   \n",
       "2                    0                   0          32052786   \n",
       "\n",
       "   TR.PrevSharesHeldValue  TR.PrevPctOfSharesOutHeld  TR.PrevHoldingsDate  \\\n",
       "0           6672735985.05                    13.7839           2021-03-23   \n",
       "1           3545251196.29                     7.3234           2021-03-05   \n",
       "2           3065096795.54                     6.3316           2021-03-23   \n",
       "\n",
       "         TR.PrevFilingType  \n",
       "0  Regulatory News Service  \n",
       "1  Regulatory News Service  \n",
       "2  Regulatory News Service  \n",
       "\n",
       "[3 rows x 23 columns]"
      ]
     },
     "execution_count": 8,
     "metadata": {},
     "output_type": "execute_result"
    }
   ],
   "source": [
    "response = ownership.consolidated.shareholders_history_report.Definition(\n",
    "    \"LSEG.L\", \n",
    "    ownership.Frequency.MONTHLY, \n",
    "    limit=3, \n",
    "    end=datetime.datetime.now()\n",
    ").get_data()\n",
    "response.data.df"
   ]
  },
  {
   "cell_type": "markdown",
   "metadata": {},
   "source": [
    "### Consolidated - Shareholders report"
   ]
  },
  {
   "cell_type": "code",
   "execution_count": 9,
   "metadata": {
    "pycharm": {
     "name": "#%%\n"
    }
   },
   "outputs": [
    {
     "data": {
      "text/html": [
       "<div>\n",
       "<style scoped>\n",
       "    .dataframe tbody tr th:only-of-type {\n",
       "        vertical-align: middle;\n",
       "    }\n",
       "\n",
       "    .dataframe tbody tr th {\n",
       "        vertical-align: top;\n",
       "    }\n",
       "\n",
       "    .dataframe thead th {\n",
       "        text-align: right;\n",
       "    }\n",
       "</style>\n",
       "<table border=\"1\" class=\"dataframe\">\n",
       "  <thead>\n",
       "    <tr style=\"text-align: right;\">\n",
       "      <th></th>\n",
       "      <th>calcdate</th>\n",
       "      <th>investorid</th>\n",
       "      <th>investorpermid</th>\n",
       "      <th>TR.InvestorFullName</th>\n",
       "      <th>TR.InvParentType</th>\n",
       "      <th>TR.InvestorType</th>\n",
       "      <th>TR.InvInvestmentStyleCode</th>\n",
       "      <th>TR.InvInvmtOrientation</th>\n",
       "      <th>TR.OwnTrnverRating</th>\n",
       "      <th>TR.OwnTurnover</th>\n",
       "      <th>...</th>\n",
       "      <th>TR.InvContFirstName</th>\n",
       "      <th>TR.InvContMidInit</th>\n",
       "      <th>TR.InvContLastName</th>\n",
       "      <th>TR.InvContTelCntry</th>\n",
       "      <th>TR.InvContAreaCode</th>\n",
       "      <th>TR.InvContTelNumber</th>\n",
       "      <th>TR.InvContTelExt</th>\n",
       "      <th>TR.InvConAddrMetroArea</th>\n",
       "      <th>TR.InvestorAddrCity</th>\n",
       "      <th>TR.InvAddrCountry</th>\n",
       "    </tr>\n",
       "  </thead>\n",
       "  <tbody>\n",
       "    <tr>\n",
       "      <th>0</th>\n",
       "      <td>2021-12-16</td>\n",
       "      <td>10387484</td>\n",
       "      <td>5079704830</td>\n",
       "      <td>York Holdings II, Ltd.</td>\n",
       "      <td>Strategic Entities</td>\n",
       "      <td>Corporation</td>\n",
       "      <td></td>\n",
       "      <td>Passive</td>\n",
       "      <td>MED</td>\n",
       "      <td>79.2336</td>\n",
       "      <td>...</td>\n",
       "      <td></td>\n",
       "      <td></td>\n",
       "      <td></td>\n",
       "      <td></td>\n",
       "      <td>&lt;NA&gt;</td>\n",
       "      <td></td>\n",
       "      <td></td>\n",
       "      <td></td>\n",
       "      <td>Grand Cayman</td>\n",
       "      <td>Cayman Islands</td>\n",
       "    </tr>\n",
       "    <tr>\n",
       "      <th>1</th>\n",
       "      <td>2021-12-16</td>\n",
       "      <td>3878115</td>\n",
       "      <td>5000009556</td>\n",
       "      <td>Qatar Investment Authority</td>\n",
       "      <td>Investment Managers</td>\n",
       "      <td>Sovereign Wealth Fund</td>\n",
       "      <td></td>\n",
       "      <td>Active</td>\n",
       "      <td>LOW</td>\n",
       "      <td>5.1917</td>\n",
       "      <td>...</td>\n",
       "      <td>Faisal</td>\n",
       "      <td>B.T.</td>\n",
       "      <td>Al-Thani</td>\n",
       "      <td>974</td>\n",
       "      <td>4</td>\n",
       "      <td>499-5900</td>\n",
       "      <td>0</td>\n",
       "      <td></td>\n",
       "      <td>Doha</td>\n",
       "      <td>Qatar</td>\n",
       "    </tr>\n",
       "    <tr>\n",
       "      <th>2</th>\n",
       "      <td>2021-12-16</td>\n",
       "      <td>10387485</td>\n",
       "      <td>5079704841</td>\n",
       "      <td>York Holdings III, Ltd.</td>\n",
       "      <td>Strategic Entities</td>\n",
       "      <td>Corporation</td>\n",
       "      <td></td>\n",
       "      <td>Passive</td>\n",
       "      <td>LOW</td>\n",
       "      <td>1.9138</td>\n",
       "      <td>...</td>\n",
       "      <td></td>\n",
       "      <td></td>\n",
       "      <td></td>\n",
       "      <td></td>\n",
       "      <td>&lt;NA&gt;</td>\n",
       "      <td></td>\n",
       "      <td></td>\n",
       "      <td></td>\n",
       "      <td>Grand Cayman</td>\n",
       "      <td>Cayman Islands</td>\n",
       "    </tr>\n",
       "  </tbody>\n",
       "</table>\n",
       "<p>3 rows × 42 columns</p>\n",
       "</div>"
      ],
      "text/plain": [
       "     calcdate investorid investorpermid         TR.InvestorFullName  \\\n",
       "0  2021-12-16   10387484     5079704830      York Holdings II, Ltd.   \n",
       "1  2021-12-16    3878115     5000009556  Qatar Investment Authority   \n",
       "2  2021-12-16   10387485     5079704841     York Holdings III, Ltd.   \n",
       "\n",
       "      TR.InvParentType        TR.InvestorType TR.InvInvestmentStyleCode  \\\n",
       "0   Strategic Entities            Corporation                             \n",
       "1  Investment Managers  Sovereign Wealth Fund                             \n",
       "2   Strategic Entities            Corporation                             \n",
       "\n",
       "  TR.InvInvmtOrientation TR.OwnTrnverRating  TR.OwnTurnover  ...  \\\n",
       "0                Passive                MED         79.2336  ...   \n",
       "1                 Active                LOW          5.1917  ...   \n",
       "2                Passive                LOW          1.9138  ...   \n",
       "\n",
       "  TR.InvContFirstName  TR.InvContMidInit  TR.InvContLastName  \\\n",
       "0                                                              \n",
       "1              Faisal               B.T.            Al-Thani   \n",
       "2                                                              \n",
       "\n",
       "   TR.InvContTelCntry  TR.InvContAreaCode  TR.InvContTelNumber  \\\n",
       "0                                    <NA>                        \n",
       "1                 974                   4             499-5900   \n",
       "2                                    <NA>                        \n",
       "\n",
       "  TR.InvContTelExt TR.InvConAddrMetroArea  TR.InvestorAddrCity  \\\n",
       "0                                                 Grand Cayman   \n",
       "1                0                                        Doha   \n",
       "2                                                 Grand Cayman   \n",
       "\n",
       "   TR.InvAddrCountry  \n",
       "0     Cayman Islands  \n",
       "1              Qatar  \n",
       "2     Cayman Islands  \n",
       "\n",
       "[3 rows x 42 columns]"
      ]
     },
     "execution_count": 9,
     "metadata": {},
     "output_type": "execute_result"
    }
   ],
   "source": [
    "response = ownership.consolidated.shareholders_report.Definition(\"LSEG.L\", limit=3).get_data()\n",
    "response.data.df"
   ]
  },
  {
   "cell_type": "markdown",
   "metadata": {},
   "source": [
    "### Consolidated - Top n concentration"
   ]
  },
  {
   "cell_type": "code",
   "execution_count": 10,
   "metadata": {
    "pycharm": {
     "name": "#%%\n"
    }
   },
   "outputs": [
    {
     "data": {
      "text/html": [
       "<div>\n",
       "<style scoped>\n",
       "    .dataframe tbody tr th:only-of-type {\n",
       "        vertical-align: middle;\n",
       "    }\n",
       "\n",
       "    .dataframe tbody tr th {\n",
       "        vertical-align: top;\n",
       "    }\n",
       "\n",
       "    .dataframe thead th {\n",
       "        text-align: right;\n",
       "    }\n",
       "</style>\n",
       "<table border=\"1\" class=\"dataframe\">\n",
       "  <thead>\n",
       "    <tr style=\"text-align: right;\">\n",
       "      <th></th>\n",
       "      <th>instrument</th>\n",
       "      <th>Total Shareholders Count</th>\n",
       "      <th>% SharesOutstanding</th>\n",
       "      <th>SharesHeld</th>\n",
       "      <th>SharesHeld Value</th>\n",
       "    </tr>\n",
       "  </thead>\n",
       "  <tbody>\n",
       "    <tr>\n",
       "      <th>0</th>\n",
       "      <td>LSEG.L</td>\n",
       "      <td>40</td>\n",
       "      <td>63.8294</td>\n",
       "      <td>323128162</td>\n",
       "      <td>32397255816.49</td>\n",
       "    </tr>\n",
       "  </tbody>\n",
       "</table>\n",
       "</div>"
      ],
      "text/plain": [
       "  instrument Total Shareholders Count % SharesOutstanding SharesHeld  \\\n",
       "0     LSEG.L                       40             63.8294  323128162   \n",
       "\n",
       "  SharesHeld Value  \n",
       "0   32397255816.49  "
      ]
     },
     "execution_count": 10,
     "metadata": {},
     "output_type": "execute_result"
    }
   ],
   "source": [
    "response = ownership.consolidated.top_n_concentration.Definition(\"LSEG.L\", 40).get_data()\n",
    "response.data.df"
   ]
  },
  {
   "cell_type": "markdown",
   "metadata": {},
   "source": [
    "### Close the session"
   ]
  },
  {
   "cell_type": "code",
   "execution_count": 11,
   "metadata": {
    "pycharm": {
     "name": "#%%\n"
    }
   },
   "outputs": [],
   "source": [
    "rd.close_session()"
   ]
  },
  {
   "cell_type": "code",
   "execution_count": 12,
   "metadata": {
    "pycharm": {
     "name": "#%%\n"
    }
   },
   "outputs": [],
   "source": []
  }
 ],
 "metadata": {
  "kernelspec": {
   "display_name": "Python 3",
   "language": "python",
   "name": "python3"
  },
  "language_info": {
   "codemirror_mode": {
    "name": "ipython",
    "version": 3
   },
   "file_extension": ".py",
   "mimetype": "text/x-python",
   "name": "python",
   "nbconvert_exporter": "python",
   "pygments_lexer": "ipython3",
   "version": "3.7.6"
  }
 },
 "nbformat": 4,
 "nbformat_minor": 4
}
