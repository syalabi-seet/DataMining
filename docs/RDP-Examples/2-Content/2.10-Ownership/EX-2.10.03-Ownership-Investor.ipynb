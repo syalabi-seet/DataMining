{
 "cells": [
  {
   "cell_type": "markdown",
   "metadata": {},
   "source": [
    "----\n",
    "<img src=\"../../../files/refinitiv.png\" width=\"20%\" style=\"vertical-align: top;\">\n",
    "\n",
    "# Data Library for Python\n",
    "\n",
    "----"
   ]
  },
  {
   "cell_type": "markdown",
   "metadata": {},
   "source": [
    "## Content layer - Ownership - Investor\n",
    "This notebook demonstrates how to retrieve Ownership investor data."
   ]
  },
  {
   "cell_type": "markdown",
   "metadata": {},
   "source": [
    "#### Learn more\n",
    "\n",
    "To learn more about the Refinitiv Data Library for Python please join the Refinitiv Developer Community. By [registering](https://developers.refinitiv.com/iam/register) and [logging](https://developers.refinitiv.com/content/devportal/en_us/initCookie.html) into the Refinitiv Developer Community portal you will have free access to a number of learning materials like \n",
    " [Quick Start guides](https://developers.refinitiv.com/en/api-catalog/refinitiv-data-platform/refinitiv-data-library-for-python/quick-start), \n",
    " [Tutorials](https://developers.refinitiv.com/en/api-catalog/refinitiv-data-platform/refinitiv-data-library-for-python/learning), \n",
    " [Documentation](https://developers.refinitiv.com/en/api-catalog/refinitiv-data-platform/refinitiv-data-library-for-python/docs)\n",
    " and much more.\n",
    "\n",
    "#### Getting Help and Support\n",
    "\n",
    "If you have any questions regarding using the API, please post them on \n",
    "the [Refinitiv Data Q&A Forum](https://community.developers.refinitiv.com/spaces/321/index.html). \n",
    "The Refinitiv Developer Community will be happy to help. "
   ]
  },
  {
   "cell_type": "markdown",
   "metadata": {},
   "source": [
    "## Set the configuration file location\n",
    "For a better ease of use, you have the option to set initialization parameters of the Refinitiv Data Library in the _refinitiv-data.config.json_ configuration file. This file must be located beside your notebook, in your user folder or in a folder defined by the _RD_LIB_CONFIG_PATH_ environment variable. The _RD_LIB_CONFIG_PATH_ environment variable is the option used by this series of examples. The following code sets this environment variable.      "
   ]
  },
  {
   "cell_type": "code",
   "execution_count": 1,
   "metadata": {},
   "outputs": [],
   "source": [
    "import os\n",
    "os.environ[\"RD_LIB_CONFIG_PATH\"] = \"../../../Configuration\""
   ]
  },
  {
   "cell_type": "markdown",
   "metadata": {},
   "source": [
    "## Some Imports to start with"
   ]
  },
  {
   "cell_type": "code",
   "execution_count": 2,
   "metadata": {
    "pycharm": {
     "name": "#%%\n"
    }
   },
   "outputs": [],
   "source": [
    "import refinitiv.data as rd\n",
    "from refinitiv.data.content import ownership"
   ]
  },
  {
   "cell_type": "markdown",
   "metadata": {},
   "source": [
    "## Open the data session\n",
    "\n",
    "The open_session() function creates and open sessions based on the information contained in the refinitiv-data.config.json configuration file. Please edit this file to set the session type and other parameters required for the session you want to open."
   ]
  },
  {
   "cell_type": "code",
   "execution_count": 3,
   "metadata": {},
   "outputs": [
    {
     "data": {
      "text/plain": [
       "<refinitiv.data.session.platform.Definition object at 0x7fc4cd208ed0 {session_name='rdp'}>"
      ]
     },
     "execution_count": 3,
     "metadata": {},
     "output_type": "execute_result"
    }
   ],
   "source": [
    "rd.open_session(\"platform.rdp\")"
   ]
  },
  {
   "cell_type": "markdown",
   "metadata": {},
   "source": [
    "## Retrieve data"
   ]
  },
  {
   "cell_type": "markdown",
   "metadata": {},
   "source": [
    "### Investor - Holdings"
   ]
  },
  {
   "cell_type": "code",
   "execution_count": 4,
   "metadata": {
    "pycharm": {
     "is_executing": true,
     "name": "#%%\n"
    }
   },
   "outputs": [
    {
     "data": {
      "text/html": [
       "<div>\n",
       "<style scoped>\n",
       "    .dataframe tbody tr th:only-of-type {\n",
       "        vertical-align: middle;\n",
       "    }\n",
       "\n",
       "    .dataframe tbody tr th {\n",
       "        vertical-align: top;\n",
       "    }\n",
       "\n",
       "    .dataframe thead th {\n",
       "        text-align: right;\n",
       "    }\n",
       "</style>\n",
       "<table border=\"1\" class=\"dataframe\">\n",
       "  <thead>\n",
       "    <tr style=\"text-align: right;\">\n",
       "      <th></th>\n",
       "      <th>instrument</th>\n",
       "      <th>TR.InvtrFullName</th>\n",
       "      <th>Total Holdings Count</th>\n",
       "      <th>TR.SecurityOwnedRIC</th>\n",
       "      <th>TR.SecurityOwnedName</th>\n",
       "      <th>TR.PctSecuritySharesOut</th>\n",
       "      <th>TR.InvestorSharesHeld</th>\n",
       "      <th>TR.InvestorSharesHeldChg</th>\n",
       "      <th>TR.InvestorValueHeld</th>\n",
       "      <th>TR.InvestorFilingDate</th>\n",
       "    </tr>\n",
       "  </thead>\n",
       "  <tbody>\n",
       "    <tr>\n",
       "      <th>0</th>\n",
       "      <td>VOD.L</td>\n",
       "      <td>Vodafone Group PLC</td>\n",
       "      <td>6</td>\n",
       "      <td>VTWRn.DE</td>\n",
       "      <td>Vantage Towers AG</td>\n",
       "      <td>81.0525</td>\n",
       "      <td>409948931</td>\n",
       "      <td>0</td>\n",
       "      <td>12691276740.0</td>\n",
       "      <td>2021-04-06</td>\n",
       "    </tr>\n",
       "    <tr>\n",
       "      <th>1</th>\n",
       "      <td>VOD.L</td>\n",
       "      <td>&lt;NA&gt;</td>\n",
       "      <td>&lt;NA&gt;</td>\n",
       "      <td>VODJ.J</td>\n",
       "      <td>Vodacom Group Ltd</td>\n",
       "      <td>60.4963</td>\n",
       "      <td>1110629881</td>\n",
       "      <td>0</td>\n",
       "      <td>10023816883.75</td>\n",
       "      <td>2021-06-11</td>\n",
       "    </tr>\n",
       "    <tr>\n",
       "      <th>2</th>\n",
       "      <td>VOD.L</td>\n",
       "      <td>&lt;NA&gt;</td>\n",
       "      <td>&lt;NA&gt;</td>\n",
       "      <td>KD8Gn.H</td>\n",
       "      <td>Kabel Deutschland Holding AG</td>\n",
       "      <td>76.703</td>\n",
       "      <td>67899748</td>\n",
       "      <td>0</td>\n",
       "      <td>7488667475.44</td>\n",
       "      <td>2020-03-31</td>\n",
       "    </tr>\n",
       "    <tr>\n",
       "      <th>3</th>\n",
       "      <td>VOD.L</td>\n",
       "      <td>&lt;NA&gt;</td>\n",
       "      <td>&lt;NA&gt;</td>\n",
       "      <td>SCOM.NR</td>\n",
       "      <td>Safaricom Plc</td>\n",
       "      <td>39.9347</td>\n",
       "      <td>16000000000</td>\n",
       "      <td>0</td>\n",
       "      <td>5308924480.0</td>\n",
       "      <td>2021-03-31</td>\n",
       "    </tr>\n",
       "    <tr>\n",
       "      <th>4</th>\n",
       "      <td>VOD.L</td>\n",
       "      <td>&lt;NA&gt;</td>\n",
       "      <td>&lt;NA&gt;</td>\n",
       "      <td>VODA.TZ</td>\n",
       "      <td>Vodacom Tanzania PLC</td>\n",
       "      <td>75.0</td>\n",
       "      <td>1680000225</td>\n",
       "      <td>588000095</td>\n",
       "      <td>591395124.0</td>\n",
       "      <td>2020-03-31</td>\n",
       "    </tr>\n",
       "    <tr>\n",
       "      <th>5</th>\n",
       "      <td>VOD.L</td>\n",
       "      <td>&lt;NA&gt;</td>\n",
       "      <td>&lt;NA&gt;</td>\n",
       "      <td>ASTS.OQ</td>\n",
       "      <td>AST SpaceMobile Inc</td>\n",
       "      <td>1.9331</td>\n",
       "      <td>1000000</td>\n",
       "      <td>0</td>\n",
       "      <td>12940000.0</td>\n",
       "      <td>2021-06-25</td>\n",
       "    </tr>\n",
       "  </tbody>\n",
       "</table>\n",
       "</div>"
      ],
      "text/plain": [
       "  instrument    TR.InvtrFullName  Total Holdings Count TR.SecurityOwnedRIC  \\\n",
       "0      VOD.L  Vodafone Group PLC                     6            VTWRn.DE   \n",
       "1      VOD.L                <NA>                  <NA>              VODJ.J   \n",
       "2      VOD.L                <NA>                  <NA>             KD8Gn.H   \n",
       "3      VOD.L                <NA>                  <NA>             SCOM.NR   \n",
       "4      VOD.L                <NA>                  <NA>             VODA.TZ   \n",
       "5      VOD.L                <NA>                  <NA>             ASTS.OQ   \n",
       "\n",
       "           TR.SecurityOwnedName  TR.PctSecuritySharesOut  \\\n",
       "0             Vantage Towers AG                  81.0525   \n",
       "1             Vodacom Group Ltd                  60.4963   \n",
       "2  Kabel Deutschland Holding AG                   76.703   \n",
       "3                 Safaricom Plc                  39.9347   \n",
       "4          Vodacom Tanzania PLC                     75.0   \n",
       "5           AST SpaceMobile Inc                   1.9331   \n",
       "\n",
       "   TR.InvestorSharesHeld  TR.InvestorSharesHeldChg  TR.InvestorValueHeld  \\\n",
       "0              409948931                         0         12691276740.0   \n",
       "1             1110629881                         0        10023816883.75   \n",
       "2               67899748                         0         7488667475.44   \n",
       "3            16000000000                         0          5308924480.0   \n",
       "4             1680000225                 588000095           591395124.0   \n",
       "5                1000000                         0            12940000.0   \n",
       "\n",
       "  TR.InvestorFilingDate  \n",
       "0            2021-04-06  \n",
       "1            2021-06-11  \n",
       "2            2020-03-31  \n",
       "3            2021-03-31  \n",
       "4            2020-03-31  \n",
       "5            2021-06-25  "
      ]
     },
     "execution_count": 4,
     "metadata": {},
     "output_type": "execute_result"
    }
   ],
   "source": [
    "response = ownership.investor.holdings.Definition(\"VOD.L\").get_data()\n",
    "response.data.df"
   ]
  },
  {
   "cell_type": "markdown",
   "metadata": {},
   "source": [
    "### Close the session"
   ]
  },
  {
   "cell_type": "code",
   "execution_count": 5,
   "metadata": {
    "pycharm": {
     "is_executing": true,
     "name": "#%%\n"
    }
   },
   "outputs": [],
   "source": [
    "rd.close_session()"
   ]
  },
  {
   "cell_type": "code",
   "execution_count": null,
   "metadata": {},
   "outputs": [],
   "source": []
  }
 ],
 "metadata": {
  "kernelspec": {
   "display_name": "Python 3",
   "language": "python",
   "name": "python3"
  },
  "language_info": {
   "codemirror_mode": {
    "name": "ipython",
    "version": 3
   },
   "file_extension": ".py",
   "mimetype": "text/x-python",
   "name": "python",
   "nbconvert_exporter": "python",
   "pygments_lexer": "ipython3",
   "version": "3.7.6"
  }
 },
 "nbformat": 4,
 "nbformat_minor": 4
}
