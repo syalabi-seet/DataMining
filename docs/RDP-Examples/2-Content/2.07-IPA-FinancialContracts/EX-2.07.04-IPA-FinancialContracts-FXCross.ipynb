{
 "cells": [
  {
   "cell_type": "markdown",
   "metadata": {},
   "source": [
    "----\n",
    "<img src=\"../../../files/refinitiv.png\" width=\"20%\" style=\"vertical-align: top;\">\n",
    "\n",
    "# Data Library for Python\n",
    "\n",
    "----"
   ]
  },
  {
   "cell_type": "markdown",
   "metadata": {},
   "source": [
    "## Content layer - IPA - FX Cross\n",
    "This notebook demonstrates how to use FX Cross pricing analytics."
   ]
  },
  {
   "cell_type": "markdown",
   "metadata": {},
   "source": [
    "#### Learn more\n",
    "\n",
    "To learn more about the Refinitiv Data Library for Python please join the Refinitiv Developer Community. By [registering](https://developers.refinitiv.com/iam/register) and [logging](https://developers.refinitiv.com/content/devportal/en_us/initCookie.html) into the Refinitiv Developer Community portal you will have free access to a number of learning materials like \n",
    " [Quick Start guides](https://developers.refinitiv.com/en/api-catalog/refinitiv-data-platform/refinitiv-data-library-for-python/quick-start), \n",
    " [Tutorials](https://developers.refinitiv.com/en/api-catalog/refinitiv-data-platform/refinitiv-data-library-for-python/learning), \n",
    " [Documentation](https://developers.refinitiv.com/en/api-catalog/refinitiv-data-platform/refinitiv-data-library-for-python/docs)\n",
    " and much more.\n",
    "\n",
    "#### Getting Help and Support\n",
    "\n",
    "If you have any questions regarding using the API, please post them on \n",
    "the [Refinitiv Data Q&A Forum](https://community.developers.refinitiv.com/spaces/321/index.html). \n",
    "The Refinitiv Developer Community will be happy to help. "
   ]
  },
  {
   "cell_type": "markdown",
   "metadata": {},
   "source": [
    "## Set the configuration file location\n",
    "For a better ease of use, you have the option to set initialization parameters of the Refinitiv Data Library in the _refinitiv-data.config.json_ configuration file. This file must be located beside your notebook, in your user folder or in a folder defined by the _RD_LIB_CONFIG_PATH_ environment variable. The _RD_LIB_CONFIG_PATH_ environment variable is the option used by this series of examples. The following code sets this environment variable.      "
   ]
  },
  {
   "cell_type": "code",
   "execution_count": 1,
   "metadata": {},
   "outputs": [],
   "source": [
    "import os\n",
    "os.environ[\"RD_LIB_CONFIG_PATH\"] = \"../../../Configuration\""
   ]
  },
  {
   "cell_type": "markdown",
   "metadata": {},
   "source": [
    "## Some Imports to start with"
   ]
  },
  {
   "cell_type": "code",
   "execution_count": 2,
   "metadata": {},
   "outputs": [],
   "source": [
    "import refinitiv.data as rd\n",
    "from refinitiv.data.content.ipa.financial_contracts import cross"
   ]
  },
  {
   "cell_type": "markdown",
   "metadata": {},
   "source": [
    "## Open the data session\n",
    "\n",
    "The open_session() function creates and open sessions based on the information contained in the refinitiv-data.config.json configuration file. Please edit this file to set the session type and other parameters required for the session you want to open."
   ]
  },
  {
   "cell_type": "code",
   "execution_count": 3,
   "metadata": {},
   "outputs": [
    {
     "data": {
      "text/plain": [
       "<refinitiv.data.session.Definition object at 0x7fa8cb9eecd0 {name='workspace'}>"
      ]
     },
     "execution_count": 3,
     "metadata": {},
     "output_type": "execute_result"
    }
   ],
   "source": [
    "rd.open_session()"
   ]
  },
  {
   "cell_type": "markdown",
   "metadata": {},
   "source": [
    "## Retrieve data"
   ]
  },
  {
   "cell_type": "code",
   "execution_count": 4,
   "metadata": {},
   "outputs": [
    {
     "data": {
      "text/html": [
       "<div>\n",
       "<style scoped>\n",
       "    .dataframe tbody tr th:only-of-type {\n",
       "        vertical-align: middle;\n",
       "    }\n",
       "\n",
       "    .dataframe tbody tr th {\n",
       "        vertical-align: top;\n",
       "    }\n",
       "\n",
       "    .dataframe thead th {\n",
       "        text-align: right;\n",
       "    }\n",
       "</style>\n",
       "<table border=\"1\" class=\"dataframe\">\n",
       "  <thead>\n",
       "    <tr style=\"text-align: right;\">\n",
       "      <th></th>\n",
       "      <th>InstrumentTag</th>\n",
       "      <th>ValuationDate</th>\n",
       "      <th>InstrumentDescription</th>\n",
       "      <th>EndDate</th>\n",
       "      <th>FxSwapsCcy1</th>\n",
       "      <th>FxSwapsCcy2</th>\n",
       "      <th>FxSwapsCcy1Ccy2</th>\n",
       "      <th>FxOutrightCcy1Ccy2</th>\n",
       "    </tr>\n",
       "  </thead>\n",
       "  <tbody>\n",
       "    <tr>\n",
       "      <th>0</th>\n",
       "      <td>1Y-CHFJPY</td>\n",
       "      <td>2018-02-17T00:00:00Z</td>\n",
       "      <td>FxSwap CHFJPY 1M/1Y</td>\n",
       "      <td>2019-02-20T00:00:00Z</td>\n",
       "      <td>-278.97</td>\n",
       "      <td>-269.56</td>\n",
       "      <td>62.627801</td>\n",
       "      <td>115.314842</td>\n",
       "    </tr>\n",
       "  </tbody>\n",
       "</table>\n",
       "</div>"
      ],
      "text/plain": [
       "  InstrumentTag         ValuationDate InstrumentDescription  \\\n",
       "0     1Y-CHFJPY  2018-02-17T00:00:00Z   FxSwap CHFJPY 1M/1Y   \n",
       "\n",
       "                EndDate  FxSwapsCcy1  FxSwapsCcy2  FxSwapsCcy1Ccy2  \\\n",
       "0  2019-02-20T00:00:00Z      -278.97      -269.56        62.627801   \n",
       "\n",
       "   FxOutrightCcy1Ccy2  \n",
       "0          115.314842  "
      ]
     },
     "execution_count": 4,
     "metadata": {},
     "output_type": "execute_result"
    }
   ],
   "source": [
    "response = cross.Definition(\n",
    "    instrument_tag=\"1Y-CHFJPY\",\n",
    "    fx_cross_type=cross.FxCrossType.FX_SWAP,\n",
    "    fx_cross_code=\"CHFJPY\",\n",
    "    legs=[\n",
    "        cross.LegDefinition(\n",
    "            deal_ccy_buy_sell=cross.BuySell.BUY,\n",
    "            fx_leg_type=cross.FxLegType.SWAP_NEAR,\n",
    "            deal_amount=1000000,\n",
    "            contra_amount=897008.3,\n",
    "            tenor=\"1M\",\n",
    "        ),\n",
    "        cross.LegDefinition(\n",
    "            deal_ccy_buy_sell=cross.BuySell.SELL,\n",
    "            fx_leg_type=cross.FxLegType.SWAP_FAR,\n",
    "            deal_amount=1000000,\n",
    "            contra_amount=900000,\n",
    "            tenor=\"1Y\",\n",
    "        ),\n",
    "    ],\n",
    "    pricing_parameters=cross.PricingParameters(\n",
    "        valuation_date=\"2018-02-17T00:00:00Z\",\n",
    "        price_side=cross.PriceSide.ASK,\n",
    "    ),\n",
    "    fields=[\n",
    "        \"InstrumentTag\",\n",
    "        \"ValuationDate\",\n",
    "        \"InstrumentDescription\",\n",
    "        \"EndDate\",\n",
    "        \"FxSwapsCcy1\",\n",
    "        \"FxSwapsCcy2\",\n",
    "        \"FxSwapsCcy1Ccy2\",\n",
    "        \"FxOutrightCcy1Ccy2\",\n",
    "    ]\n",
    ").get_data()\n",
    "\n",
    "response.data.df"
   ]
  },
  {
   "cell_type": "markdown",
   "metadata": {},
   "source": [
    "## Close the session"
   ]
  },
  {
   "cell_type": "code",
   "execution_count": 5,
   "metadata": {
    "pycharm": {
     "name": "#%%\n"
    }
   },
   "outputs": [],
   "source": [
    "rd.close_session()"
   ]
  },
  {
   "cell_type": "code",
   "execution_count": null,
   "metadata": {},
   "outputs": [],
   "source": []
  }
 ],
 "metadata": {
  "kernelspec": {
   "display_name": "Python 3",
   "language": "python",
   "name": "python3"
  },
  "language_info": {
   "codemirror_mode": {
    "name": "ipython",
    "version": 3
   },
   "file_extension": ".py",
   "mimetype": "text/x-python",
   "name": "python",
   "nbconvert_exporter": "python",
   "pygments_lexer": "ipython3",
   "version": "3.7.6"
  }
 },
 "nbformat": 4,
 "nbformat_minor": 4
}
