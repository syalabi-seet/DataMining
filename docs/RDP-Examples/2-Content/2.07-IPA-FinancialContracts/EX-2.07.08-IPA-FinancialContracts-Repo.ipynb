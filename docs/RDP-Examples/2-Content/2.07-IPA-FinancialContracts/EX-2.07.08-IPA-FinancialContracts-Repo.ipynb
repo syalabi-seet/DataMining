{
 "cells": [
  {
   "cell_type": "markdown",
   "metadata": {},
   "source": [
    "----\n",
    "<img src=\"../../../files/refinitiv.png\" width=\"20%\" style=\"vertical-align: top;\">\n",
    "\n",
    "# Data Library for Python\n",
    "\n",
    "----"
   ]
  },
  {
   "cell_type": "markdown",
   "metadata": {},
   "source": [
    "## Content layer - IPA - Repo\n",
    "This notebook demonstrates how to use Repo pricing analytics."
   ]
  },
  {
   "cell_type": "markdown",
   "metadata": {},
   "source": [
    "#### Learn more\n",
    "\n",
    "To learn more about the Refinitiv Data Library for Python please join the Refinitiv Developer Community. By [registering](https://developers.refinitiv.com/iam/register) and [logging](https://developers.refinitiv.com/content/devportal/en_us/initCookie.html) into the Refinitiv Developer Community portal you will have free access to a number of learning materials like \n",
    " [Quick Start guides](https://developers.refinitiv.com/en/api-catalog/refinitiv-data-platform/refinitiv-data-library-for-python/quick-start), \n",
    " [Tutorials](https://developers.refinitiv.com/en/api-catalog/refinitiv-data-platform/refinitiv-data-library-for-python/learning), \n",
    " [Documentation](https://developers.refinitiv.com/en/api-catalog/refinitiv-data-platform/refinitiv-data-library-for-python/docs)\n",
    " and much more.\n",
    "\n",
    "#### Getting Help and Support\n",
    "\n",
    "If you have any questions regarding using the API, please post them on \n",
    "the [Refinitiv Data Q&A Forum](https://community.developers.refinitiv.com/spaces/321/index.html). \n",
    "The Refinitiv Developer Community will be happy to help. "
   ]
  },
  {
   "cell_type": "markdown",
   "metadata": {},
   "source": [
    "## Set the configuration file location\n",
    "For a better ease of use, you have the option to set initialization parameters of the Refinitiv Data Library in the _refinitiv-data.config.json_ configuration file. This file must be located beside your notebook, in your user folder or in a folder defined by the _RD_LIB_CONFIG_PATH_ environment variable. The _RD_LIB_CONFIG_PATH_ environment variable is the option used by this series of examples. The following code sets this environment variable.      "
   ]
  },
  {
   "cell_type": "code",
   "execution_count": 1,
   "metadata": {},
   "outputs": [],
   "source": [
    "import os\n",
    "os.environ[\"RD_LIB_CONFIG_PATH\"] = \"../../../Configuration\""
   ]
  },
  {
   "cell_type": "markdown",
   "metadata": {},
   "source": [
    "## Some Imports to start with"
   ]
  },
  {
   "cell_type": "code",
   "execution_count": 2,
   "metadata": {},
   "outputs": [],
   "source": [
    "import refinitiv.data as rd\n",
    "from refinitiv.data.content.ipa.financial_contracts import repo\n",
    "from refinitiv.data.content.ipa.financial_contracts import bond"
   ]
  },
  {
   "cell_type": "markdown",
   "metadata": {},
   "source": [
    "## Open the data session\n",
    "\n",
    "The open_session() function creates and open sessions based on the information contained in the refinitiv-data.config.json configuration file. Please edit this file to set the session type and other parameters required for the session you want to open."
   ]
  },
  {
   "cell_type": "code",
   "execution_count": 3,
   "metadata": {},
   "outputs": [
    {
     "data": {
      "text/plain": [
       "<refinitiv.data.session.Definition object at 0x7fc5fa30cbd0 {name='workspace'}>"
      ]
     },
     "execution_count": 3,
     "metadata": {},
     "output_type": "execute_result"
    }
   ],
   "source": [
    "rd.open_session()"
   ]
  },
  {
   "cell_type": "markdown",
   "metadata": {},
   "source": [
    "## Retrieve data"
   ]
  },
  {
   "cell_type": "code",
   "execution_count": 4,
   "metadata": {},
   "outputs": [
    {
     "data": {
      "text/html": [
       "<div>\n",
       "<style scoped>\n",
       "    .dataframe tbody tr th:only-of-type {\n",
       "        vertical-align: middle;\n",
       "    }\n",
       "\n",
       "    .dataframe tbody tr th {\n",
       "        vertical-align: top;\n",
       "    }\n",
       "\n",
       "    .dataframe thead th {\n",
       "        text-align: right;\n",
       "    }\n",
       "</style>\n",
       "<table border=\"1\" class=\"dataframe\">\n",
       "  <thead>\n",
       "    <tr style=\"text-align: right;\">\n",
       "      <th></th>\n",
       "      <th>InstrumentTag</th>\n",
       "      <th>StartDate</th>\n",
       "      <th>EndDate</th>\n",
       "      <th>MarketDataDate</th>\n",
       "      <th>ValuationDate</th>\n",
       "      <th>SettlementConvention</th>\n",
       "      <th>RepoRatePercent</th>\n",
       "      <th>DayCountBasis</th>\n",
       "      <th>RepoInterestAmountInDealCcy</th>\n",
       "      <th>NumberOfCoupons</th>\n",
       "      <th>...</th>\n",
       "      <th>PurchasePrice</th>\n",
       "      <th>HaircutRatePercent</th>\n",
       "      <th>InitialMarginPercent</th>\n",
       "      <th>NominalPledgeQuantity</th>\n",
       "      <th>UnderlyingAtStartObject</th>\n",
       "      <th>UnderlyingAtEndObject</th>\n",
       "      <th>RepoCurveId</th>\n",
       "      <th>ErrorCode</th>\n",
       "      <th>ErrorMessage</th>\n",
       "      <th>ProcessingInformation</th>\n",
       "    </tr>\n",
       "  </thead>\n",
       "  <tbody>\n",
       "    <tr>\n",
       "      <th>0</th>\n",
       "      <td>None</td>\n",
       "      <td>2019-11-27T00:00:00Z</td>\n",
       "      <td>2019-12-27T00:00:00Z</td>\n",
       "      <td>2019-11-25T00:00:00Z</td>\n",
       "      <td>2019-11-27T00:00:00Z</td>\n",
       "      <td>2WD</td>\n",
       "      <td>0.951042</td>\n",
       "      <td>Dcb_Actual_360</td>\n",
       "      <td>948.310862</td>\n",
       "      <td>1</td>\n",
       "      <td>...</td>\n",
       "      <td>1196554.246575</td>\n",
       "      <td>0</td>\n",
       "      <td>100</td>\n",
       "      <td>1000000</td>\n",
       "      <td>{'endDate': {'value': '2030-11-30T00:00:00Z', ...</td>\n",
       "      <td>{'endDate': {'value': '2030-11-30T00:00:00Z', ...</td>\n",
       "      <td>YIELD_CURVE_EUR_RepoCurve_11/25/2019 00:00:00</td>\n",
       "      <td></td>\n",
       "      <td></td>\n",
       "      <td>Cannot retrieve reference curve for repo rate,...</td>\n",
       "    </tr>\n",
       "  </tbody>\n",
       "</table>\n",
       "<p>1 rows × 23 columns</p>\n",
       "</div>"
      ],
      "text/plain": [
       "  InstrumentTag             StartDate               EndDate  \\\n",
       "0          None  2019-11-27T00:00:00Z  2019-12-27T00:00:00Z   \n",
       "\n",
       "         MarketDataDate         ValuationDate SettlementConvention  \\\n",
       "0  2019-11-25T00:00:00Z  2019-11-27T00:00:00Z                  2WD   \n",
       "\n",
       "   RepoRatePercent   DayCountBasis  RepoInterestAmountInDealCcy  \\\n",
       "0         0.951042  Dcb_Actual_360                   948.310862   \n",
       "\n",
       "   NumberOfCoupons  ...   PurchasePrice  HaircutRatePercent  \\\n",
       "0                1  ...  1196554.246575                   0   \n",
       "\n",
       "   InitialMarginPercent  NominalPledgeQuantity  \\\n",
       "0                   100                1000000   \n",
       "\n",
       "                             UnderlyingAtStartObject  \\\n",
       "0  {'endDate': {'value': '2030-11-30T00:00:00Z', ...   \n",
       "\n",
       "                               UnderlyingAtEndObject  \\\n",
       "0  {'endDate': {'value': '2030-11-30T00:00:00Z', ...   \n",
       "\n",
       "                                     RepoCurveId ErrorCode ErrorMessage  \\\n",
       "0  YIELD_CURVE_EUR_RepoCurve_11/25/2019 00:00:00                          \n",
       "\n",
       "                               ProcessingInformation  \n",
       "0  Cannot retrieve reference curve for repo rate,...  \n",
       "\n",
       "[1 rows x 23 columns]"
      ]
     },
     "execution_count": 4,
     "metadata": {},
     "output_type": "execute_result"
    }
   ],
   "source": [
    "response = repo.Definition(\n",
    "    start_date=\"2019-11-27\",\n",
    "    tenor=\"1M\",\n",
    "    underlying_instruments=[\n",
    "        repo.UnderlyingContract(\n",
    "            instrument_type=\"Bond\",\n",
    "            instrument_definition=bond.Definition(instrument_code=\"US191450264=\"),\n",
    "        )\n",
    "    ],\n",
    "    pricing_parameters=repo.PricingParameters(market_data_date=\"2019-11-25\"),\n",
    ").get_data()\n",
    "\n",
    "response.data.df"
   ]
  },
  {
   "cell_type": "markdown",
   "metadata": {},
   "source": [
    "## Close the session"
   ]
  },
  {
   "cell_type": "code",
   "execution_count": 5,
   "metadata": {
    "pycharm": {
     "name": "#%%\n"
    }
   },
   "outputs": [],
   "source": [
    "rd.close_session()"
   ]
  },
  {
   "cell_type": "code",
   "execution_count": null,
   "metadata": {},
   "outputs": [],
   "source": []
  }
 ],
 "metadata": {
  "kernelspec": {
   "display_name": "Python 3",
   "language": "python",
   "name": "python3"
  },
  "language_info": {
   "codemirror_mode": {
    "name": "ipython",
    "version": 3
   },
   "file_extension": ".py",
   "mimetype": "text/x-python",
   "name": "python",
   "nbconvert_exporter": "python",
   "pygments_lexer": "ipython3",
   "version": "3.7.6"
  }
 },
 "nbformat": 4,
 "nbformat_minor": 4
}
