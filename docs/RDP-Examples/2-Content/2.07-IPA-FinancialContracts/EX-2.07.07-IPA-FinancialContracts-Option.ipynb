{
 "cells": [
  {
   "cell_type": "markdown",
   "metadata": {},
   "source": [
    "----\n",
    "<img src=\"../../../files/refinitiv.png\" width=\"20%\" style=\"vertical-align: top;\">\n",
    "\n",
    "# Data Library for Python\n",
    "\n",
    "----"
   ]
  },
  {
   "cell_type": "markdown",
   "metadata": {},
   "source": [
    "## Content layer - IPA - Option\n",
    "This notebook demonstrates how to use Option pricing analytics."
   ]
  },
  {
   "cell_type": "markdown",
   "metadata": {},
   "source": [
    "#### Learn more\n",
    "\n",
    "To learn more about the Refinitiv Data Library for Python please join the Refinitiv Developer Community. By [registering](https://developers.refinitiv.com/iam/register) and [logging](https://developers.refinitiv.com/content/devportal/en_us/initCookie.html) into the Refinitiv Developer Community portal you will have free access to a number of learning materials like \n",
    " [Quick Start guides](https://developers.refinitiv.com/en/api-catalog/refinitiv-data-platform/refinitiv-data-library-for-python/quick-start), \n",
    " [Tutorials](https://developers.refinitiv.com/en/api-catalog/refinitiv-data-platform/refinitiv-data-library-for-python/learning), \n",
    " [Documentation](https://developers.refinitiv.com/en/api-catalog/refinitiv-data-platform/refinitiv-data-library-for-python/docs)\n",
    " and much more.\n",
    "\n",
    "#### Getting Help and Support\n",
    "\n",
    "If you have any questions regarding using the API, please post them on \n",
    "the [Refinitiv Data Q&A Forum](https://community.developers.refinitiv.com/spaces/321/index.html). \n",
    "The Refinitiv Developer Community will be happy to help. "
   ]
  },
  {
   "cell_type": "markdown",
   "metadata": {},
   "source": [
    "## Set the configuration file location\n",
    "For a better ease of use, you have the option to set initialization parameters of the Refinitiv Data Library in the _refinitiv-data.config.json_ configuration file. This file must be located beside your notebook, in your user folder or in a folder defined by the _RD_LIB_CONFIG_PATH_ environment variable. The _RD_LIB_CONFIG_PATH_ environment variable is the option used by this series of examples. The following code sets this environment variable.      "
   ]
  },
  {
   "cell_type": "code",
   "execution_count": 1,
   "metadata": {},
   "outputs": [],
   "source": [
    "import os\n",
    "os.environ[\"RD_LIB_CONFIG_PATH\"] = \"../../../Configuration\""
   ]
  },
  {
   "cell_type": "markdown",
   "metadata": {},
   "source": [
    "## Some Imports to start with"
   ]
  },
  {
   "cell_type": "code",
   "execution_count": 2,
   "metadata": {},
   "outputs": [],
   "source": [
    "import refinitiv.data as rd\n",
    "from refinitiv.data.content.ipa.financial_contracts import option"
   ]
  },
  {
   "cell_type": "markdown",
   "metadata": {},
   "source": [
    "## Open the data session\n",
    "\n",
    "The open_session() function creates and open sessions based on the information contained in the refinitiv-data.config.json configuration file. Please edit this file to set the session type and other parameters required for the session you want to open."
   ]
  },
  {
   "cell_type": "code",
   "execution_count": 3,
   "metadata": {},
   "outputs": [
    {
     "data": {
      "text/plain": [
       "<refinitiv.data.session.Definition object at 0x7f887740dcd0 {name='workspace'}>"
      ]
     },
     "execution_count": 3,
     "metadata": {},
     "output_type": "execute_result"
    }
   ],
   "source": [
    "rd.open_session()"
   ]
  },
  {
   "cell_type": "markdown",
   "metadata": {},
   "source": [
    "## Retrieve data"
   ]
  },
  {
   "cell_type": "code",
   "execution_count": 4,
   "metadata": {},
   "outputs": [
    {
     "data": {
      "text/html": [
       "<div>\n",
       "<style scoped>\n",
       "    .dataframe tbody tr th:only-of-type {\n",
       "        vertical-align: middle;\n",
       "    }\n",
       "\n",
       "    .dataframe tbody tr th {\n",
       "        vertical-align: top;\n",
       "    }\n",
       "\n",
       "    .dataframe thead th {\n",
       "        text-align: right;\n",
       "    }\n",
       "</style>\n",
       "<table border=\"1\" class=\"dataframe\">\n",
       "  <thead>\n",
       "    <tr style=\"text-align: right;\">\n",
       "      <th></th>\n",
       "      <th>InstrumentTag</th>\n",
       "      <th>InstrumentDescription</th>\n",
       "      <th>FxCrossCode</th>\n",
       "      <th>ValuationDate</th>\n",
       "      <th>StartDate</th>\n",
       "      <th>EndDate</th>\n",
       "      <th>DeliveryDate</th>\n",
       "      <th>OptionType</th>\n",
       "      <th>DomesticCcy</th>\n",
       "      <th>ForeignCcy</th>\n",
       "      <th>...</th>\n",
       "      <th>SpeedPercent</th>\n",
       "      <th>ZommaPercent</th>\n",
       "      <th>HedgeForwardDeltaPercent</th>\n",
       "      <th>HedgeForwardGammaPercent</th>\n",
       "      <th>HedgeGammaPercent</th>\n",
       "      <th>BreakEvenPricePercent</th>\n",
       "      <th>BreakEvenTimeInDealCcy</th>\n",
       "      <th>ErrorCode</th>\n",
       "      <th>ErrorMessage</th>\n",
       "      <th>ProcessingInformation</th>\n",
       "    </tr>\n",
       "  </thead>\n",
       "  <tbody>\n",
       "    <tr>\n",
       "      <th>0</th>\n",
       "      <td>None</td>\n",
       "      <td>Vanilla (User) AUDUSD (User) 265 20220106</td>\n",
       "      <td>AUDUSD</td>\n",
       "      <td>2021-08-06T00:00:00Z</td>\n",
       "      <td>2021-08-06T00:00:00Z</td>\n",
       "      <td>2022-01-06T00:00:00Z</td>\n",
       "      <td>2022-01-10T00:00:00Z</td>\n",
       "      <td>Vanilla</td>\n",
       "      <td>USD</td>\n",
       "      <td>AUD</td>\n",
       "      <td>...</td>\n",
       "      <td>0</td>\n",
       "      <td>0</td>\n",
       "      <td>0</td>\n",
       "      <td>0</td>\n",
       "      <td>0</td>\n",
       "      <td>26500</td>\n",
       "      <td>0</td>\n",
       "      <td></td>\n",
       "      <td></td>\n",
       "      <td></td>\n",
       "    </tr>\n",
       "  </tbody>\n",
       "</table>\n",
       "<p>1 rows × 53 columns</p>\n",
       "</div>"
      ],
      "text/plain": [
       "  InstrumentTag                      InstrumentDescription FxCrossCode  \\\n",
       "0          None  Vanilla (User) AUDUSD (User) 265 20220106      AUDUSD   \n",
       "\n",
       "          ValuationDate             StartDate               EndDate  \\\n",
       "0  2021-08-06T00:00:00Z  2021-08-06T00:00:00Z  2022-01-06T00:00:00Z   \n",
       "\n",
       "           DeliveryDate OptionType DomesticCcy ForeignCcy  ...  SpeedPercent  \\\n",
       "0  2022-01-10T00:00:00Z    Vanilla         USD        AUD  ...             0   \n",
       "\n",
       "  ZommaPercent  HedgeForwardDeltaPercent  HedgeForwardGammaPercent  \\\n",
       "0            0                         0                         0   \n",
       "\n",
       "   HedgeGammaPercent  BreakEvenPricePercent  BreakEvenTimeInDealCcy  \\\n",
       "0                  0                  26500                       0   \n",
       "\n",
       "   ErrorCode  ErrorMessage  ProcessingInformation  \n",
       "0                                                  \n",
       "\n",
       "[1 rows x 53 columns]"
      ]
     },
     "execution_count": 4,
     "metadata": {},
     "output_type": "execute_result"
    }
   ],
   "source": [
    "response = option.Definition(\n",
    "    underlying_type=option.UnderlyingType.FX,\n",
    "    strike=265,\n",
    "    underlying_definition=option.FxUnderlyingDefinition(\"AUDUSD\"),\n",
    "    notional_ccy=\"AUD\",\n",
    "    tenor=\"5M\",\n",
    "    pricing_parameters=option.PricingParameters(\n",
    "        price_side=option.PriceSide.MID,\n",
    "        valuation_date=\"2021-08-06\",\n",
    "        pricing_model_type=option.PricingModelType.BLACK_SCHOLES,\n",
    "        fx_spot_object=option.BidAskMid(bid=0.7387, ask=0.7387, mid=0.7387),\n",
    "    )\n",
    ").get_data()\n",
    "\n",
    "response.data.df"
   ]
  },
  {
   "cell_type": "markdown",
   "metadata": {},
   "source": [
    "## Close the session"
   ]
  },
  {
   "cell_type": "code",
   "execution_count": 5,
   "metadata": {
    "pycharm": {
     "name": "#%%\n"
    }
   },
   "outputs": [],
   "source": [
    "rd.close_session()"
   ]
  },
  {
   "cell_type": "code",
   "execution_count": null,
   "metadata": {},
   "outputs": [],
   "source": []
  }
 ],
 "metadata": {
  "kernelspec": {
   "display_name": "Python 3",
   "language": "python",
   "name": "python3"
  },
  "language_info": {
   "codemirror_mode": {
    "name": "ipython",
    "version": 3
   },
   "file_extension": ".py",
   "mimetype": "text/x-python",
   "name": "python",
   "nbconvert_exporter": "python",
   "pygments_lexer": "ipython3",
   "version": "3.7.6"
  }
 },
 "nbformat": 4,
 "nbformat_minor": 4
}
