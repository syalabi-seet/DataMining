{
 "cells": [
  {
   "cell_type": "markdown",
   "metadata": {},
   "source": [
    "----\n",
    "<img src=\"../../../files/refinitiv.png\" width=\"20%\" style=\"vertical-align: top;\">\n",
    "\n",
    "# Data Library for Python\n",
    "\n",
    "----"
   ]
  },
  {
   "cell_type": "markdown",
   "metadata": {},
   "source": [
    "## Content layer - IPA - Swap\n",
    "This notebook demonstrates how to use Swap pricing analytics."
   ]
  },
  {
   "cell_type": "markdown",
   "metadata": {},
   "source": [
    "#### Learn more\n",
    "\n",
    "To learn more about the Refinitiv Data Library for Python please join the Refinitiv Developer Community. By [registering](https://developers.refinitiv.com/iam/register) and [logging](https://developers.refinitiv.com/content/devportal/en_us/initCookie.html) into the Refinitiv Developer Community portal you will have free access to a number of learning materials like \n",
    " [Quick Start guides](https://developers.refinitiv.com/en/api-catalog/refinitiv-data-platform/refinitiv-data-library-for-python/quick-start), \n",
    " [Tutorials](https://developers.refinitiv.com/en/api-catalog/refinitiv-data-platform/refinitiv-data-library-for-python/learning), \n",
    " [Documentation](https://developers.refinitiv.com/en/api-catalog/refinitiv-data-platform/refinitiv-data-library-for-python/docs)\n",
    " and much more.\n",
    "\n",
    "#### Getting Help and Support\n",
    "\n",
    "If you have any questions regarding using the API, please post them on \n",
    "the [Refinitiv Data Q&A Forum](https://community.developers.refinitiv.com/spaces/321/index.html). \n",
    "The Refinitiv Developer Community will be happy to help. "
   ]
  },
  {
   "cell_type": "markdown",
   "metadata": {},
   "source": [
    "## Set the configuration file location\n",
    "For a better ease of use, you have the option to set initialization parameters of the Refinitiv Data Library in the _refinitiv-data.config.json_ configuration file. This file must be located beside your notebook, in your user folder or in a folder defined by the _RD_LIB_CONFIG_PATH_ environment variable. The _RD_LIB_CONFIG_PATH_ environment variable is the option used by this series of examples. The following code sets this environment variable.      "
   ]
  },
  {
   "cell_type": "code",
   "execution_count": 1,
   "metadata": {},
   "outputs": [],
   "source": [
    "import os\n",
    "os.environ[\"RD_LIB_CONFIG_PATH\"] = \"../../../Configuration\""
   ]
  },
  {
   "cell_type": "markdown",
   "metadata": {},
   "source": [
    "## Some Imports to start with"
   ]
  },
  {
   "cell_type": "code",
   "execution_count": 2,
   "metadata": {},
   "outputs": [],
   "source": [
    "import refinitiv.data as rd\n",
    "from refinitiv.data.content.ipa.financial_contracts import swap"
   ]
  },
  {
   "cell_type": "markdown",
   "metadata": {},
   "source": [
    "## Open the data session\n",
    "\n",
    "The open_session() function creates and open sessions based on the information contained in the refinitiv-data.config.json configuration file. Please edit this file to set the session type and other parameters required for the session you want to open."
   ]
  },
  {
   "cell_type": "code",
   "execution_count": 3,
   "metadata": {},
   "outputs": [
    {
     "data": {
      "text/plain": [
       "<refinitiv.data.session.Definition object at 0x7f812a30cd10 {name='workspace'}>"
      ]
     },
     "execution_count": 3,
     "metadata": {},
     "output_type": "execute_result"
    }
   ],
   "source": [
    "rd.open_session()"
   ]
  },
  {
   "cell_type": "markdown",
   "metadata": {},
   "source": [
    "## Retrieve data"
   ]
  },
  {
   "cell_type": "code",
   "execution_count": 4,
   "metadata": {},
   "outputs": [
    {
     "data": {
      "text/html": [
       "<div>\n",
       "<style scoped>\n",
       "    .dataframe tbody tr th:only-of-type {\n",
       "        vertical-align: middle;\n",
       "    }\n",
       "\n",
       "    .dataframe tbody tr th {\n",
       "        vertical-align: top;\n",
       "    }\n",
       "\n",
       "    .dataframe thead th {\n",
       "        text-align: right;\n",
       "    }\n",
       "</style>\n",
       "<table border=\"1\" class=\"dataframe\">\n",
       "  <thead>\n",
       "    <tr style=\"text-align: right;\">\n",
       "      <th></th>\n",
       "      <th>InstrumentDescription</th>\n",
       "      <th>Structure</th>\n",
       "      <th>SettlementCcy</th>\n",
       "      <th>InstrumentTag</th>\n",
       "      <th>LegTag</th>\n",
       "      <th>ValuationDate</th>\n",
       "      <th>Calendar</th>\n",
       "      <th>IndexRic</th>\n",
       "      <th>IndexTenor</th>\n",
       "      <th>EndDate</th>\n",
       "      <th>...</th>\n",
       "      <th>AnnuityAmountInReportCcy</th>\n",
       "      <th>AnnuityBp</th>\n",
       "      <th>DV01AmountInDealCcy</th>\n",
       "      <th>DV01AmountInReportCcy</th>\n",
       "      <th>DV01Bp</th>\n",
       "      <th>PV01AmountInDealCcy</th>\n",
       "      <th>PV01AmountInReportCcy</th>\n",
       "      <th>PV01Bp</th>\n",
       "      <th>DiscountCurveName</th>\n",
       "      <th>ForwardCurveName</th>\n",
       "    </tr>\n",
       "  </thead>\n",
       "  <tbody>\n",
       "    <tr>\n",
       "      <th>0</th>\n",
       "      <td>PaidLeg[Curr:'USD' Type:'Float']</td>\n",
       "      <td>CUR:USD CLDR:USA,JAP LTYPE:FLOAT FRQ:4 DMC:M C...</td>\n",
       "      <td>JPY</td>\n",
       "      <td>None</td>\n",
       "      <td>PAID</td>\n",
       "      <td>2020-08-03T00:00:00Z</td>\n",
       "      <td>USA</td>\n",
       "      <td>USD3MFSR=</td>\n",
       "      <td>3M</td>\n",
       "      <td>2024-05-14T00:00:00Z</td>\n",
       "      <td>...</td>\n",
       "      <td>None</td>\n",
       "      <td>0</td>\n",
       "      <td>48.712939</td>\n",
       "      <td>None</td>\n",
       "      <td>0.097426</td>\n",
       "      <td>48.712939</td>\n",
       "      <td>None</td>\n",
       "      <td>0.097426</td>\n",
       "      <td>JPY LIBOR OIS disc. USD LIBOR OIS</td>\n",
       "      <td>USD LIBOR OIS disc. 3M</td>\n",
       "    </tr>\n",
       "    <tr>\n",
       "      <th>1</th>\n",
       "      <td>ReceivedLeg[Curr:'JPY' Type:'Float']</td>\n",
       "      <td>CUR:JPY CLDR:USA,JAP LTYPE:FLOAT FRQ:4 DMC:M C...</td>\n",
       "      <td>JPY</td>\n",
       "      <td>None</td>\n",
       "      <td>RECEIVED</td>\n",
       "      <td>2020-08-03T00:00:00Z</td>\n",
       "      <td>JAP</td>\n",
       "      <td>JPY3MFSR=</td>\n",
       "      <td>3M</td>\n",
       "      <td>2024-05-14T00:00:00Z</td>\n",
       "      <td>...</td>\n",
       "      <td>None</td>\n",
       "      <td>0</td>\n",
       "      <td>23.821714</td>\n",
       "      <td>None</td>\n",
       "      <td>0.045914</td>\n",
       "      <td>23.821714</td>\n",
       "      <td>None</td>\n",
       "      <td>0.045914</td>\n",
       "      <td>JPY LIBOR OIS</td>\n",
       "      <td>JPY LIBOR OIS disc. 3M</td>\n",
       "    </tr>\n",
       "  </tbody>\n",
       "</table>\n",
       "<p>2 rows × 42 columns</p>\n",
       "</div>"
      ],
      "text/plain": [
       "                  InstrumentDescription  \\\n",
       "0      PaidLeg[Curr:'USD' Type:'Float']   \n",
       "1  ReceivedLeg[Curr:'JPY' Type:'Float']   \n",
       "\n",
       "                                           Structure SettlementCcy  \\\n",
       "0  CUR:USD CLDR:USA,JAP LTYPE:FLOAT FRQ:4 DMC:M C...           JPY   \n",
       "1  CUR:JPY CLDR:USA,JAP LTYPE:FLOAT FRQ:4 DMC:M C...           JPY   \n",
       "\n",
       "  InstrumentTag    LegTag         ValuationDate Calendar   IndexRic  \\\n",
       "0          None      PAID  2020-08-03T00:00:00Z      USA  USD3MFSR=   \n",
       "1          None  RECEIVED  2020-08-03T00:00:00Z      JAP  JPY3MFSR=   \n",
       "\n",
       "  IndexTenor               EndDate  ... AnnuityAmountInReportCcy AnnuityBp  \\\n",
       "0         3M  2024-05-14T00:00:00Z  ...                     None         0   \n",
       "1         3M  2024-05-14T00:00:00Z  ...                     None         0   \n",
       "\n",
       "  DV01AmountInDealCcy DV01AmountInReportCcy    DV01Bp  PV01AmountInDealCcy  \\\n",
       "0           48.712939                  None  0.097426            48.712939   \n",
       "1           23.821714                  None  0.045914            23.821714   \n",
       "\n",
       "   PV01AmountInReportCcy    PV01Bp                  DiscountCurveName  \\\n",
       "0                   None  0.097426  JPY LIBOR OIS disc. USD LIBOR OIS   \n",
       "1                   None  0.045914                      JPY LIBOR OIS   \n",
       "\n",
       "         ForwardCurveName  \n",
       "0  USD LIBOR OIS disc. 3M  \n",
       "1  JPY LIBOR OIS disc. 3M  \n",
       "\n",
       "[2 rows x 42 columns]"
      ]
     },
     "execution_count": 4,
     "metadata": {},
     "output_type": "execute_result"
    }
   ],
   "source": [
    "response = swap.Definition(\n",
    "    end_date=\"2024-05-14\",\n",
    "    start_date=\"2019-05-14\",\n",
    "    legs=[\n",
    "        swap.LegDefinition(\n",
    "            direction=swap.Direction.PAID,\n",
    "            notional_ccy=\"USD\",\n",
    "            interest_payment_frequency=swap.Frequency.QUARTERLY,\n",
    "            index_reset_type=swap.IndexResetType.IN_ADVANCE,\n",
    "            notional_amount=5000000,\n",
    "            index_name=\"LIBOR\",\n",
    "            interest_type=swap.InterestType.FLOAT,\n",
    "            payment_business_day_convention=swap.BusinessDayConvention.MODIFIED_FOLLOWING,\n",
    "            spread_bp=0,\n",
    "        ),\n",
    "        swap.LegDefinition(\n",
    "            direction=swap.Direction.RECEIVED,\n",
    "            notional_ccy=\"JPY\",\n",
    "            interest_payment_frequency=swap.Frequency.QUARTERLY,\n",
    "            index_reset_type=swap.IndexResetType.IN_ADVANCE,\n",
    "            notional_amount=549725000,\n",
    "            index_name=\"LIBOR\",\n",
    "            interest_type=swap.InterestType.FLOAT,\n",
    "            payment_business_day_convention=swap.BusinessDayConvention.MODIFIED_FOLLOWING,\n",
    "            spread_bp=20,\n",
    "        ),\n",
    "    ],\n",
    "    pricing_parameters=swap.PricingParameters(\n",
    "        valuation_date=\"2020-08-03\", discounting_ccy=\"JPY\", discounting_tenor=\"OIS\"\n",
    "    ),\n",
    "    fields=[\n",
    "        \"InstrumentDescription\",\n",
    "        \"Structure\",\n",
    "        \"SettlementCcy\",\n",
    "        \"InstrumentTag\",\n",
    "        \"LegTag\",\n",
    "        \"ValuationDate\",\n",
    "        \"Calendar\",\n",
    "        \"IndexRic\",\n",
    "        \"IndexTenor\",\n",
    "        \"EndDate\",\n",
    "        \"StartDate\",\n",
    "        \"Tenor\",\n",
    "        \"InterestType\",\n",
    "        \"NotionalCcy\",\n",
    "        \"NotionalAmount\",\n",
    "        \"MarketValueInDealCcy\",\n",
    "        \"MarketValueInLegCcy\",\n",
    "        \"CleanMarketValueInDealCcy\",\n",
    "        \"CleanMarketValueInLegCcy\",\n",
    "        \"AccruedAmountInDealCcy\",\n",
    "        \"MarketValueInReportCcy\",\n",
    "        \"CleanMarketValueInReportCcy\",\n",
    "        \"AccruedAmountInReportCcy\",\n",
    "        \"CleanPricePercent\",\n",
    "        \"DirtyPricePercent\",\n",
    "        \"AccruedPercent\",\n",
    "        \"FixedRatePercent\",\n",
    "        \"FixedRate\",\n",
    "        \"SpreadBp\",\n",
    "        \"ModifiedDuration\",\n",
    "        \"Duration\",\n",
    "        \"AnnuityAmountInDealCcy\",\n",
    "        \"AnnuityAmountInReportCcy\",\n",
    "        \"AnnuityBp\",\n",
    "        \"DV01AmountInDealCcy\",\n",
    "        \"DV01AmountInReportCcy\",\n",
    "        \"DV01Bp\",\n",
    "        \"PV01AmountInDealCcy\",\n",
    "        \"PV01AmountInReportCcy\",\n",
    "        \"PV01Bp\",\n",
    "        \"DiscountCurveName\",\n",
    "        \"ForwardCurveName\",\n",
    "    ],\n",
    ").get_data()\n",
    "\n",
    "response.data.df"
   ]
  },
  {
   "cell_type": "markdown",
   "metadata": {},
   "source": [
    "## Close the session"
   ]
  },
  {
   "cell_type": "code",
   "execution_count": 5,
   "metadata": {
    "pycharm": {
     "name": "#%%\n"
    }
   },
   "outputs": [],
   "source": [
    "rd.close_session()"
   ]
  },
  {
   "cell_type": "code",
   "execution_count": null,
   "metadata": {},
   "outputs": [],
   "source": []
  }
 ],
 "metadata": {
  "kernelspec": {
   "display_name": "Python 3",
   "language": "python",
   "name": "python3"
  },
  "language_info": {
   "codemirror_mode": {
    "name": "ipython",
    "version": 3
   },
   "file_extension": ".py",
   "mimetype": "text/x-python",
   "name": "python",
   "nbconvert_exporter": "python",
   "pygments_lexer": "ipython3",
   "version": "3.7.6"
  }
 },
 "nbformat": 4,
 "nbformat_minor": 4
}
