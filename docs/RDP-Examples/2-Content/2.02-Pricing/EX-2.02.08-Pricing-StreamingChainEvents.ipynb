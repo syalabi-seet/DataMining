{
 "cells": [
  {
   "cell_type": "markdown",
   "metadata": {},
   "source": [
    "----\n",
    "<img src=\"../../../files/refinitiv.png\" width=\"20%\" style=\"vertical-align: top;\">\n",
    "\n",
    "# Data Library for Python\n",
    "\n",
    "----"
   ]
  },
  {
   "cell_type": "markdown",
   "metadata": {},
   "source": [
    "## Content layer - Chain stream - How to use streaming events\n",
    "The following example demonstrates how to use a chain stream to be notified in realtime of any chain constituent change. The example will show how to create a Chain stream object with registered callbacks so that your application is notified whenever the list of chain constituents changes.\n",
    "\n",
    "Using a Chain stream that way prevents your application from sending too many requests to RDP. This is particularly useful if your application needs to retrieve chain constituents at regular and short intervals."
   ]
  },
  {
   "cell_type": "markdown",
   "metadata": {},
   "source": [
    "#### Learn more\n",
    "\n",
    "To learn more about the Refinitiv Data Library for Python please join the Refinitiv Developer Community. By [registering](https://developers.refinitiv.com/iam/register) and [login](https://developers.refinitiv.com/content/devportal/en_us/initCookie.html) to the Refinitiv Developer Community portal you will get free access to a number of learning materials like \n",
    " [Quick Start guides](https://developers.refinitiv.com/en/api-catalog/refinitiv-data-platform/refinitiv-data-library-for-python/quick-start), \n",
    " [Tutorials](https://developers.refinitiv.com/en/api-catalog/refinitiv-data-platform/refinitiv-data-library-for-python/learning), \n",
    " [Documentation](https://developers.refinitiv.com/en/api-catalog/refinitiv-data-platform/refinitiv-data-library-for-python/docs)\n",
    " and much more.\n",
    "\n",
    "#### Getting Help and Support\n",
    "\n",
    "If you have any questions regarding the API usage, please post them on \n",
    "the [Refinitiv Data Q&A Forum](https://community.developers.refinitiv.com/spaces/321/index.html). \n",
    "The Refinitiv Developer Community will be happy to help."
   ]
  },
  {
   "cell_type": "markdown",
   "metadata": {},
   "source": [
    "## About events"
   ]
  },
  {
   "cell_type": "markdown",
   "metadata": {},
   "source": [
    "\n",
    "To use a Chain stream object with events, you need to define callback functions that are called by a background execution thread when new events are received for the chain you requested. There are 5 different types of callback functions you can use depending on the type of events you are interrested in. These callback functions are optionnal meaning that you do not have to use all of them.\n",
    "\n",
    "### The 5 events types and their related callback functions:\n",
    " - **add events:** add events happen when a new constituent is added to a chain. When several Add events are received for the same index, only the the last received constituent is kept in memory. Other constituents received from the same index are discarded. Chain stream objects automatically manage this logic for their internal cache, meaning that when you call get_constituent you always get the latest list of constituents.\n",
    " \n",
    " Callback functions used to receive Add events take 3 parameters: \n",
    "  - The Chain stream that received the event\n",
    "  - The index the constituent added to the chain\n",
    "  - The name of the constituent\n",
    " \n",
    " - **remove events:** remove events happen when a constituent is removed from a chain. Chain stream objects automatically manage this logic for their internal cache, meaning that when you call get_constituent you always get the latest values.\n",
    " \n",
    " Callback functions used to receive Remove events take 3 parameters: \n",
    "  - The Chain streaml that received the event\n",
    "  - The index of the constituent removed from the chain\n",
    "  - The name of the removed constituent\n",
    " \n",
    " \n",
    " - **update events:** Update events are received the name of a chain constituent is updated. When several Update events are received for the same index, only the the last received constituent is kept in memory. Other constituents received from the same index are discarded. Chain stream objects automatically manage this logic for their internal cache, meaning that when you call get_constituent you always get the latest list of constituents.\n",
    " \n",
    " Callback functions used to receive Update events take 3 parameters \n",
    "  - The Chains that received the event\n",
    "  - The name of the concerned chain record\n",
    "  - The updated fields with their new values\n",
    " \n",
    " - **complete events:** A Complete event is received once all constituents of the chain have been received. \n",
    "\n",
    " Callback functions used to receive Complete events take 1 parameter\n",
    "  - The Chains that received the event\n",
    "  - The constituents of the chain\n",
    "\n",
    "- **error events:** An Error event is received if the Chain failed to decode the chain completely.\n",
    "\n",
    "Callback functions used to receive Error events take 2 parameters\n",
    "  - The Chains that received the event\n",
    "  - The Received error\n",
    "\n",
    "\n",
    "### Typical events flow\n",
    "\n",
    "As an example, if you use a Chains stream with event for '0#.DJI'\n",
    "\n",
    "You may receive a flow of events like one:\n",
    " 1. **Add** event for 0#.DJI : 0 - TNXP.O\n",
    " 1. **Add** event for 0#.DJI : 1 - TQQQ.O\n",
    " 1. **Add** event for 0#.DJI : 2 - QQQ.O\n",
    " 1. **Add** event for 0#.DJI : 3 - AAPL.O\n",
    " 1. **Add** event for ...\n",
    " 1. **Add** event for ...\n",
    " 1. **Add** event for ...\n",
    " 1. **Complete** event 0#.DJI => Indicating that data (or status) has been received for all requested chain records\n",
    "\n",
    "  \n",
    "\n"
   ]
  },
  {
   "cell_type": "markdown",
   "metadata": {},
   "source": [
    "## Set the configuration file location\n",
    "For a better ease of use, you have the option to set initialization parameters of the Refinitiv Data Library in the _refinitiv-data.config.json_ configuration file. This file must be located beside your notebook, in your user folder or in a folder defined by the _RD_LIB_CONFIG_PATH_ environment variable. The _RD_LIB_CONFIG_PATH_ environment variable is the option used by this series of examples. The following code sets this environment variable.      "
   ]
  },
  {
   "cell_type": "code",
   "execution_count": 13,
   "metadata": {},
   "outputs": [],
   "source": [
    "import os\n",
    "os.environ[\"RD_LIB_CONFIG_PATH\"] = \"../../../Configuration\""
   ]
  },
  {
   "cell_type": "markdown",
   "metadata": {},
   "source": [
    "## Some Imports to start with"
   ]
  },
  {
   "cell_type": "code",
   "execution_count": 1,
   "metadata": {},
   "outputs": [],
   "source": [
    "import refinitiv.data as rd\n",
    "from refinitiv.data.content import pricing\n",
    "import datetime"
   ]
  },
  {
   "cell_type": "markdown",
   "metadata": {},
   "source": [
    "## Open the data session\n",
    "\n",
    "The open_session() function creates and open sessions based on the information contained in the refinitiv-data.config.json configuration file. Please edit this file to set the session type and other parameters required for the session you want to open."
   ]
  },
  {
   "cell_type": "code",
   "execution_count": 2,
   "metadata": {},
   "outputs": [
    {
     "data": {
      "text/plain": [
       "<refinitiv.data.session.Definition object at 0x7fe9142182b0 {name='workspace'}>"
      ]
     },
     "execution_count": 2,
     "metadata": {},
     "output_type": "execute_result"
    }
   ],
   "source": [
    "rd.open_session()"
   ]
  },
  {
   "cell_type": "markdown",
   "metadata": {},
   "source": [
    "## Retrieve data"
   ]
  },
  {
   "cell_type": "markdown",
   "metadata": {},
   "source": [
    "### Define callbacks to capture incoming events"
   ]
  },
  {
   "cell_type": "markdown",
   "metadata": {},
   "source": [
    "The following function will be used to capture Add events. It displays the name of the added constituent in the chain record."
   ]
  },
  {
   "cell_type": "code",
   "execution_count": 3,
   "metadata": {},
   "outputs": [],
   "source": [
    "def display_add(constituent, index, chain_stream):\n",
    "    time_now = datetime.datetime.now().time()\n",
    "    print(f\"{time_now}- Add event received for {chain_stream.name}. {index}: {constituent}\")"
   ]
  },
  {
   "cell_type": "markdown",
   "metadata": {},
   "source": [
    "The following function will be used to capture Remove events. It displays the name of the removed constituent from the chain record."
   ]
  },
  {
   "cell_type": "code",
   "execution_count": 4,
   "metadata": {},
   "outputs": [],
   "source": [
    "def display_remove(constituent, index, chain_stream):\n",
    "    current_time = datetime.datetime.now().time()\n",
    "    print(f\"{time_now}- Remove event received for {chain_stream.name}. {index}: {constituent}\")"
   ]
  },
  {
   "cell_type": "markdown",
   "metadata": {},
   "source": [
    "The following function will be used to capture Update events. It displays the name of the updated constituent on the chain record."
   ]
  },
  {
   "cell_type": "code",
   "execution_count": 5,
   "metadata": {},
   "outputs": [],
   "source": [
    "def display_update(new_constituent, old_constituent, index, chain_stream):\n",
    "    time_now = datetime.datetime.now().time()\n",
    "    print(\n",
    "        f\"{time_now}- Update event received for {chain_stream.name}.\"\n",
    "        f\"{index}: {old_constituent} => {new_constituent}\"\n",
    "    )"
   ]
  },
  {
   "cell_type": "markdown",
   "metadata": {},
   "source": [
    "The following function will be used to capture a complete decoded events. It calls get_constituents to pull out the memory cache of the Chain as a list of constituents and displays it. As a result, the latest values of all constituents of this chain record is displayed in a list."
   ]
  },
  {
   "cell_type": "code",
   "execution_count": 6,
   "metadata": {},
   "outputs": [],
   "source": [
    "def display_complete(constituents, chain_stream):\n",
    "    time_now = datetime.datetime.now().time()\n",
    "    print(\n",
    "        f\"{time_now}- Chain {chain_stream.name}\"\n",
    "        f\" is completely decoded.\\nconstituents:\\n{constituents}\"\n",
    "    )"
   ]
  },
  {
   "cell_type": "markdown",
   "metadata": {},
   "source": [
    "The following function will be used to capture Error events. It displays the name of the chain and the received error."
   ]
  },
  {
   "cell_type": "code",
   "execution_count": 7,
   "metadata": {},
   "outputs": [],
   "source": [
    "def display_error(error, chain_record, chain_stream):\n",
    "    time_now = datetime.datetime.now().time()\n",
    "    print(f\"{time_now}- Error received for Chain {chain_stream.name}. Chain Record: {chain_record}. Error: {error}\")   "
   ]
  },
  {
   "cell_type": "markdown",
   "metadata": {},
   "source": [
    "### Create and open a Chain stream\n",
    "\n",
    "A Chain stream object is created for a specific list of chain record. Note that skip_summary_links and skip_empty are optionals default are True. The override_summary_links is an opional argument, it is used for override the number of summary links for given chain record when the skip_summary_links is True."
   ]
  },
  {
   "cell_type": "code",
   "execution_count": 8,
   "metadata": {},
   "outputs": [
    {
     "data": {
      "text/plain": [
       "<refinitiv.data.content.pricing.chain.Stream object at 0x7fe914255a30 {name='.AV.O'}>"
      ]
     },
     "execution_count": 8,
     "metadata": {},
     "output_type": "execute_result"
    }
   ],
   "source": [
    "nyse_active_volume_leaders = pricing.chain.Definition(\".AV.O\").get_stream()\n",
    "\n",
    "nyse_active_volume_leaders.on_add(display_add)\n",
    "nyse_active_volume_leaders.on_remove(display_remove)\n",
    "nyse_active_volume_leaders.on_update(display_update)\n",
    "nyse_active_volume_leaders.on_complete(display_complete)\n",
    "nyse_active_volume_leaders.on_error(display_error)"
   ]
  },
  {
   "cell_type": "markdown",
   "metadata": {},
   "source": [
    "The open method tells the Chain object to subscribe to the streams of the related chain elements."
   ]
  },
  {
   "cell_type": "markdown",
   "metadata": {},
   "source": [
    "### Open the chain stream and wait for events"
   ]
  },
  {
   "cell_type": "code",
   "execution_count": 9,
   "metadata": {},
   "outputs": [
    {
     "name": "stdout",
     "output_type": "stream",
     "text": [
      "18:20:53.792847- Add event received for .AV.O. TQQQ.O: 0\n",
      "18:20:53.793032- Add event received for .AV.O. SNDL.O: 1\n",
      "18:20:53.793104- Add event received for .AV.O. CLVS.O: 2\n",
      "18:20:53.793166- Add event received for .AV.O. MULN.O: 3\n",
      "18:20:53.793225- Add event received for .AV.O. CEAD.O: 4\n",
      "18:20:53.793283- Add event received for .AV.O. AMD.O: 5\n",
      "18:20:53.793372- Add event received for .AV.O. XELA.O: 6\n",
      "18:20:53.793432- Add event received for .AV.O. SQQQ.O: 7\n",
      "18:20:53.793490- Add event received for .AV.O. AAPL.O: 8\n",
      "18:20:53.793548- Add event received for .AV.O. AMZN.O: 9\n",
      "18:20:53.793608- Add event received for .AV.O. ENDP.O: 10\n",
      "18:20:53.793670- Add event received for .AV.O. GRAB.O: 11\n",
      "18:20:53.793727- Add event received for .AV.O. NVDA.O: 12\n",
      "18:20:53.793795- Add event received for .AV.O. QQQ.O: 13\n",
      "18:20:53.864809- Add event received for .AV.O. TSLA.O: 14\n",
      "18:20:53.864938- Add event received for .AV.O. MREO.O: 15\n",
      "18:20:53.864993- Add event received for .AV.O. ADN.O: 16\n",
      "18:20:53.865049- Add event received for .AV.O. AAL.O: 17\n",
      "18:20:53.865106- Add event received for .AV.O. IMPP.O: 18\n",
      "18:20:53.865152- Add event received for .AV.O. HCTI.O: 19\n",
      "18:20:53.865206- Add event received for .AV.O. LI.O: 20\n",
      "18:20:53.865252- Add event received for .AV.O. SOFI.O: 21\n",
      "18:20:53.865301- Add event received for .AV.O. NMTR.O: 22\n",
      "18:20:53.865346- Add event received for .AV.O. GMVD.O: 23\n",
      "18:20:53.865395- Add event received for .AV.O. RIVN.O: 24\n",
      "18:20:53.865514- Chain .AV.O is completely decoded.\n",
      "constituents:\n",
      "['TQQQ.O', 'SNDL.O', 'CLVS.O', 'MULN.O', 'CEAD.O', 'AMD.O', 'XELA.O', 'SQQQ.O', 'AAPL.O', 'AMZN.O', 'ENDP.O', 'GRAB.O', 'NVDA.O', 'QQQ.O', 'TSLA.O', 'MREO.O', 'ADN.O', 'AAL.O', 'IMPP.O', 'HCTI.O', 'LI.O', 'SOFI.O', 'NMTR.O', 'GMVD.O', 'RIVN.O']\n"
     ]
    },
    {
     "data": {
      "text/plain": [
       "<OpenState.Opened: 'Opened'>"
      ]
     },
     "execution_count": 9,
     "metadata": {},
     "output_type": "execute_result"
    }
   ],
   "source": [
    "nyse_active_volume_leaders.open()"
   ]
  },
  {
   "cell_type": "markdown",
   "metadata": {},
   "source": [
    "As soon as the open method returns, the stream object is ready to be used. Its internal cache is constantly kept updated with the latest streaming information received from he platform. All this happens behind the scene, waiting for your application to pull out data from the cache.  "
   ]
  },
  {
   "cell_type": "markdown",
   "metadata": {},
   "source": [
    "### Close the stream"
   ]
  },
  {
   "cell_type": "code",
   "execution_count": 10,
   "metadata": {},
   "outputs": [
    {
     "data": {
      "text/plain": [
       "<OpenState.Closed: 'Closed'>"
      ]
     },
     "execution_count": 10,
     "metadata": {},
     "output_type": "execute_result"
    }
   ],
   "source": [
    "nyse_active_volume_leaders.close()"
   ]
  },
  {
   "cell_type": "markdown",
   "metadata": {},
   "source": [
    "## Close the session"
   ]
  },
  {
   "cell_type": "code",
   "execution_count": 11,
   "metadata": {},
   "outputs": [],
   "source": [
    "rd.close_session()"
   ]
  },
  {
   "cell_type": "code",
   "execution_count": null,
   "metadata": {},
   "outputs": [],
   "source": []
  }
 ],
 "metadata": {
  "kernelspec": {
   "display_name": "Python 3 (ipykernel)",
   "language": "python",
   "name": "python3"
  },
  "language_info": {
   "codemirror_mode": {
    "name": "ipython",
    "version": 3
   },
   "file_extension": ".py",
   "mimetype": "text/x-python",
   "name": "python",
   "nbconvert_exporter": "python",
   "pygments_lexer": "ipython3",
   "version": "3.9.7"
  }
 },
 "nbformat": 4,
 "nbformat_minor": 4
}
