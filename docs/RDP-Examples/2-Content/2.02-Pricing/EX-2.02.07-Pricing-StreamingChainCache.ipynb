{
 "cells": [
  {
   "cell_type": "markdown",
   "metadata": {},
   "source": [
    "----\n",
    "<img src=\"../../../files/refinitiv.png\" width=\"20%\" style=\"vertical-align: top;\">\n",
    "\n",
    "# Data Library for Python\n",
    "\n",
    "----"
   ]
  },
  {
   "cell_type": "markdown",
   "metadata": {},
   "source": [
    "## Content layer - Chain stream - Used as a real-time data cache\n",
    "The following example demonstrates how to a chain stream to keep in memory the latest constituents of a chain. The example will show how to create a Chain stream object, which automatically manages a streaming cache available for access at any time. Your application can then reach into this cache and pull out real-time snapshots of chain constituents by just calling a simple access method.\n",
    "\n",
    "Using a Chain stream that way prevents your application from sending too many requests to RDP. This is particularly useful if your application needs to retrieve chain constituents at regular and short intervals."
   ]
  },
  {
   "cell_type": "markdown",
   "metadata": {},
   "source": [
    "#### Learn more\n",
    "\n",
    "To learn more about the Refinitiv Data Library for Python please join the Refinitiv Developer Community. By [registering](https://developers.refinitiv.com/iam/register) and [login](https://developers.refinitiv.com/content/devportal/en_us/initCookie.html) to the Refinitiv Developer Community portal you will get free access to a number of learning materials like \n",
    " [Quick Start guides](https://developers.refinitiv.com/en/api-catalog/refinitiv-data-platform/refinitiv-data-library-for-python/quick-start), \n",
    " [Tutorials](https://developers.refinitiv.com/en/api-catalog/refinitiv-data-platform/refinitiv-data-library-for-python/learning), \n",
    " [Documentation](https://developers.refinitiv.com/en/api-catalog/refinitiv-data-platform/refinitiv-data-library-for-python/docs)\n",
    " and much more.\n",
    "\n",
    "#### Getting Help and Support\n",
    "\n",
    "If you have any questions regarding the API usage, please post them on \n",
    "the [Refinitiv Data Q&A Forum](https://community.developers.refinitiv.com/spaces/321/index.html). \n",
    "The Refinitiv Developer Community will be happy to help."
   ]
  },
  {
   "cell_type": "markdown",
   "metadata": {},
   "source": [
    "## Set the configuration file location\n",
    "For a better ease of use, you have the option to set initialization parameters of the Refinitiv Data Library in the _refinitiv-data.config.json_ configuration file. This file must be located beside your notebook, in your user folder or in a folder defined by the _RD_LIB_CONFIG_PATH_ environment variable. The _RD_LIB_CONFIG_PATH_ environment variable is the option used by this series of examples. The following code sets this environment variable.      "
   ]
  },
  {
   "cell_type": "code",
   "execution_count": 1,
   "metadata": {},
   "outputs": [],
   "source": [
    "import os\n",
    "os.environ[\"RD_LIB_CONFIG_PATH\"] = \"../../../Configuration\""
   ]
  },
  {
   "cell_type": "markdown",
   "metadata": {},
   "source": [
    "## Some Imports to start with"
   ]
  },
  {
   "cell_type": "code",
   "execution_count": 2,
   "metadata": {},
   "outputs": [],
   "source": [
    "import refinitiv.data as rd\n",
    "from refinitiv.data.content import pricing"
   ]
  },
  {
   "cell_type": "markdown",
   "metadata": {},
   "source": [
    "## Open the data session\n",
    "\n",
    "The open_session() function creates and open sessions based on the information contained in the refinitiv-data.config.json configuration file. Please edit this file to set the session type and other parameters required for the session you want to open."
   ]
  },
  {
   "cell_type": "code",
   "execution_count": 3,
   "metadata": {},
   "outputs": [
    {
     "data": {
      "text/plain": [
       "<refinitiv.data.session.Definition object at 0x7f9638a8fc10 {name='workspace'}>"
      ]
     },
     "execution_count": 3,
     "metadata": {},
     "output_type": "execute_result"
    }
   ],
   "source": [
    "rd.open_session()"
   ]
  },
  {
   "cell_type": "markdown",
   "metadata": {},
   "source": [
    "## Retrieve data"
   ]
  },
  {
   "cell_type": "markdown",
   "metadata": {},
   "source": [
    "### Create and open a Chain stream"
   ]
  },
  {
   "cell_type": "code",
   "execution_count": 4,
   "metadata": {},
   "outputs": [],
   "source": [
    "ftse = pricing.chain.Definition(\"0#.FTSE\").get_stream()"
   ]
  },
  {
   "cell_type": "markdown",
   "metadata": {},
   "source": [
    "The open method tells the Chain object to subscribe to the streams of the related chain elements."
   ]
  },
  {
   "cell_type": "code",
   "execution_count": 5,
   "metadata": {},
   "outputs": [
    {
     "data": {
      "text/plain": [
       "<OpenState.Opened: 1>"
      ]
     },
     "execution_count": 5,
     "metadata": {},
     "output_type": "execute_result"
    }
   ],
   "source": [
    "ftse.open()"
   ]
  },
  {
   "cell_type": "markdown",
   "metadata": {},
   "source": [
    "As soon as the open method returns, the stream object is ready to be used. Its internal cache is constantly kept updated with the latest streaming information received from he platform. All this happens behind the scene, waiting for your application to pull out data from the cache.  "
   ]
  },
  {
   "cell_type": "markdown",
   "metadata": {},
   "source": [
    "### Check if the opened stream is a chain"
   ]
  },
  {
   "cell_type": "code",
   "execution_count": 6,
   "metadata": {},
   "outputs": [
    {
     "data": {
      "text/plain": [
       "True"
      ]
     },
     "execution_count": 6,
     "metadata": {},
     "output_type": "execute_result"
    }
   ],
   "source": [
    "ftse.is_chain"
   ]
  },
  {
   "cell_type": "markdown",
   "metadata": {},
   "source": [
    "### Pull out summary links"
   ]
  },
  {
   "cell_type": "code",
   "execution_count": 7,
   "metadata": {},
   "outputs": [
    {
     "data": {
      "text/plain": [
       "['.FTSE', '.AD.FTSE']"
      ]
     },
     "execution_count": 7,
     "metadata": {},
     "output_type": "execute_result"
    }
   ],
   "source": [
    "ftse.summary_links"
   ]
  },
  {
   "cell_type": "markdown",
   "metadata": {},
   "source": [
    "### Pull out chain constituents\n",
    "Once the Chain object opened, you can use the _constituents_ property to pull out the constituents of the chain from its internal cache. This property can be used any number of times. As each call to _constituents_ returns the latest values received from the platform, successive calls may return different constituents. Values of the returned list do not change in real-time, _constituents_ must be used every time your application needs fresh real-time values. "
   ]
  },
  {
   "cell_type": "code",
   "execution_count": 8,
   "metadata": {},
   "outputs": [
    {
     "name": "stdout",
     "output_type": "stream",
     "text": [
      "['AAL.L', 'ABDN.L', 'ABF.L', 'ADML.L', 'AHT.L', 'ANTO.L', 'AUTOA.L', 'AV.L', 'AVST.L', 'AVV.L', 'AZN.L', 'BAES.L', 'BARC.L', 'BATS.L', 'BDEV.L', 'BHPB.L', 'BKGH.L', 'BLND.L', 'BMEB.L', 'BNZL.L', 'BP.L', 'BRBY.L', 'BT.L', 'CCH.L', 'CPG.L', 'CRDA.L', 'CRH.L', 'DARK.L', 'DCC.L', 'DGE.L', 'ENT.L', 'EVRE.L', 'EXPN.L', 'FERG.L', 'FLTRF.L', 'FRES.L', 'GLEN.L', 'GSK.L', 'HIK.L', 'HLMA.L', 'HRGV.L', 'HSBA.L', 'ICAG.L', 'ICP.L', 'IHG.L', 'III.L', 'IMB.L', 'INF.L', 'ITRK.L', 'ITV.L', 'JD.L', 'JMAT.L', 'KGF.L', 'LAND.L', 'LGEN.L', 'LLOY.L', 'LSEG.L', 'MGGT.L', 'MNDI.L', 'MNG.L', 'MRON.L', 'NG.L', 'NWG.L', 'NXT.L', 'OCDO.L', 'PHNX.L', 'POLYP.L', 'PRU.L', 'PSHP.L', 'PSN.L', 'PSON.L', 'RDSa.L', 'RDSb.L', 'REL.L', 'RIO.L', 'RKT.L', 'RMG.L', 'RMV.L', 'RR.L', 'RTO.L', 'SBRY.L', 'SDR.L', 'SGE.L', 'SGRO.L', 'SJP.L', 'SKG.L', 'SMDS.L', 'SMIN.L', 'SMT.L', 'SN.L', 'SPX.L', 'SSE.L', 'STAN.L', 'SVT.L', 'TSCO.L', 'TW.L', 'ULVR.L', 'UU.L', 'VOD.L', 'WPP.L', 'WTB.L']\n"
     ]
    }
   ],
   "source": [
    "print(ftse.constituents)"
   ]
  },
  {
   "cell_type": "markdown",
   "metadata": {},
   "source": [
    "### Direct access to constituents"
   ]
  },
  {
   "cell_type": "code",
   "execution_count": 9,
   "metadata": {},
   "outputs": [
    {
     "name": "stdout",
     "output_type": "stream",
     "text": [
      "FTSE constituent at index 1 : ABDN.L\n"
     ]
    }
   ],
   "source": [
    "print(\"FTSE constituent at index 1 :\", ftse.constituents[1] )"
   ]
  },
  {
   "cell_type": "markdown",
   "metadata": {},
   "source": [
    "### Iteration on constituents"
   ]
  },
  {
   "cell_type": "code",
   "execution_count": 10,
   "metadata": {},
   "outputs": [
    {
     "name": "stdout",
     "output_type": "stream",
     "text": [
      "0 = AAL.L\n",
      "1 = ABDN.L\n",
      "2 = ABF.L\n",
      "3 = ADML.L\n",
      "4 = AHT.L\n",
      "5 = ANTO.L\n",
      "6 = AUTOA.L\n",
      "7 = AV.L\n",
      "8 = AVST.L\n",
      "9 = AVV.L\n",
      "10 = AZN.L\n",
      "11 = BAES.L\n",
      "12 = BARC.L\n",
      "13 = BATS.L\n",
      "14 = BDEV.L\n",
      "15 = BHPB.L\n",
      "16 = BKGH.L\n",
      "17 = BLND.L\n",
      "18 = BMEB.L\n",
      "19 = BNZL.L\n",
      "20 = BP.L\n",
      "21 = BRBY.L\n",
      "22 = BT.L\n",
      "23 = CCH.L\n",
      "24 = CPG.L\n",
      "25 = CRDA.L\n",
      "26 = CRH.L\n",
      "27 = DARK.L\n",
      "28 = DCC.L\n",
      "29 = DGE.L\n",
      "30 = ENT.L\n",
      "31 = EVRE.L\n",
      "32 = EXPN.L\n",
      "33 = FERG.L\n",
      "34 = FLTRF.L\n",
      "35 = FRES.L\n",
      "36 = GLEN.L\n",
      "37 = GSK.L\n",
      "38 = HIK.L\n",
      "39 = HLMA.L\n",
      "40 = HRGV.L\n",
      "41 = HSBA.L\n",
      "42 = ICAG.L\n",
      "43 = ICP.L\n",
      "44 = IHG.L\n",
      "45 = III.L\n",
      "46 = IMB.L\n",
      "47 = INF.L\n",
      "48 = ITRK.L\n",
      "49 = ITV.L\n",
      "50 = JD.L\n",
      "51 = JMAT.L\n",
      "52 = KGF.L\n",
      "53 = LAND.L\n",
      "54 = LGEN.L\n",
      "55 = LLOY.L\n",
      "56 = LSEG.L\n",
      "57 = MGGT.L\n",
      "58 = MNDI.L\n",
      "59 = MNG.L\n",
      "60 = MRON.L\n",
      "61 = NG.L\n",
      "62 = NWG.L\n",
      "63 = NXT.L\n",
      "64 = OCDO.L\n",
      "65 = PHNX.L\n",
      "66 = POLYP.L\n",
      "67 = PRU.L\n",
      "68 = PSHP.L\n",
      "69 = PSN.L\n",
      "70 = PSON.L\n",
      "71 = RDSa.L\n",
      "72 = RDSb.L\n",
      "73 = REL.L\n",
      "74 = RIO.L\n",
      "75 = RKT.L\n",
      "76 = RMG.L\n",
      "77 = RMV.L\n",
      "78 = RR.L\n",
      "79 = RTO.L\n",
      "80 = SBRY.L\n",
      "81 = SDR.L\n",
      "82 = SGE.L\n",
      "83 = SGRO.L\n",
      "84 = SJP.L\n",
      "85 = SKG.L\n",
      "86 = SMDS.L\n",
      "87 = SMIN.L\n",
      "88 = SMT.L\n",
      "89 = SN.L\n",
      "90 = SPX.L\n",
      "91 = SSE.L\n",
      "92 = STAN.L\n",
      "93 = SVT.L\n",
      "94 = TSCO.L\n",
      "95 = TW.L\n",
      "96 = ULVR.L\n",
      "97 = UU.L\n",
      "98 = VOD.L\n",
      "99 = WPP.L\n",
      "100 = WTB.L\n"
     ]
    }
   ],
   "source": [
    "for index, constituent in enumerate( ftse.constituents ):\n",
    "    print(f\"{index} = {constituent}\")"
   ]
  },
  {
   "cell_type": "markdown",
   "metadata": {},
   "source": [
    "### Close the stream"
   ]
  },
  {
   "cell_type": "code",
   "execution_count": 11,
   "metadata": {},
   "outputs": [
    {
     "data": {
      "text/plain": [
       "<OpenState.Closed: 3>"
      ]
     },
     "execution_count": 11,
     "metadata": {},
     "output_type": "execute_result"
    }
   ],
   "source": [
    "ftse.close()"
   ]
  },
  {
   "cell_type": "markdown",
   "metadata": {},
   "source": [
    "Once closed is called the Chain stops updating its internal cache. The _constituents_ property can still be used but it will always return the same values. "
   ]
  },
  {
   "cell_type": "markdown",
   "metadata": {},
   "source": [
    "## Close the session"
   ]
  },
  {
   "cell_type": "code",
   "execution_count": 12,
   "metadata": {},
   "outputs": [],
   "source": [
    "rd.close_session()"
   ]
  },
  {
   "cell_type": "code",
   "execution_count": null,
   "metadata": {},
   "outputs": [],
   "source": []
  }
 ],
 "metadata": {
  "kernelspec": {
   "display_name": "Python 3",
   "language": "python",
   "name": "python3"
  },
  "language_info": {
   "codemirror_mode": {
    "name": "ipython",
    "version": 3
   },
   "file_extension": ".py",
   "mimetype": "text/x-python",
   "name": "python",
   "nbconvert_exporter": "python",
   "pygments_lexer": "ipython3",
   "version": "3.7.6"
  }
 },
 "nbformat": 4,
 "nbformat_minor": 4
}
