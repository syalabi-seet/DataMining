{
 "cells": [
  {
   "cell_type": "markdown",
   "metadata": {},
   "source": [
    "----\n",
    "<img src=\"../../../files/refinitiv.png\" width=\"20%\" style=\"vertical-align: top;\">\n",
    "\n",
    "# Data Library for Python\n",
    "\n",
    "----"
   ]
  },
  {
   "cell_type": "markdown",
   "metadata": {},
   "source": [
    "## Content layer - IPA - ZC Curve Definition\n",
    "This notebook demonstrates how to retrieve Zero Coupon Curve Definitions."
   ]
  },
  {
   "cell_type": "markdown",
   "metadata": {},
   "source": [
    "#### Learn more\n",
    "\n",
    "To learn more about the Refinitiv Data Library for Python please join the Refinitiv Developer Community. By [registering](https://developers.refinitiv.com/iam/register) and [logging](https://developers.refinitiv.com/content/devportal/en_us/initCookie.html) into the Refinitiv Developer Community portal you will have free access to a number of learning materials like \n",
    " [Quick Start guides](https://developers.refinitiv.com/en/api-catalog/refinitiv-data-platform/refinitiv-data-library-for-python/quick-start), \n",
    " [Tutorials](https://developers.refinitiv.com/en/api-catalog/refinitiv-data-platform/refinitiv-data-library-for-python/learning), \n",
    " [Documentation](https://developers.refinitiv.com/en/api-catalog/refinitiv-data-platform/refinitiv-data-library-for-python/docs)\n",
    " and much more.\n",
    "\n",
    "#### Getting Help and Support\n",
    "\n",
    "If you have any questions regarding using the API, please post them on \n",
    "the [Refinitiv Data Q&A Forum](https://community.developers.refinitiv.com/spaces/321/index.html). \n",
    "The Refinitiv Developer Community will be happy to help. "
   ]
  },
  {
   "cell_type": "markdown",
   "metadata": {},
   "source": [
    "## Set the configuration file location\n",
    "For a better ease of use, you have the option to set initialization parameters of the Refinitiv Data Library in the _refinitiv-data.config.json_ configuration file. This file must be located beside your notebook, in your user folder or in a folder defined by the _RD_LIB_CONFIG_PATH_ environment variable. The _RD_LIB_CONFIG_PATH_ environment variable is the option used by this series of examples. The following code sets this environment variable.      "
   ]
  },
  {
   "cell_type": "code",
   "execution_count": 1,
   "metadata": {},
   "outputs": [],
   "source": [
    "import os\n",
    "os.environ[\"RD_LIB_CONFIG_PATH\"] = \"../../../Configuration\""
   ]
  },
  {
   "cell_type": "markdown",
   "metadata": {},
   "source": [
    "## Some Imports to start with"
   ]
  },
  {
   "cell_type": "code",
   "execution_count": 4,
   "metadata": {},
   "outputs": [],
   "source": [
    "import refinitiv.data as rd\n",
    "from refinitiv.data.content.ipa.curves import zc_curve_definitions"
   ]
  },
  {
   "cell_type": "markdown",
   "metadata": {},
   "source": [
    "## Open the data session\n",
    "\n",
    "The open_session() function creates and open sessions based on the information contained in the refinitiv-data.config.json configuration file. Please edit this file to set the session type and other parameters required for the session you want to open."
   ]
  },
  {
   "cell_type": "code",
   "execution_count": 5,
   "metadata": {},
   "outputs": [
    {
     "data": {
      "text/plain": [
       "<refinitiv.data.session.Definition object at 0x7fec5d34f850 {name='workspace'}>"
      ]
     },
     "execution_count": 5,
     "metadata": {},
     "output_type": "execute_result"
    }
   ],
   "source": [
    "rd.open_session()"
   ]
  },
  {
   "cell_type": "markdown",
   "metadata": {},
   "source": [
    "## Retrieve data"
   ]
  },
  {
   "cell_type": "code",
   "execution_count": 6,
   "metadata": {},
   "outputs": [
    {
     "data": {
      "text/html": [
       "<div>\n",
       "<style scoped>\n",
       "    .dataframe tbody tr th:only-of-type {\n",
       "        vertical-align: middle;\n",
       "    }\n",
       "\n",
       "    .dataframe tbody tr th {\n",
       "        vertical-align: top;\n",
       "    }\n",
       "\n",
       "    .dataframe thead th {\n",
       "        text-align: right;\n",
       "    }\n",
       "</style>\n",
       "<table border=\"1\" class=\"dataframe\">\n",
       "  <thead>\n",
       "    <tr style=\"text-align: right;\">\n",
       "      <th></th>\n",
       "      <th>currency</th>\n",
       "      <th>mainConstituentAssetClass</th>\n",
       "      <th>riskType</th>\n",
       "      <th>indexName</th>\n",
       "      <th>source</th>\n",
       "      <th>name</th>\n",
       "      <th>firstHistoricalAvailabilityDate</th>\n",
       "      <th>id</th>\n",
       "      <th>owner</th>\n",
       "      <th>availableTenors</th>\n",
       "      <th>availableDiscountingTenors</th>\n",
       "      <th>marketDataLocation</th>\n",
       "    </tr>\n",
       "  </thead>\n",
       "  <tbody>\n",
       "    <tr>\n",
       "      <th>0</th>\n",
       "      <td>USD</td>\n",
       "      <td>Futures</td>\n",
       "      <td>InterestRate</td>\n",
       "      <td>SOFR</td>\n",
       "      <td>Refinitiv</td>\n",
       "      <td>USD S1R Future ZC Curve</td>\n",
       "      <td>2020-07-24</td>\n",
       "      <td>8bf242f2-10a4-4d57-baa8-72a3d538b469</td>\n",
       "      <td>Refinitiv</td>\n",
       "      <td>[OIS]</td>\n",
       "      <td>[OIS]</td>\n",
       "      <td>&lt;NA&gt;</td>\n",
       "    </tr>\n",
       "    <tr>\n",
       "      <th>1</th>\n",
       "      <td>NOK</td>\n",
       "      <td>Swap</td>\n",
       "      <td>InterestRate</td>\n",
       "      <td>NOWA</td>\n",
       "      <td>Refinitiv</td>\n",
       "      <td>NOK NOWA Swap ZC Curve</td>\n",
       "      <td>2021-11-11</td>\n",
       "      <td>ff3c2192-6541-489a-a701-b63a614dfcbc</td>\n",
       "      <td>Refinitiv</td>\n",
       "      <td>[OIS]</td>\n",
       "      <td>[OIS]</td>\n",
       "      <td>&lt;NA&gt;</td>\n",
       "    </tr>\n",
       "    <tr>\n",
       "      <th>2</th>\n",
       "      <td>VND</td>\n",
       "      <td>Swap</td>\n",
       "      <td>InterestRate</td>\n",
       "      <td>VNDVNIBOR</td>\n",
       "      <td>Refinitiv</td>\n",
       "      <td>VND VNDVNIBOR Swap ZC Curve</td>\n",
       "      <td>2020-06-24</td>\n",
       "      <td>34505484-6279-430e-a219-62aa97e03b15</td>\n",
       "      <td>Refinitiv</td>\n",
       "      <td>[3M]</td>\n",
       "      <td>[3M]</td>\n",
       "      <td>&lt;NA&gt;</td>\n",
       "    </tr>\n",
       "    <tr>\n",
       "      <th>3</th>\n",
       "      <td>CZK</td>\n",
       "      <td>Swap</td>\n",
       "      <td>InterestRate</td>\n",
       "      <td>CZEONIA</td>\n",
       "      <td>Refinitiv</td>\n",
       "      <td>CZK CZEONIA Swap ZC Curve</td>\n",
       "      <td>2013-02-19</td>\n",
       "      <td>87253647-7240-4a1a-a3e1-41098cb2c2bc</td>\n",
       "      <td>Refinitiv</td>\n",
       "      <td>[OIS]</td>\n",
       "      <td>[OIS]</td>\n",
       "      <td>&lt;NA&gt;</td>\n",
       "    </tr>\n",
       "    <tr>\n",
       "      <th>4</th>\n",
       "      <td>USD</td>\n",
       "      <td>Futures</td>\n",
       "      <td>InterestRate</td>\n",
       "      <td>SOFR</td>\n",
       "      <td>Refinitiv</td>\n",
       "      <td>USD SRA Future ZC Curve</td>\n",
       "      <td>2018-05-04</td>\n",
       "      <td>a9e53645-bcf6-4372-86d5-5a2eb559c121</td>\n",
       "      <td>Refinitiv</td>\n",
       "      <td>[OIS]</td>\n",
       "      <td>[OIS]</td>\n",
       "      <td>&lt;NA&gt;</td>\n",
       "    </tr>\n",
       "    <tr>\n",
       "      <th>...</th>\n",
       "      <td>...</td>\n",
       "      <td>...</td>\n",
       "      <td>...</td>\n",
       "      <td>...</td>\n",
       "      <td>...</td>\n",
       "      <td>...</td>\n",
       "      <td>...</td>\n",
       "      <td>...</td>\n",
       "      <td>...</td>\n",
       "      <td>...</td>\n",
       "      <td>...</td>\n",
       "      <td>...</td>\n",
       "    </tr>\n",
       "    <tr>\n",
       "      <th>90</th>\n",
       "      <td>THB</td>\n",
       "      <td>Swap</td>\n",
       "      <td>InterestRate</td>\n",
       "      <td>MLR</td>\n",
       "      <td>Refinitiv</td>\n",
       "      <td>THB MLR Swap ZC Curve</td>\n",
       "      <td>2017-09-05</td>\n",
       "      <td>ae924371-c7e3-40cf-aba3-5ee2811ab406</td>\n",
       "      <td>Refinitiv</td>\n",
       "      <td>[1M]</td>\n",
       "      <td>[1M]</td>\n",
       "      <td>&lt;NA&gt;</td>\n",
       "    </tr>\n",
       "    <tr>\n",
       "      <th>91</th>\n",
       "      <td>JPY</td>\n",
       "      <td>Swap</td>\n",
       "      <td>InterestRate</td>\n",
       "      <td>TIBOR</td>\n",
       "      <td>Refinitiv</td>\n",
       "      <td>JPY TIBOR (EMEA) Swap ZC Curve</td>\n",
       "      <td>2015-08-13</td>\n",
       "      <td>a865716b-e437-4045-84b5-f6483d8b6a25</td>\n",
       "      <td>Refinitiv</td>\n",
       "      <td>[OIS, 1M, 3M, 6M]</td>\n",
       "      <td>[OIS, 1M, 3M, 6M]</td>\n",
       "      <td>EMEA</td>\n",
       "    </tr>\n",
       "    <tr>\n",
       "      <th>92</th>\n",
       "      <td>HUF</td>\n",
       "      <td>Swap</td>\n",
       "      <td>InterestRate</td>\n",
       "      <td>HUFONIA</td>\n",
       "      <td>Refinitiv</td>\n",
       "      <td>HUF HUFONIA Swap ZC Curve</td>\n",
       "      <td>2020-12-07</td>\n",
       "      <td>e31dc8ec-7ead-43d1-9b1e-a490880bf956</td>\n",
       "      <td>Refinitiv</td>\n",
       "      <td>[OIS]</td>\n",
       "      <td>[OIS]</td>\n",
       "      <td>&lt;NA&gt;</td>\n",
       "    </tr>\n",
       "    <tr>\n",
       "      <th>93</th>\n",
       "      <td>JPY</td>\n",
       "      <td>Swap</td>\n",
       "      <td>InterestRate</td>\n",
       "      <td>TIBOR</td>\n",
       "      <td>Refinitiv</td>\n",
       "      <td>JPY TIBOR Swap ZC Curve</td>\n",
       "      <td>2015-08-13</td>\n",
       "      <td>e24f1a57-9007-4535-a4d7-b037662ace95</td>\n",
       "      <td>Refinitiv</td>\n",
       "      <td>[OIS, 1M, 3M, 6M]</td>\n",
       "      <td>[OIS, 1M, 3M, 6M]</td>\n",
       "      <td>&lt;NA&gt;</td>\n",
       "    </tr>\n",
       "    <tr>\n",
       "      <th>94</th>\n",
       "      <td>RUB</td>\n",
       "      <td>Swap</td>\n",
       "      <td>InterestRate</td>\n",
       "      <td>RUONIA</td>\n",
       "      <td>Refinitiv</td>\n",
       "      <td>RUB RUONIA Swap ZC Curve</td>\n",
       "      <td>2020-12-23</td>\n",
       "      <td>d9fe18de-e7d2-4153-a288-1fdc43bbab01</td>\n",
       "      <td>Refinitiv</td>\n",
       "      <td>[OIS]</td>\n",
       "      <td>[OIS]</td>\n",
       "      <td>&lt;NA&gt;</td>\n",
       "    </tr>\n",
       "  </tbody>\n",
       "</table>\n",
       "<p>95 rows × 12 columns</p>\n",
       "</div>"
      ],
      "text/plain": [
       "   currency mainConstituentAssetClass      riskType  indexName     source  \\\n",
       "0       USD                   Futures  InterestRate       SOFR  Refinitiv   \n",
       "1       NOK                      Swap  InterestRate       NOWA  Refinitiv   \n",
       "2       VND                      Swap  InterestRate  VNDVNIBOR  Refinitiv   \n",
       "3       CZK                      Swap  InterestRate    CZEONIA  Refinitiv   \n",
       "4       USD                   Futures  InterestRate       SOFR  Refinitiv   \n",
       "..      ...                       ...           ...        ...        ...   \n",
       "90      THB                      Swap  InterestRate        MLR  Refinitiv   \n",
       "91      JPY                      Swap  InterestRate      TIBOR  Refinitiv   \n",
       "92      HUF                      Swap  InterestRate    HUFONIA  Refinitiv   \n",
       "93      JPY                      Swap  InterestRate      TIBOR  Refinitiv   \n",
       "94      RUB                      Swap  InterestRate     RUONIA  Refinitiv   \n",
       "\n",
       "                              name firstHistoricalAvailabilityDate  \\\n",
       "0          USD S1R Future ZC Curve                      2020-07-24   \n",
       "1           NOK NOWA Swap ZC Curve                      2021-11-11   \n",
       "2      VND VNDVNIBOR Swap ZC Curve                      2020-06-24   \n",
       "3        CZK CZEONIA Swap ZC Curve                      2013-02-19   \n",
       "4          USD SRA Future ZC Curve                      2018-05-04   \n",
       "..                             ...                             ...   \n",
       "90           THB MLR Swap ZC Curve                      2017-09-05   \n",
       "91  JPY TIBOR (EMEA) Swap ZC Curve                      2015-08-13   \n",
       "92       HUF HUFONIA Swap ZC Curve                      2020-12-07   \n",
       "93         JPY TIBOR Swap ZC Curve                      2015-08-13   \n",
       "94        RUB RUONIA Swap ZC Curve                      2020-12-23   \n",
       "\n",
       "                                      id      owner    availableTenors  \\\n",
       "0   8bf242f2-10a4-4d57-baa8-72a3d538b469  Refinitiv              [OIS]   \n",
       "1   ff3c2192-6541-489a-a701-b63a614dfcbc  Refinitiv              [OIS]   \n",
       "2   34505484-6279-430e-a219-62aa97e03b15  Refinitiv               [3M]   \n",
       "3   87253647-7240-4a1a-a3e1-41098cb2c2bc  Refinitiv              [OIS]   \n",
       "4   a9e53645-bcf6-4372-86d5-5a2eb559c121  Refinitiv              [OIS]   \n",
       "..                                   ...        ...                ...   \n",
       "90  ae924371-c7e3-40cf-aba3-5ee2811ab406  Refinitiv               [1M]   \n",
       "91  a865716b-e437-4045-84b5-f6483d8b6a25  Refinitiv  [OIS, 1M, 3M, 6M]   \n",
       "92  e31dc8ec-7ead-43d1-9b1e-a490880bf956  Refinitiv              [OIS]   \n",
       "93  e24f1a57-9007-4535-a4d7-b037662ace95  Refinitiv  [OIS, 1M, 3M, 6M]   \n",
       "94  d9fe18de-e7d2-4153-a288-1fdc43bbab01  Refinitiv              [OIS]   \n",
       "\n",
       "   availableDiscountingTenors marketDataLocation  \n",
       "0                       [OIS]               <NA>  \n",
       "1                       [OIS]               <NA>  \n",
       "2                        [3M]               <NA>  \n",
       "3                       [OIS]               <NA>  \n",
       "4                       [OIS]               <NA>  \n",
       "..                        ...                ...  \n",
       "90                       [1M]               <NA>  \n",
       "91          [OIS, 1M, 3M, 6M]               EMEA  \n",
       "92                      [OIS]               <NA>  \n",
       "93          [OIS, 1M, 3M, 6M]               <NA>  \n",
       "94                      [OIS]               <NA>  \n",
       "\n",
       "[95 rows x 12 columns]"
      ]
     },
     "execution_count": 6,
     "metadata": {},
     "output_type": "execute_result"
    }
   ],
   "source": [
    "response = zc_curve_definitions.Definition(source=\"Refinitiv\").get_data()\n",
    "response.data.df"
   ]
  },
  {
   "cell_type": "markdown",
   "metadata": {},
   "source": [
    "## Close the session"
   ]
  },
  {
   "cell_type": "code",
   "execution_count": 7,
   "metadata": {
    "pycharm": {
     "name": "#%%\n"
    }
   },
   "outputs": [],
   "source": [
    "rd.close_session()"
   ]
  },
  {
   "cell_type": "code",
   "execution_count": null,
   "metadata": {},
   "outputs": [],
   "source": []
  }
 ],
 "metadata": {
  "kernelspec": {
   "display_name": "Python 3 (ipykernel)",
   "language": "python",
   "name": "python3"
  },
  "language_info": {
   "codemirror_mode": {
    "name": "ipython",
    "version": 3
   },
   "file_extension": ".py",
   "mimetype": "text/x-python",
   "name": "python",
   "nbconvert_exporter": "python",
   "pygments_lexer": "ipython3",
   "version": "3.9.7"
  }
 },
 "nbformat": 4,
 "nbformat_minor": 4
}
