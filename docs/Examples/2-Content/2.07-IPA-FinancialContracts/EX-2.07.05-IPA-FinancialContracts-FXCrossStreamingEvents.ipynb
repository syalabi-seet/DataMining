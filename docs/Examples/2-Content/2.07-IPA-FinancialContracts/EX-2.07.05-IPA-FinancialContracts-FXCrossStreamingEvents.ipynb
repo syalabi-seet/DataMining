{
 "cells": [
  {
   "cell_type": "markdown",
   "metadata": {},
   "source": [
    "----\n",
    "<img src=\"../../../files/refinitiv.png\" width=\"20%\" style=\"vertical-align: top;\">\n",
    "\n",
    "# Data Library for Python\n",
    "\n",
    "----"
   ]
  },
  {
   "cell_type": "markdown",
   "metadata": {},
   "source": [
    "## Content layer - IPA - FxCross stream - With events\n",
    "This notebook demonstrates how to subscribe to FX Cross pricing analytics events."
   ]
  },
  {
   "cell_type": "markdown",
   "metadata": {},
   "source": [
    "#### Learn more\n",
    "\n",
    "To learn more about the Refinitiv Data Library for Python please join the Refinitiv Developer Community. By [registering](https://developers.refinitiv.com/iam/register) and [logging](https://developers.refinitiv.com/content/devportal/en_us/initCookie.html) into the Refinitiv Developer Community portal you will have free access to a number of learning materials like \n",
    " [Quick Start guides](https://developers.refinitiv.com/en/api-catalog/refinitiv-data-platform/refinitiv-data-library-for-python/quick-start), \n",
    " [Tutorials](https://developers.refinitiv.com/en/api-catalog/refinitiv-data-platform/refinitiv-data-library-for-python/learning), \n",
    " [Documentation](https://developers.refinitiv.com/en/api-catalog/refinitiv-data-platform/refinitiv-data-library-for-python/docs)\n",
    " and much more.\n",
    "\n",
    "#### Getting Help and Support\n",
    "\n",
    "If you have any questions regarding using the API, please post them on \n",
    "the [Refinitiv Data Q&A Forum](https://community.developers.refinitiv.com/spaces/321/index.html). \n",
    "The Refinitiv Developer Community will be happy to help. "
   ]
  },
  {
   "cell_type": "markdown",
   "metadata": {},
   "source": [
    "## Set the configuration file location\n",
    "For a better ease of use, you have the option to set initialization parameters of the Refinitiv Data Library in the _refinitiv-data.config.json_ configuration file. This file must be located beside your notebook, in your user folder or in a folder defined by the _RD_LIB_CONFIG_PATH_ environment variable. The _RD_LIB_CONFIG_PATH_ environment variable is the option used by this series of examples. The following code sets this environment variable.      "
   ]
  },
  {
   "cell_type": "code",
   "execution_count": 1,
   "metadata": {},
   "outputs": [],
   "source": [
    "import os\n",
    "os.environ[\"RD_LIB_CONFIG_PATH\"] = \"../../../Configuration\""
   ]
  },
  {
   "cell_type": "markdown",
   "metadata": {},
   "source": [
    "## Some Imports to start with"
   ]
  },
  {
   "cell_type": "code",
   "execution_count": 15,
   "metadata": {},
   "outputs": [],
   "source": [
    "import refinitiv.data as rd\n",
    "from refinitiv.data.content.ipa.financial_contracts import cross\n",
    "import datetime"
   ]
  },
  {
   "cell_type": "markdown",
   "metadata": {},
   "source": [
    "## Open the data session\n",
    "\n",
    "The open_session() function creates and open sessions based on the information contained in the refinitiv-data.config.json configuration file. Please edit this file to set the session type and other parameters required for the session you want to open."
   ]
  },
  {
   "cell_type": "code",
   "execution_count": 16,
   "metadata": {},
   "outputs": [
    {
     "data": {
      "text/plain": [
       "<refinitiv.data.session.Definition object at 0x7fb950153f40 {name='workspace'}>"
      ]
     },
     "execution_count": 16,
     "metadata": {},
     "output_type": "execute_result"
    }
   ],
   "source": [
    "rd.open_session()"
   ]
  },
  {
   "cell_type": "markdown",
   "metadata": {},
   "source": [
    "## About events\n",
    "When you use a QuantitativeDataStream object to open streaming instruments with events, you need to define callback functions that are called by a background execution thread when new events are received for the instruments you requested. There are 3 different types of functions you can use depending on the type of events you are interrested in. These callback functions are optionnal meaning that you do not have to use all of them. \n",
    "\n",
    "### The 3 event types and their related callback functions:\n",
    " - **Response events:** \n",
    " \n",
    " Callback functions used to receive Response events take 3 parameters: \n",
    "  - The QuantitativeDataStream that received the event.\n",
    "  - The data of the concerned instrument.\n",
    "  - The field names of the data.\n",
    " \n",
    " \n",
    " - **Update events:** \n",
    " \n",
    " Callback functions used to receive Update events take 3 parameters \n",
    "  - The QuantitativeDataStream that received the event.\n",
    "  - The data of the concerned instrument.\n",
    "  - The field names of the data.\n",
    " \n",
    " \n",
    " - **State events:** \n",
    " \n",
    " Callback functions used to receive Update events take 3 parameters \n",
    "  - The QuantitativeDataStream that received the event.\n",
    "  - The state of the stream."
   ]
  },
  {
   "cell_type": "markdown",
   "metadata": {},
   "source": [
    "## Retrieve data"
   ]
  },
  {
   "cell_type": "markdown",
   "metadata": {},
   "source": [
    "### Define the FxCross"
   ]
  },
  {
   "cell_type": "code",
   "execution_count": 17,
   "metadata": {
    "tags": []
   },
   "outputs": [],
   "source": [
    "fxcross_def = cross.Definition(\n",
    "    instrument_tag=\"USDAUD\",\n",
    "    fx_cross_type=cross.FxCrossType.FX_SPOT,\n",
    "    fx_cross_code=\"USDAUD\",\n",
    "    fields=[\"InstrumentTag\", \"FxSpot_BidMidAsk\", \"ErrorCode\", \"Ccy1SpotDate\", \"Ccy2SpotDate\"],\n",
    "    extended_params = {\n",
    "            \"marketData\": {\n",
    "                \"fxSpots\": [\n",
    "                    {\n",
    "                        \"spotDefinition\": {\n",
    "                            \"fxCrossCode\": \"AUDUSD\", \n",
    "                            \"Source\": \"Composite\"\n",
    "                        }\n",
    "                    }\n",
    "                ]\n",
    "            }\n",
    "        }\n",
    ")"
   ]
  },
  {
   "cell_type": "markdown",
   "metadata": {},
   "source": [
    "### Get the stream and register callbacks to receive events"
   ]
  },
  {
   "cell_type": "code",
   "execution_count": 18,
   "metadata": {},
   "outputs": [],
   "source": [
    "def display_event(eventType, data, headers):\n",
    "    currentTime = datetime.datetime.now().time()\n",
    "    print(\"----------------------------------------------------------\")\n",
    "    print(\">>> {} event received at {}\".format(eventType, currentTime))\n",
    "    print(data)\n",
    "    print(headers)\n",
    "    \n",
    "stream = (\n",
    "        fxcross_def.get_stream()\n",
    "        .on_response(lambda data, headers, stream: display_event(\"response\", data, headers))\n",
    "        .on_update(lambda data, headers, stream: display_event(\"update\", data, headers))\n",
    "        .on_state(lambda state, stream: display_event(\"state\", state, None))\n",
    "    )"
   ]
  },
  {
   "cell_type": "markdown",
   "metadata": {},
   "source": [
    "### Open the stream"
   ]
  },
  {
   "cell_type": "code",
   "execution_count": 19,
   "metadata": {},
   "outputs": [
    {
     "name": "stdout",
     "output_type": "stream",
     "text": [
      "----------------------------------------------------------"
     ]
    },
    {
     "data": {
      "text/plain": [
       "<OpenState.Opened: 'Opened'>"
      ]
     },
     "execution_count": 19,
     "metadata": {},
     "output_type": "execute_result"
    },
    {
     "name": "stdout",
     "output_type": "stream",
     "text": [
      "\n",
      ">>> response event received at 14:26:49.302136\n",
      "[['USDAUD', {'bid': 1.4494854326714017, 'ask': 1.449905756125852, 'mid': 1.449695594398627, 'processingInformation': ''}, '', '2022-06-24', '2022-06-24']]\n",
      "['InstrumentTag', 'FxSpot_BidMidAsk', 'ErrorCode', 'Ccy1SpotDate', 'Ccy2SpotDate']\n",
      "----------------------------------------------------------\n",
      ">>> update event received at 14:26:50.046717\n",
      "[['USDAUD', {'bid': 1.4494854326714017, 'ask': 1.449905756125852, 'mid': 1.449695594398627, 'processingInformation': ''}, '', '2022-06-24', '2022-06-24']]\n",
      "['InstrumentTag', 'FxSpot_BidMidAsk', 'ErrorCode', 'Ccy1SpotDate', 'Ccy2SpotDate']\n",
      "----------------------------------------------------------\n",
      ">>> update event received at 14:26:51.029827\n",
      "[['USDAUD', {'bid': 1.4496955639315745, 'ask': 1.4501160092807426, 'mid': 1.4499057866061587, 'processingInformation': ''}, '', '2022-06-24', '2022-06-24']]\n",
      "['InstrumentTag', 'FxSpot_BidMidAsk', 'ErrorCode', 'Ccy1SpotDate', 'Ccy2SpotDate']\n",
      "----------------------------------------------------------\n",
      ">>> update event received at 14:26:53.045648\n",
      "[['USDAUD', {'bid': 1.4490653528474133, 'ask': 1.4501160092807426, 'mid': 1.449590681064078, 'processingInformation': ''}, '', '2022-06-24', '2022-06-24']]\n",
      "['InstrumentTag', 'FxSpot_BidMidAsk', 'ErrorCode', 'Ccy1SpotDate', 'Ccy2SpotDate']\n",
      "----------------------------------------------------------\n",
      ">>> update event received at 14:26:54.037456\n",
      "[['USDAUD', {'bid': 1.4494854326714017, 'ask': 1.449905756125852, 'mid': 1.449695594398627, 'processingInformation': ''}, '', '2022-06-24', '2022-06-24']]\n",
      "['InstrumentTag', 'FxSpot_BidMidAsk', 'ErrorCode', 'Ccy1SpotDate', 'Ccy2SpotDate']\n"
     ]
    }
   ],
   "source": [
    "stream.open()"
   ]
  },
  {
   "cell_type": "markdown",
   "metadata": {},
   "source": [
    "### Close the stream"
   ]
  },
  {
   "cell_type": "code",
   "execution_count": 20,
   "metadata": {},
   "outputs": [
    {
     "data": {
      "text/plain": [
       "<OpenState.Closed: 'Closed'>"
      ]
     },
     "execution_count": 20,
     "metadata": {},
     "output_type": "execute_result"
    }
   ],
   "source": [
    "stream.close()"
   ]
  },
  {
   "cell_type": "markdown",
   "metadata": {},
   "source": [
    "## Close the session"
   ]
  },
  {
   "cell_type": "code",
   "execution_count": 21,
   "metadata": {
    "pycharm": {
     "name": "#%%\n"
    }
   },
   "outputs": [],
   "source": [
    "rd.close_session()"
   ]
  },
  {
   "cell_type": "code",
   "execution_count": null,
   "metadata": {},
   "outputs": [],
   "source": []
  }
 ],
 "metadata": {
  "kernelspec": {
   "display_name": "Python 3 (ipykernel)",
   "language": "python",
   "name": "python3"
  },
  "language_info": {
   "codemirror_mode": {
    "name": "ipython",
    "version": 3
   },
   "file_extension": ".py",
   "mimetype": "text/x-python",
   "name": "python",
   "nbconvert_exporter": "python",
   "pygments_lexer": "ipython3",
   "version": "3.9.7"
  }
 },
 "nbformat": 4,
 "nbformat_minor": 4
}
