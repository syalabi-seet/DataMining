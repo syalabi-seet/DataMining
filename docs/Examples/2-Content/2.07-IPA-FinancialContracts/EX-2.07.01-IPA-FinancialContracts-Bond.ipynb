{
 "cells": [
  {
   "cell_type": "markdown",
   "metadata": {},
   "source": [
    "----\n",
    "<img src=\"../../../files/refinitiv.png\" width=\"20%\" style=\"vertical-align: top;\">\n",
    "\n",
    "# Data Library for Python\n",
    "\n",
    "----"
   ]
  },
  {
   "cell_type": "markdown",
   "metadata": {},
   "source": [
    "## Content layer - IPA - Bond Pricing\n",
    "This notebook demonstrates how to use Bond pricing analytics."
   ]
  },
  {
   "cell_type": "markdown",
   "metadata": {},
   "source": [
    "#### Learn more\n",
    "\n",
    "To learn more about the Refinitiv Data Library for Python please join the Refinitiv Developer Community. By [registering](https://developers.refinitiv.com/iam/register) and [logging](https://developers.refinitiv.com/content/devportal/en_us/initCookie.html) into the Refinitiv Developer Community portal you will have free access to a number of learning materials like \n",
    " [Quick Start guides](https://developers.refinitiv.com/en/api-catalog/refinitiv-data-platform/refinitiv-data-library-for-python/quick-start), \n",
    " [Tutorials](https://developers.refinitiv.com/en/api-catalog/refinitiv-data-platform/refinitiv-data-library-for-python/learning), \n",
    " [Documentation](https://developers.refinitiv.com/en/api-catalog/refinitiv-data-platform/refinitiv-data-library-for-python/docs)\n",
    " and much more.\n",
    "\n",
    "#### Getting Help and Support\n",
    "\n",
    "If you have any questions regarding using the API, please post them on \n",
    "the [Refinitiv Data Q&A Forum](https://community.developers.refinitiv.com/spaces/321/index.html). \n",
    "The Refinitiv Developer Community will be happy to help. "
   ]
  },
  {
   "cell_type": "markdown",
   "metadata": {},
   "source": [
    "## Set the configuration file location\n",
    "For a better ease of use, you have the option to set initialization parameters of the Refinitiv Data Library in the _refinitiv-data.config.json_ configuration file. This file must be located beside your notebook, in your user folder or in a folder defined by the _RD_LIB_CONFIG_PATH_ environment variable. The _RD_LIB_CONFIG_PATH_ environment variable is the option used by this series of examples. The following code sets this environment variable.      "
   ]
  },
  {
   "cell_type": "code",
   "execution_count": 1,
   "metadata": {},
   "outputs": [],
   "source": [
    "import os\n",
    "os.environ[\"RD_LIB_CONFIG_PATH\"] = \"../../../Configuration\""
   ]
  },
  {
   "cell_type": "markdown",
   "metadata": {},
   "source": [
    "## Some Imports to start with"
   ]
  },
  {
   "cell_type": "code",
   "execution_count": 2,
   "metadata": {},
   "outputs": [],
   "source": [
    "import refinitiv.data as rd\n",
    "from refinitiv.data.content.ipa.financial_contracts import bond"
   ]
  },
  {
   "cell_type": "markdown",
   "metadata": {},
   "source": [
    "## Open the data session\n",
    "\n",
    "The open_session() function creates and open sessions based on the information contained in the refinitiv-data.config.json configuration file. Please edit this file to set the session type and other parameters required for the session you want to open."
   ]
  },
  {
   "cell_type": "code",
   "execution_count": 3,
   "metadata": {},
   "outputs": [
    {
     "data": {
      "text/plain": [
       "<refinitiv.data.session.Definition object at 0x7fd0f0b10b10 {name='workspace'}>"
      ]
     },
     "execution_count": 3,
     "metadata": {},
     "output_type": "execute_result"
    }
   ],
   "source": [
    "rd.open_session()"
   ]
  },
  {
   "cell_type": "markdown",
   "metadata": {},
   "source": [
    "## Retrieve data"
   ]
  },
  {
   "cell_type": "markdown",
   "metadata": {},
   "source": [
    "### Simple Bond"
   ]
  },
  {
   "cell_type": "code",
   "execution_count": 4,
   "metadata": {
    "tags": []
   },
   "outputs": [
    {
     "data": {
      "text/html": [
       "<div>\n",
       "<style scoped>\n",
       "    .dataframe tbody tr th:only-of-type {\n",
       "        vertical-align: middle;\n",
       "    }\n",
       "\n",
       "    .dataframe tbody tr th {\n",
       "        vertical-align: top;\n",
       "    }\n",
       "\n",
       "    .dataframe thead th {\n",
       "        text-align: right;\n",
       "    }\n",
       "</style>\n",
       "<table border=\"1\" class=\"dataframe\">\n",
       "  <thead>\n",
       "    <tr style=\"text-align: right;\">\n",
       "      <th></th>\n",
       "      <th>InstrumentTag</th>\n",
       "      <th>InstrumentCode</th>\n",
       "      <th>BondType</th>\n",
       "      <th>AssetStatus</th>\n",
       "      <th>InstrumentDescription</th>\n",
       "      <th>Structure</th>\n",
       "      <th>RIC</th>\n",
       "      <th>Isin</th>\n",
       "      <th>Ticker</th>\n",
       "      <th>Cusip</th>\n",
       "      <th>...</th>\n",
       "      <th>InflationCurrentIndex</th>\n",
       "      <th>InflationCurveName</th>\n",
       "      <th>InflationMode</th>\n",
       "      <th>AdjustedYieldPercent</th>\n",
       "      <th>AdjustedCleanPrice</th>\n",
       "      <th>AdjustedDirtyPrice</th>\n",
       "      <th>ParValue</th>\n",
       "      <th>ErrorCode</th>\n",
       "      <th>ErrorMessage</th>\n",
       "      <th>ProcessingInformation</th>\n",
       "    </tr>\n",
       "  </thead>\n",
       "  <tbody>\n",
       "    <tr>\n",
       "      <th>0</th>\n",
       "      <td>None</td>\n",
       "      <td>US10YT=RR</td>\n",
       "      <td>FixedRateBond</td>\n",
       "      <td>Re-Opening</td>\n",
       "      <td>UST    1.375 11/15/31</td>\n",
       "      <td>ACC:AA CCM:BBAA CFADJ:NO CLDR:USA_FI DATED:15N...</td>\n",
       "      <td>US10YT=RR</td>\n",
       "      <td>US91282CDJ71</td>\n",
       "      <td>UST</td>\n",
       "      <td>91282CDJ7</td>\n",
       "      <td>...</td>\n",
       "      <td>None</td>\n",
       "      <td>None</td>\n",
       "      <td>None</td>\n",
       "      <td>None</td>\n",
       "      <td>None</td>\n",
       "      <td>None</td>\n",
       "      <td>100</td>\n",
       "      <td></td>\n",
       "      <td></td>\n",
       "      <td>No ED Futures Curve found for this Bond. Canno...</td>\n",
       "    </tr>\n",
       "  </tbody>\n",
       "</table>\n",
       "<p>1 rows × 287 columns</p>\n",
       "</div>"
      ],
      "text/plain": [
       "  InstrumentTag InstrumentCode       BondType AssetStatus  \\\n",
       "0          None      US10YT=RR  FixedRateBond  Re-Opening   \n",
       "\n",
       "   InstrumentDescription                                          Structure  \\\n",
       "0  UST    1.375 11/15/31  ACC:AA CCM:BBAA CFADJ:NO CLDR:USA_FI DATED:15N...   \n",
       "\n",
       "         RIC          Isin Ticker      Cusip  ... InflationCurrentIndex  \\\n",
       "0  US10YT=RR  US91282CDJ71    UST  91282CDJ7  ...                  None   \n",
       "\n",
       "  InflationCurveName InflationMode AdjustedYieldPercent AdjustedCleanPrice  \\\n",
       "0               None          None                 None               None   \n",
       "\n",
       "  AdjustedDirtyPrice  ParValue  ErrorCode  ErrorMessage  \\\n",
       "0               None       100                            \n",
       "\n",
       "                               ProcessingInformation  \n",
       "0  No ED Futures Curve found for this Bond. Canno...  \n",
       "\n",
       "[1 rows x 287 columns]"
      ]
     },
     "execution_count": 4,
     "metadata": {},
     "output_type": "execute_result"
    }
   ],
   "source": [
    "response = bond.Definition(\"US10YT=RR\").get_data()\n",
    "response.data.df"
   ]
  },
  {
   "cell_type": "markdown",
   "metadata": {},
   "source": [
    "### User defined Bond"
   ]
  },
  {
   "cell_type": "code",
   "execution_count": 5,
   "metadata": {},
   "outputs": [
    {
     "data": {
      "text/html": [
       "<div>\n",
       "<style scoped>\n",
       "    .dataframe tbody tr th:only-of-type {\n",
       "        vertical-align: middle;\n",
       "    }\n",
       "\n",
       "    .dataframe tbody tr th {\n",
       "        vertical-align: top;\n",
       "    }\n",
       "\n",
       "    .dataframe thead th {\n",
       "        text-align: right;\n",
       "    }\n",
       "</style>\n",
       "<table border=\"1\" class=\"dataframe\">\n",
       "  <thead>\n",
       "    <tr style=\"text-align: right;\">\n",
       "      <th></th>\n",
       "      <th>InstrumentTag</th>\n",
       "      <th>InstrumentCode</th>\n",
       "      <th>BondType</th>\n",
       "      <th>AssetStatus</th>\n",
       "      <th>InstrumentDescription</th>\n",
       "      <th>Structure</th>\n",
       "      <th>RIC</th>\n",
       "      <th>Isin</th>\n",
       "      <th>Ticker</th>\n",
       "      <th>Cusip</th>\n",
       "      <th>...</th>\n",
       "      <th>InflationCurrentIndex</th>\n",
       "      <th>InflationCurveName</th>\n",
       "      <th>InflationMode</th>\n",
       "      <th>AdjustedYieldPercent</th>\n",
       "      <th>AdjustedCleanPrice</th>\n",
       "      <th>AdjustedDirtyPrice</th>\n",
       "      <th>ParValue</th>\n",
       "      <th>ErrorCode</th>\n",
       "      <th>ErrorMessage</th>\n",
       "      <th>ProcessingInformation</th>\n",
       "    </tr>\n",
       "  </thead>\n",
       "  <tbody>\n",
       "    <tr>\n",
       "      <th>0</th>\n",
       "      <td>None</td>\n",
       "      <td>None</td>\n",
       "      <td>None</td>\n",
       "      <td>None</td>\n",
       "      <td>None</td>\n",
       "      <td>None</td>\n",
       "      <td>None</td>\n",
       "      <td>None</td>\n",
       "      <td>None</td>\n",
       "      <td>None</td>\n",
       "      <td>...</td>\n",
       "      <td>None</td>\n",
       "      <td>None</td>\n",
       "      <td>None</td>\n",
       "      <td>None</td>\n",
       "      <td>None</td>\n",
       "      <td>None</td>\n",
       "      <td>None</td>\n",
       "      <td>QPS-DPS.3002</td>\n",
       "      <td>Market data error : Missing metadata for the I...</td>\n",
       "      <td></td>\n",
       "    </tr>\n",
       "  </tbody>\n",
       "</table>\n",
       "<p>1 rows × 287 columns</p>\n",
       "</div>"
      ],
      "text/plain": [
       "  InstrumentTag InstrumentCode BondType AssetStatus InstrumentDescription  \\\n",
       "0          None           None     None        None                  None   \n",
       "\n",
       "  Structure   RIC  Isin Ticker Cusip  ... InflationCurrentIndex  \\\n",
       "0      None  None  None   None  None  ...                  None   \n",
       "\n",
       "  InflationCurveName InflationMode AdjustedYieldPercent AdjustedCleanPrice  \\\n",
       "0               None          None                 None               None   \n",
       "\n",
       "  AdjustedDirtyPrice ParValue     ErrorCode  \\\n",
       "0               None     None  QPS-DPS.3002   \n",
       "\n",
       "                                        ErrorMessage ProcessingInformation  \n",
       "0  Market data error : Missing metadata for the I...                        \n",
       "\n",
       "[1 rows x 287 columns]"
      ]
     },
     "execution_count": 5,
     "metadata": {},
     "output_type": "execute_result"
    }
   ],
   "source": [
    "response = bond.Definition(\n",
    "            issue_date = \"2002-02-28\",\n",
    "            end_date = \"2032-02-28\",\n",
    "            notional_ccy = \"USD\",\n",
    "            interest_payment_frequency = \"Annual\",\n",
    "            fixed_rate_percent = 7,\n",
    "            interest_calculation_method = \"Dcb_Actual_Actual\"\n",
    "        ).get_data()\n",
    "\n",
    "response.data.df"
   ]
  },
  {
   "cell_type": "markdown",
   "metadata": {},
   "source": [
    "### Fields selection"
   ]
  },
  {
   "cell_type": "code",
   "execution_count": 6,
   "metadata": {},
   "outputs": [
    {
     "data": {
      "text/html": [
       "<div>\n",
       "<style scoped>\n",
       "    .dataframe tbody tr th:only-of-type {\n",
       "        vertical-align: middle;\n",
       "    }\n",
       "\n",
       "    .dataframe tbody tr th {\n",
       "        vertical-align: top;\n",
       "    }\n",
       "\n",
       "    .dataframe thead th {\n",
       "        text-align: right;\n",
       "    }\n",
       "</style>\n",
       "<table border=\"1\" class=\"dataframe\">\n",
       "  <thead>\n",
       "    <tr style=\"text-align: right;\">\n",
       "      <th></th>\n",
       "      <th>InstrumentCode</th>\n",
       "      <th>MarketDataDate</th>\n",
       "      <th>YieldPercent</th>\n",
       "      <th>GovernmentSpreadBp</th>\n",
       "      <th>GovCountrySpreadBp</th>\n",
       "      <th>RatingSpreadBp</th>\n",
       "      <th>SectorRatingSpreadBp</th>\n",
       "      <th>EdsfSpreadBp</th>\n",
       "      <th>IssuerSpreadBp</th>\n",
       "    </tr>\n",
       "  </thead>\n",
       "  <tbody>\n",
       "    <tr>\n",
       "      <th>0</th>\n",
       "      <td>US1YT=RR</td>\n",
       "      <td>2021-12-16T00:00:00Z</td>\n",
       "      <td>0.246302</td>\n",
       "      <td>0</td>\n",
       "      <td>0.000243</td>\n",
       "      <td>None</td>\n",
       "      <td>None</td>\n",
       "      <td>-19.037649</td>\n",
       "      <td>None</td>\n",
       "    </tr>\n",
       "  </tbody>\n",
       "</table>\n",
       "</div>"
      ],
      "text/plain": [
       "  InstrumentCode        MarketDataDate  YieldPercent  GovernmentSpreadBp  \\\n",
       "0       US1YT=RR  2021-12-16T00:00:00Z      0.246302                   0   \n",
       "\n",
       "   GovCountrySpreadBp RatingSpreadBp SectorRatingSpreadBp  EdsfSpreadBp  \\\n",
       "0            0.000243           None                 None    -19.037649   \n",
       "\n",
       "  IssuerSpreadBp  \n",
       "0           None  "
      ]
     },
     "execution_count": 6,
     "metadata": {},
     "output_type": "execute_result"
    }
   ],
   "source": [
    "response = bond.Definition(\n",
    "    instrument_code = 'US1YT=RR',\n",
    "    fields = [\n",
    "        \"InstrumentCode\",\n",
    "        \"MarketDataDate\",\n",
    "        \"YieldPercent\",\n",
    "        \"GovernmentSpreadBp\",\n",
    "        \"GovCountrySpreadBp\",\n",
    "        \"RatingSpreadBp\",\n",
    "        \"SectorRatingSpreadBp\",\n",
    "        \"EdsfSpreadBp\",\n",
    "        \"IssuerSpreadBp\"\n",
    "    ]\n",
    ").get_data()\n",
    "\n",
    "response.data.df"
   ]
  },
  {
   "cell_type": "markdown",
   "metadata": {},
   "source": [
    "### Pricing parameters"
   ]
  },
  {
   "cell_type": "code",
   "execution_count": 7,
   "metadata": {},
   "outputs": [
    {
     "data": {
      "text/html": [
       "<div>\n",
       "<style scoped>\n",
       "    .dataframe tbody tr th:only-of-type {\n",
       "        vertical-align: middle;\n",
       "    }\n",
       "\n",
       "    .dataframe tbody tr th {\n",
       "        vertical-align: top;\n",
       "    }\n",
       "\n",
       "    .dataframe thead th {\n",
       "        text-align: right;\n",
       "    }\n",
       "</style>\n",
       "<table border=\"1\" class=\"dataframe\">\n",
       "  <thead>\n",
       "    <tr style=\"text-align: right;\">\n",
       "      <th></th>\n",
       "      <th>InstrumentCode</th>\n",
       "      <th>MarketDataDate</th>\n",
       "      <th>YieldPercent</th>\n",
       "      <th>GovernmentSpreadBp</th>\n",
       "      <th>GovCountrySpreadBp</th>\n",
       "      <th>RatingSpreadBp</th>\n",
       "      <th>SectorRatingSpreadBp</th>\n",
       "      <th>EdsfSpreadBp</th>\n",
       "      <th>IssuerSpreadBp</th>\n",
       "    </tr>\n",
       "  </thead>\n",
       "  <tbody>\n",
       "    <tr>\n",
       "      <th>0</th>\n",
       "      <td>US1YT=RR</td>\n",
       "      <td>2019-07-05T00:00:00Z</td>\n",
       "      <td>1.989924</td>\n",
       "      <td>0</td>\n",
       "      <td>-2.796619</td>\n",
       "      <td>None</td>\n",
       "      <td>None</td>\n",
       "      <td>None</td>\n",
       "      <td>None</td>\n",
       "    </tr>\n",
       "  </tbody>\n",
       "</table>\n",
       "</div>"
      ],
      "text/plain": [
       "  InstrumentCode        MarketDataDate  YieldPercent  GovernmentSpreadBp  \\\n",
       "0       US1YT=RR  2019-07-05T00:00:00Z      1.989924                   0   \n",
       "\n",
       "   GovCountrySpreadBp RatingSpreadBp SectorRatingSpreadBp EdsfSpreadBp  \\\n",
       "0           -2.796619           None                 None         None   \n",
       "\n",
       "  IssuerSpreadBp  \n",
       "0           None  "
      ]
     },
     "metadata": {},
     "output_type": "display_data"
    }
   ],
   "source": [
    "response = bond.Definition(\n",
    "    instrument_code = 'US1YT=RR',\n",
    "    fields = [\n",
    "        \"InstrumentCode\",\n",
    "        \"MarketDataDate\",\n",
    "        \"YieldPercent\",\n",
    "        \"GovernmentSpreadBp\",\n",
    "        \"GovCountrySpreadBp\",\n",
    "        \"RatingSpreadBp\",\n",
    "        \"SectorRatingSpreadBp\",\n",
    "        \"EdsfSpreadBp\",\n",
    "        \"IssuerSpreadBp\"\n",
    "    ],\n",
    "    pricing_parameters = bond.PricingParameters(\n",
    "        market_data_date=\"2019-07-05\",\n",
    "        price_side = bond.PriceSide.BID\n",
    "    )\n",
    ").get_data()\n",
    "\n",
    "display(response.data.df)\n"
   ]
  },
  {
   "cell_type": "markdown",
   "metadata": {},
   "source": [
    "## Close the session"
   ]
  },
  {
   "cell_type": "code",
   "execution_count": 8,
   "metadata": {
    "pycharm": {
     "name": "#%%\n"
    }
   },
   "outputs": [],
   "source": [
    "rd.close_session()"
   ]
  },
  {
   "cell_type": "code",
   "execution_count": null,
   "metadata": {},
   "outputs": [],
   "source": []
  }
 ],
 "metadata": {
  "kernelspec": {
   "display_name": "Python 3",
   "language": "python",
   "name": "python3"
  },
  "language_info": {
   "codemirror_mode": {
    "name": "ipython",
    "version": 3
   },
   "file_extension": ".py",
   "mimetype": "text/x-python",
   "name": "python",
   "nbconvert_exporter": "python",
   "pygments_lexer": "ipython3",
   "version": "3.7.6"
  }
 },
 "nbformat": 4,
 "nbformat_minor": 4
}
