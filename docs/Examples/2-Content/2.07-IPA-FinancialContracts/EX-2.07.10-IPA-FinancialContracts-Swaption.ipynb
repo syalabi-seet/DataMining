{
 "cells": [
  {
   "cell_type": "markdown",
   "metadata": {},
   "source": [
    "----\n",
    "<img src=\"../../../files/refinitiv.png\" width=\"20%\" style=\"vertical-align: top;\">\n",
    "\n",
    "# Data Library for Python\n",
    "\n",
    "----"
   ]
  },
  {
   "cell_type": "markdown",
   "metadata": {},
   "source": [
    "## Content layer - IPA - Swaption\n",
    "This notebook demonstrates how to use Swaption pricing analytics."
   ]
  },
  {
   "cell_type": "markdown",
   "metadata": {},
   "source": [
    "#### Learn more\n",
    "\n",
    "To learn more about the Refinitiv Data Library for Python please join the Refinitiv Developer Community. By [registering](https://developers.refinitiv.com/iam/register) and [logging](https://developers.refinitiv.com/content/devportal/en_us/initCookie.html) into the Refinitiv Developer Community portal you will have free access to a number of learning materials like \n",
    " [Quick Start guides](https://developers.refinitiv.com/en/api-catalog/refinitiv-data-platform/refinitiv-data-library-for-python/quick-start), \n",
    " [Tutorials](https://developers.refinitiv.com/en/api-catalog/refinitiv-data-platform/refinitiv-data-library-for-python/learning), \n",
    " [Documentation](https://developers.refinitiv.com/en/api-catalog/refinitiv-data-platform/refinitiv-data-library-for-python/docs)\n",
    " and much more.\n",
    "\n",
    "#### Getting Help and Support\n",
    "\n",
    "If you have any questions regarding using the API, please post them on \n",
    "the [Refinitiv Data Q&A Forum](https://community.developers.refinitiv.com/spaces/321/index.html). \n",
    "The Refinitiv Developer Community will be happy to help. "
   ]
  },
  {
   "cell_type": "markdown",
   "metadata": {},
   "source": [
    "## Set the configuration file location\n",
    "For a better ease of use, you have the option to set initialization parameters of the Refinitiv Data Library in the _refinitiv-data.config.json_ configuration file. This file must be located beside your notebook, in your user folder or in a folder defined by the _RD_LIB_CONFIG_PATH_ environment variable. The _RD_LIB_CONFIG_PATH_ environment variable is the option used by this series of examples. The following code sets this environment variable.      "
   ]
  },
  {
   "cell_type": "code",
   "execution_count": 1,
   "metadata": {},
   "outputs": [],
   "source": [
    "import os\n",
    "os.environ[\"RD_LIB_CONFIG_PATH\"] = \"../../../Configuration\""
   ]
  },
  {
   "cell_type": "markdown",
   "metadata": {},
   "source": [
    "## Some Imports to start with"
   ]
  },
  {
   "cell_type": "code",
   "execution_count": 1,
   "metadata": {},
   "outputs": [],
   "source": [
    "import refinitiv.data as rd\n",
    "from refinitiv.data.content.ipa.financial_contracts import swaption\n",
    "from refinitiv.data.content.ipa.financial_contracts import swap"
   ]
  },
  {
   "cell_type": "markdown",
   "metadata": {},
   "source": [
    "## Open the data session\n",
    "\n",
    "The open_session() function creates and open sessions based on the information contained in the refinitiv-data.config.json configuration file. Please edit this file to set the session type and other parameters required for the session you want to open."
   ]
  },
  {
   "cell_type": "code",
   "execution_count": 2,
   "metadata": {},
   "outputs": [
    {
     "data": {
      "text/plain": [
       "<refinitiv.data.session.Definition object at 0x7fcf22e8fe50 {name='workspace'}>"
      ]
     },
     "execution_count": 2,
     "metadata": {},
     "output_type": "execute_result"
    }
   ],
   "source": [
    "rd.open_session()"
   ]
  },
  {
   "cell_type": "markdown",
   "metadata": {},
   "source": [
    "## Retrieve data"
   ]
  },
  {
   "cell_type": "code",
   "execution_count": 6,
   "metadata": {},
   "outputs": [
    {
     "data": {
      "text/html": [
       "<div>\n",
       "<style scoped>\n",
       "    .dataframe tbody tr th:only-of-type {\n",
       "        vertical-align: middle;\n",
       "    }\n",
       "\n",
       "    .dataframe tbody tr th {\n",
       "        vertical-align: top;\n",
       "    }\n",
       "\n",
       "    .dataframe thead th {\n",
       "        text-align: right;\n",
       "    }\n",
       "</style>\n",
       "<table border=\"1\" class=\"dataframe\">\n",
       "  <thead>\n",
       "    <tr style=\"text-align: right;\">\n",
       "      <th></th>\n",
       "      <th>InstrumentTag</th>\n",
       "      <th>InstrumentDescription</th>\n",
       "      <th>ValuationDate</th>\n",
       "      <th>ExpiryDate</th>\n",
       "      <th>OptionType</th>\n",
       "      <th>ExerciseStyle</th>\n",
       "      <th>NotionalAmount</th>\n",
       "      <th>NotionalCcy</th>\n",
       "      <th>SettlementType</th>\n",
       "      <th>SettlementCcy</th>\n",
       "      <th>Tenor</th>\n",
       "      <th>UnderlyingTenor</th>\n",
       "      <th>StrikePercent</th>\n",
       "      <th>MarketValueInDealCcy</th>\n",
       "      <th>PremiumPercent</th>\n",
       "      <th>DeltaPercent</th>\n",
       "      <th>DeltaAmountInDealCcy</th>\n",
       "      <th>ThetaAmountInDealCcy</th>\n",
       "      <th>VegaAmountInDealCcy</th>\n",
       "      <th>GammaAmountInDealCcy</th>\n",
       "    </tr>\n",
       "  </thead>\n",
       "  <tbody>\n",
       "    <tr>\n",
       "      <th>0</th>\n",
       "      <td>BermudanEURswaption</td>\n",
       "      <td>Long payer BERM 7Y x 2Y Swaption</td>\n",
       "      <td>2020-04-24</td>\n",
       "      <td>2027-04-26</td>\n",
       "      <td>CALL</td>\n",
       "      <td>BERM</td>\n",
       "      <td>10000000</td>\n",
       "      <td>EUR</td>\n",
       "      <td>Cash</td>\n",
       "      <td>EUR</td>\n",
       "      <td>7Y</td>\n",
       "      <td>2Y</td>\n",
       "      <td>2.75</td>\n",
       "      <td>6281.787595</td>\n",
       "      <td>0.062818</td>\n",
       "      <td>0.105315</td>\n",
       "      <td>105.315476</td>\n",
       "      <td>7.732847</td>\n",
       "      <td>473.653275</td>\n",
       "      <td>1.104078</td>\n",
       "    </tr>\n",
       "  </tbody>\n",
       "</table>\n",
       "</div>"
      ],
      "text/plain": [
       "         InstrumentTag             InstrumentDescription ValuationDate  \\\n",
       "0  BermudanEURswaption  Long payer BERM 7Y x 2Y Swaption    2020-04-24   \n",
       "\n",
       "  ExpiryDate OptionType ExerciseStyle  NotionalAmount NotionalCcy  \\\n",
       "0 2027-04-26       CALL          BERM        10000000         EUR   \n",
       "\n",
       "  SettlementType SettlementCcy Tenor UnderlyingTenor  StrikePercent  \\\n",
       "0           Cash           EUR    7Y              2Y           2.75   \n",
       "\n",
       "   MarketValueInDealCcy  PremiumPercent  DeltaPercent  DeltaAmountInDealCcy  \\\n",
       "0           6281.787595        0.062818      0.105315            105.315476   \n",
       "\n",
       "   ThetaAmountInDealCcy  VegaAmountInDealCcy  GammaAmountInDealCcy  \n",
       "0              7.732847           473.653275              1.104078  "
      ]
     },
     "execution_count": 6,
     "metadata": {},
     "output_type": "execute_result"
    }
   ],
   "source": [
    "response = swaption.Definition(\n",
    "    instrument_tag=\"BermudanEURswaption\",\n",
    "    settlement_type=swaption.SwaptionSettlementType.CASH,\n",
    "    tenor=\"7Y\",\n",
    "    strike_percent=2.75,\n",
    "    buy_sell=swaption.BuySell.BUY,\n",
    "    swaption_type=swaption.SwaptionType.PAYER,\n",
    "    exercise_style=swaption.ExerciseStyle.BERM,\n",
    "    bermudan_swaption_definition=swaption.BermudanSwaptionDefinition(\n",
    "        exercise_schedule_type=swaption.ExerciseScheduleType.FLOAT_LEG,\n",
    "        notification_days=0,\n",
    "    ),\n",
    "    underlying_definition=swap.Definition(\n",
    "        tenor=\"2Y\",\n",
    "        legs=[\n",
    "            swap.LegDefinition(\n",
    "                direction=swap.Direction.PAID,\n",
    "                notional_amount=\"10000000\",\n",
    "                notional_ccy=\"EUR\",\n",
    "                interest_type=swap.InterestType.FIXED,\n",
    "                interest_payment_frequency=swap.Frequency.QUARTERLY\n",
    "            ),\n",
    "            swap.LegDefinition(\n",
    "                index_tenor=\"5Y\",\n",
    "                cms_template=\"EUR_AB6E\",\n",
    "                interest_type=swap.InterestType.FLOAT,\n",
    "                interest_payment_frequency=swap.Frequency.QUARTERLY,\n",
    "                direction=swap.Direction.RECEIVED,\n",
    "                notional_ccy=\"EUR\",\n",
    "            ),\n",
    "        ],\n",
    "        pricing_parameters=swap.PricingParameters(discounting_tenor=\"ON\"),\n",
    "    ),\n",
    "    pricing_parameters=swaption.PricingParameters(\n",
    "        valuation_date=\"2020-04-24\"\n",
    "    ),\n",
    "    fields=[\n",
    "        \"InstrumentTag\",\n",
    "        \"InstrumentDescription\",\n",
    "        \"ValuationDate\",\n",
    "        \"ExpiryDate\",\n",
    "        \"OptionType\",\n",
    "        \"ExerciseStyle\",\n",
    "        \"NotionalAmount\",\n",
    "        \"NotionalCcy\",\n",
    "        \"SettlementType\",\n",
    "        \"SettlementCcy\",\n",
    "        \"Tenor\",\n",
    "        \"UnderlyingTenor\",\n",
    "        \"StrikePercent\",\n",
    "        \"MarketValueInDealCcy\",\n",
    "        \"PremiumPercent\",\n",
    "        \"DeltaPercent\",\n",
    "        \"DeltaAmountInDealCcy\",\n",
    "        \"ThetaAmountInDealCcy\",\n",
    "        \"VegaAmountInDealCcy\",\n",
    "        \"GammaAmountInDealCcy\",\n",
    "    ],\n",
    ").get_data()\n",
    "\n",
    "response.data.df"
   ]
  },
  {
   "cell_type": "markdown",
   "metadata": {},
   "source": [
    "## Close the session"
   ]
  },
  {
   "cell_type": "code",
   "execution_count": 7,
   "metadata": {
    "pycharm": {
     "name": "#%%\n"
    }
   },
   "outputs": [],
   "source": [
    "rd.close_session()"
   ]
  },
  {
   "cell_type": "code",
   "execution_count": null,
   "metadata": {},
   "outputs": [],
   "source": []
  }
 ],
 "metadata": {
  "kernelspec": {
   "display_name": "Python 3 (ipykernel)",
   "language": "python",
   "name": "python3"
  },
  "language_info": {
   "codemirror_mode": {
    "name": "ipython",
    "version": 3
   },
   "file_extension": ".py",
   "mimetype": "text/x-python",
   "name": "python",
   "nbconvert_exporter": "python",
   "pygments_lexer": "ipython3",
   "version": "3.9.7"
  }
 },
 "nbformat": 4,
 "nbformat_minor": 4
}
