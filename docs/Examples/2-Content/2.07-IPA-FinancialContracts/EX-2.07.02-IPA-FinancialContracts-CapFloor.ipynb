{
 "cells": [
  {
   "cell_type": "markdown",
   "metadata": {},
   "source": [
    "----\n",
    "<img src=\"../../../files/refinitiv.png\" width=\"20%\" style=\"vertical-align: top;\">\n",
    "\n",
    "# Data Library for Python\n",
    "\n",
    "----"
   ]
  },
  {
   "cell_type": "markdown",
   "metadata": {},
   "source": [
    "## Content layer - IPA - Cap Floor\n",
    "This notebook demonstrates how to use Cap Floor pricing analytics."
   ]
  },
  {
   "cell_type": "markdown",
   "metadata": {},
   "source": [
    "#### Learn more\n",
    "\n",
    "To learn more about the Refinitiv Data Library for Python please join the Refinitiv Developer Community. By [registering](https://developers.refinitiv.com/iam/register) and [logging](https://developers.refinitiv.com/content/devportal/en_us/initCookie.html) into the Refinitiv Developer Community portal you will have free access to a number of learning materials like \n",
    " [Quick Start guides](https://developers.refinitiv.com/en/api-catalog/refinitiv-data-platform/refinitiv-data-library-for-python/quick-start), \n",
    " [Tutorials](https://developers.refinitiv.com/en/api-catalog/refinitiv-data-platform/refinitiv-data-library-for-python/learning), \n",
    " [Documentation](https://developers.refinitiv.com/en/api-catalog/refinitiv-data-platform/refinitiv-data-library-for-python/docs)\n",
    " and much more.\n",
    "\n",
    "#### Getting Help and Support\n",
    "\n",
    "If you have any questions regarding using the API, please post them on \n",
    "the [Refinitiv Data Q&A Forum](https://community.developers.refinitiv.com/spaces/321/index.html). \n",
    "The Refinitiv Developer Community will be happy to help. "
   ]
  },
  {
   "cell_type": "markdown",
   "metadata": {},
   "source": [
    "## Set the configuration file location\n",
    "For a better ease of use, you have the option to set initialization parameters of the Refinitiv Data Library in the _refinitiv-data.config.json_ configuration file. This file must be located beside your notebook, in your user folder or in a folder defined by the _RD_LIB_CONFIG_PATH_ environment variable. The _RD_LIB_CONFIG_PATH_ environment variable is the option used by this series of examples. The following code sets this environment variable.      "
   ]
  },
  {
   "cell_type": "code",
   "execution_count": 1,
   "metadata": {},
   "outputs": [],
   "source": [
    "import os\n",
    "os.environ[\"RD_LIB_CONFIG_PATH\"] = \"../../../Configuration\""
   ]
  },
  {
   "cell_type": "markdown",
   "metadata": {},
   "source": [
    "## Some Imports to start with"
   ]
  },
  {
   "cell_type": "code",
   "execution_count": 2,
   "metadata": {},
   "outputs": [],
   "source": [
    "import refinitiv.data as rd\n",
    "from refinitiv.data.content.ipa.financial_contracts import cap_floor"
   ]
  },
  {
   "cell_type": "markdown",
   "metadata": {},
   "source": [
    "## Open the data session\n",
    "\n",
    "The open_session() function creates and open sessions based on the information contained in the refinitiv-data.config.json configuration file. Please edit this file to set the session type and other parameters required for the session you want to open."
   ]
  },
  {
   "cell_type": "code",
   "execution_count": 3,
   "metadata": {},
   "outputs": [
    {
     "data": {
      "text/plain": [
       "<refinitiv.data.session.Definition object at 0x7fc4a79f2b90 {name='workspace'}>"
      ]
     },
     "execution_count": 3,
     "metadata": {},
     "output_type": "execute_result"
    }
   ],
   "source": [
    "rd.open_session()"
   ]
  },
  {
   "cell_type": "markdown",
   "metadata": {},
   "source": [
    "## Retrieve data"
   ]
  },
  {
   "cell_type": "markdown",
   "metadata": {},
   "source": [
    "### Single"
   ]
  },
  {
   "cell_type": "code",
   "execution_count": 10,
   "metadata": {},
   "outputs": [
    {
     "data": {
      "text/html": [
       "<div>\n",
       "<style scoped>\n",
       "    .dataframe tbody tr th:only-of-type {\n",
       "        vertical-align: middle;\n",
       "    }\n",
       "\n",
       "    .dataframe tbody tr th {\n",
       "        vertical-align: top;\n",
       "    }\n",
       "\n",
       "    .dataframe thead th {\n",
       "        text-align: right;\n",
       "    }\n",
       "</style>\n",
       "<table border=\"1\" class=\"dataframe\">\n",
       "  <thead>\n",
       "    <tr style=\"text-align: right;\">\n",
       "      <th></th>\n",
       "      <th>InstrumentTag</th>\n",
       "      <th>InstrumentDescription</th>\n",
       "      <th>CallPut</th>\n",
       "      <th>ValuationDate</th>\n",
       "      <th>MarketDataDate</th>\n",
       "      <th>StartDate</th>\n",
       "      <th>EndDate</th>\n",
       "      <th>Tenor</th>\n",
       "      <th>InterestPaymentFrequency</th>\n",
       "      <th>IndexResetFrequency</th>\n",
       "      <th>...</th>\n",
       "      <th>ImpliedVolatilityBp</th>\n",
       "      <th>DeltaPercent</th>\n",
       "      <th>ForwardDeltaPercent</th>\n",
       "      <th>DV01AmountInDealCcy</th>\n",
       "      <th>GammaAmountInDealCcy</th>\n",
       "      <th>VegaAmountInDealCcy</th>\n",
       "      <th>ThetaAmountInDealCcy</th>\n",
       "      <th>ErrorCode</th>\n",
       "      <th>ErrorMessage</th>\n",
       "      <th>ProcessingInformation</th>\n",
       "    </tr>\n",
       "  </thead>\n",
       "  <tbody>\n",
       "    <tr>\n",
       "      <th>0</th>\n",
       "      <td>None</td>\n",
       "      <td>SHORT EUR 1.0000% CAP</td>\n",
       "      <td>CAP</td>\n",
       "      <td>2022-02-15T00:00:00Z</td>\n",
       "      <td>2022-02-15T00:00:00Z</td>\n",
       "      <td>2019-02-11T00:00:00Z</td>\n",
       "      <td>2024-02-12T00:00:00Z</td>\n",
       "      <td>5Y</td>\n",
       "      <td>Monthly</td>\n",
       "      <td>Monthly</td>\n",
       "      <td>...</td>\n",
       "      <td>104.293863</td>\n",
       "      <td>-0.220229</td>\n",
       "      <td>-0.220044</td>\n",
       "      <td>-418.328325</td>\n",
       "      <td>-3.90095</td>\n",
       "      <td>-541.486272</td>\n",
       "      <td>64.480345</td>\n",
       "      <td></td>\n",
       "      <td></td>\n",
       "      <td></td>\n",
       "    </tr>\n",
       "  </tbody>\n",
       "</table>\n",
       "<p>1 rows × 29 columns</p>\n",
       "</div>"
      ],
      "text/plain": [
       "  InstrumentTag  InstrumentDescription CallPut         ValuationDate  \\\n",
       "0          None  SHORT EUR 1.0000% CAP     CAP  2022-02-15T00:00:00Z   \n",
       "\n",
       "         MarketDataDate             StartDate               EndDate Tenor  \\\n",
       "0  2022-02-15T00:00:00Z  2019-02-11T00:00:00Z  2024-02-12T00:00:00Z    5Y   \n",
       "\n",
       "  InterestPaymentFrequency IndexResetFrequency  ... ImpliedVolatilityBp  \\\n",
       "0                  Monthly             Monthly  ...          104.293863   \n",
       "\n",
       "  DeltaPercent ForwardDeltaPercent  DV01AmountInDealCcy GammaAmountInDealCcy  \\\n",
       "0    -0.220229           -0.220044          -418.328325             -3.90095   \n",
       "\n",
       "  VegaAmountInDealCcy  ThetaAmountInDealCcy  ErrorCode  ErrorMessage  \\\n",
       "0         -541.486272             64.480345                            \n",
       "\n",
       "   ProcessingInformation  \n",
       "0                         \n",
       "\n",
       "[1 rows x 29 columns]"
      ]
     },
     "execution_count": 10,
     "metadata": {},
     "output_type": "execute_result"
    }
   ],
   "source": [
    "response = cap_floor.Definition(\n",
    "    notional_ccy=\"EUR\",\n",
    "    start_date=\"2019-02-11\",\n",
    "    amortization_schedule=[\n",
    "        cap_floor.AmortizationItem(\n",
    "            start_date=\"2021-02-12\",\n",
    "            end_date=\"2021-02-12\",\n",
    "            amount=100000,\n",
    "            amortization_type=cap_floor.AmortizationType.SCHEDULE,\n",
    "        ),\n",
    "        cap_floor.AmortizationItem(\n",
    "            start_date=\"2021-02-11\",\n",
    "            end_date=\"2021-02-11\",\n",
    "            amount=-100000,\n",
    "            amortization_type=cap_floor.AmortizationType.SCHEDULE,\n",
    "        ),\n",
    "    ],\n",
    "    tenor=\"5Y\",\n",
    "    buy_sell=\"Sell\",\n",
    "    notional_amount=10000000,\n",
    "    interest_payment_frequency=cap_floor.Frequency.MONTHLY,\n",
    "    cap_strike_percent=1\n",
    ").get_data()\n",
    "\n",
    "response.data.df"
   ]
  },
  {
   "cell_type": "markdown",
   "metadata": {},
   "source": [
    "### Fields selection"
   ]
  },
  {
   "cell_type": "code",
   "execution_count": 11,
   "metadata": {},
   "outputs": [
    {
     "data": {
      "text/html": [
       "<div>\n",
       "<style scoped>\n",
       "    .dataframe tbody tr th:only-of-type {\n",
       "        vertical-align: middle;\n",
       "    }\n",
       "\n",
       "    .dataframe tbody tr th {\n",
       "        vertical-align: top;\n",
       "    }\n",
       "\n",
       "    .dataframe thead th {\n",
       "        text-align: right;\n",
       "    }\n",
       "</style>\n",
       "<table border=\"1\" class=\"dataframe\">\n",
       "  <thead>\n",
       "    <tr style=\"text-align: right;\">\n",
       "      <th></th>\n",
       "      <th>InstrumentTag</th>\n",
       "      <th>InstrumentDescription</th>\n",
       "      <th>FixedRate</th>\n",
       "      <th>MarketValueInDealCcy</th>\n",
       "      <th>MarketValueInReportCcy</th>\n",
       "      <th>ErrorMessage</th>\n",
       "    </tr>\n",
       "  </thead>\n",
       "  <tbody>\n",
       "    <tr>\n",
       "      <th>0</th>\n",
       "      <td>None</td>\n",
       "      <td>SHORT EUR 1.0000% CAP</td>\n",
       "      <td>None</td>\n",
       "      <td>-34349.598523</td>\n",
       "      <td>None</td>\n",
       "      <td></td>\n",
       "    </tr>\n",
       "  </tbody>\n",
       "</table>\n",
       "</div>"
      ],
      "text/plain": [
       "  InstrumentTag  InstrumentDescription FixedRate  MarketValueInDealCcy  \\\n",
       "0          None  SHORT EUR 1.0000% CAP      None         -34349.598523   \n",
       "\n",
       "  MarketValueInReportCcy ErrorMessage  \n",
       "0                   None               "
      ]
     },
     "execution_count": 11,
     "metadata": {},
     "output_type": "execute_result"
    }
   ],
   "source": [
    "response = cap_floor.Definition(\n",
    "    notional_ccy=\"EUR\",\n",
    "    start_date=\"2019-02-11\",\n",
    "    amortization_schedule=[\n",
    "        cap_floor.AmortizationItem(\n",
    "            start_date=\"2021-02-12\",\n",
    "            end_date=\"2021-02-12\",\n",
    "            amount=100000,\n",
    "            amortization_type=cap_floor.AmortizationType.SCHEDULE,\n",
    "        ),\n",
    "        cap_floor.AmortizationItem(\n",
    "            start_date=\"2021-02-11\",\n",
    "            end_date=\"2021-02-11\",\n",
    "            amount=-100000,\n",
    "            amortization_type=cap_floor.AmortizationType.SCHEDULE,\n",
    "        ),\n",
    "    ],\n",
    "    tenor=\"5Y\",\n",
    "    buy_sell=\"Sell\",\n",
    "    notional_amount=10000000,\n",
    "    interest_payment_frequency=cap_floor.Frequency.MONTHLY,\n",
    "    cap_strike_percent=1,\n",
    "    fields=[\n",
    "        \"InstrumentTag\",\n",
    "        \"InstrumentDescription\",\n",
    "        \"FixedRate\",\n",
    "        \"MarketValueInDealCcy\",\n",
    "        \"MarketValueInReportCcy\",\n",
    "        \"ErrorMessage\"\n",
    "    ]\n",
    ").get_data()\n",
    "\n",
    "response.data.df"
   ]
  },
  {
   "cell_type": "markdown",
   "metadata": {},
   "source": [
    "### Pricing parameters"
   ]
  },
  {
   "cell_type": "code",
   "execution_count": 12,
   "metadata": {},
   "outputs": [
    {
     "data": {
      "text/html": [
       "<div>\n",
       "<style scoped>\n",
       "    .dataframe tbody tr th:only-of-type {\n",
       "        vertical-align: middle;\n",
       "    }\n",
       "\n",
       "    .dataframe tbody tr th {\n",
       "        vertical-align: top;\n",
       "    }\n",
       "\n",
       "    .dataframe thead th {\n",
       "        text-align: right;\n",
       "    }\n",
       "</style>\n",
       "<table border=\"1\" class=\"dataframe\">\n",
       "  <thead>\n",
       "    <tr style=\"text-align: right;\">\n",
       "      <th></th>\n",
       "      <th>InstrumentTag</th>\n",
       "      <th>InstrumentDescription</th>\n",
       "      <th>CallPut</th>\n",
       "      <th>ValuationDate</th>\n",
       "      <th>MarketDataDate</th>\n",
       "      <th>StartDate</th>\n",
       "      <th>EndDate</th>\n",
       "      <th>Tenor</th>\n",
       "      <th>InterestPaymentFrequency</th>\n",
       "      <th>IndexResetFrequency</th>\n",
       "      <th>...</th>\n",
       "      <th>ImpliedVolatilityBp</th>\n",
       "      <th>DeltaPercent</th>\n",
       "      <th>ForwardDeltaPercent</th>\n",
       "      <th>DV01AmountInDealCcy</th>\n",
       "      <th>GammaAmountInDealCcy</th>\n",
       "      <th>VegaAmountInDealCcy</th>\n",
       "      <th>ThetaAmountInDealCcy</th>\n",
       "      <th>ErrorCode</th>\n",
       "      <th>ErrorMessage</th>\n",
       "      <th>ProcessingInformation</th>\n",
       "    </tr>\n",
       "  </thead>\n",
       "  <tbody>\n",
       "    <tr>\n",
       "      <th>0</th>\n",
       "      <td>None</td>\n",
       "      <td>SHORT EUR 1.0000% CAP</td>\n",
       "      <td>CAP</td>\n",
       "      <td>2020-02-07T00:00:00Z</td>\n",
       "      <td>2020-02-07T00:00:00Z</td>\n",
       "      <td>2019-02-11T00:00:00Z</td>\n",
       "      <td>2024-02-12T00:00:00Z</td>\n",
       "      <td>5Y</td>\n",
       "      <td>Monthly</td>\n",
       "      <td>Monthly</td>\n",
       "      <td>...</td>\n",
       "      <td>52.472907</td>\n",
       "      <td>-0.140214</td>\n",
       "      <td>-0.13845</td>\n",
       "      <td>-554.32847</td>\n",
       "      <td>-8.35115</td>\n",
       "      <td>-1257.704728</td>\n",
       "      <td>30.34355</td>\n",
       "      <td></td>\n",
       "      <td></td>\n",
       "      <td>The following global parameter is invalid: ski...</td>\n",
       "    </tr>\n",
       "  </tbody>\n",
       "</table>\n",
       "<p>1 rows × 29 columns</p>\n",
       "</div>"
      ],
      "text/plain": [
       "  InstrumentTag  InstrumentDescription CallPut         ValuationDate  \\\n",
       "0          None  SHORT EUR 1.0000% CAP     CAP  2020-02-07T00:00:00Z   \n",
       "\n",
       "         MarketDataDate             StartDate               EndDate Tenor  \\\n",
       "0  2020-02-07T00:00:00Z  2019-02-11T00:00:00Z  2024-02-12T00:00:00Z    5Y   \n",
       "\n",
       "  InterestPaymentFrequency IndexResetFrequency  ... ImpliedVolatilityBp  \\\n",
       "0                  Monthly             Monthly  ...           52.472907   \n",
       "\n",
       "  DeltaPercent ForwardDeltaPercent  DV01AmountInDealCcy GammaAmountInDealCcy  \\\n",
       "0    -0.140214            -0.13845           -554.32847             -8.35115   \n",
       "\n",
       "  VegaAmountInDealCcy  ThetaAmountInDealCcy  ErrorCode  ErrorMessage  \\\n",
       "0        -1257.704728              30.34355                            \n",
       "\n",
       "                               ProcessingInformation  \n",
       "0  The following global parameter is invalid: ski...  \n",
       "\n",
       "[1 rows x 29 columns]"
      ]
     },
     "execution_count": 12,
     "metadata": {},
     "output_type": "execute_result"
    }
   ],
   "source": [
    "response = cap_floor.Definition(\n",
    "    notional_ccy=\"EUR\",\n",
    "    start_date=\"2019-02-11\",\n",
    "    amortization_schedule=[\n",
    "        cap_floor.AmortizationItem(\n",
    "            start_date=\"2021-02-12\",\n",
    "            end_date=\"2021-02-12\",\n",
    "            amount=100000,\n",
    "            amortization_type=cap_floor.AmortizationType.SCHEDULE,\n",
    "        ),\n",
    "        cap_floor.AmortizationItem(\n",
    "            start_date=\"2021-02-11\",\n",
    "            end_date=\"2021-02-11\",\n",
    "            amount=-100000,\n",
    "            amortization_type=cap_floor.AmortizationType.SCHEDULE,\n",
    "        ),\n",
    "    ],\n",
    "    tenor=\"5Y\",\n",
    "    buy_sell=\"Sell\",\n",
    "    notional_amount=10000000,\n",
    "    interest_payment_frequency=cap_floor.Frequency.MONTHLY,\n",
    "    cap_strike_percent=1,\n",
    "    pricing_parameters=cap_floor.PricingParameters(\n",
    "        skip_first_cap_floorlet=True,\n",
    "        valuation_date=\"2020-02-07\"\n",
    "    )\n",
    ").get_data()\n",
    "\n",
    "response.data.df"
   ]
  },
  {
   "cell_type": "markdown",
   "metadata": {},
   "source": [
    "## Close the session"
   ]
  },
  {
   "cell_type": "code",
   "execution_count": 7,
   "metadata": {
    "pycharm": {
     "name": "#%%\n"
    }
   },
   "outputs": [],
   "source": [
    "rd.close_session()"
   ]
  },
  {
   "cell_type": "code",
   "execution_count": null,
   "metadata": {},
   "outputs": [],
   "source": []
  }
 ],
 "metadata": {
  "kernelspec": {
   "display_name": "Python 3",
   "language": "python",
   "name": "python3"
  },
  "language_info": {
   "codemirror_mode": {
    "name": "ipython",
    "version": 3
   },
   "file_extension": ".py",
   "mimetype": "text/x-python",
   "name": "python",
   "nbconvert_exporter": "python",
   "pygments_lexer": "ipython3",
   "version": "3.7.6"
  }
 },
 "nbformat": 4,
 "nbformat_minor": 4
}
