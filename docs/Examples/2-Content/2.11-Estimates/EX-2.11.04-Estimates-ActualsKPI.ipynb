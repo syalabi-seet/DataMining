{
 "cells": [
  {
   "cell_type": "markdown",
   "metadata": {},
   "source": [
    "----\n",
    "<img src=\"../../../files/refinitiv.png\" width=\"20%\" style=\"vertical-align: top;\">\n",
    "\n",
    "# Data Library for Python\n",
    "\n",
    "----"
   ]
  },
  {
   "cell_type": "markdown",
   "metadata": {
    "tags": []
   },
   "source": [
    "## Content layer - Estimates - Actuals KPI\n",
    "This notebook demonstrates how to retrieve Estimates.\n",
    "\n",
    "I/B/E/S (Institutional Brokers' Estimate System) delivers a complete suite of Estimates content with a global view and is the largest contributor base in the industry. RDP I/B/E/S Estimates API provides information about consensus and aggregates data(26 generic measures, 23 KPI measures), company guidance data and advanced analytics. With over 40 years of collection experience and extensive quality controls that include thousands of automated error checks and stringent manual analysis, RDP I/B/E/S gives the clients the content they need for superior insight, research and investment decision making.\n",
    "\n",
    "The I/B/E/S database currently covers over 56,000 companies in 100 markets.\n",
    "More than 900 firms contribute data to I/B/E/S, from the largest global houses to regional and local brokers, with US data back to 1976 and international data back to 1987."
   ]
  },
  {
   "cell_type": "markdown",
   "metadata": {
    "tags": []
   },
   "source": [
    "#### Learn more\n",
    "\n",
    "To learn more about the Refinitiv Data Library for Python please join the Refinitiv Developer Community. By [registering](https://developers.refinitiv.com/iam/register) and [logging](https://developers.refinitiv.com/content/devportal/en_us/initCookie.html) into the Refinitiv Developer Community portal you will have free access to a number of learning materials like \n",
    " [Quick Start guides](https://developers.refinitiv.com/en/api-catalog/refinitiv-data-platform/refinitiv-data-library-for-python/quick-start), \n",
    " [Tutorials](https://developers.refinitiv.com/en/api-catalog/refinitiv-data-platform/refinitiv-data-library-for-python/learning), \n",
    " [Documentation](https://developers.refinitiv.com/en/api-catalog/refinitiv-data-platform/refinitiv-data-library-for-python/docs)\n",
    " and much more.\n",
    "\n",
    "#### Getting Help and Support\n",
    "\n",
    "If you have any questions regarding using the API, please post them on \n",
    "the [Refinitiv Data Q&A Forum](https://community.developers.refinitiv.com/spaces/321/index.html). \n",
    "The Refinitiv Developer Community will be happy to help. \n",
    "\n",
    "----"
   ]
  },
  {
   "cell_type": "markdown",
   "metadata": {
    "tags": []
   },
   "source": [
    "## Set the configuration file location\n",
    "For a better ease of use, you have the option to set initialization parameters of the Refinitiv Data Library in the _refinitiv-data.config.json_ configuration file. This file must be located beside your notebook, in your user folder or in a folder defined by the _RD_LIB_CONFIG_PATH_ environment variable. The _RD_LIB_CONFIG_PATH_ environment variable is the option used by this series of examples. The following code sets this environment variable.      "
   ]
  },
  {
   "cell_type": "code",
   "execution_count": 1,
   "metadata": {},
   "outputs": [],
   "source": [
    "import os\n",
    "os.environ[\"RD_LIB_CONFIG_PATH\"] = \"../../../Configuration\""
   ]
  },
  {
   "cell_type": "markdown",
   "metadata": {
    "pycharm": {
     "name": "#%% md\n"
    }
   },
   "source": [
    "## Some Imports to start with"
   ]
  },
  {
   "cell_type": "code",
   "execution_count": 1,
   "metadata": {
    "collapsed": false,
    "jupyter": {
     "outputs_hidden": false
    },
    "pycharm": {
     "name": "#%%\n"
    }
   },
   "outputs": [],
   "source": [
    "import refinitiv.data as rd\n",
    "from refinitiv.data.content import estimates"
   ]
  },
  {
   "cell_type": "markdown",
   "metadata": {},
   "source": [
    "## Open the data session\n",
    "\n",
    "The open_session() function creates and open sessions based on the information contained in the refinitiv-data.config.json configuration file. Please edit this file to set the session type and other parameters required for the session you want to open."
   ]
  },
  {
   "cell_type": "code",
   "execution_count": 2,
   "metadata": {
    "collapsed": false,
    "jupyter": {
     "outputs_hidden": false
    },
    "pycharm": {
     "name": "#%%\n"
    }
   },
   "outputs": [
    {
     "data": {
      "text/plain": [
       "<refinitiv.data.session.platform.Definition object at 0x7fc81f1ee190 {session_name='rdp'}>"
      ]
     },
     "execution_count": 2,
     "metadata": {},
     "output_type": "execute_result"
    }
   ],
   "source": [
    "rd.open_session(\"platform.rdp\")"
   ]
  },
  {
   "cell_type": "markdown",
   "metadata": {},
   "source": [
    "## Retrieve Data"
   ]
  },
  {
   "cell_type": "markdown",
   "metadata": {},
   "source": [
    "### Actuals KPI - Annual"
   ]
  },
  {
   "cell_type": "code",
   "execution_count": 3,
   "metadata": {
    "collapsed": false,
    "jupyter": {
     "outputs_hidden": false
    },
    "pycharm": {
     "name": "#%%\n"
    }
   },
   "outputs": [
    {
     "data": {
      "text/html": [
       "<div>\n",
       "<style scoped>\n",
       "    .dataframe tbody tr th:only-of-type {\n",
       "        vertical-align: middle;\n",
       "    }\n",
       "\n",
       "    .dataframe tbody tr th {\n",
       "        vertical-align: top;\n",
       "    }\n",
       "\n",
       "    .dataframe thead th {\n",
       "        text-align: right;\n",
       "    }\n",
       "</style>\n",
       "<table border=\"1\" class=\"dataframe\">\n",
       "  <thead>\n",
       "    <tr style=\"text-align: right;\">\n",
       "      <th></th>\n",
       "      <th>Instrument</th>\n",
       "      <th>Period End Date</th>\n",
       "      <th>Financial Period Absolute</th>\n",
       "      <th>Financial Period Relative</th>\n",
       "      <th>Non Performing Loan - Actual</th>\n",
       "      <th>Non Performing Loan - Standard Unexpected Earnings</th>\n",
       "      <th>Non Performing Loan - Standard Unexpected Earnings 60 Day</th>\n",
       "      <th>Non Performing Loan - Actual Surprise</th>\n",
       "      <th>Non Performing Loan - Actual Surprise 60 Day</th>\n",
       "      <th>Core Tier 1 Capital Ratio - Actual</th>\n",
       "      <th>Core Tier 1 Capital Ratio - Actual</th>\n",
       "      <th>Core Tier 1 Capital Ratio - Standard Unexpected Earnings 60 Day</th>\n",
       "      <th>Core Tier 1 Capital Ratio - Actual Surprise</th>\n",
       "      <th>Core Tier 1 Capital Ratio - Actual Surprise 60 Day</th>\n",
       "    </tr>\n",
       "  </thead>\n",
       "  <tbody>\n",
       "    <tr>\n",
       "      <th>0</th>\n",
       "      <td>BNPP.PA</td>\n",
       "      <td>2021-12-31</td>\n",
       "      <td>FY2021</td>\n",
       "      <td>FY0</td>\n",
       "      <td>27905000000</td>\n",
       "      <td>-0.13846</td>\n",
       "      <td>-0.13846</td>\n",
       "      <td>-1.323</td>\n",
       "      <td>-1.323</td>\n",
       "      <td>91976000000</td>\n",
       "      <td>-1.3363</td>\n",
       "      <td>-1.15137</td>\n",
       "      <td>-5.587</td>\n",
       "      <td>-4.917</td>\n",
       "    </tr>\n",
       "    <tr>\n",
       "      <th>1</th>\n",
       "      <td>BNPP.PA</td>\n",
       "      <td>2020-12-31</td>\n",
       "      <td>FY2020</td>\n",
       "      <td>FY-1</td>\n",
       "      <td>30150000000</td>\n",
       "      <td>0.74088</td>\n",
       "      <td>0.30381</td>\n",
       "      <td>8.431</td>\n",
       "      <td>4.372</td>\n",
       "      <td>88800000000</td>\n",
       "      <td>-1.37038</td>\n",
       "      <td>-1.33184</td>\n",
       "      <td>-6.207</td>\n",
       "      <td>-6.328</td>\n",
       "    </tr>\n",
       "  </tbody>\n",
       "</table>\n",
       "</div>"
      ],
      "text/plain": [
       "  Instrument Period End Date Financial Period Absolute  \\\n",
       "0    BNPP.PA      2021-12-31                    FY2021   \n",
       "1    BNPP.PA      2020-12-31                    FY2020   \n",
       "\n",
       "  Financial Period Relative Non Performing Loan - Actual  \\\n",
       "0                       FY0                  27905000000   \n",
       "1                      FY-1                  30150000000   \n",
       "\n",
       "  Non Performing Loan - Standard Unexpected Earnings  \\\n",
       "0                                           -0.13846   \n",
       "1                                            0.74088   \n",
       "\n",
       "  Non Performing Loan - Standard Unexpected Earnings 60 Day  \\\n",
       "0                                           -0.13846          \n",
       "1                                            0.30381          \n",
       "\n",
       "  Non Performing Loan - Actual Surprise  \\\n",
       "0                                -1.323   \n",
       "1                                 8.431   \n",
       "\n",
       "  Non Performing Loan - Actual Surprise 60 Day  \\\n",
       "0                                       -1.323   \n",
       "1                                        4.372   \n",
       "\n",
       "  Core Tier 1 Capital Ratio - Actual Core Tier 1 Capital Ratio - Actual  \\\n",
       "0                        91976000000                            -1.3363   \n",
       "1                        88800000000                           -1.37038   \n",
       "\n",
       "  Core Tier 1 Capital Ratio - Standard Unexpected Earnings 60 Day  \\\n",
       "0                                           -1.15137                \n",
       "1                                           -1.33184                \n",
       "\n",
       "  Core Tier 1 Capital Ratio - Actual Surprise  \\\n",
       "0                                      -5.587   \n",
       "1                                      -6.207   \n",
       "\n",
       "  Core Tier 1 Capital Ratio - Actual Surprise 60 Day  \n",
       "0                                             -4.917  \n",
       "1                                             -6.328  "
      ]
     },
     "execution_count": 3,
     "metadata": {},
     "output_type": "execute_result"
    }
   ],
   "source": [
    "response = estimates.view_actuals_kpi.annual.Definition(\"BNPP.PA\").get_data()\n",
    "response.data.df"
   ]
  },
  {
   "cell_type": "markdown",
   "metadata": {},
   "source": [
    "### Actuals KPI - Interim"
   ]
  },
  {
   "cell_type": "code",
   "execution_count": null,
   "metadata": {
    "collapsed": false,
    "jupyter": {
     "outputs_hidden": false
    },
    "pycharm": {
     "name": "#%%\n"
    }
   },
   "outputs": [],
   "source": [
    "response = estimates.view_actuals_kpi.interim.Definition(\"BNPP.PA\").get_data()\n",
    "response.data.df"
   ]
  },
  {
   "cell_type": "markdown",
   "metadata": {},
   "source": [
    "### Close the session"
   ]
  },
  {
   "cell_type": "code",
   "execution_count": 5,
   "metadata": {
    "collapsed": false,
    "jupyter": {
     "outputs_hidden": false
    },
    "pycharm": {
     "name": "#%%\n"
    }
   },
   "outputs": [],
   "source": [
    "rd.close_session()"
   ]
  },
  {
   "cell_type": "code",
   "execution_count": null,
   "metadata": {},
   "outputs": [],
   "source": []
  }
 ],
 "metadata": {
  "kernelspec": {
   "display_name": "Python 3 (ipykernel)",
   "language": "python",
   "name": "python3"
  },
  "language_info": {
   "codemirror_mode": {
    "name": "ipython",
    "version": 3
   },
   "file_extension": ".py",
   "mimetype": "text/x-python",
   "name": "python",
   "nbconvert_exporter": "python",
   "pygments_lexer": "ipython3",
   "version": "3.9.7"
  }
 },
 "nbformat": 4,
 "nbformat_minor": 4
}
