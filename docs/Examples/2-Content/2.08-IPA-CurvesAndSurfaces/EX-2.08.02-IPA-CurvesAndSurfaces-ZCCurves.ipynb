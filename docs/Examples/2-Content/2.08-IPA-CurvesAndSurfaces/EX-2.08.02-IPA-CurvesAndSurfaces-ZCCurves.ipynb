{
 "cells": [
  {
   "cell_type": "markdown",
   "metadata": {},
   "source": [
    "----\n",
    "<img src=\"../../../files/refinitiv.png\" width=\"20%\" style=\"vertical-align: top;\">\n",
    "\n",
    "# Data Library for Python\n",
    "\n",
    "----"
   ]
  },
  {
   "cell_type": "markdown",
   "metadata": {},
   "source": [
    "## Content layer - IPA - ZC Curve\n",
    "This notebook demonstrates how to retrieve Zero Coupon Curves."
   ]
  },
  {
   "cell_type": "markdown",
   "metadata": {},
   "source": [
    "#### Learn more\n",
    "\n",
    "To learn more about the Refinitiv Data Library for Python please join the Refinitiv Developer Community. By [registering](https://developers.refinitiv.com/iam/register) and [logging](https://developers.refinitiv.com/content/devportal/en_us/initCookie.html) into the Refinitiv Developer Community portal you will have free access to a number of learning materials like \n",
    " [Quick Start guides](https://developers.refinitiv.com/en/api-catalog/refinitiv-data-platform/refinitiv-data-library-for-python/quick-start), \n",
    " [Tutorials](https://developers.refinitiv.com/en/api-catalog/refinitiv-data-platform/refinitiv-data-library-for-python/learning), \n",
    " [Documentation](https://developers.refinitiv.com/en/api-catalog/refinitiv-data-platform/refinitiv-data-library-for-python/docs)\n",
    " and much more.\n",
    "\n",
    "#### Getting Help and Support\n",
    "\n",
    "If you have any questions regarding using the API, please post them on \n",
    "the [Refinitiv Data Q&A Forum](https://community.developers.refinitiv.com/spaces/321/index.html). \n",
    "The Refinitiv Developer Community will be happy to help. "
   ]
  },
  {
   "cell_type": "markdown",
   "metadata": {},
   "source": [
    "## Set the configuration file location\n",
    "For a better ease of use, you have the option to set initialization parameters of the Refinitiv Data Library in the _refinitiv-data.config.json_ configuration file. This file must be located beside your notebook, in your user folder or in a folder defined by the _RD_LIB_CONFIG_PATH_ environment variable. The _RD_LIB_CONFIG_PATH_ environment variable is the option used by this series of examples. The following code sets this environment variable.      "
   ]
  },
  {
   "cell_type": "code",
   "execution_count": null,
   "metadata": {},
   "outputs": [],
   "source": [
    "import os\n",
    "os.environ[\"RD_LIB_CONFIG_PATH\"] = \"../../../Configuration\""
   ]
  },
  {
   "cell_type": "markdown",
   "metadata": {},
   "source": [
    "## Some Imports to start with"
   ]
  },
  {
   "cell_type": "code",
   "execution_count": 1,
   "metadata": {},
   "outputs": [],
   "source": [
    "import refinitiv.data as rd\n",
    "from refinitiv.data.content.ipa.curves import zc_curves"
   ]
  },
  {
   "cell_type": "markdown",
   "metadata": {},
   "source": [
    "## Open the data session\n",
    "\n",
    "The open_session() function creates and open sessions based on the information contained in the refinitiv-data.config.json configuration file. Please edit this file to set the session type and other parameters required for the session you want to open."
   ]
  },
  {
   "cell_type": "code",
   "execution_count": 2,
   "metadata": {},
   "outputs": [
    {
     "data": {
      "text/plain": [
       "<refinitiv.data.session.Definition object at 0x7fd0f9b24820 {name='workspace'}>"
      ]
     },
     "execution_count": 2,
     "metadata": {},
     "output_type": "execute_result"
    }
   ],
   "source": [
    "rd.open_session()"
   ]
  },
  {
   "cell_type": "markdown",
   "metadata": {},
   "source": [
    "## Retrieve data"
   ]
  },
  {
   "cell_type": "code",
   "execution_count": 3,
   "metadata": {},
   "outputs": [
    {
     "data": {
      "text/html": [
       "<div>\n",
       "<style scoped>\n",
       "    .dataframe tbody tr th:only-of-type {\n",
       "        vertical-align: middle;\n",
       "    }\n",
       "\n",
       "    .dataframe tbody tr th {\n",
       "        vertical-align: top;\n",
       "    }\n",
       "\n",
       "    .dataframe thead th {\n",
       "        text-align: right;\n",
       "    }\n",
       "</style>\n",
       "<table border=\"1\" class=\"dataframe\">\n",
       "  <thead>\n",
       "    <tr style=\"text-align: right;\">\n",
       "      <th></th>\n",
       "      <th>endDate</th>\n",
       "      <th>startDate</th>\n",
       "      <th>discountFactor</th>\n",
       "      <th>ratePercent</th>\n",
       "      <th>tenor</th>\n",
       "    </tr>\n",
       "  </thead>\n",
       "  <tbody>\n",
       "    <tr>\n",
       "      <th>0</th>\n",
       "      <td>2019-08-21</td>\n",
       "      <td>2019-08-21</td>\n",
       "      <td>1.0</td>\n",
       "      <td>-0.379488</td>\n",
       "      <td>0D</td>\n",
       "    </tr>\n",
       "    <tr>\n",
       "      <th>1</th>\n",
       "      <td>2019-08-22</td>\n",
       "      <td>2019-08-21</td>\n",
       "      <td>1.00001</td>\n",
       "      <td>-0.379488</td>\n",
       "      <td>ON</td>\n",
       "    </tr>\n",
       "    <tr>\n",
       "      <th>2</th>\n",
       "      <td>2019-08-23</td>\n",
       "      <td>2019-08-21</td>\n",
       "      <td>1.000023</td>\n",
       "      <td>-0.417358</td>\n",
       "      <td>TN</td>\n",
       "    </tr>\n",
       "    <tr>\n",
       "      <th>3</th>\n",
       "      <td>2019-08-30</td>\n",
       "      <td>2019-08-21</td>\n",
       "      <td>1.000092</td>\n",
       "      <td>-0.372987</td>\n",
       "      <td>SW</td>\n",
       "    </tr>\n",
       "    <tr>\n",
       "      <th>4</th>\n",
       "      <td>2019-09-06</td>\n",
       "      <td>2019-08-21</td>\n",
       "      <td>1.000163</td>\n",
       "      <td>-0.370102</td>\n",
       "      <td>2W</td>\n",
       "    </tr>\n",
       "    <tr>\n",
       "      <th>...</th>\n",
       "      <td>...</td>\n",
       "      <td>...</td>\n",
       "      <td>...</td>\n",
       "      <td>...</td>\n",
       "      <td>...</td>\n",
       "    </tr>\n",
       "    <tr>\n",
       "      <th>152</th>\n",
       "      <td>2039-08-23</td>\n",
       "      <td>2019-08-21</td>\n",
       "      <td>0.964908</td>\n",
       "      <td>0.178723</td>\n",
       "      <td>20Y</td>\n",
       "    </tr>\n",
       "    <tr>\n",
       "      <th>153</th>\n",
       "      <td>2044-08-23</td>\n",
       "      <td>2019-08-21</td>\n",
       "      <td>0.94513</td>\n",
       "      <td>0.225935</td>\n",
       "      <td>25Y</td>\n",
       "    </tr>\n",
       "    <tr>\n",
       "      <th>154</th>\n",
       "      <td>2049-08-23</td>\n",
       "      <td>2019-08-21</td>\n",
       "      <td>0.933645</td>\n",
       "      <td>0.229082</td>\n",
       "      <td>30Y</td>\n",
       "    </tr>\n",
       "    <tr>\n",
       "      <th>155</th>\n",
       "      <td>2059-08-25</td>\n",
       "      <td>2019-08-21</td>\n",
       "      <td>0.927063</td>\n",
       "      <td>0.189462</td>\n",
       "      <td>40Y</td>\n",
       "    </tr>\n",
       "    <tr>\n",
       "      <th>156</th>\n",
       "      <td>2069-08-23</td>\n",
       "      <td>2019-08-21</td>\n",
       "      <td>0.932672</td>\n",
       "      <td>0.139485</td>\n",
       "      <td>50Y</td>\n",
       "    </tr>\n",
       "  </tbody>\n",
       "</table>\n",
       "<p>157 rows × 5 columns</p>\n",
       "</div>"
      ],
      "text/plain": [
       "       endDate  startDate  discountFactor  ratePercent tenor\n",
       "0   2019-08-21 2019-08-21             1.0    -0.379488    0D\n",
       "1   2019-08-22 2019-08-21         1.00001    -0.379488    ON\n",
       "2   2019-08-23 2019-08-21        1.000023    -0.417358    TN\n",
       "3   2019-08-30 2019-08-21        1.000092    -0.372987    SW\n",
       "4   2019-09-06 2019-08-21        1.000163    -0.370102    2W\n",
       "..         ...        ...             ...          ...   ...\n",
       "152 2039-08-23 2019-08-21        0.964908     0.178723   20Y\n",
       "153 2044-08-23 2019-08-21         0.94513     0.225935   25Y\n",
       "154 2049-08-23 2019-08-21        0.933645     0.229082   30Y\n",
       "155 2059-08-25 2019-08-21        0.927063     0.189462   40Y\n",
       "156 2069-08-23 2019-08-21        0.932672     0.139485   50Y\n",
       "\n",
       "[157 rows x 5 columns]"
      ]
     },
     "execution_count": 3,
     "metadata": {},
     "output_type": "execute_result"
    }
   ],
   "source": [
    "response = zc_curves.Definition(\n",
    "    constituents={},\n",
    "    curve_parameters=zc_curves.ZcCurveParameters(\n",
    "        valuation_date=\"2019-08-21\",\n",
    "        price_side=\"Mid\",\n",
    "        interpolation_mode=zc_curves.ZcInterpolationMode.CUBIC_DISCOUNT,\n",
    "    ),\n",
    "    curve_definition=zc_curves.ZcCurveDefinitions(\n",
    "        currency=\"EUR\",\n",
    "        index_name=\"EURIBOR\",\n",
    "        source=\"Refinitiv\",\n",
    "        discounting_tenor=\"OIS\",\n",
    "        main_constituent_asset_class=\"Swap\",\n",
    "    ),\n",
    "    curve_tag=\"TAG\",\n",
    ").get_data()\n",
    "\n",
    "response.data.df"
   ]
  },
  {
   "cell_type": "markdown",
   "metadata": {},
   "source": [
    "## Close the session"
   ]
  },
  {
   "cell_type": "code",
   "execution_count": 4,
   "metadata": {
    "pycharm": {
     "name": "#%%\n"
    }
   },
   "outputs": [],
   "source": [
    "rd.close_session()"
   ]
  },
  {
   "cell_type": "code",
   "execution_count": null,
   "metadata": {},
   "outputs": [],
   "source": []
  }
 ],
 "metadata": {
  "kernelspec": {
   "display_name": "Python 3 (ipykernel)",
   "language": "python",
   "name": "python3"
  },
  "language_info": {
   "codemirror_mode": {
    "name": "ipython",
    "version": 3
   },
   "file_extension": ".py",
   "mimetype": "text/x-python",
   "name": "python",
   "nbconvert_exporter": "python",
   "pygments_lexer": "ipython3",
   "version": "3.9.7"
  }
 },
 "nbformat": 4,
 "nbformat_minor": 4
}
