{
 "cells": [
  {
   "cell_type": "markdown",
   "metadata": {},
   "source": [
    "# Refinitiv Data Library for Python"
   ]
  },
  {
   "cell_type": "markdown",
   "metadata": {},
   "source": [
    "## Content layer - Bulk - Package Manager\n",
    "This notebook demonstrates how to use the Refinitiv Data Library to retrieve data from Refinitiv Data Platform bulk feeds. In this example you will see how to use the bulk Package Manager of the Delivery layer to:\n",
    " - Download ESG bulk files\n",
    " - Populate a database with their content\n",
    " - Query the database to extract this content as a dataframe\n",
    " \n",
    "These operations that can be used in isolation are controled by the Refinitiv Data Library and made extremely flexible thanks to the configuration file of the library. This allows you to adapt this 3 steps process to most relational databases and any database model.    \n",
    "\n",
    "**Important note: This example requires a license with access to Refinitiv Data Platform ESG Bulk files**"
   ]
  },
  {
   "cell_type": "markdown",
   "metadata": {
    "jp-MarkdownHeadingCollapsed": true,
    "tags": []
   },
   "source": [
    "#### Learn more\n",
    "\n",
    "To learn more about the Refinitiv Data Library for Python please join the Refinitiv Developer Community. By [registering](https://developers.refinitiv.com/iam/register) and [logging](https://developers.refinitiv.com/content/devportal/en_us/initCookie.html) into the Refinitiv Developer Community portal you will have free access to a number of learning materials like \n",
    " [Quick Start guides](https://developers.refinitiv.com/en/api-catalog/refinitiv-data-platform/refinitiv-data-library-for-python/quick-start), \n",
    " [Tutorials](https://developers.refinitiv.com/en/api-catalog/refinitiv-data-platform/refinitiv-data-library-for-python/learning), \n",
    " [Documentation](https://developers.refinitiv.com/en/api-catalog/refinitiv-data-platform/refinitiv-data-library-for-python/docs)\n",
    " and much more.\n",
    "\n",
    "#### Getting Help and Support\n",
    "\n",
    "If you have any questions regarding using the API, please post them on \n",
    "the [Refinitiv Data Q&A Forum](https://community.developers.refinitiv.com/spaces/321/index.html). \n",
    "The Refinitiv Developer Community will be happy to help. "
   ]
  },
  {
   "cell_type": "markdown",
   "metadata": {
    "tags": []
   },
   "source": [
    "## Set the configuration file location\n",
    "For a better ease of use, you have the option to set initialization parameters of the Refinitiv Data Library in the _refinitiv-data.config.json_ configuration file. This file must be located beside your notebook, in your user folder or in a folder defined by the _RD_LIB_CONFIG_PATH_ environment variable. The _RD_LIB_CONFIG_PATH_ environment variable is the option used by this series of examples. The following code sets this environment variable.      "
   ]
  },
  {
   "cell_type": "code",
   "execution_count": 1,
   "metadata": {},
   "outputs": [],
   "source": [
    "import os\n",
    "os.environ[\"RD_LIB_CONFIG_PATH\"] = \"../../../Configuration\""
   ]
  },
  {
   "cell_type": "markdown",
   "metadata": {},
   "source": [
    "## Some Imports to start with"
   ]
  },
  {
   "cell_type": "code",
   "execution_count": 1,
   "metadata": {},
   "outputs": [],
   "source": [
    "import refinitiv.data as rd\n",
    "from refinitiv.data.content.esg import bulk"
   ]
  },
  {
   "cell_type": "markdown",
   "metadata": {},
   "source": [
    "## Open the data session\n",
    "\n",
    "The open_session() function creates and open sessions based on the information contained in the refinitiv-data.config.json configuration file. Please edit this file to set the session type and other parameters required for the session you want to open."
   ]
  },
  {
   "cell_type": "code",
   "execution_count": 2,
   "metadata": {},
   "outputs": [
    {
     "data": {
      "text/plain": [
       "<refinitiv.data.session.platform.Definition object at 0x7fb5101fcee0 {session_name='rdp'}>"
      ]
     },
     "execution_count": 2,
     "metadata": {},
     "output_type": "execute_result"
    }
   ],
   "source": [
    "rd.open_session('platform.rdp')"
   ]
  },
  {
   "cell_type": "markdown",
   "metadata": {},
   "source": [
    "## Retrieve data"
   ]
  },
  {
   "cell_type": "markdown",
   "metadata": {},
   "source": [
    "### Load the ESG Bulk configuration file"
   ]
  },
  {
   "cell_type": "code",
   "execution_count": 3,
   "metadata": {
    "tags": []
   },
   "outputs": [
    {
     "data": {
      "text/plain": [
       "<ConfigurationSet: 0x7fb5101ee430>"
      ]
     },
     "execution_count": 3,
     "metadata": {},
     "output_type": "execute_result"
    }
   ],
   "source": [
    "rd.load_config(\"refinitiv-data.bulk.config.json\")"
   ]
  },
  {
   "cell_type": "markdown",
   "metadata": {},
   "source": [
    "### Create a PackageManager for bulk standard scores\n",
    "All details related to this package are defined in the config (Bucket, Package name...) under the \"standard_scores\" section"
   ]
  },
  {
   "cell_type": "code",
   "execution_count": 4,
   "metadata": {
    "tags": []
   },
   "outputs": [],
   "source": [
    "pkg_manager = bulk.PackageManager('esg.standard_scores')"
   ]
  },
  {
   "cell_type": "markdown",
   "metadata": {},
   "source": [
    "### Step 1 - Update local ESG Bulk files\n",
    "Download the latest init & delta files and uncompress them"
   ]
  },
  {
   "cell_type": "code",
   "execution_count": 5,
   "metadata": {},
   "outputs": [],
   "source": [
    "pkg_manager.update_files()"
   ]
  },
  {
   "cell_type": "markdown",
   "metadata": {},
   "source": [
    "### Step 2 - Update the database\n",
    "\n",
    "Update a local in-memory data base with the latest downloaded files"
   ]
  },
  {
   "cell_type": "code",
   "execution_count": 6,
   "metadata": {
    "pycharm": {
     "name": "#%%\n"
    }
   },
   "outputs": [],
   "source": [
    "pkg_manager.update_db()"
   ]
  },
  {
   "cell_type": "markdown",
   "metadata": {},
   "source": [
    "### Step 3 - Retrieve ESG data from the database"
   ]
  },
  {
   "cell_type": "code",
   "execution_count": 7,
   "metadata": {},
   "outputs": [
    {
     "data": {
      "text/html": [
       "<div>\n",
       "<style scoped>\n",
       "    .dataframe tbody tr th:only-of-type {\n",
       "        vertical-align: middle;\n",
       "    }\n",
       "\n",
       "    .dataframe tbody tr th {\n",
       "        vertical-align: top;\n",
       "    }\n",
       "\n",
       "    .dataframe thead th {\n",
       "        text-align: right;\n",
       "    }\n",
       "</style>\n",
       "<table border=\"1\" class=\"dataframe\">\n",
       "  <thead>\n",
       "    <tr style=\"text-align: right;\">\n",
       "      <th></th>\n",
       "      <th>OrganizationName</th>\n",
       "      <th>InsertDate</th>\n",
       "      <th>Instrument</th>\n",
       "      <th>PeriodEndDate</th>\n",
       "      <th>TR.TRESGCScore</th>\n",
       "      <th>TR.TRESGScore</th>\n",
       "      <th>TR.EnvironmentPillarScore</th>\n",
       "      <th>TR.SocialPillarScore</th>\n",
       "      <th>TR.GovernancePillarScore</th>\n",
       "    </tr>\n",
       "  </thead>\n",
       "  <tbody>\n",
       "    <tr>\n",
       "      <th>0</th>\n",
       "      <td>null</td>\n",
       "      <td>2022-06-19</td>\n",
       "      <td>4295865175</td>\n",
       "      <td>2019-12-31T00:00:00.000Z</td>\n",
       "      <td>0.29947279270624544</td>\n",
       "      <td>0.29947279270624544</td>\n",
       "      <td>0.01709401709401708</td>\n",
       "      <td>0.18333944617641684</td>\n",
       "      <td>0.48225458468176935</td>\n",
       "    </tr>\n",
       "    <tr>\n",
       "      <th>1</th>\n",
       "      <td>null</td>\n",
       "      <td>2022-06-19</td>\n",
       "      <td>4295865175</td>\n",
       "      <td>2020-12-31T00:00:00.000Z</td>\n",
       "      <td>0.24168438802878833</td>\n",
       "      <td>0.24168438802878833</td>\n",
       "      <td>0.018518518518518497</td>\n",
       "      <td>0.246007821411113</td>\n",
       "      <td>0.3049832495812397</td>\n",
       "    </tr>\n",
       "    <tr>\n",
       "      <th>2</th>\n",
       "      <td>null</td>\n",
       "      <td>2022-06-19</td>\n",
       "      <td>4295865175</td>\n",
       "      <td>2021-12-31T00:00:00.000Z</td>\n",
       "      <td>0.1533037065733652</td>\n",
       "      <td>0.1533037065733652</td>\n",
       "      <td>0.0173160173160173</td>\n",
       "      <td>0.22050405469868026</td>\n",
       "      <td>0.13735305271141454</td>\n",
       "    </tr>\n",
       "  </tbody>\n",
       "</table>\n",
       "</div>"
      ],
      "text/plain": [
       "  OrganizationName  InsertDate  Instrument             PeriodEndDate  \\\n",
       "0             null  2022-06-19  4295865175  2019-12-31T00:00:00.000Z   \n",
       "1             null  2022-06-19  4295865175  2020-12-31T00:00:00.000Z   \n",
       "2             null  2022-06-19  4295865175  2021-12-31T00:00:00.000Z   \n",
       "\n",
       "        TR.TRESGCScore        TR.TRESGScore TR.EnvironmentPillarScore  \\\n",
       "0  0.29947279270624544  0.29947279270624544       0.01709401709401708   \n",
       "1  0.24168438802878833  0.24168438802878833      0.018518518518518497   \n",
       "2   0.1533037065733652   0.1533037065733652        0.0173160173160173   \n",
       "\n",
       "  TR.SocialPillarScore TR.GovernancePillarScore  \n",
       "0  0.18333944617641684      0.48225458468176935  \n",
       "1    0.246007821411113       0.3049832495812397  \n",
       "2  0.22050405469868026      0.13735305271141454  "
      ]
     },
     "execution_count": 7,
     "metadata": {},
     "output_type": "execute_result"
    }
   ],
   "source": [
    "response = bulk.Definition(\"esg.standard_scores\", universe = \"4295865175\").get_db_data()\n",
    "response.data.df"
   ]
  },
  {
   "cell_type": "markdown",
   "metadata": {},
   "source": [
    "## Other operations"
   ]
  },
  {
   "cell_type": "markdown",
   "metadata": {},
   "source": [
    "### Cleanup local files "
   ]
  },
  {
   "cell_type": "code",
   "execution_count": 8,
   "metadata": {
    "pycharm": {
     "name": "#%%\n"
    }
   },
   "outputs": [],
   "source": [
    "pkg_manager.cleanup_files()"
   ]
  },
  {
   "cell_type": "markdown",
   "metadata": {},
   "source": [
    "### Reset local files "
   ]
  },
  {
   "cell_type": "code",
   "execution_count": null,
   "metadata": {
    "pycharm": {
     "name": "#%%\n"
    }
   },
   "outputs": [],
   "source": [
    "pkg_manager.reset_files()"
   ]
  },
  {
   "cell_type": "markdown",
   "metadata": {},
   "source": [
    "### Cleanup the database"
   ]
  },
  {
   "cell_type": "code",
   "execution_count": 10,
   "metadata": {},
   "outputs": [],
   "source": [
    "pkg_manager.cleanup_db()"
   ]
  },
  {
   "cell_type": "markdown",
   "metadata": {},
   "source": [
    "## Close the session"
   ]
  },
  {
   "cell_type": "code",
   "execution_count": 11,
   "metadata": {
    "pycharm": {
     "name": "#%%\n"
    }
   },
   "outputs": [],
   "source": [
    "rd.close_session()"
   ]
  },
  {
   "cell_type": "code",
   "execution_count": null,
   "metadata": {},
   "outputs": [],
   "source": []
  }
 ],
 "metadata": {
  "kernelspec": {
   "display_name": "Python 3 (ipykernel)",
   "language": "python",
   "name": "python3"
  },
  "language_info": {
   "codemirror_mode": {
    "name": "ipython",
    "version": 3
   },
   "file_extension": ".py",
   "mimetype": "text/x-python",
   "name": "python",
   "nbconvert_exporter": "python",
   "pygments_lexer": "ipython3",
   "version": "3.9.7"
  }
 },
 "nbformat": 4,
 "nbformat_minor": 4
}
