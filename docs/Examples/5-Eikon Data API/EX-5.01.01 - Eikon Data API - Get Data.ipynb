{
 "cells": [
  {
   "cell_type": "markdown",
   "metadata": {},
   "source": [
    "----\n",
    "<img src=\"../../files/refinitiv.png\" width=\"20%\" style=\"vertical-align: top;\">\n",
    "\n",
    "# Data Library for Python\n",
    "\n",
    "----"
   ]
  },
  {
   "cell_type": "markdown",
   "metadata": {},
   "source": [
    "## Eikon Data API - Get Data examples\n",
    "This notebook demonstrates how to use the get_data() function to retrieve Fundamental & Reference data and Real-time Snapshot data from Eikon or Refinitiv Workspace. The breath and depth of data items available via the get_data() function can be easily explored via the Data Item Browser app (DIB) available in your Eikon or Refinitiv Workspace. Please refer to the [Fundamentals API - Company Tearsheet Estimate](https://developers.refinitiv.com/content/fundamentals-api-company-tearsheet-estimate) tutorial to learn how to use the Data Item Browser as a data item reference.\n",
    "\n",
    "#### Learn more\n",
    "To learn more about the Data API just connect to the Refinitiv Developer Community. By [registering](https://developers.refinitiv.com/iam/register) and [login](https://developers.refinitiv.com/iam/login) to the Refinitiv Developer Community portal you will get free access to a number of learning materials like [Quick Start guides](https://developers.refinitiv.com/eikon-apis/eikon-data-api/quick-start), [Tutorials](https://developers.refinitiv.com/eikon-apis/eikon-data-api/learning), [Documentation](https://developers.refinitiv.com/eikon-apis/eikon-data-api/docs) and much more.  \n",
    "\n",
    "#### About the \"eikon\" module of the Refinitiv Data Platform Library\n",
    "The \"eikon\" module of the Refinitiv Data Platform Library for Python embeds all functions of the classical Eikon Data API (\"eikon\" python library). This module works the same as the Eikon Data API and can be used by applications that need the best of the Eikon Data API while taking advantage of the latest features offered by the Refinitiv Data Platform Library for Python. \n",
    "\n",
    "#### Getting Help and Support\n",
    "If you have any questions regarding the API usage, please post them on the [Eikon Data API Q&A Forum](https://community.developers.thomsonreuters.com/spaces/92/index.html). The Refinitiv Developer Community will be happy to help.\n"
   ]
  },
  {
   "cell_type": "markdown",
   "metadata": {},
   "source": [
    "## Import the library and connect to Eikon or Refinitiv Workspace"
   ]
  },
  {
   "cell_type": "code",
   "execution_count": 1,
   "metadata": {},
   "outputs": [],
   "source": [
    "import refinitiv.data.eikon as ek\n",
    "\n",
    "ek.set_app_key('YOUR APP KEY GOES HERE!')"
   ]
  },
  {
   "cell_type": "markdown",
   "metadata": {},
   "source": [
    "## Snapshot real-time pricing"
   ]
  },
  {
   "cell_type": "code",
   "execution_count": 2,
   "metadata": {},
   "outputs": [
    {
     "data": {
      "text/html": [
       "<div>\n",
       "<style scoped>\n",
       "    .dataframe tbody tr th:only-of-type {\n",
       "        vertical-align: middle;\n",
       "    }\n",
       "\n",
       "    .dataframe tbody tr th {\n",
       "        vertical-align: top;\n",
       "    }\n",
       "\n",
       "    .dataframe thead th {\n",
       "        text-align: right;\n",
       "    }\n",
       "</style>\n",
       "<table border=\"1\" class=\"dataframe\">\n",
       "  <thead>\n",
       "    <tr style=\"text-align: right;\">\n",
       "      <th></th>\n",
       "      <th>Instrument</th>\n",
       "      <th>BID</th>\n",
       "      <th>ASK</th>\n",
       "    </tr>\n",
       "  </thead>\n",
       "  <tbody>\n",
       "    <tr>\n",
       "      <th>0</th>\n",
       "      <td>PEUP.PA</td>\n",
       "      <td>&lt;NA&gt;</td>\n",
       "      <td>&lt;NA&gt;</td>\n",
       "    </tr>\n",
       "    <tr>\n",
       "      <th>1</th>\n",
       "      <td>EUR=</td>\n",
       "      <td>1.1308</td>\n",
       "      <td>1.1309</td>\n",
       "    </tr>\n",
       "    <tr>\n",
       "      <th>2</th>\n",
       "      <td>JPY=</td>\n",
       "      <td>113.61</td>\n",
       "      <td>113.62</td>\n",
       "    </tr>\n",
       "  </tbody>\n",
       "</table>\n",
       "</div>"
      ],
      "text/plain": [
       "  Instrument     BID     ASK\n",
       "0    PEUP.PA    <NA>    <NA>\n",
       "1       EUR=  1.1308  1.1309\n",
       "2       JPY=  113.61  113.62"
      ]
     },
     "execution_count": 2,
     "metadata": {},
     "output_type": "execute_result"
    }
   ],
   "source": [
    "df, err = ek.get_data(['PEUP.PA','EUR=', 'JPY='], ['BID','ASK'])\n",
    "df"
   ]
  },
  {
   "cell_type": "markdown",
   "metadata": {},
   "source": [
    "## Fundamental & Reference"
   ]
  },
  {
   "cell_type": "code",
   "execution_count": 3,
   "metadata": {},
   "outputs": [
    {
     "data": {
      "text/html": [
       "<div>\n",
       "<style scoped>\n",
       "    .dataframe tbody tr th:only-of-type {\n",
       "        vertical-align: middle;\n",
       "    }\n",
       "\n",
       "    .dataframe tbody tr th {\n",
       "        vertical-align: top;\n",
       "    }\n",
       "\n",
       "    .dataframe thead th {\n",
       "        text-align: right;\n",
       "    }\n",
       "</style>\n",
       "<table border=\"1\" class=\"dataframe\">\n",
       "  <thead>\n",
       "    <tr style=\"text-align: right;\">\n",
       "      <th></th>\n",
       "      <th>Instrument</th>\n",
       "      <th>Revenue</th>\n",
       "      <th>Gross Profit</th>\n",
       "    </tr>\n",
       "  </thead>\n",
       "  <tbody>\n",
       "    <tr>\n",
       "      <th>0</th>\n",
       "      <td>GOOG.O</td>\n",
       "      <td>182527000000</td>\n",
       "      <td>97795000000</td>\n",
       "    </tr>\n",
       "    <tr>\n",
       "      <th>1</th>\n",
       "      <td>MSFT.O</td>\n",
       "      <td>168088000000</td>\n",
       "      <td>115856000000</td>\n",
       "    </tr>\n",
       "    <tr>\n",
       "      <th>2</th>\n",
       "      <td>FB.O</td>\n",
       "      <td>85965000000</td>\n",
       "      <td>69273000000</td>\n",
       "    </tr>\n",
       "  </tbody>\n",
       "</table>\n",
       "</div>"
      ],
      "text/plain": [
       "  Instrument       Revenue  Gross Profit\n",
       "0     GOOG.O  182527000000   97795000000\n",
       "1     MSFT.O  168088000000  115856000000\n",
       "2       FB.O   85965000000   69273000000"
      ]
     },
     "execution_count": 3,
     "metadata": {},
     "output_type": "execute_result"
    }
   ],
   "source": [
    "df, err = ek.get_data(['GOOG.O','MSFT.O', 'FB.O'], ['TR.Revenue','TR.GrossProfit'])\n",
    "df"
   ]
  },
  {
   "cell_type": "markdown",
   "metadata": {},
   "source": [
    "## Fundamental & Reference (with global parameters)\n",
    "\n",
    "Global parameters allows you to adjust the values of several non real-time time data items retrieved with get_data(). These parameters can be easily explored via the Data Item Browser app (DIB) available in your Eikon or Refinitiv Workspace."
   ]
  },
  {
   "cell_type": "code",
   "execution_count": 4,
   "metadata": {},
   "outputs": [
    {
     "data": {
      "text/html": [
       "<div>\n",
       "<style scoped>\n",
       "    .dataframe tbody tr th:only-of-type {\n",
       "        vertical-align: middle;\n",
       "    }\n",
       "\n",
       "    .dataframe tbody tr th {\n",
       "        vertical-align: top;\n",
       "    }\n",
       "\n",
       "    .dataframe thead th {\n",
       "        text-align: right;\n",
       "    }\n",
       "</style>\n",
       "<table border=\"1\" class=\"dataframe\">\n",
       "  <thead>\n",
       "    <tr style=\"text-align: right;\">\n",
       "      <th></th>\n",
       "      <th>Instrument</th>\n",
       "      <th>CF_BID</th>\n",
       "      <th>CF_ASK</th>\n",
       "      <th>Enterprise Value (Daily Time Series)</th>\n",
       "      <th>Enterprise Value To Sales (Daily Time Series Ratio)</th>\n",
       "    </tr>\n",
       "  </thead>\n",
       "  <tbody>\n",
       "    <tr>\n",
       "      <th>0</th>\n",
       "      <td>GOOG.O</td>\n",
       "      <td>2926.21</td>\n",
       "      <td>2928.8</td>\n",
       "      <td>1359192337818.570068</td>\n",
       "      <td>6.218306</td>\n",
       "    </tr>\n",
       "    <tr>\n",
       "      <th>1</th>\n",
       "      <td>AAPL.O</td>\n",
       "      <td>174.85</td>\n",
       "      <td>174.87</td>\n",
       "      <td>2869892912989.310059</td>\n",
       "      <td>8.212421</td>\n",
       "    </tr>\n",
       "  </tbody>\n",
       "</table>\n",
       "</div>"
      ],
      "text/plain": [
       "  Instrument   CF_BID  CF_ASK  Enterprise Value (Daily Time Series)  \\\n",
       "0     GOOG.O  2926.21  2928.8                  1359192337818.570068   \n",
       "1     AAPL.O   174.85  174.87                  2869892912989.310059   \n",
       "\n",
       "   Enterprise Value To Sales (Daily Time Series Ratio)  \n",
       "0                                           6.218306    \n",
       "1                                           8.212421    "
      ]
     },
     "execution_count": 4,
     "metadata": {},
     "output_type": "execute_result"
    }
   ],
   "source": [
    "df, err = ek.get_data(instruments = ['GOOG.O', 'AAPL.O'], \n",
    "                      fields = ['CF_BID', 'CF_ASK', 'TR.EV','TR.EVToSales'],\n",
    "                      parameters = {'SDate': '0CY', 'Curn': 'CAD'})\n",
    "df"
   ]
  },
  {
   "cell_type": "markdown",
   "metadata": {},
   "source": [
    "## Fundamental & Reference (with data item parameters)\n",
    "\n",
    "Data item parameters allows you to adjust the values of non real-time time data items retrieved with get_data(). These parameters can be easily explored via the Data Item Browser app (DIB) available in your Eikon or Refinitiv Workspace."
   ]
  },
  {
   "cell_type": "code",
   "execution_count": 5,
   "metadata": {},
   "outputs": [
    {
     "data": {
      "text/html": [
       "<div>\n",
       "<style scoped>\n",
       "    .dataframe tbody tr th:only-of-type {\n",
       "        vertical-align: middle;\n",
       "    }\n",
       "\n",
       "    .dataframe tbody tr th {\n",
       "        vertical-align: top;\n",
       "    }\n",
       "\n",
       "    .dataframe thead th {\n",
       "        text-align: right;\n",
       "    }\n",
       "</style>\n",
       "<table border=\"1\" class=\"dataframe\">\n",
       "  <thead>\n",
       "    <tr style=\"text-align: right;\">\n",
       "      <th></th>\n",
       "      <th>Instrument</th>\n",
       "      <th>Price Target - Mean</th>\n",
       "    </tr>\n",
       "  </thead>\n",
       "  <tbody>\n",
       "    <tr>\n",
       "      <th>0</th>\n",
       "      <td>GOOG.O</td>\n",
       "      <td>3366.66667</td>\n",
       "    </tr>\n",
       "    <tr>\n",
       "      <th>1</th>\n",
       "      <td>AAPL.O</td>\n",
       "      <td>174.21524</td>\n",
       "    </tr>\n",
       "  </tbody>\n",
       "</table>\n",
       "</div>"
      ],
      "text/plain": [
       "  Instrument  Price Target - Mean\n",
       "0     GOOG.O           3366.66667\n",
       "1     AAPL.O            174.21524"
      ]
     },
     "execution_count": 5,
     "metadata": {},
     "output_type": "execute_result"
    }
   ],
   "source": [
    "df, err = ek.get_data(instruments = ['GOOG.O', 'AAPL.O'], \n",
    "                      fields = ['TR.PriceTargetMean(Source=ThomsonReuters)'])\n",
    "df"
   ]
  },
  {
   "cell_type": "code",
   "execution_count": null,
   "metadata": {},
   "outputs": [],
   "source": []
  }
 ],
 "metadata": {
  "kernelspec": {
   "display_name": "Python 3",
   "language": "python",
   "name": "python3"
  },
  "language_info": {
   "codemirror_mode": {
    "name": "ipython",
    "version": 3
   },
   "file_extension": ".py",
   "mimetype": "text/x-python",
   "name": "python",
   "nbconvert_exporter": "python",
   "pygments_lexer": "ipython3",
   "version": "3.7.6"
  }
 },
 "nbformat": 4,
 "nbformat_minor": 4
}
