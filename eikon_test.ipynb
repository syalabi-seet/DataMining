{
 "cells": [
  {
   "cell_type": "code",
   "execution_count": 1,
   "metadata": {},
   "outputs": [],
   "source": [
    "import polars as pl\n",
    "\n",
    "from source.refinitiv import EikonHelper"
   ]
  },
  {
   "attachments": {},
   "cell_type": "markdown",
   "metadata": {},
   "source": [
    "### Download data using Eikon API"
   ]
  },
  {
   "cell_type": "code",
   "execution_count": 2,
   "metadata": {},
   "outputs": [
    {
     "name": "stdout",
     "output_type": "stream",
     "text": [
      "=======================================\n",
      "Cell limit: 200000\n",
      "Instrument limit: 74\n",
      "Tickers retrieved: 3998/62191\n",
      "Batches remaining: 787\n",
      "=======================================\n"
     ]
    }
   ],
   "source": [
    "eikon_helper = EikonHelper()"
   ]
  },
  {
   "cell_type": "code",
   "execution_count": 3,
   "metadata": {},
   "outputs": [
    {
     "data": {
      "application/vnd.jupyter.widget-view+json": {
       "model_id": "093c69b5f9ee48be86d39866d1a130c1",
       "version_major": 2,
       "version_minor": 0
      },
      "text/plain": [
       "  0%|          | 0/787 [00:00<?, ?it/s]"
      ]
     },
     "metadata": {},
     "output_type": "display_data"
    },
    {
     "name": "stderr",
     "output_type": "stream",
     "text": [
      "Backend error. 400 Bad Request\n"
     ]
    },
    {
     "name": "stdout",
     "output_type": "stream",
     "text": [
      "Error code 400 | Backend error. 400 Bad Request ['3175.T', '4106.TW', 'EXLS.OQ', '002440.SZ', 'PETUN.IS', 'LECG.F', '002089.SZ', '603612.SS', 'PAGPA.L', '5906.T', 'CIM.N', '1132.HK', 'ECP.PS', 'SYRS.OQ', 'AGUASA.SN', 'WEAJ.J', 'TPB.N', '126880.KQ', 'EPTI.PK', 'VRCP.WA', 'CAMX.BO', 'PHLX.AS', 'VAB.HNO', '600758.SS', 'CFI.CM', 'FUSE.V', '688556.SS', 'ZDDL.LJ', 'BRIT.NS', 'UMC.HNO', 'ASHW.NS', '003031.SZ', 'GRAV.BO', 'SOST.PK', 'CONE.V', 'QOIL.PK', '301333.SZ', 'WGLD.V', '5998.T', 'RNR.N', 'LOT.V', 'IRON.BO', 'GELE.MI', 'MAX.V', 'RED.AX', '9664.NG', 'SHUA.OQ', '3484.T', '9867.T', '3625.T', 'BE6264882406.BR', 'NEP.BK', 'SVAN.BO', 'GWRS.OQ', 'CMC.N', 'CE1.HNO', 'VFST.DH', 'WAVS.OQ', '051780.KQ', 'VLSF.NS', 'MIND.KL', 'CONK.BX', 'SWTQ.S', 'PRT.N', 'TCPI.JK', '000582.SZ', '603917.SS', '003220.KS', '603357.SS', 'BCEL.OQ', '7925.T', 'DIS.CS', 'MRC.AX', 'NAV.HM']\n"
     ]
    },
    {
     "name": "stderr",
     "output_type": "stream",
     "text": [
      "Backend error. 400 Bad Request\n"
     ]
    },
    {
     "name": "stdout",
     "output_type": "stream",
     "text": [
      "Error code 400 | Backend error. 400 Bad Request ['INLZ_p.L', 'SSIC.OQ', 'QIPT.V', 'CLM.HN', 'ALEX.HE', '300891.SZ', '688388.SS', 'HPAL.ISX', 'M0YNn.DE', '4463.T', 'TAKBI.RTS', 'X710.DE', 'SHG.HNO', 'FMBCH.MV', '605006.SS', 'BUAFOODS.LG', '2145.HK', 'TMGI.PK', '6720.TWO', 'WILC.OQ', 'SKPM.BO', 'SILV.PSX', 'SAFA.NS', 'ARG.TO', 'GMSTI.RTS', 'VRCM.PK', '0804.HK', 'NVNT.PK', 'FBRh.V', 'ELGr.AT', 'JSLL.BO', 'BERA.KL', 'PMT_u.BT', 'SIAM.TN', 'QUAL3.SA', 'XEIN.DE', 'CYGS.DH', 'WWW.N', 'STEP.OQ', 'RATE.NS', 'CUBI.BO', 'ADHJ.J', 'ERA.V', 'MLIRF.EUA', '6242.TWO', 'NATION.BK', 'MBIh.V', '5021.T', 'REXT.KL', 'PROZ.NS', 'LLI.AX', 'SHHO.BO', 'ADIT.BO', 'NAVA.DH', 'ROTSLA.BX', 'ALGIR.PA', 'ARPI.CA', 'FCPB.PK', 'DABA.CO', 'SMIT.BK', 'CCON.NS', 'HXCKk.DE', 'MVEE.DE', 'TG.N', '049180.KQ', 'UNIG.CY', '688019.SS', 'CPTN.OQ', 'VNET.OQ', '1928.HK', '603836.SS', 'VAV.HNO', '00002.YG', '601019.SS']\n",
      "Could not convert '' with type str: tried to convert to double ['7762.T', 'VOLUE.OL', 'RUM.OQ', '600999.SS', 'NDT.MI', 'INDO.A', 'SOLTEQ.HE', 'LPS.V', 'VCXA.OQ', 'PARAUCO.SN', '300194.SZ', 'INAI.S', 'WAL.N', '6416.T', 'UNFI.N', '1471.TW', 'EXID.NS', 'TFL.AX', '300603.SZ', 'VOC.N', 'ATIC.JK', 'NEXD.PK', 'SOUH.SI', 'CRSL.NS', 'ICBE.DH', 'PGIL.NS', 'GCCCh.V', 'CLT.AX', 'PMDZ.LZ', 'PHUN.OQ', 'RLFB.S', 'CPUH.N', 'PMNT.TA', 'ALCO.OQ', '5440.T', 'ABKB.PK', 'ITRO.PK', 'LION.CM', 'RELES.CO', 'VRTS.BJ', '8227.TWO', '1399.HK', 'LLY.N', 'SIVC.CI', 'UNCR.TA', '3931.HK', '2INVn.DE', 'NEOLA.ST', 'OMVS.OM', 'UCIC.AM', 'HABP.MOT', 'PTC.HM', '6362.T', 'BRLI.OQ', 'FMB.MV', 'SIGL.PK', '000695.SZ', 'KINDsdb.ST', 'BPI.PS', 'SCD.HM', 'OMEG.BO', 'GDSF.PA', 'SQTI.PK', 'WTI.N', 'PED.A', '9639.T', 'GLOM.KL', 'FFLY.ST', 'PFC.OQ', 'VTN.N', 'MTH.AX', 'PALC.BO', '8427.HK', 'LGAH.PK']\n"
     ]
    },
    {
     "name": "stderr",
     "output_type": "stream",
     "text": [
      "Backend error. 400 Bad Request\n"
     ]
    },
    {
     "name": "stdout",
     "output_type": "stream",
     "text": [
      "Error code 400 | Backend error. 400 Bad Request ['DOAS.IS', '3938.HK', 'HINL.PSX', '102370.KQ', 'MERC.OQ', 'PNPPI.RTS', '2433.T', '688109.SS', 'UNESPA.SN', 'OGBLY.PK', 'SMPOV.BEL', 'WAT.AX', '0610.HK', '1881.HK', 'TORA.CA', '688519.SS', 'KWIN.CA', 'LXPR.NS', 'L2S.ST', '002161.SZ', 'PIONb.ST', 'PRHB.PK', '8111.HK', '333050.KQ', 'STNG.N', 'VSDYNb.TE', '1934.T', 'OTS.OL', 'ICON.V', 'MI_u.TO', 'FTREITu.BK', 'PCG.AX', 'IPSC.OQ', 'PEX.V', '8136.T', 'PFN.N', 'SHLG.DE', '3023.TW', 'MEAL3.SA', '9698.T', '1771.HK', 'EFBI.PK', 'GMXT.MX', 'YAPS.MC', '0912.HK', 'CMND.CD', '2454.T', 'VTEQ.PK', '688038.SS', '8029.T', '347860.KQ', 'ALKO.BO', '002428.SZ', '3564.TWO', 'BAFF.BO', 'EXNN.PK', '4194.T', 'BTLS.BR', 'SYLI.BO', '4438.T', 'GAQR.KL', 'CASN4.SA', 'ISVG.PK', 'GOFORE.HE', 'ALA.AX', '8118.T', 'UVAN.BK', 'PJP.WA', 'MONC.BO', 'GRLS.MC', 'IRIS.SJ', '5217.T', 'URAL.PK', 'THO.N']\n"
     ]
    },
    {
     "name": "stderr",
     "output_type": "stream",
     "text": [
      "Backend error. 400 Bad Request\n"
     ]
    },
    {
     "name": "stdout",
     "output_type": "stream",
     "text": [
      "Error code 400 | Backend error. 400 Bad Request ['012170.KS', 'BROF.NS', 'CTM.AX', 'HUT.HN', 'PRIN.BK', 'GPN.N', 'LXEH.OQ', 'MWTP.WA', 'RGFN.DH', '093920.KQ', 'NCXS.PK', 'JTC.L', 'RICICHFNAV.DE', 'SMKL.JK', '301223.SZ', 'CIV.PA', '9731.T', '008110.KS', '7692.T', '6274.TWO', 'ARGO.CD', 'NBLB.BJ', 'MUTFI.RTS', '600487.SS', 'TRTL.N', '2702.T', 'ALHE.TA', '7UP.BK', 'HSPG.OL', 'MSIN.JK', 'RETE.BR', 'ERIE.OQ', 'UNTP.WA', 'EWLL.PK', '688208.SS', '259960.KS', 'TTM.AX', 'GTCP.WA', 'IVQu.TO', '4767.TWO', 'ABPH.DH', 'ANT.HNO', 'PNO.NFF', 'ZHEN.SI', 'GAEK.BO', 'EHYD.PK', 'XCLL.PK', 'MUIB.KL', 'ORCb.V', 'ADUS.OQ', '4925.TWO', 'IVVI.PK', 'NSP.V', 'ATVK.PK', 'CD8.PA', 'M9SD.DE', 'ROI.V', 'BBL.BK', '300811.SZ', 'BPTB.L', 'BYRG.PK', 'JZXN.OQ', 'OYL.V', '6745.T', 'PLTUR.IS', '3291.T', 'EKTR3.SA', 'GDPI.NS', 'SSTRF.PK', 'VG1.F', '6612.T', 'LAMOSA.MX', 'IBFN.JK', '688280.SS']\n"
     ]
    },
    {
     "name": "stderr",
     "output_type": "stream",
     "text": [
      "Backend error. 400 Bad Request\n"
     ]
    },
    {
     "name": "stdout",
     "output_type": "stream",
     "text": [
      "Error code 400 | Backend error. 400 Bad Request ['ATLY.V', 'FAHR.NR', 'MHVR.BO', '688468.SS', 'SKISb.ST', 'MIL.JS', 'MFG.AX', '6241.TWO', '6755.T', 'FRED.BO', 'GHR.V', 'KAMI.NS', 'PHAN.NS', 'PLGC.PK', 'MEGI.NS', 'DORO.ST', 'GEM.AX', 'PXM.HNO', 'VLP.HNO', 'DSMN.AS', '688633.SS', '064820.KQ', '9978.T', 'PLD.TTB', '5215.TW', 'LOLF.CM', 'AFHJ.J', 'AQSG.L', 'XTPG.DE', 'GIP.V', 'OZGYO.IS', '600928.SS', 'JKS.CD', 'CRWN.NR', 'AMSE.BO', '000677.SZ', '001540.KQ', '1196.HK', '300488.SZ', '002751.SZ', '2882.HK', 'TSK.AX', 'CHARAN.BK', 'OOR.V', 'CK.CD', 'MBCG.MU', 'KEY.TO', '388050.KQ', '603733.SS', 'EDIE.DH', 'ADHI.PK', 'NIVIb.ST', 'PZGN.MOT', 'TCSq.L', 'TRUC.NS', 'MOEK.MOT', 'NALN.LJ', 'PEGA.V', 'ELEG.L', '603111.SS', 'GROV.BO', 'RTOJ.J', '8456.HK', 'HC1.HNO', 'RELT.BO', 'IBSD.ISX', 'SGATI.RTS', 'SLS.TO', 'GSDT.PK', '5398.TWO', 'SBIG.OQ', 'MRDI.KL', 'OPMS.JK', '5355.T']\n"
     ]
    },
    {
     "name": "stderr",
     "output_type": "stream",
     "text": [
      "Backend error. 400 Bad Request\n"
     ]
    },
    {
     "name": "stdout",
     "output_type": "stream",
     "text": [
      "Error code 400 | Backend error. 400 Bad Request ['ADNIC.AD', 'NEOV.OQ', 'CSI.HNO', '8027.HK', 'SPIFF.ST', 'ROCC.OQ', '603367.SS', 'HDF.PA', 'MACO.BK', '251370.KQ', '002242.SZ', '9701.T', 'IBIO.A', '7134.T', 'WATRI.L', '2767.T', '600511.SS', 'HKAR.ISX', 'NL0000121622.BR', 'DOHL3.SA', 'DTHR.PK', 'ASCE.BO', 'ALTV.KZ', 'LTE.V', 'TAURb.TE', '3962.T', 'GC1.AX', 'AGRIu.TO', 'BNAI.ISX', '5538.TW', 'GPRE.OQ', 'AALU.AM', '7593.T', 'MGON.PK', 'SANI.CO', 'TRIG.L', '0174.HK', 'EXPA.CM', 'MOCF.NS', 'TATV.NS', 'SMGO.BO', 'ATMO.MOT', '688061.SS', '0184.HK', 'TGAJ.J', 'OREP.PA', 'VSBL.BJ', '301365.SZ', '1ST.AX', 'KPNPFu.BK', 'TKA.HNO', '277810.KQ', 'FFM1.H', 'VICP.SI', 'BUR.AX', 'VSYD.MM', 'RXH.AX', 'SSh.V', 'MASISA.SN', 'MPAD.PK', 'SW10n.H', 'BE0003222214.BR', 'FIGS11.SA', 'MCA.AX', '002641.SZ', '071320.KS', 'MLCMI.EUA', 'SIVB.OQ', 'AVSII.RTS', '0346.HK', 'CNVT.PK', 'PAOS.BO', 'HAYAH.AD', 'WGSR.NS']\n"
     ]
    },
    {
     "name": "stderr",
     "output_type": "stream",
     "text": [
      "Backend error. 400 Bad Request\n"
     ]
    },
    {
     "name": "stdout",
     "output_type": "stream",
     "text": [
      "Error code 400 | Backend error. 400 Bad Request ['ALMER.PA', 'SCTS.CA', 'FAS.L', 'PUC.V', 'ZPR5.DE', 'PTG.AX', 'ENTI.PK', '603066.SS', 'AM.PA', 'APX.PA', '6474.T', 'NSCB.MOT', 'SYGSEJ.J', 'LSS.HM', 'IVRO.PK', 'LRBI.PK', 'MYI.L', 'MMAX.CD', '1515.TW', 'AHIN.NS', 'CASS.JK', 'COTY.N', 'INVCENC1.LM', '6556.T', 'LGD1L.VL', 'FCHS.PK', 'MMMM.PK', 'PTT.PS', 'STKGI.RTS', 'CIGm.BK', 'LIFCOb.ST', 'LLG.V', '600630.SS', 'ARN.AX', '4327.T', '605399.SS', '9749.T', 'FORS.CY', 'XLY.TO', 'CMDG.SI', 'LVT.CD', 'ARPK.PSX', 'FZTC.MI', '000400.SZ', '1542.HK', 'PADICO.PL', '300801.SZ', 'NEPA.ST', '5444.T', '2190.HK', 'BHG.N', 'COKN.NS', '001130.KS', '049120.KQ', 'BOQ.AX', 'GBAT.PK', 'ESPANOLVAL.SN', 'GUL.AX', 'LDOF.MI', '8131.TW', 'MPATA.IS', 'SMPP.CA', 'FCN.HM', 'CMTM.SCT', 'SRSr.AT', 'BGNX.PK', 'DG.N', 'BTRU.ISX', 'JNJ.N', '2157.T', '2663.HK', 'RCCh.V', 'AMCP.BO', 'FPP.L']\n"
     ]
    },
    {
     "name": "stderr",
     "output_type": "stream",
     "text": [
      "Backend error. 400 Bad Request\n"
     ]
    },
    {
     "name": "stdout",
     "output_type": "stream",
     "text": [
      "Error code 400 | Backend error. 400 Bad Request ['AX1.AX', 'RICY.JK', 'SUM.N', 'SINE.NS', '603126.SS', '2317.HK', 'SDFGn.DE', 'MPE.L', 'NXT.AX', 'BRMS.L', 'INTH.BO', 'VISN.TA', 'ITER.BO', '688136.SS', '688309.SS', 'JFEN3.SA', 'ONFA.PK', 'PGAG.F', '4641.T', '000831.SZ', '600195.SS', 'NIOX.L', 'DESH.BO', '1888.HK', 'DBAGDM22.DE', 'ANGS.SJ', 'LEARNAF.LG', 'NICO.CD', '028300.KQ', '2345.T', 'SC5.HM', '900100.KQ', 'BIIC.PSX', 'U4SBg.F', 'PDRO.PK', 'SG.N', '6894.T', 'ALBD.NS', '177830.KQ', 'ARHN.BO', '2003.T', 'CPF.BK', 'ALZCUR.ST', 'MFPC.CA', '000039.SZ', '1337.TW', 'HVCW.PK', '002767.SZ', '005810.KS', 'ITOS.OQ', 'MLHK.EUA', '2241.TW', '2140.SE', '002277.SZ', '7987.T', 'BWPT.JK', 'MOXS.NS', 'GTC.MKE', 'IAA.N', 'LJQQ3.SA', '3512.TWO', 'GNR.MNE', 'NEWYY.PK', 'LODE.PS', '002713.SZ', '5NB.D', '688148.SS', 'DGMA.PK', 'NVRZ.BJ', 'BASGZ.IS', 'DHA.HM', '009300.KQ', 'GLL.AX', 'GGAA.OQ']\n"
     ]
    },
    {
     "name": "stderr",
     "output_type": "stream",
     "text": [
      "Backend error. 400 Bad Request\n"
     ]
    },
    {
     "name": "stdout",
     "output_type": "stream",
     "text": [
      "Error code 400 | Backend error. 400 Bad Request ['RCL.AX', 'EMDE.BA', 'HAPL.NS', '6047.T', 'FHLT.OQ', 'MKL.N', 'MDNL.PK', 'CONTR.CY', 'SNI.OL', 'ARCOMA.ST', 'CYDX.PK', 'VCTR.TA', 'COKA.BEL', 'CHOF.SI', 'BEOP.BEL', 'FINE.NS', 'INVCEEFIZ.WA', '300585.SZ', 'SGP.BK', '0677.HK', 'CNA.GQ', 'IRCPm.BK', 'UGE.V', 'JNPR.N', 'AGRIEXPA.MX', '6764.TWO', 'BAH.N', 'SGU.N', 'DAT.HM', '002240.SZ', 'HNmad.HN', 'HSAD.ISX', 'BRM.NZ', 'SIXH.L', '002496.SZ', 'ASAO.SJ', 'SNG.BX', 'AROW.OQ', 'BAHS.OM', 'ANZU.OQ', '6662.TWO', 'DEWM.PSX', 'VXL.V', 'FL.V', 'IG.MI', 'MGRO.V', 'SHLF.OL', 'GMDA.OQ', '01C.WA', '002655.SZ', '3825.T', 'CLBM.CO', 'CNWI.PK', 'IXM0132.DE', 'AJYG.PK', '3093.T', 'ATCY.NS', 'LEXU.NS', 'ROOF.V', '2975.T', 'XPER.N', 'MJE.JS', '6154.TWO', 'MYST.BO', '603322.SS', '3374.T', 'SB.N', 'AZRG.TA', 'JOLY.BO', '4139.TWO', 'JDG.L', 'STXWDMJ.J', 'AMPL.OQ', '6123.HK']\n"
     ]
    },
    {
     "name": "stderr",
     "output_type": "stream",
     "text": [
      "Backend error. 400 Bad Request\n"
     ]
    },
    {
     "name": "stdout",
     "output_type": "stream",
     "text": [
      "Error code 400 | Backend error. 400 Bad Request ['WOW.N', '002926.SZ', 'FISD11.SA', 'ZHDYI.RTS', '601138.SS', 'RPT.N', 'SPDI.L', 'QUAD.BB', 'RXST.OQ', '301206.SZ', 'ZAMZ.L', '4768.T', 'CCLX.PK', 'KEX.JS', 'BURE.ST', 'CARN.BO', 'IMINT.TE', 'SFPI.PK', '8271.HK', 'ABSh.V', 'MTO.AX', '300157.SZ', '6613.T', 'KAND.BO', 'KYMZI.RTS', '301083.SZ', '900280.KQ', 'BDMN.JK', '5483.TWO', 'PALTEL.PL', 'KAST.PK', 'GPPR.MOT', 'APCI.NS', '2142.HK', 'HOUSE.PS', 'SUPC.BO', 'SSABa.ST', 'QUARTpref.ST', 'ENVM.TA', '002582.SZ', 'PAFO.NS', 'EDUC.OQ', 'HU00714472.BU', 'PWEI.PK', 'LACZ.ZI', 'LYB.N', 'NEON.OQ', '603918.SS', 'INDERES.HE', 'SKCK.MKE', 'ITDN.PK', 'INTR.V', '0171.HK', '8101.T', '601901.SS', '300012.SZ', 'SNAN.DH', 'IPO.PS', '5281.TWO', '74701B9A.KS', 'E4CG.DE', 'NANOVN.OL', 'TRSK.BX', 'BSML.JK', '605277.SS', '2348.HK', 'VLS.PA', '009780.KQ', 'GRIN.OQ', 'EDIP.WA', 'AKSH.NS', 'UZAR.BJ', '688160.SS', 'ADML.PSX']\n"
     ]
    },
    {
     "name": "stderr",
     "output_type": "stream",
     "text": [
      "Backend error. 400 Bad Request\n"
     ]
    },
    {
     "name": "stdout",
     "output_type": "stream",
     "text": [
      "Error code 400 | Backend error. 400 Bad Request ['TWRK.KL', 'HDOM.BB', '6415.TW', '7261.T', 'ANNU.KL', 'LELA.BO', 'QAIR.ST', 'FTMM.PSX', '6073.T', '6227.T', 'CBBB.PK', 'NUE.N', 'AALR3.SA', 'TIML.MT', 'BVL.CR', '600661.SS', '039240.KQ', '73501BBC.KS', 'CUSH.ASE', 'GMFI.JK', 'SAYFF.PK', 'GMPR.PK', 'CEFB.PK', 'EMGE.PK', '4912.T', 'KRVGD.IS', 'STMCHB.SN', 'VLEN.ZA', 'GAME.NS', 'CIH.OQ', 'AUKp.V', 'KAPJ.J', 'JXT.AX', '8698.T', 'HHER.PK', 'KMPR.N', '268280.KS', 'SOFb.ST', 'BUTE.MKE', '8919.T', 'GKIT.PK', 'GLI.V', 'CLE.AX', 'FIDSON.LG', 'VDTK.L', '300980.SZ', 'REYG.V', 'EMPLI.ST', 'BLUJ.J', 'BMEB.L', 'AGVG.SI', '601187.SS', '5243.TW', 'SLPb.ST', 'CIP.PS', '2643.TWO', 'KAIS.BO', 'RFX.AX', 'OJOC.PK', 'ALQA.KL', '3013.TW', '7584.TWO', 'AGR.HM', 'ICBT.PK', '601595.SS', '838171.BJE', 'LINT.BO', 'FIMP.JK', '9763.T', 'UTAS.BJ', 'AGII.JK', 'HYEG.PK', 'LIKE.L', '280360.KS']\n"
     ]
    },
    {
     "name": "stderr",
     "output_type": "stream",
     "text": [
      "Backend error. 400 Bad Request\n"
     ]
    },
    {
     "name": "stdout",
     "output_type": "stream",
     "text": [
      "Error code 400 | Backend error. 400 Bad Request ['TII.V', 'H.N', '8013.T', 'CCCP.WA', 'DVN.HNO', 'BPFON.HT', 'DPUI.PK', 'EFV.V', 'ROCK.V', 'SAMI.BO', 'MAPT4.SA', '3647.T', 'FCNE.PK', 'YBC.HNO', 'BOPL.CM', 'SSSJ.J', 'AVEO.OQ', 'SINI.CM', 'DUTI.JK', 'LU0006040975.BR', 'SSPM.NS', 'VPG.N', '6222.T', 'SAKS.NS', 'SJOVA.IC', 'SNGM.NS', 'SOMT.BO', '688456.SS', 'SINA.KL', 'CDONAB.ST', 'SEC.L', 'SIGR.CO', 'IDND.PK', '600595.SS', 'ITOX.PK', 'KC.OQ', 'MUMG.DE', 'CREN.BO', 'A3M.MC', 'ACTF.BO', 'FHER3.SA', 'AFRIR.NGM', 'HPQ.N', 'PLTK.OQ', 'EMSD.DE', 'SVCI.PSX', 'TMST.N', 'MLBMD.EUA', 'MBSS.KL', 'BSFO.PK', '5950.T', 'KALF.NS', 'INER.BO', 'VTKS.MKE', '601199.SS', '002788.SZ', 'AFIIQ.PK', 'CH178834=BEKB', 'BWAP.ASE', '009070.KS', 'AYEN.IS', 'VECT.OQ', 'CMRB.PK', 'NELC.NS', '002416.SZ', 'AICL.DH', 'DBOX.L', 'NSEL.NS', 'ORNT.L', 'IFNY.PK', 'ISCD.TA', 'SYT.AX', 'MBKG.DE', 'BGIG.BB']\n"
     ]
    },
    {
     "name": "stderr",
     "output_type": "stream",
     "text": [
      "Backend error. 400 Bad Request\n"
     ]
    },
    {
     "name": "stdout",
     "output_type": "stream",
     "text": [
      "Error code 400 | Backend error. 400 Bad Request ['SUMP.SJ', 'SYSR.ST', 'STLE.BEL', 'WISP.WA', 'CMM.HNO', 'ALAQU.PA', 'EFO.BX', 'CIF.TTB', 'ICNC.N', '001500.KS', 'SNXS.L', 'DIFI.TA', 'PSPN.S', 'LSCG.PK', 'PEN.TA', 'ISO.V', '8544.T', 'KOMR.BJ', 'ORUP.MM', 'ETRANZA.LG', 'DRCS.NS', 'ROSNC.BX', 'ESBS.PK', 'ASIR.CM', 'FPI.N', 'BEAG.VI', 'OM.PS', 'PGAI.PK', 'MRBK.OQ', 'MCT.AX', '080720.KQ', 'BLFY.OQ', 'CARBN.OL', 'ASUN.ZI', 'STUD.V', 'PTX.AX', 'BFLA.BO', 'L03Ag.MU', 'TUTI.BO', '1301.TW', 'IMCO.TA', '005090.KS', 'MBVA.PK', 'VADE.BO', 'WFX.BK', 'TRN.MI', '600221.SS', 'ASAI3.SA', 'HTGM.OQ', 'YONG.KL', 'LBEV.PK', 'FAB.L', 'RIGA.BO', 'TPCR.MOT', '6505.T', '6762.TWO', 'CNV.PA', 'BTH.BB', 'RBG.L', 'PEK.CD', '5367.T', '2030.SE', 'ITR.V', 'LOGM.CY', '7317.T', 'TLSV.NS', 'BTCP.BO', '3054.TW', '7794.T', 'DLD.HNO', '688147.SS', 'UNBK.PK', '3900.T', 'CMGR.PK']\n"
     ]
    },
    {
     "ename": "",
     "evalue": "",
     "output_type": "error",
     "traceback": [
      "\u001b[1;31mCanceled future for execute_request message before replies were done"
     ]
    },
    {
     "ename": "",
     "evalue": "",
     "output_type": "error",
     "traceback": [
      "\u001b[1;31mThe Kernel crashed while executing code in the the current cell or a previous cell. Please review the code in the cell(s) to identify a possible cause of the failure. Click <a href='https://aka.ms/vscodeJupyterKernelCrash'>here</a> for more info. View Jupyter <a href='command:jupyter.viewOutput'>log</a> for further details."
     ]
    }
   ],
   "source": [
    "eikon_helper.extract()"
   ]
  }
 ],
 "metadata": {
  "kernelspec": {
   "display_name": "py-env",
   "language": "python",
   "name": "python3"
  },
  "language_info": {
   "codemirror_mode": {
    "name": "ipython",
    "version": 3
   },
   "file_extension": ".py",
   "mimetype": "text/x-python",
   "name": "python",
   "nbconvert_exporter": "python",
   "pygments_lexer": "ipython3",
   "version": "3.8.11"
  },
  "orig_nbformat": 4,
  "vscode": {
   "interpreter": {
    "hash": "a330fbe387d48c67019ed9851c3eb41930b6158e9cc9a5581d811641708c01f8"
   }
  }
 },
 "nbformat": 4,
 "nbformat_minor": 2
}
