{
 "cells": [
  {
   "cell_type": "code",
   "execution_count": 1,
   "metadata": {},
   "outputs": [],
   "source": [
    "import glob\n",
    "from source.refinitiv import EikonHelper, match_years"
   ]
  },
  {
   "attachments": {},
   "cell_type": "markdown",
   "metadata": {},
   "source": [
    "### Download data using Eikon API"
   ]
  },
  {
   "cell_type": "code",
   "execution_count": 2,
   "metadata": {},
   "outputs": [],
   "source": [
    "regions = ['Europe', 'Asia', 'Africa', 'Americas', 'Oceania']\n",
    "for region in regions:\n",
    "    eikon_helper = EikonHelper(region)\n",
    "    eikon_helper.extract()"
   ]
  },
  {
   "attachments": {},
   "cell_type": "markdown",
   "metadata": {},
   "source": [
    "### Match PriceClose year to financial variable date using TotAssets year"
   ]
  },
  {
   "cell_type": "code",
   "execution_count": 3,
   "metadata": {},
   "outputs": [],
   "source": [
    "files = glob.glob(\"assets\\Eikon\\*data.csv\")\n",
    "\n",
    "for file in files:\n",
    "    match_years(file)"
   ]
  }
 ],
 "metadata": {
  "kernelspec": {
   "display_name": "CV-env",
   "language": "python",
   "name": "python3"
  },
  "language_info": {
   "codemirror_mode": {
    "name": "ipython",
    "version": 3
   },
   "file_extension": ".py",
   "mimetype": "text/x-python",
   "name": "python",
   "nbconvert_exporter": "python",
   "pygments_lexer": "ipython3",
   "version": "3.8.11"
  },
  "orig_nbformat": 4,
  "vscode": {
   "interpreter": {
    "hash": "2a7a02fa34efe3c597f602415a24cb7f11bee0b6a58c290fa00da9d62a266200"
   }
  }
 },
 "nbformat": 4,
 "nbformat_minor": 2
}
