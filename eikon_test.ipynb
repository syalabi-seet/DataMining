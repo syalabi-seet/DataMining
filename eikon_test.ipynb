{
 "cells": [
  {
   "cell_type": "code",
   "execution_count": 1,
   "metadata": {},
   "outputs": [],
   "source": [
    "import glob\n",
    "from source.refinitiv import EikonHelper, match_years"
   ]
  },
  {
   "attachments": {},
   "cell_type": "markdown",
   "metadata": {},
   "source": [
    "### Download data using Eikon API"
   ]
  },
  {
   "cell_type": "code",
   "execution_count": 2,
   "metadata": {},
   "outputs": [
    {
     "name": "stderr",
     "output_type": "stream",
     "text": [
      "2023-03-21 08:42:56.186 | INFO     | source.refinitiv:extract:136 - Africa completed\n",
      "2023-03-21 08:42:56.355 | INFO     | source.refinitiv:extract:136 - Oceania completed\n"
     ]
    },
    {
     "name": "stdout",
     "output_type": "stream",
     "text": [
      "=======================================\n",
      "Region: Africa\n",
      "Cell limit per request: 100000\n",
      "Instrument limit per request: 37\n",
      "Tickers retrieved: 1365/1365\n",
      "=======================================\n",
      "=======================================\n",
      "Region: Oceania\n",
      "Cell limit per request: 100000\n",
      "Instrument limit per request: 37\n",
      "Tickers retrieved: 2198/2198\n",
      "=======================================\n",
      "=======================================\n",
      "Region: Europe\n",
      "Cell limit per request: 100000\n",
      "Instrument limit per request: 37\n",
      "Tickers retrieved: 3219/12017\n",
      "=======================================\n"
     ]
    },
    {
     "data": {
      "application/vnd.jupyter.widget-view+json": {
       "model_id": "7b54da5a63fb4c83abf2684737e21973",
       "version_major": 2,
       "version_minor": 0
      },
      "text/plain": [
       "  0%|          | 0/238 [00:00<?, ?it/s]"
      ]
     },
     "metadata": {},
     "output_type": "display_data"
    }
   ],
   "source": [
    "regions = ['Africa', 'Oceania', 'Europe', 'Americas', 'Asia']\n",
    "for region in regions:\n",
    "    eikon_helper = EikonHelper(region)\n",
    "    eikon_helper.extract()"
   ]
  },
  {
   "attachments": {},
   "cell_type": "markdown",
   "metadata": {},
   "source": [
    "### Match PriceClose.year to financial variable date using TotAssets.year"
   ]
  },
  {
   "cell_type": "code",
   "execution_count": 3,
   "metadata": {},
   "outputs": [],
   "source": [
    "# files = glob.glob(\"assets\\Eikon\\*data.csv\")\n",
    "\n",
    "# for file in files:\n",
    "#     match_years(file)"
   ]
  }
 ],
 "metadata": {
  "kernelspec": {
   "display_name": "py-env",
   "language": "python",
   "name": "python3"
  },
  "language_info": {
   "codemirror_mode": {
    "name": "ipython",
    "version": 3
   },
   "file_extension": ".py",
   "mimetype": "text/x-python",
   "name": "python",
   "nbconvert_exporter": "python",
   "pygments_lexer": "ipython3",
   "version": "3.8.11"
  },
  "orig_nbformat": 4,
  "vscode": {
   "interpreter": {
    "hash": "a330fbe387d48c67019ed9851c3eb41930b6158e9cc9a5581d811641708c01f8"
   }
  }
 },
 "nbformat": 4,
 "nbformat_minor": 2
}
