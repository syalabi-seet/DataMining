{
 "cells": [
  {
   "cell_type": "code",
   "execution_count": 1,
   "metadata": {},
   "outputs": [],
   "source": [
    "from source.refinitiv import EikonHelper"
   ]
  },
  {
   "attachments": {},
   "cell_type": "markdown",
   "metadata": {},
   "source": [
    "### Download data using Eikon API"
   ]
  },
  {
   "cell_type": "code",
   "execution_count": 2,
   "metadata": {},
   "outputs": [
    {
     "name": "stderr",
     "output_type": "stream",
     "text": [
      "2023-04-13 15:50:44.757 | INFO     | source.refinitiv:extract:126 - Africa completed\n"
     ]
    },
    {
     "name": "stdout",
     "output_type": "stream",
     "text": [
      "=======================================\n",
      "Region: Africa\n",
      "Cell limit per request: 100000\n",
      "Instrument limit per request: 36\n",
      "Tickers retrieved: 1365/1365\n",
      "=======================================\n"
     ]
    },
    {
     "name": "stderr",
     "output_type": "stream",
     "text": [
      "2023-04-13 15:50:45.149 | INFO     | source.refinitiv:extract:126 - Oceania completed\n"
     ]
    },
    {
     "name": "stdout",
     "output_type": "stream",
     "text": [
      "=======================================\n",
      "Region: Oceania\n",
      "Cell limit per request: 100000\n",
      "Instrument limit per request: 36\n",
      "Tickers retrieved: 2198/2198\n",
      "=======================================\n",
      "=======================================\n",
      "Region: Europe\n",
      "Cell limit per request: 100000\n",
      "Instrument limit per request: 36\n",
      "Tickers retrieved: 0/12017\n",
      "=======================================\n"
     ]
    },
    {
     "data": {
      "application/vnd.jupyter.widget-view+json": {
       "model_id": "a2bfbc13fbe54165868788317ac2d481",
       "version_major": 2,
       "version_minor": 0
      },
      "text/plain": [
       "  0%|          | 0/334 [00:00<?, ?it/s]"
      ]
     },
     "metadata": {},
     "output_type": "display_data"
    }
   ],
   "source": [
    "regions = ['Africa', 'Oceania', 'Europe', 'Americas', 'Asia']\n",
    "for region in regions:\n",
    "    eikon_helper = EikonHelper(region)\n",
    "    eikon_helper.extract()"
   ]
  }
 ],
 "metadata": {
  "kernelspec": {
   "display_name": "py-env",
   "language": "python",
   "name": "python3"
  },
  "language_info": {
   "codemirror_mode": {
    "name": "ipython",
    "version": 3
   },
   "file_extension": ".py",
   "mimetype": "text/x-python",
   "name": "python",
   "nbconvert_exporter": "python",
   "pygments_lexer": "ipython3",
   "version": "3.8.11"
  },
  "orig_nbformat": 4,
  "vscode": {
   "interpreter": {
    "hash": "a330fbe387d48c67019ed9851c3eb41930b6158e9cc9a5581d811641708c01f8"
   }
  }
 },
 "nbformat": 4,
 "nbformat_minor": 2
}
