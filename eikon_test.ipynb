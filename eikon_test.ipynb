{
 "cells": [
  {
   "cell_type": "code",
   "execution_count": 1,
   "metadata": {},
   "outputs": [],
   "source": [
    "from source.refinitiv import EikonHelper"
   ]
  },
  {
   "attachments": {},
   "cell_type": "markdown",
   "metadata": {},
   "source": [
    "### Download data using Eikon API"
   ]
  },
  {
   "cell_type": "code",
   "execution_count": 2,
   "metadata": {},
   "outputs": [
    {
     "name": "stderr",
     "output_type": "stream",
     "text": [
      "2023-03-29 15:39:10.594 | INFO     | source.refinitiv:extract:126 - Africa completed\n"
     ]
    },
    {
     "name": "stdout",
     "output_type": "stream",
     "text": [
      "=======================================\n",
      "Region: Africa\n",
      "Cell limit per request: 100000\n",
      "Instrument limit per request: 37\n",
      "Tickers retrieved: 1365/1365\n",
      "=======================================\n"
     ]
    },
    {
     "name": "stderr",
     "output_type": "stream",
     "text": [
      "2023-03-29 15:39:11.026 | INFO     | source.refinitiv:extract:126 - Oceania completed\n"
     ]
    },
    {
     "name": "stdout",
     "output_type": "stream",
     "text": [
      "=======================================\n",
      "Region: Oceania\n",
      "Cell limit per request: 100000\n",
      "Instrument limit per request: 37\n",
      "Tickers retrieved: 2198/2198\n",
      "=======================================\n"
     ]
    },
    {
     "name": "stderr",
     "output_type": "stream",
     "text": [
      "2023-03-29 15:39:13.730 | INFO     | source.refinitiv:extract:126 - Europe completed\n"
     ]
    },
    {
     "name": "stdout",
     "output_type": "stream",
     "text": [
      "=======================================\n",
      "Region: Europe\n",
      "Cell limit per request: 100000\n",
      "Instrument limit per request: 37\n",
      "Tickers retrieved: 12017/12017\n",
      "=======================================\n"
     ]
    },
    {
     "name": "stderr",
     "output_type": "stream",
     "text": [
      "2023-03-29 15:39:17.856 | INFO     | source.refinitiv:extract:126 - Americas completed\n"
     ]
    },
    {
     "name": "stdout",
     "output_type": "stream",
     "text": [
      "=======================================\n",
      "Region: Americas\n",
      "Cell limit per request: 100000\n",
      "Instrument limit per request: 37\n",
      "Tickers retrieved: 16026/16026\n",
      "=======================================\n"
     ]
    },
    {
     "name": "stderr",
     "output_type": "stream",
     "text": [
      "2023-03-29 15:39:27.910 | INFO     | source.refinitiv:extract:126 - Asia completed\n"
     ]
    },
    {
     "name": "stdout",
     "output_type": "stream",
     "text": [
      "=======================================\n",
      "Region: Asia\n",
      "Cell limit per request: 100000\n",
      "Instrument limit per request: 37\n",
      "Tickers retrieved: 30585/30585\n",
      "=======================================\n"
     ]
    }
   ],
   "source": [
    "regions = ['Africa', 'Oceania', 'Europe', 'Americas', 'Asia']\n",
    "for region in regions:\n",
    "    eikon_helper = EikonHelper(region)\n",
    "    eikon_helper.extract()"
   ]
  }
 ],
 "metadata": {
  "kernelspec": {
   "display_name": "py-env",
   "language": "python",
   "name": "python3"
  },
  "language_info": {
   "codemirror_mode": {
    "name": "ipython",
    "version": 3
   },
   "file_extension": ".py",
   "mimetype": "text/x-python",
   "name": "python",
   "nbconvert_exporter": "python",
   "pygments_lexer": "ipython3",
   "version": "3.8.11"
  },
  "orig_nbformat": 4,
  "vscode": {
   "interpreter": {
    "hash": "a330fbe387d48c67019ed9851c3eb41930b6158e9cc9a5581d811641708c01f8"
   }
  }
 },
 "nbformat": 4,
 "nbformat_minor": 2
}
