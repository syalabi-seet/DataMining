{
 "cells": [
  {
   "cell_type": "code",
   "execution_count": null,
   "metadata": {},
   "outputs": [],
   "source": [
    "import polars as pl\n",
    "import os\n",
    "\n",
    "from tqdm import tqdm\n",
    "import eikon as ek\n",
    "\n",
    "ek.set_app_key(\"fd36c20b01ed4ad6b3248805ae5031749349e3c9\")"
   ]
  },
  {
   "cell_type": "code",
   "execution_count": null,
   "metadata": {},
   "outputs": [],
   "source": [
    "import pandas as pd\n",
    "\n",
    "with open(r\"assets\\metadata\\instruments.txt\", \"r\") as f:\n",
    "    all_instruments = [x.strip(\"\\n\") for x in f]\n",
    "\n",
    "seg_length = 5000\n",
    "df = pd.DataFrame()\n",
    "for instruments in [all_instruments[x:x+seg_length] for x in range(0,len(all_instruments),seg_length)]:\n",
    "    t_df, err = ek.get_data(\n",
    "        instruments=instruments,\n",
    "        fields=[\"TR.ExchangeCountry\"],\n",
    "    )\n",
    "    df = pd.concat([df, t_df], axis=0)\n",
    "\n",
    "df"
   ]
  },
  {
   "cell_type": "code",
   "execution_count": null,
   "metadata": {},
   "outputs": [],
   "source": [
    "df.to_csv(\"REF_exchangecountry.csv\", index=False)"
   ]
  },
  {
   "cell_type": "code",
   "execution_count": 1,
   "metadata": {},
   "outputs": [
    {
     "name": "stderr",
     "output_type": "stream",
     "text": [
      "100%|██████████| 52/52 [03:09<00:00,  3.64s/it]\n"
     ]
    }
   ],
   "source": [
    "from source.refinitiv import Eikon2\n",
    "\n",
    "Eikon2().download_data(country=\"United States of America\")"
   ]
  },
  {
   "cell_type": "code",
   "execution_count": null,
   "metadata": {},
   "outputs": [],
   "source": [
    "with open(r\"assets\\metadata\\fields.txt\", \"r\") as f:\n",
    "    fields = [x.strip(\"\\n\") for x in f]\n",
    "\n",
    "fields"
   ]
  },
  {
   "cell_type": "code",
   "execution_count": null,
   "metadata": {},
   "outputs": [],
   "source": [
    "import pandas as pd\n",
    "\n",
    "pd.to_datetime(df[\"TR.REVENUE.DATE\"], format=\"%Y-%m-%dT%H:%M:%SZ\")"
   ]
  },
  {
   "cell_type": "code",
   "execution_count": null,
   "metadata": {},
   "outputs": [],
   "source": [
    "df, err = ek.get_data(\n",
    "    instruments=[\"AAPL.OQ\", \"AMZN.OQ\"],\n",
    "    fields=[\"TR.Revenue\"],\n",
    "    # fields=fields,\n",
    "    parameters={\n",
    "        \"Scale\": 6,\n",
    "        \"SDate\": 0,\n",
    "        \"EDate\": -25,\n",
    "        \"FRQ\": \"FY\",\n",
    "        \"Curn\": \"Native\"\n",
    "    },\n",
    "    field_name=True\n",
    ")\n",
    "df"
   ]
  },
  {
   "cell_type": "code",
   "execution_count": null,
   "metadata": {},
   "outputs": [],
   "source": [
    "df.loc[:, df.dtypes==\"string\"].columns.tolist()"
   ]
  },
  {
   "cell_type": "code",
   "execution_count": null,
   "metadata": {},
   "outputs": [],
   "source": [
    "df.dtypes"
   ]
  },
  {
   "cell_type": "code",
   "execution_count": null,
   "metadata": {},
   "outputs": [],
   "source": [
    "pl.read_parquet(\"assets\\Eikon\\data.parquet\")"
   ]
  },
  {
   "cell_type": "code",
   "execution_count": null,
   "metadata": {},
   "outputs": [],
   "source": [
    "from source.refinitiv import EikonHelper\n",
    "\n",
    "eikon_helper = EikonHelper()"
   ]
  },
  {
   "cell_type": "code",
   "execution_count": null,
   "metadata": {},
   "outputs": [],
   "source": [
    "with open(r\"assets\\metadata\\fields.txt\", \"r\") as f:\n",
    "    fields = [x.strip(\"\\n\") for x in f]\n",
    "\n",
    "fields"
   ]
  },
  {
   "cell_type": "code",
   "execution_count": null,
   "metadata": {},
   "outputs": [],
   "source": [
    "import time\n",
    "from tqdm import tqdm\n",
    "\n",
    "fields, instruments = eikon_helper.get_metadata()\n",
    "\n",
    "NO_DATE_FIELDS = []\n",
    "for field in tqdm(fields):\n",
    "    df, err = ek.get_data(\n",
    "        instruments=[\"AAPL.OQ\", \"AMZN.OQ\"],\n",
    "        fields=[field, field+\".DATE\"],\n",
    "        parameters={\n",
    "            \"Scale\": 6,\n",
    "            \"SDate\": 0,\n",
    "            \"EDate\": -5,\n",
    "            \"FRQ\": \"FY\",\n",
    "            \"Curn\": \"Native\"\n",
    "        },\n",
    "        field_name=True\n",
    "    )\n",
    "    if err:\n",
    "        NO_DATE_FIELDS.append(field)\n",
    "        print(field, err)"
   ]
  },
  {
   "cell_type": "code",
   "execution_count": null,
   "metadata": {},
   "outputs": [],
   "source": [
    "NO_DATE_FIELDS"
   ]
  },
  {
   "cell_type": "code",
   "execution_count": null,
   "metadata": {},
   "outputs": [],
   "source": [
    "eikon_helper.extract()"
   ]
  }
 ],
 "metadata": {
  "kernelspec": {
   "display_name": "py-env",
   "language": "python",
   "name": "python3"
  },
  "language_info": {
   "codemirror_mode": {
    "name": "ipython",
    "version": 3
   },
   "file_extension": ".py",
   "mimetype": "text/x-python",
   "name": "python",
   "nbconvert_exporter": "python",
   "pygments_lexer": "ipython3",
   "version": "3.11.5"
  },
  "orig_nbformat": 4,
  "vscode": {
   "interpreter": {
    "hash": "a330fbe387d48c67019ed9851c3eb41930b6158e9cc9a5581d811641708c01f8"
   }
  }
 },
 "nbformat": 4,
 "nbformat_minor": 2
}
