{
 "cells": [
  {
   "cell_type": "code",
   "execution_count": 1,
   "metadata": {},
   "outputs": [],
   "source": [
    "import polars as pl\n",
    "import os\n",
    "\n",
    "from tqdm import tqdm\n",
    "import eikon as ek\n",
    "\n",
    "ek.set_app_key(\"fd36c20b01ed4ad6b3248805ae5031749349e3c9\")"
   ]
  },
  {
   "cell_type": "code",
   "execution_count": 2,
   "metadata": {},
   "outputs": [
    {
     "name": "stdout",
     "output_type": "stream",
     "text": [
      "=======================================\n",
      "Cell limit: 10000\n",
      "Instrument limit: 23\n",
      "Tickers retrieved: 4688/62472\n",
      "Batches remaining: 2513\n",
      "=======================================\n"
     ]
    },
    {
     "name": "stderr",
     "output_type": "stream",
     "text": [
      "  0%|          | 1/2513 [00:17<12:18:03, 17.63s/it]2024-01-31 17:39:59,196 P[3860] [MainThread 38436] HTTP TimeoutException: .\n",
      "  0%|          | 2/2513 [03:10<76:02:23, 109.02s/it]"
     ]
    },
    {
     "name": "stdout",
     "output_type": "stream",
     "text": [
      "Error code 408 | HTTP TimeoutException: . ['600481.SS', 'CRETEXC1.LM', 'EIPC.PK', '1INV.PSX', 'CH261655=ZKBZ', 'CCSgb.ASE', 'FSRJ.J', 'LAXM.NS', 'AGMA.L', 'CRBP2.PA', '300157.SZ', 'MCOA.PK', 'CFNB.PK', 'VRLA.PA', '8402.HK', 'TARL.BO', 'SF.CD', 'GUJA.BO', 'BOOM.OQ', 'CARY.NS', 'NPKZ.ZI', 'GESS.BO', 'IHGP.PK']\n"
     ]
    }
   ],
   "source": [
    "from source.refinitiv import EikonHelper\n",
    "\n",
    "eikon_helper = EikonHelper(cell_limit=10_000)\n",
    "eikon_helper.extract()"
   ]
  },
  {
   "cell_type": "code",
   "execution_count": null,
   "metadata": {},
   "outputs": [],
   "source": [
    "import polars as pl\n",
    "import pandas as pd"
   ]
  },
  {
   "cell_type": "code",
   "execution_count": null,
   "metadata": {},
   "outputs": [],
   "source": [
    "df = pd.read_parquet(\"assets\\Eikon\\data.parquet\")\n",
    "df"
   ]
  },
  {
   "cell_type": "code",
   "execution_count": null,
   "metadata": {},
   "outputs": [],
   "source": [
    "df[df[\"TR.CO2DIRECTSCOPE1\"].notna()][\"TR.CO2DIRECTSCOPE1.DATE\"].isna().sum()"
   ]
  },
  {
   "cell_type": "code",
   "execution_count": null,
   "metadata": {},
   "outputs": [],
   "source": [
    "df1 = df[df[\"TR.EXCHANGECOUNTRY\"].isin([\"Indonesia\", \"Malaysia\", \"Singapore\", \"Thailand\", \"Vietnam\", \"Philippines\"])]\n",
    "df1 = df1.dropna(subset=[\"TR.CO2DIRECTSCOPE1\"])[[\"Instrument\", \"TR.CO2DIRECTSCOPE1\", \"TR.CO2DIRECTSCOPE1.DATE\"]]\n",
    "df1"
   ]
  },
  {
   "cell_type": "code",
   "execution_count": null,
   "metadata": {},
   "outputs": [],
   "source": [
    "df1[df1[\"TR.CO2DIRECTSCOPE1.DATE\"].isna()]"
   ]
  },
  {
   "cell_type": "code",
   "execution_count": null,
   "metadata": {},
   "outputs": [],
   "source": [
    "df1.to_csv(\"refinitiv_data_1.csv\", index=False)"
   ]
  },
  {
   "cell_type": "code",
   "execution_count": null,
   "metadata": {},
   "outputs": [],
   "source": [
    "df1[\"Instrument\"].nunique()"
   ]
  },
  {
   "cell_type": "code",
   "execution_count": null,
   "metadata": {},
   "outputs": [],
   "source": [
    "df2 = pd.read_excel(\"assets\\metadata\\misc\\Refinitiv_Environmental_SEA 150125.xlsx\", header=[0,1])\n",
    "df2"
   ]
  },
  {
   "cell_type": "code",
   "execution_count": null,
   "metadata": {},
   "outputs": [],
   "source": [
    "[c for c in df2.columns.levels[0].tolist() if \"CO2\" in c]"
   ]
  },
  {
   "cell_type": "code",
   "execution_count": null,
   "metadata": {},
   "outputs": [],
   "source": [
    "df2[[\"Identifier (RIC)\", \"CO2 Equivalent Emissions Direct Scope 1 YoY\\nIn the last 20 FY\"]]"
   ]
  }
 ],
 "metadata": {
  "kernelspec": {
   "display_name": "py-env",
   "language": "python",
   "name": "python3"
  },
  "language_info": {
   "codemirror_mode": {
    "name": "ipython",
    "version": 3
   },
   "file_extension": ".py",
   "mimetype": "text/x-python",
   "name": "python",
   "nbconvert_exporter": "python",
   "pygments_lexer": "ipython3",
   "version": "3.11.5"
  },
  "orig_nbformat": 4,
  "vscode": {
   "interpreter": {
    "hash": "a330fbe387d48c67019ed9851c3eb41930b6158e9cc9a5581d811641708c01f8"
   }
  }
 },
 "nbformat": 4,
 "nbformat_minor": 2
}
