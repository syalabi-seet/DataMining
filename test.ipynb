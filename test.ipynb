{
 "cells": [
  {
   "cell_type": "code",
   "execution_count": 1,
   "metadata": {},
   "outputs": [],
   "source": [
    "import polars as pl\n",
    "import os\n",
    "\n",
    "from tqdm import tqdm\n",
    "import eikon as ek\n",
    "\n",
    "ek.set_app_key(\"fd36c20b01ed4ad6b3248805ae5031749349e3c9\")"
   ]
  },
  {
   "cell_type": "code",
   "execution_count": null,
   "metadata": {},
   "outputs": [],
   "source": [
    "df, err = ek.get_data(\n",
    "    instruments=[\"AAPL.OQ\", \"AMZN.OQ\"],\n",
    "    fields=[\"TR.REVENUE\", \"TR.F.TOTREVENUE\"],\n",
    "    parameters={\n",
    "        \"Scale\": 6,\n",
    "        \"SDate\": 0,\n",
    "        \"EDate\": -25,\n",
    "        \"FRQ\": \"FY\",\n",
    "        \"Curn\": \"Native\"\n",
    "    },  \n",
    "    field_name=True\n",
    ")\n",
    "df"
   ]
  },
  {
   "cell_type": "code",
   "execution_count": 3,
   "metadata": {},
   "outputs": [
    {
     "data": {
      "text/html": [
       "<div><style>\n",
       ".dataframe > thead > tr,\n",
       ".dataframe > tbody > tr {\n",
       "  text-align: right;\n",
       "  white-space: pre-wrap;\n",
       "}\n",
       "</style>\n",
       "<small>shape: (2, 389)</small><table border=\"1\" class=\"dataframe\"><thead><tr><th>Instrument</th><th>TR.HEADQUARTERSCOUNTRY</th><th>TR.HEADQUARTERSCOUNTRY.DATE</th><th>TR.EMISSIONSTARGETTYPE</th><th>TR.EMISSIONSTARGETTYPE.DATE</th><th>TR.UPSTREAMSCOPE3EMISSIONSWASTEGENERATEDINOPERATIONS</th><th>TR.UPSTREAMSCOPE3EMISSIONSWASTEGENERATEDINOPERATIONS.DATE</th><th>TR.TARGETSEMISSIONS</th><th>TR.TARGETSEMISSIONS.DATE</th><th>TR.WASTEREDUCTIONINITIATIVES</th><th>TR.WASTEREDUCTIONINITIATIVES.DATE</th><th>TR.ENERGYUSETOTAL</th><th>TR.ENERGYUSETOTAL.DATE</th><th>TR.F.TOTREVENUE</th><th>TR.F.TOTREVENUE.DATE</th><th>TR.REVENUE</th><th>TR.REVENUE.DATE</th><th>TR.F.TOTLIAB</th><th>TR.F.TOTLIAB.DATE</th><th>TR.WASTETOTAL</th><th>TR.WASTETOTAL.DATE</th><th>TR.RENEWABLEENERGYPURCHASED</th><th>TR.RENEWABLEENERGYPURCHASED.DATE</th><th>TR.F.COGSUNCLASSIF</th><th>TR.F.COGSUNCLASSIF.DATE</th><th>TR.F.LOANSRCVBLTOT</th><th>TR.F.LOANSRCVBLTOT.DATE</th><th>TR.ENVIRONMENTALCONTROVERSIESCOUNT</th><th>TR.ENVIRONMENTALCONTROVERSIESCOUNT.DATE</th><th>TR.TOTALRENEWABLEENERGYTOENERGYUSEINMILLION</th><th>TR.TOTALRENEWABLEENERGYTOENERGYUSEINMILLION.DATE</th><th>TR.COMPANYNAME</th><th>TR.COMPANYNAME.DATE</th><th>TR.F.NONRECURINCEXPNTOT</th><th>TR.F.NONRECURINCEXPNTOT.DATE</th><th>TR.ENVIRONMENTALEXPENDITURES</th><th>TR.ENVIRONMENTALEXPENDITURES.DATE</th><th>&hellip;</th><th>TR.F.INCTAX.DATE</th><th>TR.VOCEMISSIONS</th><th>TR.VOCEMISSIONS.DATE</th><th>TR.ENVIRONMENTALMATERIALSSOURCING</th><th>TR.ENVIRONMENTALMATERIALSSOURCING.DATE</th><th>TR.GICSINDUSTRY</th><th>TR.GICSINDUSTRY.DATE</th><th>TR.ENERGYPRODUCEDDIRECT</th><th>TR.ENERGYPRODUCEDDIRECT.DATE</th><th>TR.RECENTENVIRONMENTALCONTROVERSIES</th><th>TR.RECENTENVIRONMENTALCONTROVERSIES.DATE</th><th>TR.F.EPSDILEXCLEXORDITEMSCOMTOT</th><th>TR.F.EPSDILEXCLEXORDITEMSCOMTOT.DATE</th><th>TR.F.TOTSHHOLDEQ</th><th>TR.F.TOTSHHOLDEQ.DATE</th><th>TR.CARBONOFFSETSCREDITS</th><th>TR.CARBONOFFSETSCREDITS.DATE</th><th>TR.WASTERECYCLEDTOTOTALWASTE</th><th>TR.WASTERECYCLEDTOTOTALWASTE.DATE</th><th>TR.UPSTREAMSCOPE3EMPLOYEECOMMUTING</th><th>TR.UPSTREAMSCOPE3EMPLOYEECOMMUTING.DATE</th><th>TR.F.INVNTTOT</th><th>TR.F.INVNTTOT.DATE</th><th>TR.GICSINDUSTRYCODE</th><th>TR.GICSINDUSTRYCODE.DATE</th><th>TR.SICINDUSTRYCODE</th><th>TR.SICINDUSTRYCODE.DATE</th><th>TR.F.COMEQPARENTSHHOLD</th><th>TR.F.COMEQPARENTSHHOLD.DATE</th><th>TR.WATERRECYCLED</th><th>TR.WATERRECYCLED.DATE</th><th>TR.F.COMSHROUTSTOT</th><th>TR.F.COMSHROUTSTOT.DATE</th><th>TR.F.INCBEFTAX</th><th>TR.F.INCBEFTAX.DATE</th><th>TR.RESOURCEREDUCTIONPOLICY</th><th>TR.RESOURCEREDUCTIONPOLICY.DATE</th></tr><tr><td>str</td><td>i64</td><td>i64</td><td>i64</td><td>i64</td><td>i64</td><td>i64</td><td>i64</td><td>i64</td><td>i64</td><td>i64</td><td>i64</td><td>i64</td><td>i64</td><td>i64</td><td>i64</td><td>i64</td><td>i64</td><td>i64</td><td>i64</td><td>i64</td><td>i64</td><td>i64</td><td>i64</td><td>i64</td><td>i64</td><td>i64</td><td>i64</td><td>i64</td><td>i64</td><td>i64</td><td>i64</td><td>i64</td><td>i64</td><td>i64</td><td>i64</td><td>i64</td><td>&hellip;</td><td>i64</td><td>i64</td><td>i64</td><td>i64</td><td>i64</td><td>i64</td><td>i64</td><td>i64</td><td>i64</td><td>i64</td><td>i64</td><td>i64</td><td>i64</td><td>i64</td><td>i64</td><td>i64</td><td>i64</td><td>i64</td><td>i64</td><td>i64</td><td>i64</td><td>i64</td><td>i64</td><td>i64</td><td>i64</td><td>i64</td><td>i64</td><td>i64</td><td>i64</td><td>i64</td><td>i64</td><td>i64</td><td>i64</td><td>i64</td><td>i64</td><td>i64</td><td>i64</td></tr></thead><tbody><tr><td>&quot;AAPL.OQ&quot;</td><td>null</td><td>null</td><td>null</td><td>null</td><td>null</td><td>null</td><td>null</td><td>null</td><td>null</td><td>null</td><td>null</td><td>null</td><td>null</td><td>null</td><td>null</td><td>null</td><td>null</td><td>null</td><td>null</td><td>null</td><td>null</td><td>null</td><td>null</td><td>null</td><td>null</td><td>null</td><td>null</td><td>null</td><td>null</td><td>null</td><td>null</td><td>null</td><td>null</td><td>null</td><td>null</td><td>null</td><td>&hellip;</td><td>null</td><td>null</td><td>null</td><td>null</td><td>null</td><td>null</td><td>null</td><td>null</td><td>null</td><td>null</td><td>null</td><td>null</td><td>null</td><td>null</td><td>null</td><td>null</td><td>null</td><td>null</td><td>null</td><td>null</td><td>null</td><td>null</td><td>null</td><td>null</td><td>null</td><td>null</td><td>null</td><td>null</td><td>null</td><td>null</td><td>null</td><td>null</td><td>null</td><td>null</td><td>null</td><td>null</td><td>null</td></tr><tr><td>&quot;AMZN.OQ&quot;</td><td>null</td><td>null</td><td>null</td><td>null</td><td>null</td><td>null</td><td>null</td><td>null</td><td>null</td><td>null</td><td>null</td><td>null</td><td>null</td><td>null</td><td>null</td><td>null</td><td>null</td><td>null</td><td>null</td><td>null</td><td>null</td><td>null</td><td>null</td><td>null</td><td>null</td><td>null</td><td>null</td><td>null</td><td>null</td><td>null</td><td>null</td><td>null</td><td>null</td><td>null</td><td>null</td><td>null</td><td>&hellip;</td><td>null</td><td>null</td><td>null</td><td>null</td><td>null</td><td>null</td><td>null</td><td>null</td><td>null</td><td>null</td><td>null</td><td>null</td><td>null</td><td>null</td><td>null</td><td>null</td><td>null</td><td>null</td><td>null</td><td>null</td><td>null</td><td>null</td><td>null</td><td>null</td><td>null</td><td>null</td><td>null</td><td>null</td><td>null</td><td>null</td><td>null</td><td>null</td><td>null</td><td>null</td><td>null</td><td>null</td><td>null</td></tr></tbody></table></div>"
      ],
      "text/plain": [
       "shape: (2, 389)\n",
       "┌───────────┬───────────┬───────────┬───────────┬───┬───────────┬───────────┬───────────┬──────────┐\n",
       "│ Instrumen ┆ TR.HEADQU ┆ TR.HEADQU ┆ TR.EMISSI ┆ … ┆ TR.F.INCB ┆ TR.F.INCB ┆ TR.RESOUR ┆ TR.RESOU │\n",
       "│ t         ┆ ARTERSCOU ┆ ARTERSCOU ┆ ONSTARGET ┆   ┆ EFTAX     ┆ EFTAX.DAT ┆ CEREDUCTI ┆ RCEREDUC │\n",
       "│ ---       ┆ NTRY      ┆ NTRY.DATE ┆ TYPE      ┆   ┆ ---       ┆ E         ┆ ONPOLICY  ┆ TIONPOLI │\n",
       "│ str       ┆ ---       ┆ ---       ┆ ---       ┆   ┆ i64       ┆ ---       ┆ ---       ┆ CY.DATE  │\n",
       "│           ┆ i64       ┆ i64       ┆ i64       ┆   ┆           ┆ i64       ┆ i64       ┆ ---      │\n",
       "│           ┆           ┆           ┆           ┆   ┆           ┆           ┆           ┆ i64      │\n",
       "╞═══════════╪═══════════╪═══════════╪═══════════╪═══╪═══════════╪═══════════╪═══════════╪══════════╡\n",
       "│ AAPL.OQ   ┆ null      ┆ null      ┆ null      ┆ … ┆ null      ┆ null      ┆ null      ┆ null     │\n",
       "│ AMZN.OQ   ┆ null      ┆ null      ┆ null      ┆ … ┆ null      ┆ null      ┆ null      ┆ null     │\n",
       "└───────────┴───────────┴───────────┴───────────┴───┴───────────┴───────────┴───────────┴──────────┘"
      ]
     },
     "execution_count": 3,
     "metadata": {},
     "output_type": "execute_result"
    }
   ],
   "source": [
    "pl.read_parquet(\"assets\\Eikon\\data.parquet\")"
   ]
  },
  {
   "cell_type": "code",
   "execution_count": 2,
   "metadata": {},
   "outputs": [
    {
     "name": "stdout",
     "output_type": "stream",
     "text": [
      "=======================================\n",
      "Cell limit: 200000\n",
      "Instrument limit: 20\n",
      "Tickers retrieved: 2/62191\n",
      "Batches remaining: 3110\n",
      "=======================================\n"
     ]
    }
   ],
   "source": [
    "from source.refinitiv import EikonHelper\n",
    "\n",
    "eikon_helper = EikonHelper()"
   ]
  },
  {
   "cell_type": "code",
   "execution_count": null,
   "metadata": {},
   "outputs": [],
   "source": [
    "eikon_helper.extract()"
   ]
  }
 ],
 "metadata": {
  "kernelspec": {
   "display_name": "py-env",
   "language": "python",
   "name": "python3"
  },
  "language_info": {
   "codemirror_mode": {
    "name": "ipython",
    "version": 3
   },
   "file_extension": ".py",
   "mimetype": "text/x-python",
   "name": "python",
   "nbconvert_exporter": "python",
   "pygments_lexer": "ipython3",
   "version": "3.11.5"
  },
  "orig_nbformat": 4,
  "vscode": {
   "interpreter": {
    "hash": "a330fbe387d48c67019ed9851c3eb41930b6158e9cc9a5581d811641708c01f8"
   }
  }
 },
 "nbformat": 4,
 "nbformat_minor": 2
}
