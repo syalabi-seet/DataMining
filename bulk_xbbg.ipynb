{
 "cells": [
  {
   "cell_type": "code",
   "execution_count": null,
   "metadata": {},
   "outputs": [],
   "source": [
    "!pip install -r requirements.txt"
   ]
  },
  {
   "cell_type": "code",
   "execution_count": 1,
   "metadata": {},
   "outputs": [],
   "source": [
    "from source.bloomberg import BBHelper\n",
    "\n",
    "import pandas as pd\n",
    "from xbbg import blp"
   ]
  },
  {
   "cell_type": "code",
   "execution_count": 3,
   "metadata": {},
   "outputs": [
    {
     "name": "stdout",
     "output_type": "stream",
     "text": [
      "=======================================\n",
      "Region: Asia\n",
      "Cell limit per request: 1000\n",
      "Ticker limit per request: 76\n",
      "Tickers retrieved: 0/3000\n",
      "Batches: 40\n",
      "Time periods: 13\n",
      "=======================================\n"
     ]
    }
   ],
   "source": [
    "bb_helper = BBHelper(\n",
    "    region='Asia',\n",
    "    field='ENERGY_CONSUMPTION', \n",
    "    cell_limit_per_request=1_000,\n",
    "    sleep_duration=60)\n",
    "# bb_helper.extract()"
   ]
  },
  {
   "cell_type": "code",
   "execution_count": 5,
   "metadata": {},
   "outputs": [
    {
     "data": {
      "text/html": [
       "<div>\n",
       "<style scoped>\n",
       "    .dataframe tbody tr th:only-of-type {\n",
       "        vertical-align: middle;\n",
       "    }\n",
       "\n",
       "    .dataframe tbody tr th {\n",
       "        vertical-align: top;\n",
       "    }\n",
       "\n",
       "    .dataframe thead th {\n",
       "        text-align: right;\n",
       "    }\n",
       "</style>\n",
       "<table border=\"1\" class=\"dataframe\">\n",
       "  <thead>\n",
       "    <tr style=\"text-align: right;\">\n",
       "      <th></th>\n",
       "      <th>tic</th>\n",
       "      <th>datadate</th>\n",
       "      <th>GHG_SCOPE_1</th>\n",
       "    </tr>\n",
       "  </thead>\n",
       "  <tbody>\n",
       "    <tr>\n",
       "      <th>29</th>\n",
       "      <td>DUK US Equity</td>\n",
       "      <td>2011-12-31</td>\n",
       "      <td>143835.000</td>\n",
       "    </tr>\n",
       "    <tr>\n",
       "      <th>57</th>\n",
       "      <td>DUK US Equity</td>\n",
       "      <td>2012-12-31</td>\n",
       "      <td>135939.000</td>\n",
       "    </tr>\n",
       "    <tr>\n",
       "      <th>91</th>\n",
       "      <td>DUK US Equity</td>\n",
       "      <td>2013-12-31</td>\n",
       "      <td>124472.000</td>\n",
       "    </tr>\n",
       "    <tr>\n",
       "      <th>119</th>\n",
       "      <td>DUK US Equity</td>\n",
       "      <td>2014-12-31</td>\n",
       "      <td>125893.000</td>\n",
       "    </tr>\n",
       "    <tr>\n",
       "      <th>151</th>\n",
       "      <td>DUK US Equity</td>\n",
       "      <td>2015-12-31</td>\n",
       "      <td>101131.000</td>\n",
       "    </tr>\n",
       "    <tr>\n",
       "      <th>...</th>\n",
       "      <td>...</td>\n",
       "      <td>...</td>\n",
       "      <td>...</td>\n",
       "    </tr>\n",
       "    <tr>\n",
       "      <th>23</th>\n",
       "      <td>J US Equity</td>\n",
       "      <td>2022-10-01</td>\n",
       "      <td>14.754</td>\n",
       "    </tr>\n",
       "    <tr>\n",
       "      <th>10</th>\n",
       "      <td>TEAM US Equity</td>\n",
       "      <td>2019-06-30</td>\n",
       "      <td>0.119</td>\n",
       "    </tr>\n",
       "    <tr>\n",
       "      <th>14</th>\n",
       "      <td>TEAM US Equity</td>\n",
       "      <td>2020-06-30</td>\n",
       "      <td>0.275</td>\n",
       "    </tr>\n",
       "    <tr>\n",
       "      <th>19</th>\n",
       "      <td>TEAM US Equity</td>\n",
       "      <td>2021-06-30</td>\n",
       "      <td>0.041</td>\n",
       "    </tr>\n",
       "    <tr>\n",
       "      <th>22</th>\n",
       "      <td>TEAM US Equity</td>\n",
       "      <td>2022-06-30</td>\n",
       "      <td>0.364</td>\n",
       "    </tr>\n",
       "  </tbody>\n",
       "</table>\n",
       "<p>9291 rows × 3 columns</p>\n",
       "</div>"
      ],
      "text/plain": [
       "                tic    datadate  GHG_SCOPE_1\n",
       "29    DUK US Equity  2011-12-31   143835.000\n",
       "57    DUK US Equity  2012-12-31   135939.000\n",
       "91    DUK US Equity  2013-12-31   124472.000\n",
       "119   DUK US Equity  2014-12-31   125893.000\n",
       "151   DUK US Equity  2015-12-31   101131.000\n",
       "..              ...         ...          ...\n",
       "23      J US Equity  2022-10-01       14.754\n",
       "10   TEAM US Equity  2019-06-30        0.119\n",
       "14   TEAM US Equity  2020-06-30        0.275\n",
       "19   TEAM US Equity  2021-06-30        0.041\n",
       "22   TEAM US Equity  2022-06-30        0.364\n",
       "\n",
       "[9291 rows x 3 columns]"
      ]
     },
     "execution_count": 5,
     "metadata": {},
     "output_type": "execute_result"
    }
   ],
   "source": [
    "df = pd.read_parquet(\"assets\\Bloomberg\\GHG_SCOPE_1\\OTHERS.parquet\")\n",
    "df"
   ]
  },
  {
   "cell_type": "code",
   "execution_count": 4,
   "metadata": {},
   "outputs": [
    {
     "data": {
      "text/plain": [
       "array(['1COV GR Equity', '1U1 GR Equity', '888 LN Equity', ...,\n",
       "       'ZURN SW Equity', 'ZVTG SV Equity', 'ZWC PW Equity'], dtype=object)"
      ]
     },
     "execution_count": 4,
     "metadata": {},
     "output_type": "execute_result"
    }
   ],
   "source": [
    "df['tic'].unique()"
   ]
  },
  {
   "cell_type": "code",
   "execution_count": 3,
   "metadata": {},
   "outputs": [
    {
     "data": {
      "text/html": [
       "<div>\n",
       "<style scoped>\n",
       "    .dataframe tbody tr th:only-of-type {\n",
       "        vertical-align: middle;\n",
       "    }\n",
       "\n",
       "    .dataframe tbody tr th {\n",
       "        vertical-align: top;\n",
       "    }\n",
       "\n",
       "    .dataframe thead th {\n",
       "        text-align: right;\n",
       "    }\n",
       "</style>\n",
       "<table border=\"1\" class=\"dataframe\">\n",
       "  <thead>\n",
       "    <tr style=\"text-align: right;\">\n",
       "      <th></th>\n",
       "    </tr>\n",
       "  </thead>\n",
       "  <tbody>\n",
       "  </tbody>\n",
       "</table>\n",
       "</div>"
      ],
      "text/plain": [
       "Empty DataFrame\n",
       "Columns: []\n",
       "Index: []"
      ]
     },
     "execution_count": 3,
     "metadata": {},
     "output_type": "execute_result"
    }
   ],
   "source": [
    "# tickers = ['DUK US Equity']\n",
    "tickers = ['66 HK Equity']\n",
    "\n",
    "out = blp.bdh(\n",
    "    tickers=tickers, \n",
    "    flds=['GHG_SCOPE_1'],\n",
    "    start_date='2010-01-01',\n",
    "    end_date='2023-01-01',\n",
    "    Per='Y',\n",
    "    Fill=\"NA\")\n",
    "\n",
    "out"
   ]
  }
 ],
 "metadata": {
  "kernelspec": {
   "display_name": "py-env",
   "language": "python",
   "name": "python3"
  },
  "language_info": {
   "codemirror_mode": {
    "name": "ipython",
    "version": 3
   },
   "file_extension": ".py",
   "mimetype": "text/x-python",
   "name": "python",
   "nbconvert_exporter": "python",
   "pygments_lexer": "ipython3",
   "version": "3.8.11"
  },
  "orig_nbformat": 4,
  "vscode": {
   "interpreter": {
    "hash": "a330fbe387d48c67019ed9851c3eb41930b6158e9cc9a5581d811641708c01f8"
   }
  }
 },
 "nbformat": 4,
 "nbformat_minor": 2
}
