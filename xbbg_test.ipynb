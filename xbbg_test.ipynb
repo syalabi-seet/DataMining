{
 "cells": [
  {
   "cell_type": "code",
   "execution_count": 1,
   "metadata": {},
   "outputs": [],
   "source": [
    "import os\n",
    "\n",
    "from xbbg import blp\n",
    "import pandas as pd\n",
    "from glob import glob\n",
    "from tqdm.notebook import tqdm\n",
    "\n",
    "from source.bloomberg import BDH"
   ]
  },
  {
   "attachments": {},
   "cell_type": "markdown",
   "metadata": {},
   "source": [
    "# Get historical"
   ]
  },
  {
   "cell_type": "code",
   "execution_count": 2,
   "metadata": {},
   "outputs": [
    {
     "data": {
      "text/plain": [
       "-----Summary-----\n",
       "region: OTHERS\n",
       "n_remaining_tickers: 1661/1661\n",
       "flds: GHG_SCOPE_2\n",
       "n_flds: 1\n",
       "daily_limit: 12000\n",
       "cells_per_ticker: 12\n",
       "days_remaining: 1.661\n",
       "batch_size: 1000\n",
       "start_date: 2011-01-01\n",
       "end_date: 2023-01-01\n",
       "freq: Y\n",
       "n_periods: 12"
      ]
     },
     "execution_count": 2,
     "metadata": {},
     "output_type": "execute_result"
    }
   ],
   "source": [
    "fn = BDH(\n",
    "    region='OTHERS',\n",
    "    flds='GHG_SCOPE_2',\n",
    "    daily_limit=12000)\n",
    "fn"
   ]
  },
  {
   "cell_type": "code",
   "execution_count": null,
   "metadata": {},
   "outputs": [
    {
     "name": "stderr",
     "output_type": "stream",
     "text": [
      "100%|██████████| 3/3 [00:36<00:00, 12.15s/it]\n"
     ]
    }
   ],
   "source": [
    "fn.fetch()"
   ]
  },
  {
   "cell_type": "code",
   "execution_count": null,
   "metadata": {},
   "outputs": [],
   "source": [
    "# blp.bdh(\n",
    "#     tickers='12 HK Equity',\n",
    "#     flds=['GHG_SCOPE_1'],\n",
    "#     start_date='2011-01-01',\n",
    "#     end_date='2023-01-01',\n",
    "#     Per='Y',\n",
    "#     Fill='NA'\n",
    "# )"
   ]
  },
  {
   "cell_type": "code",
   "execution_count": null,
   "metadata": {},
   "outputs": [],
   "source": [
    "blp.bdp(tickers='12 HK Equity', flds=['GHG_SCOPE_1'])"
   ]
  },
  {
   "cell_type": "code",
   "execution_count": null,
   "metadata": {},
   "outputs": [],
   "source": [
    "not_empty = []\n",
    "for file_name in glob(\"assets/ASIA/*.csv\"):\n",
    "    df = pd.read_csv(file_name)\n",
    "    base_name = os.path.splitext(os.path.basename(file_name))[0]\n",
    "    if not df.empty:\n",
    "        not_empty.append(base_name)\n",
    "\n",
    "len(not_empty)"
   ]
  },
  {
   "attachments": {},
   "cell_type": "markdown",
   "metadata": {},
   "source": [
    "# Manual"
   ]
  },
  {
   "cell_type": "code",
   "execution_count": null,
   "metadata": {},
   "outputs": [],
   "source": [
    "blp.bdh(\n",
    "    tickers='ACN US Equity', \n",
    "    flds=['GHG_SCOPE_1'],\n",
    "    start_date='2011-01-01',\n",
    "    end_date='2023-01-01',\n",
    "    Per='Y')"
   ]
  },
  {
   "cell_type": "code",
   "execution_count": null,
   "metadata": {},
   "outputs": [],
   "source": [
    "blp.bdp(\n",
    "    tickers='ST SP Equity', \n",
    "    flds=['GHG_SCOPE_1', 'GHG_SCOPE_2', 'GHG_SCOPE_3'])"
   ]
  },
  {
   "cell_type": "code",
   "execution_count": null,
   "metadata": {},
   "outputs": [],
   "source": [
    "ticker = 'ST SP Equity'\n",
    "d1 = pd.read_csv('assets/Europe/raw_BDH.csv', header=[0,1], index_col=0)\n",
    "d1 = d1['ST SP Equity'].reset_index().rename(columns={'index': 'datadate'})\n",
    "d1['ticker'] = ticker\n",
    "d1"
   ]
  },
  {
   "cell_type": "code",
   "execution_count": null,
   "metadata": {},
   "outputs": [],
   "source": [
    "d1.to_csv(\"BDH.csv\", index=False)"
   ]
  },
  {
   "cell_type": "code",
   "execution_count": null,
   "metadata": {},
   "outputs": [],
   "source": [
    "d1.groupby(['ticker']).count().query(\"ticker == 'ST SP Equity'\")"
   ]
  },
  {
   "cell_type": "code",
   "execution_count": null,
   "metadata": {},
   "outputs": [],
   "source": [
    "len(d1.query(\"ticker == 'ST SP Equity'\"))"
   ]
  },
  {
   "cell_type": "code",
   "execution_count": null,
   "metadata": {},
   "outputs": [],
   "source": [
    "set(d1['ticker'].unique())"
   ]
  },
  {
   "cell_type": "code",
   "execution_count": null,
   "metadata": {},
   "outputs": [],
   "source": [
    "pd.date_range(start='2010-01-01', end='2020-01-01', freq='Y')"
   ]
  }
 ],
 "metadata": {
  "kernelspec": {
   "display_name": "py-env",
   "language": "python",
   "name": "python3"
  },
  "language_info": {
   "codemirror_mode": {
    "name": "ipython",
    "version": 3
   },
   "file_extension": ".py",
   "mimetype": "text/x-python",
   "name": "python",
   "nbconvert_exporter": "python",
   "pygments_lexer": "ipython3",
   "version": "3.8.11"
  },
  "orig_nbformat": 4,
  "vscode": {
   "interpreter": {
    "hash": "a330fbe387d48c67019ed9851c3eb41930b6158e9cc9a5581d811641708c01f8"
   }
  }
 },
 "nbformat": 4,
 "nbformat_minor": 2
}
